{
 "cells": [
  {
   "cell_type": "code",
   "execution_count": 1,
   "metadata": {},
   "outputs": [],
   "source": [
    "import pandas as pd\n",
    "import numpy as np\n",
    "from datetime import timedelta \n",
    "import matplotlib.pyplot as plt\n",
    "import statsmodels as sm\n",
    "from statsmodels.tsa.holtwinters import ExponentialSmoothing"
   ]
  },
  {
   "cell_type": "code",
   "execution_count": 2,
   "metadata": {},
   "outputs": [],
   "source": [
    "df1 = pd.read_csv('../../data/train_validation_marker.csv')"
   ]
  },
  {
   "cell_type": "code",
   "execution_count": 3,
   "metadata": {},
   "outputs": [],
   "source": [
    "df2 = df1[df1['Encoded_SKU_ID'].isin([27, 28, 65, 83, 203, 223, 240, 288, 308, 418, 439, 451, 478])]"
   ]
  },
  {
   "cell_type": "code",
   "execution_count": 4,
   "metadata": {},
   "outputs": [],
   "source": [
    "df3 = df1[df1['validation_clean'] == True]"
   ]
  },
  {
   "cell_type": "code",
   "execution_count": 5,
   "metadata": {},
   "outputs": [
    {
     "data": {
      "text/html": [
       "<div>\n",
       "<style scoped>\n",
       "    .dataframe tbody tr th:only-of-type {\n",
       "        vertical-align: middle;\n",
       "    }\n",
       "\n",
       "    .dataframe tbody tr th {\n",
       "        vertical-align: top;\n",
       "    }\n",
       "\n",
       "    .dataframe thead th {\n",
       "        text-align: right;\n",
       "    }\n",
       "</style>\n",
       "<table border=\"1\" class=\"dataframe\">\n",
       "  <thead>\n",
       "    <tr style=\"text-align: right;\">\n",
       "      <th></th>\n",
       "      <th>Encoded_SKU_ID</th>\n",
       "      <th>SALES_DATE</th>\n",
       "      <th>SUBCLASS_NAME</th>\n",
       "      <th>CLASS_NAME</th>\n",
       "      <th>ML_NAME</th>\n",
       "      <th>CATEGORY_NAME</th>\n",
       "      <th>RETAIL_PRICE</th>\n",
       "      <th>PROMO_PRICE</th>\n",
       "      <th>COMPETITOR_PRICE</th>\n",
       "      <th>Inventory</th>\n",
       "      <th>DAILY_UNITS</th>\n",
       "      <th>max_SALES_DATE</th>\n",
       "      <th>delta_days</th>\n",
       "      <th>validation</th>\n",
       "      <th>validation_clean</th>\n",
       "    </tr>\n",
       "  </thead>\n",
       "  <tbody>\n",
       "    <tr>\n",
       "      <th>0</th>\n",
       "      <td>1</td>\n",
       "      <td>2017-09-28</td>\n",
       "      <td>MISC CAMERA ACCES</td>\n",
       "      <td>DIGITAL CAMERA ACCY</td>\n",
       "      <td>ML - DI Accessories</td>\n",
       "      <td>VP - Digital Imaging</td>\n",
       "      <td>89.99</td>\n",
       "      <td>?</td>\n",
       "      <td>?</td>\n",
       "      <td>Fully-Stocked</td>\n",
       "      <td>1</td>\n",
       "      <td>2022-07-31</td>\n",
       "      <td>1767</td>\n",
       "      <td>False</td>\n",
       "      <td>True</td>\n",
       "    </tr>\n",
       "    <tr>\n",
       "      <th>1</th>\n",
       "      <td>2</td>\n",
       "      <td>2017-11-24</td>\n",
       "      <td>CAMERA BATTERIES</td>\n",
       "      <td>DIGITAL CAMERA ACCY</td>\n",
       "      <td>ML - DI Accessories</td>\n",
       "      <td>VP - Digital Imaging</td>\n",
       "      <td>39.99</td>\n",
       "      <td>?</td>\n",
       "      <td>?</td>\n",
       "      <td>Fully-Stocked</td>\n",
       "      <td>18</td>\n",
       "      <td>2022-07-31</td>\n",
       "      <td>1710</td>\n",
       "      <td>False</td>\n",
       "      <td>True</td>\n",
       "    </tr>\n",
       "    <tr>\n",
       "      <th>2</th>\n",
       "      <td>3</td>\n",
       "      <td>2019-11-28</td>\n",
       "      <td>SO PARTS</td>\n",
       "      <td>MOBILE ACCESSORIES</td>\n",
       "      <td>ML - Connected Car</td>\n",
       "      <td>VP - Electrify &amp; Car</td>\n",
       "      <td>49.99</td>\n",
       "      <td>?</td>\n",
       "      <td>46.98</td>\n",
       "      <td>Constrained</td>\n",
       "      <td>7</td>\n",
       "      <td>2022-07-31</td>\n",
       "      <td>976</td>\n",
       "      <td>False</td>\n",
       "      <td>True</td>\n",
       "    </tr>\n",
       "    <tr>\n",
       "      <th>4</th>\n",
       "      <td>1</td>\n",
       "      <td>2018-10-27</td>\n",
       "      <td>MISC CAMERA ACCES</td>\n",
       "      <td>DIGITAL CAMERA ACCY</td>\n",
       "      <td>ML - DI Accessories</td>\n",
       "      <td>VP - Digital Imaging</td>\n",
       "      <td>89.99</td>\n",
       "      <td>?</td>\n",
       "      <td>?</td>\n",
       "      <td>Fully-Stocked</td>\n",
       "      <td>7</td>\n",
       "      <td>2022-07-31</td>\n",
       "      <td>1373</td>\n",
       "      <td>False</td>\n",
       "      <td>True</td>\n",
       "    </tr>\n",
       "    <tr>\n",
       "      <th>5</th>\n",
       "      <td>5</td>\n",
       "      <td>2018-12-18</td>\n",
       "      <td>SO CAR ACCESSORIES</td>\n",
       "      <td>MOBILE ACCESSORIES</td>\n",
       "      <td>ML - Connected Car</td>\n",
       "      <td>VP - Electrify &amp; Car</td>\n",
       "      <td>16.99</td>\n",
       "      <td>?</td>\n",
       "      <td>?</td>\n",
       "      <td>Fully-Stocked</td>\n",
       "      <td>5</td>\n",
       "      <td>2022-07-31</td>\n",
       "      <td>1321</td>\n",
       "      <td>False</td>\n",
       "      <td>True</td>\n",
       "    </tr>\n",
       "  </tbody>\n",
       "</table>\n",
       "</div>"
      ],
      "text/plain": [
       "   Encoded_SKU_ID  SALES_DATE       SUBCLASS_NAME           CLASS_NAME  \\\n",
       "0               1  2017-09-28   MISC CAMERA ACCES  DIGITAL CAMERA ACCY   \n",
       "1               2  2017-11-24    CAMERA BATTERIES  DIGITAL CAMERA ACCY   \n",
       "2               3  2019-11-28            SO PARTS   MOBILE ACCESSORIES   \n",
       "4               1  2018-10-27   MISC CAMERA ACCES  DIGITAL CAMERA ACCY   \n",
       "5               5  2018-12-18  SO CAR ACCESSORIES   MOBILE ACCESSORIES   \n",
       "\n",
       "               ML_NAME         CATEGORY_NAME  RETAIL_PRICE PROMO_PRICE  \\\n",
       "0  ML - DI Accessories  VP - Digital Imaging         89.99           ?   \n",
       "1  ML - DI Accessories  VP - Digital Imaging         39.99           ?   \n",
       "2   ML - Connected Car  VP - Electrify & Car         49.99           ?   \n",
       "4  ML - DI Accessories  VP - Digital Imaging         89.99           ?   \n",
       "5   ML - Connected Car  VP - Electrify & Car         16.99           ?   \n",
       "\n",
       "  COMPETITOR_PRICE      Inventory  DAILY_UNITS max_SALES_DATE  delta_days  \\\n",
       "0                ?  Fully-Stocked            1     2022-07-31        1767   \n",
       "1                ?  Fully-Stocked           18     2022-07-31        1710   \n",
       "2            46.98    Constrained            7     2022-07-31         976   \n",
       "4                ?  Fully-Stocked            7     2022-07-31        1373   \n",
       "5                ?  Fully-Stocked            5     2022-07-31        1321   \n",
       "\n",
       "   validation  validation_clean  \n",
       "0       False              True  \n",
       "1       False              True  \n",
       "2       False              True  \n",
       "4       False              True  \n",
       "5       False              True  "
      ]
     },
     "execution_count": 5,
     "metadata": {},
     "output_type": "execute_result"
    }
   ],
   "source": [
    "df3.head()"
   ]
  },
  {
   "cell_type": "code",
   "execution_count": 6,
   "metadata": {},
   "outputs": [
    {
     "data": {
      "text/plain": [
       "545"
      ]
     },
     "execution_count": 6,
     "metadata": {},
     "output_type": "execute_result"
    }
   ],
   "source": [
    "df3.Encoded_SKU_ID.nunique()"
   ]
  },
  {
   "cell_type": "code",
   "execution_count": 7,
   "metadata": {},
   "outputs": [],
   "source": [
    "rst_sku_df = pd.read_excel('../../results/rmse_all_preds_jan_17.xlsx')"
   ]
  },
  {
   "cell_type": "code",
   "execution_count": 8,
   "metadata": {},
   "outputs": [
    {
     "data": {
      "text/plain": [
       "0       82\n",
       "1      568\n",
       "2      317\n",
       "3       95\n",
       "4      340\n",
       "      ... \n",
       "540    558\n",
       "541    559\n",
       "542    560\n",
       "543    566\n",
       "544    571\n",
       "Name: Encoded_SKU_ID, Length: 545, dtype: int64"
      ]
     },
     "execution_count": 8,
     "metadata": {},
     "output_type": "execute_result"
    }
   ],
   "source": [
    "rst_sku_df.Encoded_SKU_ID"
   ]
  },
  {
   "cell_type": "code",
   "execution_count": 9,
   "metadata": {},
   "outputs": [],
   "source": [
    "hw_sku = rst_sku_df[rst_sku_df['min_period']=='rmse_du_holt']"
   ]
  },
  {
   "cell_type": "code",
   "execution_count": 10,
   "metadata": {},
   "outputs": [],
   "source": [
    "sku = list(hw_sku.Encoded_SKU_ID)+[76, 147, 157, 358, 413, 485, 569]"
   ]
  },
  {
   "cell_type": "code",
   "execution_count": 11,
   "metadata": {},
   "outputs": [
    {
     "data": {
      "text/plain": [
       "41"
      ]
     },
     "execution_count": 11,
     "metadata": {},
     "output_type": "execute_result"
    }
   ],
   "source": [
    "len(sku)"
   ]
  },
  {
   "cell_type": "code",
   "execution_count": 12,
   "metadata": {},
   "outputs": [],
   "source": [
    "test = pd.read_excel('../../data/Validation_Data.xlsx')"
   ]
  },
  {
   "cell_type": "code",
   "execution_count": 13,
   "metadata": {},
   "outputs": [
    {
     "data": {
      "text/plain": [
       "539"
      ]
     },
     "execution_count": 13,
     "metadata": {},
     "output_type": "execute_result"
    }
   ],
   "source": [
    "test.Encoded_SKU_ID.nunique()"
   ]
  },
  {
   "cell_type": "code",
   "execution_count": 14,
   "metadata": {},
   "outputs": [
    {
     "data": {
      "text/plain": [
       "{76, 147, 157, 358, 413, 485, 569}"
      ]
     },
     "execution_count": 14,
     "metadata": {},
     "output_type": "execute_result"
    }
   ],
   "source": [
    "set(test.Encoded_SKU_ID) - set(rst_sku_df.Encoded_SKU_ID)"
   ]
  },
  {
   "cell_type": "code",
   "execution_count": 15,
   "metadata": {},
   "outputs": [
    {
     "data": {
      "text/html": [
       "<div>\n",
       "<style scoped>\n",
       "    .dataframe tbody tr th:only-of-type {\n",
       "        vertical-align: middle;\n",
       "    }\n",
       "\n",
       "    .dataframe tbody tr th {\n",
       "        vertical-align: top;\n",
       "    }\n",
       "\n",
       "    .dataframe thead th {\n",
       "        text-align: right;\n",
       "    }\n",
       "</style>\n",
       "<table border=\"1\" class=\"dataframe\">\n",
       "  <thead>\n",
       "    <tr style=\"text-align: right;\">\n",
       "      <th></th>\n",
       "      <th>Encoded_SKU_ID</th>\n",
       "      <th>SALES_DATE</th>\n",
       "      <th>SUBCLASS_NAME</th>\n",
       "      <th>CLASS_NAME</th>\n",
       "      <th>ML_NAME</th>\n",
       "      <th>CATEGORY_NAME</th>\n",
       "      <th>RETAIL_PRICE</th>\n",
       "      <th>PROMO_PRICE</th>\n",
       "      <th>COMPETITOR_PRICE</th>\n",
       "      <th>Inventory</th>\n",
       "      <th>DAILY_UNITS</th>\n",
       "      <th>Forecasted Units</th>\n",
       "    </tr>\n",
       "  </thead>\n",
       "  <tbody>\n",
       "  </tbody>\n",
       "</table>\n",
       "</div>"
      ],
      "text/plain": [
       "Empty DataFrame\n",
       "Columns: [Encoded_SKU_ID, SALES_DATE, SUBCLASS_NAME, CLASS_NAME, ML_NAME, CATEGORY_NAME, RETAIL_PRICE, PROMO_PRICE, COMPETITOR_PRICE, Inventory, DAILY_UNITS, Forecasted Units]\n",
       "Index: []"
      ]
     },
     "execution_count": 15,
     "metadata": {},
     "output_type": "execute_result"
    }
   ],
   "source": [
    "test[test.Encoded_SKU_ID.isin([27, 28, 65, 83, 203, 223, 240, 288, 308, 418, 439, 451, 478])]"
   ]
  },
  {
   "cell_type": "code",
   "execution_count": 16,
   "metadata": {},
   "outputs": [],
   "source": [
    "def fit_es(sku,df1,test,seasonal_periods=62):\n",
    "    y_pred = pd.DataFrame()\n",
    "    y_actual = pd.DataFrame()\n",
    "\n",
    "    for i in sku:\n",
    "        print( i)\n",
    "    # clean train data on item i\n",
    "        train = df1[df1['Encoded_SKU_ID']==i][['Encoded_SKU_ID','SALES_DATE','DAILY_UNITS']]\n",
    "        train['SALES_DATE'] = pd.to_datetime(train['SALES_DATE'])\n",
    "        train.set_index('SALES_DATE', inplace = True)\n",
    "    \n",
    "        val = test[test['Encoded_SKU_ID']==i][['Encoded_SKU_ID','SALES_DATE','DAILY_UNITS']]\n",
    "        val['SALES_DATE'] = pd.to_datetime(val['SALES_DATE'])\n",
    "        val.set_index('SALES_DATE', inplace = True)\n",
    "    \n",
    "    # train the HW model with auto train & make the forecast\n",
    "        model = ExponentialSmoothing(train['DAILY_UNITS'],trend='add',seasonal='add',seasonal_periods=seasonal_periods).fit()\n",
    "        forecast = model.forecast(7)\n",
    "        print(forecast)\n",
    "    \n",
    "    #Construct the predicted dataframe\n",
    "        SALES_DATE = pd.date_range(start='08/01/2022', end='08/07/2022')\n",
    "        prediction = pd.DataFrame(forecast,columns=['predicted']).reset_index(drop=True).set_index(SALES_DATE)\n",
    "        print(prediction.index)\n",
    "        prediction['Encoded_SKU_ID'] = val['Encoded_SKU_ID']\n",
    "        prediction.reset_index(inplace = True)\n",
    "        y_pred = pd.concat([y_pred, prediction], axis = 0)\n",
    "    \n",
    "    #Construct the actual dataframe\n",
    "        val.reset_index(inplace = True)\n",
    "        val.rename(columns={'DAILY_UNITS':'actual'}, inplace = True)\n",
    "        y_actual = pd.concat([y_actual, val], axis = 0)\n",
    "        \n",
    "        \n",
    "    return(y_pred,y_actual)"
   ]
  },
  {
   "cell_type": "code",
   "execution_count": 17,
   "metadata": {},
   "outputs": [
    {
     "name": "stdout",
     "output_type": "stream",
     "text": [
      "365\n"
     ]
    },
    {
     "name": "stderr",
     "output_type": "stream",
     "text": [
      "/Users/yibeihu/opt/anaconda3/envs/bestbuy_project/lib/python3.8/site-packages/statsmodels/tsa/base/tsa_model.py:471: ValueWarning: A date index has been provided, but it has no associated frequency information and so will be ignored when e.g. forecasting.\n",
      "  self._init_dates(dates, freq)\n",
      "/Users/yibeihu/opt/anaconda3/envs/bestbuy_project/lib/python3.8/site-packages/statsmodels/tsa/base/tsa_model.py:471: ValueWarning: A date index has been provided, but it is not monotonic and so will be ignored when e.g. forecasting.\n",
      "  self._init_dates(dates, freq)\n",
      "/Users/yibeihu/opt/anaconda3/envs/bestbuy_project/lib/python3.8/site-packages/statsmodels/tsa/base/tsa_model.py:834: ValueWarning: No supported index is available. Prediction results will be given with an integer index beginning at `start`.\n",
      "  return get_prediction_index(\n",
      "/Users/yibeihu/opt/anaconda3/envs/bestbuy_project/lib/python3.8/site-packages/statsmodels/tsa/base/tsa_model.py:471: ValueWarning: A date index has been provided, but it has no associated frequency information and so will be ignored when e.g. forecasting.\n",
      "  self._init_dates(dates, freq)\n",
      "/Users/yibeihu/opt/anaconda3/envs/bestbuy_project/lib/python3.8/site-packages/statsmodels/tsa/base/tsa_model.py:471: ValueWarning: A date index has been provided, but it is not monotonic and so will be ignored when e.g. forecasting.\n",
      "  self._init_dates(dates, freq)\n"
     ]
    },
    {
     "name": "stdout",
     "output_type": "stream",
     "text": [
      "1218    1.598060\n",
      "1219    1.334868\n",
      "1220    1.755911\n",
      "1221    1.440121\n",
      "1222    1.492759\n",
      "1223    1.387498\n",
      "1224    1.913823\n",
      "dtype: float64\n",
      "DatetimeIndex(['2022-08-01', '2022-08-02', '2022-08-03', '2022-08-04',\n",
      "               '2022-08-05', '2022-08-06', '2022-08-07'],\n",
      "              dtype='datetime64[ns]', freq='D')\n",
      "190\n"
     ]
    },
    {
     "name": "stderr",
     "output_type": "stream",
     "text": [
      "/Users/yibeihu/opt/anaconda3/envs/bestbuy_project/lib/python3.8/site-packages/statsmodels/tsa/base/tsa_model.py:834: ValueWarning: No supported index is available. Prediction results will be given with an integer index beginning at `start`.\n",
      "  return get_prediction_index(\n",
      "/Users/yibeihu/opt/anaconda3/envs/bestbuy_project/lib/python3.8/site-packages/statsmodels/tsa/base/tsa_model.py:471: ValueWarning: A date index has been provided, but it has no associated frequency information and so will be ignored when e.g. forecasting.\n",
      "  self._init_dates(dates, freq)\n",
      "/Users/yibeihu/opt/anaconda3/envs/bestbuy_project/lib/python3.8/site-packages/statsmodels/tsa/base/tsa_model.py:471: ValueWarning: A date index has been provided, but it is not monotonic and so will be ignored when e.g. forecasting.\n",
      "  self._init_dates(dates, freq)\n"
     ]
    },
    {
     "name": "stdout",
     "output_type": "stream",
     "text": [
      "1891    1.670673\n",
      "1892    1.836632\n",
      "1893    2.035384\n",
      "1894    1.537414\n",
      "1895    1.734490\n",
      "1896    1.536760\n",
      "1897    1.701242\n",
      "dtype: float64\n",
      "DatetimeIndex(['2022-08-01', '2022-08-02', '2022-08-03', '2022-08-04',\n",
      "               '2022-08-05', '2022-08-06', '2022-08-07'],\n",
      "              dtype='datetime64[ns]', freq='D')\n",
      "248\n"
     ]
    },
    {
     "name": "stderr",
     "output_type": "stream",
     "text": [
      "/Users/yibeihu/opt/anaconda3/envs/bestbuy_project/lib/python3.8/site-packages/statsmodels/tsa/base/tsa_model.py:834: ValueWarning: No supported index is available. Prediction results will be given with an integer index beginning at `start`.\n",
      "  return get_prediction_index(\n",
      "/Users/yibeihu/opt/anaconda3/envs/bestbuy_project/lib/python3.8/site-packages/statsmodels/tsa/base/tsa_model.py:471: ValueWarning: A date index has been provided, but it has no associated frequency information and so will be ignored when e.g. forecasting.\n",
      "  self._init_dates(dates, freq)\n",
      "/Users/yibeihu/opt/anaconda3/envs/bestbuy_project/lib/python3.8/site-packages/statsmodels/tsa/base/tsa_model.py:471: ValueWarning: A date index has been provided, but it is not monotonic and so will be ignored when e.g. forecasting.\n",
      "  self._init_dates(dates, freq)\n"
     ]
    },
    {
     "name": "stdout",
     "output_type": "stream",
     "text": [
      "1583    0.921218\n",
      "1584    0.920836\n",
      "1585    0.681533\n",
      "1586    0.961192\n",
      "1587    1.040986\n",
      "1588    1.120188\n",
      "1589    1.361430\n",
      "dtype: float64\n",
      "DatetimeIndex(['2022-08-01', '2022-08-02', '2022-08-03', '2022-08-04',\n",
      "               '2022-08-05', '2022-08-06', '2022-08-07'],\n",
      "              dtype='datetime64[ns]', freq='D')\n",
      "561\n",
      "743    1.787424\n",
      "744    2.753420\n",
      "745    3.170985\n",
      "746    3.671247\n",
      "747    3.670138\n",
      "748    3.337550\n",
      "749    4.087037\n",
      "dtype: float64\n",
      "DatetimeIndex(['2022-08-01', '2022-08-02', '2022-08-03', '2022-08-04',\n",
      "               '2022-08-05', '2022-08-06', '2022-08-07'],\n",
      "              dtype='datetime64[ns]', freq='D')\n",
      "404\n"
     ]
    },
    {
     "name": "stderr",
     "output_type": "stream",
     "text": [
      "/Users/yibeihu/opt/anaconda3/envs/bestbuy_project/lib/python3.8/site-packages/statsmodels/tsa/base/tsa_model.py:834: ValueWarning: No supported index is available. Prediction results will be given with an integer index beginning at `start`.\n",
      "  return get_prediction_index(\n",
      "/Users/yibeihu/opt/anaconda3/envs/bestbuy_project/lib/python3.8/site-packages/statsmodels/tsa/base/tsa_model.py:471: ValueWarning: A date index has been provided, but it has no associated frequency information and so will be ignored when e.g. forecasting.\n",
      "  self._init_dates(dates, freq)\n",
      "/Users/yibeihu/opt/anaconda3/envs/bestbuy_project/lib/python3.8/site-packages/statsmodels/tsa/base/tsa_model.py:471: ValueWarning: A date index has been provided, but it is not monotonic and so will be ignored when e.g. forecasting.\n",
      "  self._init_dates(dates, freq)\n",
      "/Users/yibeihu/opt/anaconda3/envs/bestbuy_project/lib/python3.8/site-packages/statsmodels/tsa/base/tsa_model.py:834: ValueWarning: No supported index is available. Prediction results will be given with an integer index beginning at `start`.\n",
      "  return get_prediction_index(\n",
      "/Users/yibeihu/opt/anaconda3/envs/bestbuy_project/lib/python3.8/site-packages/statsmodels/tsa/base/tsa_model.py:471: ValueWarning: A date index has been provided, but it has no associated frequency information and so will be ignored when e.g. forecasting.\n",
      "  self._init_dates(dates, freq)\n",
      "/Users/yibeihu/opt/anaconda3/envs/bestbuy_project/lib/python3.8/site-packages/statsmodels/tsa/base/tsa_model.py:471: ValueWarning: A date index has been provided, but it is not monotonic and so will be ignored when e.g. forecasting.\n",
      "  self._init_dates(dates, freq)\n"
     ]
    },
    {
     "name": "stdout",
     "output_type": "stream",
     "text": [
      "1891    1.838734\n",
      "1892    1.805412\n",
      "1893    2.005422\n",
      "1894    1.838757\n",
      "1895    2.205446\n",
      "1896    1.772076\n",
      "1897    2.438764\n",
      "dtype: float64\n",
      "DatetimeIndex(['2022-08-01', '2022-08-02', '2022-08-03', '2022-08-04',\n",
      "               '2022-08-05', '2022-08-06', '2022-08-07'],\n",
      "              dtype='datetime64[ns]', freq='D')\n",
      "184\n"
     ]
    },
    {
     "name": "stderr",
     "output_type": "stream",
     "text": [
      "/Users/yibeihu/opt/anaconda3/envs/bestbuy_project/lib/python3.8/site-packages/statsmodels/tsa/base/tsa_model.py:834: ValueWarning: No supported index is available. Prediction results will be given with an integer index beginning at `start`.\n",
      "  return get_prediction_index(\n",
      "/Users/yibeihu/opt/anaconda3/envs/bestbuy_project/lib/python3.8/site-packages/statsmodels/tsa/base/tsa_model.py:471: ValueWarning: A date index has been provided, but it has no associated frequency information and so will be ignored when e.g. forecasting.\n",
      "  self._init_dates(dates, freq)\n",
      "/Users/yibeihu/opt/anaconda3/envs/bestbuy_project/lib/python3.8/site-packages/statsmodels/tsa/base/tsa_model.py:471: ValueWarning: A date index has been provided, but it is not monotonic and so will be ignored when e.g. forecasting.\n",
      "  self._init_dates(dates, freq)\n"
     ]
    },
    {
     "name": "stdout",
     "output_type": "stream",
     "text": [
      "1877    2.695783\n",
      "1878    3.295738\n",
      "1879    3.429143\n",
      "1880    3.029103\n",
      "1881    3.229077\n",
      "1882    3.195718\n",
      "1883    2.929118\n",
      "dtype: float64\n",
      "DatetimeIndex(['2022-08-01', '2022-08-02', '2022-08-03', '2022-08-04',\n",
      "               '2022-08-05', '2022-08-06', '2022-08-07'],\n",
      "              dtype='datetime64[ns]', freq='D')\n",
      "105\n"
     ]
    },
    {
     "name": "stderr",
     "output_type": "stream",
     "text": [
      "/Users/yibeihu/opt/anaconda3/envs/bestbuy_project/lib/python3.8/site-packages/statsmodels/tsa/base/tsa_model.py:834: ValueWarning: No supported index is available. Prediction results will be given with an integer index beginning at `start`.\n",
      "  return get_prediction_index(\n",
      "/Users/yibeihu/opt/anaconda3/envs/bestbuy_project/lib/python3.8/site-packages/statsmodels/tsa/base/tsa_model.py:471: ValueWarning: A date index has been provided, but it has no associated frequency information and so will be ignored when e.g. forecasting.\n",
      "  self._init_dates(dates, freq)\n",
      "/Users/yibeihu/opt/anaconda3/envs/bestbuy_project/lib/python3.8/site-packages/statsmodels/tsa/base/tsa_model.py:471: ValueWarning: A date index has been provided, but it is not monotonic and so will be ignored when e.g. forecasting.\n",
      "  self._init_dates(dates, freq)\n"
     ]
    },
    {
     "name": "stdout",
     "output_type": "stream",
     "text": [
      "1164    2.804694\n",
      "1165    1.193055\n",
      "1166    2.082018\n",
      "1167    1.915912\n",
      "1168    1.637652\n",
      "1169    2.359626\n",
      "1170    2.026640\n",
      "dtype: float64\n",
      "DatetimeIndex(['2022-08-01', '2022-08-02', '2022-08-03', '2022-08-04',\n",
      "               '2022-08-05', '2022-08-06', '2022-08-07'],\n",
      "              dtype='datetime64[ns]', freq='D')\n",
      "88\n"
     ]
    },
    {
     "name": "stderr",
     "output_type": "stream",
     "text": [
      "/Users/yibeihu/opt/anaconda3/envs/bestbuy_project/lib/python3.8/site-packages/statsmodels/tsa/base/tsa_model.py:834: ValueWarning: No supported index is available. Prediction results will be given with an integer index beginning at `start`.\n",
      "  return get_prediction_index(\n",
      "/Users/yibeihu/opt/anaconda3/envs/bestbuy_project/lib/python3.8/site-packages/statsmodels/tsa/base/tsa_model.py:471: ValueWarning: A date index has been provided, but it has no associated frequency information and so will be ignored when e.g. forecasting.\n",
      "  self._init_dates(dates, freq)\n",
      "/Users/yibeihu/opt/anaconda3/envs/bestbuy_project/lib/python3.8/site-packages/statsmodels/tsa/base/tsa_model.py:471: ValueWarning: A date index has been provided, but it is not monotonic and so will be ignored when e.g. forecasting.\n",
      "  self._init_dates(dates, freq)\n",
      "/Users/yibeihu/opt/anaconda3/envs/bestbuy_project/lib/python3.8/site-packages/statsmodels/tsa/base/tsa_model.py:834: ValueWarning: No supported index is available. Prediction results will be given with an integer index beginning at `start`.\n",
      "  return get_prediction_index(\n",
      "/Users/yibeihu/opt/anaconda3/envs/bestbuy_project/lib/python3.8/site-packages/statsmodels/tsa/base/tsa_model.py:471: ValueWarning: A date index has been provided, but it has no associated frequency information and so will be ignored when e.g. forecasting.\n",
      "  self._init_dates(dates, freq)\n",
      "/Users/yibeihu/opt/anaconda3/envs/bestbuy_project/lib/python3.8/site-packages/statsmodels/tsa/base/tsa_model.py:471: ValueWarning: A date index has been provided, but it is not monotonic and so will be ignored when e.g. forecasting.\n",
      "  self._init_dates(dates, freq)\n"
     ]
    },
    {
     "name": "stdout",
     "output_type": "stream",
     "text": [
      "1100    1.146975\n",
      "1101    2.147086\n",
      "1102    1.676195\n",
      "1103    1.146954\n",
      "1104    1.264483\n",
      "1105    1.264653\n",
      "1106    1.323148\n",
      "dtype: float64\n",
      "DatetimeIndex(['2022-08-01', '2022-08-02', '2022-08-03', '2022-08-04',\n",
      "               '2022-08-05', '2022-08-06', '2022-08-07'],\n",
      "              dtype='datetime64[ns]', freq='D')\n",
      "521\n",
      "617    1.148592\n",
      "618    1.375613\n",
      "619    1.815780\n",
      "620    1.023050\n",
      "621    1.222468\n",
      "622    1.522117\n",
      "623    0.922859\n",
      "dtype: float64\n",
      "DatetimeIndex(['2022-08-01', '2022-08-02', '2022-08-03', '2022-08-04',\n",
      "               '2022-08-05', '2022-08-06', '2022-08-07'],\n",
      "              dtype='datetime64[ns]', freq='D')\n",
      "29\n"
     ]
    },
    {
     "name": "stderr",
     "output_type": "stream",
     "text": [
      "/Users/yibeihu/opt/anaconda3/envs/bestbuy_project/lib/python3.8/site-packages/statsmodels/tsa/base/tsa_model.py:834: ValueWarning: No supported index is available. Prediction results will be given with an integer index beginning at `start`.\n",
      "  return get_prediction_index(\n",
      "/Users/yibeihu/opt/anaconda3/envs/bestbuy_project/lib/python3.8/site-packages/statsmodels/tsa/base/tsa_model.py:471: ValueWarning: A date index has been provided, but it has no associated frequency information and so will be ignored when e.g. forecasting.\n",
      "  self._init_dates(dates, freq)\n",
      "/Users/yibeihu/opt/anaconda3/envs/bestbuy_project/lib/python3.8/site-packages/statsmodels/tsa/base/tsa_model.py:471: ValueWarning: A date index has been provided, but it is not monotonic and so will be ignored when e.g. forecasting.\n",
      "  self._init_dates(dates, freq)\n"
     ]
    },
    {
     "name": "stdout",
     "output_type": "stream",
     "text": [
      "1807    1.307750\n",
      "1808    0.963061\n",
      "1809    1.445544\n",
      "1810    0.893716\n",
      "1811    1.100288\n",
      "1812    1.791133\n",
      "1813    1.031814\n",
      "dtype: float64\n",
      "DatetimeIndex(['2022-08-01', '2022-08-02', '2022-08-03', '2022-08-04',\n",
      "               '2022-08-05', '2022-08-06', '2022-08-07'],\n",
      "              dtype='datetime64[ns]', freq='D')\n",
      "305\n"
     ]
    },
    {
     "name": "stderr",
     "output_type": "stream",
     "text": [
      "/Users/yibeihu/opt/anaconda3/envs/bestbuy_project/lib/python3.8/site-packages/statsmodels/tsa/base/tsa_model.py:834: ValueWarning: No supported index is available. Prediction results will be given with an integer index beginning at `start`.\n",
      "  return get_prediction_index(\n",
      "/Users/yibeihu/opt/anaconda3/envs/bestbuy_project/lib/python3.8/site-packages/statsmodels/tsa/base/tsa_model.py:471: ValueWarning: A date index has been provided, but it has no associated frequency information and so will be ignored when e.g. forecasting.\n",
      "  self._init_dates(dates, freq)\n",
      "/Users/yibeihu/opt/anaconda3/envs/bestbuy_project/lib/python3.8/site-packages/statsmodels/tsa/base/tsa_model.py:471: ValueWarning: A date index has been provided, but it is not monotonic and so will be ignored when e.g. forecasting.\n",
      "  self._init_dates(dates, freq)\n"
     ]
    },
    {
     "name": "stdout",
     "output_type": "stream",
     "text": [
      "1891    2.316568\n",
      "1892    2.346098\n",
      "1893    2.452270\n",
      "1894    2.526089\n",
      "1895    2.250764\n",
      "1896    2.282854\n",
      "1897    2.394509\n",
      "dtype: float64\n",
      "DatetimeIndex(['2022-08-01', '2022-08-02', '2022-08-03', '2022-08-04',\n",
      "               '2022-08-05', '2022-08-06', '2022-08-07'],\n",
      "              dtype='datetime64[ns]', freq='D')\n",
      "171\n"
     ]
    },
    {
     "name": "stderr",
     "output_type": "stream",
     "text": [
      "/Users/yibeihu/opt/anaconda3/envs/bestbuy_project/lib/python3.8/site-packages/statsmodels/tsa/base/tsa_model.py:834: ValueWarning: No supported index is available. Prediction results will be given with an integer index beginning at `start`.\n",
      "  return get_prediction_index(\n",
      "/Users/yibeihu/opt/anaconda3/envs/bestbuy_project/lib/python3.8/site-packages/statsmodels/tsa/base/tsa_model.py:471: ValueWarning: A date index has been provided, but it has no associated frequency information and so will be ignored when e.g. forecasting.\n",
      "  self._init_dates(dates, freq)\n",
      "/Users/yibeihu/opt/anaconda3/envs/bestbuy_project/lib/python3.8/site-packages/statsmodels/tsa/base/tsa_model.py:471: ValueWarning: A date index has been provided, but it is not monotonic and so will be ignored when e.g. forecasting.\n",
      "  self._init_dates(dates, freq)\n"
     ]
    },
    {
     "name": "stdout",
     "output_type": "stream",
     "text": [
      "1870    1.255827\n",
      "1871    1.122503\n",
      "1872    0.989091\n",
      "1873    1.155815\n",
      "1874    1.522516\n",
      "1875    1.622511\n",
      "1876    1.222514\n",
      "dtype: float64\n",
      "DatetimeIndex(['2022-08-01', '2022-08-02', '2022-08-03', '2022-08-04',\n",
      "               '2022-08-05', '2022-08-06', '2022-08-07'],\n",
      "              dtype='datetime64[ns]', freq='D')\n",
      "477\n"
     ]
    },
    {
     "name": "stderr",
     "output_type": "stream",
     "text": [
      "/Users/yibeihu/opt/anaconda3/envs/bestbuy_project/lib/python3.8/site-packages/statsmodels/tsa/base/tsa_model.py:834: ValueWarning: No supported index is available. Prediction results will be given with an integer index beginning at `start`.\n",
      "  return get_prediction_index(\n",
      "/Users/yibeihu/opt/anaconda3/envs/bestbuy_project/lib/python3.8/site-packages/statsmodels/tsa/base/tsa_model.py:471: ValueWarning: A date index has been provided, but it has no associated frequency information and so will be ignored when e.g. forecasting.\n",
      "  self._init_dates(dates, freq)\n",
      "/Users/yibeihu/opt/anaconda3/envs/bestbuy_project/lib/python3.8/site-packages/statsmodels/tsa/base/tsa_model.py:471: ValueWarning: A date index has been provided, but it is not monotonic and so will be ignored when e.g. forecasting.\n",
      "  self._init_dates(dates, freq)\n"
     ]
    },
    {
     "name": "stdout",
     "output_type": "stream",
     "text": [
      "1732    0.891051\n",
      "1733    0.757032\n",
      "1734    0.923404\n",
      "1735    0.393408\n",
      "1736    0.795468\n",
      "1737    0.898895\n",
      "1738    0.858539\n",
      "dtype: float64\n",
      "DatetimeIndex(['2022-08-01', '2022-08-02', '2022-08-03', '2022-08-04',\n",
      "               '2022-08-05', '2022-08-06', '2022-08-07'],\n",
      "              dtype='datetime64[ns]', freq='D')\n",
      "167\n"
     ]
    },
    {
     "name": "stderr",
     "output_type": "stream",
     "text": [
      "/Users/yibeihu/opt/anaconda3/envs/bestbuy_project/lib/python3.8/site-packages/statsmodels/tsa/base/tsa_model.py:834: ValueWarning: No supported index is available. Prediction results will be given with an integer index beginning at `start`.\n",
      "  return get_prediction_index(\n",
      "/Users/yibeihu/opt/anaconda3/envs/bestbuy_project/lib/python3.8/site-packages/statsmodels/tsa/base/tsa_model.py:471: ValueWarning: A date index has been provided, but it has no associated frequency information and so will be ignored when e.g. forecasting.\n",
      "  self._init_dates(dates, freq)\n",
      "/Users/yibeihu/opt/anaconda3/envs/bestbuy_project/lib/python3.8/site-packages/statsmodels/tsa/base/tsa_model.py:471: ValueWarning: A date index has been provided, but it is not monotonic and so will be ignored when e.g. forecasting.\n",
      "  self._init_dates(dates, freq)\n"
     ]
    },
    {
     "name": "stdout",
     "output_type": "stream",
     "text": [
      "1345    1.007964\n",
      "1346    0.722371\n",
      "1347    0.627187\n",
      "1348    0.627117\n",
      "1349    0.722371\n",
      "1350    0.341479\n",
      "1351    0.960468\n",
      "dtype: float64\n",
      "DatetimeIndex(['2022-08-01', '2022-08-02', '2022-08-03', '2022-08-04',\n",
      "               '2022-08-05', '2022-08-06', '2022-08-07'],\n",
      "              dtype='datetime64[ns]', freq='D')\n",
      "363\n"
     ]
    },
    {
     "name": "stderr",
     "output_type": "stream",
     "text": [
      "/Users/yibeihu/opt/anaconda3/envs/bestbuy_project/lib/python3.8/site-packages/statsmodels/tsa/base/tsa_model.py:834: ValueWarning: No supported index is available. Prediction results will be given with an integer index beginning at `start`.\n",
      "  return get_prediction_index(\n",
      "/Users/yibeihu/opt/anaconda3/envs/bestbuy_project/lib/python3.8/site-packages/statsmodels/tsa/base/tsa_model.py:471: ValueWarning: A date index has been provided, but it has no associated frequency information and so will be ignored when e.g. forecasting.\n",
      "  self._init_dates(dates, freq)\n",
      "/Users/yibeihu/opt/anaconda3/envs/bestbuy_project/lib/python3.8/site-packages/statsmodels/tsa/base/tsa_model.py:471: ValueWarning: A date index has been provided, but it is not monotonic and so will be ignored when e.g. forecasting.\n",
      "  self._init_dates(dates, freq)\n"
     ]
    },
    {
     "name": "stdout",
     "output_type": "stream",
     "text": [
      "1891    1.477620\n",
      "1892    1.111007\n",
      "1893    1.177560\n",
      "1894    1.310965\n",
      "1895    0.944248\n",
      "1896    1.844286\n",
      "1897    1.444265\n",
      "dtype: float64\n",
      "DatetimeIndex(['2022-08-01', '2022-08-02', '2022-08-03', '2022-08-04',\n",
      "               '2022-08-05', '2022-08-06', '2022-08-07'],\n",
      "              dtype='datetime64[ns]', freq='D')\n",
      "153\n"
     ]
    },
    {
     "name": "stderr",
     "output_type": "stream",
     "text": [
      "/Users/yibeihu/opt/anaconda3/envs/bestbuy_project/lib/python3.8/site-packages/statsmodels/tsa/base/tsa_model.py:834: ValueWarning: No supported index is available. Prediction results will be given with an integer index beginning at `start`.\n",
      "  return get_prediction_index(\n",
      "/Users/yibeihu/opt/anaconda3/envs/bestbuy_project/lib/python3.8/site-packages/statsmodels/tsa/base/tsa_model.py:471: ValueWarning: A date index has been provided, but it has no associated frequency information and so will be ignored when e.g. forecasting.\n",
      "  self._init_dates(dates, freq)\n",
      "/Users/yibeihu/opt/anaconda3/envs/bestbuy_project/lib/python3.8/site-packages/statsmodels/tsa/base/tsa_model.py:471: ValueWarning: A date index has been provided, but it is not monotonic and so will be ignored when e.g. forecasting.\n",
      "  self._init_dates(dates, freq)\n"
     ]
    },
    {
     "name": "stdout",
     "output_type": "stream",
     "text": [
      "1415    0.876851\n",
      "1416    1.012933\n",
      "1417    0.788120\n",
      "1418    1.287002\n",
      "1419    1.376748\n",
      "1420    2.785966\n",
      "1421    1.060629\n",
      "dtype: float64\n",
      "DatetimeIndex(['2022-08-01', '2022-08-02', '2022-08-03', '2022-08-04',\n",
      "               '2022-08-05', '2022-08-06', '2022-08-07'],\n",
      "              dtype='datetime64[ns]', freq='D')\n",
      "302\n"
     ]
    },
    {
     "name": "stderr",
     "output_type": "stream",
     "text": [
      "/Users/yibeihu/opt/anaconda3/envs/bestbuy_project/lib/python3.8/site-packages/statsmodels/tsa/base/tsa_model.py:834: ValueWarning: No supported index is available. Prediction results will be given with an integer index beginning at `start`.\n",
      "  return get_prediction_index(\n",
      "/Users/yibeihu/opt/anaconda3/envs/bestbuy_project/lib/python3.8/site-packages/statsmodels/tsa/base/tsa_model.py:471: ValueWarning: A date index has been provided, but it has no associated frequency information and so will be ignored when e.g. forecasting.\n",
      "  self._init_dates(dates, freq)\n",
      "/Users/yibeihu/opt/anaconda3/envs/bestbuy_project/lib/python3.8/site-packages/statsmodels/tsa/base/tsa_model.py:471: ValueWarning: A date index has been provided, but it is not monotonic and so will be ignored when e.g. forecasting.\n",
      "  self._init_dates(dates, freq)\n"
     ]
    },
    {
     "name": "stdout",
     "output_type": "stream",
     "text": [
      "1884    1.274640\n",
      "1885    1.274657\n",
      "1886    1.408101\n",
      "1887    1.374568\n",
      "1888    1.008016\n",
      "1889    1.107886\n",
      "1890    1.307963\n",
      "dtype: float64\n",
      "DatetimeIndex(['2022-08-01', '2022-08-02', '2022-08-03', '2022-08-04',\n",
      "               '2022-08-05', '2022-08-06', '2022-08-07'],\n",
      "              dtype='datetime64[ns]', freq='D')\n",
      "501\n"
     ]
    },
    {
     "name": "stderr",
     "output_type": "stream",
     "text": [
      "/Users/yibeihu/opt/anaconda3/envs/bestbuy_project/lib/python3.8/site-packages/statsmodels/tsa/base/tsa_model.py:834: ValueWarning: No supported index is available. Prediction results will be given with an integer index beginning at `start`.\n",
      "  return get_prediction_index(\n",
      "/Users/yibeihu/opt/anaconda3/envs/bestbuy_project/lib/python3.8/site-packages/statsmodels/tsa/base/tsa_model.py:471: ValueWarning: A date index has been provided, but it has no associated frequency information and so will be ignored when e.g. forecasting.\n",
      "  self._init_dates(dates, freq)\n",
      "/Users/yibeihu/opt/anaconda3/envs/bestbuy_project/lib/python3.8/site-packages/statsmodels/tsa/base/tsa_model.py:471: ValueWarning: A date index has been provided, but it is not monotonic and so will be ignored when e.g. forecasting.\n",
      "  self._init_dates(dates, freq)\n"
     ]
    },
    {
     "name": "stdout",
     "output_type": "stream",
     "text": [
      "1576    1.879288\n",
      "1577    2.359549\n",
      "1578    1.639401\n",
      "1579    1.918872\n",
      "1580    2.399188\n",
      "1581    2.719424\n",
      "1582    1.559593\n",
      "dtype: float64\n",
      "DatetimeIndex(['2022-08-01', '2022-08-02', '2022-08-03', '2022-08-04',\n",
      "               '2022-08-05', '2022-08-06', '2022-08-07'],\n",
      "              dtype='datetime64[ns]', freq='D')\n",
      "337\n"
     ]
    },
    {
     "name": "stderr",
     "output_type": "stream",
     "text": [
      "/Users/yibeihu/opt/anaconda3/envs/bestbuy_project/lib/python3.8/site-packages/statsmodels/tsa/base/tsa_model.py:834: ValueWarning: No supported index is available. Prediction results will be given with an integer index beginning at `start`.\n",
      "  return get_prediction_index(\n",
      "/Users/yibeihu/opt/anaconda3/envs/bestbuy_project/lib/python3.8/site-packages/statsmodels/tsa/base/tsa_model.py:471: ValueWarning: A date index has been provided, but it has no associated frequency information and so will be ignored when e.g. forecasting.\n",
      "  self._init_dates(dates, freq)\n",
      "/Users/yibeihu/opt/anaconda3/envs/bestbuy_project/lib/python3.8/site-packages/statsmodels/tsa/base/tsa_model.py:471: ValueWarning: A date index has been provided, but it is not monotonic and so will be ignored when e.g. forecasting.\n",
      "  self._init_dates(dates, freq)\n"
     ]
    },
    {
     "name": "stdout",
     "output_type": "stream",
     "text": [
      "1772    1.031605\n",
      "1773    0.808363\n",
      "1774    1.060985\n",
      "1775    1.561566\n",
      "1776    1.307324\n",
      "1777    0.845575\n",
      "1778    0.805923\n",
      "dtype: float64\n",
      "DatetimeIndex(['2022-08-01', '2022-08-02', '2022-08-03', '2022-08-04',\n",
      "               '2022-08-05', '2022-08-06', '2022-08-07'],\n",
      "              dtype='datetime64[ns]', freq='D')\n",
      "86\n"
     ]
    },
    {
     "name": "stderr",
     "output_type": "stream",
     "text": [
      "/Users/yibeihu/opt/anaconda3/envs/bestbuy_project/lib/python3.8/site-packages/statsmodels/tsa/base/tsa_model.py:834: ValueWarning: No supported index is available. Prediction results will be given with an integer index beginning at `start`.\n",
      "  return get_prediction_index(\n",
      "/Users/yibeihu/opt/anaconda3/envs/bestbuy_project/lib/python3.8/site-packages/statsmodels/tsa/base/tsa_model.py:471: ValueWarning: A date index has been provided, but it has no associated frequency information and so will be ignored when e.g. forecasting.\n",
      "  self._init_dates(dates, freq)\n",
      "/Users/yibeihu/opt/anaconda3/envs/bestbuy_project/lib/python3.8/site-packages/statsmodels/tsa/base/tsa_model.py:471: ValueWarning: A date index has been provided, but it is not monotonic and so will be ignored when e.g. forecasting.\n",
      "  self._init_dates(dates, freq)\n"
     ]
    },
    {
     "name": "stdout",
     "output_type": "stream",
     "text": [
      "1891    6.842096\n",
      "1892    6.838685\n",
      "1893    8.469386\n",
      "1894    6.909200\n",
      "1895    6.476999\n",
      "1896    7.030486\n",
      "1897    6.409004\n",
      "dtype: float64\n",
      "DatetimeIndex(['2022-08-01', '2022-08-02', '2022-08-03', '2022-08-04',\n",
      "               '2022-08-05', '2022-08-06', '2022-08-07'],\n",
      "              dtype='datetime64[ns]', freq='D')\n",
      "103\n"
     ]
    },
    {
     "name": "stderr",
     "output_type": "stream",
     "text": [
      "/Users/yibeihu/opt/anaconda3/envs/bestbuy_project/lib/python3.8/site-packages/statsmodels/tsa/base/tsa_model.py:834: ValueWarning: No supported index is available. Prediction results will be given with an integer index beginning at `start`.\n",
      "  return get_prediction_index(\n",
      "/Users/yibeihu/opt/anaconda3/envs/bestbuy_project/lib/python3.8/site-packages/statsmodels/tsa/base/tsa_model.py:471: ValueWarning: A date index has been provided, but it has no associated frequency information and so will be ignored when e.g. forecasting.\n",
      "  self._init_dates(dates, freq)\n",
      "/Users/yibeihu/opt/anaconda3/envs/bestbuy_project/lib/python3.8/site-packages/statsmodels/tsa/base/tsa_model.py:471: ValueWarning: A date index has been provided, but it is not monotonic and so will be ignored when e.g. forecasting.\n",
      "  self._init_dates(dates, freq)\n"
     ]
    },
    {
     "name": "stdout",
     "output_type": "stream",
     "text": [
      "1107    5.278870\n",
      "1108    3.159538\n",
      "1109    4.159265\n",
      "1110    5.454336\n",
      "1111    5.748960\n",
      "1112    5.158399\n",
      "1113    3.806362\n",
      "dtype: float64\n",
      "DatetimeIndex(['2022-08-01', '2022-08-02', '2022-08-03', '2022-08-04',\n",
      "               '2022-08-05', '2022-08-06', '2022-08-07'],\n",
      "              dtype='datetime64[ns]', freq='D')\n",
      "134\n"
     ]
    },
    {
     "name": "stderr",
     "output_type": "stream",
     "text": [
      "/Users/yibeihu/opt/anaconda3/envs/bestbuy_project/lib/python3.8/site-packages/statsmodels/tsa/base/tsa_model.py:834: ValueWarning: No supported index is available. Prediction results will be given with an integer index beginning at `start`.\n",
      "  return get_prediction_index(\n",
      "/Users/yibeihu/opt/anaconda3/envs/bestbuy_project/lib/python3.8/site-packages/statsmodels/tsa/base/tsa_model.py:471: ValueWarning: A date index has been provided, but it has no associated frequency information and so will be ignored when e.g. forecasting.\n",
      "  self._init_dates(dates, freq)\n",
      "/Users/yibeihu/opt/anaconda3/envs/bestbuy_project/lib/python3.8/site-packages/statsmodels/tsa/base/tsa_model.py:471: ValueWarning: A date index has been provided, but it is not monotonic and so will be ignored when e.g. forecasting.\n",
      "  self._init_dates(dates, freq)\n"
     ]
    },
    {
     "name": "stdout",
     "output_type": "stream",
     "text": [
      "1583    3.591668\n",
      "1584    3.070786\n",
      "1585    2.910904\n",
      "1586    3.551308\n",
      "1587    3.471545\n",
      "1588    3.191473\n",
      "1589    3.832434\n",
      "dtype: float64\n",
      "DatetimeIndex(['2022-08-01', '2022-08-02', '2022-08-03', '2022-08-04',\n",
      "               '2022-08-05', '2022-08-06', '2022-08-07'],\n",
      "              dtype='datetime64[ns]', freq='D')\n",
      "141\n",
      "875    3.623664\n",
      "876    4.408321\n",
      "877    3.551273\n",
      "878    5.193818\n",
      "879    3.836063\n",
      "880    3.193813\n",
      "881    2.764757\n",
      "dtype: float64\n",
      "DatetimeIndex(['2022-08-01', '2022-08-02', '2022-08-03', '2022-08-04',\n",
      "               '2022-08-05', '2022-08-06', '2022-08-07'],\n",
      "              dtype='datetime64[ns]', freq='D')\n",
      "169\n"
     ]
    },
    {
     "name": "stderr",
     "output_type": "stream",
     "text": [
      "/Users/yibeihu/opt/anaconda3/envs/bestbuy_project/lib/python3.8/site-packages/statsmodels/tsa/base/tsa_model.py:834: ValueWarning: No supported index is available. Prediction results will be given with an integer index beginning at `start`.\n",
      "  return get_prediction_index(\n",
      "/Users/yibeihu/opt/anaconda3/envs/bestbuy_project/lib/python3.8/site-packages/statsmodels/tsa/base/tsa_model.py:471: ValueWarning: A date index has been provided, but it has no associated frequency information and so will be ignored when e.g. forecasting.\n",
      "  self._init_dates(dates, freq)\n",
      "/Users/yibeihu/opt/anaconda3/envs/bestbuy_project/lib/python3.8/site-packages/statsmodels/tsa/base/tsa_model.py:471: ValueWarning: A date index has been provided, but it is not monotonic and so will be ignored when e.g. forecasting.\n",
      "  self._init_dates(dates, freq)\n",
      "/Users/yibeihu/opt/anaconda3/envs/bestbuy_project/lib/python3.8/site-packages/statsmodels/tsa/base/tsa_model.py:834: ValueWarning: No supported index is available. Prediction results will be given with an integer index beginning at `start`.\n",
      "  return get_prediction_index(\n",
      "/Users/yibeihu/opt/anaconda3/envs/bestbuy_project/lib/python3.8/site-packages/statsmodels/tsa/base/tsa_model.py:471: ValueWarning: A date index has been provided, but it has no associated frequency information and so will be ignored when e.g. forecasting.\n",
      "  self._init_dates(dates, freq)\n",
      "/Users/yibeihu/opt/anaconda3/envs/bestbuy_project/lib/python3.8/site-packages/statsmodels/tsa/base/tsa_model.py:471: ValueWarning: A date index has been provided, but it is not monotonic and so will be ignored when e.g. forecasting.\n",
      "  self._init_dates(dates, freq)\n"
     ]
    },
    {
     "name": "stdout",
     "output_type": "stream",
     "text": [
      "743     2.175213\n",
      "744     2.480245\n",
      "745     3.007183\n",
      "746     7.385319\n",
      "747    10.381449\n",
      "748     2.245075\n",
      "749     9.408826\n",
      "dtype: float64\n",
      "DatetimeIndex(['2022-08-01', '2022-08-02', '2022-08-03', '2022-08-04',\n",
      "               '2022-08-05', '2022-08-06', '2022-08-07'],\n",
      "              dtype='datetime64[ns]', freq='D')\n",
      "178\n"
     ]
    },
    {
     "name": "stderr",
     "output_type": "stream",
     "text": [
      "/Users/yibeihu/opt/anaconda3/envs/bestbuy_project/lib/python3.8/site-packages/statsmodels/tsa/base/tsa_model.py:834: ValueWarning: No supported index is available. Prediction results will be given with an integer index beginning at `start`.\n",
      "  return get_prediction_index(\n",
      "/Users/yibeihu/opt/anaconda3/envs/bestbuy_project/lib/python3.8/site-packages/statsmodels/tsa/base/tsa_model.py:471: ValueWarning: A date index has been provided, but it has no associated frequency information and so will be ignored when e.g. forecasting.\n",
      "  self._init_dates(dates, freq)\n",
      "/Users/yibeihu/opt/anaconda3/envs/bestbuy_project/lib/python3.8/site-packages/statsmodels/tsa/base/tsa_model.py:471: ValueWarning: A date index has been provided, but it is not monotonic and so will be ignored when e.g. forecasting.\n",
      "  self._init_dates(dates, freq)\n"
     ]
    },
    {
     "name": "stdout",
     "output_type": "stream",
     "text": [
      "1891    1.747787\n",
      "1892    1.613808\n",
      "1893    1.881948\n",
      "1894    2.045805\n",
      "1895    2.048181\n",
      "1896    2.046326\n",
      "1897    1.915215\n",
      "dtype: float64\n",
      "DatetimeIndex(['2022-08-01', '2022-08-02', '2022-08-03', '2022-08-04',\n",
      "               '2022-08-05', '2022-08-06', '2022-08-07'],\n",
      "              dtype='datetime64[ns]', freq='D')\n",
      "208\n"
     ]
    },
    {
     "name": "stderr",
     "output_type": "stream",
     "text": [
      "/Users/yibeihu/opt/anaconda3/envs/bestbuy_project/lib/python3.8/site-packages/statsmodels/tsa/base/tsa_model.py:834: ValueWarning: No supported index is available. Prediction results will be given with an integer index beginning at `start`.\n",
      "  return get_prediction_index(\n",
      "/Users/yibeihu/opt/anaconda3/envs/bestbuy_project/lib/python3.8/site-packages/statsmodels/tsa/base/tsa_model.py:471: ValueWarning: A date index has been provided, but it has no associated frequency information and so will be ignored when e.g. forecasting.\n",
      "  self._init_dates(dates, freq)\n",
      "/Users/yibeihu/opt/anaconda3/envs/bestbuy_project/lib/python3.8/site-packages/statsmodels/tsa/base/tsa_model.py:471: ValueWarning: A date index has been provided, but it is not monotonic and so will be ignored when e.g. forecasting.\n",
      "  self._init_dates(dates, freq)\n"
     ]
    },
    {
     "name": "stdout",
     "output_type": "stream",
     "text": [
      "1051    4.799078\n",
      "1052    5.721599\n",
      "1053    5.701235\n",
      "1054    6.282305\n",
      "1055    5.748008\n",
      "1056    6.587899\n",
      "1057    5.513175\n",
      "dtype: float64\n",
      "DatetimeIndex(['2022-08-01', '2022-08-02', '2022-08-03', '2022-08-04',\n",
      "               '2022-08-05', '2022-08-06', '2022-08-07'],\n",
      "              dtype='datetime64[ns]', freq='D')\n",
      "231\n"
     ]
    },
    {
     "name": "stderr",
     "output_type": "stream",
     "text": [
      "/Users/yibeihu/opt/anaconda3/envs/bestbuy_project/lib/python3.8/site-packages/statsmodels/tsa/base/tsa_model.py:834: ValueWarning: No supported index is available. Prediction results will be given with an integer index beginning at `start`.\n",
      "  return get_prediction_index(\n",
      "/Users/yibeihu/opt/anaconda3/envs/bestbuy_project/lib/python3.8/site-packages/statsmodels/tsa/base/tsa_model.py:471: ValueWarning: A date index has been provided, but it has no associated frequency information and so will be ignored when e.g. forecasting.\n",
      "  self._init_dates(dates, freq)\n",
      "/Users/yibeihu/opt/anaconda3/envs/bestbuy_project/lib/python3.8/site-packages/statsmodels/tsa/base/tsa_model.py:471: ValueWarning: A date index has been provided, but it is not monotonic and so will be ignored when e.g. forecasting.\n",
      "  self._init_dates(dates, freq)\n"
     ]
    },
    {
     "name": "stdout",
     "output_type": "stream",
     "text": [
      "1296    2.916582\n",
      "1297    3.516803\n",
      "1298    3.916075\n",
      "1299    3.416428\n",
      "1300    3.416122\n",
      "1301    3.216455\n",
      "1302    3.080077\n",
      "dtype: float64\n",
      "DatetimeIndex(['2022-08-01', '2022-08-02', '2022-08-03', '2022-08-04',\n",
      "               '2022-08-05', '2022-08-06', '2022-08-07'],\n",
      "              dtype='datetime64[ns]', freq='D')\n",
      "286\n"
     ]
    },
    {
     "name": "stderr",
     "output_type": "stream",
     "text": [
      "/Users/yibeihu/opt/anaconda3/envs/bestbuy_project/lib/python3.8/site-packages/statsmodels/tsa/base/tsa_model.py:834: ValueWarning: No supported index is available. Prediction results will be given with an integer index beginning at `start`.\n",
      "  return get_prediction_index(\n",
      "/Users/yibeihu/opt/anaconda3/envs/bestbuy_project/lib/python3.8/site-packages/statsmodels/tsa/base/tsa_model.py:471: ValueWarning: A date index has been provided, but it has no associated frequency information and so will be ignored when e.g. forecasting.\n",
      "  self._init_dates(dates, freq)\n",
      "/Users/yibeihu/opt/anaconda3/envs/bestbuy_project/lib/python3.8/site-packages/statsmodels/tsa/base/tsa_model.py:471: ValueWarning: A date index has been provided, but it is not monotonic and so will be ignored when e.g. forecasting.\n",
      "  self._init_dates(dates, freq)\n",
      "/Users/yibeihu/opt/anaconda3/envs/bestbuy_project/lib/python3.8/site-packages/statsmodels/tsa/base/tsa_model.py:834: ValueWarning: No supported index is available. Prediction results will be given with an integer index beginning at `start`.\n",
      "  return get_prediction_index(\n"
     ]
    },
    {
     "name": "stdout",
     "output_type": "stream",
     "text": [
      "1743    3.405282\n",
      "1744    4.184944\n",
      "1745    6.228975\n",
      "1746    3.347936\n",
      "1747    5.511035\n",
      "1748    5.361270\n",
      "1749    4.765237\n",
      "dtype: float64\n",
      "DatetimeIndex(['2022-08-01', '2022-08-02', '2022-08-03', '2022-08-04',\n",
      "               '2022-08-05', '2022-08-06', '2022-08-07'],\n",
      "              dtype='datetime64[ns]', freq='D')\n",
      "431\n",
      "750    2.050571\n",
      "751    2.133508\n",
      "752    1.551185\n",
      "753    1.802120\n",
      "754    2.468883\n",
      "755    2.051926\n",
      "756    3.802440\n",
      "dtype: float64\n",
      "DatetimeIndex(['2022-08-01', '2022-08-02', '2022-08-03', '2022-08-04',\n",
      "               '2022-08-05', '2022-08-06', '2022-08-07'],\n",
      "              dtype='datetime64[ns]', freq='D')\n",
      "462\n"
     ]
    },
    {
     "name": "stderr",
     "output_type": "stream",
     "text": [
      "/Users/yibeihu/opt/anaconda3/envs/bestbuy_project/lib/python3.8/site-packages/statsmodels/tsa/base/tsa_model.py:471: ValueWarning: A date index has been provided, but it has no associated frequency information and so will be ignored when e.g. forecasting.\n",
      "  self._init_dates(dates, freq)\n",
      "/Users/yibeihu/opt/anaconda3/envs/bestbuy_project/lib/python3.8/site-packages/statsmodels/tsa/base/tsa_model.py:471: ValueWarning: A date index has been provided, but it is not monotonic and so will be ignored when e.g. forecasting.\n",
      "  self._init_dates(dates, freq)\n",
      "/Users/yibeihu/opt/anaconda3/envs/bestbuy_project/lib/python3.8/site-packages/statsmodels/tsa/base/tsa_model.py:834: ValueWarning: No supported index is available. Prediction results will be given with an integer index beginning at `start`.\n",
      "  return get_prediction_index(\n",
      "/Users/yibeihu/opt/anaconda3/envs/bestbuy_project/lib/python3.8/site-packages/statsmodels/tsa/base/tsa_model.py:471: ValueWarning: A date index has been provided, but it has no associated frequency information and so will be ignored when e.g. forecasting.\n",
      "  self._init_dates(dates, freq)\n",
      "/Users/yibeihu/opt/anaconda3/envs/bestbuy_project/lib/python3.8/site-packages/statsmodels/tsa/base/tsa_model.py:471: ValueWarning: A date index has been provided, but it is not monotonic and so will be ignored when e.g. forecasting.\n",
      "  self._init_dates(dates, freq)\n"
     ]
    },
    {
     "name": "stdout",
     "output_type": "stream",
     "text": [
      "638    1.866272\n",
      "639    1.367916\n",
      "640    1.668874\n",
      "641    1.368898\n",
      "642    2.067675\n",
      "643    1.667549\n",
      "644    1.966611\n",
      "dtype: float64\n",
      "DatetimeIndex(['2022-08-01', '2022-08-02', '2022-08-03', '2022-08-04',\n",
      "               '2022-08-05', '2022-08-06', '2022-08-07'],\n",
      "              dtype='datetime64[ns]', freq='D')\n",
      "508\n"
     ]
    },
    {
     "name": "stderr",
     "output_type": "stream",
     "text": [
      "/Users/yibeihu/opt/anaconda3/envs/bestbuy_project/lib/python3.8/site-packages/statsmodels/tsa/base/tsa_model.py:834: ValueWarning: No supported index is available. Prediction results will be given with an integer index beginning at `start`.\n",
      "  return get_prediction_index(\n",
      "/Users/yibeihu/opt/anaconda3/envs/bestbuy_project/lib/python3.8/site-packages/statsmodels/tsa/base/tsa_model.py:471: ValueWarning: A date index has been provided, but it has no associated frequency information and so will be ignored when e.g. forecasting.\n",
      "  self._init_dates(dates, freq)\n",
      "/Users/yibeihu/opt/anaconda3/envs/bestbuy_project/lib/python3.8/site-packages/statsmodels/tsa/base/tsa_model.py:471: ValueWarning: A date index has been provided, but it is not monotonic and so will be ignored when e.g. forecasting.\n",
      "  self._init_dates(dates, freq)\n"
     ]
    },
    {
     "name": "stdout",
     "output_type": "stream",
     "text": [
      "1338    1.715677\n",
      "1339    1.906866\n",
      "1340    2.333828\n",
      "1341    1.763862\n",
      "1342    1.430353\n",
      "1343    1.001659\n",
      "1344    1.715459\n",
      "dtype: float64\n",
      "DatetimeIndex(['2022-08-01', '2022-08-02', '2022-08-03', '2022-08-04',\n",
      "               '2022-08-05', '2022-08-06', '2022-08-07'],\n",
      "              dtype='datetime64[ns]', freq='D')\n",
      "545\n"
     ]
    },
    {
     "name": "stderr",
     "output_type": "stream",
     "text": [
      "/Users/yibeihu/opt/anaconda3/envs/bestbuy_project/lib/python3.8/site-packages/statsmodels/tsa/base/tsa_model.py:834: ValueWarning: No supported index is available. Prediction results will be given with an integer index beginning at `start`.\n",
      "  return get_prediction_index(\n",
      "/Users/yibeihu/opt/anaconda3/envs/bestbuy_project/lib/python3.8/site-packages/statsmodels/tsa/base/tsa_model.py:471: ValueWarning: A date index has been provided, but it has no associated frequency information and so will be ignored when e.g. forecasting.\n",
      "  self._init_dates(dates, freq)\n",
      "/Users/yibeihu/opt/anaconda3/envs/bestbuy_project/lib/python3.8/site-packages/statsmodels/tsa/base/tsa_model.py:471: ValueWarning: A date index has been provided, but it is not monotonic and so will be ignored when e.g. forecasting.\n",
      "  self._init_dates(dates, freq)\n",
      "/Users/yibeihu/opt/anaconda3/envs/bestbuy_project/lib/python3.8/site-packages/statsmodels/tsa/base/tsa_model.py:834: ValueWarning: No supported index is available. Prediction results will be given with an integer index beginning at `start`.\n",
      "  return get_prediction_index(\n"
     ]
    },
    {
     "name": "stdout",
     "output_type": "stream",
     "text": [
      "925    3.783118\n",
      "926    3.840092\n",
      "927    3.643960\n",
      "928    2.295451\n",
      "929    3.919641\n",
      "930    3.725577\n",
      "931    2.730124\n",
      "dtype: float64\n",
      "DatetimeIndex(['2022-08-01', '2022-08-02', '2022-08-03', '2022-08-04',\n",
      "               '2022-08-05', '2022-08-06', '2022-08-07'],\n",
      "              dtype='datetime64[ns]', freq='D')\n",
      "547\n",
      "834    4.684801\n",
      "835    4.994723\n",
      "836    4.994130\n",
      "837    4.609914\n",
      "838    4.225364\n",
      "839    4.609638\n",
      "840    4.841676\n",
      "dtype: float64\n",
      "DatetimeIndex(['2022-08-01', '2022-08-02', '2022-08-03', '2022-08-04',\n",
      "               '2022-08-05', '2022-08-06', '2022-08-07'],\n",
      "              dtype='datetime64[ns]', freq='D')\n",
      "548\n"
     ]
    },
    {
     "name": "stderr",
     "output_type": "stream",
     "text": [
      "/Users/yibeihu/opt/anaconda3/envs/bestbuy_project/lib/python3.8/site-packages/statsmodels/tsa/base/tsa_model.py:471: ValueWarning: A date index has been provided, but it has no associated frequency information and so will be ignored when e.g. forecasting.\n",
      "  self._init_dates(dates, freq)\n",
      "/Users/yibeihu/opt/anaconda3/envs/bestbuy_project/lib/python3.8/site-packages/statsmodels/tsa/base/tsa_model.py:471: ValueWarning: A date index has been provided, but it is not monotonic and so will be ignored when e.g. forecasting.\n",
      "  self._init_dates(dates, freq)\n",
      "/Users/yibeihu/opt/anaconda3/envs/bestbuy_project/lib/python3.8/site-packages/statsmodels/tsa/base/tsa_model.py:834: ValueWarning: No supported index is available. Prediction results will be given with an integer index beginning at `start`.\n",
      "  return get_prediction_index(\n",
      "/Users/yibeihu/opt/anaconda3/envs/bestbuy_project/lib/python3.8/site-packages/statsmodels/tsa/base/tsa_model.py:471: ValueWarning: A date index has been provided, but it has no associated frequency information and so will be ignored when e.g. forecasting.\n",
      "  self._init_dates(dates, freq)\n",
      "/Users/yibeihu/opt/anaconda3/envs/bestbuy_project/lib/python3.8/site-packages/statsmodels/tsa/base/tsa_model.py:471: ValueWarning: A date index has been provided, but it is not monotonic and so will be ignored when e.g. forecasting.\n",
      "  self._init_dates(dates, freq)\n"
     ]
    },
    {
     "name": "stdout",
     "output_type": "stream",
     "text": [
      "701    11.822576\n",
      "702     8.841014\n",
      "703     7.875915\n",
      "704     9.106444\n",
      "705     6.990426\n",
      "706     7.963520\n",
      "707    11.052209\n",
      "dtype: float64\n",
      "DatetimeIndex(['2022-08-01', '2022-08-02', '2022-08-03', '2022-08-04',\n",
      "               '2022-08-05', '2022-08-06', '2022-08-07'],\n",
      "              dtype='datetime64[ns]', freq='D')\n",
      "76\n"
     ]
    },
    {
     "name": "stderr",
     "output_type": "stream",
     "text": [
      "/Users/yibeihu/opt/anaconda3/envs/bestbuy_project/lib/python3.8/site-packages/statsmodels/tsa/base/tsa_model.py:834: ValueWarning: No supported index is available. Prediction results will be given with an integer index beginning at `start`.\n",
      "  return get_prediction_index(\n",
      "/Users/yibeihu/opt/anaconda3/envs/bestbuy_project/lib/python3.8/site-packages/statsmodels/tsa/base/tsa_model.py:471: ValueWarning: A date index has been provided, but it has no associated frequency information and so will be ignored when e.g. forecasting.\n",
      "  self._init_dates(dates, freq)\n",
      "/Users/yibeihu/opt/anaconda3/envs/bestbuy_project/lib/python3.8/site-packages/statsmodels/tsa/base/tsa_model.py:471: ValueWarning: A date index has been provided, but it is not monotonic and so will be ignored when e.g. forecasting.\n",
      "  self._init_dates(dates, freq)\n"
     ]
    },
    {
     "name": "stdout",
     "output_type": "stream",
     "text": [
      "1863    5.360479\n",
      "1864    5.632306\n",
      "1865    5.672556\n",
      "1866    3.849035\n",
      "1867    5.193965\n",
      "1868    5.249479\n",
      "1869    4.546536\n",
      "dtype: float64\n",
      "DatetimeIndex(['2022-08-01', '2022-08-02', '2022-08-03', '2022-08-04',\n",
      "               '2022-08-05', '2022-08-06', '2022-08-07'],\n",
      "              dtype='datetime64[ns]', freq='D')\n",
      "147\n"
     ]
    },
    {
     "name": "stderr",
     "output_type": "stream",
     "text": [
      "/Users/yibeihu/opt/anaconda3/envs/bestbuy_project/lib/python3.8/site-packages/statsmodels/tsa/base/tsa_model.py:834: ValueWarning: No supported index is available. Prediction results will be given with an integer index beginning at `start`.\n",
      "  return get_prediction_index(\n",
      "/Users/yibeihu/opt/anaconda3/envs/bestbuy_project/lib/python3.8/site-packages/statsmodels/tsa/base/tsa_model.py:471: ValueWarning: A date index has been provided, but it has no associated frequency information and so will be ignored when e.g. forecasting.\n",
      "  self._init_dates(dates, freq)\n",
      "/Users/yibeihu/opt/anaconda3/envs/bestbuy_project/lib/python3.8/site-packages/statsmodels/tsa/base/tsa_model.py:471: ValueWarning: A date index has been provided, but it is not monotonic and so will be ignored when e.g. forecasting.\n",
      "  self._init_dates(dates, freq)\n"
     ]
    },
    {
     "name": "stdout",
     "output_type": "stream",
     "text": [
      "1863    5.219234\n",
      "1864    6.551819\n",
      "1865    6.268386\n",
      "1866    4.325363\n",
      "1867    5.227681\n",
      "1868    5.978395\n",
      "1869    5.193531\n",
      "dtype: float64\n",
      "DatetimeIndex(['2022-08-01', '2022-08-02', '2022-08-03', '2022-08-04',\n",
      "               '2022-08-05', '2022-08-06', '2022-08-07'],\n",
      "              dtype='datetime64[ns]', freq='D')\n",
      "157\n"
     ]
    },
    {
     "name": "stderr",
     "output_type": "stream",
     "text": [
      "/Users/yibeihu/opt/anaconda3/envs/bestbuy_project/lib/python3.8/site-packages/statsmodels/tsa/base/tsa_model.py:834: ValueWarning: No supported index is available. Prediction results will be given with an integer index beginning at `start`.\n",
      "  return get_prediction_index(\n",
      "/Users/yibeihu/opt/anaconda3/envs/bestbuy_project/lib/python3.8/site-packages/statsmodels/tsa/base/tsa_model.py:471: ValueWarning: A date index has been provided, but it has no associated frequency information and so will be ignored when e.g. forecasting.\n",
      "  self._init_dates(dates, freq)\n",
      "/Users/yibeihu/opt/anaconda3/envs/bestbuy_project/lib/python3.8/site-packages/statsmodels/tsa/base/tsa_model.py:471: ValueWarning: A date index has been provided, but it is not monotonic and so will be ignored when e.g. forecasting.\n",
      "  self._init_dates(dates, freq)\n"
     ]
    },
    {
     "name": "stdout",
     "output_type": "stream",
     "text": [
      "1407    44.140408\n",
      "1408    23.503512\n",
      "1409    82.817743\n",
      "1410    39.309683\n",
      "1411    42.142706\n",
      "1412    35.990261\n",
      "1413    35.958268\n",
      "dtype: float64\n",
      "DatetimeIndex(['2022-08-01', '2022-08-02', '2022-08-03', '2022-08-04',\n",
      "               '2022-08-05', '2022-08-06', '2022-08-07'],\n",
      "              dtype='datetime64[ns]', freq='D')\n",
      "358\n"
     ]
    },
    {
     "name": "stderr",
     "output_type": "stream",
     "text": [
      "/Users/yibeihu/opt/anaconda3/envs/bestbuy_project/lib/python3.8/site-packages/statsmodels/tsa/base/tsa_model.py:834: ValueWarning: No supported index is available. Prediction results will be given with an integer index beginning at `start`.\n",
      "  return get_prediction_index(\n",
      "/Users/yibeihu/opt/anaconda3/envs/bestbuy_project/lib/python3.8/site-packages/statsmodels/tsa/base/tsa_model.py:471: ValueWarning: A date index has been provided, but it has no associated frequency information and so will be ignored when e.g. forecasting.\n",
      "  self._init_dates(dates, freq)\n",
      "/Users/yibeihu/opt/anaconda3/envs/bestbuy_project/lib/python3.8/site-packages/statsmodels/tsa/base/tsa_model.py:471: ValueWarning: A date index has been provided, but it is not monotonic and so will be ignored when e.g. forecasting.\n",
      "  self._init_dates(dates, freq)\n"
     ]
    },
    {
     "name": "stdout",
     "output_type": "stream",
     "text": [
      "1276    16.560530\n",
      "1277    19.797115\n",
      "1278    30.818005\n",
      "1279    13.349868\n",
      "1280    21.696092\n",
      "1281    22.102015\n",
      "1282    18.817382\n",
      "dtype: float64\n",
      "DatetimeIndex(['2022-08-01', '2022-08-02', '2022-08-03', '2022-08-04',\n",
      "               '2022-08-05', '2022-08-06', '2022-08-07'],\n",
      "              dtype='datetime64[ns]', freq='D')\n",
      "413\n"
     ]
    },
    {
     "name": "stderr",
     "output_type": "stream",
     "text": [
      "/Users/yibeihu/opt/anaconda3/envs/bestbuy_project/lib/python3.8/site-packages/statsmodels/tsa/base/tsa_model.py:834: ValueWarning: No supported index is available. Prediction results will be given with an integer index beginning at `start`.\n",
      "  return get_prediction_index(\n",
      "/Users/yibeihu/opt/anaconda3/envs/bestbuy_project/lib/python3.8/site-packages/statsmodels/tsa/base/tsa_model.py:471: ValueWarning: A date index has been provided, but it has no associated frequency information and so will be ignored when e.g. forecasting.\n",
      "  self._init_dates(dates, freq)\n",
      "/Users/yibeihu/opt/anaconda3/envs/bestbuy_project/lib/python3.8/site-packages/statsmodels/tsa/base/tsa_model.py:471: ValueWarning: A date index has been provided, but it is not monotonic and so will be ignored when e.g. forecasting.\n",
      "  self._init_dates(dates, freq)\n",
      "/Users/yibeihu/opt/anaconda3/envs/bestbuy_project/lib/python3.8/site-packages/statsmodels/tsa/base/tsa_model.py:834: ValueWarning: No supported index is available. Prediction results will be given with an integer index beginning at `start`.\n",
      "  return get_prediction_index(\n"
     ]
    },
    {
     "name": "stdout",
     "output_type": "stream",
     "text": [
      "937    3.603303\n",
      "938    3.039835\n",
      "939    3.959853\n",
      "940    5.141440\n",
      "941    4.304999\n",
      "942    3.448650\n",
      "943    2.580019\n",
      "dtype: float64\n",
      "DatetimeIndex(['2022-08-01', '2022-08-02', '2022-08-03', '2022-08-04',\n",
      "               '2022-08-05', '2022-08-06', '2022-08-07'],\n",
      "              dtype='datetime64[ns]', freq='D')\n",
      "485\n",
      "1233    0.908757\n",
      "1234    0.700219\n",
      "1235    0.997280\n",
      "1236    1.447328\n",
      "1237    1.409739\n",
      "1238    1.418128\n",
      "1239    1.678635\n",
      "dtype: float64\n",
      "DatetimeIndex(['2022-08-01', '2022-08-02', '2022-08-03', '2022-08-04',\n",
      "               '2022-08-05', '2022-08-06', '2022-08-07'],\n",
      "              dtype='datetime64[ns]', freq='D')\n",
      "569\n",
      "701    2.883637\n",
      "702    2.065078\n",
      "703    1.519381\n",
      "704    2.246047\n",
      "705    1.791683\n",
      "706    1.430173\n",
      "707    1.793841\n",
      "dtype: float64\n",
      "DatetimeIndex(['2022-08-01', '2022-08-02', '2022-08-03', '2022-08-04',\n",
      "               '2022-08-05', '2022-08-06', '2022-08-07'],\n",
      "              dtype='datetime64[ns]', freq='D')\n"
     ]
    },
    {
     "name": "stderr",
     "output_type": "stream",
     "text": [
      "/Users/yibeihu/opt/anaconda3/envs/bestbuy_project/lib/python3.8/site-packages/statsmodels/tsa/base/tsa_model.py:471: ValueWarning: A date index has been provided, but it has no associated frequency information and so will be ignored when e.g. forecasting.\n",
      "  self._init_dates(dates, freq)\n",
      "/Users/yibeihu/opt/anaconda3/envs/bestbuy_project/lib/python3.8/site-packages/statsmodels/tsa/base/tsa_model.py:471: ValueWarning: A date index has been provided, but it is not monotonic and so will be ignored when e.g. forecasting.\n",
      "  self._init_dates(dates, freq)\n",
      "/Users/yibeihu/opt/anaconda3/envs/bestbuy_project/lib/python3.8/site-packages/statsmodels/tsa/base/tsa_model.py:834: ValueWarning: No supported index is available. Prediction results will be given with an integer index beginning at `start`.\n",
      "  return get_prediction_index(\n"
     ]
    }
   ],
   "source": [
    "holt_rst, holt_actual = fit_es(sku, df1, test)"
   ]
  },
  {
   "cell_type": "code",
   "execution_count": 18,
   "metadata": {},
   "outputs": [],
   "source": [
    "holt_rst.rename({'index':'SALES_DATE'},axis=1, inplace= True)"
   ]
  },
  {
   "cell_type": "code",
   "execution_count": 19,
   "metadata": {},
   "outputs": [
    {
     "data": {
      "text/plain": [
       "(287, 3)"
      ]
     },
     "execution_count": 19,
     "metadata": {},
     "output_type": "execute_result"
    }
   ],
   "source": [
    "holt_rst.shape"
   ]
  },
  {
   "cell_type": "code",
   "execution_count": 34,
   "metadata": {},
   "outputs": [
    {
     "data": {
      "text/plain": [
       "41.0"
      ]
     },
     "execution_count": 34,
     "metadata": {},
     "output_type": "execute_result"
    }
   ],
   "source": [
    "287/7"
   ]
  },
  {
   "cell_type": "code",
   "execution_count": 35,
   "metadata": {},
   "outputs": [],
   "source": [
    "import sys\n",
    "sys.path.append(\"/Users/yibeihu/bestbuy_project/\")\n",
    "from src.utils import *"
   ]
  },
  {
   "cell_type": "code",
   "execution_count": 36,
   "metadata": {},
   "outputs": [
    {
     "data": {
      "text/plain": [
       "8.219827278591737"
      ]
     },
     "execution_count": 36,
     "metadata": {},
     "output_type": "execute_result"
    }
   ],
   "source": [
    "rmse(holt_rst, holt_actual)"
   ]
  },
  {
   "cell_type": "code",
   "execution_count": 37,
   "metadata": {},
   "outputs": [],
   "source": [
    "holt_rst.to_csv('../../results/holt_rst_final_02.csv')"
   ]
  },
  {
   "cell_type": "code",
   "execution_count": 24,
   "metadata": {},
   "outputs": [
    {
     "data": {
      "text/html": [
       "<div>\n",
       "<style scoped>\n",
       "    .dataframe tbody tr th:only-of-type {\n",
       "        vertical-align: middle;\n",
       "    }\n",
       "\n",
       "    .dataframe tbody tr th {\n",
       "        vertical-align: top;\n",
       "    }\n",
       "\n",
       "    .dataframe thead th {\n",
       "        text-align: right;\n",
       "    }\n",
       "</style>\n",
       "<table border=\"1\" class=\"dataframe\">\n",
       "  <thead>\n",
       "    <tr style=\"text-align: right;\">\n",
       "      <th></th>\n",
       "      <th>Encoded_SKU_ID</th>\n",
       "      <th>SALES_DATE</th>\n",
       "      <th>SUBCLASS_NAME</th>\n",
       "      <th>CLASS_NAME</th>\n",
       "      <th>ML_NAME</th>\n",
       "      <th>CATEGORY_NAME</th>\n",
       "      <th>RETAIL_PRICE</th>\n",
       "      <th>PROMO_PRICE</th>\n",
       "      <th>COMPETITOR_PRICE</th>\n",
       "      <th>Inventory</th>\n",
       "      <th>DAILY_UNITS</th>\n",
       "      <th>max_SALES_DATE</th>\n",
       "      <th>delta_days</th>\n",
       "      <th>validation</th>\n",
       "      <th>validation_clean</th>\n",
       "    </tr>\n",
       "  </thead>\n",
       "  <tbody>\n",
       "    <tr>\n",
       "      <th>411277</th>\n",
       "      <td>1</td>\n",
       "      <td>2022-07-31</td>\n",
       "      <td>MISC CAMERA ACCES</td>\n",
       "      <td>DIGITAL CAMERA ACCY</td>\n",
       "      <td>ML - DI Accessories</td>\n",
       "      <td>VP - Digital Imaging</td>\n",
       "      <td>89.99</td>\n",
       "      <td>?</td>\n",
       "      <td>69.95</td>\n",
       "      <td>Fully-Stocked</td>\n",
       "      <td>1</td>\n",
       "      <td>2022-07-31</td>\n",
       "      <td>0</td>\n",
       "      <td>True</td>\n",
       "      <td>True</td>\n",
       "    </tr>\n",
       "  </tbody>\n",
       "</table>\n",
       "</div>"
      ],
      "text/plain": [
       "        Encoded_SKU_ID  SALES_DATE      SUBCLASS_NAME           CLASS_NAME  \\\n",
       "411277               1  2022-07-31  MISC CAMERA ACCES  DIGITAL CAMERA ACCY   \n",
       "\n",
       "                    ML_NAME         CATEGORY_NAME  RETAIL_PRICE PROMO_PRICE  \\\n",
       "411277  ML - DI Accessories  VP - Digital Imaging         89.99           ?   \n",
       "\n",
       "       COMPETITOR_PRICE      Inventory  DAILY_UNITS max_SALES_DATE  \\\n",
       "411277            69.95  Fully-Stocked            1     2022-07-31   \n",
       "\n",
       "        delta_days  validation  validation_clean  \n",
       "411277           0        True              True  "
      ]
     },
     "execution_count": 24,
     "metadata": {},
     "output_type": "execute_result"
    }
   ],
   "source": [
    "df1[(df1['Encoded_SKU_ID']==1) & (df1['SALES_DATE']=='2022-07-31')]"
   ]
  },
  {
   "cell_type": "code",
   "execution_count": 25,
   "metadata": {},
   "outputs": [],
   "source": [
    "y_actual = test[['Encoded_SKU_ID','SALES_DATE', 'DAILY_UNITS']]"
   ]
  },
  {
   "cell_type": "code",
   "execution_count": 26,
   "metadata": {},
   "outputs": [
    {
     "data": {
      "text/plain": [
       "(3773, 3)"
      ]
     },
     "execution_count": 26,
     "metadata": {},
     "output_type": "execute_result"
    }
   ],
   "source": [
    "y_actual.shape"
   ]
  },
  {
   "cell_type": "code",
   "execution_count": 27,
   "metadata": {},
   "outputs": [],
   "source": [
    "forecast = df1[df1['SALES_DATE'] == '2022-07-31'][['Encoded_SKU_ID','SALES_DATE','DAILY_UNITS']]"
   ]
  },
  {
   "cell_type": "code",
   "execution_count": 28,
   "metadata": {},
   "outputs": [
    {
     "data": {
      "text/plain": [
       "(556, 3)"
      ]
     },
     "execution_count": 28,
     "metadata": {},
     "output_type": "execute_result"
    }
   ],
   "source": [
    "forecast.shape"
   ]
  },
  {
   "cell_type": "code",
   "execution_count": 29,
   "metadata": {},
   "outputs": [],
   "source": [
    "y_pred = y_actual.merge(forecast, on=['Encoded_SKU_ID'], how='left')"
   ]
  },
  {
   "cell_type": "code",
   "execution_count": 30,
   "metadata": {},
   "outputs": [
    {
     "data": {
      "text/html": [
       "<div>\n",
       "<style scoped>\n",
       "    .dataframe tbody tr th:only-of-type {\n",
       "        vertical-align: middle;\n",
       "    }\n",
       "\n",
       "    .dataframe tbody tr th {\n",
       "        vertical-align: top;\n",
       "    }\n",
       "\n",
       "    .dataframe thead th {\n",
       "        text-align: right;\n",
       "    }\n",
       "</style>\n",
       "<table border=\"1\" class=\"dataframe\">\n",
       "  <thead>\n",
       "    <tr style=\"text-align: right;\">\n",
       "      <th></th>\n",
       "      <th>Encoded_SKU_ID</th>\n",
       "      <th>SALES_DATE_x</th>\n",
       "      <th>DAILY_UNITS_x</th>\n",
       "      <th>SALES_DATE_y</th>\n",
       "      <th>DAILY_UNITS_y</th>\n",
       "    </tr>\n",
       "  </thead>\n",
       "  <tbody>\n",
       "    <tr>\n",
       "      <th>0</th>\n",
       "      <td>23</td>\n",
       "      <td>2022-08-06</td>\n",
       "      <td>3</td>\n",
       "      <td>2022-07-31</td>\n",
       "      <td>1</td>\n",
       "    </tr>\n",
       "    <tr>\n",
       "      <th>1</th>\n",
       "      <td>100</td>\n",
       "      <td>2022-08-02</td>\n",
       "      <td>2</td>\n",
       "      <td>2022-07-31</td>\n",
       "      <td>2</td>\n",
       "    </tr>\n",
       "    <tr>\n",
       "      <th>2</th>\n",
       "      <td>121</td>\n",
       "      <td>2022-08-06</td>\n",
       "      <td>6</td>\n",
       "      <td>2022-07-31</td>\n",
       "      <td>0</td>\n",
       "    </tr>\n",
       "    <tr>\n",
       "      <th>3</th>\n",
       "      <td>207</td>\n",
       "      <td>2022-08-03</td>\n",
       "      <td>0</td>\n",
       "      <td>2022-07-31</td>\n",
       "      <td>1</td>\n",
       "    </tr>\n",
       "    <tr>\n",
       "      <th>4</th>\n",
       "      <td>416</td>\n",
       "      <td>2022-08-05</td>\n",
       "      <td>9</td>\n",
       "      <td>2022-07-31</td>\n",
       "      <td>11</td>\n",
       "    </tr>\n",
       "  </tbody>\n",
       "</table>\n",
       "</div>"
      ],
      "text/plain": [
       "   Encoded_SKU_ID SALES_DATE_x  DAILY_UNITS_x SALES_DATE_y  DAILY_UNITS_y\n",
       "0              23   2022-08-06              3   2022-07-31              1\n",
       "1             100   2022-08-02              2   2022-07-31              2\n",
       "2             121   2022-08-06              6   2022-07-31              0\n",
       "3             207   2022-08-03              0   2022-07-31              1\n",
       "4             416   2022-08-05              9   2022-07-31             11"
      ]
     },
     "execution_count": 30,
     "metadata": {},
     "output_type": "execute_result"
    }
   ],
   "source": [
    "y_pred.head()"
   ]
  },
  {
   "cell_type": "code",
   "execution_count": 31,
   "metadata": {},
   "outputs": [
    {
     "data": {
      "text/plain": [
       "Encoded_SKU_ID    0\n",
       "SALES_DATE_x      0\n",
       "DAILY_UNITS_x     0\n",
       "SALES_DATE_y      0\n",
       "DAILY_UNITS_y     0\n",
       "dtype: int64"
      ]
     },
     "execution_count": 31,
     "metadata": {},
     "output_type": "execute_result"
    }
   ],
   "source": [
    "y_pred.isna().sum()"
   ]
  },
  {
   "cell_type": "code",
   "execution_count": 32,
   "metadata": {},
   "outputs": [],
   "source": [
    "y_pred_null = y_pred[['Encoded_SKU_ID','SALES_DATE_x','DAILY_UNITS_y']].rename(columns={'SALES_DATE_x':'SALES_DATE','DAILY_UNITS_y':'predicted'})"
   ]
  },
  {
   "cell_type": "code",
   "execution_count": 33,
   "metadata": {},
   "outputs": [
    {
     "ename": "AttributeError",
     "evalue": "'DataFrame' object has no attribute 'to'",
     "output_type": "error",
     "traceback": [
      "\u001b[0;31m---------------------------------------------------------------------------\u001b[0m",
      "\u001b[0;31mAttributeError\u001b[0m                            Traceback (most recent call last)",
      "Cell \u001b[0;32mIn[33], line 1\u001b[0m\n\u001b[0;32m----> 1\u001b[0m \u001b[43my_pred_null\u001b[49m\u001b[38;5;241;43m.\u001b[39;49m\u001b[43mto\u001b[49m\n",
      "File \u001b[0;32m~/opt/anaconda3/envs/bestbuy_project/lib/python3.8/site-packages/pandas/core/generic.py:5902\u001b[0m, in \u001b[0;36mNDFrame.__getattr__\u001b[0;34m(self, name)\u001b[0m\n\u001b[1;32m   5895\u001b[0m \u001b[38;5;28;01mif\u001b[39;00m (\n\u001b[1;32m   5896\u001b[0m     name \u001b[38;5;129;01mnot\u001b[39;00m \u001b[38;5;129;01min\u001b[39;00m \u001b[38;5;28mself\u001b[39m\u001b[38;5;241m.\u001b[39m_internal_names_set\n\u001b[1;32m   5897\u001b[0m     \u001b[38;5;129;01mand\u001b[39;00m name \u001b[38;5;129;01mnot\u001b[39;00m \u001b[38;5;129;01min\u001b[39;00m \u001b[38;5;28mself\u001b[39m\u001b[38;5;241m.\u001b[39m_metadata\n\u001b[1;32m   5898\u001b[0m     \u001b[38;5;129;01mand\u001b[39;00m name \u001b[38;5;129;01mnot\u001b[39;00m \u001b[38;5;129;01min\u001b[39;00m \u001b[38;5;28mself\u001b[39m\u001b[38;5;241m.\u001b[39m_accessors\n\u001b[1;32m   5899\u001b[0m     \u001b[38;5;129;01mand\u001b[39;00m \u001b[38;5;28mself\u001b[39m\u001b[38;5;241m.\u001b[39m_info_axis\u001b[38;5;241m.\u001b[39m_can_hold_identifiers_and_holds_name(name)\n\u001b[1;32m   5900\u001b[0m ):\n\u001b[1;32m   5901\u001b[0m     \u001b[38;5;28;01mreturn\u001b[39;00m \u001b[38;5;28mself\u001b[39m[name]\n\u001b[0;32m-> 5902\u001b[0m \u001b[38;5;28;01mreturn\u001b[39;00m \u001b[38;5;28;43mobject\u001b[39;49m\u001b[38;5;241;43m.\u001b[39;49m\u001b[38;5;21;43m__getattribute__\u001b[39;49m\u001b[43m(\u001b[49m\u001b[38;5;28;43mself\u001b[39;49m\u001b[43m,\u001b[49m\u001b[43m \u001b[49m\u001b[43mname\u001b[49m\u001b[43m)\u001b[49m\n",
      "\u001b[0;31mAttributeError\u001b[0m: 'DataFrame' object has no attribute 'to'"
     ]
    }
   ],
   "source": [
    "y_pred_null.to"
   ]
  },
  {
   "cell_type": "code",
   "execution_count": null,
   "metadata": {},
   "outputs": [],
   "source": [
    "y_act_null = y_actual.rename(columns={'DAILY_UNITS':'actual'})"
   ]
  },
  {
   "cell_type": "code",
   "execution_count": null,
   "metadata": {},
   "outputs": [],
   "source": [
    "y_act_null"
   ]
  },
  {
   "cell_type": "code",
   "execution_count": null,
   "metadata": {},
   "outputs": [],
   "source": [
    "rmse(y_pred_null,y_act_null)"
   ]
  },
  {
   "cell_type": "code",
   "execution_count": null,
   "metadata": {},
   "outputs": [],
   "source": [
    "y_pred_null.to_csv('../../results/null_model_results_final.csv')"
   ]
  }
 ],
 "metadata": {
  "kernelspec": {
   "display_name": "Python 3 (ipykernel)",
   "language": "python",
   "name": "python3"
  },
  "language_info": {
   "codemirror_mode": {
    "name": "ipython",
    "version": 3
   },
   "file_extension": ".py",
   "mimetype": "text/x-python",
   "name": "python",
   "nbconvert_exporter": "python",
   "pygments_lexer": "ipython3",
   "version": "3.8.15"
  }
 },
 "nbformat": 4,
 "nbformat_minor": 4
}
