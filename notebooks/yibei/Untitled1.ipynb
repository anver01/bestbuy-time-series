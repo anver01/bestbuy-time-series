{
 "cells": [
  {
   "cell_type": "code",
   "execution_count": 28,
   "metadata": {},
   "outputs": [],
   "source": [
    "import pandas as pd\n",
    "import numpy as np\n",
    "from datetime import timedelta \n",
    "import matplotlib.pyplot as plt\n",
    "import statsmodels as sm\n",
    "from statsmodels.tsa.holtwinters import ExponentialSmoothing"
   ]
  },
  {
   "cell_type": "code",
   "execution_count": 2,
   "metadata": {},
   "outputs": [],
   "source": [
    "df1 = pd.read_csv('../../data/train_validation_marker.csv')"
   ]
  },
  {
   "cell_type": "code",
   "execution_count": 3,
   "metadata": {},
   "outputs": [],
   "source": [
    "df2 = df1[df1['Encoded_SKU_ID'].isin([27, 28, 65, 83, 203, 223, 240, 288, 308, 418, 439, 451, 478])]"
   ]
  },
  {
   "cell_type": "code",
   "execution_count": 7,
   "metadata": {},
   "outputs": [],
   "source": [
    "df3 = df1[df1['validation_clean'] == True]"
   ]
  },
  {
   "cell_type": "code",
   "execution_count": 8,
   "metadata": {},
   "outputs": [
    {
     "data": {
      "text/html": [
       "<div>\n",
       "<style scoped>\n",
       "    .dataframe tbody tr th:only-of-type {\n",
       "        vertical-align: middle;\n",
       "    }\n",
       "\n",
       "    .dataframe tbody tr th {\n",
       "        vertical-align: top;\n",
       "    }\n",
       "\n",
       "    .dataframe thead th {\n",
       "        text-align: right;\n",
       "    }\n",
       "</style>\n",
       "<table border=\"1\" class=\"dataframe\">\n",
       "  <thead>\n",
       "    <tr style=\"text-align: right;\">\n",
       "      <th></th>\n",
       "      <th>Encoded_SKU_ID</th>\n",
       "      <th>SALES_DATE</th>\n",
       "      <th>SUBCLASS_NAME</th>\n",
       "      <th>CLASS_NAME</th>\n",
       "      <th>ML_NAME</th>\n",
       "      <th>CATEGORY_NAME</th>\n",
       "      <th>RETAIL_PRICE</th>\n",
       "      <th>PROMO_PRICE</th>\n",
       "      <th>COMPETITOR_PRICE</th>\n",
       "      <th>Inventory</th>\n",
       "      <th>DAILY_UNITS</th>\n",
       "      <th>max_SALES_DATE</th>\n",
       "      <th>delta_days</th>\n",
       "      <th>validation</th>\n",
       "      <th>validation_clean</th>\n",
       "    </tr>\n",
       "  </thead>\n",
       "  <tbody>\n",
       "    <tr>\n",
       "      <th>0</th>\n",
       "      <td>1</td>\n",
       "      <td>2017-09-28</td>\n",
       "      <td>MISC CAMERA ACCES</td>\n",
       "      <td>DIGITAL CAMERA ACCY</td>\n",
       "      <td>ML - DI Accessories</td>\n",
       "      <td>VP - Digital Imaging</td>\n",
       "      <td>89.99</td>\n",
       "      <td>?</td>\n",
       "      <td>?</td>\n",
       "      <td>Fully-Stocked</td>\n",
       "      <td>1</td>\n",
       "      <td>2022-07-31</td>\n",
       "      <td>1767</td>\n",
       "      <td>False</td>\n",
       "      <td>True</td>\n",
       "    </tr>\n",
       "    <tr>\n",
       "      <th>1</th>\n",
       "      <td>2</td>\n",
       "      <td>2017-11-24</td>\n",
       "      <td>CAMERA BATTERIES</td>\n",
       "      <td>DIGITAL CAMERA ACCY</td>\n",
       "      <td>ML - DI Accessories</td>\n",
       "      <td>VP - Digital Imaging</td>\n",
       "      <td>39.99</td>\n",
       "      <td>?</td>\n",
       "      <td>?</td>\n",
       "      <td>Fully-Stocked</td>\n",
       "      <td>18</td>\n",
       "      <td>2022-07-31</td>\n",
       "      <td>1710</td>\n",
       "      <td>False</td>\n",
       "      <td>True</td>\n",
       "    </tr>\n",
       "    <tr>\n",
       "      <th>2</th>\n",
       "      <td>3</td>\n",
       "      <td>2019-11-28</td>\n",
       "      <td>SO PARTS</td>\n",
       "      <td>MOBILE ACCESSORIES</td>\n",
       "      <td>ML - Connected Car</td>\n",
       "      <td>VP - Electrify &amp; Car</td>\n",
       "      <td>49.99</td>\n",
       "      <td>?</td>\n",
       "      <td>46.98</td>\n",
       "      <td>Constrained</td>\n",
       "      <td>7</td>\n",
       "      <td>2022-07-31</td>\n",
       "      <td>976</td>\n",
       "      <td>False</td>\n",
       "      <td>True</td>\n",
       "    </tr>\n",
       "    <tr>\n",
       "      <th>4</th>\n",
       "      <td>1</td>\n",
       "      <td>2018-10-27</td>\n",
       "      <td>MISC CAMERA ACCES</td>\n",
       "      <td>DIGITAL CAMERA ACCY</td>\n",
       "      <td>ML - DI Accessories</td>\n",
       "      <td>VP - Digital Imaging</td>\n",
       "      <td>89.99</td>\n",
       "      <td>?</td>\n",
       "      <td>?</td>\n",
       "      <td>Fully-Stocked</td>\n",
       "      <td>7</td>\n",
       "      <td>2022-07-31</td>\n",
       "      <td>1373</td>\n",
       "      <td>False</td>\n",
       "      <td>True</td>\n",
       "    </tr>\n",
       "    <tr>\n",
       "      <th>5</th>\n",
       "      <td>5</td>\n",
       "      <td>2018-12-18</td>\n",
       "      <td>SO CAR ACCESSORIES</td>\n",
       "      <td>MOBILE ACCESSORIES</td>\n",
       "      <td>ML - Connected Car</td>\n",
       "      <td>VP - Electrify &amp; Car</td>\n",
       "      <td>16.99</td>\n",
       "      <td>?</td>\n",
       "      <td>?</td>\n",
       "      <td>Fully-Stocked</td>\n",
       "      <td>5</td>\n",
       "      <td>2022-07-31</td>\n",
       "      <td>1321</td>\n",
       "      <td>False</td>\n",
       "      <td>True</td>\n",
       "    </tr>\n",
       "  </tbody>\n",
       "</table>\n",
       "</div>"
      ],
      "text/plain": [
       "   Encoded_SKU_ID  SALES_DATE       SUBCLASS_NAME           CLASS_NAME  \\\n",
       "0               1  2017-09-28   MISC CAMERA ACCES  DIGITAL CAMERA ACCY   \n",
       "1               2  2017-11-24    CAMERA BATTERIES  DIGITAL CAMERA ACCY   \n",
       "2               3  2019-11-28            SO PARTS   MOBILE ACCESSORIES   \n",
       "4               1  2018-10-27   MISC CAMERA ACCES  DIGITAL CAMERA ACCY   \n",
       "5               5  2018-12-18  SO CAR ACCESSORIES   MOBILE ACCESSORIES   \n",
       "\n",
       "               ML_NAME         CATEGORY_NAME  RETAIL_PRICE PROMO_PRICE  \\\n",
       "0  ML - DI Accessories  VP - Digital Imaging         89.99           ?   \n",
       "1  ML - DI Accessories  VP - Digital Imaging         39.99           ?   \n",
       "2   ML - Connected Car  VP - Electrify & Car         49.99           ?   \n",
       "4  ML - DI Accessories  VP - Digital Imaging         89.99           ?   \n",
       "5   ML - Connected Car  VP - Electrify & Car         16.99           ?   \n",
       "\n",
       "  COMPETITOR_PRICE      Inventory  DAILY_UNITS max_SALES_DATE  delta_days  \\\n",
       "0                ?  Fully-Stocked            1     2022-07-31        1767   \n",
       "1                ?  Fully-Stocked           18     2022-07-31        1710   \n",
       "2            46.98    Constrained            7     2022-07-31         976   \n",
       "4                ?  Fully-Stocked            7     2022-07-31        1373   \n",
       "5                ?  Fully-Stocked            5     2022-07-31        1321   \n",
       "\n",
       "   validation  validation_clean  \n",
       "0       False              True  \n",
       "1       False              True  \n",
       "2       False              True  \n",
       "4       False              True  \n",
       "5       False              True  "
      ]
     },
     "execution_count": 8,
     "metadata": {},
     "output_type": "execute_result"
    }
   ],
   "source": [
    "df3.head()"
   ]
  },
  {
   "cell_type": "code",
   "execution_count": 10,
   "metadata": {},
   "outputs": [
    {
     "data": {
      "text/plain": [
       "545"
      ]
     },
     "execution_count": 10,
     "metadata": {},
     "output_type": "execute_result"
    }
   ],
   "source": [
    "df3.Encoded_SKU_ID.nunique()"
   ]
  },
  {
   "cell_type": "code",
   "execution_count": 13,
   "metadata": {},
   "outputs": [],
   "source": [
    "rst_sku_df = pd.read_excel('../../results/rmse_all_preds_jan_17.xlsx')"
   ]
  },
  {
   "cell_type": "code",
   "execution_count": 14,
   "metadata": {},
   "outputs": [
    {
     "data": {
      "text/html": [
       "<div>\n",
       "<style scoped>\n",
       "    .dataframe tbody tr th:only-of-type {\n",
       "        vertical-align: middle;\n",
       "    }\n",
       "\n",
       "    .dataframe tbody tr th {\n",
       "        vertical-align: top;\n",
       "    }\n",
       "\n",
       "    .dataframe thead th {\n",
       "        text-align: right;\n",
       "    }\n",
       "</style>\n",
       "<table border=\"1\" class=\"dataframe\">\n",
       "  <thead>\n",
       "    <tr style=\"text-align: right;\">\n",
       "      <th></th>\n",
       "      <th>Encoded_SKU_ID</th>\n",
       "      <th>rmse_du_15</th>\n",
       "      <th>mean_du_15</th>\n",
       "      <th>pct_rmse_15</th>\n",
       "      <th>rmse_du_30</th>\n",
       "      <th>mean_du_30</th>\n",
       "      <th>pct_rmse_30</th>\n",
       "      <th>rmse_du_45</th>\n",
       "      <th>mean_du_45</th>\n",
       "      <th>pct_rmse_45</th>\n",
       "      <th>...</th>\n",
       "      <th>pct_rmse_prophet</th>\n",
       "      <th>rmse_du_null</th>\n",
       "      <th>mean_du_null</th>\n",
       "      <th>pct_rmse_null</th>\n",
       "      <th>rmse_du_holt</th>\n",
       "      <th>mean_du_holt</th>\n",
       "      <th>pct_rmse_holt</th>\n",
       "      <th>min_rmse</th>\n",
       "      <th>argmin_period</th>\n",
       "      <th>min_period</th>\n",
       "    </tr>\n",
       "  </thead>\n",
       "  <tbody>\n",
       "    <tr>\n",
       "      <th>0</th>\n",
       "      <td>82</td>\n",
       "      <td>4.722325</td>\n",
       "      <td>0.428571</td>\n",
       "      <td>11.018759</td>\n",
       "      <td>4.840344</td>\n",
       "      <td>0.428571</td>\n",
       "      <td>11.294136</td>\n",
       "      <td>1.102108</td>\n",
       "      <td>0.428571</td>\n",
       "      <td>2.571586</td>\n",
       "      <td>...</td>\n",
       "      <td>5.362264</td>\n",
       "      <td>3.605551</td>\n",
       "      <td>0.428571</td>\n",
       "      <td>8.412953</td>\n",
       "      <td>9.753826</td>\n",
       "      <td>0.428571</td>\n",
       "      <td>22.758928</td>\n",
       "      <td>0.911043</td>\n",
       "      <td>5</td>\n",
       "      <td>rmse_du_max</td>\n",
       "    </tr>\n",
       "    <tr>\n",
       "      <th>1</th>\n",
       "      <td>568</td>\n",
       "      <td>4.097124</td>\n",
       "      <td>4.285714</td>\n",
       "      <td>0.955996</td>\n",
       "      <td>3.447670</td>\n",
       "      <td>4.285714</td>\n",
       "      <td>0.804456</td>\n",
       "      <td>3.652836</td>\n",
       "      <td>4.285714</td>\n",
       "      <td>0.852329</td>\n",
       "      <td>...</td>\n",
       "      <td>0.595404</td>\n",
       "      <td>5.070926</td>\n",
       "      <td>4.285714</td>\n",
       "      <td>1.183216</td>\n",
       "      <td>3.024439</td>\n",
       "      <td>4.285714</td>\n",
       "      <td>0.705702</td>\n",
       "      <td>2.551733</td>\n",
       "      <td>8</td>\n",
       "      <td>rmse_du_prophet</td>\n",
       "    </tr>\n",
       "    <tr>\n",
       "      <th>2</th>\n",
       "      <td>317</td>\n",
       "      <td>3.766488</td>\n",
       "      <td>0.857143</td>\n",
       "      <td>4.394235</td>\n",
       "      <td>1.362770</td>\n",
       "      <td>0.857143</td>\n",
       "      <td>1.589899</td>\n",
       "      <td>1.784957</td>\n",
       "      <td>0.857143</td>\n",
       "      <td>2.082450</td>\n",
       "      <td>...</td>\n",
       "      <td>2.297158</td>\n",
       "      <td>1.069045</td>\n",
       "      <td>0.857143</td>\n",
       "      <td>1.247219</td>\n",
       "      <td>2.363641</td>\n",
       "      <td>0.857143</td>\n",
       "      <td>2.757581</td>\n",
       "      <td>1.069045</td>\n",
       "      <td>9</td>\n",
       "      <td>rmse_du_null</td>\n",
       "    </tr>\n",
       "    <tr>\n",
       "      <th>3</th>\n",
       "      <td>95</td>\n",
       "      <td>3.668447</td>\n",
       "      <td>1.285714</td>\n",
       "      <td>2.853236</td>\n",
       "      <td>1.698949</td>\n",
       "      <td>1.285714</td>\n",
       "      <td>1.321405</td>\n",
       "      <td>3.991151</td>\n",
       "      <td>1.285714</td>\n",
       "      <td>3.104228</td>\n",
       "      <td>...</td>\n",
       "      <td>1.743961</td>\n",
       "      <td>1.309307</td>\n",
       "      <td>1.285714</td>\n",
       "      <td>1.018350</td>\n",
       "      <td>1.720612</td>\n",
       "      <td>1.285714</td>\n",
       "      <td>1.338254</td>\n",
       "      <td>1.309307</td>\n",
       "      <td>9</td>\n",
       "      <td>rmse_du_null</td>\n",
       "    </tr>\n",
       "    <tr>\n",
       "      <th>4</th>\n",
       "      <td>340</td>\n",
       "      <td>3.668447</td>\n",
       "      <td>0.714286</td>\n",
       "      <td>5.135825</td>\n",
       "      <td>2.077172</td>\n",
       "      <td>0.714286</td>\n",
       "      <td>2.908041</td>\n",
       "      <td>2.329929</td>\n",
       "      <td>0.714286</td>\n",
       "      <td>3.261901</td>\n",
       "      <td>...</td>\n",
       "      <td>0.970033</td>\n",
       "      <td>0.925820</td>\n",
       "      <td>0.714286</td>\n",
       "      <td>1.296148</td>\n",
       "      <td>1.092959</td>\n",
       "      <td>0.714286</td>\n",
       "      <td>1.530142</td>\n",
       "      <td>0.692881</td>\n",
       "      <td>8</td>\n",
       "      <td>rmse_du_prophet</td>\n",
       "    </tr>\n",
       "    <tr>\n",
       "      <th>...</th>\n",
       "      <td>...</td>\n",
       "      <td>...</td>\n",
       "      <td>...</td>\n",
       "      <td>...</td>\n",
       "      <td>...</td>\n",
       "      <td>...</td>\n",
       "      <td>...</td>\n",
       "      <td>...</td>\n",
       "      <td>...</td>\n",
       "      <td>...</td>\n",
       "      <td>...</td>\n",
       "      <td>...</td>\n",
       "      <td>...</td>\n",
       "      <td>...</td>\n",
       "      <td>...</td>\n",
       "      <td>...</td>\n",
       "      <td>...</td>\n",
       "      <td>...</td>\n",
       "      <td>...</td>\n",
       "      <td>...</td>\n",
       "      <td>...</td>\n",
       "    </tr>\n",
       "    <tr>\n",
       "      <th>540</th>\n",
       "      <td>558</td>\n",
       "      <td>NaN</td>\n",
       "      <td>1.000000</td>\n",
       "      <td>NaN</td>\n",
       "      <td>NaN</td>\n",
       "      <td>1.000000</td>\n",
       "      <td>NaN</td>\n",
       "      <td>NaN</td>\n",
       "      <td>1.000000</td>\n",
       "      <td>NaN</td>\n",
       "      <td>...</td>\n",
       "      <td>11.498812</td>\n",
       "      <td>1.069045</td>\n",
       "      <td>1.000000</td>\n",
       "      <td>1.069045</td>\n",
       "      <td>19.176286</td>\n",
       "      <td>1.000000</td>\n",
       "      <td>19.176286</td>\n",
       "      <td>1.069045</td>\n",
       "      <td>0</td>\n",
       "      <td>rmse_du_15</td>\n",
       "    </tr>\n",
       "    <tr>\n",
       "      <th>541</th>\n",
       "      <td>559</td>\n",
       "      <td>NaN</td>\n",
       "      <td>3.857143</td>\n",
       "      <td>NaN</td>\n",
       "      <td>NaN</td>\n",
       "      <td>3.857143</td>\n",
       "      <td>NaN</td>\n",
       "      <td>NaN</td>\n",
       "      <td>3.857143</td>\n",
       "      <td>NaN</td>\n",
       "      <td>...</td>\n",
       "      <td>1.017409</td>\n",
       "      <td>3.207135</td>\n",
       "      <td>3.857143</td>\n",
       "      <td>0.831479</td>\n",
       "      <td>4.635827</td>\n",
       "      <td>3.857143</td>\n",
       "      <td>1.201881</td>\n",
       "      <td>3.207135</td>\n",
       "      <td>0</td>\n",
       "      <td>rmse_du_15</td>\n",
       "    </tr>\n",
       "    <tr>\n",
       "      <th>542</th>\n",
       "      <td>560</td>\n",
       "      <td>NaN</td>\n",
       "      <td>1.000000</td>\n",
       "      <td>NaN</td>\n",
       "      <td>NaN</td>\n",
       "      <td>1.000000</td>\n",
       "      <td>NaN</td>\n",
       "      <td>NaN</td>\n",
       "      <td>1.000000</td>\n",
       "      <td>NaN</td>\n",
       "      <td>...</td>\n",
       "      <td>NaN</td>\n",
       "      <td>0.534522</td>\n",
       "      <td>1.000000</td>\n",
       "      <td>0.534522</td>\n",
       "      <td>0.827778</td>\n",
       "      <td>1.000000</td>\n",
       "      <td>0.827778</td>\n",
       "      <td>0.534522</td>\n",
       "      <td>0</td>\n",
       "      <td>rmse_du_15</td>\n",
       "    </tr>\n",
       "    <tr>\n",
       "      <th>543</th>\n",
       "      <td>566</td>\n",
       "      <td>NaN</td>\n",
       "      <td>5.571429</td>\n",
       "      <td>NaN</td>\n",
       "      <td>NaN</td>\n",
       "      <td>5.571429</td>\n",
       "      <td>NaN</td>\n",
       "      <td>NaN</td>\n",
       "      <td>5.571429</td>\n",
       "      <td>NaN</td>\n",
       "      <td>...</td>\n",
       "      <td>NaN</td>\n",
       "      <td>2.507133</td>\n",
       "      <td>5.571429</td>\n",
       "      <td>0.449998</td>\n",
       "      <td>15.125061</td>\n",
       "      <td>5.571429</td>\n",
       "      <td>2.714755</td>\n",
       "      <td>2.507133</td>\n",
       "      <td>0</td>\n",
       "      <td>rmse_du_15</td>\n",
       "    </tr>\n",
       "    <tr>\n",
       "      <th>544</th>\n",
       "      <td>571</td>\n",
       "      <td>NaN</td>\n",
       "      <td>1.142857</td>\n",
       "      <td>NaN</td>\n",
       "      <td>NaN</td>\n",
       "      <td>1.142857</td>\n",
       "      <td>NaN</td>\n",
       "      <td>NaN</td>\n",
       "      <td>1.142857</td>\n",
       "      <td>NaN</td>\n",
       "      <td>...</td>\n",
       "      <td>2.086539</td>\n",
       "      <td>1.253566</td>\n",
       "      <td>1.142857</td>\n",
       "      <td>1.096871</td>\n",
       "      <td>5.724059</td>\n",
       "      <td>1.142857</td>\n",
       "      <td>5.008552</td>\n",
       "      <td>1.253566</td>\n",
       "      <td>0</td>\n",
       "      <td>rmse_du_15</td>\n",
       "    </tr>\n",
       "  </tbody>\n",
       "</table>\n",
       "<p>545 rows × 37 columns</p>\n",
       "</div>"
      ],
      "text/plain": [
       "     Encoded_SKU_ID  rmse_du_15  mean_du_15  pct_rmse_15  rmse_du_30  \\\n",
       "0                82    4.722325    0.428571    11.018759    4.840344   \n",
       "1               568    4.097124    4.285714     0.955996    3.447670   \n",
       "2               317    3.766488    0.857143     4.394235    1.362770   \n",
       "3                95    3.668447    1.285714     2.853236    1.698949   \n",
       "4               340    3.668447    0.714286     5.135825    2.077172   \n",
       "..              ...         ...         ...          ...         ...   \n",
       "540             558         NaN    1.000000          NaN         NaN   \n",
       "541             559         NaN    3.857143          NaN         NaN   \n",
       "542             560         NaN    1.000000          NaN         NaN   \n",
       "543             566         NaN    5.571429          NaN         NaN   \n",
       "544             571         NaN    1.142857          NaN         NaN   \n",
       "\n",
       "     mean_du_30  pct_rmse_30  rmse_du_45  mean_du_45  pct_rmse_45  ...  \\\n",
       "0      0.428571    11.294136    1.102108    0.428571     2.571586  ...   \n",
       "1      4.285714     0.804456    3.652836    4.285714     0.852329  ...   \n",
       "2      0.857143     1.589899    1.784957    0.857143     2.082450  ...   \n",
       "3      1.285714     1.321405    3.991151    1.285714     3.104228  ...   \n",
       "4      0.714286     2.908041    2.329929    0.714286     3.261901  ...   \n",
       "..          ...          ...         ...         ...          ...  ...   \n",
       "540    1.000000          NaN         NaN    1.000000          NaN  ...   \n",
       "541    3.857143          NaN         NaN    3.857143          NaN  ...   \n",
       "542    1.000000          NaN         NaN    1.000000          NaN  ...   \n",
       "543    5.571429          NaN         NaN    5.571429          NaN  ...   \n",
       "544    1.142857          NaN         NaN    1.142857          NaN  ...   \n",
       "\n",
       "     pct_rmse_prophet  rmse_du_null  mean_du_null  pct_rmse_null  \\\n",
       "0            5.362264      3.605551      0.428571       8.412953   \n",
       "1            0.595404      5.070926      4.285714       1.183216   \n",
       "2            2.297158      1.069045      0.857143       1.247219   \n",
       "3            1.743961      1.309307      1.285714       1.018350   \n",
       "4            0.970033      0.925820      0.714286       1.296148   \n",
       "..                ...           ...           ...            ...   \n",
       "540         11.498812      1.069045      1.000000       1.069045   \n",
       "541          1.017409      3.207135      3.857143       0.831479   \n",
       "542               NaN      0.534522      1.000000       0.534522   \n",
       "543               NaN      2.507133      5.571429       0.449998   \n",
       "544          2.086539      1.253566      1.142857       1.096871   \n",
       "\n",
       "     rmse_du_holt  mean_du_holt  pct_rmse_holt  min_rmse  argmin_period  \\\n",
       "0        9.753826      0.428571      22.758928  0.911043              5   \n",
       "1        3.024439      4.285714       0.705702  2.551733              8   \n",
       "2        2.363641      0.857143       2.757581  1.069045              9   \n",
       "3        1.720612      1.285714       1.338254  1.309307              9   \n",
       "4        1.092959      0.714286       1.530142  0.692881              8   \n",
       "..            ...           ...            ...       ...            ...   \n",
       "540     19.176286      1.000000      19.176286  1.069045              0   \n",
       "541      4.635827      3.857143       1.201881  3.207135              0   \n",
       "542      0.827778      1.000000       0.827778  0.534522              0   \n",
       "543     15.125061      5.571429       2.714755  2.507133              0   \n",
       "544      5.724059      1.142857       5.008552  1.253566              0   \n",
       "\n",
       "          min_period  \n",
       "0        rmse_du_max  \n",
       "1    rmse_du_prophet  \n",
       "2       rmse_du_null  \n",
       "3       rmse_du_null  \n",
       "4    rmse_du_prophet  \n",
       "..               ...  \n",
       "540       rmse_du_15  \n",
       "541       rmse_du_15  \n",
       "542       rmse_du_15  \n",
       "543       rmse_du_15  \n",
       "544       rmse_du_15  \n",
       "\n",
       "[545 rows x 37 columns]"
      ]
     },
     "execution_count": 14,
     "metadata": {},
     "output_type": "execute_result"
    }
   ],
   "source": [
    "rst_sku_df.Encoded_SKU_ID"
   ]
  },
  {
   "cell_type": "code",
   "execution_count": 19,
   "metadata": {},
   "outputs": [],
   "source": [
    "hw_sku = rst_sku_df[rst_sku_df['min_period']=='rmse_du_holt']"
   ]
  },
  {
   "cell_type": "code",
   "execution_count": 151,
   "metadata": {},
   "outputs": [],
   "source": [
    "sku = list(hw_sku.Encoded_SKU_ID)+[76, 147, 157, 358, 413, 485, 569]"
   ]
  },
  {
   "cell_type": "code",
   "execution_count": 51,
   "metadata": {},
   "outputs": [
    {
     "data": {
      "text/plain": [
       "18"
      ]
     },
     "execution_count": 51,
     "metadata": {},
     "output_type": "execute_result"
    }
   ],
   "source": [
    "len(sku)"
   ]
  },
  {
   "cell_type": "code",
   "execution_count": 24,
   "metadata": {},
   "outputs": [],
   "source": [
    "test = pd.read_excel('../../data/Validation_Data.xlsx')"
   ]
  },
  {
   "cell_type": "code",
   "execution_count": 37,
   "metadata": {},
   "outputs": [
    {
     "data": {
      "text/plain": [
       "539"
      ]
     },
     "execution_count": 37,
     "metadata": {},
     "output_type": "execute_result"
    }
   ],
   "source": [
    "test.Encoded_SKU_ID.nunique()"
   ]
  },
  {
   "cell_type": "code",
   "execution_count": 150,
   "metadata": {},
   "outputs": [
    {
     "data": {
      "text/plain": [
       "{76, 147, 157, 358, 413, 485, 569}"
      ]
     },
     "execution_count": 150,
     "metadata": {},
     "output_type": "execute_result"
    }
   ],
   "source": [
    "set(test.Encoded_SKU_ID) - set(rst_sku_df.Encoded_SKU_ID)"
   ]
  },
  {
   "cell_type": "code",
   "execution_count": 43,
   "metadata": {},
   "outputs": [
    {
     "data": {
      "text/html": [
       "<div>\n",
       "<style scoped>\n",
       "    .dataframe tbody tr th:only-of-type {\n",
       "        vertical-align: middle;\n",
       "    }\n",
       "\n",
       "    .dataframe tbody tr th {\n",
       "        vertical-align: top;\n",
       "    }\n",
       "\n",
       "    .dataframe thead th {\n",
       "        text-align: right;\n",
       "    }\n",
       "</style>\n",
       "<table border=\"1\" class=\"dataframe\">\n",
       "  <thead>\n",
       "    <tr style=\"text-align: right;\">\n",
       "      <th></th>\n",
       "      <th>Encoded_SKU_ID</th>\n",
       "      <th>SALES_DATE</th>\n",
       "      <th>SUBCLASS_NAME</th>\n",
       "      <th>CLASS_NAME</th>\n",
       "      <th>ML_NAME</th>\n",
       "      <th>CATEGORY_NAME</th>\n",
       "      <th>RETAIL_PRICE</th>\n",
       "      <th>PROMO_PRICE</th>\n",
       "      <th>COMPETITOR_PRICE</th>\n",
       "      <th>Inventory</th>\n",
       "      <th>DAILY_UNITS</th>\n",
       "      <th>Forecasted Units</th>\n",
       "    </tr>\n",
       "  </thead>\n",
       "  <tbody>\n",
       "  </tbody>\n",
       "</table>\n",
       "</div>"
      ],
      "text/plain": [
       "Empty DataFrame\n",
       "Columns: [Encoded_SKU_ID, SALES_DATE, SUBCLASS_NAME, CLASS_NAME, ML_NAME, CATEGORY_NAME, RETAIL_PRICE, PROMO_PRICE, COMPETITOR_PRICE, Inventory, DAILY_UNITS, Forecasted Units]\n",
       "Index: []"
      ]
     },
     "execution_count": 43,
     "metadata": {},
     "output_type": "execute_result"
    }
   ],
   "source": [
    "test[test.Encoded_SKU_ID.isin([27, 28, 65, 83, 203, 223, 240, 288, 308, 418, 439, 451, 478])]"
   ]
  },
  {
   "cell_type": "code",
   "execution_count": 87,
   "metadata": {},
   "outputs": [],
   "source": [
    "def fit_es(sku,df1,test,seasonal_periods=62):\n",
    "    y_pred = pd.DataFrame()\n",
    "    y_actual = pd.DataFrame()\n",
    "\n",
    "    for i in sku:\n",
    "        print( i)\n",
    "    # clean train data on item i\n",
    "        train = df1[df1['Encoded_SKU_ID']==i][['Encoded_SKU_ID','SALES_DATE','DAILY_UNITS']]\n",
    "        train['SALES_DATE'] = pd.to_datetime(train['SALES_DATE'])\n",
    "        train.set_index('SALES_DATE', inplace = True)\n",
    "    \n",
    "        val = test[test['Encoded_SKU_ID']==i][['Encoded_SKU_ID','SALES_DATE','DAILY_UNITS']]\n",
    "        val['SALES_DATE'] = pd.to_datetime(val['SALES_DATE'])\n",
    "        val.set_index('SALES_DATE', inplace = True)\n",
    "    \n",
    "    # train the HW model with auto train & make the forecast\n",
    "        model = ExponentialSmoothing(train['DAILY_UNITS'],trend='add',seasonal='add',seasonal_periods=seasonal_periods).fit()\n",
    "        forecast = model.forecast(7)\n",
    "        print(forecast)\n",
    "    \n",
    "    #Construct the predicted dataframe\n",
    "        SALES_DATE = pd.date_range(start='08/01/2022', end='08/07/2022')\n",
    "        prediction = pd.DataFrame(forecast,columns=['predicted']).reset_index(drop=True).set_index(SALES_DATE)\n",
    "        print(prediction.index)\n",
    "        prediction['Encoded_SKU_ID'] = val['Encoded_SKU_ID']\n",
    "        prediction.reset_index(inplace = True)\n",
    "        y_pred = pd.concat([y_pred, prediction], axis = 0)\n",
    "    \n",
    "    #Construct the actual dataframe\n",
    "        val.reset_index(inplace = True)\n",
    "        val.rename(columns={'DAILY_UNITS':'actual'}, inplace = True)\n",
    "        y_actual = pd.concat([y_actual, val], axis = 0)\n",
    "        \n",
    "        \n",
    "    return(y_pred,y_actual)"
   ]
  },
  {
   "cell_type": "code",
   "execution_count": 152,
   "metadata": {},
   "outputs": [
    {
     "name": "stdout",
     "output_type": "stream",
     "text": [
      "365\n"
     ]
    },
    {
     "name": "stderr",
     "output_type": "stream",
     "text": [
      "/Users/yibeihu/opt/anaconda3/envs/bestbuy_project/lib/python3.8/site-packages/statsmodels/tsa/base/tsa_model.py:471: ValueWarning: A date index has been provided, but it has no associated frequency information and so will be ignored when e.g. forecasting.\n",
      "  self._init_dates(dates, freq)\n",
      "/Users/yibeihu/opt/anaconda3/envs/bestbuy_project/lib/python3.8/site-packages/statsmodels/tsa/base/tsa_model.py:471: ValueWarning: A date index has been provided, but it is not monotonic and so will be ignored when e.g. forecasting.\n",
      "  self._init_dates(dates, freq)\n",
      "/Users/yibeihu/opt/anaconda3/envs/bestbuy_project/lib/python3.8/site-packages/statsmodels/tsa/base/tsa_model.py:834: ValueWarning: No supported index is available. Prediction results will be given with an integer index beginning at `start`.\n",
      "  return get_prediction_index(\n",
      "/Users/yibeihu/opt/anaconda3/envs/bestbuy_project/lib/python3.8/site-packages/statsmodels/tsa/base/tsa_model.py:471: ValueWarning: A date index has been provided, but it has no associated frequency information and so will be ignored when e.g. forecasting.\n",
      "  self._init_dates(dates, freq)\n",
      "/Users/yibeihu/opt/anaconda3/envs/bestbuy_project/lib/python3.8/site-packages/statsmodels/tsa/base/tsa_model.py:471: ValueWarning: A date index has been provided, but it is not monotonic and so will be ignored when e.g. forecasting.\n",
      "  self._init_dates(dates, freq)\n"
     ]
    },
    {
     "name": "stdout",
     "output_type": "stream",
     "text": [
      "1218    1.598060\n",
      "1219    1.334868\n",
      "1220    1.755911\n",
      "1221    1.440121\n",
      "1222    1.492759\n",
      "1223    1.387498\n",
      "1224    1.913823\n",
      "dtype: float64\n",
      "DatetimeIndex(['2022-08-01', '2022-08-02', '2022-08-03', '2022-08-04',\n",
      "               '2022-08-05', '2022-08-06', '2022-08-07'],\n",
      "              dtype='datetime64[ns]', freq='D')\n",
      "190\n"
     ]
    },
    {
     "name": "stderr",
     "output_type": "stream",
     "text": [
      "/Users/yibeihu/opt/anaconda3/envs/bestbuy_project/lib/python3.8/site-packages/statsmodels/tsa/base/tsa_model.py:834: ValueWarning: No supported index is available. Prediction results will be given with an integer index beginning at `start`.\n",
      "  return get_prediction_index(\n",
      "/Users/yibeihu/opt/anaconda3/envs/bestbuy_project/lib/python3.8/site-packages/statsmodels/tsa/base/tsa_model.py:471: ValueWarning: A date index has been provided, but it has no associated frequency information and so will be ignored when e.g. forecasting.\n",
      "  self._init_dates(dates, freq)\n",
      "/Users/yibeihu/opt/anaconda3/envs/bestbuy_project/lib/python3.8/site-packages/statsmodels/tsa/base/tsa_model.py:471: ValueWarning: A date index has been provided, but it is not monotonic and so will be ignored when e.g. forecasting.\n",
      "  self._init_dates(dates, freq)\n"
     ]
    },
    {
     "name": "stdout",
     "output_type": "stream",
     "text": [
      "1891    1.670673\n",
      "1892    1.836632\n",
      "1893    2.035384\n",
      "1894    1.537414\n",
      "1895    1.734490\n",
      "1896    1.536760\n",
      "1897    1.701242\n",
      "dtype: float64\n",
      "DatetimeIndex(['2022-08-01', '2022-08-02', '2022-08-03', '2022-08-04',\n",
      "               '2022-08-05', '2022-08-06', '2022-08-07'],\n",
      "              dtype='datetime64[ns]', freq='D')\n",
      "248\n"
     ]
    },
    {
     "name": "stderr",
     "output_type": "stream",
     "text": [
      "/Users/yibeihu/opt/anaconda3/envs/bestbuy_project/lib/python3.8/site-packages/statsmodels/tsa/base/tsa_model.py:834: ValueWarning: No supported index is available. Prediction results will be given with an integer index beginning at `start`.\n",
      "  return get_prediction_index(\n",
      "/Users/yibeihu/opt/anaconda3/envs/bestbuy_project/lib/python3.8/site-packages/statsmodels/tsa/base/tsa_model.py:471: ValueWarning: A date index has been provided, but it has no associated frequency information and so will be ignored when e.g. forecasting.\n",
      "  self._init_dates(dates, freq)\n",
      "/Users/yibeihu/opt/anaconda3/envs/bestbuy_project/lib/python3.8/site-packages/statsmodels/tsa/base/tsa_model.py:471: ValueWarning: A date index has been provided, but it is not monotonic and so will be ignored when e.g. forecasting.\n",
      "  self._init_dates(dates, freq)\n"
     ]
    },
    {
     "name": "stdout",
     "output_type": "stream",
     "text": [
      "1583    0.921218\n",
      "1584    0.920836\n",
      "1585    0.681533\n",
      "1586    0.961192\n",
      "1587    1.040986\n",
      "1588    1.120188\n",
      "1589    1.361430\n",
      "dtype: float64\n",
      "DatetimeIndex(['2022-08-01', '2022-08-02', '2022-08-03', '2022-08-04',\n",
      "               '2022-08-05', '2022-08-06', '2022-08-07'],\n",
      "              dtype='datetime64[ns]', freq='D')\n",
      "561\n",
      "743    1.787424\n",
      "744    2.753420\n",
      "745    3.170985\n",
      "746    3.671247\n",
      "747    3.670138\n",
      "748    3.337550\n",
      "749    4.087037\n",
      "dtype: float64\n",
      "DatetimeIndex(['2022-08-01', '2022-08-02', '2022-08-03', '2022-08-04',\n",
      "               '2022-08-05', '2022-08-06', '2022-08-07'],\n",
      "              dtype='datetime64[ns]', freq='D')\n",
      "404\n"
     ]
    },
    {
     "name": "stderr",
     "output_type": "stream",
     "text": [
      "/Users/yibeihu/opt/anaconda3/envs/bestbuy_project/lib/python3.8/site-packages/statsmodels/tsa/base/tsa_model.py:834: ValueWarning: No supported index is available. Prediction results will be given with an integer index beginning at `start`.\n",
      "  return get_prediction_index(\n",
      "/Users/yibeihu/opt/anaconda3/envs/bestbuy_project/lib/python3.8/site-packages/statsmodels/tsa/base/tsa_model.py:471: ValueWarning: A date index has been provided, but it has no associated frequency information and so will be ignored when e.g. forecasting.\n",
      "  self._init_dates(dates, freq)\n",
      "/Users/yibeihu/opt/anaconda3/envs/bestbuy_project/lib/python3.8/site-packages/statsmodels/tsa/base/tsa_model.py:471: ValueWarning: A date index has been provided, but it is not monotonic and so will be ignored when e.g. forecasting.\n",
      "  self._init_dates(dates, freq)\n",
      "/Users/yibeihu/opt/anaconda3/envs/bestbuy_project/lib/python3.8/site-packages/statsmodels/tsa/base/tsa_model.py:834: ValueWarning: No supported index is available. Prediction results will be given with an integer index beginning at `start`.\n",
      "  return get_prediction_index(\n",
      "/Users/yibeihu/opt/anaconda3/envs/bestbuy_project/lib/python3.8/site-packages/statsmodels/tsa/base/tsa_model.py:471: ValueWarning: A date index has been provided, but it has no associated frequency information and so will be ignored when e.g. forecasting.\n",
      "  self._init_dates(dates, freq)\n",
      "/Users/yibeihu/opt/anaconda3/envs/bestbuy_project/lib/python3.8/site-packages/statsmodels/tsa/base/tsa_model.py:471: ValueWarning: A date index has been provided, but it is not monotonic and so will be ignored when e.g. forecasting.\n",
      "  self._init_dates(dates, freq)\n"
     ]
    },
    {
     "name": "stdout",
     "output_type": "stream",
     "text": [
      "1891    1.838734\n",
      "1892    1.805412\n",
      "1893    2.005422\n",
      "1894    1.838757\n",
      "1895    2.205446\n",
      "1896    1.772076\n",
      "1897    2.438764\n",
      "dtype: float64\n",
      "DatetimeIndex(['2022-08-01', '2022-08-02', '2022-08-03', '2022-08-04',\n",
      "               '2022-08-05', '2022-08-06', '2022-08-07'],\n",
      "              dtype='datetime64[ns]', freq='D')\n",
      "184\n"
     ]
    },
    {
     "name": "stderr",
     "output_type": "stream",
     "text": [
      "/Users/yibeihu/opt/anaconda3/envs/bestbuy_project/lib/python3.8/site-packages/statsmodels/tsa/base/tsa_model.py:834: ValueWarning: No supported index is available. Prediction results will be given with an integer index beginning at `start`.\n",
      "  return get_prediction_index(\n",
      "/Users/yibeihu/opt/anaconda3/envs/bestbuy_project/lib/python3.8/site-packages/statsmodels/tsa/base/tsa_model.py:471: ValueWarning: A date index has been provided, but it has no associated frequency information and so will be ignored when e.g. forecasting.\n",
      "  self._init_dates(dates, freq)\n",
      "/Users/yibeihu/opt/anaconda3/envs/bestbuy_project/lib/python3.8/site-packages/statsmodels/tsa/base/tsa_model.py:471: ValueWarning: A date index has been provided, but it is not monotonic and so will be ignored when e.g. forecasting.\n",
      "  self._init_dates(dates, freq)\n"
     ]
    },
    {
     "name": "stdout",
     "output_type": "stream",
     "text": [
      "1877    2.695783\n",
      "1878    3.295738\n",
      "1879    3.429143\n",
      "1880    3.029103\n",
      "1881    3.229077\n",
      "1882    3.195718\n",
      "1883    2.929118\n",
      "dtype: float64\n",
      "DatetimeIndex(['2022-08-01', '2022-08-02', '2022-08-03', '2022-08-04',\n",
      "               '2022-08-05', '2022-08-06', '2022-08-07'],\n",
      "              dtype='datetime64[ns]', freq='D')\n",
      "105\n"
     ]
    },
    {
     "name": "stderr",
     "output_type": "stream",
     "text": [
      "/Users/yibeihu/opt/anaconda3/envs/bestbuy_project/lib/python3.8/site-packages/statsmodels/tsa/base/tsa_model.py:834: ValueWarning: No supported index is available. Prediction results will be given with an integer index beginning at `start`.\n",
      "  return get_prediction_index(\n",
      "/Users/yibeihu/opt/anaconda3/envs/bestbuy_project/lib/python3.8/site-packages/statsmodels/tsa/base/tsa_model.py:471: ValueWarning: A date index has been provided, but it has no associated frequency information and so will be ignored when e.g. forecasting.\n",
      "  self._init_dates(dates, freq)\n",
      "/Users/yibeihu/opt/anaconda3/envs/bestbuy_project/lib/python3.8/site-packages/statsmodels/tsa/base/tsa_model.py:471: ValueWarning: A date index has been provided, but it is not monotonic and so will be ignored when e.g. forecasting.\n",
      "  self._init_dates(dates, freq)\n"
     ]
    },
    {
     "name": "stdout",
     "output_type": "stream",
     "text": [
      "1164    2.804694\n",
      "1165    1.193055\n",
      "1166    2.082018\n",
      "1167    1.915912\n",
      "1168    1.637652\n",
      "1169    2.359626\n",
      "1170    2.026640\n",
      "dtype: float64\n",
      "DatetimeIndex(['2022-08-01', '2022-08-02', '2022-08-03', '2022-08-04',\n",
      "               '2022-08-05', '2022-08-06', '2022-08-07'],\n",
      "              dtype='datetime64[ns]', freq='D')\n",
      "88\n"
     ]
    },
    {
     "name": "stderr",
     "output_type": "stream",
     "text": [
      "/Users/yibeihu/opt/anaconda3/envs/bestbuy_project/lib/python3.8/site-packages/statsmodels/tsa/base/tsa_model.py:834: ValueWarning: No supported index is available. Prediction results will be given with an integer index beginning at `start`.\n",
      "  return get_prediction_index(\n",
      "/Users/yibeihu/opt/anaconda3/envs/bestbuy_project/lib/python3.8/site-packages/statsmodels/tsa/base/tsa_model.py:471: ValueWarning: A date index has been provided, but it has no associated frequency information and so will be ignored when e.g. forecasting.\n",
      "  self._init_dates(dates, freq)\n",
      "/Users/yibeihu/opt/anaconda3/envs/bestbuy_project/lib/python3.8/site-packages/statsmodels/tsa/base/tsa_model.py:471: ValueWarning: A date index has been provided, but it is not monotonic and so will be ignored when e.g. forecasting.\n",
      "  self._init_dates(dates, freq)\n"
     ]
    },
    {
     "name": "stdout",
     "output_type": "stream",
     "text": [
      "1100    1.146975\n",
      "1101    2.147086\n",
      "1102    1.676195\n",
      "1103    1.146954\n",
      "1104    1.264483\n",
      "1105    1.264653\n",
      "1106    1.323148\n",
      "dtype: float64\n",
      "DatetimeIndex(['2022-08-01', '2022-08-02', '2022-08-03', '2022-08-04',\n",
      "               '2022-08-05', '2022-08-06', '2022-08-07'],\n",
      "              dtype='datetime64[ns]', freq='D')\n",
      "29\n"
     ]
    },
    {
     "name": "stderr",
     "output_type": "stream",
     "text": [
      "/Users/yibeihu/opt/anaconda3/envs/bestbuy_project/lib/python3.8/site-packages/statsmodels/tsa/base/tsa_model.py:834: ValueWarning: No supported index is available. Prediction results will be given with an integer index beginning at `start`.\n",
      "  return get_prediction_index(\n",
      "/Users/yibeihu/opt/anaconda3/envs/bestbuy_project/lib/python3.8/site-packages/statsmodels/tsa/base/tsa_model.py:471: ValueWarning: A date index has been provided, but it has no associated frequency information and so will be ignored when e.g. forecasting.\n",
      "  self._init_dates(dates, freq)\n",
      "/Users/yibeihu/opt/anaconda3/envs/bestbuy_project/lib/python3.8/site-packages/statsmodels/tsa/base/tsa_model.py:471: ValueWarning: A date index has been provided, but it is not monotonic and so will be ignored when e.g. forecasting.\n",
      "  self._init_dates(dates, freq)\n"
     ]
    },
    {
     "name": "stdout",
     "output_type": "stream",
     "text": [
      "1807    1.307750\n",
      "1808    0.963061\n",
      "1809    1.445544\n",
      "1810    0.893716\n",
      "1811    1.100288\n",
      "1812    1.791133\n",
      "1813    1.031814\n",
      "dtype: float64\n",
      "DatetimeIndex(['2022-08-01', '2022-08-02', '2022-08-03', '2022-08-04',\n",
      "               '2022-08-05', '2022-08-06', '2022-08-07'],\n",
      "              dtype='datetime64[ns]', freq='D')\n",
      "305\n"
     ]
    },
    {
     "name": "stderr",
     "output_type": "stream",
     "text": [
      "/Users/yibeihu/opt/anaconda3/envs/bestbuy_project/lib/python3.8/site-packages/statsmodels/tsa/base/tsa_model.py:834: ValueWarning: No supported index is available. Prediction results will be given with an integer index beginning at `start`.\n",
      "  return get_prediction_index(\n",
      "/Users/yibeihu/opt/anaconda3/envs/bestbuy_project/lib/python3.8/site-packages/statsmodels/tsa/base/tsa_model.py:471: ValueWarning: A date index has been provided, but it has no associated frequency information and so will be ignored when e.g. forecasting.\n",
      "  self._init_dates(dates, freq)\n",
      "/Users/yibeihu/opt/anaconda3/envs/bestbuy_project/lib/python3.8/site-packages/statsmodels/tsa/base/tsa_model.py:471: ValueWarning: A date index has been provided, but it is not monotonic and so will be ignored when e.g. forecasting.\n",
      "  self._init_dates(dates, freq)\n"
     ]
    },
    {
     "name": "stdout",
     "output_type": "stream",
     "text": [
      "1891    2.316568\n",
      "1892    2.346098\n",
      "1893    2.452270\n",
      "1894    2.526089\n",
      "1895    2.250764\n",
      "1896    2.282854\n",
      "1897    2.394509\n",
      "dtype: float64\n",
      "DatetimeIndex(['2022-08-01', '2022-08-02', '2022-08-03', '2022-08-04',\n",
      "               '2022-08-05', '2022-08-06', '2022-08-07'],\n",
      "              dtype='datetime64[ns]', freq='D')\n",
      "171\n"
     ]
    },
    {
     "name": "stderr",
     "output_type": "stream",
     "text": [
      "/Users/yibeihu/opt/anaconda3/envs/bestbuy_project/lib/python3.8/site-packages/statsmodels/tsa/base/tsa_model.py:834: ValueWarning: No supported index is available. Prediction results will be given with an integer index beginning at `start`.\n",
      "  return get_prediction_index(\n",
      "/Users/yibeihu/opt/anaconda3/envs/bestbuy_project/lib/python3.8/site-packages/statsmodels/tsa/base/tsa_model.py:471: ValueWarning: A date index has been provided, but it has no associated frequency information and so will be ignored when e.g. forecasting.\n",
      "  self._init_dates(dates, freq)\n",
      "/Users/yibeihu/opt/anaconda3/envs/bestbuy_project/lib/python3.8/site-packages/statsmodels/tsa/base/tsa_model.py:471: ValueWarning: A date index has been provided, but it is not monotonic and so will be ignored when e.g. forecasting.\n",
      "  self._init_dates(dates, freq)\n"
     ]
    },
    {
     "name": "stdout",
     "output_type": "stream",
     "text": [
      "1870    1.255827\n",
      "1871    1.122503\n",
      "1872    0.989091\n",
      "1873    1.155815\n",
      "1874    1.522516\n",
      "1875    1.622511\n",
      "1876    1.222514\n",
      "dtype: float64\n",
      "DatetimeIndex(['2022-08-01', '2022-08-02', '2022-08-03', '2022-08-04',\n",
      "               '2022-08-05', '2022-08-06', '2022-08-07'],\n",
      "              dtype='datetime64[ns]', freq='D')\n",
      "477\n"
     ]
    },
    {
     "name": "stderr",
     "output_type": "stream",
     "text": [
      "/Users/yibeihu/opt/anaconda3/envs/bestbuy_project/lib/python3.8/site-packages/statsmodels/tsa/base/tsa_model.py:834: ValueWarning: No supported index is available. Prediction results will be given with an integer index beginning at `start`.\n",
      "  return get_prediction_index(\n",
      "/Users/yibeihu/opt/anaconda3/envs/bestbuy_project/lib/python3.8/site-packages/statsmodels/tsa/base/tsa_model.py:471: ValueWarning: A date index has been provided, but it has no associated frequency information and so will be ignored when e.g. forecasting.\n",
      "  self._init_dates(dates, freq)\n",
      "/Users/yibeihu/opt/anaconda3/envs/bestbuy_project/lib/python3.8/site-packages/statsmodels/tsa/base/tsa_model.py:471: ValueWarning: A date index has been provided, but it is not monotonic and so will be ignored when e.g. forecasting.\n",
      "  self._init_dates(dates, freq)\n"
     ]
    },
    {
     "name": "stdout",
     "output_type": "stream",
     "text": [
      "1732    0.891051\n",
      "1733    0.757032\n",
      "1734    0.923404\n",
      "1735    0.393408\n",
      "1736    0.795468\n",
      "1737    0.898895\n",
      "1738    0.858539\n",
      "dtype: float64\n",
      "DatetimeIndex(['2022-08-01', '2022-08-02', '2022-08-03', '2022-08-04',\n",
      "               '2022-08-05', '2022-08-06', '2022-08-07'],\n",
      "              dtype='datetime64[ns]', freq='D')\n",
      "167\n"
     ]
    },
    {
     "name": "stderr",
     "output_type": "stream",
     "text": [
      "/Users/yibeihu/opt/anaconda3/envs/bestbuy_project/lib/python3.8/site-packages/statsmodels/tsa/base/tsa_model.py:834: ValueWarning: No supported index is available. Prediction results will be given with an integer index beginning at `start`.\n",
      "  return get_prediction_index(\n",
      "/Users/yibeihu/opt/anaconda3/envs/bestbuy_project/lib/python3.8/site-packages/statsmodels/tsa/base/tsa_model.py:471: ValueWarning: A date index has been provided, but it has no associated frequency information and so will be ignored when e.g. forecasting.\n",
      "  self._init_dates(dates, freq)\n",
      "/Users/yibeihu/opt/anaconda3/envs/bestbuy_project/lib/python3.8/site-packages/statsmodels/tsa/base/tsa_model.py:471: ValueWarning: A date index has been provided, but it is not monotonic and so will be ignored when e.g. forecasting.\n",
      "  self._init_dates(dates, freq)\n"
     ]
    },
    {
     "name": "stdout",
     "output_type": "stream",
     "text": [
      "1345    1.007964\n",
      "1346    0.722371\n",
      "1347    0.627187\n",
      "1348    0.627117\n",
      "1349    0.722371\n",
      "1350    0.341479\n",
      "1351    0.960468\n",
      "dtype: float64\n",
      "DatetimeIndex(['2022-08-01', '2022-08-02', '2022-08-03', '2022-08-04',\n",
      "               '2022-08-05', '2022-08-06', '2022-08-07'],\n",
      "              dtype='datetime64[ns]', freq='D')\n",
      "363\n"
     ]
    },
    {
     "name": "stderr",
     "output_type": "stream",
     "text": [
      "/Users/yibeihu/opt/anaconda3/envs/bestbuy_project/lib/python3.8/site-packages/statsmodels/tsa/base/tsa_model.py:834: ValueWarning: No supported index is available. Prediction results will be given with an integer index beginning at `start`.\n",
      "  return get_prediction_index(\n",
      "/Users/yibeihu/opt/anaconda3/envs/bestbuy_project/lib/python3.8/site-packages/statsmodels/tsa/base/tsa_model.py:471: ValueWarning: A date index has been provided, but it has no associated frequency information and so will be ignored when e.g. forecasting.\n",
      "  self._init_dates(dates, freq)\n",
      "/Users/yibeihu/opt/anaconda3/envs/bestbuy_project/lib/python3.8/site-packages/statsmodels/tsa/base/tsa_model.py:471: ValueWarning: A date index has been provided, but it is not monotonic and so will be ignored when e.g. forecasting.\n",
      "  self._init_dates(dates, freq)\n"
     ]
    },
    {
     "name": "stdout",
     "output_type": "stream",
     "text": [
      "1891    1.477620\n",
      "1892    1.111007\n",
      "1893    1.177560\n",
      "1894    1.310965\n",
      "1895    0.944248\n",
      "1896    1.844286\n",
      "1897    1.444265\n",
      "dtype: float64\n",
      "DatetimeIndex(['2022-08-01', '2022-08-02', '2022-08-03', '2022-08-04',\n",
      "               '2022-08-05', '2022-08-06', '2022-08-07'],\n",
      "              dtype='datetime64[ns]', freq='D')\n",
      "153\n"
     ]
    },
    {
     "name": "stderr",
     "output_type": "stream",
     "text": [
      "/Users/yibeihu/opt/anaconda3/envs/bestbuy_project/lib/python3.8/site-packages/statsmodels/tsa/base/tsa_model.py:834: ValueWarning: No supported index is available. Prediction results will be given with an integer index beginning at `start`.\n",
      "  return get_prediction_index(\n",
      "/Users/yibeihu/opt/anaconda3/envs/bestbuy_project/lib/python3.8/site-packages/statsmodels/tsa/base/tsa_model.py:471: ValueWarning: A date index has been provided, but it has no associated frequency information and so will be ignored when e.g. forecasting.\n",
      "  self._init_dates(dates, freq)\n",
      "/Users/yibeihu/opt/anaconda3/envs/bestbuy_project/lib/python3.8/site-packages/statsmodels/tsa/base/tsa_model.py:471: ValueWarning: A date index has been provided, but it is not monotonic and so will be ignored when e.g. forecasting.\n",
      "  self._init_dates(dates, freq)\n"
     ]
    },
    {
     "name": "stdout",
     "output_type": "stream",
     "text": [
      "1415    0.876851\n",
      "1416    1.012933\n",
      "1417    0.788120\n",
      "1418    1.287002\n",
      "1419    1.376748\n",
      "1420    2.785966\n",
      "1421    1.060629\n",
      "dtype: float64\n",
      "DatetimeIndex(['2022-08-01', '2022-08-02', '2022-08-03', '2022-08-04',\n",
      "               '2022-08-05', '2022-08-06', '2022-08-07'],\n",
      "              dtype='datetime64[ns]', freq='D')\n",
      "302\n"
     ]
    },
    {
     "name": "stderr",
     "output_type": "stream",
     "text": [
      "/Users/yibeihu/opt/anaconda3/envs/bestbuy_project/lib/python3.8/site-packages/statsmodels/tsa/base/tsa_model.py:834: ValueWarning: No supported index is available. Prediction results will be given with an integer index beginning at `start`.\n",
      "  return get_prediction_index(\n",
      "/Users/yibeihu/opt/anaconda3/envs/bestbuy_project/lib/python3.8/site-packages/statsmodels/tsa/base/tsa_model.py:471: ValueWarning: A date index has been provided, but it has no associated frequency information and so will be ignored when e.g. forecasting.\n",
      "  self._init_dates(dates, freq)\n",
      "/Users/yibeihu/opt/anaconda3/envs/bestbuy_project/lib/python3.8/site-packages/statsmodels/tsa/base/tsa_model.py:471: ValueWarning: A date index has been provided, but it is not monotonic and so will be ignored when e.g. forecasting.\n",
      "  self._init_dates(dates, freq)\n"
     ]
    },
    {
     "name": "stdout",
     "output_type": "stream",
     "text": [
      "1884    1.274640\n",
      "1885    1.274657\n",
      "1886    1.408101\n",
      "1887    1.374568\n",
      "1888    1.008016\n",
      "1889    1.107886\n",
      "1890    1.307963\n",
      "dtype: float64\n",
      "DatetimeIndex(['2022-08-01', '2022-08-02', '2022-08-03', '2022-08-04',\n",
      "               '2022-08-05', '2022-08-06', '2022-08-07'],\n",
      "              dtype='datetime64[ns]', freq='D')\n",
      "501\n"
     ]
    },
    {
     "name": "stderr",
     "output_type": "stream",
     "text": [
      "/Users/yibeihu/opt/anaconda3/envs/bestbuy_project/lib/python3.8/site-packages/statsmodels/tsa/base/tsa_model.py:834: ValueWarning: No supported index is available. Prediction results will be given with an integer index beginning at `start`.\n",
      "  return get_prediction_index(\n",
      "/Users/yibeihu/opt/anaconda3/envs/bestbuy_project/lib/python3.8/site-packages/statsmodels/tsa/base/tsa_model.py:471: ValueWarning: A date index has been provided, but it has no associated frequency information and so will be ignored when e.g. forecasting.\n",
      "  self._init_dates(dates, freq)\n",
      "/Users/yibeihu/opt/anaconda3/envs/bestbuy_project/lib/python3.8/site-packages/statsmodels/tsa/base/tsa_model.py:471: ValueWarning: A date index has been provided, but it is not monotonic and so will be ignored when e.g. forecasting.\n",
      "  self._init_dates(dates, freq)\n"
     ]
    },
    {
     "name": "stdout",
     "output_type": "stream",
     "text": [
      "1576    1.879288\n",
      "1577    2.359549\n",
      "1578    1.639401\n",
      "1579    1.918872\n",
      "1580    2.399188\n",
      "1581    2.719424\n",
      "1582    1.559593\n",
      "dtype: float64\n",
      "DatetimeIndex(['2022-08-01', '2022-08-02', '2022-08-03', '2022-08-04',\n",
      "               '2022-08-05', '2022-08-06', '2022-08-07'],\n",
      "              dtype='datetime64[ns]', freq='D')\n",
      "337\n"
     ]
    },
    {
     "name": "stderr",
     "output_type": "stream",
     "text": [
      "/Users/yibeihu/opt/anaconda3/envs/bestbuy_project/lib/python3.8/site-packages/statsmodels/tsa/base/tsa_model.py:834: ValueWarning: No supported index is available. Prediction results will be given with an integer index beginning at `start`.\n",
      "  return get_prediction_index(\n",
      "/Users/yibeihu/opt/anaconda3/envs/bestbuy_project/lib/python3.8/site-packages/statsmodels/tsa/base/tsa_model.py:471: ValueWarning: A date index has been provided, but it has no associated frequency information and so will be ignored when e.g. forecasting.\n",
      "  self._init_dates(dates, freq)\n",
      "/Users/yibeihu/opt/anaconda3/envs/bestbuy_project/lib/python3.8/site-packages/statsmodels/tsa/base/tsa_model.py:471: ValueWarning: A date index has been provided, but it is not monotonic and so will be ignored when e.g. forecasting.\n",
      "  self._init_dates(dates, freq)\n"
     ]
    },
    {
     "name": "stdout",
     "output_type": "stream",
     "text": [
      "1772    1.031605\n",
      "1773    0.808363\n",
      "1774    1.060985\n",
      "1775    1.561566\n",
      "1776    1.307324\n",
      "1777    0.845575\n",
      "1778    0.805923\n",
      "dtype: float64\n",
      "DatetimeIndex(['2022-08-01', '2022-08-02', '2022-08-03', '2022-08-04',\n",
      "               '2022-08-05', '2022-08-06', '2022-08-07'],\n",
      "              dtype='datetime64[ns]', freq='D')\n",
      "76\n"
     ]
    },
    {
     "name": "stderr",
     "output_type": "stream",
     "text": [
      "/Users/yibeihu/opt/anaconda3/envs/bestbuy_project/lib/python3.8/site-packages/statsmodels/tsa/base/tsa_model.py:834: ValueWarning: No supported index is available. Prediction results will be given with an integer index beginning at `start`.\n",
      "  return get_prediction_index(\n",
      "/Users/yibeihu/opt/anaconda3/envs/bestbuy_project/lib/python3.8/site-packages/statsmodels/tsa/base/tsa_model.py:471: ValueWarning: A date index has been provided, but it has no associated frequency information and so will be ignored when e.g. forecasting.\n",
      "  self._init_dates(dates, freq)\n",
      "/Users/yibeihu/opt/anaconda3/envs/bestbuy_project/lib/python3.8/site-packages/statsmodels/tsa/base/tsa_model.py:471: ValueWarning: A date index has been provided, but it is not monotonic and so will be ignored when e.g. forecasting.\n",
      "  self._init_dates(dates, freq)\n"
     ]
    },
    {
     "name": "stdout",
     "output_type": "stream",
     "text": [
      "1863    5.360479\n",
      "1864    5.632306\n",
      "1865    5.672556\n",
      "1866    3.849035\n",
      "1867    5.193965\n",
      "1868    5.249479\n",
      "1869    4.546536\n",
      "dtype: float64\n",
      "DatetimeIndex(['2022-08-01', '2022-08-02', '2022-08-03', '2022-08-04',\n",
      "               '2022-08-05', '2022-08-06', '2022-08-07'],\n",
      "              dtype='datetime64[ns]', freq='D')\n",
      "147\n"
     ]
    },
    {
     "name": "stderr",
     "output_type": "stream",
     "text": [
      "/Users/yibeihu/opt/anaconda3/envs/bestbuy_project/lib/python3.8/site-packages/statsmodels/tsa/base/tsa_model.py:834: ValueWarning: No supported index is available. Prediction results will be given with an integer index beginning at `start`.\n",
      "  return get_prediction_index(\n",
      "/Users/yibeihu/opt/anaconda3/envs/bestbuy_project/lib/python3.8/site-packages/statsmodels/tsa/base/tsa_model.py:471: ValueWarning: A date index has been provided, but it has no associated frequency information and so will be ignored when e.g. forecasting.\n",
      "  self._init_dates(dates, freq)\n",
      "/Users/yibeihu/opt/anaconda3/envs/bestbuy_project/lib/python3.8/site-packages/statsmodels/tsa/base/tsa_model.py:471: ValueWarning: A date index has been provided, but it is not monotonic and so will be ignored when e.g. forecasting.\n",
      "  self._init_dates(dates, freq)\n"
     ]
    },
    {
     "name": "stdout",
     "output_type": "stream",
     "text": [
      "1863    5.219234\n",
      "1864    6.551819\n",
      "1865    6.268386\n",
      "1866    4.325363\n",
      "1867    5.227681\n",
      "1868    5.978395\n",
      "1869    5.193531\n",
      "dtype: float64\n",
      "DatetimeIndex(['2022-08-01', '2022-08-02', '2022-08-03', '2022-08-04',\n",
      "               '2022-08-05', '2022-08-06', '2022-08-07'],\n",
      "              dtype='datetime64[ns]', freq='D')\n",
      "157\n"
     ]
    },
    {
     "name": "stderr",
     "output_type": "stream",
     "text": [
      "/Users/yibeihu/opt/anaconda3/envs/bestbuy_project/lib/python3.8/site-packages/statsmodels/tsa/base/tsa_model.py:834: ValueWarning: No supported index is available. Prediction results will be given with an integer index beginning at `start`.\n",
      "  return get_prediction_index(\n",
      "/Users/yibeihu/opt/anaconda3/envs/bestbuy_project/lib/python3.8/site-packages/statsmodels/tsa/base/tsa_model.py:471: ValueWarning: A date index has been provided, but it has no associated frequency information and so will be ignored when e.g. forecasting.\n",
      "  self._init_dates(dates, freq)\n",
      "/Users/yibeihu/opt/anaconda3/envs/bestbuy_project/lib/python3.8/site-packages/statsmodels/tsa/base/tsa_model.py:471: ValueWarning: A date index has been provided, but it is not monotonic and so will be ignored when e.g. forecasting.\n",
      "  self._init_dates(dates, freq)\n"
     ]
    },
    {
     "name": "stdout",
     "output_type": "stream",
     "text": [
      "1407    44.140408\n",
      "1408    23.503512\n",
      "1409    82.817743\n",
      "1410    39.309683\n",
      "1411    42.142706\n",
      "1412    35.990261\n",
      "1413    35.958268\n",
      "dtype: float64\n",
      "DatetimeIndex(['2022-08-01', '2022-08-02', '2022-08-03', '2022-08-04',\n",
      "               '2022-08-05', '2022-08-06', '2022-08-07'],\n",
      "              dtype='datetime64[ns]', freq='D')\n",
      "358\n"
     ]
    },
    {
     "name": "stderr",
     "output_type": "stream",
     "text": [
      "/Users/yibeihu/opt/anaconda3/envs/bestbuy_project/lib/python3.8/site-packages/statsmodels/tsa/base/tsa_model.py:834: ValueWarning: No supported index is available. Prediction results will be given with an integer index beginning at `start`.\n",
      "  return get_prediction_index(\n",
      "/Users/yibeihu/opt/anaconda3/envs/bestbuy_project/lib/python3.8/site-packages/statsmodels/tsa/base/tsa_model.py:471: ValueWarning: A date index has been provided, but it has no associated frequency information and so will be ignored when e.g. forecasting.\n",
      "  self._init_dates(dates, freq)\n",
      "/Users/yibeihu/opt/anaconda3/envs/bestbuy_project/lib/python3.8/site-packages/statsmodels/tsa/base/tsa_model.py:471: ValueWarning: A date index has been provided, but it is not monotonic and so will be ignored when e.g. forecasting.\n",
      "  self._init_dates(dates, freq)\n"
     ]
    },
    {
     "name": "stdout",
     "output_type": "stream",
     "text": [
      "1276    16.560530\n",
      "1277    19.797115\n",
      "1278    30.818005\n",
      "1279    13.349868\n",
      "1280    21.696092\n",
      "1281    22.102015\n",
      "1282    18.817382\n",
      "dtype: float64\n",
      "DatetimeIndex(['2022-08-01', '2022-08-02', '2022-08-03', '2022-08-04',\n",
      "               '2022-08-05', '2022-08-06', '2022-08-07'],\n",
      "              dtype='datetime64[ns]', freq='D')\n",
      "413\n"
     ]
    },
    {
     "name": "stderr",
     "output_type": "stream",
     "text": [
      "/Users/yibeihu/opt/anaconda3/envs/bestbuy_project/lib/python3.8/site-packages/statsmodels/tsa/base/tsa_model.py:834: ValueWarning: No supported index is available. Prediction results will be given with an integer index beginning at `start`.\n",
      "  return get_prediction_index(\n",
      "/Users/yibeihu/opt/anaconda3/envs/bestbuy_project/lib/python3.8/site-packages/statsmodels/tsa/base/tsa_model.py:471: ValueWarning: A date index has been provided, but it has no associated frequency information and so will be ignored when e.g. forecasting.\n",
      "  self._init_dates(dates, freq)\n",
      "/Users/yibeihu/opt/anaconda3/envs/bestbuy_project/lib/python3.8/site-packages/statsmodels/tsa/base/tsa_model.py:471: ValueWarning: A date index has been provided, but it is not monotonic and so will be ignored when e.g. forecasting.\n",
      "  self._init_dates(dates, freq)\n",
      "/Users/yibeihu/opt/anaconda3/envs/bestbuy_project/lib/python3.8/site-packages/statsmodels/tsa/base/tsa_model.py:834: ValueWarning: No supported index is available. Prediction results will be given with an integer index beginning at `start`.\n",
      "  return get_prediction_index(\n"
     ]
    },
    {
     "name": "stdout",
     "output_type": "stream",
     "text": [
      "937    3.603303\n",
      "938    3.039835\n",
      "939    3.959853\n",
      "940    5.141440\n",
      "941    4.304999\n",
      "942    3.448650\n",
      "943    2.580019\n",
      "dtype: float64\n",
      "DatetimeIndex(['2022-08-01', '2022-08-02', '2022-08-03', '2022-08-04',\n",
      "               '2022-08-05', '2022-08-06', '2022-08-07'],\n",
      "              dtype='datetime64[ns]', freq='D')\n",
      "485\n",
      "1233    0.908757\n",
      "1234    0.700219\n",
      "1235    0.997280\n",
      "1236    1.447328\n",
      "1237    1.409739\n",
      "1238    1.418128\n",
      "1239    1.678635\n",
      "dtype: float64\n",
      "DatetimeIndex(['2022-08-01', '2022-08-02', '2022-08-03', '2022-08-04',\n",
      "               '2022-08-05', '2022-08-06', '2022-08-07'],\n",
      "              dtype='datetime64[ns]', freq='D')\n",
      "569\n",
      "701    2.883637\n",
      "702    2.065078\n",
      "703    1.519381\n",
      "704    2.246047\n",
      "705    1.791683\n",
      "706    1.430173\n",
      "707    1.793841\n",
      "dtype: float64\n",
      "DatetimeIndex(['2022-08-01', '2022-08-02', '2022-08-03', '2022-08-04',\n",
      "               '2022-08-05', '2022-08-06', '2022-08-07'],\n",
      "              dtype='datetime64[ns]', freq='D')\n"
     ]
    },
    {
     "name": "stderr",
     "output_type": "stream",
     "text": [
      "/Users/yibeihu/opt/anaconda3/envs/bestbuy_project/lib/python3.8/site-packages/statsmodels/tsa/base/tsa_model.py:471: ValueWarning: A date index has been provided, but it has no associated frequency information and so will be ignored when e.g. forecasting.\n",
      "  self._init_dates(dates, freq)\n",
      "/Users/yibeihu/opt/anaconda3/envs/bestbuy_project/lib/python3.8/site-packages/statsmodels/tsa/base/tsa_model.py:471: ValueWarning: A date index has been provided, but it is not monotonic and so will be ignored when e.g. forecasting.\n",
      "  self._init_dates(dates, freq)\n",
      "/Users/yibeihu/opt/anaconda3/envs/bestbuy_project/lib/python3.8/site-packages/statsmodels/tsa/base/tsa_model.py:834: ValueWarning: No supported index is available. Prediction results will be given with an integer index beginning at `start`.\n",
      "  return get_prediction_index(\n"
     ]
    }
   ],
   "source": [
    "holt_rst, holt_actual = fit_es(sku, df1, test)"
   ]
  },
  {
   "cell_type": "code",
   "execution_count": 153,
   "metadata": {},
   "outputs": [],
   "source": [
    "holt_rst.rename({'index':'SALES_DATE'},axis=1, inplace= True)"
   ]
  },
  {
   "cell_type": "code",
   "execution_count": 155,
   "metadata": {},
   "outputs": [
    {
     "data": {
      "text/plain": [
       "(175, 3)"
      ]
     },
     "execution_count": 155,
     "metadata": {},
     "output_type": "execute_result"
    }
   ],
   "source": [
    "holt_rst.shape"
   ]
  },
  {
   "cell_type": "code",
   "execution_count": 156,
   "metadata": {},
   "outputs": [
    {
     "data": {
      "text/plain": [
       "25.0"
      ]
     },
     "execution_count": 156,
     "metadata": {},
     "output_type": "execute_result"
    }
   ],
   "source": [
    "175/7"
   ]
  },
  {
   "cell_type": "code",
   "execution_count": 33,
   "metadata": {},
   "outputs": [],
   "source": [
    "import sys\n",
    "sys.path.append(\"/Users/yibeihu/bestbuy_project/\")\n",
    "from src.utils import *"
   ]
  },
  {
   "cell_type": "code",
   "execution_count": 157,
   "metadata": {},
   "outputs": [
    {
     "data": {
      "text/plain": [
       "10.306690889821096"
      ]
     },
     "execution_count": 157,
     "metadata": {},
     "output_type": "execute_result"
    }
   ],
   "source": [
    "rmse(holt_rst, holt_actual)"
   ]
  },
  {
   "cell_type": "code",
   "execution_count": 158,
   "metadata": {},
   "outputs": [],
   "source": [
    "holt_rst.to_csv('../../results/holt_rst_final.csv')"
   ]
  },
  {
   "cell_type": "code",
   "execution_count": 58,
   "metadata": {},
   "outputs": [
    {
     "data": {
      "text/html": [
       "<div>\n",
       "<style scoped>\n",
       "    .dataframe tbody tr th:only-of-type {\n",
       "        vertical-align: middle;\n",
       "    }\n",
       "\n",
       "    .dataframe tbody tr th {\n",
       "        vertical-align: top;\n",
       "    }\n",
       "\n",
       "    .dataframe thead th {\n",
       "        text-align: right;\n",
       "    }\n",
       "</style>\n",
       "<table border=\"1\" class=\"dataframe\">\n",
       "  <thead>\n",
       "    <tr style=\"text-align: right;\">\n",
       "      <th></th>\n",
       "      <th>Encoded_SKU_ID</th>\n",
       "      <th>SALES_DATE</th>\n",
       "      <th>SUBCLASS_NAME</th>\n",
       "      <th>CLASS_NAME</th>\n",
       "      <th>ML_NAME</th>\n",
       "      <th>CATEGORY_NAME</th>\n",
       "      <th>RETAIL_PRICE</th>\n",
       "      <th>PROMO_PRICE</th>\n",
       "      <th>COMPETITOR_PRICE</th>\n",
       "      <th>Inventory</th>\n",
       "      <th>DAILY_UNITS</th>\n",
       "      <th>max_SALES_DATE</th>\n",
       "      <th>delta_days</th>\n",
       "      <th>validation</th>\n",
       "      <th>validation_clean</th>\n",
       "    </tr>\n",
       "  </thead>\n",
       "  <tbody>\n",
       "    <tr>\n",
       "      <th>411277</th>\n",
       "      <td>1</td>\n",
       "      <td>2022-07-31</td>\n",
       "      <td>MISC CAMERA ACCES</td>\n",
       "      <td>DIGITAL CAMERA ACCY</td>\n",
       "      <td>ML - DI Accessories</td>\n",
       "      <td>VP - Digital Imaging</td>\n",
       "      <td>89.99</td>\n",
       "      <td>?</td>\n",
       "      <td>69.95</td>\n",
       "      <td>Fully-Stocked</td>\n",
       "      <td>1</td>\n",
       "      <td>2022-07-31</td>\n",
       "      <td>0</td>\n",
       "      <td>True</td>\n",
       "      <td>True</td>\n",
       "    </tr>\n",
       "  </tbody>\n",
       "</table>\n",
       "</div>"
      ],
      "text/plain": [
       "        Encoded_SKU_ID  SALES_DATE      SUBCLASS_NAME           CLASS_NAME  \\\n",
       "411277               1  2022-07-31  MISC CAMERA ACCES  DIGITAL CAMERA ACCY   \n",
       "\n",
       "                    ML_NAME         CATEGORY_NAME  RETAIL_PRICE PROMO_PRICE  \\\n",
       "411277  ML - DI Accessories  VP - Digital Imaging         89.99           ?   \n",
       "\n",
       "       COMPETITOR_PRICE      Inventory  DAILY_UNITS max_SALES_DATE  \\\n",
       "411277            69.95  Fully-Stocked            1     2022-07-31   \n",
       "\n",
       "        delta_days  validation  validation_clean  \n",
       "411277           0        True              True  "
      ]
     },
     "execution_count": 58,
     "metadata": {},
     "output_type": "execute_result"
    }
   ],
   "source": [
    "df1[(df1['Encoded_SKU_ID']==1) & (df1['SALES_DATE']=='2022-07-31')]"
   ]
  },
  {
   "cell_type": "code",
   "execution_count": 120,
   "metadata": {},
   "outputs": [],
   "source": [
    "y_actual = test[['Encoded_SKU_ID','SALES_DATE', 'DAILY_UNITS']]"
   ]
  },
  {
   "cell_type": "code",
   "execution_count": 122,
   "metadata": {},
   "outputs": [
    {
     "data": {
      "text/plain": [
       "(3773, 3)"
      ]
     },
     "execution_count": 122,
     "metadata": {},
     "output_type": "execute_result"
    }
   ],
   "source": [
    "y_actual.shape"
   ]
  },
  {
   "cell_type": "code",
   "execution_count": 124,
   "metadata": {},
   "outputs": [],
   "source": [
    "forecast = df1[df1['SALES_DATE'] == '2022-07-31'][['Encoded_SKU_ID','SALES_DATE','DAILY_UNITS']]"
   ]
  },
  {
   "cell_type": "code",
   "execution_count": 125,
   "metadata": {},
   "outputs": [
    {
     "data": {
      "text/plain": [
       "(556, 3)"
      ]
     },
     "execution_count": 125,
     "metadata": {},
     "output_type": "execute_result"
    }
   ],
   "source": [
    "forecast.shape"
   ]
  },
  {
   "cell_type": "code",
   "execution_count": 126,
   "metadata": {},
   "outputs": [],
   "source": [
    "y_pred = y_actual.merge(forecast, on=['Encoded_SKU_ID'], how='left')"
   ]
  },
  {
   "cell_type": "code",
   "execution_count": 127,
   "metadata": {},
   "outputs": [
    {
     "data": {
      "text/html": [
       "<div>\n",
       "<style scoped>\n",
       "    .dataframe tbody tr th:only-of-type {\n",
       "        vertical-align: middle;\n",
       "    }\n",
       "\n",
       "    .dataframe tbody tr th {\n",
       "        vertical-align: top;\n",
       "    }\n",
       "\n",
       "    .dataframe thead th {\n",
       "        text-align: right;\n",
       "    }\n",
       "</style>\n",
       "<table border=\"1\" class=\"dataframe\">\n",
       "  <thead>\n",
       "    <tr style=\"text-align: right;\">\n",
       "      <th></th>\n",
       "      <th>Encoded_SKU_ID</th>\n",
       "      <th>SALES_DATE_x</th>\n",
       "      <th>DAILY_UNITS_x</th>\n",
       "      <th>SALES_DATE_y</th>\n",
       "      <th>DAILY_UNITS_y</th>\n",
       "    </tr>\n",
       "  </thead>\n",
       "  <tbody>\n",
       "    <tr>\n",
       "      <th>0</th>\n",
       "      <td>23</td>\n",
       "      <td>2022-08-06</td>\n",
       "      <td>3</td>\n",
       "      <td>2022-07-31</td>\n",
       "      <td>1</td>\n",
       "    </tr>\n",
       "    <tr>\n",
       "      <th>1</th>\n",
       "      <td>100</td>\n",
       "      <td>2022-08-02</td>\n",
       "      <td>2</td>\n",
       "      <td>2022-07-31</td>\n",
       "      <td>2</td>\n",
       "    </tr>\n",
       "    <tr>\n",
       "      <th>2</th>\n",
       "      <td>121</td>\n",
       "      <td>2022-08-06</td>\n",
       "      <td>6</td>\n",
       "      <td>2022-07-31</td>\n",
       "      <td>0</td>\n",
       "    </tr>\n",
       "    <tr>\n",
       "      <th>3</th>\n",
       "      <td>207</td>\n",
       "      <td>2022-08-03</td>\n",
       "      <td>0</td>\n",
       "      <td>2022-07-31</td>\n",
       "      <td>1</td>\n",
       "    </tr>\n",
       "    <tr>\n",
       "      <th>4</th>\n",
       "      <td>416</td>\n",
       "      <td>2022-08-05</td>\n",
       "      <td>9</td>\n",
       "      <td>2022-07-31</td>\n",
       "      <td>11</td>\n",
       "    </tr>\n",
       "  </tbody>\n",
       "</table>\n",
       "</div>"
      ],
      "text/plain": [
       "   Encoded_SKU_ID SALES_DATE_x  DAILY_UNITS_x SALES_DATE_y  DAILY_UNITS_y\n",
       "0              23   2022-08-06              3   2022-07-31              1\n",
       "1             100   2022-08-02              2   2022-07-31              2\n",
       "2             121   2022-08-06              6   2022-07-31              0\n",
       "3             207   2022-08-03              0   2022-07-31              1\n",
       "4             416   2022-08-05              9   2022-07-31             11"
      ]
     },
     "execution_count": 127,
     "metadata": {},
     "output_type": "execute_result"
    }
   ],
   "source": [
    "y_pred.head()"
   ]
  },
  {
   "cell_type": "code",
   "execution_count": 129,
   "metadata": {},
   "outputs": [
    {
     "data": {
      "text/plain": [
       "Encoded_SKU_ID    0\n",
       "SALES_DATE_x      0\n",
       "DAILY_UNITS_x     0\n",
       "SALES_DATE_y      0\n",
       "DAILY_UNITS_y     0\n",
       "dtype: int64"
      ]
     },
     "execution_count": 129,
     "metadata": {},
     "output_type": "execute_result"
    }
   ],
   "source": [
    "y_pred.isna().sum()"
   ]
  },
  {
   "cell_type": "code",
   "execution_count": 130,
   "metadata": {},
   "outputs": [],
   "source": [
    "y_pred_null = y_pred[['Encoded_SKU_ID','SALES_DATE_x','DAILY_UNITS_y']].rename(columns={'SALES_DATE_x':'SALES_DATE','DAILY_UNITS_y':'predicted'})"
   ]
  },
  {
   "cell_type": "code",
   "execution_count": 140,
   "metadata": {},
   "outputs": [
    {
     "data": {
      "text/html": [
       "<div>\n",
       "<style scoped>\n",
       "    .dataframe tbody tr th:only-of-type {\n",
       "        vertical-align: middle;\n",
       "    }\n",
       "\n",
       "    .dataframe tbody tr th {\n",
       "        vertical-align: top;\n",
       "    }\n",
       "\n",
       "    .dataframe thead th {\n",
       "        text-align: right;\n",
       "    }\n",
       "</style>\n",
       "<table border=\"1\" class=\"dataframe\">\n",
       "  <thead>\n",
       "    <tr style=\"text-align: right;\">\n",
       "      <th></th>\n",
       "      <th>Encoded_SKU_ID</th>\n",
       "      <th>SALES_DATE</th>\n",
       "      <th>predicted</th>\n",
       "    </tr>\n",
       "  </thead>\n",
       "  <tbody>\n",
       "    <tr>\n",
       "      <th>0</th>\n",
       "      <td>23</td>\n",
       "      <td>2022-08-06</td>\n",
       "      <td>1</td>\n",
       "    </tr>\n",
       "    <tr>\n",
       "      <th>1</th>\n",
       "      <td>100</td>\n",
       "      <td>2022-08-02</td>\n",
       "      <td>2</td>\n",
       "    </tr>\n",
       "    <tr>\n",
       "      <th>2</th>\n",
       "      <td>121</td>\n",
       "      <td>2022-08-06</td>\n",
       "      <td>0</td>\n",
       "    </tr>\n",
       "    <tr>\n",
       "      <th>3</th>\n",
       "      <td>207</td>\n",
       "      <td>2022-08-03</td>\n",
       "      <td>1</td>\n",
       "    </tr>\n",
       "    <tr>\n",
       "      <th>4</th>\n",
       "      <td>416</td>\n",
       "      <td>2022-08-05</td>\n",
       "      <td>11</td>\n",
       "    </tr>\n",
       "    <tr>\n",
       "      <th>...</th>\n",
       "      <td>...</td>\n",
       "      <td>...</td>\n",
       "      <td>...</td>\n",
       "    </tr>\n",
       "    <tr>\n",
       "      <th>3768</th>\n",
       "      <td>486</td>\n",
       "      <td>2022-08-06</td>\n",
       "      <td>5</td>\n",
       "    </tr>\n",
       "    <tr>\n",
       "      <th>3769</th>\n",
       "      <td>171</td>\n",
       "      <td>2022-08-02</td>\n",
       "      <td>0</td>\n",
       "    </tr>\n",
       "    <tr>\n",
       "      <th>3770</th>\n",
       "      <td>258</td>\n",
       "      <td>2022-08-01</td>\n",
       "      <td>0</td>\n",
       "    </tr>\n",
       "    <tr>\n",
       "      <th>3771</th>\n",
       "      <td>140</td>\n",
       "      <td>2022-08-01</td>\n",
       "      <td>2</td>\n",
       "    </tr>\n",
       "    <tr>\n",
       "      <th>3772</th>\n",
       "      <td>513</td>\n",
       "      <td>2022-08-04</td>\n",
       "      <td>1</td>\n",
       "    </tr>\n",
       "  </tbody>\n",
       "</table>\n",
       "<p>3773 rows × 3 columns</p>\n",
       "</div>"
      ],
      "text/plain": [
       "      Encoded_SKU_ID SALES_DATE  predicted\n",
       "0                 23 2022-08-06          1\n",
       "1                100 2022-08-02          2\n",
       "2                121 2022-08-06          0\n",
       "3                207 2022-08-03          1\n",
       "4                416 2022-08-05         11\n",
       "...              ...        ...        ...\n",
       "3768             486 2022-08-06          5\n",
       "3769             171 2022-08-02          0\n",
       "3770             258 2022-08-01          0\n",
       "3771             140 2022-08-01          2\n",
       "3772             513 2022-08-04          1\n",
       "\n",
       "[3773 rows x 3 columns]"
      ]
     },
     "execution_count": 140,
     "metadata": {},
     "output_type": "execute_result"
    }
   ],
   "source": [
    "y_pred_null.to"
   ]
  },
  {
   "cell_type": "code",
   "execution_count": 144,
   "metadata": {},
   "outputs": [],
   "source": [
    "y_act_null = y_actual.rename(columns={'DAILY_UNITS':'actual'})"
   ]
  },
  {
   "cell_type": "code",
   "execution_count": 145,
   "metadata": {},
   "outputs": [
    {
     "data": {
      "text/html": [
       "<div>\n",
       "<style scoped>\n",
       "    .dataframe tbody tr th:only-of-type {\n",
       "        vertical-align: middle;\n",
       "    }\n",
       "\n",
       "    .dataframe tbody tr th {\n",
       "        vertical-align: top;\n",
       "    }\n",
       "\n",
       "    .dataframe thead th {\n",
       "        text-align: right;\n",
       "    }\n",
       "</style>\n",
       "<table border=\"1\" class=\"dataframe\">\n",
       "  <thead>\n",
       "    <tr style=\"text-align: right;\">\n",
       "      <th></th>\n",
       "      <th>Encoded_SKU_ID</th>\n",
       "      <th>SALES_DATE</th>\n",
       "      <th>actual</th>\n",
       "    </tr>\n",
       "  </thead>\n",
       "  <tbody>\n",
       "    <tr>\n",
       "      <th>0</th>\n",
       "      <td>23</td>\n",
       "      <td>2022-08-06</td>\n",
       "      <td>3</td>\n",
       "    </tr>\n",
       "    <tr>\n",
       "      <th>1</th>\n",
       "      <td>100</td>\n",
       "      <td>2022-08-02</td>\n",
       "      <td>2</td>\n",
       "    </tr>\n",
       "    <tr>\n",
       "      <th>2</th>\n",
       "      <td>121</td>\n",
       "      <td>2022-08-06</td>\n",
       "      <td>6</td>\n",
       "    </tr>\n",
       "    <tr>\n",
       "      <th>3</th>\n",
       "      <td>207</td>\n",
       "      <td>2022-08-03</td>\n",
       "      <td>0</td>\n",
       "    </tr>\n",
       "    <tr>\n",
       "      <th>4</th>\n",
       "      <td>416</td>\n",
       "      <td>2022-08-05</td>\n",
       "      <td>9</td>\n",
       "    </tr>\n",
       "    <tr>\n",
       "      <th>...</th>\n",
       "      <td>...</td>\n",
       "      <td>...</td>\n",
       "      <td>...</td>\n",
       "    </tr>\n",
       "    <tr>\n",
       "      <th>3768</th>\n",
       "      <td>486</td>\n",
       "      <td>2022-08-06</td>\n",
       "      <td>2</td>\n",
       "    </tr>\n",
       "    <tr>\n",
       "      <th>3769</th>\n",
       "      <td>171</td>\n",
       "      <td>2022-08-02</td>\n",
       "      <td>1</td>\n",
       "    </tr>\n",
       "    <tr>\n",
       "      <th>3770</th>\n",
       "      <td>258</td>\n",
       "      <td>2022-08-01</td>\n",
       "      <td>0</td>\n",
       "    </tr>\n",
       "    <tr>\n",
       "      <th>3771</th>\n",
       "      <td>140</td>\n",
       "      <td>2022-08-01</td>\n",
       "      <td>1</td>\n",
       "    </tr>\n",
       "    <tr>\n",
       "      <th>3772</th>\n",
       "      <td>513</td>\n",
       "      <td>2022-08-04</td>\n",
       "      <td>0</td>\n",
       "    </tr>\n",
       "  </tbody>\n",
       "</table>\n",
       "<p>3773 rows × 3 columns</p>\n",
       "</div>"
      ],
      "text/plain": [
       "      Encoded_SKU_ID SALES_DATE  actual\n",
       "0                 23 2022-08-06       3\n",
       "1                100 2022-08-02       2\n",
       "2                121 2022-08-06       6\n",
       "3                207 2022-08-03       0\n",
       "4                416 2022-08-05       9\n",
       "...              ...        ...     ...\n",
       "3768             486 2022-08-06       2\n",
       "3769             171 2022-08-02       1\n",
       "3770             258 2022-08-01       0\n",
       "3771             140 2022-08-01       1\n",
       "3772             513 2022-08-04       0\n",
       "\n",
       "[3773 rows x 3 columns]"
      ]
     },
     "execution_count": 145,
     "metadata": {},
     "output_type": "execute_result"
    }
   ],
   "source": [
    "y_act_null"
   ]
  },
  {
   "cell_type": "code",
   "execution_count": 148,
   "metadata": {},
   "outputs": [
    {
     "data": {
      "text/plain": [
       "5.290976671399268"
      ]
     },
     "execution_count": 148,
     "metadata": {},
     "output_type": "execute_result"
    }
   ],
   "source": [
    "rmse(y_pred_null,y_act_null)"
   ]
  },
  {
   "cell_type": "code",
   "execution_count": 149,
   "metadata": {},
   "outputs": [],
   "source": [
    "y_pred_null.to_csv('../../results/null_model_results_final.csv')"
   ]
  }
 ],
 "metadata": {
  "kernelspec": {
   "display_name": "Python 3 (ipykernel)",
   "language": "python",
   "name": "python3"
  },
  "language_info": {
   "codemirror_mode": {
    "name": "ipython",
    "version": 3
   },
   "file_extension": ".py",
   "mimetype": "text/x-python",
   "name": "python",
   "nbconvert_exporter": "python",
   "pygments_lexer": "ipython3",
   "version": "3.8.15"
  }
 },
 "nbformat": 4,
 "nbformat_minor": 4
}
