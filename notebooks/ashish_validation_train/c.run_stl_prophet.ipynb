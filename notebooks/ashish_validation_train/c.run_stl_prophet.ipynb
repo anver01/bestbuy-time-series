{
 "cells": [
  {
   "cell_type": "code",
   "execution_count": 1,
   "id": "0c791956",
   "metadata": {},
   "outputs": [
    {
     "name": "stdout",
     "output_type": "stream",
     "text": [
      "/Users/ashish1610dhiman/data_projects/bestbuy/notebooks/ashish_validation_train\r\n"
     ]
    }
   ],
   "source": [
    "!pwd"
   ]
  },
  {
   "cell_type": "code",
   "execution_count": 2,
   "id": "a76cb502",
   "metadata": {},
   "outputs": [
    {
     "name": "stderr",
     "output_type": "stream",
     "text": [
      "Importing plotly failed. Interactive plots will not work.\n"
     ]
    }
   ],
   "source": [
    "import sys\n",
    "import matplotlib\n",
    "import numpy as np\n",
    "import pandas as pd\n",
    "import matplotlib.pyplot as plt\n",
    "import datetime\n",
    "\n",
    "sys.version\n",
    "\n",
    "sys.path.append(\"../../\")\n",
    "\n",
    "from src.ad_hmm import sku_predict\n",
    "from src.ad_stl_model import stl_model\n",
    "from src.ad_stl_prophet import stl_model\n",
    "from src.utils import *\n",
    "import pickle"
   ]
  },
  {
   "cell_type": "code",
   "execution_count": 3,
   "id": "3a3716cb",
   "metadata": {},
   "outputs": [],
   "source": [
    "%load_ext autoreload \n",
    "%autoreload 2"
   ]
  },
  {
   "cell_type": "markdown",
   "id": "6633fd27",
   "metadata": {},
   "source": [
    "### Get STL/Prophet SKUs"
   ]
  },
  {
   "cell_type": "code",
   "execution_count": 4,
   "id": "f642de08",
   "metadata": {},
   "outputs": [],
   "source": [
    "with open('../../results/final_sku_model_map.pkl', 'rb') as handle:\n",
    "    sku_period_dict1 = pickle.load(handle)"
   ]
  },
  {
   "cell_type": "code",
   "execution_count": 5,
   "id": "ec970b39",
   "metadata": {},
   "outputs": [
    {
     "data": {
      "text/plain": [
       "dict_keys(['rmse_du_15', 'rmse_du_30', 'rmse_du_45', 'rmse_du_60', 'rmse_du_90', 'rmse_du_MSTL', 'rmse_du_STL', 'rmse_du_holt', 'rmse_du_max', 'rmse_du_null', 'rmse_du_prophet'])"
      ]
     },
     "execution_count": 5,
     "metadata": {},
     "output_type": "execute_result"
    }
   ],
   "source": [
    "sku_period_dict1.keys()"
   ]
  },
  {
   "cell_type": "code",
   "execution_count": 6,
   "id": "c3d91de8",
   "metadata": {},
   "outputs": [],
   "source": [
    "stl_keys = ['rmse_du_MSTL', 'rmse_du_STL', 'rmse_du_prophet']"
   ]
  },
  {
   "cell_type": "code",
   "execution_count": 9,
   "id": "e007665d",
   "metadata": {},
   "outputs": [
    {
     "data": {
      "text/plain": [
       "(141, 127)"
      ]
     },
     "execution_count": 9,
     "metadata": {},
     "output_type": "execute_result"
    }
   ],
   "source": [
    "import itertools\n",
    "stl_skus = [sku_period_dict1[sub_model] for sub_model in stl_keys]\n",
    "stl_skus = list(itertools.chain.from_iterable(stl_skus))\n",
    "\n",
    "len(stl_skus),len(set(stl_skus))"
   ]
  },
  {
   "cell_type": "code",
   "execution_count": 10,
   "id": "bf3e4d3b",
   "metadata": {},
   "outputs": [],
   "source": [
    "stl_skus = list(set(stl_skus))"
   ]
  },
  {
   "cell_type": "markdown",
   "id": "04d535e7",
   "metadata": {},
   "source": [
    "### Prepare Train data"
   ]
  },
  {
   "cell_type": "code",
   "execution_count": 20,
   "id": "5214e153",
   "metadata": {},
   "outputs": [],
   "source": [
    "original_train = pd.read_csv(\"../../data/train_validation_marker.csv\").drop_duplicates()\n",
    "original_train = original_train.loc[original_train.Encoded_SKU_ID.isin(stl_skus)]\n",
    "original_train[\"SALES_DATE\"] = pd.to_datetime(original_train[\"SALES_DATE\"])\n",
    "original_train[\"validation_clean\"] = True\n",
    "original_train[\"validation\"] = False"
   ]
  },
  {
   "cell_type": "code",
   "execution_count": 21,
   "id": "5e0aa2e4",
   "metadata": {},
   "outputs": [],
   "source": [
    "original_validation = pd.read_excel(\"../../data/Validation_Data.xlsx\").drop_duplicates()\n",
    "original_validation = original_validation.loc[original_validation.Encoded_SKU_ID.isin(stl_skus)]\n",
    "original_validation[\"SALES_DATE\"] = pd.to_datetime(original_validation[\"SALES_DATE\"])\n",
    "original_validation[\"validation_clean\"] = True\n",
    "original_validation[\"validation\"] = True"
   ]
  },
  {
   "cell_type": "markdown",
   "id": "6dc28cad",
   "metadata": {},
   "source": [
    "mute Daily units before appending "
   ]
  },
  {
   "cell_type": "code",
   "execution_count": 22,
   "id": "87ee0e08",
   "metadata": {},
   "outputs": [],
   "source": [
    "original_validation[\"DAILY_UNITS\"] = np.nan"
   ]
  },
  {
   "cell_type": "code",
   "execution_count": 23,
   "id": "75810495",
   "metadata": {},
   "outputs": [
    {
     "name": "stdout",
     "output_type": "stream",
     "text": [
      "(177736, 15) (889, 14) (178625, 13)\n"
     ]
    }
   ],
   "source": [
    "common_cols = set(original_train.columns).intersection(original_validation.columns)\n",
    "original_train1 = pd.concat([original_train[list(common_cols)],original_validation[list(common_cols)]])\n",
    "print (original_train.shape,original_validation.shape,original_train1.shape)"
   ]
  },
  {
   "cell_type": "code",
   "execution_count": 24,
   "id": "5ecd28b3",
   "metadata": {},
   "outputs": [],
   "source": [
    "original_train1[\"if_promo\"] = (~original_train1[\"PROMO_PRICE\"].isin([\"?\"])).astype(\"int\")\n",
    "original_train1[\"if_competitor\"] = (~original_train1[\"COMPETITOR_PRICE\"].isin([\"?\"])).astype(\"int\")\n",
    "\n",
    "original_train1[\"min_sales_price\"] = pd.to_numeric(np.where(original_train1.if_promo>0, original_train1.PROMO_PRICE,\\\n",
    "                                                       original_train1.RETAIL_PRICE))\n",
    "\n",
    "original_train1[\"comp_price_clean\"] = pd.to_numeric(np.where(original_train1.if_competitor>0,original_train1.COMPETITOR_PRICE, np.nan))\n",
    "original_train1[\"price_delta\"] = np.where(original_train1.if_competitor>0, original_train1.min_sales_price - original_train1.comp_price_clean,\\\n",
    "                                   -original_train1.min_sales_price)"
   ]
  },
  {
   "cell_type": "code",
   "execution_count": 25,
   "id": "ff63f5ed",
   "metadata": {},
   "outputs": [],
   "source": [
    "original_train1 = pd.get_dummies(original_train1,columns = [\"Inventory\"], drop_first=False)"
   ]
  },
  {
   "cell_type": "code",
   "execution_count": 26,
   "id": "4243a9da",
   "metadata": {},
   "outputs": [
    {
     "data": {
      "text/plain": [
       "{'CATEGORY_NAME',\n",
       " 'CLASS_NAME',\n",
       " 'COMPETITOR_PRICE',\n",
       " 'DAILY_UNITS',\n",
       " 'Encoded_SKU_ID',\n",
       " 'Inventory',\n",
       " 'ML_NAME',\n",
       " 'PROMO_PRICE',\n",
       " 'RETAIL_PRICE',\n",
       " 'SALES_DATE',\n",
       " 'SUBCLASS_NAME',\n",
       " 'validation',\n",
       " 'validation_clean'}"
      ]
     },
     "execution_count": 26,
     "metadata": {},
     "output_type": "execute_result"
    }
   ],
   "source": [
    "common_cols"
   ]
  },
  {
   "cell_type": "code",
   "execution_count": 27,
   "id": "13573b40",
   "metadata": {},
   "outputs": [
    {
     "data": {
      "text/plain": [
       "Index(['validation', 'PROMO_PRICE', 'CATEGORY_NAME', 'CLASS_NAME',\n",
       "       'DAILY_UNITS', 'COMPETITOR_PRICE', 'RETAIL_PRICE', 'ML_NAME',\n",
       "       'validation_clean', 'SALES_DATE', 'Encoded_SKU_ID', 'SUBCLASS_NAME',\n",
       "       'if_promo', 'if_competitor', 'min_sales_price', 'comp_price_clean',\n",
       "       'price_delta', 'Inventory_Constrained', 'Inventory_Fully-Stocked',\n",
       "       'Inventory_Moderate', 'Inventory_Out-of-Stock'],\n",
       "      dtype='object')"
      ]
     },
     "execution_count": 27,
     "metadata": {},
     "output_type": "execute_result"
    }
   ],
   "source": [
    "original_train1.columns"
   ]
  },
  {
   "cell_type": "markdown",
   "id": "f4fd783e",
   "metadata": {},
   "source": [
    "#### Pivot data"
   ]
  },
  {
   "cell_type": "code",
   "execution_count": 28,
   "id": "57d6cb30",
   "metadata": {},
   "outputs": [
    {
     "data": {
      "text/html": [
       "<div>\n",
       "<style scoped>\n",
       "    .dataframe tbody tr th:only-of-type {\n",
       "        vertical-align: middle;\n",
       "    }\n",
       "\n",
       "    .dataframe tbody tr th {\n",
       "        vertical-align: top;\n",
       "    }\n",
       "\n",
       "    .dataframe thead th {\n",
       "        text-align: right;\n",
       "    }\n",
       "</style>\n",
       "<table border=\"1\" class=\"dataframe\">\n",
       "  <thead>\n",
       "    <tr style=\"text-align: right;\">\n",
       "      <th></th>\n",
       "      <th>validation</th>\n",
       "      <th>PROMO_PRICE</th>\n",
       "      <th>CATEGORY_NAME</th>\n",
       "      <th>CLASS_NAME</th>\n",
       "      <th>DAILY_UNITS</th>\n",
       "      <th>COMPETITOR_PRICE</th>\n",
       "      <th>RETAIL_PRICE</th>\n",
       "      <th>ML_NAME</th>\n",
       "      <th>validation_clean</th>\n",
       "      <th>SALES_DATE</th>\n",
       "      <th>...</th>\n",
       "      <th>SUBCLASS_NAME</th>\n",
       "      <th>if_promo</th>\n",
       "      <th>if_competitor</th>\n",
       "      <th>min_sales_price</th>\n",
       "      <th>comp_price_clean</th>\n",
       "      <th>price_delta</th>\n",
       "      <th>Inventory_Constrained</th>\n",
       "      <th>Inventory_Fully-Stocked</th>\n",
       "      <th>Inventory_Moderate</th>\n",
       "      <th>Inventory_Out-of-Stock</th>\n",
       "    </tr>\n",
       "  </thead>\n",
       "  <tbody>\n",
       "  </tbody>\n",
       "</table>\n",
       "<p>0 rows × 21 columns</p>\n",
       "</div>"
      ],
      "text/plain": [
       "Empty DataFrame\n",
       "Columns: [validation, PROMO_PRICE, CATEGORY_NAME, CLASS_NAME, DAILY_UNITS, COMPETITOR_PRICE, RETAIL_PRICE, ML_NAME, validation_clean, SALES_DATE, Encoded_SKU_ID, SUBCLASS_NAME, if_promo, if_competitor, min_sales_price, comp_price_clean, price_delta, Inventory_Constrained, Inventory_Fully-Stocked, Inventory_Moderate, Inventory_Out-of-Stock]\n",
       "Index: []\n",
       "\n",
       "[0 rows x 21 columns]"
      ]
     },
     "execution_count": 28,
     "metadata": {},
     "output_type": "execute_result"
    }
   ],
   "source": [
    "original_train1[original_train1.duplicated(keep=False)]"
   ]
  },
  {
   "cell_type": "code",
   "execution_count": 31,
   "id": "23dc536e",
   "metadata": {},
   "outputs": [],
   "source": [
    "original_train_pivot = original_train1.pivot(index='SALES_DATE', columns='Encoded_SKU_ID',\\\n",
    "                   values=['DAILY_UNITS',\"if_promo\",\"if_competitor\",\"min_sales_price\",\"price_delta\",\\\n",
    "                          \"RETAIL_PRICE\",'Inventory_Constrained', 'Inventory_Fully-Stocked',\n",
    "       'Inventory_Moderate', 'Inventory_Out-of-Stock',\"validation\",\"validation_clean\"])\n",
    "original_train_pivot.columns = original_train_pivot.columns.swaplevel(0, 1)"
   ]
  },
  {
   "cell_type": "markdown",
   "id": "f4efb945",
   "metadata": {},
   "source": [
    "### Test code for 1 SKU"
   ]
  },
  {
   "cell_type": "code",
   "execution_count": 32,
   "id": "be088dea",
   "metadata": {},
   "outputs": [
    {
     "name": "stderr",
     "output_type": "stream",
     "text": [
      "/var/folders/kb/v0p0ypbd0wx1q2qb1kpxmmcc0000gn/T/ipykernel_53609/2833426789.py:2: PerformanceWarning: indexing past lexsort depth may impact performance.\n",
      "  train_test_sku = original_train_pivot.loc[:,(sku_id,)].copy()\n"
     ]
    }
   ],
   "source": [
    "sku_id = stl_skus[0]\n",
    "train_test_sku = original_train_pivot.loc[:,(sku_id,)].copy()\n",
    "train_test_sku[\"ad_time\"] = list(range(1,original_train_pivot.shape[0]+1))"
   ]
  },
  {
   "cell_type": "code",
   "execution_count": 33,
   "id": "41564017",
   "metadata": {},
   "outputs": [],
   "source": [
    "exog_cols = [\"if_promo\",\"if_competitor\",\"min_sales_price\",\"price_delta\",\"RETAIL_PRICE\",\\\n",
    "            'Inventory_Constrained', 'Inventory_Fully-Stocked',\n",
    "       'Inventory_Moderate', 'Inventory_Out-of-Stock']\n",
    "stl_model1 = stl_model(sku_id = sku_id,\\\n",
    "                      train_test_sku = train_test_sku,\\\n",
    "                      n_lags_y = 30, \\\n",
    "                      n_lags_exog = 14, \\\n",
    "                      pred_cols = exog_cols)"
   ]
  },
  {
   "cell_type": "code",
   "execution_count": 36,
   "id": "8fc7b05e",
   "metadata": {},
   "outputs": [],
   "source": [
    "import warnings\n",
    "warnings.filterwarnings('ignore')"
   ]
  },
  {
   "cell_type": "code",
   "execution_count": 37,
   "id": "7ecb0297",
   "metadata": {},
   "outputs": [
    {
     "name": "stderr",
     "output_type": "stream",
     "text": [
      "23:04:40 - cmdstanpy - INFO - Chain [1] start processing\n",
      "23:04:41 - cmdstanpy - INFO - Chain [1] done processing\n"
     ]
    },
    {
     "name": "stdout",
     "output_type": "stream",
     "text": [
      "(518, 'none', 'prophet'), Train RMSE = 1.426\n",
      "\n",
      "(518, 'STL_resid', 'auto_reg'), Train RMSE = 1.087\n",
      "(518, 'STL_resid', 'xgb_340'), Train RMSE = 0.8887\n",
      "(518, 'STL_resid', 'xgb_1000'), Train RMSE = 0.853\n",
      "\n",
      "(518, 'STL_trend', 'auto_reg'), Train RMSE = 2.727e-05\n",
      "(518, 'STL_trend', 'xgb_340'), Train RMSE = 0.1175\n",
      "(518, 'STL_trend', 'xgb_1000'), Train RMSE = 0.1175\n",
      "\n",
      "(518, 'STL_seasonal', 'auto_reg'), Train RMSE = 1.1\n",
      "(518, 'STL_seasonal', 'xgb_340'), Train RMSE = 0.6017\n",
      "(518, 'STL_seasonal', 'xgb_1000'), Train RMSE = 0.6017\n",
      "\n",
      "(518, 'MSTL_resid', 'auto_reg'), Train RMSE = 0.864\n",
      "(518, 'MSTL_resid', 'xgb_340'), Train RMSE = 1.004\n",
      "(518, 'MSTL_resid', 'xgb_1000'), Train RMSE = 1.001\n",
      "\n",
      "(518, 'MSTL_trend', 'auto_reg'), Train RMSE = 4.943e-05\n",
      "(518, 'MSTL_trend', 'xgb_340'), Train RMSE = 0.2366\n",
      "(518, 'MSTL_trend', 'xgb_1000'), Train RMSE = 0.2366\n",
      "\n",
      "(518, 'MSTL_seasonal_7', 'auto_reg'), Train RMSE = 0.05155\n",
      "(518, 'MSTL_seasonal_7', 'xgb_340'), Train RMSE = 0.5558\n",
      "(518, 'MSTL_seasonal_7', 'xgb_1000'), Train RMSE = 0.5558\n",
      "\n",
      "(518, 'MSTL_seasonal_30', 'auto_reg'), Train RMSE = 0.1024\n",
      "(518, 'MSTL_seasonal_30', 'xgb_340'), Train RMSE = 0.4823\n",
      "(518, 'MSTL_seasonal_30', 'xgb_1000'), Train RMSE = 0.4823\n",
      "\n",
      "(518, 'MSTL_seasonal_365', 'auto_reg'), Train RMSE = 0.8941\n",
      "(518, 'MSTL_seasonal_365', 'xgb_340'), Train RMSE = 0.8687\n",
      "(518, 'MSTL_seasonal_365', 'xgb_1000'), Train RMSE = 0.8687\n",
      "\n"
     ]
    }
   ],
   "source": [
    "m_dict, y_dict = stl_model1.fit_models();"
   ]
  },
  {
   "cell_type": "code",
   "execution_count": 40,
   "id": "513423b0",
   "metadata": {},
   "outputs": [],
   "source": [
    "min_models, y_pred = stl_model1.get_result();"
   ]
  },
  {
   "cell_type": "code",
   "execution_count": 41,
   "id": "3ea64d70",
   "metadata": {},
   "outputs": [
    {
     "data": {
      "text/html": [
       "<div>\n",
       "<style scoped>\n",
       "    .dataframe tbody tr th:only-of-type {\n",
       "        vertical-align: middle;\n",
       "    }\n",
       "\n",
       "    .dataframe tbody tr th {\n",
       "        vertical-align: top;\n",
       "    }\n",
       "\n",
       "    .dataframe thead th {\n",
       "        text-align: right;\n",
       "    }\n",
       "</style>\n",
       "<table border=\"1\" class=\"dataframe\">\n",
       "  <thead>\n",
       "    <tr style=\"text-align: right;\">\n",
       "      <th></th>\n",
       "      <th>component</th>\n",
       "      <th>model_name</th>\n",
       "      <th>model</th>\n",
       "      <th>train_rmse</th>\n",
       "      <th>rnk</th>\n",
       "    </tr>\n",
       "  </thead>\n",
       "  <tbody>\n",
       "    <tr>\n",
       "      <th>0</th>\n",
       "      <td>none</td>\n",
       "      <td>prophet</td>\n",
       "      <td>&lt;prophet.forecaster.Prophet object at 0x15ba58...</td>\n",
       "      <td>1.426143</td>\n",
       "      <td>1.0</td>\n",
       "    </tr>\n",
       "    <tr>\n",
       "      <th>3</th>\n",
       "      <td>STL_resid</td>\n",
       "      <td>xgb_1000</td>\n",
       "      <td>ForecastingCascade(estimator=XGBRegressor(base...</td>\n",
       "      <td>0.852983</td>\n",
       "      <td>1.0</td>\n",
       "    </tr>\n",
       "    <tr>\n",
       "      <th>4</th>\n",
       "      <td>STL_trend</td>\n",
       "      <td>auto_reg</td>\n",
       "      <td>&lt;statsmodels.tsa.ar_model.AutoRegResultsWrappe...</td>\n",
       "      <td>0.000027</td>\n",
       "      <td>1.0</td>\n",
       "    </tr>\n",
       "    <tr>\n",
       "      <th>9</th>\n",
       "      <td>STL_seasonal</td>\n",
       "      <td>xgb_1000</td>\n",
       "      <td>ForecastingCascade(estimator=XGBRegressor(base...</td>\n",
       "      <td>0.601684</td>\n",
       "      <td>1.0</td>\n",
       "    </tr>\n",
       "    <tr>\n",
       "      <th>10</th>\n",
       "      <td>MSTL_resid</td>\n",
       "      <td>auto_reg</td>\n",
       "      <td>&lt;statsmodels.tsa.ar_model.AutoRegResultsWrappe...</td>\n",
       "      <td>0.86404</td>\n",
       "      <td>1.0</td>\n",
       "    </tr>\n",
       "    <tr>\n",
       "      <th>13</th>\n",
       "      <td>MSTL_trend</td>\n",
       "      <td>auto_reg</td>\n",
       "      <td>&lt;statsmodels.tsa.ar_model.AutoRegResultsWrappe...</td>\n",
       "      <td>0.000049</td>\n",
       "      <td>1.0</td>\n",
       "    </tr>\n",
       "    <tr>\n",
       "      <th>16</th>\n",
       "      <td>MSTL_seasonal_7</td>\n",
       "      <td>auto_reg</td>\n",
       "      <td>&lt;statsmodels.tsa.ar_model.AutoRegResultsWrappe...</td>\n",
       "      <td>0.051552</td>\n",
       "      <td>1.0</td>\n",
       "    </tr>\n",
       "    <tr>\n",
       "      <th>19</th>\n",
       "      <td>MSTL_seasonal_30</td>\n",
       "      <td>auto_reg</td>\n",
       "      <td>&lt;statsmodels.tsa.ar_model.AutoRegResultsWrappe...</td>\n",
       "      <td>0.102354</td>\n",
       "      <td>1.0</td>\n",
       "    </tr>\n",
       "    <tr>\n",
       "      <th>24</th>\n",
       "      <td>MSTL_seasonal_365</td>\n",
       "      <td>xgb_1000</td>\n",
       "      <td>ForecastingCascade(estimator=XGBRegressor(base...</td>\n",
       "      <td>0.86868</td>\n",
       "      <td>1.0</td>\n",
       "    </tr>\n",
       "  </tbody>\n",
       "</table>\n",
       "</div>"
      ],
      "text/plain": [
       "            component model_name  \\\n",
       "0                none    prophet   \n",
       "3           STL_resid   xgb_1000   \n",
       "4           STL_trend   auto_reg   \n",
       "9        STL_seasonal   xgb_1000   \n",
       "10         MSTL_resid   auto_reg   \n",
       "13         MSTL_trend   auto_reg   \n",
       "16    MSTL_seasonal_7   auto_reg   \n",
       "19   MSTL_seasonal_30   auto_reg   \n",
       "24  MSTL_seasonal_365   xgb_1000   \n",
       "\n",
       "                                                model train_rmse  rnk  \n",
       "0   <prophet.forecaster.Prophet object at 0x15ba58...   1.426143  1.0  \n",
       "3   ForecastingCascade(estimator=XGBRegressor(base...   0.852983  1.0  \n",
       "4   <statsmodels.tsa.ar_model.AutoRegResultsWrappe...   0.000027  1.0  \n",
       "9   ForecastingCascade(estimator=XGBRegressor(base...   0.601684  1.0  \n",
       "10  <statsmodels.tsa.ar_model.AutoRegResultsWrappe...    0.86404  1.0  \n",
       "13  <statsmodels.tsa.ar_model.AutoRegResultsWrappe...   0.000049  1.0  \n",
       "16  <statsmodels.tsa.ar_model.AutoRegResultsWrappe...   0.051552  1.0  \n",
       "19  <statsmodels.tsa.ar_model.AutoRegResultsWrappe...   0.102354  1.0  \n",
       "24  ForecastingCascade(estimator=XGBRegressor(base...    0.86868  1.0  "
      ]
     },
     "execution_count": 41,
     "metadata": {},
     "output_type": "execute_result"
    }
   ],
   "source": [
    "min_models"
   ]
  },
  {
   "cell_type": "code",
   "execution_count": 43,
   "id": "01e7ee95",
   "metadata": {},
   "outputs": [
    {
     "data": {
      "text/html": [
       "<div>\n",
       "<style scoped>\n",
       "    .dataframe tbody tr th:only-of-type {\n",
       "        vertical-align: middle;\n",
       "    }\n",
       "\n",
       "    .dataframe tbody tr th {\n",
       "        vertical-align: top;\n",
       "    }\n",
       "\n",
       "    .dataframe thead th {\n",
       "        text-align: right;\n",
       "    }\n",
       "</style>\n",
       "<table border=\"1\" class=\"dataframe\">\n",
       "  <thead>\n",
       "    <tr style=\"text-align: right;\">\n",
       "      <th></th>\n",
       "      <th>STL_prediction</th>\n",
       "      <th>MSTL_prediction</th>\n",
       "      <th>prophet_prediction</th>\n",
       "      <th>Encoded_SKU_ID</th>\n",
       "      <th>actual</th>\n",
       "    </tr>\n",
       "    <tr>\n",
       "      <th>SALES_DATE</th>\n",
       "      <th></th>\n",
       "      <th></th>\n",
       "      <th></th>\n",
       "      <th></th>\n",
       "      <th></th>\n",
       "    </tr>\n",
       "  </thead>\n",
       "  <tbody>\n",
       "    <tr>\n",
       "      <th>2022-08-01</th>\n",
       "      <td>-0.053428</td>\n",
       "      <td>0.877414</td>\n",
       "      <td>0.634117</td>\n",
       "      <td>518</td>\n",
       "      <td>NaN</td>\n",
       "    </tr>\n",
       "    <tr>\n",
       "      <th>2022-08-02</th>\n",
       "      <td>0.433740</td>\n",
       "      <td>-0.119518</td>\n",
       "      <td>0.777299</td>\n",
       "      <td>518</td>\n",
       "      <td>NaN</td>\n",
       "    </tr>\n",
       "    <tr>\n",
       "      <th>2022-08-03</th>\n",
       "      <td>0.808414</td>\n",
       "      <td>2.748224</td>\n",
       "      <td>0.836469</td>\n",
       "      <td>518</td>\n",
       "      <td>NaN</td>\n",
       "    </tr>\n",
       "    <tr>\n",
       "      <th>2022-08-04</th>\n",
       "      <td>0.133989</td>\n",
       "      <td>-0.578705</td>\n",
       "      <td>0.804469</td>\n",
       "      <td>518</td>\n",
       "      <td>NaN</td>\n",
       "    </tr>\n",
       "    <tr>\n",
       "      <th>2022-08-05</th>\n",
       "      <td>-0.018746</td>\n",
       "      <td>-0.415380</td>\n",
       "      <td>0.718778</td>\n",
       "      <td>518</td>\n",
       "      <td>NaN</td>\n",
       "    </tr>\n",
       "    <tr>\n",
       "      <th>2022-08-06</th>\n",
       "      <td>1.991127</td>\n",
       "      <td>-0.452726</td>\n",
       "      <td>1.883775</td>\n",
       "      <td>518</td>\n",
       "      <td>NaN</td>\n",
       "    </tr>\n",
       "    <tr>\n",
       "      <th>2022-08-07</th>\n",
       "      <td>1.937726</td>\n",
       "      <td>-0.664471</td>\n",
       "      <td>1.585911</td>\n",
       "      <td>518</td>\n",
       "      <td>NaN</td>\n",
       "    </tr>\n",
       "  </tbody>\n",
       "</table>\n",
       "</div>"
      ],
      "text/plain": [
       "            STL_prediction  MSTL_prediction  prophet_prediction  \\\n",
       "SALES_DATE                                                        \n",
       "2022-08-01       -0.053428         0.877414            0.634117   \n",
       "2022-08-02        0.433740        -0.119518            0.777299   \n",
       "2022-08-03        0.808414         2.748224            0.836469   \n",
       "2022-08-04        0.133989        -0.578705            0.804469   \n",
       "2022-08-05       -0.018746        -0.415380            0.718778   \n",
       "2022-08-06        1.991127        -0.452726            1.883775   \n",
       "2022-08-07        1.937726        -0.664471            1.585911   \n",
       "\n",
       "            Encoded_SKU_ID actual  \n",
       "SALES_DATE                         \n",
       "2022-08-01             518    NaN  \n",
       "2022-08-02             518    NaN  \n",
       "2022-08-03             518    NaN  \n",
       "2022-08-04             518    NaN  \n",
       "2022-08-05             518    NaN  \n",
       "2022-08-06             518    NaN  \n",
       "2022-08-07             518    NaN  "
      ]
     },
     "execution_count": 43,
     "metadata": {},
     "output_type": "execute_result"
    }
   ],
   "source": [
    "y_pred"
   ]
  },
  {
   "cell_type": "markdown",
   "id": "7163725b",
   "metadata": {},
   "source": [
    "### Run for all SKUs"
   ]
  },
  {
   "cell_type": "code",
   "execution_count": 44,
   "id": "55664e0b",
   "metadata": {},
   "outputs": [],
   "source": [
    "from joblib import Parallel, delayed\n",
    "from IPython.utils import io\n",
    "from tqdm import tqdm"
   ]
  },
  {
   "cell_type": "code",
   "execution_count": 45,
   "id": "ba798d89",
   "metadata": {},
   "outputs": [],
   "source": [
    "def fit_one_sku(train_test_pivot1,sku_id1, n_lags_y1, n_lags_exog1, exog_cols1):\n",
    "    train_test_sku1 = train_test_pivot1.loc[:,(sku_id1,)].copy()\n",
    "    train_test_sku1[\"ad_time\"] = list(range(1,train_test_sku1.shape[0]+1))\n",
    "    stl_model1 = stl_model(sku_id = sku_id1,\\\n",
    "                      train_test_sku = train_test_sku1,\\\n",
    "                      n_lags_y = n_lags_y1, \\\n",
    "                      n_lags_exog = n_lags_exog1, \\\n",
    "                      pred_cols = exog_cols1)\n",
    "    try:\n",
    "        with io.capture_output() as captured:\n",
    "            m_dict, y_dict = stl_model1.fit_models();\n",
    "            min_models, y_pred = stl_model1.get_result();\n",
    "        print (f\"Successful for {sku_id1}\")\n",
    "        return (min_models, y_pred)\n",
    "    except:\n",
    "        print (f\"Error for {sku_id1}\")"
   ]
  },
  {
   "cell_type": "code",
   "execution_count": 46,
   "id": "ceb2189a",
   "metadata": {},
   "outputs": [
    {
     "data": {
      "text/plain": [
       "127"
      ]
     },
     "execution_count": 46,
     "metadata": {},
     "output_type": "execute_result"
    }
   ],
   "source": [
    "len(stl_skus)"
   ]
  },
  {
   "cell_type": "code",
   "execution_count": 49,
   "id": "865806ad",
   "metadata": {},
   "outputs": [
    {
     "name": "stderr",
     "output_type": "stream",
     "text": [
      "\n",
      "  0%|                                                                                                                                                  | 0/127 [00:00<?, ?it/s]\u001b[AImporting plotly failed. Interactive plots will not work.\n",
      "Importing plotly failed. Interactive plots will not work.\n",
      "Importing plotly failed. Interactive plots will not work.\n",
      "Importing plotly failed. Interactive plots will not work.\n",
      "/var/folders/kb/v0p0ypbd0wx1q2qb1kpxmmcc0000gn/T/ipykernel_53609/2183440621.py:2: PerformanceWarning: indexing past lexsort depth may impact performance.\n",
      "/var/folders/kb/v0p0ypbd0wx1q2qb1kpxmmcc0000gn/T/ipykernel_53609/2183440621.py:2: PerformanceWarning: indexing past lexsort depth may impact performance.\n",
      "/var/folders/kb/v0p0ypbd0wx1q2qb1kpxmmcc0000gn/T/ipykernel_53609/2183440621.py:2: PerformanceWarning: indexing past lexsort depth may impact performance.\n",
      "/var/folders/kb/v0p0ypbd0wx1q2qb1kpxmmcc0000gn/T/ipykernel_53609/2183440621.py:2: PerformanceWarning: indexing past lexsort depth may impact performance.\n",
      "\n",
      "  6%|████████▋                                                                                                                                 | 8/127 [00:03<00:58,  2.02it/s]\u001b[A/var/folders/kb/v0p0ypbd0wx1q2qb1kpxmmcc0000gn/T/ipykernel_53609/2183440621.py:2: PerformanceWarning: indexing past lexsort depth may impact performance.\n",
      "/var/folders/kb/v0p0ypbd0wx1q2qb1kpxmmcc0000gn/T/ipykernel_53609/2183440621.py:2: PerformanceWarning: indexing past lexsort depth may impact performance.\n",
      "/var/folders/kb/v0p0ypbd0wx1q2qb1kpxmmcc0000gn/T/ipykernel_53609/2183440621.py:2: PerformanceWarning: indexing past lexsort depth may impact performance.\n",
      "/var/folders/kb/v0p0ypbd0wx1q2qb1kpxmmcc0000gn/T/ipykernel_53609/2183440621.py:2: PerformanceWarning: indexing past lexsort depth may impact performance.\n",
      "\n",
      "  9%|████████████▊                                                                                                                          | 12/127 [05:54<1:10:27, 36.76s/it]\u001b[A/var/folders/kb/v0p0ypbd0wx1q2qb1kpxmmcc0000gn/T/ipykernel_53609/2183440621.py:2: PerformanceWarning: indexing past lexsort depth may impact performance.\n",
      "/var/folders/kb/v0p0ypbd0wx1q2qb1kpxmmcc0000gn/T/ipykernel_53609/2183440621.py:2: PerformanceWarning: indexing past lexsort depth may impact performance.\n",
      "/var/folders/kb/v0p0ypbd0wx1q2qb1kpxmmcc0000gn/T/ipykernel_53609/2183440621.py:2: PerformanceWarning: indexing past lexsort depth may impact performance.\n",
      "/var/folders/kb/v0p0ypbd0wx1q2qb1kpxmmcc0000gn/T/ipykernel_53609/2183440621.py:2: PerformanceWarning: indexing past lexsort depth may impact performance.\n",
      "\n",
      " 13%|█████████████████                                                                                                                      | 16/127 [09:03<1:15:17, 40.70s/it]\u001b[A/var/folders/kb/v0p0ypbd0wx1q2qb1kpxmmcc0000gn/T/ipykernel_53609/2183440621.py:2: PerformanceWarning: indexing past lexsort depth may impact performance.\n",
      "/var/folders/kb/v0p0ypbd0wx1q2qb1kpxmmcc0000gn/T/ipykernel_53609/2183440621.py:2: PerformanceWarning: indexing past lexsort depth may impact performance.\n",
      "/var/folders/kb/v0p0ypbd0wx1q2qb1kpxmmcc0000gn/T/ipykernel_53609/2183440621.py:2: PerformanceWarning: indexing past lexsort depth may impact performance.\n",
      "/var/folders/kb/v0p0ypbd0wx1q2qb1kpxmmcc0000gn/T/ipykernel_53609/2183440621.py:2: PerformanceWarning: indexing past lexsort depth may impact performance.\n",
      "\n",
      " 16%|█████████████████████▎                                                                                                                 | 20/127 [10:46<1:03:21, 35.52s/it]\u001b[A/var/folders/kb/v0p0ypbd0wx1q2qb1kpxmmcc0000gn/T/ipykernel_53609/2183440621.py:2: PerformanceWarning: indexing past lexsort depth may impact performance.\n",
      "/var/folders/kb/v0p0ypbd0wx1q2qb1kpxmmcc0000gn/T/ipykernel_53609/2183440621.py:2: PerformanceWarning: indexing past lexsort depth may impact performance.\n",
      "/var/folders/kb/v0p0ypbd0wx1q2qb1kpxmmcc0000gn/T/ipykernel_53609/2183440621.py:2: PerformanceWarning: indexing past lexsort depth may impact performance.\n",
      "/var/folders/kb/v0p0ypbd0wx1q2qb1kpxmmcc0000gn/T/ipykernel_53609/2183440621.py:2: PerformanceWarning: indexing past lexsort depth may impact performance.\n",
      "\n",
      " 19%|█████████████████████████▌                                                                                                             | 24/127 [13:42<1:05:49, 38.35s/it]\u001b[A/var/folders/kb/v0p0ypbd0wx1q2qb1kpxmmcc0000gn/T/ipykernel_53609/2183440621.py:2: PerformanceWarning: indexing past lexsort depth may impact performance.\n",
      "/var/folders/kb/v0p0ypbd0wx1q2qb1kpxmmcc0000gn/T/ipykernel_53609/2183440621.py:2: PerformanceWarning: indexing past lexsort depth may impact performance.\n",
      "/var/folders/kb/v0p0ypbd0wx1q2qb1kpxmmcc0000gn/T/ipykernel_53609/2183440621.py:2: PerformanceWarning: indexing past lexsort depth may impact performance.\n",
      "/var/folders/kb/v0p0ypbd0wx1q2qb1kpxmmcc0000gn/T/ipykernel_53609/2183440621.py:2: PerformanceWarning: indexing past lexsort depth may impact performance.\n",
      "\n",
      " 22%|█████████████████████████████▊                                                                                                         | 28/127 [16:21<1:03:58, 38.78s/it]\u001b[A/var/folders/kb/v0p0ypbd0wx1q2qb1kpxmmcc0000gn/T/ipykernel_53609/2183440621.py:2: PerformanceWarning: indexing past lexsort depth may impact performance.\n",
      "/var/folders/kb/v0p0ypbd0wx1q2qb1kpxmmcc0000gn/T/ipykernel_53609/2183440621.py:2: PerformanceWarning: indexing past lexsort depth may impact performance.\n",
      "/var/folders/kb/v0p0ypbd0wx1q2qb1kpxmmcc0000gn/T/ipykernel_53609/2183440621.py:2: PerformanceWarning: indexing past lexsort depth may impact performance.\n",
      "/var/folders/kb/v0p0ypbd0wx1q2qb1kpxmmcc0000gn/T/ipykernel_53609/2183440621.py:2: PerformanceWarning: indexing past lexsort depth may impact performance.\n",
      "\n",
      " 25%|██████████████████████████████████                                                                                                     | 32/127 [21:15<1:18:41, 49.70s/it]\u001b[A/var/folders/kb/v0p0ypbd0wx1q2qb1kpxmmcc0000gn/T/ipykernel_53609/2183440621.py:2: PerformanceWarning: indexing past lexsort depth may impact performance.\n",
      "/var/folders/kb/v0p0ypbd0wx1q2qb1kpxmmcc0000gn/T/ipykernel_53609/2183440621.py:2: PerformanceWarning: indexing past lexsort depth may impact performance.\n",
      "/var/folders/kb/v0p0ypbd0wx1q2qb1kpxmmcc0000gn/T/ipykernel_53609/2183440621.py:2: PerformanceWarning: indexing past lexsort depth may impact performance.\n",
      "/var/folders/kb/v0p0ypbd0wx1q2qb1kpxmmcc0000gn/T/ipykernel_53609/2183440621.py:2: PerformanceWarning: indexing past lexsort depth may impact performance.\n",
      "\n",
      " 28%|██████████████████████████████████████▎                                                                                                | 36/127 [27:01<1:32:39, 61.10s/it]\u001b[A/var/folders/kb/v0p0ypbd0wx1q2qb1kpxmmcc0000gn/T/ipykernel_53609/2183440621.py:2: PerformanceWarning: indexing past lexsort depth may impact performance.\n",
      "/var/folders/kb/v0p0ypbd0wx1q2qb1kpxmmcc0000gn/T/ipykernel_53609/2183440621.py:2: PerformanceWarning: indexing past lexsort depth may impact performance.\n",
      "/var/folders/kb/v0p0ypbd0wx1q2qb1kpxmmcc0000gn/T/ipykernel_53609/2183440621.py:2: PerformanceWarning: indexing past lexsort depth may impact performance.\n",
      "/var/folders/kb/v0p0ypbd0wx1q2qb1kpxmmcc0000gn/T/ipykernel_53609/2183440621.py:2: PerformanceWarning: indexing past lexsort depth may impact performance.\n",
      "\n",
      " 31%|██████████████████████████████████████████▌                                                                                            | 40/127 [29:14<1:16:12, 52.56s/it]\u001b[A/var/folders/kb/v0p0ypbd0wx1q2qb1kpxmmcc0000gn/T/ipykernel_53609/2183440621.py:2: PerformanceWarning: indexing past lexsort depth may impact performance.\n",
      "/var/folders/kb/v0p0ypbd0wx1q2qb1kpxmmcc0000gn/T/ipykernel_53609/2183440621.py:2: PerformanceWarning: indexing past lexsort depth may impact performance.\n",
      "/var/folders/kb/v0p0ypbd0wx1q2qb1kpxmmcc0000gn/T/ipykernel_53609/2183440621.py:2: PerformanceWarning: indexing past lexsort depth may impact performance.\n",
      "/var/folders/kb/v0p0ypbd0wx1q2qb1kpxmmcc0000gn/T/ipykernel_53609/2183440621.py:2: PerformanceWarning: indexing past lexsort depth may impact performance.\n",
      "\n"
     ]
    },
    {
     "name": "stderr",
     "output_type": "stream",
     "text": [
      " 35%|██████████████████████████████████████████████▊                                                                                        | 44/127 [36:04<1:33:45, 67.77s/it]\u001b[A/var/folders/kb/v0p0ypbd0wx1q2qb1kpxmmcc0000gn/T/ipykernel_53609/2183440621.py:2: PerformanceWarning: indexing past lexsort depth may impact performance.\n",
      "/var/folders/kb/v0p0ypbd0wx1q2qb1kpxmmcc0000gn/T/ipykernel_53609/2183440621.py:2: PerformanceWarning: indexing past lexsort depth may impact performance.\n",
      "/var/folders/kb/v0p0ypbd0wx1q2qb1kpxmmcc0000gn/T/ipykernel_53609/2183440621.py:2: PerformanceWarning: indexing past lexsort depth may impact performance.\n",
      "/var/folders/kb/v0p0ypbd0wx1q2qb1kpxmmcc0000gn/T/ipykernel_53609/2183440621.py:2: PerformanceWarning: indexing past lexsort depth may impact performance.\n",
      "\n",
      " 38%|███████████████████████████████████████████████████                                                                                    | 48/127 [41:30<1:34:42, 71.93s/it]\u001b[A/var/folders/kb/v0p0ypbd0wx1q2qb1kpxmmcc0000gn/T/ipykernel_53609/2183440621.py:2: PerformanceWarning: indexing past lexsort depth may impact performance.\n",
      "/var/folders/kb/v0p0ypbd0wx1q2qb1kpxmmcc0000gn/T/ipykernel_53609/2183440621.py:2: PerformanceWarning: indexing past lexsort depth may impact performance.\n",
      "/var/folders/kb/v0p0ypbd0wx1q2qb1kpxmmcc0000gn/T/ipykernel_53609/2183440621.py:2: PerformanceWarning: indexing past lexsort depth may impact performance.\n",
      "/var/folders/kb/v0p0ypbd0wx1q2qb1kpxmmcc0000gn/T/ipykernel_53609/2183440621.py:2: PerformanceWarning: indexing past lexsort depth may impact performance.\n",
      "\n",
      " 41%|███████████████████████████████████████████████████████▎                                                                               | 52/127 [48:00<1:39:37, 79.69s/it]\u001b[A/var/folders/kb/v0p0ypbd0wx1q2qb1kpxmmcc0000gn/T/ipykernel_53609/2183440621.py:2: PerformanceWarning: indexing past lexsort depth may impact performance.\n",
      "/var/folders/kb/v0p0ypbd0wx1q2qb1kpxmmcc0000gn/T/ipykernel_53609/2183440621.py:2: PerformanceWarning: indexing past lexsort depth may impact performance.\n",
      "/var/folders/kb/v0p0ypbd0wx1q2qb1kpxmmcc0000gn/T/ipykernel_53609/2183440621.py:2: PerformanceWarning: indexing past lexsort depth may impact performance.\n",
      "/var/folders/kb/v0p0ypbd0wx1q2qb1kpxmmcc0000gn/T/ipykernel_53609/2183440621.py:2: PerformanceWarning: indexing past lexsort depth may impact performance.\n",
      "\n",
      " 44%|███████████████████████████████████████████████████████████▌                                                                           | 56/127 [50:49<1:20:56, 68.40s/it]\u001b[A/var/folders/kb/v0p0ypbd0wx1q2qb1kpxmmcc0000gn/T/ipykernel_53609/2183440621.py:2: PerformanceWarning: indexing past lexsort depth may impact performance.\n",
      "/var/folders/kb/v0p0ypbd0wx1q2qb1kpxmmcc0000gn/T/ipykernel_53609/2183440621.py:2: PerformanceWarning: indexing past lexsort depth may impact performance.\n",
      "/var/folders/kb/v0p0ypbd0wx1q2qb1kpxmmcc0000gn/T/ipykernel_53609/2183440621.py:2: PerformanceWarning: indexing past lexsort depth may impact performance.\n",
      "/var/folders/kb/v0p0ypbd0wx1q2qb1kpxmmcc0000gn/T/ipykernel_53609/2183440621.py:2: PerformanceWarning: indexing past lexsort depth may impact performance.\n",
      "\n",
      " 47%|███████████████████████████████████████████████████████████████▊                                                                       | 60/127 [58:43<1:33:13, 83.48s/it]\u001b[A/var/folders/kb/v0p0ypbd0wx1q2qb1kpxmmcc0000gn/T/ipykernel_53609/2183440621.py:2: PerformanceWarning: indexing past lexsort depth may impact performance.\n",
      "/var/folders/kb/v0p0ypbd0wx1q2qb1kpxmmcc0000gn/T/ipykernel_53609/2183440621.py:2: PerformanceWarning: indexing past lexsort depth may impact performance.\n",
      "/var/folders/kb/v0p0ypbd0wx1q2qb1kpxmmcc0000gn/T/ipykernel_53609/2183440621.py:2: PerformanceWarning: indexing past lexsort depth may impact performance.\n",
      "/var/folders/kb/v0p0ypbd0wx1q2qb1kpxmmcc0000gn/T/ipykernel_53609/2183440621.py:2: PerformanceWarning: indexing past lexsort depth may impact performance.\n",
      "\n",
      " 50%|███████████████████████████████████████████████████████████████████                                                                  | 64/127 [1:07:19<1:42:03, 97.20s/it]\u001b[A/var/folders/kb/v0p0ypbd0wx1q2qb1kpxmmcc0000gn/T/ipykernel_53609/2183440621.py:2: PerformanceWarning: indexing past lexsort depth may impact performance.\n",
      "/var/folders/kb/v0p0ypbd0wx1q2qb1kpxmmcc0000gn/T/ipykernel_53609/2183440621.py:2: PerformanceWarning: indexing past lexsort depth may impact performance.\n",
      "/var/folders/kb/v0p0ypbd0wx1q2qb1kpxmmcc0000gn/T/ipykernel_53609/2183440621.py:2: PerformanceWarning: indexing past lexsort depth may impact performance.\n",
      "/var/folders/kb/v0p0ypbd0wx1q2qb1kpxmmcc0000gn/T/ipykernel_53609/2183440621.py:2: PerformanceWarning: indexing past lexsort depth may impact performance.\n",
      "\n",
      " 54%|███████████████████████████████████████████████████████████████████████▏                                                             | 68/127 [1:13:35<1:34:37, 96.23s/it]\u001b[A/var/folders/kb/v0p0ypbd0wx1q2qb1kpxmmcc0000gn/T/ipykernel_53609/2183440621.py:2: PerformanceWarning: indexing past lexsort depth may impact performance.\n",
      "/var/folders/kb/v0p0ypbd0wx1q2qb1kpxmmcc0000gn/T/ipykernel_53609/2183440621.py:2: PerformanceWarning: indexing past lexsort depth may impact performance.\n",
      "/var/folders/kb/v0p0ypbd0wx1q2qb1kpxmmcc0000gn/T/ipykernel_53609/2183440621.py:2: PerformanceWarning: indexing past lexsort depth may impact performance.\n",
      "/var/folders/kb/v0p0ypbd0wx1q2qb1kpxmmcc0000gn/T/ipykernel_53609/2183440621.py:2: PerformanceWarning: indexing past lexsort depth may impact performance.\n",
      "\n",
      " 57%|██████████████████████████████████████████████████████████████████████████▊                                                         | 72/127 [1:22:59<1:40:32, 109.68s/it]\u001b[A/var/folders/kb/v0p0ypbd0wx1q2qb1kpxmmcc0000gn/T/ipykernel_53609/2183440621.py:2: PerformanceWarning: indexing past lexsort depth may impact performance.\n",
      "/var/folders/kb/v0p0ypbd0wx1q2qb1kpxmmcc0000gn/T/ipykernel_53609/2183440621.py:2: PerformanceWarning: indexing past lexsort depth may impact performance.\n",
      "/var/folders/kb/v0p0ypbd0wx1q2qb1kpxmmcc0000gn/T/ipykernel_53609/2183440621.py:2: PerformanceWarning: indexing past lexsort depth may impact performance.\n",
      "/var/folders/kb/v0p0ypbd0wx1q2qb1kpxmmcc0000gn/T/ipykernel_53609/2183440621.py:2: PerformanceWarning: indexing past lexsort depth may impact performance.\n",
      "\n",
      " 60%|██████████████████████████████████████████████████████████████████████████████▉                                                     | 76/127 [1:28:18<1:25:35, 100.69s/it]\u001b[A/var/folders/kb/v0p0ypbd0wx1q2qb1kpxmmcc0000gn/T/ipykernel_53609/2183440621.py:2: PerformanceWarning: indexing past lexsort depth may impact performance.\n",
      "/var/folders/kb/v0p0ypbd0wx1q2qb1kpxmmcc0000gn/T/ipykernel_53609/2183440621.py:2: PerformanceWarning: indexing past lexsort depth may impact performance.\n",
      "/var/folders/kb/v0p0ypbd0wx1q2qb1kpxmmcc0000gn/T/ipykernel_53609/2183440621.py:2: PerformanceWarning: indexing past lexsort depth may impact performance.\n",
      "/var/folders/kb/v0p0ypbd0wx1q2qb1kpxmmcc0000gn/T/ipykernel_53609/2183440621.py:2: PerformanceWarning: indexing past lexsort depth may impact performance.\n",
      "\n",
      " 63%|███████████████████████████████████████████████████████████████████████████████████▏                                                | 80/127 [1:37:00<1:25:51, 109.61s/it]\u001b[A/var/folders/kb/v0p0ypbd0wx1q2qb1kpxmmcc0000gn/T/ipykernel_53609/2183440621.py:2: PerformanceWarning: indexing past lexsort depth may impact performance.\n",
      "/var/folders/kb/v0p0ypbd0wx1q2qb1kpxmmcc0000gn/T/ipykernel_53609/2183440621.py:2: PerformanceWarning: indexing past lexsort depth may impact performance.\n",
      "/var/folders/kb/v0p0ypbd0wx1q2qb1kpxmmcc0000gn/T/ipykernel_53609/2183440621.py:2: PerformanceWarning: indexing past lexsort depth may impact performance.\n",
      "/var/folders/kb/v0p0ypbd0wx1q2qb1kpxmmcc0000gn/T/ipykernel_53609/2183440621.py:2: PerformanceWarning: indexing past lexsort depth may impact performance.\n",
      "\n",
      " 66%|███████████████████████████████████████████████████████████████████████████████████████▎                                            | 84/127 [1:45:08<1:21:13, 113.33s/it]\u001b[A/var/folders/kb/v0p0ypbd0wx1q2qb1kpxmmcc0000gn/T/ipykernel_53609/2183440621.py:2: PerformanceWarning: indexing past lexsort depth may impact performance.\n"
     ]
    },
    {
     "name": "stderr",
     "output_type": "stream",
     "text": [
      "/var/folders/kb/v0p0ypbd0wx1q2qb1kpxmmcc0000gn/T/ipykernel_53609/2183440621.py:2: PerformanceWarning: indexing past lexsort depth may impact performance.\n",
      "/var/folders/kb/v0p0ypbd0wx1q2qb1kpxmmcc0000gn/T/ipykernel_53609/2183440621.py:2: PerformanceWarning: indexing past lexsort depth may impact performance.\n",
      "/var/folders/kb/v0p0ypbd0wx1q2qb1kpxmmcc0000gn/T/ipykernel_53609/2183440621.py:2: PerformanceWarning: indexing past lexsort depth may impact performance.\n",
      "\n",
      " 69%|███████████████████████████████████████████████████████████████████████████████████████████▍                                        | 88/127 [1:54:16<1:18:18, 120.48s/it]\u001b[A/var/folders/kb/v0p0ypbd0wx1q2qb1kpxmmcc0000gn/T/ipykernel_53609/2183440621.py:2: PerformanceWarning: indexing past lexsort depth may impact performance.\n",
      "/var/folders/kb/v0p0ypbd0wx1q2qb1kpxmmcc0000gn/T/ipykernel_53609/2183440621.py:2: PerformanceWarning: indexing past lexsort depth may impact performance.\n",
      "/var/folders/kb/v0p0ypbd0wx1q2qb1kpxmmcc0000gn/T/ipykernel_53609/2183440621.py:2: PerformanceWarning: indexing past lexsort depth may impact performance.\n",
      "/var/folders/kb/v0p0ypbd0wx1q2qb1kpxmmcc0000gn/T/ipykernel_53609/2183440621.py:2: PerformanceWarning: indexing past lexsort depth may impact performance.\n",
      "\n",
      " 72%|███████████████████████████████████████████████████████████████████████████████████████████████▌                                    | 92/127 [2:01:15<1:07:31, 115.75s/it]\u001b[A\n",
      " 73%|██████████████████████████████████████████████████████████████████████████████████████████████████▏                                   | 93/127 [2:01:16<59:15, 104.58s/it]\u001b[A/var/folders/kb/v0p0ypbd0wx1q2qb1kpxmmcc0000gn/T/ipykernel_53609/2183440621.py:2: PerformanceWarning: indexing past lexsort depth may impact performance.\n",
      "/var/folders/kb/v0p0ypbd0wx1q2qb1kpxmmcc0000gn/T/ipykernel_53609/2183440621.py:2: PerformanceWarning: indexing past lexsort depth may impact performance.\n",
      "/var/folders/kb/v0p0ypbd0wx1q2qb1kpxmmcc0000gn/T/ipykernel_53609/2183440621.py:2: PerformanceWarning: indexing past lexsort depth may impact performance.\n",
      "/var/folders/kb/v0p0ypbd0wx1q2qb1kpxmmcc0000gn/T/ipykernel_53609/2183440621.py:2: PerformanceWarning: indexing past lexsort depth may impact performance.\n",
      "\n",
      " 76%|███████████████████████████████████████████████████████████████████████████████████████████████████▊                                | 96/127 [2:09:23<1:02:48, 121.57s/it]\u001b[A\n",
      " 76%|██████████████████████████████████████████████████████████████████████████████████████████████████████▎                               | 97/127 [2:09:23<53:20, 106.69s/it]\u001b[A/var/folders/kb/v0p0ypbd0wx1q2qb1kpxmmcc0000gn/T/ipykernel_53609/2183440621.py:2: PerformanceWarning: indexing past lexsort depth may impact performance.\n",
      "/var/folders/kb/v0p0ypbd0wx1q2qb1kpxmmcc0000gn/T/ipykernel_53609/2183440621.py:2: PerformanceWarning: indexing past lexsort depth may impact performance.\n",
      "/var/folders/kb/v0p0ypbd0wx1q2qb1kpxmmcc0000gn/T/ipykernel_53609/2183440621.py:2: PerformanceWarning: indexing past lexsort depth may impact performance.\n",
      "/var/folders/kb/v0p0ypbd0wx1q2qb1kpxmmcc0000gn/T/ipykernel_53609/2183440621.py:2: PerformanceWarning: indexing past lexsort depth may impact performance.\n",
      "\n",
      " 79%|████████████████████████████████████████████████████████████████████████████████████████████████████████▋                            | 100/127 [2:17:56<57:59, 128.86s/it]\u001b[A/var/folders/kb/v0p0ypbd0wx1q2qb1kpxmmcc0000gn/T/ipykernel_53609/2183440621.py:2: PerformanceWarning: indexing past lexsort depth may impact performance.\n",
      "/var/folders/kb/v0p0ypbd0wx1q2qb1kpxmmcc0000gn/T/ipykernel_53609/2183440621.py:2: PerformanceWarning: indexing past lexsort depth may impact performance.\n",
      "/var/folders/kb/v0p0ypbd0wx1q2qb1kpxmmcc0000gn/T/ipykernel_53609/2183440621.py:2: PerformanceWarning: indexing past lexsort depth may impact performance.\n",
      "/var/folders/kb/v0p0ypbd0wx1q2qb1kpxmmcc0000gn/T/ipykernel_53609/2183440621.py:2: PerformanceWarning: indexing past lexsort depth may impact performance.\n",
      "\n",
      " 82%|████████████████████████████████████████████████████████████████████████████████████████████████████████████▉                        | 104/127 [2:22:13<39:33, 103.21s/it]\u001b[A/var/folders/kb/v0p0ypbd0wx1q2qb1kpxmmcc0000gn/T/ipykernel_53609/2183440621.py:2: PerformanceWarning: indexing past lexsort depth may impact performance.\n",
      "/var/folders/kb/v0p0ypbd0wx1q2qb1kpxmmcc0000gn/T/ipykernel_53609/2183440621.py:2: PerformanceWarning: indexing past lexsort depth may impact performance.\n",
      "/var/folders/kb/v0p0ypbd0wx1q2qb1kpxmmcc0000gn/T/ipykernel_53609/2183440621.py:2: PerformanceWarning: indexing past lexsort depth may impact performance.\n",
      "/var/folders/kb/v0p0ypbd0wx1q2qb1kpxmmcc0000gn/T/ipykernel_53609/2183440621.py:2: PerformanceWarning: indexing past lexsort depth may impact performance.\n",
      "\n",
      " 85%|█████████████████████████████████████████████████████████████████████████████████████████████████████████████████                    | 108/127 [2:29:23<33:11, 104.79s/it]\u001b[A/var/folders/kb/v0p0ypbd0wx1q2qb1kpxmmcc0000gn/T/ipykernel_53609/2183440621.py:2: PerformanceWarning: indexing past lexsort depth may impact performance.\n",
      "/var/folders/kb/v0p0ypbd0wx1q2qb1kpxmmcc0000gn/T/ipykernel_53609/2183440621.py:2: PerformanceWarning: indexing past lexsort depth may impact performance.\n",
      "/var/folders/kb/v0p0ypbd0wx1q2qb1kpxmmcc0000gn/T/ipykernel_53609/2183440621.py:2: PerformanceWarning: indexing past lexsort depth may impact performance.\n",
      "/var/folders/kb/v0p0ypbd0wx1q2qb1kpxmmcc0000gn/T/ipykernel_53609/2183440621.py:2: PerformanceWarning: indexing past lexsort depth may impact performance.\n",
      "/var/folders/kb/v0p0ypbd0wx1q2qb1kpxmmcc0000gn/T/ipykernel_53609/2183440621.py:2: PerformanceWarning: indexing past lexsort depth may impact performance.\n",
      "\n",
      " 88%|██████████████████████████████████████████████████████████████████████████████████████████████████████████████████████▏               | 112/127 [2:32:39<21:26, 85.74s/it]\u001b[A/var/folders/kb/v0p0ypbd0wx1q2qb1kpxmmcc0000gn/T/ipykernel_53609/2183440621.py:2: PerformanceWarning: indexing past lexsort depth may impact performance.\n",
      "/var/folders/kb/v0p0ypbd0wx1q2qb1kpxmmcc0000gn/T/ipykernel_53609/2183440621.py:2: PerformanceWarning: indexing past lexsort depth may impact performance.\n",
      "/var/folders/kb/v0p0ypbd0wx1q2qb1kpxmmcc0000gn/T/ipykernel_53609/2183440621.py:2: PerformanceWarning: indexing past lexsort depth may impact performance.\n",
      "\n",
      " 91%|██████████████████████████████████████████████████████████████████████████████████████████████████████████████████████████▍           | 116/127 [2:37:28<14:55, 81.37s/it]\u001b[A/var/folders/kb/v0p0ypbd0wx1q2qb1kpxmmcc0000gn/T/ipykernel_53609/2183440621.py:2: PerformanceWarning: indexing past lexsort depth may impact performance.\n",
      "/var/folders/kb/v0p0ypbd0wx1q2qb1kpxmmcc0000gn/T/ipykernel_53609/2183440621.py:2: PerformanceWarning: indexing past lexsort depth may impact performance.\n",
      "/var/folders/kb/v0p0ypbd0wx1q2qb1kpxmmcc0000gn/T/ipykernel_53609/2183440621.py:2: PerformanceWarning: indexing past lexsort depth may impact performance.\n",
      "/var/folders/kb/v0p0ypbd0wx1q2qb1kpxmmcc0000gn/T/ipykernel_53609/2183440621.py:2: PerformanceWarning: indexing past lexsort depth may impact performance.\n",
      "\n",
      " 94%|██████████████████████████████████████████████████████████████████████████████████████████████████████████████████████████████▌       | 120/127 [2:44:07<10:10, 87.18s/it]\u001b[A/var/folders/kb/v0p0ypbd0wx1q2qb1kpxmmcc0000gn/T/ipykernel_53609/2183440621.py:2: PerformanceWarning: indexing past lexsort depth may impact performance.\n",
      "/var/folders/kb/v0p0ypbd0wx1q2qb1kpxmmcc0000gn/T/ipykernel_53609/2183440621.py:2: PerformanceWarning: indexing past lexsort depth may impact performance.\n",
      "/var/folders/kb/v0p0ypbd0wx1q2qb1kpxmmcc0000gn/T/ipykernel_53609/2183440621.py:2: PerformanceWarning: indexing past lexsort depth may impact performance.\n",
      "/var/folders/kb/v0p0ypbd0wx1q2qb1kpxmmcc0000gn/T/ipykernel_53609/2183440621.py:2: PerformanceWarning: indexing past lexsort depth may impact performance.\n",
      "\n",
      "100%|██████████████████████████████████████████████████████████████████████████████████████████████████████████████████████████████████████| 127/127 [2:47:11<00:00, 78.99s/it]\u001b[A\n",
      "/var/folders/kb/v0p0ypbd0wx1q2qb1kpxmmcc0000gn/T/ipykernel_53609/2183440621.py:2: PerformanceWarning: indexing past lexsort depth may impact performance.\n"
     ]
    },
    {
     "name": "stderr",
     "output_type": "stream",
     "text": [
      "/var/folders/kb/v0p0ypbd0wx1q2qb1kpxmmcc0000gn/T/ipykernel_53609/2183440621.py:2: PerformanceWarning: indexing past lexsort depth may impact performance.\n",
      "/var/folders/kb/v0p0ypbd0wx1q2qb1kpxmmcc0000gn/T/ipykernel_53609/2183440621.py:2: PerformanceWarning: indexing past lexsort depth may impact performance.\n",
      "/var/folders/kb/v0p0ypbd0wx1q2qb1kpxmmcc0000gn/T/ipykernel_53609/2183440621.py:2: PerformanceWarning: indexing past lexsort depth may impact performance.\n",
      "/var/folders/kb/v0p0ypbd0wx1q2qb1kpxmmcc0000gn/T/ipykernel_53609/2183440621.py:2: PerformanceWarning: indexing past lexsort depth may impact performance.\n",
      "/var/folders/kb/v0p0ypbd0wx1q2qb1kpxmmcc0000gn/T/ipykernel_53609/2183440621.py:2: PerformanceWarning: indexing past lexsort depth may impact performance.\n",
      "/var/folders/kb/v0p0ypbd0wx1q2qb1kpxmmcc0000gn/T/ipykernel_53609/2183440621.py:2: PerformanceWarning: indexing past lexsort depth may impact performance.\n"
     ]
    }
   ],
   "source": [
    "all_preds = Parallel(n_jobs=4)(delayed(fit_one_sku)(train_test_pivot1 = original_train_pivot,\\\n",
    "                                                    sku_id1 = sku_id_i,\\\n",
    "                                                    n_lags_y1 = 30,\\\n",
    "                                                    n_lags_exog1 = 14,\\\n",
    "                                                    exog_cols1 = exog_cols) \\\n",
    "                               for sku_id_i in tqdm(stl_skus))"
   ]
  },
  {
   "cell_type": "code",
   "execution_count": 50,
   "id": "e06423d3",
   "metadata": {},
   "outputs": [
    {
     "data": {
      "text/plain": [
       "127"
      ]
     },
     "execution_count": 50,
     "metadata": {},
     "output_type": "execute_result"
    }
   ],
   "source": [
    "len(all_preds)"
   ]
  },
  {
   "cell_type": "code",
   "execution_count": 51,
   "id": "41475ae7",
   "metadata": {},
   "outputs": [],
   "source": [
    "import pickle\n",
    "with open('../../data/stl_prophet_final_results_127sku.pkl', 'wb') as f:\n",
    "    pickle.dump(all_preds, f)"
   ]
  }
 ],
 "metadata": {
  "kernelspec": {
   "display_name": "Python 3 (ipykernel)",
   "language": "python",
   "name": "python3"
  },
  "language_info": {
   "codemirror_mode": {
    "name": "ipython",
    "version": 3
   },
   "file_extension": ".py",
   "mimetype": "text/x-python",
   "name": "python",
   "nbconvert_exporter": "python",
   "pygments_lexer": "ipython3",
   "version": "3.9.15"
  }
 },
 "nbformat": 4,
 "nbformat_minor": 5
}
