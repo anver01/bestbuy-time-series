{
 "cells": [
  {
   "cell_type": "code",
   "execution_count": 1,
   "id": "49e85d64",
   "metadata": {},
   "outputs": [
    {
     "name": "stdout",
     "output_type": "stream",
     "text": [
      "/Users/ashish1610dhiman/data_projects/bestbuy/notebooks/ashish_validation_train\r\n"
     ]
    }
   ],
   "source": [
    "!pwd"
   ]
  },
  {
   "cell_type": "code",
   "execution_count": 2,
   "id": "15936f8e",
   "metadata": {},
   "outputs": [],
   "source": [
    "import sys\n",
    "import matplotlib\n",
    "import numpy as np\n",
    "import pandas as pd\n",
    "import matplotlib.pyplot as plt\n",
    "import datetime\n",
    "\n",
    "sys.version\n",
    "\n",
    "sys.path.append(\"../../\")\n",
    "\n",
    "# from src.ad_hmm import sku_predict\n",
    "# from src.ad_stl_model import stl_model\n",
    "from src.utils import *"
   ]
  },
  {
   "cell_type": "code",
   "execution_count": 3,
   "id": "970ad691",
   "metadata": {},
   "outputs": [],
   "source": [
    "%load_ext autoreload \n",
    "%autoreload 2"
   ]
  },
  {
   "cell_type": "markdown",
   "id": "b9ad7c28",
   "metadata": {},
   "source": [
    "### y-actual"
   ]
  },
  {
   "cell_type": "code",
   "execution_count": 4,
   "id": "30efe1a8",
   "metadata": {},
   "outputs": [
    {
     "data": {
      "text/html": [
       "<div>\n",
       "<style scoped>\n",
       "    .dataframe tbody tr th:only-of-type {\n",
       "        vertical-align: middle;\n",
       "    }\n",
       "\n",
       "    .dataframe tbody tr th {\n",
       "        vertical-align: top;\n",
       "    }\n",
       "\n",
       "    .dataframe thead th {\n",
       "        text-align: right;\n",
       "    }\n",
       "</style>\n",
       "<table border=\"1\" class=\"dataframe\">\n",
       "  <thead>\n",
       "    <tr style=\"text-align: right;\">\n",
       "      <th></th>\n",
       "      <th>Encoded_SKU_ID</th>\n",
       "      <th>SALES_DATE</th>\n",
       "      <th>actual</th>\n",
       "    </tr>\n",
       "  </thead>\n",
       "  <tbody>\n",
       "    <tr>\n",
       "      <th>0</th>\n",
       "      <td>23</td>\n",
       "      <td>2022-08-06</td>\n",
       "      <td>3</td>\n",
       "    </tr>\n",
       "    <tr>\n",
       "      <th>1</th>\n",
       "      <td>100</td>\n",
       "      <td>2022-08-02</td>\n",
       "      <td>2</td>\n",
       "    </tr>\n",
       "    <tr>\n",
       "      <th>2</th>\n",
       "      <td>121</td>\n",
       "      <td>2022-08-06</td>\n",
       "      <td>6</td>\n",
       "    </tr>\n",
       "    <tr>\n",
       "      <th>3</th>\n",
       "      <td>207</td>\n",
       "      <td>2022-08-03</td>\n",
       "      <td>0</td>\n",
       "    </tr>\n",
       "    <tr>\n",
       "      <th>4</th>\n",
       "      <td>416</td>\n",
       "      <td>2022-08-05</td>\n",
       "      <td>9</td>\n",
       "    </tr>\n",
       "  </tbody>\n",
       "</table>\n",
       "</div>"
      ],
      "text/plain": [
       "   Encoded_SKU_ID SALES_DATE  actual\n",
       "0              23 2022-08-06       3\n",
       "1             100 2022-08-02       2\n",
       "2             121 2022-08-06       6\n",
       "3             207 2022-08-03       0\n",
       "4             416 2022-08-05       9"
      ]
     },
     "execution_count": 4,
     "metadata": {},
     "output_type": "execute_result"
    }
   ],
   "source": [
    "original_validation = pd.read_excel(\"../../data/Validation_Data.xlsx\").drop_duplicates()\n",
    "y_act = original_validation[[\"Encoded_SKU_ID\",\"SALES_DATE\",\"DAILY_UNITS\"]].rename(columns = {\"DAILY_UNITS\":\"actual\"})\n",
    "y_act.head()"
   ]
  },
  {
   "cell_type": "markdown",
   "id": "5b777cb9",
   "metadata": {},
   "source": [
    "###  Read all predictions"
   ]
  },
  {
   "cell_type": "code",
   "execution_count": 5,
   "id": "234bea46",
   "metadata": {},
   "outputs": [
    {
     "data": {
      "text/plain": [
       "539"
      ]
     },
     "execution_count": 5,
     "metadata": {},
     "output_type": "execute_result"
    }
   ],
   "source": [
    "#y_null\n",
    "y_pred_null = pd.read_csv(\"../../results/null_model_results_final.csv\",index_col=0)\n",
    "y_pred_null[\"SALES_DATE\"] = pd.to_datetime(y_pred_null[\"SALES_DATE\"])\n",
    "y_pred_null.Encoded_SKU_ID.nunique()"
   ]
  },
  {
   "cell_type": "code",
   "execution_count": 28,
   "id": "87adfb85",
   "metadata": {},
   "outputs": [
    {
     "data": {
      "text/plain": [
       "41"
      ]
     },
     "execution_count": 28,
     "metadata": {},
     "output_type": "execute_result"
    }
   ],
   "source": [
    "#y_holt\n",
    "y_pred_holt = pd.read_csv(\"../../results/holt_rst_final_02.csv\",index_col=0)\n",
    "y_pred_holt[\"SALES_DATE\"] = pd.to_datetime(y_pred_holt[\"SALES_DATE\"])\n",
    "y_pred_holt.Encoded_SKU_ID.nunique()"
   ]
  },
  {
   "cell_type": "code",
   "execution_count": 49,
   "id": "4390b2c1",
   "metadata": {},
   "outputs": [
    {
     "data": {
      "text/plain": [
       "215"
      ]
     },
     "execution_count": 49,
     "metadata": {},
     "output_type": "execute_result"
    }
   ],
   "source": [
    "#y_hmm\n",
    "y_pred_hmm = pd.read_csv(\"../../results/hmm_result_final_all2.csv\").drop(columns=[\"Unnamed: 0\"])\n",
    "y_pred_hmm[\"SALES_DATE\"] = pd.to_datetime(y_pred_hmm[\"SALES_DATE\"])\n",
    "y_pred_hmm.Encoded_SKU_ID.nunique()"
   ]
  },
  {
   "cell_type": "code",
   "execution_count": 50,
   "id": "e8a496dc",
   "metadata": {},
   "outputs": [
    {
     "data": {
      "text/plain": [
       "102"
      ]
     },
     "execution_count": 50,
     "metadata": {},
     "output_type": "execute_result"
    }
   ],
   "source": [
    "#y_prophet_stl\n",
    "import pickle\n",
    "with open('../../data/stl_prophet_final_results_127sku.pkl', 'rb') as f:\n",
    "    all_preds = pickle.load(f)\n",
    "    \n",
    "y_pred_prophet_stl_mstl = pd.DataFrame()\n",
    "for i in range(len(all_preds)):\n",
    "    if all_preds[i]!= None:\n",
    "        y_pred_prophet_stl_mstl = pd.concat([y_pred_prophet_stl_mstl,all_preds[i][1]])\n",
    "y_pred_prophet_stl_mstl = y_pred_prophet_stl_mstl.reset_index().drop(columns=[\"actual\"])\n",
    "y_pred_prophet_stl_mstl[\"SALES_DATE\"] = pd.to_datetime(y_pred_prophet_stl_mstl[\"SALES_DATE\"])\n",
    "y_pred_prophet_stl_mstl.Encoded_SKU_ID.nunique()"
   ]
  },
  {
   "cell_type": "code",
   "execution_count": 51,
   "id": "f4a83117",
   "metadata": {},
   "outputs": [],
   "source": [
    "y_pred_stl = y_pred_prophet_stl_mstl[[\"SALES_DATE\",\"STL_prediction\",\"Encoded_SKU_ID\"\\\n",
    "                        ]].rename(columns={\"STL_prediction\":\"predicted\"})\n",
    "\n",
    "y_pred_mstl = y_pred_prophet_stl_mstl[[\"SALES_DATE\",\"MSTL_prediction\",\"Encoded_SKU_ID\"\\\n",
    "                        ]].rename(columns={\"MSTL_prediction\":\"predicted\"})\n",
    "\n",
    "y_pred_prophet = y_pred_prophet_stl_mstl[[\"SALES_DATE\",\"prophet_prediction\",\"Encoded_SKU_ID\"\\\n",
    "                        ]].rename(columns={\"prophet_prediction\":\"predicted\"})"
   ]
  },
  {
   "cell_type": "markdown",
   "id": "b0108fd0",
   "metadata": {},
   "source": [
    "### Merge all predictions"
   ]
  },
  {
   "cell_type": "code",
   "execution_count": 52,
   "id": "bb75f8b8",
   "metadata": {},
   "outputs": [
    {
     "name": "stdout",
     "output_type": "stream",
     "text": [
      "null 539\n",
      "stl 102\n",
      "mstl 102\n",
      "holt 41\n",
      "hmm 215\n",
      "prophet 102\n"
     ]
    }
   ],
   "source": [
    "print(\"null\",y_pred_null[\"Encoded_SKU_ID\"].nunique())\n",
    "print(\"stl\",y_pred_stl[\"Encoded_SKU_ID\"].nunique())\n",
    "print(\"mstl\",y_pred_mstl[\"Encoded_SKU_ID\"].nunique())\n",
    "print(\"holt\",y_pred_holt[\"Encoded_SKU_ID\"].nunique())\n",
    "print(\"hmm\",y_pred_hmm[\"Encoded_SKU_ID\"].nunique())\n",
    "print(\"prophet\",y_pred_prophet[\"Encoded_SKU_ID\"].nunique())"
   ]
  },
  {
   "cell_type": "code",
   "execution_count": 53,
   "id": "19284c07",
   "metadata": {},
   "outputs": [],
   "source": [
    "y_pred_holt1 = y_pred_holt.rename(columns={\"predicted\":\"predicted_holt\"})"
   ]
  },
  {
   "cell_type": "code",
   "execution_count": 54,
   "id": "e48d2d57",
   "metadata": {},
   "outputs": [
    {
     "data": {
      "text/html": [
       "<div>\n",
       "<style scoped>\n",
       "    .dataframe tbody tr th:only-of-type {\n",
       "        vertical-align: middle;\n",
       "    }\n",
       "\n",
       "    .dataframe tbody tr th {\n",
       "        vertical-align: top;\n",
       "    }\n",
       "\n",
       "    .dataframe thead th {\n",
       "        text-align: right;\n",
       "    }\n",
       "</style>\n",
       "<table border=\"1\" class=\"dataframe\">\n",
       "  <thead>\n",
       "    <tr style=\"text-align: right;\">\n",
       "      <th></th>\n",
       "      <th>SALES_DATE</th>\n",
       "      <th>predicted_15</th>\n",
       "      <th>predicted_30</th>\n",
       "      <th>predicted_45</th>\n",
       "      <th>predicted_60</th>\n",
       "      <th>predicted_90</th>\n",
       "      <th>predicted_max</th>\n",
       "      <th>Encoded_SKU_ID</th>\n",
       "      <th>STL_prediction</th>\n",
       "      <th>MSTL_prediction</th>\n",
       "      <th>prophet_prediction</th>\n",
       "      <th>predicted_null</th>\n",
       "      <th>predicted_holt</th>\n",
       "    </tr>\n",
       "  </thead>\n",
       "  <tbody>\n",
       "    <tr>\n",
       "      <th>0</th>\n",
       "      <td>2022-08-01</td>\n",
       "      <td>3.00</td>\n",
       "      <td>3.00</td>\n",
       "      <td>3.00</td>\n",
       "      <td>3.00</td>\n",
       "      <td>2.00</td>\n",
       "      <td>3.00</td>\n",
       "      <td>1</td>\n",
       "      <td>NaN</td>\n",
       "      <td>NaN</td>\n",
       "      <td>NaN</td>\n",
       "      <td>1</td>\n",
       "      <td>NaN</td>\n",
       "    </tr>\n",
       "    <tr>\n",
       "      <th>1</th>\n",
       "      <td>2022-08-01</td>\n",
       "      <td>1.55</td>\n",
       "      <td>0.45</td>\n",
       "      <td>0.45</td>\n",
       "      <td>0.45</td>\n",
       "      <td>2.00</td>\n",
       "      <td>1.00</td>\n",
       "      <td>1</td>\n",
       "      <td>NaN</td>\n",
       "      <td>NaN</td>\n",
       "      <td>NaN</td>\n",
       "      <td>1</td>\n",
       "      <td>NaN</td>\n",
       "    </tr>\n",
       "    <tr>\n",
       "      <th>2</th>\n",
       "      <td>2022-08-01</td>\n",
       "      <td>1.55</td>\n",
       "      <td>1.55</td>\n",
       "      <td>1.00</td>\n",
       "      <td>2.00</td>\n",
       "      <td>2.00</td>\n",
       "      <td>2.00</td>\n",
       "      <td>1</td>\n",
       "      <td>NaN</td>\n",
       "      <td>NaN</td>\n",
       "      <td>NaN</td>\n",
       "      <td>1</td>\n",
       "      <td>NaN</td>\n",
       "    </tr>\n",
       "    <tr>\n",
       "      <th>3</th>\n",
       "      <td>2022-08-01</td>\n",
       "      <td>3.00</td>\n",
       "      <td>3.00</td>\n",
       "      <td>2.00</td>\n",
       "      <td>3.00</td>\n",
       "      <td>1.45</td>\n",
       "      <td>0.45</td>\n",
       "      <td>1</td>\n",
       "      <td>NaN</td>\n",
       "      <td>NaN</td>\n",
       "      <td>NaN</td>\n",
       "      <td>1</td>\n",
       "      <td>NaN</td>\n",
       "    </tr>\n",
       "    <tr>\n",
       "      <th>4</th>\n",
       "      <td>2022-08-01</td>\n",
       "      <td>0.55</td>\n",
       "      <td>0.55</td>\n",
       "      <td>1.00</td>\n",
       "      <td>1.00</td>\n",
       "      <td>0.45</td>\n",
       "      <td>2.00</td>\n",
       "      <td>1</td>\n",
       "      <td>NaN</td>\n",
       "      <td>NaN</td>\n",
       "      <td>NaN</td>\n",
       "      <td>1</td>\n",
       "      <td>NaN</td>\n",
       "    </tr>\n",
       "  </tbody>\n",
       "</table>\n",
       "</div>"
      ],
      "text/plain": [
       "  SALES_DATE  predicted_15  predicted_30  predicted_45  predicted_60  \\\n",
       "0 2022-08-01          3.00          3.00          3.00          3.00   \n",
       "1 2022-08-01          1.55          0.45          0.45          0.45   \n",
       "2 2022-08-01          1.55          1.55          1.00          2.00   \n",
       "3 2022-08-01          3.00          3.00          2.00          3.00   \n",
       "4 2022-08-01          0.55          0.55          1.00          1.00   \n",
       "\n",
       "   predicted_90  predicted_max  Encoded_SKU_ID  STL_prediction  \\\n",
       "0          2.00           3.00               1             NaN   \n",
       "1          2.00           1.00               1             NaN   \n",
       "2          2.00           2.00               1             NaN   \n",
       "3          1.45           0.45               1             NaN   \n",
       "4          0.45           2.00               1             NaN   \n",
       "\n",
       "   MSTL_prediction  prophet_prediction  predicted_null  predicted_holt  \n",
       "0              NaN                 NaN               1             NaN  \n",
       "1              NaN                 NaN               1             NaN  \n",
       "2              NaN                 NaN               1             NaN  \n",
       "3              NaN                 NaN               1             NaN  \n",
       "4              NaN                 NaN               1             NaN  "
      ]
     },
     "execution_count": 54,
     "metadata": {},
     "output_type": "execute_result"
    }
   ],
   "source": [
    "all_predictions = y_pred_hmm.merge(y_pred_prophet_stl_mstl,on=[\"Encoded_SKU_ID\",\"SALES_DATE\"],how=\"outer\"\\\n",
    "                                            ).merge(y_pred_null,on=[\"Encoded_SKU_ID\",\"SALES_DATE\"],how=\"outer\",\\\n",
    "                                                   suffixes = (\"_15\",\"_null\"),\\\n",
    "                                                   ).merge(y_pred_holt1,on=[\"Encoded_SKU_ID\",\"SALES_DATE\"],how=\"outer\"\\\n",
    "                                                          ,suffixes=(\"\",\"_holt\"))\n",
    "all_predictions.head()"
   ]
  },
  {
   "cell_type": "code",
   "execution_count": 55,
   "id": "ad48d9d0",
   "metadata": {},
   "outputs": [],
   "source": [
    "all_predictions = all_predictions.rename(columns={\n",
    "    \"STL_prediction\":\"predicted_STL\",\\\n",
    "    \"MSTL_prediction\":\"predicted_MSTL\",\\\n",
    "    \"prophet_prediction\":\"predicted_prophet\"\n",
    "})"
   ]
  },
  {
   "cell_type": "markdown",
   "id": "c45bbcfe",
   "metadata": {},
   "source": [
    "### Create Aggregare prediction"
   ]
  },
  {
   "cell_type": "code",
   "execution_count": 56,
   "id": "0d112bff",
   "metadata": {},
   "outputs": [
    {
     "name": "stdout",
     "output_type": "stream",
     "text": [
      "predicted_15 (539, 3)\n",
      "predicted_30 (539, 6)\n",
      "predicted_45 (539, 9)\n",
      "predicted_60 (539, 12)\n",
      "predicted_90 (539, 15)\n",
      "predicted_max (539, 18)\n",
      "predicted_STL (539, 21)\n",
      "predicted_MSTL (539, 24)\n",
      "predicted_prophet (539, 27)\n",
      "predicted_null (539, 30)\n",
      "predicted_holt (539, 33)\n"
     ]
    }
   ],
   "source": [
    "rmse_all_preds = pd.DataFrame()\n",
    "first_flag = True\n",
    "for col in all_predictions.columns:\n",
    "    if \"pred\" in col:\n",
    "        y_pred_i = all_predictions[[\"Encoded_SKU_ID\",\"SALES_DATE\",col\\\n",
    "                                   ]].rename(columns={col:\"predicted\"})\n",
    "        y_pred_i[\"SALES_DATE\"] = pd.to_datetime(y_pred_i[\"SALES_DATE\"])\n",
    "        rmse_pred_i = rmse_sku(y_act,y_pred_i)\n",
    "        rmse_pred_i.columns = [f\"{col_rmse}_{col.split('_')[-1]}\" for col_rmse in rmse_pred_i.columns]\n",
    "        if first_flag:\n",
    "            rmse_all_preds = rmse_pred_i\n",
    "            print (col,rmse_all_preds.shape)\n",
    "            first_flag = False\n",
    "        else:\n",
    "            rmse_all_preds = rmse_all_preds.merge(rmse_pred_i, left_index = True, right_index = True,\\\n",
    "                                suffixes = (\"\",f\"_{col.split('_')[-1]}\"))\n",
    "            print (col,rmse_all_preds.shape)"
   ]
  },
  {
   "cell_type": "code",
   "execution_count": 57,
   "id": "4518ad78",
   "metadata": {},
   "outputs": [
    {
     "data": {
      "text/plain": [
       "['rmse_du_15',\n",
       " 'rmse_du_30',\n",
       " 'rmse_du_45',\n",
       " 'rmse_du_60',\n",
       " 'rmse_du_90',\n",
       " 'rmse_du_max',\n",
       " 'rmse_du_STL',\n",
       " 'rmse_du_MSTL',\n",
       " 'rmse_du_prophet',\n",
       " 'rmse_du_null',\n",
       " 'rmse_du_holt']"
      ]
     },
     "execution_count": 57,
     "metadata": {},
     "output_type": "execute_result"
    }
   ],
   "source": [
    "rmse_cols = [col for col in rmse_all_preds.columns if \"rmse_du\" in col]\n",
    "rmse_cols"
   ]
  },
  {
   "cell_type": "code",
   "execution_count": 58,
   "id": "eb82b8bc",
   "metadata": {},
   "outputs": [],
   "source": [
    "rmse_all_preds[\"min_rmse\"] = rmse_all_preds[rmse_cols].min(axis=1,skipna=True)\n",
    "\n",
    "rmse_all_preds[\"argmin_period\"] = np.nanargmin(rmse_all_preds[rmse_cols].values,axis=1)\n",
    "\n",
    "rmse_all_preds[\"min_period\"] = rmse_all_preds[\"argmin_period\"].apply(lambda x: rmse_cols[x])"
   ]
  },
  {
   "cell_type": "code",
   "execution_count": 59,
   "id": "f1feff8c",
   "metadata": {},
   "outputs": [
    {
     "data": {
      "text/plain": [
       "rmse_du_null       312\n",
       "rmse_du_prophet     40\n",
       "rmse_du_STL         33\n",
       "rmse_du_15          30\n",
       "rmse_du_60          25\n",
       "rmse_du_90          20\n",
       "rmse_du_max         20\n",
       "rmse_du_30          18\n",
       "rmse_du_45          17\n",
       "rmse_du_holt        15\n",
       "rmse_du_MSTL         9\n",
       "Name: min_period, dtype: int64"
      ]
     },
     "execution_count": 59,
     "metadata": {},
     "output_type": "execute_result"
    }
   ],
   "source": [
    "rmse_all_preds[\"min_period\"].value_counts()"
   ]
  },
  {
   "cell_type": "code",
   "execution_count": 60,
   "id": "addbb2a1",
   "metadata": {},
   "outputs": [],
   "source": [
    "period_col_map= {\n",
    "    \"rmse_du_15\":\"predicted_15\", \"rmse_du_30\":\"predicted_30\", \"rmse_du_45\":\"predicted_45\",\\\n",
    "    \"rmse_du_60\":\"predicted_60\", \"rmse_du_90\":\"predicted_90\", \"rmse_du_max\":\"predicted_max\",\\\n",
    "    \"rmse_du_STL\":\"predicted_STL\",\"rmse_du_MSTL\":\"predicted_MSTL\",\"rmse_du_null\":\"predicted_null\",\\\n",
    "    \"rmse_du_holt\":\"predicted_holt\",\"rmse_du_prophet\":\"predicted_prophet\"\n",
    "}"
   ]
  },
  {
   "cell_type": "code",
   "execution_count": 61,
   "id": "6bf86aca",
   "metadata": {},
   "outputs": [],
   "source": [
    "y_pred_best = pd.DataFrame()\n",
    "cnt = 0\n",
    "for sku_id,best_period in zip(rmse_all_preds.index,rmse_all_preds[\"min_period\"]):\n",
    "    best_col = period_col_map[best_period]\n",
    "    mask_sku = all_predictions.Encoded_SKU_ID==sku_id\n",
    "    y_pred_best_sku = all_predictions.loc[mask_sku][[\"Encoded_SKU_ID\",\"SALES_DATE\",best_col\\\n",
    "                                                                  ]].rename(columns={best_col:\"predicted\"})\n",
    "    y_pred_best = pd.concat([y_pred_best,y_pred_best_sku])"
   ]
  },
  {
   "cell_type": "code",
   "execution_count": 62,
   "id": "a1d94508",
   "metadata": {},
   "outputs": [
    {
     "data": {
      "text/plain": [
       "(539, 539, 539)"
      ]
     },
     "execution_count": 62,
     "metadata": {},
     "output_type": "execute_result"
    }
   ],
   "source": [
    "#QC\n",
    "y_act.Encoded_SKU_ID.nunique(),y_pred_null.Encoded_SKU_ID.nunique(),y_pred_best.Encoded_SKU_ID.nunique()"
   ]
  },
  {
   "cell_type": "code",
   "execution_count": 63,
   "id": "b206138d",
   "metadata": {},
   "outputs": [
    {
     "data": {
      "text/plain": [
       "(5.290976671399268, 5.083008260215925)"
      ]
     },
     "execution_count": 63,
     "metadata": {},
     "output_type": "execute_result"
    }
   ],
   "source": [
    "rmse_val_null,rmse_null_best = rmse(y_act,y_pred_null),rmse(y_act,y_pred_best)\n",
    "rmse_val_null,rmse_null_best"
   ]
  },
  {
   "cell_type": "code",
   "execution_count": 44,
   "id": "463871cf",
   "metadata": {},
   "outputs": [],
   "source": [
    "rmse_best_sku = rmse_sku(y_act,y_pred_best)"
   ]
  },
  {
   "cell_type": "code",
   "execution_count": 45,
   "id": "9ce70222",
   "metadata": {},
   "outputs": [
    {
     "data": {
      "text/html": [
       "<div>\n",
       "<style scoped>\n",
       "    .dataframe tbody tr th:only-of-type {\n",
       "        vertical-align: middle;\n",
       "    }\n",
       "\n",
       "    .dataframe tbody tr th {\n",
       "        vertical-align: top;\n",
       "    }\n",
       "\n",
       "    .dataframe thead th {\n",
       "        text-align: right;\n",
       "    }\n",
       "</style>\n",
       "<table border=\"1\" class=\"dataframe\">\n",
       "  <thead>\n",
       "    <tr style=\"text-align: right;\">\n",
       "      <th></th>\n",
       "      <th>rmse_du</th>\n",
       "      <th>mean_du</th>\n",
       "      <th>pct_rmse</th>\n",
       "    </tr>\n",
       "    <tr>\n",
       "      <th>Encoded_SKU_ID</th>\n",
       "      <th></th>\n",
       "      <th></th>\n",
       "      <th></th>\n",
       "    </tr>\n",
       "  </thead>\n",
       "  <tbody>\n",
       "    <tr>\n",
       "      <th>469</th>\n",
       "      <td>91.411940</td>\n",
       "      <td>396.000000</td>\n",
       "      <td>0.230838</td>\n",
       "    </tr>\n",
       "    <tr>\n",
       "      <th>430</th>\n",
       "      <td>40.362642</td>\n",
       "      <td>94.714286</td>\n",
       "      <td>0.426152</td>\n",
       "    </tr>\n",
       "    <tr>\n",
       "      <th>50</th>\n",
       "      <td>32.671525</td>\n",
       "      <td>73.857143</td>\n",
       "      <td>0.442361</td>\n",
       "    </tr>\n",
       "    <tr>\n",
       "      <th>557</th>\n",
       "      <td>22.696759</td>\n",
       "      <td>33.285714</td>\n",
       "      <td>0.681877</td>\n",
       "    </tr>\n",
       "    <tr>\n",
       "      <th>271</th>\n",
       "      <td>16.694738</td>\n",
       "      <td>28.428571</td>\n",
       "      <td>0.587252</td>\n",
       "    </tr>\n",
       "  </tbody>\n",
       "</table>\n",
       "</div>"
      ],
      "text/plain": [
       "                  rmse_du     mean_du  pct_rmse\n",
       "Encoded_SKU_ID                                 \n",
       "469             91.411940  396.000000  0.230838\n",
       "430             40.362642   94.714286  0.426152\n",
       "50              32.671525   73.857143  0.442361\n",
       "557             22.696759   33.285714  0.681877\n",
       "271             16.694738   28.428571  0.587252"
      ]
     },
     "execution_count": 45,
     "metadata": {},
     "output_type": "execute_result"
    }
   ],
   "source": [
    "rmse_best_sku.head()"
   ]
  },
  {
   "cell_type": "code",
   "execution_count": 46,
   "id": "38df9581",
   "metadata": {},
   "outputs": [
    {
     "data": {
      "text/html": [
       "<div>\n",
       "<style scoped>\n",
       "    .dataframe tbody tr th:only-of-type {\n",
       "        vertical-align: middle;\n",
       "    }\n",
       "\n",
       "    .dataframe tbody tr th {\n",
       "        vertical-align: top;\n",
       "    }\n",
       "\n",
       "    .dataframe thead th {\n",
       "        text-align: right;\n",
       "    }\n",
       "</style>\n",
       "<table border=\"1\" class=\"dataframe\">\n",
       "  <thead>\n",
       "    <tr style=\"text-align: right;\">\n",
       "      <th></th>\n",
       "      <th>rmse_du</th>\n",
       "      <th>mean_du</th>\n",
       "      <th>pct_rmse</th>\n",
       "    </tr>\n",
       "    <tr>\n",
       "      <th>Encoded_SKU_ID</th>\n",
       "      <th></th>\n",
       "      <th></th>\n",
       "      <th></th>\n",
       "    </tr>\n",
       "  </thead>\n",
       "  <tbody>\n",
       "    <tr>\n",
       "      <th>215</th>\n",
       "      <td>0.316228</td>\n",
       "      <td>0.100000</td>\n",
       "      <td>3.162278</td>\n",
       "    </tr>\n",
       "    <tr>\n",
       "      <th>407</th>\n",
       "      <td>0.000000</td>\n",
       "      <td>0.142857</td>\n",
       "      <td>0.000000</td>\n",
       "    </tr>\n",
       "    <tr>\n",
       "      <th>228</th>\n",
       "      <td>0.000000</td>\n",
       "      <td>0.111111</td>\n",
       "      <td>0.000000</td>\n",
       "    </tr>\n",
       "    <tr>\n",
       "      <th>524</th>\n",
       "      <td>0.000000</td>\n",
       "      <td>0.142857</td>\n",
       "      <td>0.000000</td>\n",
       "    </tr>\n",
       "    <tr>\n",
       "      <th>542</th>\n",
       "      <td>0.000000</td>\n",
       "      <td>0.000000</td>\n",
       "      <td>NaN</td>\n",
       "    </tr>\n",
       "  </tbody>\n",
       "</table>\n",
       "</div>"
      ],
      "text/plain": [
       "                 rmse_du   mean_du  pct_rmse\n",
       "Encoded_SKU_ID                              \n",
       "215             0.316228  0.100000  3.162278\n",
       "407             0.000000  0.142857  0.000000\n",
       "228             0.000000  0.111111  0.000000\n",
       "524             0.000000  0.142857  0.000000\n",
       "542             0.000000  0.000000       NaN"
      ]
     },
     "execution_count": 46,
     "metadata": {},
     "output_type": "execute_result"
    }
   ],
   "source": [
    "rmse_best_sku.tail()"
   ]
  },
  {
   "cell_type": "markdown",
   "id": "02c378e1",
   "metadata": {},
   "source": [
    "### RMSE"
   ]
  },
  {
   "cell_type": "markdown",
   "id": "5af09570",
   "metadata": {},
   "source": [
    "rmse_all_preds = pd.DataFrame()\n",
    "first_flag = True\n",
    "for col in all_predictions.columns:\n",
    "    if \"pred\" in col:\n",
    "        y_pred_i = all_predictions[[\"Encoded_SKU_ID\",\"SALES_DATE\",col\\\n",
    "                                   ]].rename(columns={col:\"predicted\"})\n",
    "        y_pred_i[\"SALES_DATE\"] = pd.to_datetime(y_pred_i[\"SALES_DATE\"])\n",
    "        rmse_pred_i = rmse_sku(y_act,y_pred_i)\n",
    "        rmse_pred_i.columns = [f\"{col_rmse}_{col.split('_')[-1]}\" for col_rmse in rmse_pred_i.columns]\n",
    "        if first_flag:\n",
    "            rmse_all_preds = rmse_pred_i\n",
    "            print (col,rmse_all_preds.shape)\n",
    "            first_flag = False\n",
    "        else:\n",
    "            rmse_all_preds = rmse_all_preds.merge(rmse_pred_i, left_index = True, right_index = True,\\\n",
    "                                suffixes = (\"\",f\"_{col.split('_')[-1]}\"))\n",
    "            print (col,rmse_all_preds.shape)"
   ]
  },
  {
   "cell_type": "markdown",
   "id": "699ed61c",
   "metadata": {},
   "source": [
    "rmse_all_preds"
   ]
  },
  {
   "cell_type": "markdown",
   "id": "b633b6cf",
   "metadata": {},
   "source": [
    "rmse_cols = [col for col in rmse_all_preds.columns if \"rmse_du\" in col]\n",
    "rmse_cols"
   ]
  },
  {
   "cell_type": "markdown",
   "id": "8a4e78e4",
   "metadata": {},
   "source": [
    "# #mute rmse null wherever other model is available to prevent data leak\n",
    "# rmse_cols_wo_null = [x for x in rmse_cols if \"null\" not in x]\n",
    "# atleast_one_model_not_nan = (~rmse_all_preds[rmse_cols_wo_null].isna()).sum(axis=1)>0\n",
    "# atleast_one_model_not_nan.sum(),(~atleast_one_model_not_nan).sum()"
   ]
  },
  {
   "cell_type": "markdown",
   "id": "8192c4d7",
   "metadata": {},
   "source": [
    "# rmse_all_preds.loc[atleast_one_model_not_nan,\"rmse_null\"]=np.nan"
   ]
  },
  {
   "cell_type": "markdown",
   "id": "0ca0b9d3",
   "metadata": {},
   "source": [
    "### Create y_best cumulatively | Ensemble*"
   ]
  },
  {
   "cell_type": "markdown",
   "id": "0558e37b",
   "metadata": {},
   "source": [
    "def create_y_best(rmse_all_preds,step_cols,period_col_map,step=\"\"):\n",
    "    rmse_all_preds[f\"min_rmse_{step}\"] = rmse_all_preds[step_cols].min(axis=1,skipna=True)\n",
    "    rmse_all_preds[f\"argmin_period_{step}\"] = np.argmin(rmse_all_preds[step_cols].values,axis=1)\n",
    "    rmse_all_preds[f\"min_period_{step}\"] = rmse_all_preds[f\"argmin_period_{step}\"].apply(lambda x: step_cols[x])\n",
    "    y_pred_best = pd.DataFrame()\n",
    "    cnt = 0\n",
    "    for sku_id,best_period in zip(rmse_all_preds.index,rmse_all_preds[f\"min_period_{step}\"]):\n",
    "        best_col = period_col_map[best_period]\n",
    "        mask_sku = all_predictions.Encoded_SKU_ID==sku_id\n",
    "        y_pred_best_sku = all_predictions.loc[mask_sku][[\"Encoded_SKU_ID\",\"SALES_DATE\",best_col\\\n",
    "                                                                  ]].rename(columns={best_col:\"predicted\"})\n",
    "        y_pred_best = pd.concat([y_pred_best,y_pred_best_sku])\n",
    "    return (y_pred_best)"
   ]
  },
  {
   "cell_type": "markdown",
   "id": "328d5f26",
   "metadata": {},
   "source": [
    "period_col_map= {\n",
    "    \"rmse_du_15\":\"predicted_15\", \"rmse_du_30\":\"predicted_30\", \"rmse_du_45\":\"predicted_45\",\\\n",
    "    \"rmse_du_60\":\"predicted_60\", \"rmse_du_90\":\"predicted_90\", \"rmse_du_max\":\"predicted_max\",\\\n",
    "    \"rmse_du_STL\":\"predicted_STL\",\"rmse_du_MSTL\":\"predicted_MSTL\",\"rmse_du_null\":\"predicted_null\",\\\n",
    "    \"rmse_du_holt\":\"predicted_holt\",\"rmse_du_prophet\":\"predicted_prophet\"\n",
    "}"
   ]
  },
  {
   "cell_type": "markdown",
   "id": "17488196",
   "metadata": {},
   "source": [
    "### Step 1: Null + Holt + Prophet"
   ]
  },
  {
   "cell_type": "markdown",
   "id": "166d2a10",
   "metadata": {},
   "source": [
    "step = \"2\"\n",
    "step_cols = ['rmse_du_STL',\n",
    " 'rmse_du_MSTL',\n",
    " 'rmse_du_prophet',\n",
    " 'rmse_du_null',\n",
    " 'rmse_du_holt']\n",
    "\n",
    "y_best1 = create_y_best(rmse_all_preds,step_cols,period_col_map,step)\n",
    "assert y_best1.Encoded_SKU_ID.nunique()==539, \"y_best does not have all SKUs\"\n",
    "rmse_val_null,rmse_null_best = rmse(y_act,y_pred_null),rmse(y_act,y_best1)\n",
    "rmse_val_null,rmse_null_best,((rmse_val_null-rmse_null_best)*100)/rmse_null_best"
   ]
  },
  {
   "cell_type": "markdown",
   "id": "e3f7cbcd",
   "metadata": {},
   "source": [
    "rmse_all_preds[f\"min_period_{step}\"].value_counts()"
   ]
  },
  {
   "cell_type": "markdown",
   "id": "9e08aedf",
   "metadata": {},
   "source": [
    "### Step 1: Null + Holt + Prophet\n",
    "\n",
    "step = \"3\"\n",
    "step_cols = rmse_cols\n",
    "\n",
    "y_best1 = create_y_best(rmse_all_preds,step_cols,period_col_map,step)\n",
    "assert y_best1.Encoded_SKU_ID.nunique()==539, \"y_best does not have all SKUs\"\n",
    "rmse_val_null,rmse_null_best = rmse(y_act,y_pred_null),rmse(y_act,y_best1)\n",
    "rmse_val_null,rmse_null_best,((rmse_val_null-rmse_null_best)*100)/rmse_null_best"
   ]
  },
  {
   "cell_type": "markdown",
   "id": "5a92413f",
   "metadata": {},
   "source": [
    "rmse_all_preds[f\"min_period_{step}\"].value_counts()"
   ]
  }
 ],
 "metadata": {
  "kernelspec": {
   "display_name": "Python 3 (ipykernel)",
   "language": "python",
   "name": "python3"
  },
  "language_info": {
   "codemirror_mode": {
    "name": "ipython",
    "version": 3
   },
   "file_extension": ".py",
   "mimetype": "text/x-python",
   "name": "python",
   "nbconvert_exporter": "python",
   "pygments_lexer": "ipython3",
   "version": "3.9.15"
  }
 },
 "nbformat": 4,
 "nbformat_minor": 5
}
