{
 "cells": [
  {
   "cell_type": "code",
   "execution_count": 1,
   "id": "c19096cc",
   "metadata": {},
   "outputs": [
    {
     "name": "stdout",
     "output_type": "stream",
     "text": [
      "/Users/ashish1610dhiman/data_projects/bestbuy/notebooks/ashish_validation_train\r\n"
     ]
    }
   ],
   "source": [
    "!pwd"
   ]
  },
  {
   "cell_type": "code",
   "execution_count": 2,
   "id": "025efb37",
   "metadata": {},
   "outputs": [],
   "source": [
    "import sys\n",
    "import matplotlib\n",
    "import numpy as np\n",
    "import pandas as pd\n",
    "import matplotlib.pyplot as plt\n",
    "import datetime\n",
    "\n",
    "sys.version\n",
    "\n",
    "sys.path.append(\"../../\")\n",
    "\n",
    "# from src.ad_hmm import sku_predict\n",
    "# from src.ad_stl_model import stl_model\n",
    "from src.utils import *"
   ]
  },
  {
   "cell_type": "code",
   "execution_count": 3,
   "id": "31d0642c",
   "metadata": {},
   "outputs": [],
   "source": [
    "%load_ext autoreload \n",
    "%autoreload 2"
   ]
  },
  {
   "cell_type": "markdown",
   "id": "6ce514fe",
   "metadata": {},
   "source": [
    "### y-actual"
   ]
  },
  {
   "cell_type": "code",
   "execution_count": 4,
   "id": "03c9a541",
   "metadata": {},
   "outputs": [
    {
     "data": {
      "text/html": [
       "<div>\n",
       "<style scoped>\n",
       "    .dataframe tbody tr th:only-of-type {\n",
       "        vertical-align: middle;\n",
       "    }\n",
       "\n",
       "    .dataframe tbody tr th {\n",
       "        vertical-align: top;\n",
       "    }\n",
       "\n",
       "    .dataframe thead th {\n",
       "        text-align: right;\n",
       "    }\n",
       "</style>\n",
       "<table border=\"1\" class=\"dataframe\">\n",
       "  <thead>\n",
       "    <tr style=\"text-align: right;\">\n",
       "      <th></th>\n",
       "      <th>Encoded_SKU_ID</th>\n",
       "      <th>SALES_DATE</th>\n",
       "      <th>actual</th>\n",
       "    </tr>\n",
       "  </thead>\n",
       "  <tbody>\n",
       "    <tr>\n",
       "      <th>0</th>\n",
       "      <td>23</td>\n",
       "      <td>2022-08-06</td>\n",
       "      <td>3</td>\n",
       "    </tr>\n",
       "    <tr>\n",
       "      <th>1</th>\n",
       "      <td>100</td>\n",
       "      <td>2022-08-02</td>\n",
       "      <td>2</td>\n",
       "    </tr>\n",
       "    <tr>\n",
       "      <th>2</th>\n",
       "      <td>121</td>\n",
       "      <td>2022-08-06</td>\n",
       "      <td>6</td>\n",
       "    </tr>\n",
       "    <tr>\n",
       "      <th>3</th>\n",
       "      <td>207</td>\n",
       "      <td>2022-08-03</td>\n",
       "      <td>0</td>\n",
       "    </tr>\n",
       "    <tr>\n",
       "      <th>4</th>\n",
       "      <td>416</td>\n",
       "      <td>2022-08-05</td>\n",
       "      <td>9</td>\n",
       "    </tr>\n",
       "  </tbody>\n",
       "</table>\n",
       "</div>"
      ],
      "text/plain": [
       "   Encoded_SKU_ID SALES_DATE  actual\n",
       "0              23 2022-08-06       3\n",
       "1             100 2022-08-02       2\n",
       "2             121 2022-08-06       6\n",
       "3             207 2022-08-03       0\n",
       "4             416 2022-08-05       9"
      ]
     },
     "execution_count": 4,
     "metadata": {},
     "output_type": "execute_result"
    }
   ],
   "source": [
    "original_validation = pd.read_excel(\"../../data/Validation_Data.xlsx\").drop_duplicates()\n",
    "y_act = original_validation[[\"Encoded_SKU_ID\",\"SALES_DATE\",\"DAILY_UNITS\"]].rename(columns = {\"DAILY_UNITS\":\"actual\"})\n",
    "y_act.head()"
   ]
  },
  {
   "cell_type": "markdown",
   "id": "d077bdfd",
   "metadata": {},
   "source": [
    "###  Read all predictions"
   ]
  },
  {
   "cell_type": "code",
   "execution_count": 5,
   "id": "2c71d804",
   "metadata": {},
   "outputs": [
    {
     "data": {
      "text/plain": [
       "539"
      ]
     },
     "execution_count": 5,
     "metadata": {},
     "output_type": "execute_result"
    }
   ],
   "source": [
    "#y_null\n",
    "y_pred_null = pd.read_csv(\"../../results/null_model_results_final.csv\",index_col=0)\n",
    "y_pred_null[\"SALES_DATE\"] = pd.to_datetime(y_pred_null[\"SALES_DATE\"])\n",
    "y_pred_null.Encoded_SKU_ID.nunique()"
   ]
  },
  {
   "cell_type": "code",
   "execution_count": 6,
   "id": "575f8ff1",
   "metadata": {},
   "outputs": [
    {
     "data": {
      "text/plain": [
       "25"
      ]
     },
     "execution_count": 6,
     "metadata": {},
     "output_type": "execute_result"
    }
   ],
   "source": [
    "#y_holt\n",
    "y_pred_holt = pd.read_csv(\"../../results/holt_rst_final.csv\",index_col=0)\n",
    "y_pred_holt[\"SALES_DATE\"] = pd.to_datetime(y_pred_holt[\"SALES_DATE\"])\n",
    "y_pred_holt.Encoded_SKU_ID.nunique()"
   ]
  },
  {
   "cell_type": "code",
   "execution_count": 7,
   "id": "9075d0df",
   "metadata": {},
   "outputs": [
    {
     "data": {
      "text/plain": [
       "204"
      ]
     },
     "execution_count": 7,
     "metadata": {},
     "output_type": "execute_result"
    }
   ],
   "source": [
    "#y_hmm\n",
    "y_pred_hmm = pd.read_csv(\"../../results/hmm_result_final_all.csv\").drop(columns=[\"Unnamed: 0\"])\n",
    "y_pred_hmm[\"SALES_DATE\"] = pd.to_datetime(y_pred_hmm[\"SALES_DATE\"])\n",
    "y_pred_hmm.Encoded_SKU_ID.nunique()"
   ]
  },
  {
   "cell_type": "code",
   "execution_count": 8,
   "id": "20a8bd6e",
   "metadata": {},
   "outputs": [
    {
     "name": "stderr",
     "output_type": "stream",
     "text": [
      "Importing plotly failed. Interactive plots will not work.\n"
     ]
    },
    {
     "data": {
      "text/plain": [
       "102"
      ]
     },
     "execution_count": 8,
     "metadata": {},
     "output_type": "execute_result"
    }
   ],
   "source": [
    "#y_prophet_stl\n",
    "import pickle\n",
    "with open('../../data/stl_prophet_final_results_127sku.pkl', 'rb') as f:\n",
    "    all_preds = pickle.load(f)\n",
    "    \n",
    "y_pred_prophet_stl_mstl = pd.DataFrame()\n",
    "for i in range(len(all_preds)):\n",
    "    if all_preds[i]!= None:\n",
    "        y_pred_prophet_stl_mstl = pd.concat([y_pred_prophet_stl_mstl,all_preds[i][1]])\n",
    "y_pred_prophet_stl_mstl = y_pred_prophet_stl_mstl.reset_index().drop(columns=[\"actual\"])\n",
    "y_pred_prophet_stl_mstl[\"SALES_DATE\"] = pd.to_datetime(y_pred_prophet_stl_mstl[\"SALES_DATE\"])\n",
    "y_pred_prophet_stl_mstl.Encoded_SKU_ID.nunique()"
   ]
  },
  {
   "cell_type": "code",
   "execution_count": 9,
   "id": "7b73b291",
   "metadata": {},
   "outputs": [],
   "source": [
    "y_pred_stl = y_pred_prophet_stl_mstl[[\"SALES_DATE\",\"STL_prediction\",\"Encoded_SKU_ID\"\\\n",
    "                        ]].rename(columns={\"STL_prediction\":\"predicted\"})\n",
    "\n",
    "y_pred_mstl = y_pred_prophet_stl_mstl[[\"SALES_DATE\",\"MSTL_prediction\",\"Encoded_SKU_ID\"\\\n",
    "                        ]].rename(columns={\"MSTL_prediction\":\"predicted\"})\n",
    "\n",
    "y_pred_prophet = y_pred_prophet_stl_mstl[[\"SALES_DATE\",\"prophet_prediction\",\"Encoded_SKU_ID\"\\\n",
    "                        ]].rename(columns={\"prophet_prediction\":\"predicted\"})"
   ]
  },
  {
   "cell_type": "markdown",
   "id": "cb3052fe",
   "metadata": {},
   "source": [
    "### Merge all predictions"
   ]
  },
  {
   "cell_type": "code",
   "execution_count": 10,
   "id": "31e74d0b",
   "metadata": {},
   "outputs": [
    {
     "name": "stdout",
     "output_type": "stream",
     "text": [
      "null 539\n",
      "stl 102\n",
      "mstl 102\n",
      "holt 25\n",
      "hmm 204\n",
      "prophet 102\n"
     ]
    }
   ],
   "source": [
    "print(\"null\",y_pred_null[\"Encoded_SKU_ID\"].nunique())\n",
    "print(\"stl\",y_pred_stl[\"Encoded_SKU_ID\"].nunique())\n",
    "print(\"mstl\",y_pred_mstl[\"Encoded_SKU_ID\"].nunique())\n",
    "print(\"holt\",y_pred_holt[\"Encoded_SKU_ID\"].nunique())\n",
    "print(\"hmm\",y_pred_hmm[\"Encoded_SKU_ID\"].nunique())\n",
    "print(\"prophet\",y_pred_prophet[\"Encoded_SKU_ID\"].nunique())"
   ]
  },
  {
   "cell_type": "code",
   "execution_count": 11,
   "id": "c67e98c7",
   "metadata": {},
   "outputs": [],
   "source": [
    "y_pred_holt1 = y_pred_holt.rename(columns={\"predicted\":\"predicted_holt\"})"
   ]
  },
  {
   "cell_type": "code",
   "execution_count": 12,
   "id": "03ff5ad1",
   "metadata": {},
   "outputs": [
    {
     "data": {
      "text/html": [
       "<div>\n",
       "<style scoped>\n",
       "    .dataframe tbody tr th:only-of-type {\n",
       "        vertical-align: middle;\n",
       "    }\n",
       "\n",
       "    .dataframe tbody tr th {\n",
       "        vertical-align: top;\n",
       "    }\n",
       "\n",
       "    .dataframe thead th {\n",
       "        text-align: right;\n",
       "    }\n",
       "</style>\n",
       "<table border=\"1\" class=\"dataframe\">\n",
       "  <thead>\n",
       "    <tr style=\"text-align: right;\">\n",
       "      <th></th>\n",
       "      <th>SALES_DATE</th>\n",
       "      <th>predicted_15</th>\n",
       "      <th>predicted_30</th>\n",
       "      <th>predicted_45</th>\n",
       "      <th>predicted_60</th>\n",
       "      <th>predicted_90</th>\n",
       "      <th>predicted_max</th>\n",
       "      <th>Encoded_SKU_ID</th>\n",
       "      <th>STL_prediction</th>\n",
       "      <th>MSTL_prediction</th>\n",
       "      <th>prophet_prediction</th>\n",
       "      <th>predicted_null</th>\n",
       "      <th>predicted_holt</th>\n",
       "    </tr>\n",
       "  </thead>\n",
       "  <tbody>\n",
       "    <tr>\n",
       "      <th>0</th>\n",
       "      <td>2022-08-01</td>\n",
       "      <td>3.00</td>\n",
       "      <td>3.00</td>\n",
       "      <td>3.00</td>\n",
       "      <td>3.00</td>\n",
       "      <td>2.00</td>\n",
       "      <td>3.00</td>\n",
       "      <td>1</td>\n",
       "      <td>NaN</td>\n",
       "      <td>NaN</td>\n",
       "      <td>NaN</td>\n",
       "      <td>1</td>\n",
       "      <td>NaN</td>\n",
       "    </tr>\n",
       "    <tr>\n",
       "      <th>1</th>\n",
       "      <td>2022-08-01</td>\n",
       "      <td>1.55</td>\n",
       "      <td>0.45</td>\n",
       "      <td>0.45</td>\n",
       "      <td>0.45</td>\n",
       "      <td>2.00</td>\n",
       "      <td>1.00</td>\n",
       "      <td>1</td>\n",
       "      <td>NaN</td>\n",
       "      <td>NaN</td>\n",
       "      <td>NaN</td>\n",
       "      <td>1</td>\n",
       "      <td>NaN</td>\n",
       "    </tr>\n",
       "    <tr>\n",
       "      <th>2</th>\n",
       "      <td>2022-08-01</td>\n",
       "      <td>1.55</td>\n",
       "      <td>1.55</td>\n",
       "      <td>1.00</td>\n",
       "      <td>2.00</td>\n",
       "      <td>2.00</td>\n",
       "      <td>2.00</td>\n",
       "      <td>1</td>\n",
       "      <td>NaN</td>\n",
       "      <td>NaN</td>\n",
       "      <td>NaN</td>\n",
       "      <td>1</td>\n",
       "      <td>NaN</td>\n",
       "    </tr>\n",
       "    <tr>\n",
       "      <th>3</th>\n",
       "      <td>2022-08-01</td>\n",
       "      <td>3.00</td>\n",
       "      <td>3.00</td>\n",
       "      <td>2.00</td>\n",
       "      <td>3.00</td>\n",
       "      <td>1.45</td>\n",
       "      <td>0.45</td>\n",
       "      <td>1</td>\n",
       "      <td>NaN</td>\n",
       "      <td>NaN</td>\n",
       "      <td>NaN</td>\n",
       "      <td>1</td>\n",
       "      <td>NaN</td>\n",
       "    </tr>\n",
       "    <tr>\n",
       "      <th>4</th>\n",
       "      <td>2022-08-01</td>\n",
       "      <td>0.55</td>\n",
       "      <td>0.55</td>\n",
       "      <td>1.00</td>\n",
       "      <td>1.00</td>\n",
       "      <td>0.45</td>\n",
       "      <td>2.00</td>\n",
       "      <td>1</td>\n",
       "      <td>NaN</td>\n",
       "      <td>NaN</td>\n",
       "      <td>NaN</td>\n",
       "      <td>1</td>\n",
       "      <td>NaN</td>\n",
       "    </tr>\n",
       "  </tbody>\n",
       "</table>\n",
       "</div>"
      ],
      "text/plain": [
       "  SALES_DATE  predicted_15  predicted_30  predicted_45  predicted_60  \\\n",
       "0 2022-08-01          3.00          3.00          3.00          3.00   \n",
       "1 2022-08-01          1.55          0.45          0.45          0.45   \n",
       "2 2022-08-01          1.55          1.55          1.00          2.00   \n",
       "3 2022-08-01          3.00          3.00          2.00          3.00   \n",
       "4 2022-08-01          0.55          0.55          1.00          1.00   \n",
       "\n",
       "   predicted_90  predicted_max  Encoded_SKU_ID  STL_prediction  \\\n",
       "0          2.00           3.00               1             NaN   \n",
       "1          2.00           1.00               1             NaN   \n",
       "2          2.00           2.00               1             NaN   \n",
       "3          1.45           0.45               1             NaN   \n",
       "4          0.45           2.00               1             NaN   \n",
       "\n",
       "   MSTL_prediction  prophet_prediction  predicted_null  predicted_holt  \n",
       "0              NaN                 NaN               1             NaN  \n",
       "1              NaN                 NaN               1             NaN  \n",
       "2              NaN                 NaN               1             NaN  \n",
       "3              NaN                 NaN               1             NaN  \n",
       "4              NaN                 NaN               1             NaN  "
      ]
     },
     "execution_count": 12,
     "metadata": {},
     "output_type": "execute_result"
    }
   ],
   "source": [
    "all_predictions = y_pred_hmm.merge(y_pred_prophet_stl_mstl,on=[\"Encoded_SKU_ID\",\"SALES_DATE\"],how=\"outer\"\\\n",
    "                                            ).merge(y_pred_null,on=[\"Encoded_SKU_ID\",\"SALES_DATE\"],how=\"outer\",\\\n",
    "                                                   suffixes = (\"_15\",\"_null\"),\\\n",
    "                                                   ).merge(y_pred_holt1,on=[\"Encoded_SKU_ID\",\"SALES_DATE\"],how=\"outer\"\\\n",
    "                                                          ,suffixes=(\"\",\"_holt\"))\n",
    "all_predictions.head()"
   ]
  },
  {
   "cell_type": "code",
   "execution_count": 13,
   "id": "8c9b85d1",
   "metadata": {},
   "outputs": [],
   "source": [
    "all_predictions = all_predictions.rename(columns={\n",
    "    \"STL_prediction\":\"predicted_STL\",\\\n",
    "    \"MSTL_prediction\":\"predicted_MSTL\",\\\n",
    "    \"prophet_prediction\":\"predicted_prophet\"\n",
    "})"
   ]
  },
  {
   "cell_type": "markdown",
   "id": "b023629e",
   "metadata": {},
   "source": [
    "### Create Aggregare prediction"
   ]
  },
  {
   "cell_type": "code",
   "execution_count": 36,
   "id": "23538601",
   "metadata": {},
   "outputs": [
    {
     "name": "stdout",
     "output_type": "stream",
     "text": [
      "predicted_15 (539, 3)\n",
      "predicted_30 (539, 6)\n",
      "predicted_45 (539, 9)\n",
      "predicted_60 (539, 12)\n",
      "predicted_90 (539, 15)\n",
      "predicted_max (539, 18)\n",
      "predicted_STL (539, 21)\n",
      "predicted_MSTL (539, 24)\n",
      "predicted_prophet (539, 27)\n",
      "predicted_null (539, 30)\n",
      "predicted_holt (539, 33)\n"
     ]
    }
   ],
   "source": [
    "rmse_all_preds = pd.DataFrame()\n",
    "first_flag = True\n",
    "for col in all_predictions.columns:\n",
    "    if \"pred\" in col:\n",
    "        y_pred_i = all_predictions[[\"Encoded_SKU_ID\",\"SALES_DATE\",col\\\n",
    "                                   ]].rename(columns={col:\"predicted\"})\n",
    "        y_pred_i[\"SALES_DATE\"] = pd.to_datetime(y_pred_i[\"SALES_DATE\"])\n",
    "        rmse_pred_i = rmse_sku(y_act,y_pred_i)\n",
    "        rmse_pred_i.columns = [f\"{col_rmse}_{col.split('_')[-1]}\" for col_rmse in rmse_pred_i.columns]\n",
    "        if first_flag:\n",
    "            rmse_all_preds = rmse_pred_i\n",
    "            print (col,rmse_all_preds.shape)\n",
    "            first_flag = False\n",
    "        else:\n",
    "            rmse_all_preds = rmse_all_preds.merge(rmse_pred_i, left_index = True, right_index = True,\\\n",
    "                                suffixes = (\"\",f\"_{col.split('_')[-1]}\"))\n",
    "            print (col,rmse_all_preds.shape)"
   ]
  },
  {
   "cell_type": "code",
   "execution_count": 37,
   "id": "2d342df5",
   "metadata": {},
   "outputs": [
    {
     "data": {
      "text/plain": [
       "['rmse_du_15',\n",
       " 'rmse_du_30',\n",
       " 'rmse_du_45',\n",
       " 'rmse_du_60',\n",
       " 'rmse_du_90',\n",
       " 'rmse_du_max',\n",
       " 'rmse_du_STL',\n",
       " 'rmse_du_MSTL',\n",
       " 'rmse_du_prophet',\n",
       " 'rmse_du_null',\n",
       " 'rmse_du_holt']"
      ]
     },
     "execution_count": 37,
     "metadata": {},
     "output_type": "execute_result"
    }
   ],
   "source": [
    "rmse_cols = [col for col in rmse_all_preds.columns if \"rmse_du\" in col]\n",
    "rmse_cols"
   ]
  },
  {
   "cell_type": "code",
   "execution_count": 57,
   "id": "178e73e4",
   "metadata": {},
   "outputs": [],
   "source": [
    "rmse_all_preds[\"min_rmse\"] = rmse_all_preds[rmse_cols].min(axis=1,skipna=True)\n",
    "\n",
    "rmse_all_preds[\"argmin_period\"] = np.nanargmin(rmse_all_preds[rmse_cols].values,axis=1)\n",
    "\n",
    "rmse_all_preds[\"min_period\"] = rmse_all_preds[\"argmin_period\"].apply(lambda x: rmse_cols[x])"
   ]
  },
  {
   "cell_type": "code",
   "execution_count": 58,
   "id": "a9ed62bb",
   "metadata": {},
   "outputs": [
    {
     "data": {
      "text/plain": [
       "rmse_du_null       326\n",
       "rmse_du_prophet     40\n",
       "rmse_du_STL         33\n",
       "rmse_du_15          30\n",
       "rmse_du_60          23\n",
       "rmse_du_max         20\n",
       "rmse_du_90          17\n",
       "rmse_du_30          16\n",
       "rmse_du_45          16\n",
       "rmse_du_holt         9\n",
       "rmse_du_MSTL         9\n",
       "Name: min_period, dtype: int64"
      ]
     },
     "execution_count": 58,
     "metadata": {},
     "output_type": "execute_result"
    }
   ],
   "source": [
    "rmse_all_preds[\"min_period\"].value_counts()"
   ]
  },
  {
   "cell_type": "code",
   "execution_count": 59,
   "id": "5dcb3779",
   "metadata": {},
   "outputs": [],
   "source": [
    "period_col_map= {\n",
    "    \"rmse_du_15\":\"predicted_15\", \"rmse_du_30\":\"predicted_30\", \"rmse_du_45\":\"predicted_45\",\\\n",
    "    \"rmse_du_60\":\"predicted_60\", \"rmse_du_90\":\"predicted_90\", \"rmse_du_max\":\"predicted_max\",\\\n",
    "    \"rmse_du_STL\":\"predicted_STL\",\"rmse_du_MSTL\":\"predicted_MSTL\",\"rmse_du_null\":\"predicted_null\",\\\n",
    "    \"rmse_du_holt\":\"predicted_holt\",\"rmse_du_prophet\":\"predicted_prophet\"\n",
    "}"
   ]
  },
  {
   "cell_type": "code",
   "execution_count": 60,
   "id": "8927e739",
   "metadata": {},
   "outputs": [],
   "source": [
    "y_pred_best = pd.DataFrame()\n",
    "cnt = 0\n",
    "for sku_id,best_period in zip(rmse_all_preds.index,rmse_all_preds[\"min_period\"]):\n",
    "    best_col = period_col_map[best_period]\n",
    "    mask_sku = all_predictions.Encoded_SKU_ID==sku_id\n",
    "    y_pred_best_sku = all_predictions.loc[mask_sku][[\"Encoded_SKU_ID\",\"SALES_DATE\",best_col\\\n",
    "                                                                  ]].rename(columns={best_col:\"predicted\"})\n",
    "    y_pred_best = pd.concat([y_pred_best,y_pred_best_sku])"
   ]
  },
  {
   "cell_type": "code",
   "execution_count": 61,
   "id": "bb913544",
   "metadata": {},
   "outputs": [
    {
     "data": {
      "text/plain": [
       "(539, 539, 539)"
      ]
     },
     "execution_count": 61,
     "metadata": {},
     "output_type": "execute_result"
    }
   ],
   "source": [
    "#QC\n",
    "y_act.Encoded_SKU_ID.nunique(),y_pred_null.Encoded_SKU_ID.nunique(),y_pred_best.Encoded_SKU_ID.nunique()"
   ]
  },
  {
   "cell_type": "code",
   "execution_count": 62,
   "id": "4fdecb10",
   "metadata": {},
   "outputs": [
    {
     "data": {
      "text/plain": [
       "(5.290976671399268, 5.087027787731684)"
      ]
     },
     "execution_count": 62,
     "metadata": {},
     "output_type": "execute_result"
    }
   ],
   "source": [
    "rmse_val_null,rmse_null_best = rmse(y_act,y_pred_null),rmse(y_act,y_pred_best)\n",
    "rmse_val_null,rmse_null_best"
   ]
  },
  {
   "cell_type": "code",
   "execution_count": 65,
   "id": "de184a02",
   "metadata": {},
   "outputs": [],
   "source": [
    "rmse_best_sku = rmse_sku(y_act,y_pred_best)"
   ]
  },
  {
   "cell_type": "code",
   "execution_count": 66,
   "id": "b11636af",
   "metadata": {},
   "outputs": [
    {
     "data": {
      "text/html": [
       "<div>\n",
       "<style scoped>\n",
       "    .dataframe tbody tr th:only-of-type {\n",
       "        vertical-align: middle;\n",
       "    }\n",
       "\n",
       "    .dataframe tbody tr th {\n",
       "        vertical-align: top;\n",
       "    }\n",
       "\n",
       "    .dataframe thead th {\n",
       "        text-align: right;\n",
       "    }\n",
       "</style>\n",
       "<table border=\"1\" class=\"dataframe\">\n",
       "  <thead>\n",
       "    <tr style=\"text-align: right;\">\n",
       "      <th></th>\n",
       "      <th>rmse_du</th>\n",
       "      <th>mean_du</th>\n",
       "      <th>pct_rmse</th>\n",
       "    </tr>\n",
       "    <tr>\n",
       "      <th>Encoded_SKU_ID</th>\n",
       "      <th></th>\n",
       "      <th></th>\n",
       "      <th></th>\n",
       "    </tr>\n",
       "  </thead>\n",
       "  <tbody>\n",
       "    <tr>\n",
       "      <th>469</th>\n",
       "      <td>91.411940</td>\n",
       "      <td>396.000000</td>\n",
       "      <td>0.230838</td>\n",
       "    </tr>\n",
       "    <tr>\n",
       "      <th>430</th>\n",
       "      <td>40.362642</td>\n",
       "      <td>94.714286</td>\n",
       "      <td>0.426152</td>\n",
       "    </tr>\n",
       "    <tr>\n",
       "      <th>50</th>\n",
       "      <td>32.671525</td>\n",
       "      <td>73.857143</td>\n",
       "      <td>0.442361</td>\n",
       "    </tr>\n",
       "    <tr>\n",
       "      <th>557</th>\n",
       "      <td>22.696759</td>\n",
       "      <td>33.285714</td>\n",
       "      <td>0.681877</td>\n",
       "    </tr>\n",
       "    <tr>\n",
       "      <th>271</th>\n",
       "      <td>16.694738</td>\n",
       "      <td>28.428571</td>\n",
       "      <td>0.587252</td>\n",
       "    </tr>\n",
       "  </tbody>\n",
       "</table>\n",
       "</div>"
      ],
      "text/plain": [
       "                  rmse_du     mean_du  pct_rmse\n",
       "Encoded_SKU_ID                                 \n",
       "469             91.411940  396.000000  0.230838\n",
       "430             40.362642   94.714286  0.426152\n",
       "50              32.671525   73.857143  0.442361\n",
       "557             22.696759   33.285714  0.681877\n",
       "271             16.694738   28.428571  0.587252"
      ]
     },
     "execution_count": 66,
     "metadata": {},
     "output_type": "execute_result"
    }
   ],
   "source": [
    "rmse_best_sku.head()"
   ]
  },
  {
   "cell_type": "code",
   "execution_count": 67,
   "id": "09c5aa1e",
   "metadata": {},
   "outputs": [
    {
     "data": {
      "text/html": [
       "<div>\n",
       "<style scoped>\n",
       "    .dataframe tbody tr th:only-of-type {\n",
       "        vertical-align: middle;\n",
       "    }\n",
       "\n",
       "    .dataframe tbody tr th {\n",
       "        vertical-align: top;\n",
       "    }\n",
       "\n",
       "    .dataframe thead th {\n",
       "        text-align: right;\n",
       "    }\n",
       "</style>\n",
       "<table border=\"1\" class=\"dataframe\">\n",
       "  <thead>\n",
       "    <tr style=\"text-align: right;\">\n",
       "      <th></th>\n",
       "      <th>rmse_du</th>\n",
       "      <th>mean_du</th>\n",
       "      <th>pct_rmse</th>\n",
       "    </tr>\n",
       "    <tr>\n",
       "      <th>Encoded_SKU_ID</th>\n",
       "      <th></th>\n",
       "      <th></th>\n",
       "      <th></th>\n",
       "    </tr>\n",
       "  </thead>\n",
       "  <tbody>\n",
       "    <tr>\n",
       "      <th>215</th>\n",
       "      <td>0.316228</td>\n",
       "      <td>0.100000</td>\n",
       "      <td>3.162278</td>\n",
       "    </tr>\n",
       "    <tr>\n",
       "      <th>407</th>\n",
       "      <td>0.000000</td>\n",
       "      <td>0.142857</td>\n",
       "      <td>0.000000</td>\n",
       "    </tr>\n",
       "    <tr>\n",
       "      <th>228</th>\n",
       "      <td>0.000000</td>\n",
       "      <td>0.111111</td>\n",
       "      <td>0.000000</td>\n",
       "    </tr>\n",
       "    <tr>\n",
       "      <th>542</th>\n",
       "      <td>0.000000</td>\n",
       "      <td>0.000000</td>\n",
       "      <td>NaN</td>\n",
       "    </tr>\n",
       "    <tr>\n",
       "      <th>524</th>\n",
       "      <td>0.000000</td>\n",
       "      <td>0.142857</td>\n",
       "      <td>0.000000</td>\n",
       "    </tr>\n",
       "  </tbody>\n",
       "</table>\n",
       "</div>"
      ],
      "text/plain": [
       "                 rmse_du   mean_du  pct_rmse\n",
       "Encoded_SKU_ID                              \n",
       "215             0.316228  0.100000  3.162278\n",
       "407             0.000000  0.142857  0.000000\n",
       "228             0.000000  0.111111  0.000000\n",
       "542             0.000000  0.000000       NaN\n",
       "524             0.000000  0.142857  0.000000"
      ]
     },
     "execution_count": 67,
     "metadata": {},
     "output_type": "execute_result"
    }
   ],
   "source": [
    "rmse_best_sku.tail()"
   ]
  },
  {
   "cell_type": "markdown",
   "id": "ca38da9a",
   "metadata": {},
   "source": [
    "### RMSE"
   ]
  },
  {
   "cell_type": "code",
   "execution_count": 14,
   "id": "3b4b8e11",
   "metadata": {},
   "outputs": [
    {
     "name": "stdout",
     "output_type": "stream",
     "text": [
      "predicted_15 (539, 3)\n",
      "predicted_30 (539, 6)\n",
      "predicted_45 (539, 9)\n",
      "predicted_60 (539, 12)\n",
      "predicted_90 (539, 15)\n",
      "predicted_max (539, 18)\n",
      "predicted_STL (539, 21)\n",
      "predicted_MSTL (539, 24)\n",
      "predicted_prophet (539, 27)\n",
      "predicted_null (539, 30)\n",
      "predicted_holt (539, 33)\n"
     ]
    }
   ],
   "source": [
    "rmse_all_preds = pd.DataFrame()\n",
    "first_flag = True\n",
    "for col in all_predictions.columns:\n",
    "    if \"pred\" in col:\n",
    "        y_pred_i = all_predictions[[\"Encoded_SKU_ID\",\"SALES_DATE\",col\\\n",
    "                                   ]].rename(columns={col:\"predicted\"})\n",
    "        y_pred_i[\"SALES_DATE\"] = pd.to_datetime(y_pred_i[\"SALES_DATE\"])\n",
    "        rmse_pred_i = rmse_sku(y_act,y_pred_i)\n",
    "        rmse_pred_i.columns = [f\"{col_rmse}_{col.split('_')[-1]}\" for col_rmse in rmse_pred_i.columns]\n",
    "        if first_flag:\n",
    "            rmse_all_preds = rmse_pred_i\n",
    "            print (col,rmse_all_preds.shape)\n",
    "            first_flag = False\n",
    "        else:\n",
    "            rmse_all_preds = rmse_all_preds.merge(rmse_pred_i, left_index = True, right_index = True,\\\n",
    "                                suffixes = (\"\",f\"_{col.split('_')[-1]}\"))\n",
    "            print (col,rmse_all_preds.shape)"
   ]
  },
  {
   "cell_type": "code",
   "execution_count": 15,
   "id": "50f12c9d",
   "metadata": {},
   "outputs": [
    {
     "data": {
      "text/html": [
       "<div>\n",
       "<style scoped>\n",
       "    .dataframe tbody tr th:only-of-type {\n",
       "        vertical-align: middle;\n",
       "    }\n",
       "\n",
       "    .dataframe tbody tr th {\n",
       "        vertical-align: top;\n",
       "    }\n",
       "\n",
       "    .dataframe thead th {\n",
       "        text-align: right;\n",
       "    }\n",
       "</style>\n",
       "<table border=\"1\" class=\"dataframe\">\n",
       "  <thead>\n",
       "    <tr style=\"text-align: right;\">\n",
       "      <th></th>\n",
       "      <th>rmse_du_15</th>\n",
       "      <th>mean_du_15</th>\n",
       "      <th>pct_rmse_15</th>\n",
       "      <th>rmse_du_30</th>\n",
       "      <th>mean_du_30</th>\n",
       "      <th>pct_rmse_30</th>\n",
       "      <th>rmse_du_45</th>\n",
       "      <th>mean_du_45</th>\n",
       "      <th>pct_rmse_45</th>\n",
       "      <th>rmse_du_60</th>\n",
       "      <th>...</th>\n",
       "      <th>pct_rmse_MSTL</th>\n",
       "      <th>rmse_du_prophet</th>\n",
       "      <th>mean_du_prophet</th>\n",
       "      <th>pct_rmse_prophet</th>\n",
       "      <th>rmse_du_null</th>\n",
       "      <th>mean_du_null</th>\n",
       "      <th>pct_rmse_null</th>\n",
       "      <th>rmse_du_holt</th>\n",
       "      <th>mean_du_holt</th>\n",
       "      <th>pct_rmse_holt</th>\n",
       "    </tr>\n",
       "    <tr>\n",
       "      <th>Encoded_SKU_ID</th>\n",
       "      <th></th>\n",
       "      <th></th>\n",
       "      <th></th>\n",
       "      <th></th>\n",
       "      <th></th>\n",
       "      <th></th>\n",
       "      <th></th>\n",
       "      <th></th>\n",
       "      <th></th>\n",
       "      <th></th>\n",
       "      <th></th>\n",
       "      <th></th>\n",
       "      <th></th>\n",
       "      <th></th>\n",
       "      <th></th>\n",
       "      <th></th>\n",
       "      <th></th>\n",
       "      <th></th>\n",
       "      <th></th>\n",
       "      <th></th>\n",
       "      <th></th>\n",
       "    </tr>\n",
       "  </thead>\n",
       "  <tbody>\n",
       "    <tr>\n",
       "      <th>482</th>\n",
       "      <td>5.644213</td>\n",
       "      <td>6.285714</td>\n",
       "      <td>0.897943</td>\n",
       "      <td>4.894640</td>\n",
       "      <td>6.285714</td>\n",
       "      <td>0.778693</td>\n",
       "      <td>6.126086</td>\n",
       "      <td>6.285714</td>\n",
       "      <td>0.974605</td>\n",
       "      <td>4.765988</td>\n",
       "      <td>...</td>\n",
       "      <td>NaN</td>\n",
       "      <td>NaN</td>\n",
       "      <td>6.285714</td>\n",
       "      <td>NaN</td>\n",
       "      <td>7.819390</td>\n",
       "      <td>6.285714</td>\n",
       "      <td>1.243994</td>\n",
       "      <td>NaN</td>\n",
       "      <td>6.285714</td>\n",
       "      <td>NaN</td>\n",
       "    </tr>\n",
       "    <tr>\n",
       "      <th>315</th>\n",
       "      <td>4.813708</td>\n",
       "      <td>5.000000</td>\n",
       "      <td>0.962742</td>\n",
       "      <td>4.988594</td>\n",
       "      <td>5.000000</td>\n",
       "      <td>0.997719</td>\n",
       "      <td>4.521457</td>\n",
       "      <td>5.000000</td>\n",
       "      <td>0.904291</td>\n",
       "      <td>3.184785</td>\n",
       "      <td>...</td>\n",
       "      <td>NaN</td>\n",
       "      <td>NaN</td>\n",
       "      <td>5.000000</td>\n",
       "      <td>NaN</td>\n",
       "      <td>3.605551</td>\n",
       "      <td>5.000000</td>\n",
       "      <td>0.721110</td>\n",
       "      <td>NaN</td>\n",
       "      <td>5.000000</td>\n",
       "      <td>NaN</td>\n",
       "    </tr>\n",
       "    <tr>\n",
       "      <th>183</th>\n",
       "      <td>4.519798</td>\n",
       "      <td>5.714286</td>\n",
       "      <td>0.790965</td>\n",
       "      <td>4.292851</td>\n",
       "      <td>5.714286</td>\n",
       "      <td>0.751249</td>\n",
       "      <td>2.688800</td>\n",
       "      <td>5.714286</td>\n",
       "      <td>0.470540</td>\n",
       "      <td>2.484308</td>\n",
       "      <td>...</td>\n",
       "      <td>NaN</td>\n",
       "      <td>NaN</td>\n",
       "      <td>5.714286</td>\n",
       "      <td>NaN</td>\n",
       "      <td>2.563480</td>\n",
       "      <td>5.714286</td>\n",
       "      <td>0.448609</td>\n",
       "      <td>NaN</td>\n",
       "      <td>5.714286</td>\n",
       "      <td>NaN</td>\n",
       "    </tr>\n",
       "    <tr>\n",
       "      <th>319</th>\n",
       "      <td>4.292851</td>\n",
       "      <td>3.142857</td>\n",
       "      <td>1.365907</td>\n",
       "      <td>2.780095</td>\n",
       "      <td>3.142857</td>\n",
       "      <td>0.884576</td>\n",
       "      <td>3.433085</td>\n",
       "      <td>3.142857</td>\n",
       "      <td>1.092345</td>\n",
       "      <td>2.535674</td>\n",
       "      <td>...</td>\n",
       "      <td>NaN</td>\n",
       "      <td>NaN</td>\n",
       "      <td>3.142857</td>\n",
       "      <td>NaN</td>\n",
       "      <td>2.420153</td>\n",
       "      <td>3.142857</td>\n",
       "      <td>0.770049</td>\n",
       "      <td>NaN</td>\n",
       "      <td>3.142857</td>\n",
       "      <td>NaN</td>\n",
       "    </tr>\n",
       "    <tr>\n",
       "      <th>312</th>\n",
       "      <td>4.017817</td>\n",
       "      <td>5.285714</td>\n",
       "      <td>0.760128</td>\n",
       "      <td>3.817254</td>\n",
       "      <td>5.285714</td>\n",
       "      <td>0.722183</td>\n",
       "      <td>5.554921</td>\n",
       "      <td>5.285714</td>\n",
       "      <td>1.050931</td>\n",
       "      <td>5.190685</td>\n",
       "      <td>...</td>\n",
       "      <td>NaN</td>\n",
       "      <td>NaN</td>\n",
       "      <td>5.285714</td>\n",
       "      <td>NaN</td>\n",
       "      <td>4.358899</td>\n",
       "      <td>5.285714</td>\n",
       "      <td>0.824657</td>\n",
       "      <td>NaN</td>\n",
       "      <td>5.285714</td>\n",
       "      <td>NaN</td>\n",
       "    </tr>\n",
       "    <tr>\n",
       "      <th>...</th>\n",
       "      <td>...</td>\n",
       "      <td>...</td>\n",
       "      <td>...</td>\n",
       "      <td>...</td>\n",
       "      <td>...</td>\n",
       "      <td>...</td>\n",
       "      <td>...</td>\n",
       "      <td>...</td>\n",
       "      <td>...</td>\n",
       "      <td>...</td>\n",
       "      <td>...</td>\n",
       "      <td>...</td>\n",
       "      <td>...</td>\n",
       "      <td>...</td>\n",
       "      <td>...</td>\n",
       "      <td>...</td>\n",
       "      <td>...</td>\n",
       "      <td>...</td>\n",
       "      <td>...</td>\n",
       "      <td>...</td>\n",
       "      <td>...</td>\n",
       "    </tr>\n",
       "    <tr>\n",
       "      <th>566</th>\n",
       "      <td>NaN</td>\n",
       "      <td>6.428571</td>\n",
       "      <td>NaN</td>\n",
       "      <td>NaN</td>\n",
       "      <td>6.428571</td>\n",
       "      <td>NaN</td>\n",
       "      <td>NaN</td>\n",
       "      <td>6.428571</td>\n",
       "      <td>NaN</td>\n",
       "      <td>NaN</td>\n",
       "      <td>...</td>\n",
       "      <td>NaN</td>\n",
       "      <td>NaN</td>\n",
       "      <td>6.428571</td>\n",
       "      <td>NaN</td>\n",
       "      <td>2.725541</td>\n",
       "      <td>6.428571</td>\n",
       "      <td>0.423973</td>\n",
       "      <td>NaN</td>\n",
       "      <td>6.428571</td>\n",
       "      <td>NaN</td>\n",
       "    </tr>\n",
       "    <tr>\n",
       "      <th>567</th>\n",
       "      <td>NaN</td>\n",
       "      <td>3.142857</td>\n",
       "      <td>NaN</td>\n",
       "      <td>NaN</td>\n",
       "      <td>3.142857</td>\n",
       "      <td>NaN</td>\n",
       "      <td>NaN</td>\n",
       "      <td>3.142857</td>\n",
       "      <td>NaN</td>\n",
       "      <td>NaN</td>\n",
       "      <td>...</td>\n",
       "      <td>0.836491</td>\n",
       "      <td>1.522228</td>\n",
       "      <td>3.142857</td>\n",
       "      <td>0.484345</td>\n",
       "      <td>1.511858</td>\n",
       "      <td>3.142857</td>\n",
       "      <td>0.481046</td>\n",
       "      <td>NaN</td>\n",
       "      <td>3.142857</td>\n",
       "      <td>NaN</td>\n",
       "    </tr>\n",
       "    <tr>\n",
       "      <th>568</th>\n",
       "      <td>NaN</td>\n",
       "      <td>3.428571</td>\n",
       "      <td>NaN</td>\n",
       "      <td>NaN</td>\n",
       "      <td>3.428571</td>\n",
       "      <td>NaN</td>\n",
       "      <td>NaN</td>\n",
       "      <td>3.428571</td>\n",
       "      <td>NaN</td>\n",
       "      <td>NaN</td>\n",
       "      <td>...</td>\n",
       "      <td>0.530873</td>\n",
       "      <td>2.000404</td>\n",
       "      <td>3.428571</td>\n",
       "      <td>0.583451</td>\n",
       "      <td>2.329929</td>\n",
       "      <td>3.428571</td>\n",
       "      <td>0.679563</td>\n",
       "      <td>NaN</td>\n",
       "      <td>3.428571</td>\n",
       "      <td>NaN</td>\n",
       "    </tr>\n",
       "    <tr>\n",
       "      <th>572</th>\n",
       "      <td>NaN</td>\n",
       "      <td>0.714286</td>\n",
       "      <td>NaN</td>\n",
       "      <td>NaN</td>\n",
       "      <td>0.714286</td>\n",
       "      <td>NaN</td>\n",
       "      <td>NaN</td>\n",
       "      <td>0.714286</td>\n",
       "      <td>NaN</td>\n",
       "      <td>NaN</td>\n",
       "      <td>...</td>\n",
       "      <td>NaN</td>\n",
       "      <td>NaN</td>\n",
       "      <td>0.714286</td>\n",
       "      <td>NaN</td>\n",
       "      <td>1.647509</td>\n",
       "      <td>0.714286</td>\n",
       "      <td>2.306513</td>\n",
       "      <td>NaN</td>\n",
       "      <td>0.714286</td>\n",
       "      <td>NaN</td>\n",
       "    </tr>\n",
       "    <tr>\n",
       "      <th>575</th>\n",
       "      <td>NaN</td>\n",
       "      <td>0.142857</td>\n",
       "      <td>NaN</td>\n",
       "      <td>NaN</td>\n",
       "      <td>0.142857</td>\n",
       "      <td>NaN</td>\n",
       "      <td>NaN</td>\n",
       "      <td>0.142857</td>\n",
       "      <td>NaN</td>\n",
       "      <td>NaN</td>\n",
       "      <td>...</td>\n",
       "      <td>19.461898</td>\n",
       "      <td>4.816870</td>\n",
       "      <td>0.142857</td>\n",
       "      <td>33.718092</td>\n",
       "      <td>0.925820</td>\n",
       "      <td>0.142857</td>\n",
       "      <td>6.480741</td>\n",
       "      <td>NaN</td>\n",
       "      <td>0.142857</td>\n",
       "      <td>NaN</td>\n",
       "    </tr>\n",
       "  </tbody>\n",
       "</table>\n",
       "<p>539 rows × 33 columns</p>\n",
       "</div>"
      ],
      "text/plain": [
       "                rmse_du_15  mean_du_15  pct_rmse_15  rmse_du_30  mean_du_30  \\\n",
       "Encoded_SKU_ID                                                                \n",
       "482               5.644213    6.285714     0.897943    4.894640    6.285714   \n",
       "315               4.813708    5.000000     0.962742    4.988594    5.000000   \n",
       "183               4.519798    5.714286     0.790965    4.292851    5.714286   \n",
       "319               4.292851    3.142857     1.365907    2.780095    3.142857   \n",
       "312               4.017817    5.285714     0.760128    3.817254    5.285714   \n",
       "...                    ...         ...          ...         ...         ...   \n",
       "566                    NaN    6.428571          NaN         NaN    6.428571   \n",
       "567                    NaN    3.142857          NaN         NaN    3.142857   \n",
       "568                    NaN    3.428571          NaN         NaN    3.428571   \n",
       "572                    NaN    0.714286          NaN         NaN    0.714286   \n",
       "575                    NaN    0.142857          NaN         NaN    0.142857   \n",
       "\n",
       "                pct_rmse_30  rmse_du_45  mean_du_45  pct_rmse_45  rmse_du_60  \\\n",
       "Encoded_SKU_ID                                                                 \n",
       "482                0.778693    6.126086    6.285714     0.974605    4.765988   \n",
       "315                0.997719    4.521457    5.000000     0.904291    3.184785   \n",
       "183                0.751249    2.688800    5.714286     0.470540    2.484308   \n",
       "319                0.884576    3.433085    3.142857     1.092345    2.535674   \n",
       "312                0.722183    5.554921    5.285714     1.050931    5.190685   \n",
       "...                     ...         ...         ...          ...         ...   \n",
       "566                     NaN         NaN    6.428571          NaN         NaN   \n",
       "567                     NaN         NaN    3.142857          NaN         NaN   \n",
       "568                     NaN         NaN    3.428571          NaN         NaN   \n",
       "572                     NaN         NaN    0.714286          NaN         NaN   \n",
       "575                     NaN         NaN    0.142857          NaN         NaN   \n",
       "\n",
       "                ...  pct_rmse_MSTL  rmse_du_prophet  mean_du_prophet  \\\n",
       "Encoded_SKU_ID  ...                                                    \n",
       "482             ...            NaN              NaN         6.285714   \n",
       "315             ...            NaN              NaN         5.000000   \n",
       "183             ...            NaN              NaN         5.714286   \n",
       "319             ...            NaN              NaN         3.142857   \n",
       "312             ...            NaN              NaN         5.285714   \n",
       "...             ...            ...              ...              ...   \n",
       "566             ...            NaN              NaN         6.428571   \n",
       "567             ...       0.836491         1.522228         3.142857   \n",
       "568             ...       0.530873         2.000404         3.428571   \n",
       "572             ...            NaN              NaN         0.714286   \n",
       "575             ...      19.461898         4.816870         0.142857   \n",
       "\n",
       "                pct_rmse_prophet  rmse_du_null  mean_du_null  pct_rmse_null  \\\n",
       "Encoded_SKU_ID                                                                \n",
       "482                          NaN      7.819390      6.285714       1.243994   \n",
       "315                          NaN      3.605551      5.000000       0.721110   \n",
       "183                          NaN      2.563480      5.714286       0.448609   \n",
       "319                          NaN      2.420153      3.142857       0.770049   \n",
       "312                          NaN      4.358899      5.285714       0.824657   \n",
       "...                          ...           ...           ...            ...   \n",
       "566                          NaN      2.725541      6.428571       0.423973   \n",
       "567                     0.484345      1.511858      3.142857       0.481046   \n",
       "568                     0.583451      2.329929      3.428571       0.679563   \n",
       "572                          NaN      1.647509      0.714286       2.306513   \n",
       "575                    33.718092      0.925820      0.142857       6.480741   \n",
       "\n",
       "                rmse_du_holt  mean_du_holt  pct_rmse_holt  \n",
       "Encoded_SKU_ID                                             \n",
       "482                      NaN      6.285714            NaN  \n",
       "315                      NaN      5.000000            NaN  \n",
       "183                      NaN      5.714286            NaN  \n",
       "319                      NaN      3.142857            NaN  \n",
       "312                      NaN      5.285714            NaN  \n",
       "...                      ...           ...            ...  \n",
       "566                      NaN      6.428571            NaN  \n",
       "567                      NaN      3.142857            NaN  \n",
       "568                      NaN      3.428571            NaN  \n",
       "572                      NaN      0.714286            NaN  \n",
       "575                      NaN      0.142857            NaN  \n",
       "\n",
       "[539 rows x 33 columns]"
      ]
     },
     "execution_count": 15,
     "metadata": {},
     "output_type": "execute_result"
    }
   ],
   "source": [
    "rmse_all_preds"
   ]
  },
  {
   "cell_type": "code",
   "execution_count": 16,
   "id": "f2d46085",
   "metadata": {},
   "outputs": [
    {
     "data": {
      "text/plain": [
       "['rmse_du_15',\n",
       " 'rmse_du_30',\n",
       " 'rmse_du_45',\n",
       " 'rmse_du_60',\n",
       " 'rmse_du_90',\n",
       " 'rmse_du_max',\n",
       " 'rmse_du_STL',\n",
       " 'rmse_du_MSTL',\n",
       " 'rmse_du_prophet',\n",
       " 'rmse_du_null',\n",
       " 'rmse_du_holt']"
      ]
     },
     "execution_count": 16,
     "metadata": {},
     "output_type": "execute_result"
    }
   ],
   "source": [
    "rmse_cols = [col for col in rmse_all_preds.columns if \"rmse_du\" in col]\n",
    "rmse_cols"
   ]
  },
  {
   "cell_type": "code",
   "execution_count": 17,
   "id": "755ef814",
   "metadata": {},
   "outputs": [],
   "source": [
    "# #mute rmse null wherever other model is available to prevent data leak\n",
    "# rmse_cols_wo_null = [x for x in rmse_cols if \"null\" not in x]\n",
    "# atleast_one_model_not_nan = (~rmse_all_preds[rmse_cols_wo_null].isna()).sum(axis=1)>0\n",
    "# atleast_one_model_not_nan.sum(),(~atleast_one_model_not_nan).sum()"
   ]
  },
  {
   "cell_type": "code",
   "execution_count": 18,
   "id": "6f0ccb6c",
   "metadata": {},
   "outputs": [],
   "source": [
    "# rmse_all_preds.loc[atleast_one_model_not_nan,\"rmse_null\"]=np.nan"
   ]
  },
  {
   "cell_type": "markdown",
   "id": "05cd2a65",
   "metadata": {},
   "source": [
    "### Create y_best cumulatively | Ensemble*"
   ]
  },
  {
   "cell_type": "code",
   "execution_count": 19,
   "id": "600b5704",
   "metadata": {},
   "outputs": [],
   "source": [
    "def create_y_best(rmse_all_preds,step_cols,period_col_map,step=\"\"):\n",
    "    rmse_all_preds[f\"min_rmse_{step}\"] = rmse_all_preds[step_cols].min(axis=1,skipna=True)\n",
    "    rmse_all_preds[f\"argmin_period_{step}\"] = np.argmin(rmse_all_preds[step_cols].values,axis=1)\n",
    "    rmse_all_preds[f\"min_period_{step}\"] = rmse_all_preds[f\"argmin_period_{step}\"].apply(lambda x: step_cols[x])\n",
    "    y_pred_best = pd.DataFrame()\n",
    "    cnt = 0\n",
    "    for sku_id,best_period in zip(rmse_all_preds.index,rmse_all_preds[f\"min_period_{step}\"]):\n",
    "        best_col = period_col_map[best_period]\n",
    "        mask_sku = all_predictions.Encoded_SKU_ID==sku_id\n",
    "        y_pred_best_sku = all_predictions.loc[mask_sku][[\"Encoded_SKU_ID\",\"SALES_DATE\",best_col\\\n",
    "                                                                  ]].rename(columns={best_col:\"predicted\"})\n",
    "        y_pred_best = pd.concat([y_pred_best,y_pred_best_sku])\n",
    "    return (y_pred_best)"
   ]
  },
  {
   "cell_type": "code",
   "execution_count": 20,
   "id": "3f306ab3",
   "metadata": {},
   "outputs": [],
   "source": [
    "period_col_map= {\n",
    "    \"rmse_du_15\":\"predicted_15\", \"rmse_du_30\":\"predicted_30\", \"rmse_du_45\":\"predicted_45\",\\\n",
    "    \"rmse_du_60\":\"predicted_60\", \"rmse_du_90\":\"predicted_90\", \"rmse_du_max\":\"predicted_max\",\\\n",
    "    \"rmse_du_STL\":\"predicted_STL\",\"rmse_du_MSTL\":\"predicted_MSTL\",\"rmse_du_null\":\"predicted_null\",\\\n",
    "    \"rmse_du_holt\":\"predicted_holt\",\"rmse_du_prophet\":\"predicted_prophet\"\n",
    "}"
   ]
  },
  {
   "cell_type": "markdown",
   "id": "aa5bdc56",
   "metadata": {},
   "source": [
    "### Step 1: Null + Holt + Prophet"
   ]
  },
  {
   "cell_type": "code",
   "execution_count": 21,
   "id": "095c6f99",
   "metadata": {},
   "outputs": [
    {
     "data": {
      "text/plain": [
       "(5.290976671399268, 1.0592605892214235, 399.49717050156994)"
      ]
     },
     "execution_count": 21,
     "metadata": {},
     "output_type": "execute_result"
    }
   ],
   "source": [
    "step = \"2\"\n",
    "step_cols = ['rmse_du_STL',\n",
    " 'rmse_du_MSTL',\n",
    " 'rmse_du_prophet',\n",
    " 'rmse_du_null',\n",
    " 'rmse_du_holt']\n",
    "\n",
    "y_best1 = create_y_best(rmse_all_preds,step_cols,period_col_map,step)\n",
    "assert y_best1.Encoded_SKU_ID.nunique()==539, \"y_best does not have all SKUs\"\n",
    "rmse_val_null,rmse_null_best = rmse(y_act,y_pred_null),rmse(y_act,y_best1)\n",
    "rmse_val_null,rmse_null_best,((rmse_val_null-rmse_null_best)*100)/rmse_null_best"
   ]
  },
  {
   "cell_type": "code",
   "execution_count": 22,
   "id": "e233b0e0",
   "metadata": {},
   "outputs": [
    {
     "data": {
      "text/plain": [
       "rmse_du_STL     439\n",
       "rmse_du_holt     97\n",
       "rmse_du_null      3\n",
       "Name: min_period_2, dtype: int64"
      ]
     },
     "execution_count": 22,
     "metadata": {},
     "output_type": "execute_result"
    }
   ],
   "source": [
    "rmse_all_preds[f\"min_period_{step}\"].value_counts()"
   ]
  },
  {
   "cell_type": "code",
   "execution_count": 23,
   "id": "1b334a76",
   "metadata": {},
   "outputs": [
    {
     "data": {
      "text/plain": [
       "(5.290976671399268, 1.2366911080659224, 327.8333236885561)"
      ]
     },
     "execution_count": 23,
     "metadata": {},
     "output_type": "execute_result"
    }
   ],
   "source": [
    "### Step 1: Null + Holt + Prophet\n",
    "\n",
    "step = \"3\"\n",
    "step_cols = rmse_cols\n",
    "\n",
    "y_best1 = create_y_best(rmse_all_preds,step_cols,period_col_map,step)\n",
    "assert y_best1.Encoded_SKU_ID.nunique()==539, \"y_best does not have all SKUs\"\n",
    "rmse_val_null,rmse_null_best = rmse(y_act,y_pred_null),rmse(y_act,y_best1)\n",
    "rmse_val_null,rmse_null_best,((rmse_val_null-rmse_null_best)*100)/rmse_null_best"
   ]
  },
  {
   "cell_type": "code",
   "execution_count": 26,
   "id": "9d7b4164",
   "metadata": {},
   "outputs": [
    {
     "data": {
      "text/plain": [
       "rmse_du_15      384\n",
       "rmse_du_STL     153\n",
       "rmse_du_holt      1\n",
       "rmse_du_60        1\n",
       "Name: min_period_3, dtype: int64"
      ]
     },
     "execution_count": 26,
     "metadata": {},
     "output_type": "execute_result"
    }
   ],
   "source": [
    "rmse_all_preds[f\"min_period_{step}\"].value_counts()"
   ]
  }
 ],
 "metadata": {
  "kernelspec": {
   "display_name": "Python 3 (ipykernel)",
   "language": "python",
   "name": "python3"
  },
  "language_info": {
   "codemirror_mode": {
    "name": "ipython",
    "version": 3
   },
   "file_extension": ".py",
   "mimetype": "text/x-python",
   "name": "python",
   "nbconvert_exporter": "python",
   "pygments_lexer": "ipython3",
   "version": "3.9.15"
  }
 },
 "nbformat": 4,
 "nbformat_minor": 5
}
