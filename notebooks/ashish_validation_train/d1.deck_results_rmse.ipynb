{
 "cells": [
  {
   "cell_type": "code",
   "execution_count": 1,
   "id": "205a5916",
   "metadata": {},
   "outputs": [
    {
     "name": "stdout",
     "output_type": "stream",
     "text": [
      "/Users/ashish1610dhiman/data_projects/bestbuy/notebooks/ashish_validation_train\r\n"
     ]
    }
   ],
   "source": [
    "!pwd"
   ]
  },
  {
   "cell_type": "code",
   "execution_count": 2,
   "id": "ac305651",
   "metadata": {},
   "outputs": [],
   "source": [
    "import sys\n",
    "import matplotlib\n",
    "import numpy as np\n",
    "import pandas as pd\n",
    "import matplotlib.pyplot as plt\n",
    "import datetime\n",
    "\n",
    "sys.version\n",
    "\n",
    "sys.path.append(\"../../\")\n",
    "\n",
    "# from src.ad_hmm import sku_predict\n",
    "# from src.ad_stl_model import stl_model\n",
    "from src.utils import *"
   ]
  },
  {
   "cell_type": "code",
   "execution_count": 3,
   "id": "77528d63",
   "metadata": {},
   "outputs": [],
   "source": [
    "%load_ext autoreload \n",
    "%autoreload 2"
   ]
  },
  {
   "cell_type": "markdown",
   "id": "a441e899",
   "metadata": {},
   "source": [
    "### y-actual"
   ]
  },
  {
   "cell_type": "code",
   "execution_count": 4,
   "id": "8cc34776",
   "metadata": {},
   "outputs": [
    {
     "data": {
      "text/html": [
       "<div>\n",
       "<style scoped>\n",
       "    .dataframe tbody tr th:only-of-type {\n",
       "        vertical-align: middle;\n",
       "    }\n",
       "\n",
       "    .dataframe tbody tr th {\n",
       "        vertical-align: top;\n",
       "    }\n",
       "\n",
       "    .dataframe thead th {\n",
       "        text-align: right;\n",
       "    }\n",
       "</style>\n",
       "<table border=\"1\" class=\"dataframe\">\n",
       "  <thead>\n",
       "    <tr style=\"text-align: right;\">\n",
       "      <th></th>\n",
       "      <th>Encoded_SKU_ID</th>\n",
       "      <th>SALES_DATE</th>\n",
       "      <th>actual</th>\n",
       "    </tr>\n",
       "  </thead>\n",
       "  <tbody>\n",
       "    <tr>\n",
       "      <th>0</th>\n",
       "      <td>23</td>\n",
       "      <td>2022-08-06</td>\n",
       "      <td>3</td>\n",
       "    </tr>\n",
       "    <tr>\n",
       "      <th>1</th>\n",
       "      <td>100</td>\n",
       "      <td>2022-08-02</td>\n",
       "      <td>2</td>\n",
       "    </tr>\n",
       "    <tr>\n",
       "      <th>2</th>\n",
       "      <td>121</td>\n",
       "      <td>2022-08-06</td>\n",
       "      <td>6</td>\n",
       "    </tr>\n",
       "    <tr>\n",
       "      <th>3</th>\n",
       "      <td>207</td>\n",
       "      <td>2022-08-03</td>\n",
       "      <td>0</td>\n",
       "    </tr>\n",
       "    <tr>\n",
       "      <th>4</th>\n",
       "      <td>416</td>\n",
       "      <td>2022-08-05</td>\n",
       "      <td>9</td>\n",
       "    </tr>\n",
       "  </tbody>\n",
       "</table>\n",
       "</div>"
      ],
      "text/plain": [
       "   Encoded_SKU_ID SALES_DATE  actual\n",
       "0              23 2022-08-06       3\n",
       "1             100 2022-08-02       2\n",
       "2             121 2022-08-06       6\n",
       "3             207 2022-08-03       0\n",
       "4             416 2022-08-05       9"
      ]
     },
     "execution_count": 4,
     "metadata": {},
     "output_type": "execute_result"
    }
   ],
   "source": [
    "original_validation = pd.read_excel(\"../../data/Validation_Data.xlsx\").drop_duplicates()\n",
    "y_act = original_validation[[\"Encoded_SKU_ID\",\"SALES_DATE\",\"DAILY_UNITS\"]].rename(columns = {\"DAILY_UNITS\":\"actual\"})\n",
    "y_act.head()"
   ]
  },
  {
   "cell_type": "markdown",
   "id": "5efb133e",
   "metadata": {},
   "source": [
    "###  Read all predictions"
   ]
  },
  {
   "cell_type": "code",
   "execution_count": 5,
   "id": "b26801bf",
   "metadata": {},
   "outputs": [
    {
     "data": {
      "text/plain": [
       "539"
      ]
     },
     "execution_count": 5,
     "metadata": {},
     "output_type": "execute_result"
    }
   ],
   "source": [
    "#y_null\n",
    "y_pred_null = pd.read_csv(\"../../results/null_model_results_final.csv\",index_col=0)\n",
    "y_pred_null[\"SALES_DATE\"] = pd.to_datetime(y_pred_null[\"SALES_DATE\"])\n",
    "y_pred_null.Encoded_SKU_ID.nunique()"
   ]
  },
  {
   "cell_type": "code",
   "execution_count": 6,
   "id": "ed9878d0",
   "metadata": {},
   "outputs": [
    {
     "data": {
      "text/plain": [
       "(Encoded_SKU_ID    3773\n",
       " SALES_DATE        3773\n",
       " predicted         3773\n",
       " dtype: int64,\n",
       " Encoded_SKU_ID    3773\n",
       " SALES_DATE        3773\n",
       " predicted         3773\n",
       " dtype: int64)"
      ]
     },
     "execution_count": 6,
     "metadata": {},
     "output_type": "execute_result"
    }
   ],
   "source": [
    "y_pred_null.count(),y_pred_null.drop_duplicates().count()"
   ]
  },
  {
   "cell_type": "code",
   "execution_count": 7,
   "id": "b63068d1",
   "metadata": {},
   "outputs": [
    {
     "data": {
      "text/plain": [
       "41"
      ]
     },
     "execution_count": 7,
     "metadata": {},
     "output_type": "execute_result"
    }
   ],
   "source": [
    "#y_holt\n",
    "y_pred_holt = pd.read_csv(\"../../results/holt_rst_final_02.csv\",index_col=0)\n",
    "y_pred_holt[\"SALES_DATE\"] = pd.to_datetime(y_pred_holt[\"SALES_DATE\"])\n",
    "y_pred_holt.Encoded_SKU_ID.nunique()"
   ]
  },
  {
   "cell_type": "code",
   "execution_count": 8,
   "id": "438275a1",
   "metadata": {},
   "outputs": [
    {
     "data": {
      "text/plain": [
       "(SALES_DATE        287\n",
       " predicted         287\n",
       " Encoded_SKU_ID    287\n",
       " dtype: int64,\n",
       " SALES_DATE        287\n",
       " predicted         287\n",
       " Encoded_SKU_ID    287\n",
       " dtype: int64)"
      ]
     },
     "execution_count": 8,
     "metadata": {},
     "output_type": "execute_result"
    }
   ],
   "source": [
    "y_pred_holt.count(),y_pred_holt.drop_duplicates().count()"
   ]
  },
  {
   "cell_type": "code",
   "execution_count": 10,
   "id": "5b2d0df8",
   "metadata": {},
   "outputs": [
    {
     "data": {
      "text/plain": [
       "300"
      ]
     },
     "execution_count": 10,
     "metadata": {},
     "output_type": "execute_result"
    }
   ],
   "source": [
    "#y_hmm\n",
    "y_pred_hmm = pd.read_csv(\"../../results/hmm_result_final_all2.csv\").drop(columns=[\"Unnamed: 0\"])\n",
    "y_pred_hmm[\"SALES_DATE\"] = pd.to_datetime(y_pred_hmm[\"SALES_DATE\"])\n",
    "y_pred_hmm.Encoded_SKU_ID.nunique()"
   ]
  },
  {
   "cell_type": "code",
   "execution_count": 11,
   "id": "9076dab8",
   "metadata": {},
   "outputs": [
    {
     "data": {
      "text/plain": [
       "(SALES_DATE        2340\n",
       " predicted         1906\n",
       " predicted_30      1976\n",
       " predicted_45      1969\n",
       " predicted_60      1962\n",
       " predicted_90      1962\n",
       " predicted_max     1955\n",
       " Encoded_SKU_ID    2340\n",
       " dtype: int64,\n",
       " SALES_DATE        2340\n",
       " predicted         1906\n",
       " predicted_30      1976\n",
       " predicted_45      1969\n",
       " predicted_60      1962\n",
       " predicted_90      1962\n",
       " predicted_max     1955\n",
       " Encoded_SKU_ID    2340\n",
       " dtype: int64)"
      ]
     },
     "execution_count": 11,
     "metadata": {},
     "output_type": "execute_result"
    }
   ],
   "source": [
    "y_pred_hmm.count(),y_pred_hmm.drop_duplicates().count()"
   ]
  },
  {
   "cell_type": "code",
   "execution_count": 12,
   "id": "72d57bb3",
   "metadata": {},
   "outputs": [
    {
     "name": "stderr",
     "output_type": "stream",
     "text": [
      "Importing plotly failed. Interactive plots will not work.\n"
     ]
    },
    {
     "data": {
      "text/plain": [
       "219"
      ]
     },
     "execution_count": 12,
     "metadata": {},
     "output_type": "execute_result"
    }
   ],
   "source": [
    "#y_prophet_stl\n",
    "import pickle\n",
    "with open('../../data/stl_prophet_final_results_127sku2.pkl', 'rb') as f:\n",
    "    all_preds = pickle.load(f)\n",
    "    \n",
    "y_pred_prophet_stl_mstl = pd.DataFrame()\n",
    "for i in range(len(all_preds)):\n",
    "    if all_preds[i]!= None:\n",
    "        y_pred_prophet_stl_mstl = pd.concat([y_pred_prophet_stl_mstl,all_preds[i][1]])\n",
    "y_pred_prophet_stl_mstl = y_pred_prophet_stl_mstl.reset_index().drop(columns=[\"actual\"])\n",
    "y_pred_prophet_stl_mstl[\"SALES_DATE\"] = pd.to_datetime(y_pred_prophet_stl_mstl[\"SALES_DATE\"])\n",
    "y_pred_prophet_stl_mstl.Encoded_SKU_ID.nunique()"
   ]
  },
  {
   "cell_type": "code",
   "execution_count": 13,
   "id": "b2a7d30e",
   "metadata": {},
   "outputs": [
    {
     "data": {
      "text/plain": [
       "(SALES_DATE            1533\n",
       " STL_prediction        1530\n",
       " MSTL_prediction       1531\n",
       " prophet_prediction    1533\n",
       " Encoded_SKU_ID        1533\n",
       " dtype: int64,\n",
       " SALES_DATE            1533\n",
       " STL_prediction        1530\n",
       " MSTL_prediction       1531\n",
       " prophet_prediction    1533\n",
       " Encoded_SKU_ID        1533\n",
       " dtype: int64)"
      ]
     },
     "execution_count": 13,
     "metadata": {},
     "output_type": "execute_result"
    }
   ],
   "source": [
    "y_pred_prophet_stl_mstl.count(),y_pred_prophet_stl_mstl.drop_duplicates().count()"
   ]
  },
  {
   "cell_type": "code",
   "execution_count": 14,
   "id": "b45611d4",
   "metadata": {},
   "outputs": [],
   "source": [
    "y_pred_stl = y_pred_prophet_stl_mstl[[\"SALES_DATE\",\"STL_prediction\",\"Encoded_SKU_ID\"\\\n",
    "                        ]].rename(columns={\"STL_prediction\":\"predicted\"})\n",
    "\n",
    "y_pred_mstl = y_pred_prophet_stl_mstl[[\"SALES_DATE\",\"MSTL_prediction\",\"Encoded_SKU_ID\"\\\n",
    "                        ]].rename(columns={\"MSTL_prediction\":\"predicted\"})\n",
    "\n",
    "y_pred_prophet = y_pred_prophet_stl_mstl[[\"SALES_DATE\",\"prophet_prediction\",\"Encoded_SKU_ID\"\\\n",
    "                        ]].rename(columns={\"prophet_prediction\":\"predicted\"})"
   ]
  },
  {
   "cell_type": "markdown",
   "id": "b387ef3b",
   "metadata": {},
   "source": [
    "### Merge all predictions"
   ]
  },
  {
   "cell_type": "code",
   "execution_count": 15,
   "id": "e4d4550f",
   "metadata": {},
   "outputs": [
    {
     "name": "stdout",
     "output_type": "stream",
     "text": [
      "null 539\n",
      "stl 219\n",
      "mstl 219\n",
      "holt 41\n",
      "hmm 300\n",
      "prophet 219\n"
     ]
    }
   ],
   "source": [
    "print(\"null\",y_pred_null[\"Encoded_SKU_ID\"].nunique())\n",
    "print(\"stl\",y_pred_stl[\"Encoded_SKU_ID\"].nunique())\n",
    "print(\"mstl\",y_pred_mstl[\"Encoded_SKU_ID\"].nunique())\n",
    "print(\"holt\",y_pred_holt[\"Encoded_SKU_ID\"].nunique())\n",
    "print(\"hmm\",y_pred_hmm[\"Encoded_SKU_ID\"].nunique())\n",
    "print(\"prophet\",y_pred_prophet[\"Encoded_SKU_ID\"].nunique())"
   ]
  },
  {
   "cell_type": "code",
   "execution_count": 16,
   "id": "1ab20b33",
   "metadata": {},
   "outputs": [],
   "source": [
    "y_pred_holt1 = y_pred_holt.rename(columns={\"predicted\":\"predicted_holt\"})"
   ]
  },
  {
   "cell_type": "code",
   "execution_count": 17,
   "id": "ea7cea73",
   "metadata": {},
   "outputs": [
    {
     "data": {
      "text/html": [
       "<div>\n",
       "<style scoped>\n",
       "    .dataframe tbody tr th:only-of-type {\n",
       "        vertical-align: middle;\n",
       "    }\n",
       "\n",
       "    .dataframe tbody tr th {\n",
       "        vertical-align: top;\n",
       "    }\n",
       "\n",
       "    .dataframe thead th {\n",
       "        text-align: right;\n",
       "    }\n",
       "</style>\n",
       "<table border=\"1\" class=\"dataframe\">\n",
       "  <thead>\n",
       "    <tr style=\"text-align: right;\">\n",
       "      <th></th>\n",
       "      <th>SALES_DATE</th>\n",
       "      <th>predicted_15</th>\n",
       "      <th>predicted_30</th>\n",
       "      <th>predicted_45</th>\n",
       "      <th>predicted_60</th>\n",
       "      <th>predicted_90</th>\n",
       "      <th>predicted_max</th>\n",
       "      <th>Encoded_SKU_ID</th>\n",
       "      <th>STL_prediction</th>\n",
       "      <th>MSTL_prediction</th>\n",
       "      <th>prophet_prediction</th>\n",
       "      <th>predicted_null</th>\n",
       "      <th>predicted_holt</th>\n",
       "    </tr>\n",
       "  </thead>\n",
       "  <tbody>\n",
       "    <tr>\n",
       "      <th>0</th>\n",
       "      <td>2022-08-01</td>\n",
       "      <td>3.00</td>\n",
       "      <td>3.00</td>\n",
       "      <td>3.00</td>\n",
       "      <td>3.00</td>\n",
       "      <td>2.00</td>\n",
       "      <td>3.00</td>\n",
       "      <td>1</td>\n",
       "      <td>NaN</td>\n",
       "      <td>NaN</td>\n",
       "      <td>NaN</td>\n",
       "      <td>1</td>\n",
       "      <td>NaN</td>\n",
       "    </tr>\n",
       "    <tr>\n",
       "      <th>1</th>\n",
       "      <td>2022-08-01</td>\n",
       "      <td>1.55</td>\n",
       "      <td>0.45</td>\n",
       "      <td>0.45</td>\n",
       "      <td>0.45</td>\n",
       "      <td>2.00</td>\n",
       "      <td>1.00</td>\n",
       "      <td>1</td>\n",
       "      <td>NaN</td>\n",
       "      <td>NaN</td>\n",
       "      <td>NaN</td>\n",
       "      <td>1</td>\n",
       "      <td>NaN</td>\n",
       "    </tr>\n",
       "    <tr>\n",
       "      <th>2</th>\n",
       "      <td>2022-08-01</td>\n",
       "      <td>1.55</td>\n",
       "      <td>1.55</td>\n",
       "      <td>1.00</td>\n",
       "      <td>2.00</td>\n",
       "      <td>2.00</td>\n",
       "      <td>2.00</td>\n",
       "      <td>1</td>\n",
       "      <td>NaN</td>\n",
       "      <td>NaN</td>\n",
       "      <td>NaN</td>\n",
       "      <td>1</td>\n",
       "      <td>NaN</td>\n",
       "    </tr>\n",
       "    <tr>\n",
       "      <th>3</th>\n",
       "      <td>2022-08-01</td>\n",
       "      <td>3.00</td>\n",
       "      <td>3.00</td>\n",
       "      <td>2.00</td>\n",
       "      <td>3.00</td>\n",
       "      <td>1.45</td>\n",
       "      <td>0.45</td>\n",
       "      <td>1</td>\n",
       "      <td>NaN</td>\n",
       "      <td>NaN</td>\n",
       "      <td>NaN</td>\n",
       "      <td>1</td>\n",
       "      <td>NaN</td>\n",
       "    </tr>\n",
       "    <tr>\n",
       "      <th>4</th>\n",
       "      <td>2022-08-01</td>\n",
       "      <td>1.00</td>\n",
       "      <td>0.00</td>\n",
       "      <td>0.00</td>\n",
       "      <td>2.00</td>\n",
       "      <td>2.00</td>\n",
       "      <td>2.00</td>\n",
       "      <td>1</td>\n",
       "      <td>NaN</td>\n",
       "      <td>NaN</td>\n",
       "      <td>NaN</td>\n",
       "      <td>1</td>\n",
       "      <td>NaN</td>\n",
       "    </tr>\n",
       "  </tbody>\n",
       "</table>\n",
       "</div>"
      ],
      "text/plain": [
       "  SALES_DATE  predicted_15  predicted_30  predicted_45  predicted_60  \\\n",
       "0 2022-08-01          3.00          3.00          3.00          3.00   \n",
       "1 2022-08-01          1.55          0.45          0.45          0.45   \n",
       "2 2022-08-01          1.55          1.55          1.00          2.00   \n",
       "3 2022-08-01          3.00          3.00          2.00          3.00   \n",
       "4 2022-08-01          1.00          0.00          0.00          2.00   \n",
       "\n",
       "   predicted_90  predicted_max  Encoded_SKU_ID  STL_prediction  \\\n",
       "0          2.00           3.00               1             NaN   \n",
       "1          2.00           1.00               1             NaN   \n",
       "2          2.00           2.00               1             NaN   \n",
       "3          1.45           0.45               1             NaN   \n",
       "4          2.00           2.00               1             NaN   \n",
       "\n",
       "   MSTL_prediction  prophet_prediction  predicted_null  predicted_holt  \n",
       "0              NaN                 NaN               1             NaN  \n",
       "1              NaN                 NaN               1             NaN  \n",
       "2              NaN                 NaN               1             NaN  \n",
       "3              NaN                 NaN               1             NaN  \n",
       "4              NaN                 NaN               1             NaN  "
      ]
     },
     "execution_count": 17,
     "metadata": {},
     "output_type": "execute_result"
    }
   ],
   "source": [
    "all_predictions = y_pred_hmm.merge(y_pred_prophet_stl_mstl,on=[\"Encoded_SKU_ID\",\"SALES_DATE\"],how=\"outer\"\\\n",
    "                                            ).merge(y_pred_null,on=[\"Encoded_SKU_ID\",\"SALES_DATE\"],how=\"outer\",\\\n",
    "                                                   suffixes = (\"_15\",\"_null\"),\\\n",
    "                                                   ).merge(y_pred_holt1,on=[\"Encoded_SKU_ID\",\"SALES_DATE\"],how=\"outer\"\\\n",
    "                                                          ,suffixes=(\"\",\"_holt\")).drop_duplicates()\n",
    "all_predictions.head()"
   ]
  },
  {
   "cell_type": "code",
   "execution_count": 18,
   "id": "6b682118",
   "metadata": {},
   "outputs": [],
   "source": [
    "all_predictions = all_predictions.rename(columns={\n",
    "    \"STL_prediction\":\"predicted_STL\",\\\n",
    "    \"MSTL_prediction\":\"predicted_MSTL\",\\\n",
    "    \"prophet_prediction\":\"predicted_prophet\"\n",
    "})"
   ]
  },
  {
   "cell_type": "markdown",
   "id": "9a2dfb75",
   "metadata": {},
   "source": [
    "### Create Aggregare prediction"
   ]
  },
  {
   "cell_type": "code",
   "execution_count": 19,
   "id": "94ecd000",
   "metadata": {},
   "outputs": [
    {
     "name": "stdout",
     "output_type": "stream",
     "text": [
      "predicted_15 (539, 3)\n",
      "predicted_30 (539, 6)\n",
      "predicted_45 (539, 9)\n",
      "predicted_60 (539, 12)\n",
      "predicted_90 (539, 15)\n",
      "predicted_max (539, 18)\n",
      "predicted_STL (539, 21)\n",
      "predicted_MSTL (539, 24)\n",
      "predicted_prophet (539, 27)\n",
      "predicted_null (539, 30)\n",
      "predicted_holt (539, 33)\n"
     ]
    }
   ],
   "source": [
    "rmse_all_preds = pd.DataFrame()\n",
    "first_flag = True\n",
    "for col in all_predictions.columns:\n",
    "    if \"pred\" in col:\n",
    "        y_pred_i = all_predictions[[\"Encoded_SKU_ID\",\"SALES_DATE\",col\\\n",
    "                                   ]].rename(columns={col:\"predicted\"})\n",
    "        y_pred_i[\"SALES_DATE\"] = pd.to_datetime(y_pred_i[\"SALES_DATE\"])\n",
    "        rmse_pred_i = rmse_sku(y_act,y_pred_i)\n",
    "        rmse_pred_i.columns = [f\"{col_rmse}_{col.split('_')[-1]}\" for col_rmse in rmse_pred_i.columns]\n",
    "        if first_flag:\n",
    "            rmse_all_preds = rmse_pred_i\n",
    "            print (col,rmse_all_preds.shape)\n",
    "            first_flag = False\n",
    "        else:\n",
    "            rmse_all_preds = rmse_all_preds.merge(rmse_pred_i, left_index = True, right_index = True,\\\n",
    "                                suffixes = (\"\",f\"_{col.split('_')[-1]}\"))\n",
    "            print (col,rmse_all_preds.shape)"
   ]
  },
  {
   "cell_type": "code",
   "execution_count": 20,
   "id": "447f9506",
   "metadata": {},
   "outputs": [
    {
     "data": {
      "text/plain": [
       "['rmse_du_15',\n",
       " 'rmse_du_30',\n",
       " 'rmse_du_45',\n",
       " 'rmse_du_60',\n",
       " 'rmse_du_90',\n",
       " 'rmse_du_max',\n",
       " 'rmse_du_STL',\n",
       " 'rmse_du_MSTL',\n",
       " 'rmse_du_prophet',\n",
       " 'rmse_du_null',\n",
       " 'rmse_du_holt']"
      ]
     },
     "execution_count": 20,
     "metadata": {},
     "output_type": "execute_result"
    }
   ],
   "source": [
    "rmse_cols = [col for col in rmse_all_preds.columns if \"rmse_du\" in col]\n",
    "rmse_cols"
   ]
  },
  {
   "cell_type": "code",
   "execution_count": 21,
   "id": "acc483bb",
   "metadata": {},
   "outputs": [],
   "source": [
    "rmse_all_preds[\"min_rmse\"] = rmse_all_preds[rmse_cols].min(axis=1,skipna=True)\n",
    "\n",
    "rmse_all_preds[\"argmin_period\"] = np.nanargmin(rmse_all_preds[rmse_cols].values,axis=1)\n",
    "\n",
    "rmse_all_preds[\"min_period\"] = rmse_all_preds[\"argmin_period\"].apply(lambda x: rmse_cols[x])"
   ]
  },
  {
   "cell_type": "code",
   "execution_count": 22,
   "id": "b950838e",
   "metadata": {},
   "outputs": [
    {
     "data": {
      "text/plain": [
       "rmse_du_null       205\n",
       "rmse_du_prophet     68\n",
       "rmse_du_STL         65\n",
       "rmse_du_15          39\n",
       "rmse_du_60          30\n",
       "rmse_du_90          29\n",
       "rmse_du_max         29\n",
       "rmse_du_30          27\n",
       "rmse_du_45          23\n",
       "rmse_du_MSTL        15\n",
       "rmse_du_holt         9\n",
       "Name: min_period, dtype: int64"
      ]
     },
     "execution_count": 22,
     "metadata": {},
     "output_type": "execute_result"
    }
   ],
   "source": [
    "rmse_all_preds[\"min_period\"].value_counts()"
   ]
  },
  {
   "cell_type": "code",
   "execution_count": 23,
   "id": "e19f3133",
   "metadata": {},
   "outputs": [],
   "source": [
    "period_col_map= {\n",
    "    \"rmse_du_15\":\"predicted_15\", \"rmse_du_30\":\"predicted_30\", \"rmse_du_45\":\"predicted_45\",\\\n",
    "    \"rmse_du_60\":\"predicted_60\", \"rmse_du_90\":\"predicted_90\", \"rmse_du_max\":\"predicted_max\",\\\n",
    "    \"rmse_du_STL\":\"predicted_STL\",\"rmse_du_MSTL\":\"predicted_MSTL\",\"rmse_du_null\":\"predicted_null\",\\\n",
    "    \"rmse_du_holt\":\"predicted_holt\",\"rmse_du_prophet\":\"predicted_prophet\"\n",
    "}"
   ]
  },
  {
   "cell_type": "code",
   "execution_count": 24,
   "id": "a5502019",
   "metadata": {},
   "outputs": [],
   "source": [
    "y_pred_best = pd.DataFrame()\n",
    "cnt = 0\n",
    "for sku_id,best_period in zip(rmse_all_preds.index,rmse_all_preds[\"min_period\"]):\n",
    "    best_col = period_col_map[best_period]\n",
    "    mask_sku = all_predictions.Encoded_SKU_ID==sku_id\n",
    "    y_pred_best_sku = all_predictions.loc[mask_sku][[\"Encoded_SKU_ID\",\"SALES_DATE\",best_col\\\n",
    "                                                                  ]].rename(columns={best_col:\"predicted\"})\n",
    "    y_pred_best = pd.concat([y_pred_best,y_pred_best_sku])"
   ]
  },
  {
   "cell_type": "code",
   "execution_count": 25,
   "id": "c6407159",
   "metadata": {},
   "outputs": [
    {
     "data": {
      "text/plain": [
       "(539, 539, 539)"
      ]
     },
     "execution_count": 25,
     "metadata": {},
     "output_type": "execute_result"
    }
   ],
   "source": [
    "#QC\n",
    "y_act.Encoded_SKU_ID.nunique(),y_pred_null.Encoded_SKU_ID.nunique(),y_pred_best.Encoded_SKU_ID.nunique()"
   ]
  },
  {
   "cell_type": "code",
   "execution_count": 26,
   "id": "c9f7b258",
   "metadata": {},
   "outputs": [
    {
     "data": {
      "text/plain": [
       "(Encoded_SKU_ID    4013\n",
       " SALES_DATE        4013\n",
       " predicted         3992\n",
       " dtype: int64,\n",
       " Encoded_SKU_ID    3872\n",
       " SALES_DATE        3872\n",
       " predicted         3851\n",
       " dtype: int64)"
      ]
     },
     "execution_count": 26,
     "metadata": {},
     "output_type": "execute_result"
    }
   ],
   "source": [
    "y_pred_best.count(),y_pred_best.drop_duplicates().count()"
   ]
  },
  {
   "cell_type": "code",
   "execution_count": 27,
   "id": "c6a30d5f",
   "metadata": {},
   "outputs": [
    {
     "data": {
      "text/plain": [
       "(5.290976671399268, 3.1536214276397208)"
      ]
     },
     "execution_count": 27,
     "metadata": {},
     "output_type": "execute_result"
    }
   ],
   "source": [
    "rmse_val_null,rmse_null_best = rmse(y_act,y_pred_null),rmse(y_act,y_pred_best)\n",
    "rmse_val_null,rmse_null_best"
   ]
  },
  {
   "cell_type": "code",
   "execution_count": 57,
   "id": "d65e8e93",
   "metadata": {},
   "outputs": [],
   "source": [
    "y_pred_best1 = y_pred_best.drop_duplicates(subset=[\"Encoded_SKU_ID\",\"SALES_DATE\"])"
   ]
  },
  {
   "cell_type": "code",
   "execution_count": 60,
   "id": "2949bfb8",
   "metadata": {},
   "outputs": [],
   "source": [
    "y_pred_best1.to_csv(\"../../results/final_predictions_ensemble_models.csv\")"
   ]
  },
  {
   "cell_type": "code",
   "execution_count": 151,
   "id": "9460efaa",
   "metadata": {},
   "outputs": [
    {
     "data": {
      "text/html": [
       "<div>\n",
       "<style scoped>\n",
       "    .dataframe tbody tr th:only-of-type {\n",
       "        vertical-align: middle;\n",
       "    }\n",
       "\n",
       "    .dataframe tbody tr th {\n",
       "        vertical-align: top;\n",
       "    }\n",
       "\n",
       "    .dataframe thead th {\n",
       "        text-align: right;\n",
       "    }\n",
       "</style>\n",
       "<table border=\"1\" class=\"dataframe\">\n",
       "  <thead>\n",
       "    <tr style=\"text-align: right;\">\n",
       "      <th></th>\n",
       "      <th>Encoded_SKU_ID</th>\n",
       "      <th>SALES_DATE</th>\n",
       "      <th>predicted</th>\n",
       "    </tr>\n",
       "  </thead>\n",
       "  <tbody>\n",
       "    <tr>\n",
       "      <th>511</th>\n",
       "      <td>482</td>\n",
       "      <td>2022-08-01</td>\n",
       "      <td>5.267713</td>\n",
       "    </tr>\n",
       "    <tr>\n",
       "      <th>512</th>\n",
       "      <td>482</td>\n",
       "      <td>2022-08-02</td>\n",
       "      <td>4.981521</td>\n",
       "    </tr>\n",
       "    <tr>\n",
       "      <th>513</th>\n",
       "      <td>482</td>\n",
       "      <td>2022-08-03</td>\n",
       "      <td>4.476764</td>\n",
       "    </tr>\n",
       "    <tr>\n",
       "      <th>514</th>\n",
       "      <td>482</td>\n",
       "      <td>2022-08-04</td>\n",
       "      <td>4.905987</td>\n",
       "    </tr>\n",
       "    <tr>\n",
       "      <th>515</th>\n",
       "      <td>482</td>\n",
       "      <td>2022-08-05</td>\n",
       "      <td>5.636263</td>\n",
       "    </tr>\n",
       "  </tbody>\n",
       "</table>\n",
       "</div>"
      ],
      "text/plain": [
       "     Encoded_SKU_ID SALES_DATE  predicted\n",
       "511             482 2022-08-01   5.267713\n",
       "512             482 2022-08-02   4.981521\n",
       "513             482 2022-08-03   4.476764\n",
       "514             482 2022-08-04   4.905987\n",
       "515             482 2022-08-05   5.636263"
      ]
     },
     "execution_count": 151,
     "metadata": {},
     "output_type": "execute_result"
    }
   ],
   "source": [
    "y_pred_best2 = pd.read_csv(\"../../results/final_predictions_ensemble_models.csv\",index_col=0)\n",
    "y_pred_best2[\"SALES_DATE\"] = pd.to_datetime(y_pred_best2[\"SALES_DATE\"], format =\"%d/%m/%y\")\n",
    "y_pred_best2.head()"
   ]
  },
  {
   "cell_type": "code",
   "execution_count": 152,
   "id": "2b7e88c1",
   "metadata": {},
   "outputs": [
    {
     "data": {
      "text/plain": [
       "0      2022-08-06\n",
       "1      2022-08-02\n",
       "2      2022-08-06\n",
       "3      2022-08-03\n",
       "4      2022-08-05\n",
       "          ...    \n",
       "3768   2022-08-06\n",
       "3769   2022-08-02\n",
       "3770   2022-08-01\n",
       "3771   2022-08-01\n",
       "3772   2022-08-04\n",
       "Name: SALES_DATE, Length: 3773, dtype: datetime64[ns]"
      ]
     },
     "execution_count": 152,
     "metadata": {},
     "output_type": "execute_result"
    }
   ],
   "source": [
    "y_act[\"SALES_DATE\"]"
   ]
  },
  {
   "cell_type": "code",
   "execution_count": 154,
   "id": "6e6b8654",
   "metadata": {},
   "outputs": [
    {
     "data": {
      "text/plain": [
       "(5.290976671399268, 2.2094858172197425)"
      ]
     },
     "execution_count": 154,
     "metadata": {},
     "output_type": "execute_result"
    }
   ],
   "source": [
    "rmse_val_null,rmse_null_best = rmse(y_act,y_pred_null),rmse(y_act,y_pred_best2)\n",
    "rmse_val_null,rmse_null_best"
   ]
  },
  {
   "cell_type": "code",
   "execution_count": 155,
   "id": "a25b4ae0",
   "metadata": {},
   "outputs": [],
   "source": [
    "y_pred_best2.to_csv(\"../../results/final_predictions_ensemble_models.csv\")"
   ]
  },
  {
   "cell_type": "code",
   "execution_count": 124,
   "id": "c634fe28",
   "metadata": {},
   "outputs": [
    {
     "data": {
      "text/html": [
       "<div>\n",
       "<style scoped>\n",
       "    .dataframe tbody tr th:only-of-type {\n",
       "        vertical-align: middle;\n",
       "    }\n",
       "\n",
       "    .dataframe tbody tr th {\n",
       "        vertical-align: top;\n",
       "    }\n",
       "\n",
       "    .dataframe thead th {\n",
       "        text-align: right;\n",
       "    }\n",
       "</style>\n",
       "<table border=\"1\" class=\"dataframe\">\n",
       "  <thead>\n",
       "    <tr style=\"text-align: right;\">\n",
       "      <th></th>\n",
       "      <th>Encoded_SKU_ID</th>\n",
       "      <th>SALES_DATE</th>\n",
       "      <th>actual</th>\n",
       "      <th>predicted</th>\n",
       "    </tr>\n",
       "  </thead>\n",
       "  <tbody>\n",
       "  </tbody>\n",
       "</table>\n",
       "</div>"
      ],
      "text/plain": [
       "Empty DataFrame\n",
       "Columns: [Encoded_SKU_ID, SALES_DATE, actual, predicted]\n",
       "Index: []"
      ]
     },
     "execution_count": 124,
     "metadata": {},
     "output_type": "execute_result"
    }
   ],
   "source": [
    "df_join = y_act.merge(y_pred_best2,on=[\"Encoded_SKU_ID\",\"SALES_DATE\"])\n",
    "df_join"
   ]
  },
  {
   "cell_type": "code",
   "execution_count": 156,
   "id": "c26ea898",
   "metadata": {},
   "outputs": [],
   "source": [
    "rmse_best_sku = rmse_sku(y_act,y_pred_best2)"
   ]
  },
  {
   "cell_type": "code",
   "execution_count": 157,
   "id": "5648658d",
   "metadata": {},
   "outputs": [
    {
     "data": {
      "text/plain": [
       "0.90    2.943019\n",
       "0.95    4.361333\n",
       "0.99    7.253910\n",
       "Name: rmse_du, dtype: float64"
      ]
     },
     "execution_count": 157,
     "metadata": {},
     "output_type": "execute_result"
    }
   ],
   "source": [
    "rmse_best_sku[\"rmse_du\"].quantile([0.9,0.95,0.99])"
   ]
  },
  {
   "cell_type": "code",
   "execution_count": 158,
   "id": "71d7e7e6",
   "metadata": {},
   "outputs": [
    {
     "data": {
      "text/plain": [
       "<AxesSubplot: >"
      ]
     },
     "execution_count": 158,
     "metadata": {},
     "output_type": "execute_result"
    },
    {
     "data": {
      "image/png": "[encoded data removed]",
      "text/plain": [
       "<Figure size 640x480 with 1 Axes>"
      ]
     },
     "metadata": {},
     "output_type": "display_data"
    }
   ],
   "source": [
    "rmse_best_sku[\"rmse_du\"].hist()"
   ]
  },
  {
   "cell_type": "code",
   "execution_count": 159,
   "id": "64f34f6c",
   "metadata": {},
   "outputs": [
    {
     "data": {
      "text/plain": [
       "<matplotlib.legend.Legend at 0x166bf3a60>"
      ]
     },
     "execution_count": 159,
     "metadata": {},
     "output_type": "execute_result"
    },
    {
     "data": {
      "image/png": "[encoded data removed]",
      "text/plain": [
       "<Figure size 640x480 with 1 Axes>"
      ]
     },
     "metadata": {},
     "output_type": "display_data"
    }
   ],
   "source": [
    "# rmse_best_sku[\"rmse_du\"].hist()\n",
    "rmse_best_sku[\"rmse_du\"].plot(kind=\"kde\")\n",
    "plt.axvline(2.94, color=\"red\", label = \"90 percentile\")\n",
    "plt.legend()"
   ]
  },
  {
   "cell_type": "code",
   "execution_count": 61,
   "id": "74d36b50",
   "metadata": {},
   "outputs": [
    {
     "data": {
      "text/html": [
       "<div>\n",
       "<style scoped>\n",
       "    .dataframe tbody tr th:only-of-type {\n",
       "        vertical-align: middle;\n",
       "    }\n",
       "\n",
       "    .dataframe tbody tr th {\n",
       "        vertical-align: top;\n",
       "    }\n",
       "\n",
       "    .dataframe thead th {\n",
       "        text-align: right;\n",
       "    }\n",
       "</style>\n",
       "<table border=\"1\" class=\"dataframe\">\n",
       "  <thead>\n",
       "    <tr style=\"text-align: right;\">\n",
       "      <th></th>\n",
       "      <th>rmse_du</th>\n",
       "      <th>mean_du</th>\n",
       "      <th>pct_rmse</th>\n",
       "    </tr>\n",
       "    <tr>\n",
       "      <th>Encoded_SKU_ID</th>\n",
       "      <th></th>\n",
       "      <th></th>\n",
       "      <th></th>\n",
       "    </tr>\n",
       "  </thead>\n",
       "  <tbody>\n",
       "    <tr>\n",
       "      <th>430</th>\n",
       "      <td>40.362642</td>\n",
       "      <td>94.714286</td>\n",
       "      <td>0.426152</td>\n",
       "    </tr>\n",
       "    <tr>\n",
       "      <th>469</th>\n",
       "      <td>33.161158</td>\n",
       "      <td>396.000000</td>\n",
       "      <td>0.083740</td>\n",
       "    </tr>\n",
       "    <tr>\n",
       "      <th>557</th>\n",
       "      <td>22.696759</td>\n",
       "      <td>33.285714</td>\n",
       "      <td>0.681877</td>\n",
       "    </tr>\n",
       "    <tr>\n",
       "      <th>271</th>\n",
       "      <td>16.694738</td>\n",
       "      <td>28.428571</td>\n",
       "      <td>0.587252</td>\n",
       "    </tr>\n",
       "    <tr>\n",
       "      <th>50</th>\n",
       "      <td>11.004702</td>\n",
       "      <td>73.857143</td>\n",
       "      <td>0.149000</td>\n",
       "    </tr>\n",
       "    <tr>\n",
       "      <th>74</th>\n",
       "      <td>8.246211</td>\n",
       "      <td>41.142857</td>\n",
       "      <td>0.200429</td>\n",
       "    </tr>\n",
       "    <tr>\n",
       "      <th>350</th>\n",
       "      <td>7.991066</td>\n",
       "      <td>13.428571</td>\n",
       "      <td>0.595079</td>\n",
       "    </tr>\n",
       "    <tr>\n",
       "      <th>381</th>\n",
       "      <td>7.386123</td>\n",
       "      <td>6.714286</td>\n",
       "      <td>1.100061</td>\n",
       "    </tr>\n",
       "    <tr>\n",
       "      <th>99</th>\n",
       "      <td>7.038193</td>\n",
       "      <td>10.857143</td>\n",
       "      <td>0.648255</td>\n",
       "    </tr>\n",
       "    <tr>\n",
       "      <th>534</th>\n",
       "      <td>6.590036</td>\n",
       "      <td>6.000000</td>\n",
       "      <td>1.098339</td>\n",
       "    </tr>\n",
       "  </tbody>\n",
       "</table>\n",
       "</div>"
      ],
      "text/plain": [
       "                  rmse_du     mean_du  pct_rmse\n",
       "Encoded_SKU_ID                                 \n",
       "430             40.362642   94.714286  0.426152\n",
       "469             33.161158  396.000000  0.083740\n",
       "557             22.696759   33.285714  0.681877\n",
       "271             16.694738   28.428571  0.587252\n",
       "50              11.004702   73.857143  0.149000\n",
       "74               8.246211   41.142857  0.200429\n",
       "350              7.991066   13.428571  0.595079\n",
       "381              7.386123    6.714286  1.100061\n",
       "99               7.038193   10.857143  0.648255\n",
       "534              6.590036    6.000000  1.098339"
      ]
     },
     "execution_count": 61,
     "metadata": {},
     "output_type": "execute_result"
    }
   ],
   "source": [
    "rmse_best_sku.head(10)"
   ]
  },
  {
   "cell_type": "code",
   "execution_count": 67,
   "id": "793d2919",
   "metadata": {},
   "outputs": [
    {
     "data": {
      "text/html": [
       "<div>\n",
       "<style scoped>\n",
       "    .dataframe tbody tr th:only-of-type {\n",
       "        vertical-align: middle;\n",
       "    }\n",
       "\n",
       "    .dataframe tbody tr th {\n",
       "        vertical-align: top;\n",
       "    }\n",
       "\n",
       "    .dataframe thead th {\n",
       "        text-align: right;\n",
       "    }\n",
       "</style>\n",
       "<table border=\"1\" class=\"dataframe\">\n",
       "  <thead>\n",
       "    <tr style=\"text-align: right;\">\n",
       "      <th></th>\n",
       "      <th>Encoded_SKU_ID</th>\n",
       "      <th>SALES_DATE</th>\n",
       "      <th>actual</th>\n",
       "    </tr>\n",
       "  </thead>\n",
       "  <tbody>\n",
       "    <tr>\n",
       "      <th>366</th>\n",
       "      <td>271</td>\n",
       "      <td>2022-08-01</td>\n",
       "      <td>25</td>\n",
       "    </tr>\n",
       "    <tr>\n",
       "      <th>2193</th>\n",
       "      <td>271</td>\n",
       "      <td>2022-08-02</td>\n",
       "      <td>24</td>\n",
       "    </tr>\n",
       "    <tr>\n",
       "      <th>688</th>\n",
       "      <td>271</td>\n",
       "      <td>2022-08-03</td>\n",
       "      <td>27</td>\n",
       "    </tr>\n",
       "    <tr>\n",
       "      <th>2944</th>\n",
       "      <td>271</td>\n",
       "      <td>2022-08-04</td>\n",
       "      <td>30</td>\n",
       "    </tr>\n",
       "    <tr>\n",
       "      <th>1290</th>\n",
       "      <td>271</td>\n",
       "      <td>2022-08-05</td>\n",
       "      <td>38</td>\n",
       "    </tr>\n",
       "    <tr>\n",
       "      <th>3403</th>\n",
       "      <td>271</td>\n",
       "      <td>2022-08-06</td>\n",
       "      <td>41</td>\n",
       "    </tr>\n",
       "    <tr>\n",
       "      <th>1823</th>\n",
       "      <td>271</td>\n",
       "      <td>2022-08-07</td>\n",
       "      <td>14</td>\n",
       "    </tr>\n",
       "  </tbody>\n",
       "</table>\n",
       "</div>"
      ],
      "text/plain": [
       "      Encoded_SKU_ID SALES_DATE  actual\n",
       "366              271 2022-08-01      25\n",
       "2193             271 2022-08-02      24\n",
       "688              271 2022-08-03      27\n",
       "2944             271 2022-08-04      30\n",
       "1290             271 2022-08-05      38\n",
       "3403             271 2022-08-06      41\n",
       "1823             271 2022-08-07      14"
      ]
     },
     "execution_count": 67,
     "metadata": {},
     "output_type": "execute_result"
    }
   ],
   "source": [
    "y_act[y_act.Encoded_SKU_ID==271].sort_values(by=[\"SALES_DATE\"])"
   ]
  },
  {
   "cell_type": "code",
   "execution_count": null,
   "id": "35c197f8",
   "metadata": {},
   "outputs": [],
   "source": [
    "rmse_best_sku.tail()"
   ]
  },
  {
   "cell_type": "markdown",
   "id": "f26e9332",
   "metadata": {},
   "source": [
    "### RMSE"
   ]
  },
  {
   "cell_type": "code",
   "execution_count": null,
   "id": "b892d9e7",
   "metadata": {},
   "outputs": [],
   "source": [
    "rmse_all_preds = pd.DataFrame()\n",
    "first_flag = True\n",
    "for col in all_predictions.columns:\n",
    "    if \"pred\" in col:\n",
    "        y_pred_i = all_predictions[[\"Encoded_SKU_ID\",\"SALES_DATE\",col\\\n",
    "                                   ]].rename(columns={col:\"predicted\"})\n",
    "        y_pred_i[\"SALES_DATE\"] = pd.to_datetime(y_pred_i[\"SALES_DATE\"])\n",
    "        rmse_pred_i = rmse_sku(y_act,y_pred_i)\n",
    "        rmse_pred_i.columns = [f\"{col_rmse}_{col.split('_')[-1]}\" for col_rmse in rmse_pred_i.columns]\n",
    "        if first_flag:\n",
    "            rmse_all_preds = rmse_pred_i\n",
    "            print (col,rmse_all_preds.shape)\n",
    "            first_flag = False\n",
    "        else:\n",
    "            rmse_all_preds = rmse_all_preds.merge(rmse_pred_i, left_index = True, right_index = True,\\\n",
    "                                suffixes = (\"\",f\"_{col.split('_')[-1]}\"))\n",
    "            print (col,rmse_all_preds.shape)"
   ]
  },
  {
   "cell_type": "code",
   "execution_count": null,
   "id": "6f6238f4",
   "metadata": {},
   "outputs": [],
   "source": [
    "rmse_all_preds"
   ]
  },
  {
   "cell_type": "code",
   "execution_count": null,
   "id": "4a6a4932",
   "metadata": {},
   "outputs": [],
   "source": [
    "rmse_cols = [col for col in rmse_all_preds.columns if \"rmse_du\" in col]\n",
    "rmse_cols"
   ]
  },
  {
   "cell_type": "code",
   "execution_count": null,
   "id": "f07021b9",
   "metadata": {},
   "outputs": [],
   "source": [
    "# #mute rmse null wherever other model is available to prevent data leak\n",
    "# rmse_cols_wo_null = [x for x in rmse_cols if \"null\" not in x]\n",
    "# atleast_one_model_not_nan = (~rmse_all_preds[rmse_cols_wo_null].isna()).sum(axis=1)>0\n",
    "# atleast_one_model_not_nan.sum(),(~atleast_one_model_not_nan).sum()"
   ]
  },
  {
   "cell_type": "code",
   "execution_count": null,
   "id": "fe72be4f",
   "metadata": {},
   "outputs": [],
   "source": [
    "# rmse_all_preds.loc[atleast_one_model_not_nan,\"rmse_null\"]=np.nan"
   ]
  },
  {
   "cell_type": "markdown",
   "id": "4f5abaf5",
   "metadata": {},
   "source": [
    "### Create y_best cumulatively | Ensemble"
   ]
  },
  {
   "cell_type": "code",
   "execution_count": 32,
   "id": "5e4e734a",
   "metadata": {},
   "outputs": [],
   "source": [
    "def create_y_best(rmse_all_preds,step_cols,period_col_map,step=\"\"):\n",
    "    rmse_all_preds[f\"min_rmse_{step}\"] = rmse_all_preds[step_cols].min(axis=1,skipna=True)\n",
    "    rmse_all_preds[f\"argmin_period_{step}\"] = np.nanargmin(rmse_all_preds[step_cols].values,axis=1)\n",
    "    rmse_all_preds[f\"min_period_{step}\"] = rmse_all_preds[f\"argmin_period_{step}\"].apply(lambda x: step_cols[x])\n",
    "    y_pred_best = pd.DataFrame()\n",
    "    cnt = 0\n",
    "    for sku_id,best_period in zip(rmse_all_preds.index,rmse_all_preds[f\"min_period_{step}\"]):\n",
    "        best_col = period_col_map[best_period]\n",
    "        mask_sku = all_predictions.Encoded_SKU_ID==sku_id\n",
    "        y_pred_best_sku = all_predictions.loc[mask_sku][[\"Encoded_SKU_ID\",\"SALES_DATE\",best_col\\\n",
    "                                                                  ]].rename(columns={best_col:\"predicted\"})\n",
    "        y_pred_best = pd.concat([y_pred_best,y_pred_best_sku])\n",
    "    return (y_pred_best)"
   ]
  },
  {
   "cell_type": "code",
   "execution_count": null,
   "id": "3846f2f1",
   "metadata": {},
   "outputs": [],
   "source": [
    "period_col_map= {\n",
    "    \"rmse_du_15\":\"predicted_15\", \"rmse_du_30\":\"predicted_30\", \"rmse_du_45\":\"predicted_45\",\\\n",
    "    \"rmse_du_60\":\"predicted_60\", \"rmse_du_90\":\"predicted_90\", \"rmse_du_max\":\"predicted_max\",\\\n",
    "    \"rmse_du_STL\":\"predicted_STL\",\"rmse_du_MSTL\":\"predicted_MSTL\",\"rmse_du_null\":\"predicted_null\",\\\n",
    "    \"rmse_du_holt\":\"predicted_holt\",\"rmse_du_prophet\":\"predicted_prophet\"\n",
    "}"
   ]
  },
  {
   "cell_type": "code",
   "execution_count": null,
   "id": "d9716e35",
   "metadata": {},
   "outputs": [],
   "source": [
    "rmse_cols"
   ]
  },
  {
   "cell_type": "markdown",
   "id": "d0ef74b8",
   "metadata": {},
   "source": [
    "### Step 1: Null + Holt + Prophet"
   ]
  },
  {
   "cell_type": "code",
   "execution_count": null,
   "id": "7d79bd21",
   "metadata": {},
   "outputs": [],
   "source": [
    "step = \"1\"\n",
    "step_cols = ['rmse_du_prophet',\n",
    " 'rmse_du_null',\n",
    " 'rmse_du_holt']\n",
    "\n",
    "y_best1 = create_y_best(rmse_all_preds,step_cols,period_col_map,step)\n",
    "assert y_best1.Encoded_SKU_ID.nunique()==539, \"y_best does not have all SKUs\"\n",
    "rmse_val_null,rmse_null_best = rmse(y_act,y_pred_null),rmse(y_act,y_best1)\n",
    "rmse_val_null,rmse_null_best,((rmse_val_null-rmse_null_best)*100)/rmse_null_best"
   ]
  },
  {
   "cell_type": "code",
   "execution_count": null,
   "id": "7e72c3e3",
   "metadata": {},
   "outputs": [],
   "source": [
    "rmse_all_preds[f\"min_period_{step}\"].value_counts()"
   ]
  },
  {
   "cell_type": "code",
   "execution_count": 33,
   "id": "3fb914c0",
   "metadata": {},
   "outputs": [
    {
     "data": {
      "text/plain": [
       "(5.290976671399268, 3.2293577822497923, 63.83990341612786)"
      ]
     },
     "execution_count": 33,
     "metadata": {},
     "output_type": "execute_result"
    }
   ],
   "source": [
    "step = \"2\"\n",
    "step_cols = ['rmse_du_STL',\n",
    " 'rmse_du_MSTL',\n",
    " 'rmse_du_prophet',\n",
    " 'rmse_du_null',\n",
    " 'rmse_du_holt']\n",
    "\n",
    "y_best1 = create_y_best(rmse_all_preds,step_cols,period_col_map,step)\n",
    "assert y_best1.Encoded_SKU_ID.nunique()==539, \"y_best does not have all SKUs\"\n",
    "rmse_val_null,rmse_null_best = rmse(y_act,y_pred_null),rmse(y_act,y_best1)\n",
    "rmse_val_null,rmse_null_best,((rmse_val_null-rmse_null_best)*100)/rmse_null_best"
   ]
  },
  {
   "cell_type": "code",
   "execution_count": null,
   "id": "43cfb099",
   "metadata": {},
   "outputs": [],
   "source": [
    "rmse_all_preds[f\"min_period_{step}\"].value_counts()"
   ]
  },
  {
   "cell_type": "code",
   "execution_count": null,
   "id": "8018b955",
   "metadata": {},
   "outputs": [],
   "source": [
    "### Step 1: Null + Holt + Prophet\n",
    "\n",
    "step = \"3\"\n",
    "step_cols = rmse_cols\n",
    "\n",
    "y_best1 = create_y_best(rmse_all_preds,step_cols,period_col_map,step)\n",
    "assert y_best1.Encoded_SKU_ID.nunique()==539, \"y_best does not have all SKUs\"\n",
    "rmse_val_null,rmse_null_best = rmse(y_act,y_pred_null),rmse(y_act,y_best1)\n",
    "rmse_val_null,rmse_null_best,((rmse_val_null-rmse_null_best)*100)/rmse_null_best"
   ]
  },
  {
   "cell_type": "code",
   "execution_count": null,
   "id": "3a96d03d",
   "metadata": {},
   "outputs": [],
   "source": [
    "rmse_all_preds[f\"min_period_{step}\"].value_counts()"
   ]
  },
  {
   "cell_type": "code",
   "execution_count": null,
   "id": "58696eae",
   "metadata": {},
   "outputs": [],
   "source": [
    "y_best1.Encoded_SKU_ID.value_counts()==7"
   ]
  },
  {
   "cell_type": "code",
   "execution_count": null,
   "id": "50b533ff",
   "metadata": {},
   "outputs": [],
   "source": [
    "y_best1.count()"
   ]
  },
  {
   "cell_type": "code",
   "execution_count": null,
   "id": "5cffa032",
   "metadata": {},
   "outputs": [],
   "source": [
    "y_best1.drop_duplicates().count()"
   ]
  },
  {
   "cell_type": "code",
   "execution_count": null,
   "id": "05d8a7bc",
   "metadata": {},
   "outputs": [],
   "source": []
  }
 ],
 "metadata": {
  "kernelspec": {
   "display_name": "Python 3 (ipykernel)",
   "language": "python",
   "name": "python3"
  },
  "language_info": {
   "codemirror_mode": {
    "name": "ipython",
    "version": 3
   },
   "file_extension": ".py",
   "mimetype": "text/x-python",
   "name": "python",
   "nbconvert_exporter": "python",
   "pygments_lexer": "ipython3",
   "version": "3.9.15"
  }
 },
 "nbformat": 4,
 "nbformat_minor": 5
}
