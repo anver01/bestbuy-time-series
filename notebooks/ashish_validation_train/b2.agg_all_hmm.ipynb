{
 "cells": [
  {
   "cell_type": "code",
   "execution_count": 1,
   "id": "137a9194",
   "metadata": {},
   "outputs": [
    {
     "name": "stdout",
     "output_type": "stream",
     "text": [
      "/Users/ashish1610dhiman/data_projects/bestbuy/notebooks/ashish_validation_train\r\n"
     ]
    }
   ],
   "source": [
    "!pwd"
   ]
  },
  {
   "cell_type": "code",
   "execution_count": 2,
   "id": "23470e15",
   "metadata": {},
   "outputs": [],
   "source": [
    "import pandas as pd\n",
    "import numpy as np\n",
    "import pickle"
   ]
  },
  {
   "cell_type": "code",
   "execution_count": 3,
   "id": "d7c6430a",
   "metadata": {},
   "outputs": [
    {
     "data": {
      "text/plain": [
       "186"
      ]
     },
     "execution_count": 3,
     "metadata": {},
     "output_type": "execute_result"
    }
   ],
   "source": [
    "import os\n",
    "all_results = os.listdir('../../results/hmm_results/')\n",
    "len(all_results)"
   ]
  },
  {
   "cell_type": "markdown",
   "id": "fae27a33",
   "metadata": {},
   "source": [
    "### Read all HMM results"
   ]
  },
  {
   "cell_type": "code",
   "execution_count": 4,
   "id": "3cb2ccc1",
   "metadata": {},
   "outputs": [],
   "source": [
    "df_list = []\n",
    "for file in all_results:\n",
    "    df_file = pd.read_csv(f'../../results/hmm_results/{file}')\n",
    "    df_list.append(df_file)"
   ]
  },
  {
   "cell_type": "code",
   "execution_count": 5,
   "id": "15f74066",
   "metadata": {},
   "outputs": [
    {
     "data": {
      "text/plain": [
       "(1897, 8)"
      ]
     },
     "execution_count": 5,
     "metadata": {},
     "output_type": "execute_result"
    }
   ],
   "source": [
    "hmm_results = pd.concat(df_list)\n",
    "hmm_results.shape"
   ]
  },
  {
   "cell_type": "code",
   "execution_count": 6,
   "id": "d093ae3b",
   "metadata": {},
   "outputs": [
    {
     "data": {
      "text/plain": [
       "215"
      ]
     },
     "execution_count": 6,
     "metadata": {},
     "output_type": "execute_result"
    }
   ],
   "source": [
    "hmm_results[\"Encoded_SKU_ID\"].nunique()"
   ]
  },
  {
   "cell_type": "code",
   "execution_count": 7,
   "id": "c2c585ef",
   "metadata": {},
   "outputs": [
    {
     "data": {
      "text/plain": [
       "215"
      ]
     },
     "execution_count": 7,
     "metadata": {},
     "output_type": "execute_result"
    }
   ],
   "source": [
    "hmm_results[\"Encoded_SKU_ID\"].drop_duplicates().nunique()"
   ]
  },
  {
   "cell_type": "code",
   "execution_count": 8,
   "id": "1383c2e7",
   "metadata": {},
   "outputs": [
    {
     "data": {
      "text/html": [
       "<div>\n",
       "<style scoped>\n",
       "    .dataframe tbody tr th:only-of-type {\n",
       "        vertical-align: middle;\n",
       "    }\n",
       "\n",
       "    .dataframe tbody tr th {\n",
       "        vertical-align: top;\n",
       "    }\n",
       "\n",
       "    .dataframe thead th {\n",
       "        text-align: right;\n",
       "    }\n",
       "</style>\n",
       "<table border=\"1\" class=\"dataframe\">\n",
       "  <thead>\n",
       "    <tr style=\"text-align: right;\">\n",
       "      <th></th>\n",
       "      <th>Unnamed: 0</th>\n",
       "      <th>predicted</th>\n",
       "      <th>predicted_30</th>\n",
       "      <th>predicted_45</th>\n",
       "      <th>predicted_60</th>\n",
       "      <th>predicted_90</th>\n",
       "      <th>predicted_max</th>\n",
       "      <th>Encoded_SKU_ID</th>\n",
       "    </tr>\n",
       "  </thead>\n",
       "  <tbody>\n",
       "    <tr>\n",
       "      <th>0</th>\n",
       "      <td>2022-08-01</td>\n",
       "      <td>0.0</td>\n",
       "      <td>0.0</td>\n",
       "      <td>0.00</td>\n",
       "      <td>2.00</td>\n",
       "      <td>0.00</td>\n",
       "      <td>0.00</td>\n",
       "      <td>312</td>\n",
       "    </tr>\n",
       "    <tr>\n",
       "      <th>1</th>\n",
       "      <td>2022-08-02</td>\n",
       "      <td>2.0</td>\n",
       "      <td>2.0</td>\n",
       "      <td>0.00</td>\n",
       "      <td>0.00</td>\n",
       "      <td>0.00</td>\n",
       "      <td>2.00</td>\n",
       "      <td>312</td>\n",
       "    </tr>\n",
       "    <tr>\n",
       "      <th>2</th>\n",
       "      <td>2022-08-03</td>\n",
       "      <td>2.0</td>\n",
       "      <td>1.0</td>\n",
       "      <td>0.00</td>\n",
       "      <td>1.45</td>\n",
       "      <td>2.55</td>\n",
       "      <td>0.55</td>\n",
       "      <td>312</td>\n",
       "    </tr>\n",
       "    <tr>\n",
       "      <th>3</th>\n",
       "      <td>2022-08-04</td>\n",
       "      <td>3.0</td>\n",
       "      <td>3.0</td>\n",
       "      <td>0.00</td>\n",
       "      <td>2.00</td>\n",
       "      <td>0.00</td>\n",
       "      <td>1.00</td>\n",
       "      <td>312</td>\n",
       "    </tr>\n",
       "    <tr>\n",
       "      <th>4</th>\n",
       "      <td>2022-08-05</td>\n",
       "      <td>2.0</td>\n",
       "      <td>3.0</td>\n",
       "      <td>0.00</td>\n",
       "      <td>0.00</td>\n",
       "      <td>0.00</td>\n",
       "      <td>0.00</td>\n",
       "      <td>312</td>\n",
       "    </tr>\n",
       "    <tr>\n",
       "      <th>...</th>\n",
       "      <td>...</td>\n",
       "      <td>...</td>\n",
       "      <td>...</td>\n",
       "      <td>...</td>\n",
       "      <td>...</td>\n",
       "      <td>...</td>\n",
       "      <td>...</td>\n",
       "      <td>...</td>\n",
       "    </tr>\n",
       "    <tr>\n",
       "      <th>4</th>\n",
       "      <td>2022-08-05</td>\n",
       "      <td>0.0</td>\n",
       "      <td>1.0</td>\n",
       "      <td>0.00</td>\n",
       "      <td>0.00</td>\n",
       "      <td>1.55</td>\n",
       "      <td>2.45</td>\n",
       "      <td>320</td>\n",
       "    </tr>\n",
       "    <tr>\n",
       "      <th>5</th>\n",
       "      <td>2022-08-06</td>\n",
       "      <td>4.0</td>\n",
       "      <td>1.0</td>\n",
       "      <td>1.00</td>\n",
       "      <td>0.45</td>\n",
       "      <td>1.00</td>\n",
       "      <td>1.00</td>\n",
       "      <td>320</td>\n",
       "    </tr>\n",
       "    <tr>\n",
       "      <th>6</th>\n",
       "      <td>2022-08-07</td>\n",
       "      <td>2.0</td>\n",
       "      <td>3.0</td>\n",
       "      <td>0.45</td>\n",
       "      <td>1.00</td>\n",
       "      <td>2.00</td>\n",
       "      <td>0.45</td>\n",
       "      <td>320</td>\n",
       "    </tr>\n",
       "    <tr>\n",
       "      <th>0</th>\n",
       "      <td>2022-08-01</td>\n",
       "      <td>0.0</td>\n",
       "      <td>0.0</td>\n",
       "      <td>0.00</td>\n",
       "      <td>0.00</td>\n",
       "      <td>0.00</td>\n",
       "      <td>0.00</td>\n",
       "      <td>210</td>\n",
       "    </tr>\n",
       "    <tr>\n",
       "      <th>0</th>\n",
       "      <td>2022-08-01</td>\n",
       "      <td>0.0</td>\n",
       "      <td>0.0</td>\n",
       "      <td>0.00</td>\n",
       "      <td>0.00</td>\n",
       "      <td>0.00</td>\n",
       "      <td>0.00</td>\n",
       "      <td>210</td>\n",
       "    </tr>\n",
       "  </tbody>\n",
       "</table>\n",
       "<p>400 rows × 8 columns</p>\n",
       "</div>"
      ],
      "text/plain": [
       "    Unnamed: 0  predicted  predicted_30  predicted_45  predicted_60  \\\n",
       "0   2022-08-01        0.0           0.0          0.00          2.00   \n",
       "1   2022-08-02        2.0           2.0          0.00          0.00   \n",
       "2   2022-08-03        2.0           1.0          0.00          1.45   \n",
       "3   2022-08-04        3.0           3.0          0.00          2.00   \n",
       "4   2022-08-05        2.0           3.0          0.00          0.00   \n",
       "..         ...        ...           ...           ...           ...   \n",
       "4   2022-08-05        0.0           1.0          0.00          0.00   \n",
       "5   2022-08-06        4.0           1.0          1.00          0.45   \n",
       "6   2022-08-07        2.0           3.0          0.45          1.00   \n",
       "0   2022-08-01        0.0           0.0          0.00          0.00   \n",
       "0   2022-08-01        0.0           0.0          0.00          0.00   \n",
       "\n",
       "    predicted_90  predicted_max  Encoded_SKU_ID  \n",
       "0           0.00           0.00             312  \n",
       "1           0.00           2.00             312  \n",
       "2           2.55           0.55             312  \n",
       "3           0.00           1.00             312  \n",
       "4           0.00           0.00             312  \n",
       "..           ...            ...             ...  \n",
       "4           1.55           2.45             320  \n",
       "5           1.00           1.00             320  \n",
       "6           2.00           0.45             320  \n",
       "0           0.00           0.00             210  \n",
       "0           0.00           0.00             210  \n",
       "\n",
       "[400 rows x 8 columns]"
      ]
     },
     "execution_count": 8,
     "metadata": {},
     "output_type": "execute_result"
    }
   ],
   "source": [
    "hmm_results[hmm_results.duplicated(keep=False)]"
   ]
  },
  {
   "cell_type": "code",
   "execution_count": 9,
   "id": "2e135841",
   "metadata": {},
   "outputs": [
    {
     "data": {
      "text/html": [
       "<div>\n",
       "<style scoped>\n",
       "    .dataframe tbody tr th:only-of-type {\n",
       "        vertical-align: middle;\n",
       "    }\n",
       "\n",
       "    .dataframe tbody tr th {\n",
       "        vertical-align: top;\n",
       "    }\n",
       "\n",
       "    .dataframe thead th {\n",
       "        text-align: right;\n",
       "    }\n",
       "</style>\n",
       "<table border=\"1\" class=\"dataframe\">\n",
       "  <thead>\n",
       "    <tr style=\"text-align: right;\">\n",
       "      <th></th>\n",
       "      <th>Unnamed: 0</th>\n",
       "      <th>predicted</th>\n",
       "      <th>predicted_30</th>\n",
       "      <th>predicted_45</th>\n",
       "      <th>predicted_60</th>\n",
       "      <th>predicted_90</th>\n",
       "      <th>predicted_max</th>\n",
       "      <th>Encoded_SKU_ID</th>\n",
       "    </tr>\n",
       "  </thead>\n",
       "  <tbody>\n",
       "    <tr>\n",
       "      <th>0</th>\n",
       "      <td>2022-08-01</td>\n",
       "      <td>0.0</td>\n",
       "      <td>0.0</td>\n",
       "      <td>0.0</td>\n",
       "      <td>2.00</td>\n",
       "      <td>0.00</td>\n",
       "      <td>0.00</td>\n",
       "      <td>312</td>\n",
       "    </tr>\n",
       "    <tr>\n",
       "      <th>126</th>\n",
       "      <td>2022-08-01</td>\n",
       "      <td>0.0</td>\n",
       "      <td>0.0</td>\n",
       "      <td>0.0</td>\n",
       "      <td>2.00</td>\n",
       "      <td>0.00</td>\n",
       "      <td>0.00</td>\n",
       "      <td>312</td>\n",
       "    </tr>\n",
       "    <tr>\n",
       "      <th>1</th>\n",
       "      <td>2022-08-02</td>\n",
       "      <td>2.0</td>\n",
       "      <td>2.0</td>\n",
       "      <td>0.0</td>\n",
       "      <td>0.00</td>\n",
       "      <td>0.00</td>\n",
       "      <td>2.00</td>\n",
       "      <td>312</td>\n",
       "    </tr>\n",
       "    <tr>\n",
       "      <th>127</th>\n",
       "      <td>2022-08-02</td>\n",
       "      <td>2.0</td>\n",
       "      <td>2.0</td>\n",
       "      <td>0.0</td>\n",
       "      <td>0.00</td>\n",
       "      <td>0.00</td>\n",
       "      <td>2.00</td>\n",
       "      <td>312</td>\n",
       "    </tr>\n",
       "    <tr>\n",
       "      <th>2</th>\n",
       "      <td>2022-08-03</td>\n",
       "      <td>2.0</td>\n",
       "      <td>1.0</td>\n",
       "      <td>0.0</td>\n",
       "      <td>1.45</td>\n",
       "      <td>2.55</td>\n",
       "      <td>0.55</td>\n",
       "      <td>312</td>\n",
       "    </tr>\n",
       "    <tr>\n",
       "      <th>128</th>\n",
       "      <td>2022-08-03</td>\n",
       "      <td>2.0</td>\n",
       "      <td>1.0</td>\n",
       "      <td>0.0</td>\n",
       "      <td>1.45</td>\n",
       "      <td>2.55</td>\n",
       "      <td>0.55</td>\n",
       "      <td>312</td>\n",
       "    </tr>\n",
       "    <tr>\n",
       "      <th>3</th>\n",
       "      <td>2022-08-04</td>\n",
       "      <td>3.0</td>\n",
       "      <td>3.0</td>\n",
       "      <td>0.0</td>\n",
       "      <td>2.00</td>\n",
       "      <td>0.00</td>\n",
       "      <td>1.00</td>\n",
       "      <td>312</td>\n",
       "    </tr>\n",
       "    <tr>\n",
       "      <th>129</th>\n",
       "      <td>2022-08-04</td>\n",
       "      <td>3.0</td>\n",
       "      <td>3.0</td>\n",
       "      <td>0.0</td>\n",
       "      <td>2.00</td>\n",
       "      <td>0.00</td>\n",
       "      <td>1.00</td>\n",
       "      <td>312</td>\n",
       "    </tr>\n",
       "    <tr>\n",
       "      <th>4</th>\n",
       "      <td>2022-08-05</td>\n",
       "      <td>2.0</td>\n",
       "      <td>3.0</td>\n",
       "      <td>0.0</td>\n",
       "      <td>0.00</td>\n",
       "      <td>0.00</td>\n",
       "      <td>0.00</td>\n",
       "      <td>312</td>\n",
       "    </tr>\n",
       "    <tr>\n",
       "      <th>130</th>\n",
       "      <td>2022-08-05</td>\n",
       "      <td>2.0</td>\n",
       "      <td>3.0</td>\n",
       "      <td>0.0</td>\n",
       "      <td>0.00</td>\n",
       "      <td>0.00</td>\n",
       "      <td>0.00</td>\n",
       "      <td>312</td>\n",
       "    </tr>\n",
       "    <tr>\n",
       "      <th>5</th>\n",
       "      <td>2022-08-06</td>\n",
       "      <td>2.0</td>\n",
       "      <td>3.0</td>\n",
       "      <td>1.0</td>\n",
       "      <td>0.00</td>\n",
       "      <td>0.00</td>\n",
       "      <td>1.00</td>\n",
       "      <td>312</td>\n",
       "    </tr>\n",
       "    <tr>\n",
       "      <th>131</th>\n",
       "      <td>2022-08-06</td>\n",
       "      <td>2.0</td>\n",
       "      <td>3.0</td>\n",
       "      <td>1.0</td>\n",
       "      <td>0.00</td>\n",
       "      <td>0.00</td>\n",
       "      <td>1.00</td>\n",
       "      <td>312</td>\n",
       "    </tr>\n",
       "    <tr>\n",
       "      <th>6</th>\n",
       "      <td>2022-08-07</td>\n",
       "      <td>3.0</td>\n",
       "      <td>3.0</td>\n",
       "      <td>2.0</td>\n",
       "      <td>2.00</td>\n",
       "      <td>0.00</td>\n",
       "      <td>0.00</td>\n",
       "      <td>312</td>\n",
       "    </tr>\n",
       "    <tr>\n",
       "      <th>132</th>\n",
       "      <td>2022-08-07</td>\n",
       "      <td>3.0</td>\n",
       "      <td>3.0</td>\n",
       "      <td>2.0</td>\n",
       "      <td>2.00</td>\n",
       "      <td>0.00</td>\n",
       "      <td>0.00</td>\n",
       "      <td>312</td>\n",
       "    </tr>\n",
       "  </tbody>\n",
       "</table>\n",
       "</div>"
      ],
      "text/plain": [
       "     Unnamed: 0  predicted  predicted_30  predicted_45  predicted_60  \\\n",
       "0    2022-08-01        0.0           0.0           0.0          2.00   \n",
       "126  2022-08-01        0.0           0.0           0.0          2.00   \n",
       "1    2022-08-02        2.0           2.0           0.0          0.00   \n",
       "127  2022-08-02        2.0           2.0           0.0          0.00   \n",
       "2    2022-08-03        2.0           1.0           0.0          1.45   \n",
       "128  2022-08-03        2.0           1.0           0.0          1.45   \n",
       "3    2022-08-04        3.0           3.0           0.0          2.00   \n",
       "129  2022-08-04        3.0           3.0           0.0          2.00   \n",
       "4    2022-08-05        2.0           3.0           0.0          0.00   \n",
       "130  2022-08-05        2.0           3.0           0.0          0.00   \n",
       "5    2022-08-06        2.0           3.0           1.0          0.00   \n",
       "131  2022-08-06        2.0           3.0           1.0          0.00   \n",
       "6    2022-08-07        3.0           3.0           2.0          2.00   \n",
       "132  2022-08-07        3.0           3.0           2.0          2.00   \n",
       "\n",
       "     predicted_90  predicted_max  Encoded_SKU_ID  \n",
       "0            0.00           0.00             312  \n",
       "126          0.00           0.00             312  \n",
       "1            0.00           2.00             312  \n",
       "127          0.00           2.00             312  \n",
       "2            2.55           0.55             312  \n",
       "128          2.55           0.55             312  \n",
       "3            0.00           1.00             312  \n",
       "129          0.00           1.00             312  \n",
       "4            0.00           0.00             312  \n",
       "130          0.00           0.00             312  \n",
       "5            0.00           1.00             312  \n",
       "131          0.00           1.00             312  \n",
       "6            0.00           0.00             312  \n",
       "132          0.00           0.00             312  "
      ]
     },
     "execution_count": 9,
     "metadata": {},
     "output_type": "execute_result"
    }
   ],
   "source": [
    "hmm_results[hmm_results.Encoded_SKU_ID==312].sort_values(by=[\"Unnamed: 0\"])"
   ]
  },
  {
   "cell_type": "markdown",
   "id": "a848804c",
   "metadata": {},
   "source": [
    "### List of SKU's not done yet"
   ]
  },
  {
   "cell_type": "code",
   "execution_count": 10,
   "id": "a8d4a0af",
   "metadata": {},
   "outputs": [],
   "source": [
    "with open('../../results/final_sku_model_map.pkl', 'rb') as handle:\n",
    "    sku_period_dict1 = pickle.load(handle)\n",
    "    \n",
    "hmm_keys = ['rmse_du_15', 'rmse_du_30', 'rmse_du_45', 'rmse_du_60', 'rmse_du_90', 'rmse_du_max']\n",
    "import itertools\n",
    "hmm_skus = [sku_period_dict1[sub_model] for sub_model in hmm_keys]\n",
    "hmm_skus = list(itertools.chain.from_iterable(hmm_skus))\n",
    "\n",
    "hmm_skus = list(set(hmm_skus))"
   ]
  },
  {
   "cell_type": "code",
   "execution_count": 11,
   "id": "fdfaeb65",
   "metadata": {},
   "outputs": [],
   "source": [
    "completed_skus = hmm_results[\"Encoded_SKU_ID\"].unique()"
   ]
  },
  {
   "cell_type": "code",
   "execution_count": 12,
   "id": "a562f961",
   "metadata": {},
   "outputs": [
    {
     "data": {
      "text/plain": [
       "76"
      ]
     },
     "execution_count": 12,
     "metadata": {},
     "output_type": "execute_result"
    }
   ],
   "source": [
    "remaining_skus = set(hmm_skus) - set(completed_skus)\n",
    "len(remaining_skus)"
   ]
  },
  {
   "cell_type": "code",
   "execution_count": 13,
   "id": "c7acd362",
   "metadata": {},
   "outputs": [],
   "source": [
    "def ad_set(x):\n",
    "    check = x.split(\"hmm_result_final_\")[1].split(\"_\")\n",
    "    if len(check)>3:\n",
    "        return (\"_\".join(check[1:]).replace(\".csv\",\"\"))\n",
    "    else:\n",
    "        return (\"_\".join(check).replace(\".csv\",\"\"))"
   ]
  },
  {
   "cell_type": "code",
   "execution_count": 14,
   "id": "3cd8faec",
   "metadata": {},
   "outputs": [
    {
     "data": {
      "text/plain": [
       "{'100_final1',\n",
       " '100_to_200',\n",
       " '106_final1',\n",
       " '113_final1',\n",
       " '118_final1',\n",
       " '119_final1',\n",
       " '120_final1',\n",
       " '125_to_150',\n",
       " '175_to_200',\n",
       " '17_final1',\n",
       " '1_to_100',\n",
       " '250_to_275',\n",
       " '300_to_400',\n",
       " '33_final1',\n",
       " '38_final1',\n",
       " '50_to_100',\n",
       " '89_final1',\n",
       " '98_final1'}"
      ]
     },
     "execution_count": 14,
     "metadata": {},
     "output_type": "execute_result"
    }
   ],
   "source": [
    "set(map(ad_set,all_results))"
   ]
  },
  {
   "cell_type": "markdown",
   "id": "9421baee",
   "metadata": {},
   "source": [
    "### Clean up results"
   ]
  },
  {
   "cell_type": "code",
   "execution_count": 15,
   "id": "08c4c689",
   "metadata": {},
   "outputs": [],
   "source": [
    "VERSION = \"all2\"\n",
    "hmm_results.drop_duplicates().rename(columns={\"Unnamed: 0\":\"SALES_DATE\"}\\\n",
    "                                    ).to_csv(f\"../../results/hmm_result_final_{VERSION}.csv\")"
   ]
  },
  {
   "cell_type": "code",
   "execution_count": 16,
   "id": "6611cc6b",
   "metadata": {},
   "outputs": [],
   "source": [
    "hmm_results = hmm_results.loc[hmm_results[\"Encoded_SKU_ID\"].isin(hmm_skus)\\\n",
    "                             ].drop_duplicates().rename(columns={\"Unnamed: 0\":\"SALES_DATE\"})"
   ]
  },
  {
   "cell_type": "code",
   "execution_count": 17,
   "id": "357f6872",
   "metadata": {},
   "outputs": [],
   "source": [
    "VERSION = \"all\"\n",
    "hmm_results.to_csv(f\"../../results/hmm_result_final_{VERSION}.csv\")"
   ]
  }
 ],
 "metadata": {
  "kernelspec": {
   "display_name": "Python 3 (ipykernel)",
   "language": "python",
   "name": "python3"
  },
  "language_info": {
   "codemirror_mode": {
    "name": "ipython",
    "version": 3
   },
   "file_extension": ".py",
   "mimetype": "text/x-python",
   "name": "python",
   "nbconvert_exporter": "python",
   "pygments_lexer": "ipython3",
   "version": "3.9.15"
  }
 },
 "nbformat": 4,
 "nbformat_minor": 5
}
