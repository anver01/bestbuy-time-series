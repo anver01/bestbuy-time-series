{
 "cells": [
  {
   "cell_type": "code",
   "execution_count": 1,
   "id": "143a6cc9",
   "metadata": {},
   "outputs": [
    {
     "name": "stdout",
     "output_type": "stream",
     "text": [
      "/Users/ashish1610dhiman/data_projects/bestbuy/notebooks/ashish_validation_train\r\n"
     ]
    }
   ],
   "source": [
    "!pwd"
   ]
  },
  {
   "cell_type": "code",
   "execution_count": 39,
   "id": "9dd41b17",
   "metadata": {},
   "outputs": [],
   "source": [
    "import pandas as pd\n",
    "import numpy as np\n",
    "import pickle"
   ]
  },
  {
   "cell_type": "code",
   "execution_count": 6,
   "id": "3f1d369c",
   "metadata": {},
   "outputs": [
    {
     "data": {
      "text/plain": [
       "175"
      ]
     },
     "execution_count": 6,
     "metadata": {},
     "output_type": "execute_result"
    }
   ],
   "source": [
    "import os\n",
    "all_results = os.listdir('../../results/hmm_results/')\n",
    "len(all_results)"
   ]
  },
  {
   "cell_type": "markdown",
   "id": "63bd239c",
   "metadata": {},
   "source": [
    "### Read all HMM results"
   ]
  },
  {
   "cell_type": "code",
   "execution_count": 31,
   "id": "a0e46319",
   "metadata": {},
   "outputs": [],
   "source": [
    "df_list = []\n",
    "for file in all_results:\n",
    "    df_file = pd.read_csv(f'../../results/hmm_results/{file}')\n",
    "    df_list.append(df_file)"
   ]
  },
  {
   "cell_type": "code",
   "execution_count": 32,
   "id": "2e18c34a",
   "metadata": {},
   "outputs": [
    {
     "data": {
      "text/plain": [
       "(1820, 8)"
      ]
     },
     "execution_count": 32,
     "metadata": {},
     "output_type": "execute_result"
    }
   ],
   "source": [
    "hmm_results = pd.concat(df_list)\n",
    "hmm_results.shape"
   ]
  },
  {
   "cell_type": "code",
   "execution_count": 33,
   "id": "ef29ef29",
   "metadata": {},
   "outputs": [
    {
     "data": {
      "text/plain": [
       "204"
      ]
     },
     "execution_count": 33,
     "metadata": {},
     "output_type": "execute_result"
    }
   ],
   "source": [
    "hmm_results[\"Encoded_SKU_ID\"].nunique()"
   ]
  },
  {
   "cell_type": "code",
   "execution_count": 34,
   "id": "5c6daebf",
   "metadata": {},
   "outputs": [
    {
     "data": {
      "text/plain": [
       "204"
      ]
     },
     "execution_count": 34,
     "metadata": {},
     "output_type": "execute_result"
    }
   ],
   "source": [
    "hmm_results[\"Encoded_SKU_ID\"].drop_duplicates().nunique()"
   ]
  },
  {
   "cell_type": "code",
   "execution_count": 35,
   "id": "8c4609fa",
   "metadata": {},
   "outputs": [
    {
     "data": {
      "text/html": [
       "<div>\n",
       "<style scoped>\n",
       "    .dataframe tbody tr th:only-of-type {\n",
       "        vertical-align: middle;\n",
       "    }\n",
       "\n",
       "    .dataframe tbody tr th {\n",
       "        vertical-align: top;\n",
       "    }\n",
       "\n",
       "    .dataframe thead th {\n",
       "        text-align: right;\n",
       "    }\n",
       "</style>\n",
       "<table border=\"1\" class=\"dataframe\">\n",
       "  <thead>\n",
       "    <tr style=\"text-align: right;\">\n",
       "      <th></th>\n",
       "      <th>Unnamed: 0</th>\n",
       "      <th>predicted</th>\n",
       "      <th>predicted_30</th>\n",
       "      <th>predicted_45</th>\n",
       "      <th>predicted_60</th>\n",
       "      <th>predicted_90</th>\n",
       "      <th>predicted_max</th>\n",
       "      <th>Encoded_SKU_ID</th>\n",
       "    </tr>\n",
       "  </thead>\n",
       "  <tbody>\n",
       "    <tr>\n",
       "      <th>0</th>\n",
       "      <td>2022-08-01</td>\n",
       "      <td>0.0</td>\n",
       "      <td>0.0</td>\n",
       "      <td>0.00</td>\n",
       "      <td>2.00</td>\n",
       "      <td>0.00</td>\n",
       "      <td>0.00</td>\n",
       "      <td>312</td>\n",
       "    </tr>\n",
       "    <tr>\n",
       "      <th>1</th>\n",
       "      <td>2022-08-02</td>\n",
       "      <td>2.0</td>\n",
       "      <td>2.0</td>\n",
       "      <td>0.00</td>\n",
       "      <td>0.00</td>\n",
       "      <td>0.00</td>\n",
       "      <td>2.00</td>\n",
       "      <td>312</td>\n",
       "    </tr>\n",
       "    <tr>\n",
       "      <th>2</th>\n",
       "      <td>2022-08-03</td>\n",
       "      <td>2.0</td>\n",
       "      <td>1.0</td>\n",
       "      <td>0.00</td>\n",
       "      <td>1.45</td>\n",
       "      <td>2.55</td>\n",
       "      <td>0.55</td>\n",
       "      <td>312</td>\n",
       "    </tr>\n",
       "    <tr>\n",
       "      <th>3</th>\n",
       "      <td>2022-08-04</td>\n",
       "      <td>3.0</td>\n",
       "      <td>3.0</td>\n",
       "      <td>0.00</td>\n",
       "      <td>2.00</td>\n",
       "      <td>0.00</td>\n",
       "      <td>1.00</td>\n",
       "      <td>312</td>\n",
       "    </tr>\n",
       "    <tr>\n",
       "      <th>4</th>\n",
       "      <td>2022-08-05</td>\n",
       "      <td>2.0</td>\n",
       "      <td>3.0</td>\n",
       "      <td>0.00</td>\n",
       "      <td>0.00</td>\n",
       "      <td>0.00</td>\n",
       "      <td>0.00</td>\n",
       "      <td>312</td>\n",
       "    </tr>\n",
       "    <tr>\n",
       "      <th>...</th>\n",
       "      <td>...</td>\n",
       "      <td>...</td>\n",
       "      <td>...</td>\n",
       "      <td>...</td>\n",
       "      <td>...</td>\n",
       "      <td>...</td>\n",
       "      <td>...</td>\n",
       "      <td>...</td>\n",
       "    </tr>\n",
       "    <tr>\n",
       "      <th>4</th>\n",
       "      <td>2022-08-05</td>\n",
       "      <td>0.0</td>\n",
       "      <td>1.0</td>\n",
       "      <td>0.00</td>\n",
       "      <td>0.00</td>\n",
       "      <td>1.55</td>\n",
       "      <td>2.45</td>\n",
       "      <td>320</td>\n",
       "    </tr>\n",
       "    <tr>\n",
       "      <th>5</th>\n",
       "      <td>2022-08-06</td>\n",
       "      <td>4.0</td>\n",
       "      <td>1.0</td>\n",
       "      <td>1.00</td>\n",
       "      <td>0.45</td>\n",
       "      <td>1.00</td>\n",
       "      <td>1.00</td>\n",
       "      <td>320</td>\n",
       "    </tr>\n",
       "    <tr>\n",
       "      <th>6</th>\n",
       "      <td>2022-08-07</td>\n",
       "      <td>2.0</td>\n",
       "      <td>3.0</td>\n",
       "      <td>0.45</td>\n",
       "      <td>1.00</td>\n",
       "      <td>2.00</td>\n",
       "      <td>0.45</td>\n",
       "      <td>320</td>\n",
       "    </tr>\n",
       "    <tr>\n",
       "      <th>0</th>\n",
       "      <td>2022-08-01</td>\n",
       "      <td>0.0</td>\n",
       "      <td>0.0</td>\n",
       "      <td>0.00</td>\n",
       "      <td>0.00</td>\n",
       "      <td>0.00</td>\n",
       "      <td>0.00</td>\n",
       "      <td>210</td>\n",
       "    </tr>\n",
       "    <tr>\n",
       "      <th>0</th>\n",
       "      <td>2022-08-01</td>\n",
       "      <td>0.0</td>\n",
       "      <td>0.0</td>\n",
       "      <td>0.00</td>\n",
       "      <td>0.00</td>\n",
       "      <td>0.00</td>\n",
       "      <td>0.00</td>\n",
       "      <td>210</td>\n",
       "    </tr>\n",
       "  </tbody>\n",
       "</table>\n",
       "<p>400 rows × 8 columns</p>\n",
       "</div>"
      ],
      "text/plain": [
       "    Unnamed: 0  predicted  predicted_30  predicted_45  predicted_60  \\\n",
       "0   2022-08-01        0.0           0.0          0.00          2.00   \n",
       "1   2022-08-02        2.0           2.0          0.00          0.00   \n",
       "2   2022-08-03        2.0           1.0          0.00          1.45   \n",
       "3   2022-08-04        3.0           3.0          0.00          2.00   \n",
       "4   2022-08-05        2.0           3.0          0.00          0.00   \n",
       "..         ...        ...           ...           ...           ...   \n",
       "4   2022-08-05        0.0           1.0          0.00          0.00   \n",
       "5   2022-08-06        4.0           1.0          1.00          0.45   \n",
       "6   2022-08-07        2.0           3.0          0.45          1.00   \n",
       "0   2022-08-01        0.0           0.0          0.00          0.00   \n",
       "0   2022-08-01        0.0           0.0          0.00          0.00   \n",
       "\n",
       "    predicted_90  predicted_max  Encoded_SKU_ID  \n",
       "0           0.00           0.00             312  \n",
       "1           0.00           2.00             312  \n",
       "2           2.55           0.55             312  \n",
       "3           0.00           1.00             312  \n",
       "4           0.00           0.00             312  \n",
       "..           ...            ...             ...  \n",
       "4           1.55           2.45             320  \n",
       "5           1.00           1.00             320  \n",
       "6           2.00           0.45             320  \n",
       "0           0.00           0.00             210  \n",
       "0           0.00           0.00             210  \n",
       "\n",
       "[400 rows x 8 columns]"
      ]
     },
     "execution_count": 35,
     "metadata": {},
     "output_type": "execute_result"
    }
   ],
   "source": [
    "hmm_results[hmm_results.duplicated(keep=False)]"
   ]
  },
  {
   "cell_type": "code",
   "execution_count": 37,
   "id": "a199f616",
   "metadata": {},
   "outputs": [
    {
     "data": {
      "text/html": [
       "<div>\n",
       "<style scoped>\n",
       "    .dataframe tbody tr th:only-of-type {\n",
       "        vertical-align: middle;\n",
       "    }\n",
       "\n",
       "    .dataframe tbody tr th {\n",
       "        vertical-align: top;\n",
       "    }\n",
       "\n",
       "    .dataframe thead th {\n",
       "        text-align: right;\n",
       "    }\n",
       "</style>\n",
       "<table border=\"1\" class=\"dataframe\">\n",
       "  <thead>\n",
       "    <tr style=\"text-align: right;\">\n",
       "      <th></th>\n",
       "      <th>Unnamed: 0</th>\n",
       "      <th>predicted</th>\n",
       "      <th>predicted_30</th>\n",
       "      <th>predicted_45</th>\n",
       "      <th>predicted_60</th>\n",
       "      <th>predicted_90</th>\n",
       "      <th>predicted_max</th>\n",
       "      <th>Encoded_SKU_ID</th>\n",
       "    </tr>\n",
       "  </thead>\n",
       "  <tbody>\n",
       "    <tr>\n",
       "      <th>0</th>\n",
       "      <td>2022-08-01</td>\n",
       "      <td>0.0</td>\n",
       "      <td>0.0</td>\n",
       "      <td>0.0</td>\n",
       "      <td>2.00</td>\n",
       "      <td>0.00</td>\n",
       "      <td>0.00</td>\n",
       "      <td>312</td>\n",
       "    </tr>\n",
       "    <tr>\n",
       "      <th>126</th>\n",
       "      <td>2022-08-01</td>\n",
       "      <td>0.0</td>\n",
       "      <td>0.0</td>\n",
       "      <td>0.0</td>\n",
       "      <td>2.00</td>\n",
       "      <td>0.00</td>\n",
       "      <td>0.00</td>\n",
       "      <td>312</td>\n",
       "    </tr>\n",
       "    <tr>\n",
       "      <th>1</th>\n",
       "      <td>2022-08-02</td>\n",
       "      <td>2.0</td>\n",
       "      <td>2.0</td>\n",
       "      <td>0.0</td>\n",
       "      <td>0.00</td>\n",
       "      <td>0.00</td>\n",
       "      <td>2.00</td>\n",
       "      <td>312</td>\n",
       "    </tr>\n",
       "    <tr>\n",
       "      <th>127</th>\n",
       "      <td>2022-08-02</td>\n",
       "      <td>2.0</td>\n",
       "      <td>2.0</td>\n",
       "      <td>0.0</td>\n",
       "      <td>0.00</td>\n",
       "      <td>0.00</td>\n",
       "      <td>2.00</td>\n",
       "      <td>312</td>\n",
       "    </tr>\n",
       "    <tr>\n",
       "      <th>2</th>\n",
       "      <td>2022-08-03</td>\n",
       "      <td>2.0</td>\n",
       "      <td>1.0</td>\n",
       "      <td>0.0</td>\n",
       "      <td>1.45</td>\n",
       "      <td>2.55</td>\n",
       "      <td>0.55</td>\n",
       "      <td>312</td>\n",
       "    </tr>\n",
       "    <tr>\n",
       "      <th>128</th>\n",
       "      <td>2022-08-03</td>\n",
       "      <td>2.0</td>\n",
       "      <td>1.0</td>\n",
       "      <td>0.0</td>\n",
       "      <td>1.45</td>\n",
       "      <td>2.55</td>\n",
       "      <td>0.55</td>\n",
       "      <td>312</td>\n",
       "    </tr>\n",
       "    <tr>\n",
       "      <th>3</th>\n",
       "      <td>2022-08-04</td>\n",
       "      <td>3.0</td>\n",
       "      <td>3.0</td>\n",
       "      <td>0.0</td>\n",
       "      <td>2.00</td>\n",
       "      <td>0.00</td>\n",
       "      <td>1.00</td>\n",
       "      <td>312</td>\n",
       "    </tr>\n",
       "    <tr>\n",
       "      <th>129</th>\n",
       "      <td>2022-08-04</td>\n",
       "      <td>3.0</td>\n",
       "      <td>3.0</td>\n",
       "      <td>0.0</td>\n",
       "      <td>2.00</td>\n",
       "      <td>0.00</td>\n",
       "      <td>1.00</td>\n",
       "      <td>312</td>\n",
       "    </tr>\n",
       "    <tr>\n",
       "      <th>4</th>\n",
       "      <td>2022-08-05</td>\n",
       "      <td>2.0</td>\n",
       "      <td>3.0</td>\n",
       "      <td>0.0</td>\n",
       "      <td>0.00</td>\n",
       "      <td>0.00</td>\n",
       "      <td>0.00</td>\n",
       "      <td>312</td>\n",
       "    </tr>\n",
       "    <tr>\n",
       "      <th>130</th>\n",
       "      <td>2022-08-05</td>\n",
       "      <td>2.0</td>\n",
       "      <td>3.0</td>\n",
       "      <td>0.0</td>\n",
       "      <td>0.00</td>\n",
       "      <td>0.00</td>\n",
       "      <td>0.00</td>\n",
       "      <td>312</td>\n",
       "    </tr>\n",
       "    <tr>\n",
       "      <th>5</th>\n",
       "      <td>2022-08-06</td>\n",
       "      <td>2.0</td>\n",
       "      <td>3.0</td>\n",
       "      <td>1.0</td>\n",
       "      <td>0.00</td>\n",
       "      <td>0.00</td>\n",
       "      <td>1.00</td>\n",
       "      <td>312</td>\n",
       "    </tr>\n",
       "    <tr>\n",
       "      <th>131</th>\n",
       "      <td>2022-08-06</td>\n",
       "      <td>2.0</td>\n",
       "      <td>3.0</td>\n",
       "      <td>1.0</td>\n",
       "      <td>0.00</td>\n",
       "      <td>0.00</td>\n",
       "      <td>1.00</td>\n",
       "      <td>312</td>\n",
       "    </tr>\n",
       "    <tr>\n",
       "      <th>6</th>\n",
       "      <td>2022-08-07</td>\n",
       "      <td>3.0</td>\n",
       "      <td>3.0</td>\n",
       "      <td>2.0</td>\n",
       "      <td>2.00</td>\n",
       "      <td>0.00</td>\n",
       "      <td>0.00</td>\n",
       "      <td>312</td>\n",
       "    </tr>\n",
       "    <tr>\n",
       "      <th>132</th>\n",
       "      <td>2022-08-07</td>\n",
       "      <td>3.0</td>\n",
       "      <td>3.0</td>\n",
       "      <td>2.0</td>\n",
       "      <td>2.00</td>\n",
       "      <td>0.00</td>\n",
       "      <td>0.00</td>\n",
       "      <td>312</td>\n",
       "    </tr>\n",
       "  </tbody>\n",
       "</table>\n",
       "</div>"
      ],
      "text/plain": [
       "     Unnamed: 0  predicted  predicted_30  predicted_45  predicted_60  \\\n",
       "0    2022-08-01        0.0           0.0           0.0          2.00   \n",
       "126  2022-08-01        0.0           0.0           0.0          2.00   \n",
       "1    2022-08-02        2.0           2.0           0.0          0.00   \n",
       "127  2022-08-02        2.0           2.0           0.0          0.00   \n",
       "2    2022-08-03        2.0           1.0           0.0          1.45   \n",
       "128  2022-08-03        2.0           1.0           0.0          1.45   \n",
       "3    2022-08-04        3.0           3.0           0.0          2.00   \n",
       "129  2022-08-04        3.0           3.0           0.0          2.00   \n",
       "4    2022-08-05        2.0           3.0           0.0          0.00   \n",
       "130  2022-08-05        2.0           3.0           0.0          0.00   \n",
       "5    2022-08-06        2.0           3.0           1.0          0.00   \n",
       "131  2022-08-06        2.0           3.0           1.0          0.00   \n",
       "6    2022-08-07        3.0           3.0           2.0          2.00   \n",
       "132  2022-08-07        3.0           3.0           2.0          2.00   \n",
       "\n",
       "     predicted_90  predicted_max  Encoded_SKU_ID  \n",
       "0            0.00           0.00             312  \n",
       "126          0.00           0.00             312  \n",
       "1            0.00           2.00             312  \n",
       "127          0.00           2.00             312  \n",
       "2            2.55           0.55             312  \n",
       "128          2.55           0.55             312  \n",
       "3            0.00           1.00             312  \n",
       "129          0.00           1.00             312  \n",
       "4            0.00           0.00             312  \n",
       "130          0.00           0.00             312  \n",
       "5            0.00           1.00             312  \n",
       "131          0.00           1.00             312  \n",
       "6            0.00           0.00             312  \n",
       "132          0.00           0.00             312  "
      ]
     },
     "execution_count": 37,
     "metadata": {},
     "output_type": "execute_result"
    }
   ],
   "source": [
    "hmm_results[hmm_results.Encoded_SKU_ID==312].sort_values(by=[\"Unnamed: 0\"])"
   ]
  },
  {
   "cell_type": "markdown",
   "id": "9a941b7d",
   "metadata": {},
   "source": [
    "### List of SKU's not done yet"
   ]
  },
  {
   "cell_type": "code",
   "execution_count": 40,
   "id": "b023d910",
   "metadata": {},
   "outputs": [],
   "source": [
    "with open('../../results/final_sku_model_map.pkl', 'rb') as handle:\n",
    "    sku_period_dict1 = pickle.load(handle)\n",
    "    \n",
    "hmm_keys = ['rmse_du_15', 'rmse_du_30', 'rmse_du_45', 'rmse_du_60', 'rmse_du_90', 'rmse_du_max']\n",
    "import itertools\n",
    "hmm_skus = [sku_period_dict1[sub_model] for sub_model in hmm_keys]\n",
    "hmm_skus = list(itertools.chain.from_iterable(hmm_skus))\n",
    "\n",
    "hmm_skus = list(set(hmm_skus))"
   ]
  },
  {
   "cell_type": "code",
   "execution_count": 42,
   "id": "37ef2022",
   "metadata": {},
   "outputs": [],
   "source": [
    "completed_skus = hmm_results[\"Encoded_SKU_ID\"].unique()"
   ]
  },
  {
   "cell_type": "code",
   "execution_count": 43,
   "id": "dc6fcba7",
   "metadata": {},
   "outputs": [
    {
     "data": {
      "text/plain": [
       "158"
      ]
     },
     "execution_count": 43,
     "metadata": {},
     "output_type": "execute_result"
    }
   ],
   "source": [
    "remaining_skus = set(hmm_skus) - set(completed_skus)\n",
    "len(remaining_skus)"
   ]
  },
  {
   "cell_type": "code",
   "execution_count": 58,
   "id": "5b68b556",
   "metadata": {},
   "outputs": [],
   "source": [
    "def ad_set(x):\n",
    "    check = x.split(\"hmm_result_final_\")[1].split(\"_\")\n",
    "    if len(check)>3:\n",
    "        return (\"_\".join(check[1:]).replace(\".csv\",\"\"))\n",
    "    else:\n",
    "        return (\"_\".join(check).replace(\".csv\",\"\"))"
   ]
  },
  {
   "cell_type": "code",
   "execution_count": 59,
   "id": "5e765f1f",
   "metadata": {},
   "outputs": [
    {
     "data": {
      "text/plain": [
       "{'100_to_200',\n",
       " '125_to_150',\n",
       " '175_to_200',\n",
       " '1_to_100',\n",
       " '250_to_275',\n",
       " '300_to_400',\n",
       " '50_to_100'}"
      ]
     },
     "execution_count": 59,
     "metadata": {},
     "output_type": "execute_result"
    }
   ],
   "source": [
    "set(map(ad_set,all_results))"
   ]
  },
  {
   "cell_type": "markdown",
   "id": "d9bd2ab3",
   "metadata": {},
   "source": [
    "### Clean up results"
   ]
  },
  {
   "cell_type": "code",
   "execution_count": 65,
   "id": "ac863464",
   "metadata": {},
   "outputs": [],
   "source": [
    "hmm_results = hmm_results.drop_duplicates().rename(columns={\"Unnamed: 0\":\"SALES_DATE\"})"
   ]
  },
  {
   "cell_type": "code",
   "execution_count": 66,
   "id": "1d0e0be1",
   "metadata": {},
   "outputs": [],
   "source": [
    "VERSION = \"all\"\n",
    "hmm_results.to_csv(f\"../../results/hmm_result_final_{VERSION}.csv\")"
   ]
  }
 ],
 "metadata": {
  "kernelspec": {
   "display_name": "Python 3 (ipykernel)",
   "language": "python",
   "name": "python3"
  },
  "language_info": {
   "codemirror_mode": {
    "name": "ipython",
    "version": 3
   },
   "file_extension": ".py",
   "mimetype": "text/x-python",
   "name": "python",
   "nbconvert_exporter": "python",
   "pygments_lexer": "ipython3",
   "version": "3.9.15"
  }
 },
 "nbformat": 4,
 "nbformat_minor": 5
}
