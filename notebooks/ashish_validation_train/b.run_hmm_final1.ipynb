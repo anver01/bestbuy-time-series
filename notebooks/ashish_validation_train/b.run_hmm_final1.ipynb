{
 "cells": [
  {
   "cell_type": "code",
   "execution_count": 1,
   "id": "1fb27ecf",
   "metadata": {},
   "outputs": [
    {
     "name": "stdout",
     "output_type": "stream",
     "text": [
      "/Users/ashish1610dhiman/data_projects/bestbuy/notebooks/ashish_validation_train\r\n"
     ]
    }
   ],
   "source": [
    "!pwd"
   ]
  },
  {
   "cell_type": "code",
   "execution_count": 2,
   "id": "f0ab3c3d",
   "metadata": {},
   "outputs": [],
   "source": [
    "import sys\n",
    "import matplotlib\n",
    "import numpy as np\n",
    "import pandas as pd\n",
    "import matplotlib.pyplot as plt\n",
    "import datetime\n",
    "\n",
    "sys.version\n",
    "\n",
    "sys.path.append(\"../../\")\n",
    "\n",
    "from src.ad_hmm import sku_predict\n",
    "# from src.ad_stl_model import stl_model\n",
    "from src.utils import *\n",
    "import pickle"
   ]
  },
  {
   "cell_type": "code",
   "execution_count": 3,
   "id": "25e48dfb",
   "metadata": {},
   "outputs": [],
   "source": [
    "%load_ext autoreload \n",
    "%autoreload "
   ]
  },
  {
   "cell_type": "code",
   "execution_count": 4,
   "id": "514311a7",
   "metadata": {},
   "outputs": [],
   "source": [
    "VERSION = \"final1\""
   ]
  },
  {
   "cell_type": "markdown",
   "id": "5db032a9",
   "metadata": {},
   "source": [
    "### Get all HMM SKU's"
   ]
  },
  {
   "cell_type": "code",
   "execution_count": 5,
   "id": "28198ec5",
   "metadata": {},
   "outputs": [],
   "source": [
    "with open('../../results/final_sku_model_map.pkl', 'rb') as handle:\n",
    "    sku_period_dict1 = pickle.load(handle)"
   ]
  },
  {
   "cell_type": "code",
   "execution_count": 6,
   "id": "7907ee25",
   "metadata": {},
   "outputs": [
    {
     "data": {
      "text/plain": [
       "dict_keys(['rmse_du_15', 'rmse_du_30', 'rmse_du_45', 'rmse_du_60', 'rmse_du_90', 'rmse_du_MSTL', 'rmse_du_STL', 'rmse_du_holt', 'rmse_du_max', 'rmse_du_null', 'rmse_du_prophet'])"
      ]
     },
     "execution_count": 6,
     "metadata": {},
     "output_type": "execute_result"
    }
   ],
   "source": [
    "sku_period_dict1.keys()"
   ]
  },
  {
   "cell_type": "code",
   "execution_count": 7,
   "id": "3d1ae1f9",
   "metadata": {},
   "outputs": [],
   "source": [
    "hmm_keys = ['rmse_du_15', 'rmse_du_30', 'rmse_du_45', 'rmse_du_60', 'rmse_du_90', 'rmse_du_max']"
   ]
  },
  {
   "cell_type": "code",
   "execution_count": 8,
   "id": "496ba482",
   "metadata": {},
   "outputs": [],
   "source": [
    "import itertools\n",
    "hmm_skus = [sku_period_dict1[sub_model] for sub_model in hmm_keys]\n",
    "hmm_skus = list(itertools.chain.from_iterable(hmm_skus))"
   ]
  },
  {
   "cell_type": "code",
   "execution_count": 9,
   "id": "fe7d2c48",
   "metadata": {},
   "outputs": [
    {
     "data": {
      "text/plain": [
       "(228, 193)"
      ]
     },
     "execution_count": 9,
     "metadata": {},
     "output_type": "execute_result"
    }
   ],
   "source": [
    "len(hmm_skus),len(set(hmm_skus))"
   ]
  },
  {
   "cell_type": "markdown",
   "id": "501cdaee",
   "metadata": {},
   "source": [
    "Difference above due to common SKUs"
   ]
  },
  {
   "cell_type": "code",
   "execution_count": 10,
   "id": "d8902e02",
   "metadata": {},
   "outputs": [],
   "source": [
    "hmm_skus = list(set(hmm_skus))"
   ]
  },
  {
   "cell_type": "markdown",
   "id": "59d4e8df",
   "metadata": {},
   "source": [
    "### Already done"
   ]
  },
  {
   "cell_type": "code",
   "execution_count": 11,
   "id": "5c66d8c1",
   "metadata": {},
   "outputs": [
    {
     "data": {
      "text/plain": [
       "175"
      ]
     },
     "execution_count": 11,
     "metadata": {},
     "output_type": "execute_result"
    }
   ],
   "source": [
    "import os\n",
    "all_results = os.listdir('../../results/hmm_results/')\n",
    "len(all_results)"
   ]
  },
  {
   "cell_type": "code",
   "execution_count": 12,
   "id": "ef1dd704",
   "metadata": {},
   "outputs": [],
   "source": [
    "df_list = []\n",
    "for file in all_results:\n",
    "    df_file = pd.read_csv(f'../../results/hmm_results/{file}')\n",
    "    df_list.append(df_file)"
   ]
  },
  {
   "cell_type": "code",
   "execution_count": 13,
   "id": "e28c8d7d",
   "metadata": {},
   "outputs": [
    {
     "data": {
      "text/plain": [
       "(1820, 8)"
      ]
     },
     "execution_count": 13,
     "metadata": {},
     "output_type": "execute_result"
    }
   ],
   "source": [
    "hmm_results = pd.concat(df_list)\n",
    "hmm_results.shape"
   ]
  },
  {
   "cell_type": "code",
   "execution_count": 14,
   "id": "888ab2af",
   "metadata": {},
   "outputs": [],
   "source": [
    "completed_skus = hmm_results[\"Encoded_SKU_ID\"].unique()"
   ]
  },
  {
   "cell_type": "code",
   "execution_count": 15,
   "id": "045e3bfc",
   "metadata": {},
   "outputs": [
    {
     "data": {
      "text/plain": [
       "87"
      ]
     },
     "execution_count": 15,
     "metadata": {},
     "output_type": "execute_result"
    }
   ],
   "source": [
    "remaining_skus = set(hmm_skus) - set(completed_skus)\n",
    "len(remaining_skus)"
   ]
  },
  {
   "cell_type": "markdown",
   "id": "64daa686",
   "metadata": {},
   "source": [
    "### Prepare Train data"
   ]
  },
  {
   "cell_type": "code",
   "execution_count": 16,
   "id": "dff0efa0",
   "metadata": {},
   "outputs": [],
   "source": [
    "original_train = pd.read_csv(\"../../data/train_validation_marker.csv\")\n",
    "original_train[\"SALES_DATE\"] = pd.to_datetime(original_train[\"SALES_DATE\"])"
   ]
  },
  {
   "cell_type": "code",
   "execution_count": 17,
   "id": "9ffde732",
   "metadata": {},
   "outputs": [
    {
     "data": {
      "text/plain": [
       "Timestamp('2022-07-31 00:00:00')"
      ]
     },
     "execution_count": 17,
     "metadata": {},
     "output_type": "execute_result"
    }
   ],
   "source": [
    "original_train[\"SALES_DATE\"].max()"
   ]
  },
  {
   "cell_type": "code",
   "execution_count": 19,
   "id": "696c7378",
   "metadata": {},
   "outputs": [],
   "source": [
    "sku_in_scope = original_train[(original_train.Encoded_SKU_ID.isin(remaining_skus)) &(original_train.SALES_DATE>=\"2022-03-15\"\\\n",
    "                         )].groupby(\"Encoded_SKU_ID\")[\"DAILY_UNITS\"].nunique()"
   ]
  },
  {
   "cell_type": "code",
   "execution_count": 20,
   "id": "4675058f",
   "metadata": {},
   "outputs": [
    {
     "data": {
      "text/plain": [
       "87"
      ]
     },
     "execution_count": 20,
     "metadata": {},
     "output_type": "execute_result"
    }
   ],
   "source": [
    "sku_in_scope.count()"
   ]
  },
  {
   "cell_type": "code",
   "execution_count": 21,
   "id": "5413f6c6",
   "metadata": {},
   "outputs": [
    {
     "data": {
      "text/plain": [
       "87"
      ]
     },
     "execution_count": 21,
     "metadata": {},
     "output_type": "execute_result"
    }
   ],
   "source": [
    "(sku_in_scope<=10).sum()"
   ]
  },
  {
   "cell_type": "code",
   "execution_count": 22,
   "id": "6c7c21bc",
   "metadata": {},
   "outputs": [
    {
     "data": {
      "text/plain": [
       "<AxesSubplot: >"
      ]
     },
     "execution_count": 22,
     "metadata": {},
     "output_type": "execute_result"
    },
    {
     "data": {
      "image/png": "[encoded data removed]",
      "text/plain": [
       "<Figure size 640x480 with 1 Axes>"
      ]
     },
     "metadata": {},
     "output_type": "display_data"
    }
   ],
   "source": [
    "sku_in_scope.hist()"
   ]
  },
  {
   "cell_type": "markdown",
   "id": "0c91dddd",
   "metadata": {},
   "source": [
    "### Prepare dummy data for  forecasting"
   ]
  },
  {
   "cell_type": "code",
   "execution_count": 23,
   "id": "5552d03b",
   "metadata": {},
   "outputs": [
    {
     "data": {
      "text/html": [
       "<div>\n",
       "<style scoped>\n",
       "    .dataframe tbody tr th:only-of-type {\n",
       "        vertical-align: middle;\n",
       "    }\n",
       "\n",
       "    .dataframe tbody tr th {\n",
       "        vertical-align: top;\n",
       "    }\n",
       "\n",
       "    .dataframe thead th {\n",
       "        text-align: right;\n",
       "    }\n",
       "</style>\n",
       "<table border=\"1\" class=\"dataframe\">\n",
       "  <thead>\n",
       "    <tr style=\"text-align: right;\">\n",
       "      <th></th>\n",
       "    </tr>\n",
       "  </thead>\n",
       "  <tbody>\n",
       "    <tr>\n",
       "      <th>2022-08-01</th>\n",
       "    </tr>\n",
       "    <tr>\n",
       "      <th>2022-08-02</th>\n",
       "    </tr>\n",
       "    <tr>\n",
       "      <th>2022-08-03</th>\n",
       "    </tr>\n",
       "    <tr>\n",
       "      <th>2022-08-04</th>\n",
       "    </tr>\n",
       "    <tr>\n",
       "      <th>2022-08-05</th>\n",
       "    </tr>\n",
       "    <tr>\n",
       "      <th>2022-08-06</th>\n",
       "    </tr>\n",
       "    <tr>\n",
       "      <th>2022-08-07</th>\n",
       "    </tr>\n",
       "  </tbody>\n",
       "</table>\n",
       "</div>"
      ],
      "text/plain": [
       "Empty DataFrame\n",
       "Columns: []\n",
       "Index: [2022-08-01 00:00:00, 2022-08-02 00:00:00, 2022-08-03 00:00:00, 2022-08-04 00:00:00, 2022-08-05 00:00:00, 2022-08-06 00:00:00, 2022-08-07 00:00:00]"
      ]
     },
     "execution_count": 23,
     "metadata": {},
     "output_type": "execute_result"
    }
   ],
   "source": [
    "dummy_forecast = pd.DataFrame()\n",
    "dummy_forecast.index = pd.date_range(start='08/01/2022', end='08/07/2022')\n",
    "dummy_forecast"
   ]
  },
  {
   "cell_type": "markdown",
   "id": "1380148c",
   "metadata": {},
   "source": [
    "### Test for one SKU"
   ]
  },
  {
   "cell_type": "code",
   "execution_count": 24,
   "id": "3b337595",
   "metadata": {},
   "outputs": [
    {
     "name": "stdout",
     "output_type": "stream",
     "text": [
      "Created 2 lag features\n",
      "Training on : ['DAILY_UNITS_lag1', 'DAILY_UNITS_lag2'] ['change_lag1', 'change_lag2']\n"
     ]
    },
    {
     "name": "stderr",
     "output_type": "stream",
     "text": [
      "/Users/ashish1610dhiman/data_projects/bestbuy/notebooks/ashish_validation_train/../../src/ad_hmm.py:30: SettingWithCopyWarning: \n",
      "A value is trying to be set on a copy of a slice from a DataFrame.\n",
      "Try using .loc[row_indexer,col_indexer] = value instead\n",
      "\n",
      "See the caveats in the documentation: https://pandas.pydata.org/pandas-docs/stable/user_guide/indexing.html#returning-a-view-versus-a-copy\n",
      "  sales_data[du_lag] = sales_data[\"DAILY_UNITS\"].shift(lag)\n",
      "/Users/ashish1610dhiman/data_projects/bestbuy/notebooks/ashish_validation_train/../../src/ad_hmm.py:31: SettingWithCopyWarning: \n",
      "A value is trying to be set on a copy of a slice from a DataFrame.\n",
      "Try using .loc[row_indexer,col_indexer] = value instead\n",
      "\n",
      "See the caveats in the documentation: https://pandas.pydata.org/pandas-docs/stable/user_guide/indexing.html#returning-a-view-versus-a-copy\n",
      "  sales_data[f\"change_lag{lag}\"] = (sales_data[\"DAILY_UNITS\"] - sales_data[du_lag])\n",
      "/Users/ashish1610dhiman/data_projects/bestbuy/notebooks/ashish_validation_train/../../src/ad_hmm.py:30: SettingWithCopyWarning: \n",
      "A value is trying to be set on a copy of a slice from a DataFrame.\n",
      "Try using .loc[row_indexer,col_indexer] = value instead\n",
      "\n",
      "See the caveats in the documentation: https://pandas.pydata.org/pandas-docs/stable/user_guide/indexing.html#returning-a-view-versus-a-copy\n",
      "  sales_data[du_lag] = sales_data[\"DAILY_UNITS\"].shift(lag)\n",
      "/Users/ashish1610dhiman/data_projects/bestbuy/notebooks/ashish_validation_train/../../src/ad_hmm.py:31: SettingWithCopyWarning: \n",
      "A value is trying to be set on a copy of a slice from a DataFrame.\n",
      "Try using .loc[row_indexer,col_indexer] = value instead\n",
      "\n",
      "See the caveats in the documentation: https://pandas.pydata.org/pandas-docs/stable/user_guide/indexing.html#returning-a-view-versus-a-copy\n",
      "  sales_data[f\"change_lag{lag}\"] = (sales_data[\"DAILY_UNITS\"] - sales_data[du_lag])\n",
      "/Users/ashish1610dhiman/opt/anaconda3/envs/bestbuy/lib/python3.9/site-packages/sklearn/cluster/_kmeans.py:870: FutureWarning: The default value of `n_init` will change from 10 to 'auto' in 1.4. Set the value of `n_init` explicitly to suppress the warning\n",
      "  warnings.warn(\n"
     ]
    }
   ],
   "source": [
    "sku_id = sku_in_scope.index[0]\n",
    "n_comps = max(sku_in_scope[sku_id],10) #Limit to max 10 components\n",
    "sku_pred_model = sku_predict(original_train, sku_id)\n",
    "feats_sku = sku_pred_model.get_features(n_lags=2)\n",
    "train1, _ = sku_pred_model.split_train_test(\"2022-07-31\")\n",
    "valid1 = dummy_forecast\n",
    "sku_pred_model.fit_hmm(train1, \"2022-03-01\", n_components1=n_comps)"
   ]
  },
  {
   "cell_type": "code",
   "execution_count": 25,
   "id": "b607e97a",
   "metadata": {},
   "outputs": [
    {
     "name": "stdout",
     "output_type": "stream",
     "text": [
      "Starting Prediction\n",
      "-----> Predicting for day:0\n"
     ]
    },
    {
     "name": "stderr",
     "output_type": "stream",
     "text": [
      "Even though the 'startprob_' attribute is set, it will be overwritten during initialization because 'init_params' contains 's'\n",
      "Even though the 'transmat_' attribute is set, it will be overwritten during initialization because 'init_params' contains 't'\n",
      "Fitting a model with 179 free scalar parameters with only 60 data points will result in a degenerate solution.\n",
      "Even though the 'means_' attribute is set, it will be overwritten during initialization because 'init_params' contains 'm'\n",
      "/Users/ashish1610dhiman/opt/anaconda3/envs/bestbuy/lib/python3.9/site-packages/sklearn/cluster/_kmeans.py:870: FutureWarning: The default value of `n_init` will change from 10 to 'auto' in 1.4. Set the value of `n_init` explicitly to suppress the warning\n",
      "  warnings.warn(\n",
      "/Users/ashish1610dhiman/opt/anaconda3/envs/bestbuy/lib/python3.9/site-packages/hmmlearn/hmm.py:206: ConvergenceWarning: Number of distinct clusters (8) found smaller than n_clusters (10). Possibly due to duplicate points in X.\n",
      "  kmeans.fit(X)\n",
      "Even though the 'covars_' attribute is set, it will be overwritten during initialization because 'init_params' contains 'c'\n"
     ]
    },
    {
     "name": "stdout",
     "output_type": "stream",
     "text": [
      "-----> Predicting for day:1\n"
     ]
    },
    {
     "name": "stderr",
     "output_type": "stream",
     "text": [
      "Even though the 'startprob_' attribute is set, it will be overwritten during initialization because 'init_params' contains 's'\n",
      "Even though the 'transmat_' attribute is set, it will be overwritten during initialization because 'init_params' contains 't'\n",
      "Fitting a model with 179 free scalar parameters with only 60 data points will result in a degenerate solution.\n",
      "Even though the 'means_' attribute is set, it will be overwritten during initialization because 'init_params' contains 'm'\n",
      "/Users/ashish1610dhiman/opt/anaconda3/envs/bestbuy/lib/python3.9/site-packages/sklearn/cluster/_kmeans.py:870: FutureWarning: The default value of `n_init` will change from 10 to 'auto' in 1.4. Set the value of `n_init` explicitly to suppress the warning\n",
      "  warnings.warn(\n",
      "/Users/ashish1610dhiman/opt/anaconda3/envs/bestbuy/lib/python3.9/site-packages/hmmlearn/hmm.py:206: ConvergenceWarning: Number of distinct clusters (8) found smaller than n_clusters (10). Possibly due to duplicate points in X.\n",
      "  kmeans.fit(X)\n",
      "Even though the 'covars_' attribute is set, it will be overwritten during initialization because 'init_params' contains 'c'\n"
     ]
    },
    {
     "name": "stdout",
     "output_type": "stream",
     "text": [
      "-----> Predicting for day:2\n"
     ]
    },
    {
     "name": "stderr",
     "output_type": "stream",
     "text": [
      "Even though the 'startprob_' attribute is set, it will be overwritten during initialization because 'init_params' contains 's'\n",
      "Even though the 'transmat_' attribute is set, it will be overwritten during initialization because 'init_params' contains 't'\n",
      "Fitting a model with 179 free scalar parameters with only 60 data points will result in a degenerate solution.\n",
      "Even though the 'means_' attribute is set, it will be overwritten during initialization because 'init_params' contains 'm'\n",
      "/Users/ashish1610dhiman/opt/anaconda3/envs/bestbuy/lib/python3.9/site-packages/sklearn/cluster/_kmeans.py:870: FutureWarning: The default value of `n_init` will change from 10 to 'auto' in 1.4. Set the value of `n_init` explicitly to suppress the warning\n",
      "  warnings.warn(\n",
      "/Users/ashish1610dhiman/opt/anaconda3/envs/bestbuy/lib/python3.9/site-packages/hmmlearn/hmm.py:206: ConvergenceWarning: Number of distinct clusters (8) found smaller than n_clusters (10). Possibly due to duplicate points in X.\n",
      "  kmeans.fit(X)\n",
      "Even though the 'covars_' attribute is set, it will be overwritten during initialization because 'init_params' contains 'c'\n"
     ]
    },
    {
     "name": "stdout",
     "output_type": "stream",
     "text": [
      "-----> Predicting for day:3\n"
     ]
    },
    {
     "name": "stderr",
     "output_type": "stream",
     "text": [
      "Even though the 'startprob_' attribute is set, it will be overwritten during initialization because 'init_params' contains 's'\n",
      "Even though the 'transmat_' attribute is set, it will be overwritten during initialization because 'init_params' contains 't'\n",
      "Fitting a model with 179 free scalar parameters with only 60 data points will result in a degenerate solution.\n",
      "Even though the 'means_' attribute is set, it will be overwritten during initialization because 'init_params' contains 'm'\n",
      "/Users/ashish1610dhiman/opt/anaconda3/envs/bestbuy/lib/python3.9/site-packages/sklearn/cluster/_kmeans.py:870: FutureWarning: The default value of `n_init` will change from 10 to 'auto' in 1.4. Set the value of `n_init` explicitly to suppress the warning\n",
      "  warnings.warn(\n",
      "/Users/ashish1610dhiman/opt/anaconda3/envs/bestbuy/lib/python3.9/site-packages/hmmlearn/hmm.py:206: ConvergenceWarning: Number of distinct clusters (8) found smaller than n_clusters (10). Possibly due to duplicate points in X.\n",
      "  kmeans.fit(X)\n",
      "Even though the 'covars_' attribute is set, it will be overwritten during initialization because 'init_params' contains 'c'\n"
     ]
    },
    {
     "name": "stdout",
     "output_type": "stream",
     "text": [
      "-----> Predicting for day:4\n"
     ]
    },
    {
     "name": "stderr",
     "output_type": "stream",
     "text": [
      "Even though the 'startprob_' attribute is set, it will be overwritten during initialization because 'init_params' contains 's'\n",
      "Even though the 'transmat_' attribute is set, it will be overwritten during initialization because 'init_params' contains 't'\n",
      "Fitting a model with 179 free scalar parameters with only 60 data points will result in a degenerate solution.\n",
      "Even though the 'means_' attribute is set, it will be overwritten during initialization because 'init_params' contains 'm'\n",
      "/Users/ashish1610dhiman/opt/anaconda3/envs/bestbuy/lib/python3.9/site-packages/sklearn/cluster/_kmeans.py:870: FutureWarning: The default value of `n_init` will change from 10 to 'auto' in 1.4. Set the value of `n_init` explicitly to suppress the warning\n",
      "  warnings.warn(\n",
      "/Users/ashish1610dhiman/opt/anaconda3/envs/bestbuy/lib/python3.9/site-packages/hmmlearn/hmm.py:206: ConvergenceWarning: Number of distinct clusters (8) found smaller than n_clusters (10). Possibly due to duplicate points in X.\n",
      "  kmeans.fit(X)\n",
      "Even though the 'covars_' attribute is set, it will be overwritten during initialization because 'init_params' contains 'c'\n"
     ]
    },
    {
     "name": "stdout",
     "output_type": "stream",
     "text": [
      "-----> Predicting for day:5\n"
     ]
    },
    {
     "name": "stderr",
     "output_type": "stream",
     "text": [
      "Even though the 'startprob_' attribute is set, it will be overwritten during initialization because 'init_params' contains 's'\n",
      "Even though the 'transmat_' attribute is set, it will be overwritten during initialization because 'init_params' contains 't'\n",
      "Fitting a model with 179 free scalar parameters with only 60 data points will result in a degenerate solution.\n",
      "Even though the 'means_' attribute is set, it will be overwritten during initialization because 'init_params' contains 'm'\n",
      "/Users/ashish1610dhiman/opt/anaconda3/envs/bestbuy/lib/python3.9/site-packages/sklearn/cluster/_kmeans.py:870: FutureWarning: The default value of `n_init` will change from 10 to 'auto' in 1.4. Set the value of `n_init` explicitly to suppress the warning\n",
      "  warnings.warn(\n",
      "/Users/ashish1610dhiman/opt/anaconda3/envs/bestbuy/lib/python3.9/site-packages/hmmlearn/hmm.py:206: ConvergenceWarning: Number of distinct clusters (7) found smaller than n_clusters (10). Possibly due to duplicate points in X.\n",
      "  kmeans.fit(X)\n",
      "Even though the 'covars_' attribute is set, it will be overwritten during initialization because 'init_params' contains 'c'\n"
     ]
    },
    {
     "name": "stdout",
     "output_type": "stream",
     "text": [
      "-----> Predicting for day:6\n"
     ]
    },
    {
     "data": {
      "text/html": [
       "<div>\n",
       "<style scoped>\n",
       "    .dataframe tbody tr th:only-of-type {\n",
       "        vertical-align: middle;\n",
       "    }\n",
       "\n",
       "    .dataframe tbody tr th {\n",
       "        vertical-align: top;\n",
       "    }\n",
       "\n",
       "    .dataframe thead th {\n",
       "        text-align: right;\n",
       "    }\n",
       "</style>\n",
       "<table border=\"1\" class=\"dataframe\">\n",
       "  <thead>\n",
       "    <tr style=\"text-align: right;\">\n",
       "      <th></th>\n",
       "      <th>DAILY_UNITS_lag1</th>\n",
       "      <th>DAILY_UNITS_lag2</th>\n",
       "      <th>change_lag1</th>\n",
       "      <th>change_lag2</th>\n",
       "      <th>predicted1</th>\n",
       "      <th>predicted2</th>\n",
       "      <th>predicted</th>\n",
       "    </tr>\n",
       "  </thead>\n",
       "  <tbody>\n",
       "    <tr>\n",
       "      <th>2022-08-01</th>\n",
       "      <td>1.0</td>\n",
       "      <td>0.0</td>\n",
       "      <td>-1.0</td>\n",
       "      <td>0.0</td>\n",
       "      <td>0.0</td>\n",
       "      <td>0.0</td>\n",
       "      <td>0.0</td>\n",
       "    </tr>\n",
       "    <tr>\n",
       "      <th>2022-08-02</th>\n",
       "      <td>0.0</td>\n",
       "      <td>1.0</td>\n",
       "      <td>1.0</td>\n",
       "      <td>0.0</td>\n",
       "      <td>1.0</td>\n",
       "      <td>1.0</td>\n",
       "      <td>1.0</td>\n",
       "    </tr>\n",
       "    <tr>\n",
       "      <th>2022-08-03</th>\n",
       "      <td>1.0</td>\n",
       "      <td>0.0</td>\n",
       "      <td>-1.0</td>\n",
       "      <td>0.0</td>\n",
       "      <td>0.0</td>\n",
       "      <td>0.0</td>\n",
       "      <td>0.0</td>\n",
       "    </tr>\n",
       "    <tr>\n",
       "      <th>2022-08-04</th>\n",
       "      <td>0.0</td>\n",
       "      <td>1.0</td>\n",
       "      <td>1.0</td>\n",
       "      <td>0.0</td>\n",
       "      <td>1.0</td>\n",
       "      <td>1.0</td>\n",
       "      <td>1.0</td>\n",
       "    </tr>\n",
       "    <tr>\n",
       "      <th>2022-08-05</th>\n",
       "      <td>1.0</td>\n",
       "      <td>0.0</td>\n",
       "      <td>-1.0</td>\n",
       "      <td>0.0</td>\n",
       "      <td>0.0</td>\n",
       "      <td>0.0</td>\n",
       "      <td>0.0</td>\n",
       "    </tr>\n",
       "    <tr>\n",
       "      <th>2022-08-06</th>\n",
       "      <td>0.0</td>\n",
       "      <td>1.0</td>\n",
       "      <td>1.0</td>\n",
       "      <td>0.0</td>\n",
       "      <td>1.0</td>\n",
       "      <td>1.0</td>\n",
       "      <td>1.0</td>\n",
       "    </tr>\n",
       "    <tr>\n",
       "      <th>2022-08-07</th>\n",
       "      <td>1.0</td>\n",
       "      <td>0.0</td>\n",
       "      <td>-1.0</td>\n",
       "      <td>0.0</td>\n",
       "      <td>0.0</td>\n",
       "      <td>0.0</td>\n",
       "      <td>0.0</td>\n",
       "    </tr>\n",
       "  </tbody>\n",
       "</table>\n",
       "</div>"
      ],
      "text/plain": [
       "            DAILY_UNITS_lag1  DAILY_UNITS_lag2  change_lag1  change_lag2  \\\n",
       "2022-08-01               1.0               0.0         -1.0          0.0   \n",
       "2022-08-02               0.0               1.0          1.0          0.0   \n",
       "2022-08-03               1.0               0.0         -1.0          0.0   \n",
       "2022-08-04               0.0               1.0          1.0          0.0   \n",
       "2022-08-05               1.0               0.0         -1.0          0.0   \n",
       "2022-08-06               0.0               1.0          1.0          0.0   \n",
       "2022-08-07               1.0               0.0         -1.0          0.0   \n",
       "\n",
       "            predicted1  predicted2  predicted  \n",
       "2022-08-01         0.0         0.0        0.0  \n",
       "2022-08-02         1.0         1.0        1.0  \n",
       "2022-08-03         0.0         0.0        0.0  \n",
       "2022-08-04         1.0         1.0        1.0  \n",
       "2022-08-05         0.0         0.0        0.0  \n",
       "2022-08-06         1.0         1.0        1.0  \n",
       "2022-08-07         0.0         0.0        0.0  "
      ]
     },
     "execution_count": 25,
     "metadata": {},
     "output_type": "execute_result"
    }
   ],
   "source": [
    "sku_pred_model.predict(valid1, 15)"
   ]
  },
  {
   "cell_type": "markdown",
   "id": "ec7cdce7",
   "metadata": {},
   "source": [
    "### Parallel function"
   ]
  },
  {
   "cell_type": "code",
   "execution_count": 26,
   "id": "3cd41579",
   "metadata": {},
   "outputs": [],
   "source": [
    "pd.options.mode.chained_assignment = None\n",
    "from tqdm import tqdm\n",
    "\n",
    "from IPython.utils import io\n",
    "from joblib import Parallel, delayed"
   ]
  },
  {
   "cell_type": "code",
   "execution_count": 27,
   "id": "c242575d",
   "metadata": {},
   "outputs": [
    {
     "data": {
      "text/html": [
       "<div>\n",
       "<style scoped>\n",
       "    .dataframe tbody tr th:only-of-type {\n",
       "        vertical-align: middle;\n",
       "    }\n",
       "\n",
       "    .dataframe tbody tr th {\n",
       "        vertical-align: top;\n",
       "    }\n",
       "\n",
       "    .dataframe thead th {\n",
       "        text-align: right;\n",
       "    }\n",
       "</style>\n",
       "<table border=\"1\" class=\"dataframe\">\n",
       "  <thead>\n",
       "    <tr style=\"text-align: right;\">\n",
       "      <th></th>\n",
       "      <th>predicted</th>\n",
       "    </tr>\n",
       "  </thead>\n",
       "  <tbody>\n",
       "    <tr>\n",
       "      <th>2022-08-01</th>\n",
       "      <td>NaN</td>\n",
       "    </tr>\n",
       "    <tr>\n",
       "      <th>2022-08-02</th>\n",
       "      <td>NaN</td>\n",
       "    </tr>\n",
       "    <tr>\n",
       "      <th>2022-08-03</th>\n",
       "      <td>NaN</td>\n",
       "    </tr>\n",
       "    <tr>\n",
       "      <th>2022-08-04</th>\n",
       "      <td>NaN</td>\n",
       "    </tr>\n",
       "    <tr>\n",
       "      <th>2022-08-05</th>\n",
       "      <td>NaN</td>\n",
       "    </tr>\n",
       "    <tr>\n",
       "      <th>2022-08-06</th>\n",
       "      <td>NaN</td>\n",
       "    </tr>\n",
       "    <tr>\n",
       "      <th>2022-08-07</th>\n",
       "      <td>NaN</td>\n",
       "    </tr>\n",
       "  </tbody>\n",
       "</table>\n",
       "</div>"
      ],
      "text/plain": [
       "            predicted\n",
       "2022-08-01        NaN\n",
       "2022-08-02        NaN\n",
       "2022-08-03        NaN\n",
       "2022-08-04        NaN\n",
       "2022-08-05        NaN\n",
       "2022-08-06        NaN\n",
       "2022-08-07        NaN"
      ]
     },
     "execution_count": 27,
     "metadata": {},
     "output_type": "execute_result"
    }
   ],
   "source": [
    "error_prediction = pd.DataFrame()\n",
    "error_prediction.index = pd.date_range(start='08/01/2022', end='08/07/2022')\n",
    "error_prediction[\"predicted\"] = np.nan\n",
    "error_prediction"
   ]
  },
  {
   "cell_type": "code",
   "execution_count": 30,
   "id": "ac7761db",
   "metadata": {},
   "outputs": [],
   "source": [
    "def parallel_hmm_function(sku_id):\n",
    "    n_comps = max(sku_in_scope[sku_id],10) #Limit to max 10 components\n",
    "    sku_pred_model = sku_predict(original_train, sku_id)\n",
    "    with io.capture_output() as captured:\n",
    "        feats_sku = sku_pred_model.get_features(n_lags=2)\n",
    "        train1, _ = sku_pred_model.split_train_test(\"2022-07-31\")\n",
    "        valid1 = dummy_forecast\n",
    "        sku_pred_model.fit_hmm(train1, \"2022-03-01\", n_components1=n_comps)\n",
    "        try:\n",
    "            sku_pred_15 = sku_pred_model.predict(valid1, 15)\n",
    "        except:\n",
    "            sku_pred_15 = error_prediction\n",
    "            print(f\"Error for {sku_id} 15\")\n",
    "        try:\n",
    "            sku_pred_30 = sku_pred_model.predict(valid1, 30)\n",
    "        except:\n",
    "            sku_pred_30 = error_prediction\n",
    "            print(f\"Error for {sku_id} 30\")\n",
    "        try:\n",
    "            sku_pred_45 = sku_pred_model.predict(valid1, 45)\n",
    "        except:\n",
    "            sku_pred_45 = error_prediction\n",
    "            print(f\"Error for {sku_id} 45\")\n",
    "        try:\n",
    "            sku_pred_60 = sku_pred_model.predict(valid1, 60)\n",
    "        except:\n",
    "            sku_pred_60 = error_prediction\n",
    "            print(f\"Error for {sku_id} 60\")\n",
    "        try:\n",
    "            sku_pred_90 = sku_pred_model.predict(valid1, 90)\n",
    "        except:\n",
    "            sku_pred_90 = error_prediction\n",
    "            print(f\"Error for {sku_id} 90\")\n",
    "        try:\n",
    "            sku_pred_max = sku_pred_model.predict(valid1, sku_pred_model.X.shape[0])\n",
    "        except:\n",
    "            sku_pred_max = error_prediction\n",
    "            print(f\"Error for {sku_id} max\")\n",
    "        merge0 = sku_pred_15[[\"predicted\"]].merge(sku_pred_30[[\"predicted\"]], left_index=True, \\\n",
    "                                                  right_index=True, suffixes=(\"\", \"_30\"))\n",
    "        merge1 = merge0.merge(sku_pred_45[[\"predicted\"]], left_index=True, \\\n",
    "                              right_index=True, suffixes=(\"\", \"_45\"))\n",
    "        merge2 = merge1.merge(sku_pred_60[[\"predicted\"]], left_index=True, \\\n",
    "                              right_index=True, suffixes=(\"\", \"_60\"))\n",
    "        merge3 = merge2.merge(sku_pred_90[[\"predicted\"]], left_index=True, \\\n",
    "                              right_index=True, suffixes=(\"\", \"_90\"))\n",
    "        merge4 = merge3.merge(sku_pred_max[[\"predicted\"]], left_index=True, \\\n",
    "                              right_index=True, suffixes=(\"\", \"_max\"))\n",
    "        merge4[\"Encoded_SKU_ID\"] = [sku_id] * merge4.shape[0]\n",
    "        merge4.to_csv(f\"../../results/hmm_results//hmm_result_final_{sku_id}_{VERSION}.csv\")\n",
    "        print(f\"prediction successful for {sku_id}\")\n",
    "        return(merge4,captured)"
   ]
  },
  {
   "cell_type": "code",
   "execution_count": 31,
   "id": "91bbdc18",
   "metadata": {},
   "outputs": [
    {
     "name": "stderr",
     "output_type": "stream",
     "text": [
      "100%|████████████████████████████████████████████████████████████████████████████████████████████████████████████████████████████████████████| 87/87 [1:47:53<00:00, 74.41s/it]\n"
     ]
    }
   ],
   "source": [
    "all_preds = Parallel(n_jobs=3)(delayed(parallel_hmm_function)(sku_id) \\\n",
    "                               for sku_id in tqdm(sku_in_scope.index))"
   ]
  },
  {
   "cell_type": "code",
   "execution_count": 32,
   "id": "e77333c4",
   "metadata": {},
   "outputs": [],
   "source": [
    "hmm_result = pd.concat([x[0] for x in all_preds])\n",
    "hmm_result.to_csv(f\"../../results/hmm_result_final_{VERSION}.csv\")"
   ]
  },
  {
   "cell_type": "code",
   "execution_count": 33,
   "id": "b6847a96",
   "metadata": {},
   "outputs": [
    {
     "data": {
      "text/plain": [
       "(609, 7)"
      ]
     },
     "execution_count": 33,
     "metadata": {},
     "output_type": "execute_result"
    }
   ],
   "source": [
    "hmm_result.shape"
   ]
  },
  {
   "cell_type": "code",
   "execution_count": 34,
   "id": "c04706a1",
   "metadata": {},
   "outputs": [
    {
     "data": {
      "text/plain": [
       "87"
      ]
     },
     "execution_count": 34,
     "metadata": {},
     "output_type": "execute_result"
    }
   ],
   "source": [
    "hmm_result.Encoded_SKU_ID.nunique()"
   ]
  },
  {
   "cell_type": "code",
   "execution_count": 35,
   "id": "6212d2a2",
   "metadata": {},
   "outputs": [],
   "source": [
    "hmm_result.to_csv(f\"../../results/hmm_results/hmm_result_final_{VERSION}.csv\")"
   ]
  }
 ],
 "metadata": {
  "kernelspec": {
   "display_name": "Python 3 (ipykernel)",
   "language": "python",
   "name": "python3"
  },
  "language_info": {
   "codemirror_mode": {
    "name": "ipython",
    "version": 3
   },
   "file_extension": ".py",
   "mimetype": "text/x-python",
   "name": "python",
   "nbconvert_exporter": "python",
   "pygments_lexer": "ipython3",
   "version": "3.9.15"
  }
 },
 "nbformat": 4,
 "nbformat_minor": 5
}
