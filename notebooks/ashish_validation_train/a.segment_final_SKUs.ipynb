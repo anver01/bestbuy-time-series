{
 "cells": [
  {
   "cell_type": "code",
   "execution_count": 1,
   "id": "afe0f094",
   "metadata": {},
   "outputs": [
    {
     "name": "stdout",
     "output_type": "stream",
     "text": [
      "/Users/ashish1610dhiman/data_projects/bestbuy/notebooks/ashish_validation_train\r\n"
     ]
    }
   ],
   "source": [
    "!pwd"
   ]
  },
  {
   "cell_type": "code",
   "execution_count": 2,
   "id": "89b5cbc0",
   "metadata": {},
   "outputs": [],
   "source": [
    "import sys\n",
    "import matplotlib\n",
    "import numpy as np\n",
    "import pandas as pd\n",
    "import matplotlib.pyplot as plt\n",
    "import datetime\n",
    "\n",
    "sys.version\n",
    "\n",
    "sys.path.append(\"../../\")\n",
    "\n",
    "# from src.ad_hmm import sku_predict\n",
    "# from src.ad_stl_model import stl_model\n",
    "from src.utils import *"
   ]
  },
  {
   "cell_type": "code",
   "execution_count": 3,
   "id": "dec22fde",
   "metadata": {},
   "outputs": [],
   "source": [
    "%load_ext autoreload \n",
    "%autoreload "
   ]
  },
  {
   "cell_type": "markdown",
   "id": "0269e105",
   "metadata": {},
   "source": [
    "### Subset SKUs"
   ]
  },
  {
   "cell_type": "code",
   "execution_count": 4,
   "id": "613d8f6f",
   "metadata": {},
   "outputs": [
    {
     "data": {
      "text/plain": [
       "(3773, 12)"
      ]
     },
     "execution_count": 4,
     "metadata": {},
     "output_type": "execute_result"
    }
   ],
   "source": [
    "validation_data = pd.read_excel(\"../../data/Validation_Data.xlsx\")\n",
    "validation_data.shape"
   ]
  },
  {
   "cell_type": "code",
   "execution_count": 5,
   "id": "9976f53c",
   "metadata": {},
   "outputs": [
    {
     "data": {
      "text/html": [
       "<div>\n",
       "<style scoped>\n",
       "    .dataframe tbody tr th:only-of-type {\n",
       "        vertical-align: middle;\n",
       "    }\n",
       "\n",
       "    .dataframe tbody tr th {\n",
       "        vertical-align: top;\n",
       "    }\n",
       "\n",
       "    .dataframe thead th {\n",
       "        text-align: right;\n",
       "    }\n",
       "</style>\n",
       "<table border=\"1\" class=\"dataframe\">\n",
       "  <thead>\n",
       "    <tr style=\"text-align: right;\">\n",
       "      <th></th>\n",
       "      <th>Encoded_SKU_ID</th>\n",
       "      <th>SALES_DATE</th>\n",
       "      <th>SUBCLASS_NAME</th>\n",
       "      <th>CLASS_NAME</th>\n",
       "      <th>ML_NAME</th>\n",
       "      <th>CATEGORY_NAME</th>\n",
       "      <th>RETAIL_PRICE</th>\n",
       "      <th>PROMO_PRICE</th>\n",
       "      <th>COMPETITOR_PRICE</th>\n",
       "      <th>Inventory</th>\n",
       "      <th>DAILY_UNITS</th>\n",
       "      <th>Forecasted Units</th>\n",
       "    </tr>\n",
       "  </thead>\n",
       "  <tbody>\n",
       "    <tr>\n",
       "      <th>0</th>\n",
       "      <td>23</td>\n",
       "      <td>2022-08-06</td>\n",
       "      <td>SO PARTS</td>\n",
       "      <td>MOBILE ACCESSORIES</td>\n",
       "      <td>ML - Connected Car</td>\n",
       "      <td>VP - Electrify &amp; Car</td>\n",
       "      <td>49.99</td>\n",
       "      <td>?</td>\n",
       "      <td>?</td>\n",
       "      <td>Moderate</td>\n",
       "      <td>3</td>\n",
       "      <td>NaN</td>\n",
       "    </tr>\n",
       "    <tr>\n",
       "      <th>1</th>\n",
       "      <td>100</td>\n",
       "      <td>2022-08-02</td>\n",
       "      <td>SO PARTS</td>\n",
       "      <td>MOBILE ACCESSORIES</td>\n",
       "      <td>ML - Connected Car</td>\n",
       "      <td>VP - Electrify &amp; Car</td>\n",
       "      <td>16.99</td>\n",
       "      <td>?</td>\n",
       "      <td>16.99</td>\n",
       "      <td>Fully-Stocked</td>\n",
       "      <td>2</td>\n",
       "      <td>NaN</td>\n",
       "    </tr>\n",
       "    <tr>\n",
       "      <th>2</th>\n",
       "      <td>121</td>\n",
       "      <td>2022-08-06</td>\n",
       "      <td>MISC ACCY</td>\n",
       "      <td>MOBILE ACCESSORIES</td>\n",
       "      <td>ML - Connected Car</td>\n",
       "      <td>VP - Electrify &amp; Car</td>\n",
       "      <td>24.99</td>\n",
       "      <td>?</td>\n",
       "      <td>?</td>\n",
       "      <td>Fully-Stocked</td>\n",
       "      <td>6</td>\n",
       "      <td>NaN</td>\n",
       "    </tr>\n",
       "    <tr>\n",
       "      <th>3</th>\n",
       "      <td>207</td>\n",
       "      <td>2022-08-03</td>\n",
       "      <td>OTR MIC</td>\n",
       "      <td>OTR MICROWAVE</td>\n",
       "      <td>ML - Kitchen</td>\n",
       "      <td>VP - Major Appliances</td>\n",
       "      <td>499.99</td>\n",
       "      <td>?</td>\n",
       "      <td>?</td>\n",
       "      <td>Fully-Stocked</td>\n",
       "      <td>0</td>\n",
       "      <td>NaN</td>\n",
       "    </tr>\n",
       "    <tr>\n",
       "      <th>4</th>\n",
       "      <td>416</td>\n",
       "      <td>2022-08-05</td>\n",
       "      <td>AMPS</td>\n",
       "      <td>CAR STEREO</td>\n",
       "      <td>ML - Connected Car</td>\n",
       "      <td>VP - Electrify &amp; Car</td>\n",
       "      <td>269.99</td>\n",
       "      <td>?</td>\n",
       "      <td>?</td>\n",
       "      <td>Fully-Stocked</td>\n",
       "      <td>9</td>\n",
       "      <td>NaN</td>\n",
       "    </tr>\n",
       "  </tbody>\n",
       "</table>\n",
       "</div>"
      ],
      "text/plain": [
       "   Encoded_SKU_ID SALES_DATE         SUBCLASS_NAME          CLASS_NAME  \\\n",
       "0              23 2022-08-06              SO PARTS  MOBILE ACCESSORIES   \n",
       "1             100 2022-08-02              SO PARTS  MOBILE ACCESSORIES   \n",
       "2             121 2022-08-06             MISC ACCY  MOBILE ACCESSORIES   \n",
       "3             207 2022-08-03               OTR MIC       OTR MICROWAVE   \n",
       "4             416 2022-08-05  AMPS                          CAR STEREO   \n",
       "\n",
       "              ML_NAME          CATEGORY_NAME  RETAIL_PRICE PROMO_PRICE  \\\n",
       "0  ML - Connected Car   VP - Electrify & Car         49.99           ?   \n",
       "1  ML - Connected Car   VP - Electrify & Car         16.99           ?   \n",
       "2  ML - Connected Car   VP - Electrify & Car         24.99           ?   \n",
       "3        ML - Kitchen  VP - Major Appliances        499.99           ?   \n",
       "4  ML - Connected Car   VP - Electrify & Car        269.99           ?   \n",
       "\n",
       "  COMPETITOR_PRICE      Inventory  DAILY_UNITS  Forecasted Units  \n",
       "0                ?       Moderate            3               NaN  \n",
       "1            16.99  Fully-Stocked            2               NaN  \n",
       "2                ?  Fully-Stocked            6               NaN  \n",
       "3                ?  Fully-Stocked            0               NaN  \n",
       "4                ?  Fully-Stocked            9               NaN  "
      ]
     },
     "execution_count": 5,
     "metadata": {},
     "output_type": "execute_result"
    }
   ],
   "source": [
    "validation_data.head()"
   ]
  },
  {
   "cell_type": "code",
   "execution_count": 6,
   "id": "cf39a213",
   "metadata": {},
   "outputs": [
    {
     "data": {
      "text/plain": [
       "2022-08-06    539\n",
       "2022-08-02    539\n",
       "2022-08-03    539\n",
       "2022-08-05    539\n",
       "2022-08-04    539\n",
       "2022-08-07    539\n",
       "2022-08-01    539\n",
       "Name: SALES_DATE, dtype: int64"
      ]
     },
     "execution_count": 6,
     "metadata": {},
     "output_type": "execute_result"
    }
   ],
   "source": [
    "validation_data.SALES_DATE.value_counts()"
   ]
  },
  {
   "cell_type": "code",
   "execution_count": 7,
   "id": "10e80ae4",
   "metadata": {},
   "outputs": [],
   "source": [
    "validation_sku_list = validation_data.Encoded_SKU_ID.unique()"
   ]
  },
  {
   "cell_type": "markdown",
   "id": "f559f9f9",
   "metadata": {},
   "source": [
    "### RMSE final results"
   ]
  },
  {
   "cell_type": "code",
   "execution_count": 8,
   "id": "5e040919",
   "metadata": {},
   "outputs": [
    {
     "data": {
      "text/html": [
       "<div>\n",
       "<style scoped>\n",
       "    .dataframe tbody tr th:only-of-type {\n",
       "        vertical-align: middle;\n",
       "    }\n",
       "\n",
       "    .dataframe tbody tr th {\n",
       "        vertical-align: top;\n",
       "    }\n",
       "\n",
       "    .dataframe thead th {\n",
       "        text-align: right;\n",
       "    }\n",
       "</style>\n",
       "<table border=\"1\" class=\"dataframe\">\n",
       "  <thead>\n",
       "    <tr style=\"text-align: right;\">\n",
       "      <th></th>\n",
       "      <th>rmse_du_15</th>\n",
       "      <th>mean_du_15</th>\n",
       "      <th>pct_rmse_15</th>\n",
       "      <th>rmse_du_30</th>\n",
       "      <th>mean_du_30</th>\n",
       "      <th>pct_rmse_30</th>\n",
       "      <th>rmse_du_45</th>\n",
       "      <th>mean_du_45</th>\n",
       "      <th>pct_rmse_45</th>\n",
       "      <th>rmse_du_60</th>\n",
       "      <th>...</th>\n",
       "      <th>pct_rmse_prophet</th>\n",
       "      <th>rmse_du_null</th>\n",
       "      <th>mean_du_null</th>\n",
       "      <th>pct_rmse_null</th>\n",
       "      <th>rmse_du_holt</th>\n",
       "      <th>mean_du_holt</th>\n",
       "      <th>pct_rmse_holt</th>\n",
       "      <th>min_rmse</th>\n",
       "      <th>argmin_period</th>\n",
       "      <th>min_period</th>\n",
       "    </tr>\n",
       "    <tr>\n",
       "      <th>Encoded_SKU_ID</th>\n",
       "      <th></th>\n",
       "      <th></th>\n",
       "      <th></th>\n",
       "      <th></th>\n",
       "      <th></th>\n",
       "      <th></th>\n",
       "      <th></th>\n",
       "      <th></th>\n",
       "      <th></th>\n",
       "      <th></th>\n",
       "      <th></th>\n",
       "      <th></th>\n",
       "      <th></th>\n",
       "      <th></th>\n",
       "      <th></th>\n",
       "      <th></th>\n",
       "      <th></th>\n",
       "      <th></th>\n",
       "      <th></th>\n",
       "      <th></th>\n",
       "      <th></th>\n",
       "    </tr>\n",
       "  </thead>\n",
       "  <tbody>\n",
       "    <tr>\n",
       "      <th>82</th>\n",
       "      <td>4.722325</td>\n",
       "      <td>0.428571</td>\n",
       "      <td>11.018759</td>\n",
       "      <td>4.840344</td>\n",
       "      <td>0.428571</td>\n",
       "      <td>11.294136</td>\n",
       "      <td>1.102108</td>\n",
       "      <td>0.428571</td>\n",
       "      <td>2.571586</td>\n",
       "      <td>1.419381</td>\n",
       "      <td>...</td>\n",
       "      <td>5.362264</td>\n",
       "      <td>3.605551</td>\n",
       "      <td>0.428571</td>\n",
       "      <td>8.412953</td>\n",
       "      <td>9.753826</td>\n",
       "      <td>0.428571</td>\n",
       "      <td>22.758928</td>\n",
       "      <td>0.911043</td>\n",
       "      <td>5</td>\n",
       "      <td>rmse_du_max</td>\n",
       "    </tr>\n",
       "    <tr>\n",
       "      <th>568</th>\n",
       "      <td>4.097124</td>\n",
       "      <td>4.285714</td>\n",
       "      <td>0.955996</td>\n",
       "      <td>3.447670</td>\n",
       "      <td>4.285714</td>\n",
       "      <td>0.804456</td>\n",
       "      <td>3.652836</td>\n",
       "      <td>4.285714</td>\n",
       "      <td>0.852329</td>\n",
       "      <td>3.871231</td>\n",
       "      <td>...</td>\n",
       "      <td>0.595404</td>\n",
       "      <td>5.070926</td>\n",
       "      <td>4.285714</td>\n",
       "      <td>1.183216</td>\n",
       "      <td>3.024439</td>\n",
       "      <td>4.285714</td>\n",
       "      <td>0.705702</td>\n",
       "      <td>2.551733</td>\n",
       "      <td>8</td>\n",
       "      <td>rmse_du_prophet</td>\n",
       "    </tr>\n",
       "    <tr>\n",
       "      <th>317</th>\n",
       "      <td>3.766488</td>\n",
       "      <td>0.857143</td>\n",
       "      <td>4.394235</td>\n",
       "      <td>1.362770</td>\n",
       "      <td>0.857143</td>\n",
       "      <td>1.589899</td>\n",
       "      <td>1.784957</td>\n",
       "      <td>0.857143</td>\n",
       "      <td>2.082450</td>\n",
       "      <td>2.104417</td>\n",
       "      <td>...</td>\n",
       "      <td>2.297158</td>\n",
       "      <td>1.069045</td>\n",
       "      <td>0.857143</td>\n",
       "      <td>1.247219</td>\n",
       "      <td>2.363641</td>\n",
       "      <td>0.857143</td>\n",
       "      <td>2.757581</td>\n",
       "      <td>1.069045</td>\n",
       "      <td>9</td>\n",
       "      <td>rmse_du_null</td>\n",
       "    </tr>\n",
       "    <tr>\n",
       "      <th>95</th>\n",
       "      <td>3.668447</td>\n",
       "      <td>1.285714</td>\n",
       "      <td>2.853236</td>\n",
       "      <td>1.698949</td>\n",
       "      <td>1.285714</td>\n",
       "      <td>1.321405</td>\n",
       "      <td>3.991151</td>\n",
       "      <td>1.285714</td>\n",
       "      <td>3.104228</td>\n",
       "      <td>3.931648</td>\n",
       "      <td>...</td>\n",
       "      <td>1.743961</td>\n",
       "      <td>1.309307</td>\n",
       "      <td>1.285714</td>\n",
       "      <td>1.018350</td>\n",
       "      <td>1.720612</td>\n",
       "      <td>1.285714</td>\n",
       "      <td>1.338254</td>\n",
       "      <td>1.309307</td>\n",
       "      <td>9</td>\n",
       "      <td>rmse_du_null</td>\n",
       "    </tr>\n",
       "    <tr>\n",
       "      <th>340</th>\n",
       "      <td>3.668447</td>\n",
       "      <td>0.714286</td>\n",
       "      <td>5.135825</td>\n",
       "      <td>2.077172</td>\n",
       "      <td>0.714286</td>\n",
       "      <td>2.908041</td>\n",
       "      <td>2.329929</td>\n",
       "      <td>0.714286</td>\n",
       "      <td>3.261901</td>\n",
       "      <td>1.558387</td>\n",
       "      <td>...</td>\n",
       "      <td>0.970033</td>\n",
       "      <td>0.925820</td>\n",
       "      <td>0.714286</td>\n",
       "      <td>1.296148</td>\n",
       "      <td>1.092959</td>\n",
       "      <td>0.714286</td>\n",
       "      <td>1.530142</td>\n",
       "      <td>0.692881</td>\n",
       "      <td>8</td>\n",
       "      <td>rmse_du_prophet</td>\n",
       "    </tr>\n",
       "  </tbody>\n",
       "</table>\n",
       "<p>5 rows × 36 columns</p>\n",
       "</div>"
      ],
      "text/plain": [
       "                rmse_du_15  mean_du_15  pct_rmse_15  rmse_du_30  mean_du_30  \\\n",
       "Encoded_SKU_ID                                                                \n",
       "82                4.722325    0.428571    11.018759    4.840344    0.428571   \n",
       "568               4.097124    4.285714     0.955996    3.447670    4.285714   \n",
       "317               3.766488    0.857143     4.394235    1.362770    0.857143   \n",
       "95                3.668447    1.285714     2.853236    1.698949    1.285714   \n",
       "340               3.668447    0.714286     5.135825    2.077172    0.714286   \n",
       "\n",
       "                pct_rmse_30  rmse_du_45  mean_du_45  pct_rmse_45  rmse_du_60  \\\n",
       "Encoded_SKU_ID                                                                 \n",
       "82                11.294136    1.102108    0.428571     2.571586    1.419381   \n",
       "568                0.804456    3.652836    4.285714     0.852329    3.871231   \n",
       "317                1.589899    1.784957    0.857143     2.082450    2.104417   \n",
       "95                 1.321405    3.991151    1.285714     3.104228    3.931648   \n",
       "340                2.908041    2.329929    0.714286     3.261901    1.558387   \n",
       "\n",
       "                ...  pct_rmse_prophet  rmse_du_null  mean_du_null  \\\n",
       "Encoded_SKU_ID  ...                                                 \n",
       "82              ...          5.362264      3.605551      0.428571   \n",
       "568             ...          0.595404      5.070926      4.285714   \n",
       "317             ...          2.297158      1.069045      0.857143   \n",
       "95              ...          1.743961      1.309307      1.285714   \n",
       "340             ...          0.970033      0.925820      0.714286   \n",
       "\n",
       "                pct_rmse_null  rmse_du_holt  mean_du_holt  pct_rmse_holt  \\\n",
       "Encoded_SKU_ID                                                             \n",
       "82                   8.412953      9.753826      0.428571      22.758928   \n",
       "568                  1.183216      3.024439      4.285714       0.705702   \n",
       "317                  1.247219      2.363641      0.857143       2.757581   \n",
       "95                   1.018350      1.720612      1.285714       1.338254   \n",
       "340                  1.296148      1.092959      0.714286       1.530142   \n",
       "\n",
       "                min_rmse  argmin_period       min_period  \n",
       "Encoded_SKU_ID                                            \n",
       "82              0.911043              5      rmse_du_max  \n",
       "568             2.551733              8  rmse_du_prophet  \n",
       "317             1.069045              9     rmse_du_null  \n",
       "95              1.309307              9     rmse_du_null  \n",
       "340             0.692881              8  rmse_du_prophet  \n",
       "\n",
       "[5 rows x 36 columns]"
      ]
     },
     "execution_count": 8,
     "metadata": {},
     "output_type": "execute_result"
    }
   ],
   "source": [
    "rmse_results = pd.read_excel(\"../../results/rmse_all_preds_jan_17.xlsx\",index_col=0)\n",
    "rmse_results.head()"
   ]
  },
  {
   "cell_type": "code",
   "execution_count": 9,
   "id": "c8d712f5",
   "metadata": {},
   "outputs": [
    {
     "data": {
      "text/plain": [
       "rmse_du_null       132\n",
       "rmse_du_prophet     80\n",
       "rmse_du_STL         78\n",
       "rmse_du_max         40\n",
       "rmse_du_30          34\n",
       "rmse_du_holt        34\n",
       "rmse_du_60          34\n",
       "rmse_du_15          32\n",
       "rmse_du_MSTL        27\n",
       "rmse_du_45          27\n",
       "rmse_du_90          27\n",
       "Name: min_period, dtype: int64"
      ]
     },
     "execution_count": 9,
     "metadata": {},
     "output_type": "execute_result"
    }
   ],
   "source": [
    "rmse_results[\"min_period\"].value_counts()"
   ]
  },
  {
   "cell_type": "code",
   "execution_count": 10,
   "id": "368c27ee",
   "metadata": {},
   "outputs": [
    {
     "data": {
      "text/plain": [
       "545"
      ]
     },
     "execution_count": 10,
     "metadata": {},
     "output_type": "execute_result"
    }
   ],
   "source": [
    "rmse_results[\"min_period\"].value_counts().sum()"
   ]
  },
  {
   "cell_type": "code",
   "execution_count": 11,
   "id": "0fb70ed9",
   "metadata": {},
   "outputs": [
    {
     "data": {
      "text/plain": [
       "{76, 147, 157, 358, 413, 485, 569}"
      ]
     },
     "execution_count": 11,
     "metadata": {},
     "output_type": "execute_result"
    }
   ],
   "source": [
    "set(validation_sku_list) - set(rmse_results.index)"
   ]
  },
  {
   "cell_type": "code",
   "execution_count": 12,
   "id": "b545d23f",
   "metadata": {},
   "outputs": [],
   "source": [
    "add_all = set(validation_sku_list) - set(rmse_results.index)"
   ]
  },
  {
   "cell_type": "code",
   "execution_count": 13,
   "id": "1b45a7a1",
   "metadata": {},
   "outputs": [],
   "source": [
    "sku_period_dict = rmse_results.reset_index().groupby(\"min_period\")[\"Encoded_SKU_ID\"].apply(set)"
   ]
  },
  {
   "cell_type": "code",
   "execution_count": 14,
   "id": "c3cc7689",
   "metadata": {},
   "outputs": [
    {
     "name": "stdout",
     "output_type": "stream",
     "text": [
      "rmse_du_15 32 2 37\n",
      "rmse_du_30 34 2 39\n",
      "rmse_du_45 27 2 32\n",
      "rmse_du_60 34 2 39\n",
      "rmse_du_90 27 0 34\n",
      "rmse_du_MSTL 27 0 34\n",
      "rmse_du_STL 78 3 82\n",
      "rmse_du_holt 34 0 41\n",
      "rmse_du_max 40 0 47\n",
      "rmse_du_null 132 2 137\n",
      "rmse_du_prophet 80 0 87\n"
     ]
    }
   ],
   "source": [
    "sku_period_dict1 = {}\n",
    "for model_type in sku_period_dict.index:\n",
    "    a = set(sku_period_dict[model_type])\n",
    "    b = set(validation_sku_list)\n",
    "#     print (len(a-b),len(b-a))\n",
    "    c = a.intersection(b)\n",
    "    d = c.union(add_all)\n",
    "    print (model_type,len(a),len(a-b),len(d))\n",
    "    sku_period_dict1[model_type] = list(d)"
   ]
  },
  {
   "cell_type": "code",
   "execution_count": 15,
   "id": "f9a13c94",
   "metadata": {},
   "outputs": [],
   "source": [
    "import pickle\n",
    "\n",
    "# a = {'hello': 'world'}\n",
    "\n",
    "with open('../../results/final_sku_model_map.pkl', 'wb') as handle:\n",
    "    pickle.dump(sku_period_dict1, handle, protocol=4)"
   ]
  }
 ],
 "metadata": {
  "kernelspec": {
   "display_name": "Python 3 (ipykernel)",
   "language": "python",
   "name": "python3"
  },
  "language_info": {
   "codemirror_mode": {
    "name": "ipython",
    "version": 3
   },
   "file_extension": ".py",
   "mimetype": "text/x-python",
   "name": "python",
   "nbconvert_exporter": "python",
   "pygments_lexer": "ipython3",
   "version": "3.9.15"
  }
 },
 "nbformat": 4,
 "nbformat_minor": 5
}
