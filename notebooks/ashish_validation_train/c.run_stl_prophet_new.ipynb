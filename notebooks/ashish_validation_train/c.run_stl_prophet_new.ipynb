{
 "cells": [
  {
   "cell_type": "code",
   "execution_count": 1,
   "id": "0c791956",
   "metadata": {},
   "outputs": [
    {
     "name": "stdout",
     "output_type": "stream",
     "text": [
      "/Users/ashish1610dhiman/data_projects/bestbuy/notebooks/ashish_validation_train\r\n"
     ]
    }
   ],
   "source": [
    "!pwd"
   ]
  },
  {
   "cell_type": "code",
   "execution_count": 2,
   "id": "a76cb502",
   "metadata": {},
   "outputs": [
    {
     "name": "stderr",
     "output_type": "stream",
     "text": [
      "Importing plotly failed. Interactive plots will not work.\n"
     ]
    }
   ],
   "source": [
    "import sys\n",
    "import matplotlib\n",
    "import numpy as np\n",
    "import pandas as pd\n",
    "import matplotlib.pyplot as plt\n",
    "import datetime\n",
    "\n",
    "sys.version\n",
    "\n",
    "sys.path.append(\"../../\")\n",
    "\n",
    "from src.ad_hmm import sku_predict\n",
    "from src.ad_stl_model import stl_model\n",
    "from src.ad_stl_prophet import stl_model\n",
    "from src.utils import *\n",
    "import pickle"
   ]
  },
  {
   "cell_type": "code",
   "execution_count": 3,
   "id": "3a3716cb",
   "metadata": {},
   "outputs": [],
   "source": [
    "%load_ext autoreload \n",
    "%autoreload 2"
   ]
  },
  {
   "cell_type": "markdown",
   "id": "6633fd27",
   "metadata": {},
   "source": [
    "### Get STL/Prophet SKUs"
   ]
  },
  {
   "cell_type": "code",
   "execution_count": 4,
   "id": "f642de08",
   "metadata": {},
   "outputs": [],
   "source": [
    "with open('../../results/final_sku_model_map.pkl', 'rb') as handle:\n",
    "    sku_period_dict1 = pickle.load(handle)"
   ]
  },
  {
   "cell_type": "code",
   "execution_count": 5,
   "id": "ec970b39",
   "metadata": {},
   "outputs": [
    {
     "data": {
      "text/plain": [
       "dict_keys(['rmse_du_15', 'rmse_du_30', 'rmse_du_45', 'rmse_du_60', 'rmse_du_90', 'rmse_du_MSTL', 'rmse_du_STL', 'rmse_du_holt', 'rmse_du_max', 'rmse_du_null', 'rmse_du_prophet'])"
      ]
     },
     "execution_count": 5,
     "metadata": {},
     "output_type": "execute_result"
    }
   ],
   "source": [
    "sku_period_dict1.keys()"
   ]
  },
  {
   "cell_type": "code",
   "execution_count": 6,
   "id": "c3d91de8",
   "metadata": {},
   "outputs": [],
   "source": [
    "stl_keys = ['rmse_du_MSTL', 'rmse_du_STL', 'rmse_du_holt', 'rmse_du_prophet']"
   ]
  },
  {
   "cell_type": "code",
   "execution_count": 7,
   "id": "e007665d",
   "metadata": {},
   "outputs": [
    {
     "data": {
      "text/plain": [
       "(244, 223)"
      ]
     },
     "execution_count": 7,
     "metadata": {},
     "output_type": "execute_result"
    }
   ],
   "source": [
    "import itertools\n",
    "stl_skus = [sku_period_dict1[sub_model] for sub_model in stl_keys]\n",
    "stl_skus = list(itertools.chain.from_iterable(stl_skus))\n",
    "\n",
    "len(stl_skus),len(set(stl_skus))"
   ]
  },
  {
   "cell_type": "code",
   "execution_count": 8,
   "id": "bf3e4d3b",
   "metadata": {},
   "outputs": [],
   "source": [
    "stl_skus = list(set(stl_skus))"
   ]
  },
  {
   "cell_type": "markdown",
   "id": "04d535e7",
   "metadata": {},
   "source": [
    "### Prepare Train data"
   ]
  },
  {
   "cell_type": "code",
   "execution_count": 9,
   "id": "5214e153",
   "metadata": {},
   "outputs": [],
   "source": [
    "original_train = pd.read_csv(\"../../data/train_validation_marker.csv\").drop_duplicates()\n",
    "original_train = original_train.loc[original_train.Encoded_SKU_ID.isin(stl_skus)]\n",
    "original_train[\"SALES_DATE\"] = pd.to_datetime(original_train[\"SALES_DATE\"])\n",
    "original_train[\"validation_clean\"] = True\n",
    "original_train[\"validation\"] = False"
   ]
  },
  {
   "cell_type": "code",
   "execution_count": 10,
   "id": "5e0aa2e4",
   "metadata": {},
   "outputs": [],
   "source": [
    "original_validation = pd.read_excel(\"../../data/Validation_Data.xlsx\").drop_duplicates()\n",
    "original_validation = original_validation.loc[original_validation.Encoded_SKU_ID.isin(stl_skus)]\n",
    "original_validation[\"SALES_DATE\"] = pd.to_datetime(original_validation[\"SALES_DATE\"])\n",
    "original_validation[\"validation_clean\"] = True\n",
    "original_validation[\"validation\"] = True"
   ]
  },
  {
   "cell_type": "markdown",
   "id": "6dc28cad",
   "metadata": {},
   "source": [
    "mute Daily units before appending "
   ]
  },
  {
   "cell_type": "code",
   "execution_count": 11,
   "id": "87ee0e08",
   "metadata": {},
   "outputs": [],
   "source": [
    "original_validation[\"DAILY_UNITS\"] = np.nan"
   ]
  },
  {
   "cell_type": "code",
   "execution_count": 12,
   "id": "75810495",
   "metadata": {},
   "outputs": [
    {
     "name": "stdout",
     "output_type": "stream",
     "text": [
      "(339166, 15) (1561, 14) (340727, 13)\n"
     ]
    }
   ],
   "source": [
    "common_cols = set(original_train.columns).intersection(original_validation.columns)\n",
    "original_train1 = pd.concat([original_train[list(common_cols)],original_validation[list(common_cols)]])\n",
    "print (original_train.shape,original_validation.shape,original_train1.shape)"
   ]
  },
  {
   "cell_type": "code",
   "execution_count": 13,
   "id": "5ecd28b3",
   "metadata": {},
   "outputs": [],
   "source": [
    "original_train1[\"if_promo\"] = (~original_train1[\"PROMO_PRICE\"].isin([\"?\"])).astype(\"int\")\n",
    "original_train1[\"if_competitor\"] = (~original_train1[\"COMPETITOR_PRICE\"].isin([\"?\"])).astype(\"int\")\n",
    "\n",
    "original_train1[\"min_sales_price\"] = pd.to_numeric(np.where(original_train1.if_promo>0, original_train1.PROMO_PRICE,\\\n",
    "                                                       original_train1.RETAIL_PRICE))\n",
    "\n",
    "original_train1[\"comp_price_clean\"] = pd.to_numeric(np.where(original_train1.if_competitor>0,original_train1.COMPETITOR_PRICE, np.nan))\n",
    "original_train1[\"price_delta\"] = np.where(original_train1.if_competitor>0, original_train1.min_sales_price - original_train1.comp_price_clean,\\\n",
    "                                   -original_train1.min_sales_price)"
   ]
  },
  {
   "cell_type": "code",
   "execution_count": 14,
   "id": "ff63f5ed",
   "metadata": {},
   "outputs": [],
   "source": [
    "original_train1 = pd.get_dummies(original_train1,columns = [\"Inventory\"], drop_first=False)"
   ]
  },
  {
   "cell_type": "code",
   "execution_count": 15,
   "id": "4243a9da",
   "metadata": {},
   "outputs": [
    {
     "data": {
      "text/plain": [
       "{'CATEGORY_NAME',\n",
       " 'CLASS_NAME',\n",
       " 'COMPETITOR_PRICE',\n",
       " 'DAILY_UNITS',\n",
       " 'Encoded_SKU_ID',\n",
       " 'Inventory',\n",
       " 'ML_NAME',\n",
       " 'PROMO_PRICE',\n",
       " 'RETAIL_PRICE',\n",
       " 'SALES_DATE',\n",
       " 'SUBCLASS_NAME',\n",
       " 'validation',\n",
       " 'validation_clean'}"
      ]
     },
     "execution_count": 15,
     "metadata": {},
     "output_type": "execute_result"
    }
   ],
   "source": [
    "common_cols"
   ]
  },
  {
   "cell_type": "code",
   "execution_count": 16,
   "id": "13573b40",
   "metadata": {},
   "outputs": [
    {
     "data": {
      "text/plain": [
       "Index(['COMPETITOR_PRICE', 'ML_NAME', 'Encoded_SKU_ID', 'SUBCLASS_NAME',\n",
       "       'DAILY_UNITS', 'CLASS_NAME', 'RETAIL_PRICE', 'validation',\n",
       "       'PROMO_PRICE', 'SALES_DATE', 'validation_clean', 'CATEGORY_NAME',\n",
       "       'if_promo', 'if_competitor', 'min_sales_price', 'comp_price_clean',\n",
       "       'price_delta', 'Inventory_Constrained', 'Inventory_Fully-Stocked',\n",
       "       'Inventory_Moderate', 'Inventory_Out-of-Stock'],\n",
       "      dtype='object')"
      ]
     },
     "execution_count": 16,
     "metadata": {},
     "output_type": "execute_result"
    }
   ],
   "source": [
    "original_train1.columns"
   ]
  },
  {
   "cell_type": "markdown",
   "id": "f4fd783e",
   "metadata": {},
   "source": [
    "#### Pivot data"
   ]
  },
  {
   "cell_type": "code",
   "execution_count": 17,
   "id": "57d6cb30",
   "metadata": {},
   "outputs": [
    {
     "data": {
      "text/html": [
       "<div>\n",
       "<style scoped>\n",
       "    .dataframe tbody tr th:only-of-type {\n",
       "        vertical-align: middle;\n",
       "    }\n",
       "\n",
       "    .dataframe tbody tr th {\n",
       "        vertical-align: top;\n",
       "    }\n",
       "\n",
       "    .dataframe thead th {\n",
       "        text-align: right;\n",
       "    }\n",
       "</style>\n",
       "<table border=\"1\" class=\"dataframe\">\n",
       "  <thead>\n",
       "    <tr style=\"text-align: right;\">\n",
       "      <th></th>\n",
       "      <th>COMPETITOR_PRICE</th>\n",
       "      <th>ML_NAME</th>\n",
       "      <th>Encoded_SKU_ID</th>\n",
       "      <th>SUBCLASS_NAME</th>\n",
       "      <th>DAILY_UNITS</th>\n",
       "      <th>CLASS_NAME</th>\n",
       "      <th>RETAIL_PRICE</th>\n",
       "      <th>validation</th>\n",
       "      <th>PROMO_PRICE</th>\n",
       "      <th>SALES_DATE</th>\n",
       "      <th>...</th>\n",
       "      <th>CATEGORY_NAME</th>\n",
       "      <th>if_promo</th>\n",
       "      <th>if_competitor</th>\n",
       "      <th>min_sales_price</th>\n",
       "      <th>comp_price_clean</th>\n",
       "      <th>price_delta</th>\n",
       "      <th>Inventory_Constrained</th>\n",
       "      <th>Inventory_Fully-Stocked</th>\n",
       "      <th>Inventory_Moderate</th>\n",
       "      <th>Inventory_Out-of-Stock</th>\n",
       "    </tr>\n",
       "  </thead>\n",
       "  <tbody>\n",
       "  </tbody>\n",
       "</table>\n",
       "<p>0 rows × 21 columns</p>\n",
       "</div>"
      ],
      "text/plain": [
       "Empty DataFrame\n",
       "Columns: [COMPETITOR_PRICE, ML_NAME, Encoded_SKU_ID, SUBCLASS_NAME, DAILY_UNITS, CLASS_NAME, RETAIL_PRICE, validation, PROMO_PRICE, SALES_DATE, validation_clean, CATEGORY_NAME, if_promo, if_competitor, min_sales_price, comp_price_clean, price_delta, Inventory_Constrained, Inventory_Fully-Stocked, Inventory_Moderate, Inventory_Out-of-Stock]\n",
       "Index: []\n",
       "\n",
       "[0 rows x 21 columns]"
      ]
     },
     "execution_count": 17,
     "metadata": {},
     "output_type": "execute_result"
    }
   ],
   "source": [
    "original_train1[original_train1.duplicated(keep=False)]"
   ]
  },
  {
   "cell_type": "code",
   "execution_count": 18,
   "id": "23dc536e",
   "metadata": {},
   "outputs": [],
   "source": [
    "original_train_pivot = original_train1.pivot(index='SALES_DATE', columns='Encoded_SKU_ID',\\\n",
    "                   values=['DAILY_UNITS',\"if_promo\",\"if_competitor\",\"min_sales_price\",\"price_delta\",\\\n",
    "                          \"RETAIL_PRICE\",'Inventory_Constrained', 'Inventory_Fully-Stocked',\n",
    "       'Inventory_Moderate', 'Inventory_Out-of-Stock',\"validation\",\"validation_clean\"])\n",
    "original_train_pivot.columns = original_train_pivot.columns.swaplevel(0, 1)"
   ]
  },
  {
   "cell_type": "markdown",
   "id": "f4efb945",
   "metadata": {},
   "source": [
    "### Test code for 1 SKU"
   ]
  },
  {
   "cell_type": "code",
   "execution_count": 19,
   "id": "be088dea",
   "metadata": {},
   "outputs": [
    {
     "name": "stderr",
     "output_type": "stream",
     "text": [
      "/var/folders/kb/v0p0ypbd0wx1q2qb1kpxmmcc0000gn/T/ipykernel_62682/2833426789.py:2: PerformanceWarning: indexing past lexsort depth may impact performance.\n",
      "  train_test_sku = original_train_pivot.loc[:,(sku_id,)].copy()\n"
     ]
    }
   ],
   "source": [
    "sku_id = stl_skus[0]\n",
    "train_test_sku = original_train_pivot.loc[:,(sku_id,)].copy()\n",
    "train_test_sku[\"ad_time\"] = list(range(1,original_train_pivot.shape[0]+1))"
   ]
  },
  {
   "cell_type": "code",
   "execution_count": 20,
   "id": "41564017",
   "metadata": {},
   "outputs": [],
   "source": [
    "exog_cols = [\"if_promo\",\"if_competitor\",\"min_sales_price\",\"price_delta\",\"RETAIL_PRICE\",\\\n",
    "            'Inventory_Constrained', 'Inventory_Fully-Stocked',\n",
    "       'Inventory_Moderate', 'Inventory_Out-of-Stock']\n",
    "stl_model1 = stl_model(sku_id = sku_id,\\\n",
    "                      train_test_sku = train_test_sku,\\\n",
    "                      n_lags_y = 30, \\\n",
    "                      n_lags_exog = 14, \\\n",
    "                      pred_cols = exog_cols)"
   ]
  },
  {
   "cell_type": "code",
   "execution_count": 21,
   "id": "8fc7b05e",
   "metadata": {},
   "outputs": [],
   "source": [
    "import warnings\n",
    "warnings.filterwarnings('ignore')"
   ]
  },
  {
   "cell_type": "code",
   "execution_count": 22,
   "id": "7ecb0297",
   "metadata": {},
   "outputs": [
    {
     "name": "stderr",
     "output_type": "stream",
     "text": [
      "16:52:19 - cmdstanpy - INFO - Chain [1] start processing\n",
      "16:52:20 - cmdstanpy - INFO - Chain [1] done processing\n"
     ]
    },
    {
     "name": "stdout",
     "output_type": "stream",
     "text": [
      "(2, 'none', 'prophet'), Train RMSE = 4.76\n",
      "\n",
      "(2, 'STL_resid', 'auto_reg'), Train RMSE = 3.109\n",
      "(2, 'STL_resid', 'xgb_340'), Train RMSE = 3.326\n",
      "(2, 'STL_resid', 'xgb_1000'), Train RMSE = 3.326\n",
      "\n",
      "(2, 'STL_trend', 'auto_reg'), Train RMSE = 6.677e-05\n",
      "(2, 'STL_trend', 'xgb_340'), Train RMSE = 0.01793\n",
      "(2, 'STL_trend', 'xgb_1000'), Train RMSE = 0.01793\n",
      "\n",
      "(2, 'STL_seasonal', 'auto_reg'), Train RMSE = 3.007\n",
      "(2, 'STL_seasonal', 'xgb_340'), Train RMSE = 2.751\n",
      "(2, 'STL_seasonal', 'xgb_1000'), Train RMSE = 2.766\n",
      "\n",
      "(2, 'MSTL_resid', 'auto_reg'), Train RMSE = 2.332\n",
      "(2, 'MSTL_resid', 'xgb_340'), Train RMSE = 3.156\n",
      "(2, 'MSTL_resid', 'xgb_1000'), Train RMSE = 3.132\n",
      "\n",
      "(2, 'MSTL_trend', 'auto_reg'), Train RMSE = 0.0001205\n",
      "(2, 'MSTL_trend', 'xgb_340'), Train RMSE = 0.01066\n",
      "(2, 'MSTL_trend', 'xgb_1000'), Train RMSE = 0.01066\n",
      "\n",
      "(2, 'MSTL_seasonal_7', 'auto_reg'), Train RMSE = 0.1266\n",
      "(2, 'MSTL_seasonal_7', 'xgb_340'), Train RMSE = 1.77\n",
      "(2, 'MSTL_seasonal_7', 'xgb_1000'), Train RMSE = 1.638\n",
      "\n",
      "(2, 'MSTL_seasonal_30', 'auto_reg'), Train RMSE = 0.2544\n",
      "(2, 'MSTL_seasonal_30', 'xgb_340'), Train RMSE = 1.331\n",
      "(2, 'MSTL_seasonal_30', 'xgb_1000'), Train RMSE = 1.328\n",
      "\n",
      "(2, 'MSTL_seasonal_365', 'auto_reg'), Train RMSE = 2.313\n",
      "(2, 'MSTL_seasonal_365', 'xgb_340'), Train RMSE = 2.354\n",
      "(2, 'MSTL_seasonal_365', 'xgb_1000'), Train RMSE = 2.305\n",
      "\n"
     ]
    }
   ],
   "source": [
    "m_dict, y_dict = stl_model1.fit_models();"
   ]
  },
  {
   "cell_type": "code",
   "execution_count": 23,
   "id": "513423b0",
   "metadata": {},
   "outputs": [],
   "source": [
    "min_models, y_pred = stl_model1.get_result();"
   ]
  },
  {
   "cell_type": "code",
   "execution_count": 24,
   "id": "3ea64d70",
   "metadata": {},
   "outputs": [
    {
     "data": {
      "text/html": [
       "<div>\n",
       "<style scoped>\n",
       "    .dataframe tbody tr th:only-of-type {\n",
       "        vertical-align: middle;\n",
       "    }\n",
       "\n",
       "    .dataframe tbody tr th {\n",
       "        vertical-align: top;\n",
       "    }\n",
       "\n",
       "    .dataframe thead th {\n",
       "        text-align: right;\n",
       "    }\n",
       "</style>\n",
       "<table border=\"1\" class=\"dataframe\">\n",
       "  <thead>\n",
       "    <tr style=\"text-align: right;\">\n",
       "      <th></th>\n",
       "      <th>component</th>\n",
       "      <th>model_name</th>\n",
       "      <th>model</th>\n",
       "      <th>train_rmse</th>\n",
       "      <th>rnk</th>\n",
       "    </tr>\n",
       "  </thead>\n",
       "  <tbody>\n",
       "    <tr>\n",
       "      <th>0</th>\n",
       "      <td>none</td>\n",
       "      <td>prophet</td>\n",
       "      <td>&lt;prophet.forecaster.Prophet object at 0x15ec66...</td>\n",
       "      <td>4.759989</td>\n",
       "      <td>1.0</td>\n",
       "    </tr>\n",
       "    <tr>\n",
       "      <th>1</th>\n",
       "      <td>STL_resid</td>\n",
       "      <td>auto_reg</td>\n",
       "      <td>&lt;statsmodels.tsa.ar_model.AutoRegResultsWrappe...</td>\n",
       "      <td>3.109327</td>\n",
       "      <td>1.0</td>\n",
       "    </tr>\n",
       "    <tr>\n",
       "      <th>4</th>\n",
       "      <td>STL_trend</td>\n",
       "      <td>auto_reg</td>\n",
       "      <td>&lt;statsmodels.tsa.ar_model.AutoRegResultsWrappe...</td>\n",
       "      <td>0.000067</td>\n",
       "      <td>1.0</td>\n",
       "    </tr>\n",
       "    <tr>\n",
       "      <th>8</th>\n",
       "      <td>STL_seasonal</td>\n",
       "      <td>xgb_340</td>\n",
       "      <td>ForecastingCascade(estimator=XGBRegressor(base...</td>\n",
       "      <td>2.751086</td>\n",
       "      <td>1.0</td>\n",
       "    </tr>\n",
       "    <tr>\n",
       "      <th>10</th>\n",
       "      <td>MSTL_resid</td>\n",
       "      <td>auto_reg</td>\n",
       "      <td>&lt;statsmodels.tsa.ar_model.AutoRegResultsWrappe...</td>\n",
       "      <td>2.331746</td>\n",
       "      <td>1.0</td>\n",
       "    </tr>\n",
       "    <tr>\n",
       "      <th>13</th>\n",
       "      <td>MSTL_trend</td>\n",
       "      <td>auto_reg</td>\n",
       "      <td>&lt;statsmodels.tsa.ar_model.AutoRegResultsWrappe...</td>\n",
       "      <td>0.00012</td>\n",
       "      <td>1.0</td>\n",
       "    </tr>\n",
       "    <tr>\n",
       "      <th>16</th>\n",
       "      <td>MSTL_seasonal_7</td>\n",
       "      <td>auto_reg</td>\n",
       "      <td>&lt;statsmodels.tsa.ar_model.AutoRegResultsWrappe...</td>\n",
       "      <td>0.126619</td>\n",
       "      <td>1.0</td>\n",
       "    </tr>\n",
       "    <tr>\n",
       "      <th>19</th>\n",
       "      <td>MSTL_seasonal_30</td>\n",
       "      <td>auto_reg</td>\n",
       "      <td>&lt;statsmodels.tsa.ar_model.AutoRegResultsWrappe...</td>\n",
       "      <td>0.254431</td>\n",
       "      <td>1.0</td>\n",
       "    </tr>\n",
       "    <tr>\n",
       "      <th>24</th>\n",
       "      <td>MSTL_seasonal_365</td>\n",
       "      <td>xgb_1000</td>\n",
       "      <td>ForecastingCascade(estimator=XGBRegressor(base...</td>\n",
       "      <td>2.304772</td>\n",
       "      <td>1.0</td>\n",
       "    </tr>\n",
       "  </tbody>\n",
       "</table>\n",
       "</div>"
      ],
      "text/plain": [
       "            component model_name  \\\n",
       "0                none    prophet   \n",
       "1           STL_resid   auto_reg   \n",
       "4           STL_trend   auto_reg   \n",
       "8        STL_seasonal    xgb_340   \n",
       "10         MSTL_resid   auto_reg   \n",
       "13         MSTL_trend   auto_reg   \n",
       "16    MSTL_seasonal_7   auto_reg   \n",
       "19   MSTL_seasonal_30   auto_reg   \n",
       "24  MSTL_seasonal_365   xgb_1000   \n",
       "\n",
       "                                                model train_rmse  rnk  \n",
       "0   <prophet.forecaster.Prophet object at 0x15ec66...   4.759989  1.0  \n",
       "1   <statsmodels.tsa.ar_model.AutoRegResultsWrappe...   3.109327  1.0  \n",
       "4   <statsmodels.tsa.ar_model.AutoRegResultsWrappe...   0.000067  1.0  \n",
       "8   ForecastingCascade(estimator=XGBRegressor(base...   2.751086  1.0  \n",
       "10  <statsmodels.tsa.ar_model.AutoRegResultsWrappe...   2.331746  1.0  \n",
       "13  <statsmodels.tsa.ar_model.AutoRegResultsWrappe...    0.00012  1.0  \n",
       "16  <statsmodels.tsa.ar_model.AutoRegResultsWrappe...   0.126619  1.0  \n",
       "19  <statsmodels.tsa.ar_model.AutoRegResultsWrappe...   0.254431  1.0  \n",
       "24  ForecastingCascade(estimator=XGBRegressor(base...   2.304772  1.0  "
      ]
     },
     "execution_count": 24,
     "metadata": {},
     "output_type": "execute_result"
    }
   ],
   "source": [
    "min_models"
   ]
  },
  {
   "cell_type": "code",
   "execution_count": 25,
   "id": "01e7ee95",
   "metadata": {},
   "outputs": [
    {
     "data": {
      "text/html": [
       "<div>\n",
       "<style scoped>\n",
       "    .dataframe tbody tr th:only-of-type {\n",
       "        vertical-align: middle;\n",
       "    }\n",
       "\n",
       "    .dataframe tbody tr th {\n",
       "        vertical-align: top;\n",
       "    }\n",
       "\n",
       "    .dataframe thead th {\n",
       "        text-align: right;\n",
       "    }\n",
       "</style>\n",
       "<table border=\"1\" class=\"dataframe\">\n",
       "  <thead>\n",
       "    <tr style=\"text-align: right;\">\n",
       "      <th></th>\n",
       "      <th>STL_prediction</th>\n",
       "      <th>MSTL_prediction</th>\n",
       "      <th>prophet_prediction</th>\n",
       "      <th>Encoded_SKU_ID</th>\n",
       "      <th>actual</th>\n",
       "    </tr>\n",
       "    <tr>\n",
       "      <th>SALES_DATE</th>\n",
       "      <th></th>\n",
       "      <th></th>\n",
       "      <th></th>\n",
       "      <th></th>\n",
       "      <th></th>\n",
       "    </tr>\n",
       "  </thead>\n",
       "  <tbody>\n",
       "    <tr>\n",
       "      <th>2022-08-01</th>\n",
       "      <td>5.293547</td>\n",
       "      <td>4.670605</td>\n",
       "      <td>7.596600</td>\n",
       "      <td>2</td>\n",
       "      <td>NaN</td>\n",
       "    </tr>\n",
       "    <tr>\n",
       "      <th>2022-08-02</th>\n",
       "      <td>4.583834</td>\n",
       "      <td>3.722021</td>\n",
       "      <td>6.682930</td>\n",
       "      <td>2</td>\n",
       "      <td>NaN</td>\n",
       "    </tr>\n",
       "    <tr>\n",
       "      <th>2022-08-03</th>\n",
       "      <td>5.845206</td>\n",
       "      <td>7.705233</td>\n",
       "      <td>7.121755</td>\n",
       "      <td>2</td>\n",
       "      <td>NaN</td>\n",
       "    </tr>\n",
       "    <tr>\n",
       "      <th>2022-08-04</th>\n",
       "      <td>6.200072</td>\n",
       "      <td>4.771756</td>\n",
       "      <td>7.462633</td>\n",
       "      <td>2</td>\n",
       "      <td>NaN</td>\n",
       "    </tr>\n",
       "    <tr>\n",
       "      <th>2022-08-05</th>\n",
       "      <td>5.996266</td>\n",
       "      <td>1.475201</td>\n",
       "      <td>7.714188</td>\n",
       "      <td>2</td>\n",
       "      <td>NaN</td>\n",
       "    </tr>\n",
       "    <tr>\n",
       "      <th>2022-08-06</th>\n",
       "      <td>6.685042</td>\n",
       "      <td>5.364844</td>\n",
       "      <td>7.645349</td>\n",
       "      <td>2</td>\n",
       "      <td>NaN</td>\n",
       "    </tr>\n",
       "    <tr>\n",
       "      <th>2022-08-07</th>\n",
       "      <td>3.739766</td>\n",
       "      <td>-0.006394</td>\n",
       "      <td>3.946812</td>\n",
       "      <td>2</td>\n",
       "      <td>NaN</td>\n",
       "    </tr>\n",
       "  </tbody>\n",
       "</table>\n",
       "</div>"
      ],
      "text/plain": [
       "            STL_prediction  MSTL_prediction  prophet_prediction  \\\n",
       "SALES_DATE                                                        \n",
       "2022-08-01        5.293547         4.670605            7.596600   \n",
       "2022-08-02        4.583834         3.722021            6.682930   \n",
       "2022-08-03        5.845206         7.705233            7.121755   \n",
       "2022-08-04        6.200072         4.771756            7.462633   \n",
       "2022-08-05        5.996266         1.475201            7.714188   \n",
       "2022-08-06        6.685042         5.364844            7.645349   \n",
       "2022-08-07        3.739766        -0.006394            3.946812   \n",
       "\n",
       "            Encoded_SKU_ID actual  \n",
       "SALES_DATE                         \n",
       "2022-08-01               2    NaN  \n",
       "2022-08-02               2    NaN  \n",
       "2022-08-03               2    NaN  \n",
       "2022-08-04               2    NaN  \n",
       "2022-08-05               2    NaN  \n",
       "2022-08-06               2    NaN  \n",
       "2022-08-07               2    NaN  "
      ]
     },
     "execution_count": 25,
     "metadata": {},
     "output_type": "execute_result"
    }
   ],
   "source": [
    "y_pred"
   ]
  },
  {
   "cell_type": "markdown",
   "id": "7163725b",
   "metadata": {},
   "source": [
    "### Run for all SKUs"
   ]
  },
  {
   "cell_type": "code",
   "execution_count": 26,
   "id": "55664e0b",
   "metadata": {},
   "outputs": [],
   "source": [
    "from joblib import Parallel, delayed\n",
    "from IPython.utils import io\n",
    "from tqdm import tqdm"
   ]
  },
  {
   "cell_type": "code",
   "execution_count": 27,
   "id": "ba798d89",
   "metadata": {},
   "outputs": [],
   "source": [
    "def fit_one_sku(train_test_pivot1,sku_id1, n_lags_y1, n_lags_exog1, exog_cols1):\n",
    "    train_test_sku1 = train_test_pivot1.loc[:,(sku_id1,)].copy()\n",
    "    train_test_sku1[\"ad_time\"] = list(range(1,train_test_sku1.shape[0]+1))\n",
    "    stl_model1 = stl_model(sku_id = sku_id1,\\\n",
    "                      train_test_sku = train_test_sku1,\\\n",
    "                      n_lags_y = n_lags_y1, \\\n",
    "                      n_lags_exog = n_lags_exog1, \\\n",
    "                      pred_cols = exog_cols1)\n",
    "    try:\n",
    "        with io.capture_output() as captured:\n",
    "            m_dict, y_dict = stl_model1.fit_models();\n",
    "            min_models, y_pred = stl_model1.get_result();\n",
    "        print (f\"Successful for {sku_id1}\")\n",
    "        return (min_models, y_pred)\n",
    "    except:\n",
    "        print (f\"Error for {sku_id1}\")"
   ]
  },
  {
   "cell_type": "code",
   "execution_count": 28,
   "id": "ceb2189a",
   "metadata": {},
   "outputs": [
    {
     "data": {
      "text/plain": [
       "223"
      ]
     },
     "execution_count": 28,
     "metadata": {},
     "output_type": "execute_result"
    }
   ],
   "source": [
    "len(stl_skus)"
   ]
  },
  {
   "cell_type": "code",
   "execution_count": null,
   "id": "865806ad",
   "metadata": {},
   "outputs": [
    {
     "name": "stderr",
     "output_type": "stream",
     "text": [
      "  0%|                                                                                                                                                  | 0/223 [00:00<?, ?it/s]Importing plotly failed. Interactive plots will not work.\n",
      "Importing plotly failed. Interactive plots will not work.\n",
      "/var/folders/kb/v0p0ypbd0wx1q2qb1kpxmmcc0000gn/T/ipykernel_62682/2183440621.py:2: PerformanceWarning: indexing past lexsort depth may impact performance.\n",
      "Importing plotly failed. Interactive plots will not work.\n",
      "/var/folders/kb/v0p0ypbd0wx1q2qb1kpxmmcc0000gn/T/ipykernel_62682/2183440621.py:2: PerformanceWarning: indexing past lexsort depth may impact performance.\n",
      "Importing plotly failed. Interactive plots will not work.\n",
      "/var/folders/kb/v0p0ypbd0wx1q2qb1kpxmmcc0000gn/T/ipykernel_62682/2183440621.py:2: PerformanceWarning: indexing past lexsort depth may impact performance.\n",
      "Importing plotly failed. Interactive plots will not work.\n",
      "/var/folders/kb/v0p0ypbd0wx1q2qb1kpxmmcc0000gn/T/ipykernel_62682/2183440621.py:2: PerformanceWarning: indexing past lexsort depth may impact performance.\n",
      "/var/folders/kb/v0p0ypbd0wx1q2qb1kpxmmcc0000gn/T/ipykernel_62682/2183440621.py:2: PerformanceWarning: indexing past lexsort depth may impact performance.\n",
      "  4%|██████                                                                                                                                 | 10/223 [04:52<1:43:58, 29.29s/it]/var/folders/kb/v0p0ypbd0wx1q2qb1kpxmmcc0000gn/T/ipykernel_62682/2183440621.py:2: PerformanceWarning: indexing past lexsort depth may impact performance.\n",
      "/var/folders/kb/v0p0ypbd0wx1q2qb1kpxmmcc0000gn/T/ipykernel_62682/2183440621.py:2: PerformanceWarning: indexing past lexsort depth may impact performance.\n",
      "/var/folders/kb/v0p0ypbd0wx1q2qb1kpxmmcc0000gn/T/ipykernel_62682/2183440621.py:2: PerformanceWarning: indexing past lexsort depth may impact performance.\n",
      "/var/folders/kb/v0p0ypbd0wx1q2qb1kpxmmcc0000gn/T/ipykernel_62682/2183440621.py:2: PerformanceWarning: indexing past lexsort depth may impact performance.\n",
      "/var/folders/kb/v0p0ypbd0wx1q2qb1kpxmmcc0000gn/T/ipykernel_62682/2183440621.py:2: PerformanceWarning: indexing past lexsort depth may impact performance.\n",
      "  7%|█████████                                                                                                                              | 15/223 [07:43<1:48:24, 31.27s/it]/var/folders/kb/v0p0ypbd0wx1q2qb1kpxmmcc0000gn/T/ipykernel_62682/2183440621.py:2: PerformanceWarning: indexing past lexsort depth may impact performance.\n"
     ]
    }
   ],
   "source": [
    "all_preds = Parallel(n_jobs=5)(delayed(fit_one_sku)(train_test_pivot1 = original_train_pivot,\\\n",
    "                                                    sku_id1 = sku_id_i,\\\n",
    "                                                    n_lags_y1 = 30,\\\n",
    "                                                    n_lags_exog1 = 14,\\\n",
    "                                                    exog_cols1 = exog_cols) \\\n",
    "                               for sku_id_i in tqdm(stl_skus))"
   ]
  },
  {
   "cell_type": "code",
   "execution_count": null,
   "id": "e06423d3",
   "metadata": {},
   "outputs": [],
   "source": [
    "len(all_preds)"
   ]
  },
  {
   "cell_type": "code",
   "execution_count": null,
   "id": "41475ae7",
   "metadata": {},
   "outputs": [],
   "source": [
    "import pickle\n",
    "with open('../../data/stl_prophet_final_results_127sku2.pkl', 'wb') as f:\n",
    "    pickle.dump(all_preds, f)"
   ]
  }
 ],
 "metadata": {
  "kernelspec": {
   "display_name": "Python 3 (ipykernel)",
   "language": "python",
   "name": "python3"
  },
  "language_info": {
   "codemirror_mode": {
    "name": "ipython",
    "version": 3
   },
   "file_extension": ".py",
   "mimetype": "text/x-python",
   "name": "python",
   "nbconvert_exporter": "python",
   "pygments_lexer": "ipython3",
   "version": "3.9.15"
  }
 },
 "nbformat": 4,
 "nbformat_minor": 5
}
