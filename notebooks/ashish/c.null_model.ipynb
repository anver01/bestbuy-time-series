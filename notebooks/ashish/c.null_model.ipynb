{
 "cells": [
  {
   "cell_type": "code",
   "execution_count": 1,
   "id": "3af9888e",
   "metadata": {},
   "outputs": [
    {
     "name": "stdout",
     "output_type": "stream",
     "text": [
      "/Users/ashish1610dhiman/data_projects/bestbuy/notebooks/ashish\r\n"
     ]
    }
   ],
   "source": [
    "!pwd"
   ]
  },
  {
   "cell_type": "code",
   "execution_count": 2,
   "id": "6ec09da6",
   "metadata": {},
   "outputs": [
    {
     "data": {
      "text/plain": [
       "'3.9.15 | packaged by conda-forge | (main, Nov 22 2022, 08:55:37) \\n[Clang 14.0.6 ]'"
      ]
     },
     "execution_count": 2,
     "metadata": {},
     "output_type": "execute_result"
    }
   ],
   "source": [
    "import sys\n",
    "import matplotlib\n",
    "import numpy as np\n",
    "import pandas as pd\n",
    "import matplotlib.pyplot as plt\n",
    "import datetime\n",
    "\n",
    "sys.version"
   ]
  },
  {
   "cell_type": "code",
   "execution_count": 3,
   "id": "a2b42e8b",
   "metadata": {},
   "outputs": [],
   "source": [
    "%load_ext autoreload \n",
    "%autoreload 2"
   ]
  },
  {
   "cell_type": "markdown",
   "id": "48afa9cd",
   "metadata": {},
   "source": [
    "### Null model\n",
    "$$\n",
    "x_t = x_{t-1}\n",
    "$$"
   ]
  },
  {
   "cell_type": "code",
   "execution_count": 4,
   "id": "2c8ba0e5",
   "metadata": {},
   "outputs": [
    {
     "data": {
      "text/html": [
       "<div>\n",
       "<style scoped>\n",
       "    .dataframe tbody tr th:only-of-type {\n",
       "        vertical-align: middle;\n",
       "    }\n",
       "\n",
       "    .dataframe tbody tr th {\n",
       "        vertical-align: top;\n",
       "    }\n",
       "\n",
       "    .dataframe thead th {\n",
       "        text-align: right;\n",
       "    }\n",
       "</style>\n",
       "<table border=\"1\" class=\"dataframe\">\n",
       "  <thead>\n",
       "    <tr style=\"text-align: right;\">\n",
       "      <th></th>\n",
       "      <th>Encoded_SKU_ID</th>\n",
       "      <th>SALES_DATE</th>\n",
       "      <th>SUBCLASS_NAME</th>\n",
       "      <th>CLASS_NAME</th>\n",
       "      <th>ML_NAME</th>\n",
       "      <th>CATEGORY_NAME</th>\n",
       "      <th>RETAIL_PRICE</th>\n",
       "      <th>PROMO_PRICE</th>\n",
       "      <th>COMPETITOR_PRICE</th>\n",
       "      <th>Inventory</th>\n",
       "      <th>DAILY_UNITS</th>\n",
       "      <th>max_SALES_DATE</th>\n",
       "      <th>delta_days</th>\n",
       "      <th>validation</th>\n",
       "      <th>validation_clean</th>\n",
       "    </tr>\n",
       "  </thead>\n",
       "  <tbody>\n",
       "    <tr>\n",
       "      <th>0</th>\n",
       "      <td>1</td>\n",
       "      <td>2017-09-28</td>\n",
       "      <td>MISC CAMERA ACCES</td>\n",
       "      <td>DIGITAL CAMERA ACCY</td>\n",
       "      <td>ML - DI Accessories</td>\n",
       "      <td>VP - Digital Imaging</td>\n",
       "      <td>89.99</td>\n",
       "      <td>?</td>\n",
       "      <td>?</td>\n",
       "      <td>Fully-Stocked</td>\n",
       "      <td>1</td>\n",
       "      <td>2022-07-31</td>\n",
       "      <td>1767</td>\n",
       "      <td>False</td>\n",
       "      <td>True</td>\n",
       "    </tr>\n",
       "    <tr>\n",
       "      <th>1</th>\n",
       "      <td>2</td>\n",
       "      <td>2017-11-24</td>\n",
       "      <td>CAMERA BATTERIES</td>\n",
       "      <td>DIGITAL CAMERA ACCY</td>\n",
       "      <td>ML - DI Accessories</td>\n",
       "      <td>VP - Digital Imaging</td>\n",
       "      <td>39.99</td>\n",
       "      <td>?</td>\n",
       "      <td>?</td>\n",
       "      <td>Fully-Stocked</td>\n",
       "      <td>18</td>\n",
       "      <td>2022-07-31</td>\n",
       "      <td>1710</td>\n",
       "      <td>False</td>\n",
       "      <td>True</td>\n",
       "    </tr>\n",
       "    <tr>\n",
       "      <th>2</th>\n",
       "      <td>3</td>\n",
       "      <td>2019-11-28</td>\n",
       "      <td>SO PARTS</td>\n",
       "      <td>MOBILE ACCESSORIES</td>\n",
       "      <td>ML - Connected Car</td>\n",
       "      <td>VP - Electrify &amp; Car</td>\n",
       "      <td>49.99</td>\n",
       "      <td>?</td>\n",
       "      <td>46.98</td>\n",
       "      <td>Constrained</td>\n",
       "      <td>7</td>\n",
       "      <td>2022-07-31</td>\n",
       "      <td>976</td>\n",
       "      <td>False</td>\n",
       "      <td>True</td>\n",
       "    </tr>\n",
       "    <tr>\n",
       "      <th>3</th>\n",
       "      <td>4</td>\n",
       "      <td>2021-04-21</td>\n",
       "      <td>SO RANGEHOODS REG</td>\n",
       "      <td>KITCHEN VENTILATION</td>\n",
       "      <td>ML - Kitchen</td>\n",
       "      <td>VP - Major Appliances</td>\n",
       "      <td>549.99</td>\n",
       "      <td>?</td>\n",
       "      <td>498</td>\n",
       "      <td>Fully-Stocked</td>\n",
       "      <td>6</td>\n",
       "      <td>2022-07-31</td>\n",
       "      <td>466</td>\n",
       "      <td>False</td>\n",
       "      <td>False</td>\n",
       "    </tr>\n",
       "    <tr>\n",
       "      <th>4</th>\n",
       "      <td>1</td>\n",
       "      <td>2018-10-27</td>\n",
       "      <td>MISC CAMERA ACCES</td>\n",
       "      <td>DIGITAL CAMERA ACCY</td>\n",
       "      <td>ML - DI Accessories</td>\n",
       "      <td>VP - Digital Imaging</td>\n",
       "      <td>89.99</td>\n",
       "      <td>?</td>\n",
       "      <td>?</td>\n",
       "      <td>Fully-Stocked</td>\n",
       "      <td>7</td>\n",
       "      <td>2022-07-31</td>\n",
       "      <td>1373</td>\n",
       "      <td>False</td>\n",
       "      <td>True</td>\n",
       "    </tr>\n",
       "  </tbody>\n",
       "</table>\n",
       "</div>"
      ],
      "text/plain": [
       "   Encoded_SKU_ID SALES_DATE      SUBCLASS_NAME           CLASS_NAME  \\\n",
       "0               1 2017-09-28  MISC CAMERA ACCES  DIGITAL CAMERA ACCY   \n",
       "1               2 2017-11-24   CAMERA BATTERIES  DIGITAL CAMERA ACCY   \n",
       "2               3 2019-11-28           SO PARTS   MOBILE ACCESSORIES   \n",
       "3               4 2021-04-21  SO RANGEHOODS REG  KITCHEN VENTILATION   \n",
       "4               1 2018-10-27  MISC CAMERA ACCES  DIGITAL CAMERA ACCY   \n",
       "\n",
       "               ML_NAME          CATEGORY_NAME  RETAIL_PRICE PROMO_PRICE  \\\n",
       "0  ML - DI Accessories   VP - Digital Imaging         89.99           ?   \n",
       "1  ML - DI Accessories   VP - Digital Imaging         39.99           ?   \n",
       "2   ML - Connected Car   VP - Electrify & Car         49.99           ?   \n",
       "3         ML - Kitchen  VP - Major Appliances        549.99           ?   \n",
       "4  ML - DI Accessories   VP - Digital Imaging         89.99           ?   \n",
       "\n",
       "  COMPETITOR_PRICE      Inventory  DAILY_UNITS max_SALES_DATE  delta_days  \\\n",
       "0                ?  Fully-Stocked            1     2022-07-31        1767   \n",
       "1                ?  Fully-Stocked           18     2022-07-31        1710   \n",
       "2            46.98    Constrained            7     2022-07-31         976   \n",
       "3              498  Fully-Stocked            6     2022-07-31         466   \n",
       "4                ?  Fully-Stocked            7     2022-07-31        1373   \n",
       "\n",
       "   validation  validation_clean  \n",
       "0       False              True  \n",
       "1       False              True  \n",
       "2       False              True  \n",
       "3       False             False  \n",
       "4       False              True  "
      ]
     },
     "execution_count": 4,
     "metadata": {},
     "output_type": "execute_result"
    }
   ],
   "source": [
    "train_test = pd.read_csv(\"../../data/train_validation_marker.csv\")\n",
    "train_test[\"SALES_DATE\"] = pd.to_datetime(train_test[\"SALES_DATE\"])\n",
    "train_test.head()"
   ]
  },
  {
   "cell_type": "code",
   "execution_count": 5,
   "id": "464c05ea",
   "metadata": {},
   "outputs": [
    {
     "data": {
      "text/plain": [
       "((797490, 15), (3815, 15))"
      ]
     },
     "execution_count": 5,
     "metadata": {},
     "output_type": "execute_result"
    }
   ],
   "source": [
    "#clean train/test\n",
    "train = train_test[(train_test.validation==False) & (train_test.validation_clean==True)]\n",
    "validation = train_test[(train_test.validation==True) & (train_test.validation_clean==True)]\n",
    "train.shape,validation.shape"
   ]
  },
  {
   "cell_type": "code",
   "execution_count": 6,
   "id": "68738d67",
   "metadata": {},
   "outputs": [],
   "source": [
    "validation = validation.sort_values(by = [\"Encoded_SKU_ID\",\"SALES_DATE\"])"
   ]
  },
  {
   "cell_type": "markdown",
   "id": "34bdc046",
   "metadata": {},
   "source": [
    "### Null model"
   ]
  },
  {
   "cell_type": "code",
   "execution_count": 7,
   "id": "70915f2d",
   "metadata": {},
   "outputs": [
    {
     "data": {
      "text/plain": [
       "[Timestamp('2022-07-25 00:00:00'),\n",
       " Timestamp('2022-07-26 00:00:00'),\n",
       " Timestamp('2022-07-27 00:00:00'),\n",
       " Timestamp('2022-07-28 00:00:00'),\n",
       " Timestamp('2022-07-29 00:00:00'),\n",
       " Timestamp('2022-07-30 00:00:00'),\n",
       " Timestamp('2022-07-31 00:00:00')]"
      ]
     },
     "execution_count": 7,
     "metadata": {},
     "output_type": "execute_result"
    }
   ],
   "source": [
    "sku_pred_dates = validation.groupby('Encoded_SKU_ID')['SALES_DATE'].apply(list).reset_index()\n",
    "sku_pred_dates.iloc[0][\"SALES_DATE\"]"
   ]
  },
  {
   "cell_type": "code",
   "execution_count": 8,
   "id": "3ade889b",
   "metadata": {},
   "outputs": [
    {
     "data": {
      "text/plain": [
       "(545, 2)"
      ]
     },
     "execution_count": 8,
     "metadata": {},
     "output_type": "execute_result"
    }
   ],
   "source": [
    "sku_pred_dates.shape"
   ]
  },
  {
   "cell_type": "code",
   "execution_count": 9,
   "id": "f1d00165",
   "metadata": {},
   "outputs": [
    {
     "data": {
      "text/plain": [
       "545"
      ]
     },
     "execution_count": 9,
     "metadata": {},
     "output_type": "execute_result"
    }
   ],
   "source": [
    "last_train_day = (train[\"SALES_DATE\"]==\"2022-07-24\")\n",
    "last_train_day.sum()"
   ]
  },
  {
   "cell_type": "code",
   "execution_count": 10,
   "id": "8757a0d1",
   "metadata": {},
   "outputs": [
    {
     "data": {
      "text/html": [
       "<div>\n",
       "<style scoped>\n",
       "    .dataframe tbody tr th:only-of-type {\n",
       "        vertical-align: middle;\n",
       "    }\n",
       "\n",
       "    .dataframe tbody tr th {\n",
       "        vertical-align: top;\n",
       "    }\n",
       "\n",
       "    .dataframe thead th {\n",
       "        text-align: right;\n",
       "    }\n",
       "</style>\n",
       "<table border=\"1\" class=\"dataframe\">\n",
       "  <thead>\n",
       "    <tr style=\"text-align: right;\">\n",
       "      <th></th>\n",
       "      <th>Encoded_SKU_ID</th>\n",
       "      <th>DAILY_UNITS</th>\n",
       "    </tr>\n",
       "  </thead>\n",
       "  <tbody>\n",
       "    <tr>\n",
       "      <th>0</th>\n",
       "      <td>10</td>\n",
       "      <td>2</td>\n",
       "    </tr>\n",
       "    <tr>\n",
       "      <th>1</th>\n",
       "      <td>484</td>\n",
       "      <td>2</td>\n",
       "    </tr>\n",
       "    <tr>\n",
       "      <th>2</th>\n",
       "      <td>520</td>\n",
       "      <td>1</td>\n",
       "    </tr>\n",
       "    <tr>\n",
       "      <th>3</th>\n",
       "      <td>135</td>\n",
       "      <td>0</td>\n",
       "    </tr>\n",
       "    <tr>\n",
       "      <th>4</th>\n",
       "      <td>344</td>\n",
       "      <td>1</td>\n",
       "    </tr>\n",
       "  </tbody>\n",
       "</table>\n",
       "</div>"
      ],
      "text/plain": [
       "   Encoded_SKU_ID  DAILY_UNITS\n",
       "0              10            2\n",
       "1             484            2\n",
       "2             520            1\n",
       "3             135            0\n",
       "4             344            1"
      ]
     },
     "execution_count": 10,
     "metadata": {},
     "output_type": "execute_result"
    }
   ],
   "source": [
    "last_pred = train[last_train_day][[\"Encoded_SKU_ID\",\"DAILY_UNITS\"]].reset_index(drop=True)\n",
    "last_pred.head()"
   ]
  },
  {
   "cell_type": "code",
   "execution_count": 11,
   "id": "43e0b22b",
   "metadata": {},
   "outputs": [
    {
     "data": {
      "text/html": [
       "<div>\n",
       "<style scoped>\n",
       "    .dataframe tbody tr th:only-of-type {\n",
       "        vertical-align: middle;\n",
       "    }\n",
       "\n",
       "    .dataframe tbody tr th {\n",
       "        vertical-align: top;\n",
       "    }\n",
       "\n",
       "    .dataframe thead th {\n",
       "        text-align: right;\n",
       "    }\n",
       "</style>\n",
       "<table border=\"1\" class=\"dataframe\">\n",
       "  <thead>\n",
       "    <tr style=\"text-align: right;\">\n",
       "      <th></th>\n",
       "      <th>Encoded_SKU_ID</th>\n",
       "      <th>SALES_DATE</th>\n",
       "      <th>predicted</th>\n",
       "    </tr>\n",
       "  </thead>\n",
       "  <tbody>\n",
       "    <tr>\n",
       "      <th>0</th>\n",
       "      <td>1</td>\n",
       "      <td>[2022-07-25 00:00:00, 2022-07-26 00:00:00, 202...</td>\n",
       "      <td>1</td>\n",
       "    </tr>\n",
       "    <tr>\n",
       "      <th>1</th>\n",
       "      <td>2</td>\n",
       "      <td>[2022-07-25 00:00:00, 2022-07-26 00:00:00, 202...</td>\n",
       "      <td>1</td>\n",
       "    </tr>\n",
       "    <tr>\n",
       "      <th>2</th>\n",
       "      <td>3</td>\n",
       "      <td>[2022-07-25 00:00:00, 2022-07-26 00:00:00, 202...</td>\n",
       "      <td>2</td>\n",
       "    </tr>\n",
       "    <tr>\n",
       "      <th>3</th>\n",
       "      <td>5</td>\n",
       "      <td>[2022-07-25 00:00:00, 2022-07-26 00:00:00, 202...</td>\n",
       "      <td>3</td>\n",
       "    </tr>\n",
       "    <tr>\n",
       "      <th>4</th>\n",
       "      <td>6</td>\n",
       "      <td>[2022-07-25 00:00:00, 2022-07-26 00:00:00, 202...</td>\n",
       "      <td>12</td>\n",
       "    </tr>\n",
       "  </tbody>\n",
       "</table>\n",
       "</div>"
      ],
      "text/plain": [
       "   Encoded_SKU_ID                                         SALES_DATE  \\\n",
       "0               1  [2022-07-25 00:00:00, 2022-07-26 00:00:00, 202...   \n",
       "1               2  [2022-07-25 00:00:00, 2022-07-26 00:00:00, 202...   \n",
       "2               3  [2022-07-25 00:00:00, 2022-07-26 00:00:00, 202...   \n",
       "3               5  [2022-07-25 00:00:00, 2022-07-26 00:00:00, 202...   \n",
       "4               6  [2022-07-25 00:00:00, 2022-07-26 00:00:00, 202...   \n",
       "\n",
       "   predicted  \n",
       "0          1  \n",
       "1          1  \n",
       "2          2  \n",
       "3          3  \n",
       "4         12  "
      ]
     },
     "execution_count": 11,
     "metadata": {},
     "output_type": "execute_result"
    }
   ],
   "source": [
    "y_pred = sku_pred_dates.merge(last_pred,on=[\"Encoded_SKU_ID\"],how=\"left\").rename(columns={\"DAILY_UNITS\":\"predicted\"})\n",
    "y_pred.head()"
   ]
  },
  {
   "cell_type": "code",
   "execution_count": 12,
   "id": "33cc9ed7",
   "metadata": {},
   "outputs": [],
   "source": [
    "y_pred = y_pred.explode('SALES_DATE')"
   ]
  },
  {
   "cell_type": "markdown",
   "id": "2331feea",
   "metadata": {},
   "source": [
    "### Create model"
   ]
  },
  {
   "cell_type": "code",
   "execution_count": 13,
   "id": "5098b23e",
   "metadata": {},
   "outputs": [],
   "source": [
    "def rmse(y_act,y_pred):\n",
    "    \"\"\"\n",
    "    y_act : pd df with Encoded_SKU_ID and SALES_DATE\n",
    "    y_pred : pd df with Encoded_SKU_ID and SALES_DATE\n",
    "    \"\"\"\n",
    "    assert all(y_act.dtypes.values == y_pred.dtypes.values), \"Column types do not match\"\n",
    "    df_join = y_act.merge(y_pred,on=[\"Encoded_SKU_ID\",\"SALES_DATE\"])\n",
    "    assert df_join.shape[0]==y_act.shape[0], \"y_act and y_pred shapes do not match\"\n",
    "    rmse = np.sqrt(np.mean((df_join.actual-df_join.predicted)**2))\n",
    "    return rmse"
   ]
  },
  {
   "cell_type": "code",
   "execution_count": 14,
   "id": "c23662f5",
   "metadata": {},
   "outputs": [
    {
     "data": {
      "text/html": [
       "<div>\n",
       "<style scoped>\n",
       "    .dataframe tbody tr th:only-of-type {\n",
       "        vertical-align: middle;\n",
       "    }\n",
       "\n",
       "    .dataframe tbody tr th {\n",
       "        vertical-align: top;\n",
       "    }\n",
       "\n",
       "    .dataframe thead th {\n",
       "        text-align: right;\n",
       "    }\n",
       "</style>\n",
       "<table border=\"1\" class=\"dataframe\">\n",
       "  <thead>\n",
       "    <tr style=\"text-align: right;\">\n",
       "      <th></th>\n",
       "      <th>Encoded_SKU_ID</th>\n",
       "      <th>SALES_DATE</th>\n",
       "      <th>actual</th>\n",
       "    </tr>\n",
       "  </thead>\n",
       "  <tbody>\n",
       "    <tr>\n",
       "      <th>82792</th>\n",
       "      <td>1</td>\n",
       "      <td>2022-07-25</td>\n",
       "      <td>0</td>\n",
       "    </tr>\n",
       "    <tr>\n",
       "      <th>607613</th>\n",
       "      <td>1</td>\n",
       "      <td>2022-07-26</td>\n",
       "      <td>0</td>\n",
       "    </tr>\n",
       "    <tr>\n",
       "      <th>225673</th>\n",
       "      <td>1</td>\n",
       "      <td>2022-07-27</td>\n",
       "      <td>0</td>\n",
       "    </tr>\n",
       "    <tr>\n",
       "      <th>680505</th>\n",
       "      <td>1</td>\n",
       "      <td>2022-07-28</td>\n",
       "      <td>2</td>\n",
       "    </tr>\n",
       "    <tr>\n",
       "      <th>394968</th>\n",
       "      <td>1</td>\n",
       "      <td>2022-07-29</td>\n",
       "      <td>2</td>\n",
       "    </tr>\n",
       "  </tbody>\n",
       "</table>\n",
       "</div>"
      ],
      "text/plain": [
       "        Encoded_SKU_ID SALES_DATE  actual\n",
       "82792                1 2022-07-25       0\n",
       "607613               1 2022-07-26       0\n",
       "225673               1 2022-07-27       0\n",
       "680505               1 2022-07-28       2\n",
       "394968               1 2022-07-29       2"
      ]
     },
     "execution_count": 14,
     "metadata": {},
     "output_type": "execute_result"
    }
   ],
   "source": [
    "y_act = validation[[\"Encoded_SKU_ID\",\"SALES_DATE\",\"DAILY_UNITS\"]].rename(columns = {\"DAILY_UNITS\":\"actual\"})\n",
    "y_act.head()"
   ]
  },
  {
   "cell_type": "code",
   "execution_count": 15,
   "id": "8924bf24",
   "metadata": {},
   "outputs": [
    {
     "data": {
      "text/plain": [
       "array([dtype('int64'), dtype('<M8[ns]'), dtype('int64')], dtype=object)"
      ]
     },
     "execution_count": 15,
     "metadata": {},
     "output_type": "execute_result"
    }
   ],
   "source": [
    "y_act.dtypes.values"
   ]
  },
  {
   "cell_type": "code",
   "execution_count": 16,
   "id": "46d5f24e",
   "metadata": {},
   "outputs": [
    {
     "data": {
      "text/plain": [
       "Encoded_SKU_ID             int64\n",
       "SALES_DATE        datetime64[ns]\n",
       "predicted                  int64\n",
       "dtype: object"
      ]
     },
     "execution_count": 16,
     "metadata": {},
     "output_type": "execute_result"
    }
   ],
   "source": [
    "y_pred.dtypes"
   ]
  },
  {
   "cell_type": "code",
   "execution_count": 17,
   "id": "dcfb8dca",
   "metadata": {},
   "outputs": [
    {
     "data": {
      "text/plain": [
       "True"
      ]
     },
     "execution_count": 17,
     "metadata": {},
     "output_type": "execute_result"
    }
   ],
   "source": [
    "all(y_act.dtypes.values == y_pred.dtypes.values)"
   ]
  },
  {
   "cell_type": "code",
   "execution_count": 18,
   "id": "2fba9507",
   "metadata": {},
   "outputs": [],
   "source": [
    "y_act[\"SALES_DATE\"] = pd.to_datetime(y_act[\"SALES_DATE\"])"
   ]
  },
  {
   "cell_type": "code",
   "execution_count": 19,
   "id": "a99ea01f",
   "metadata": {},
   "outputs": [
    {
     "data": {
      "text/plain": [
       "6.59603916258372"
      ]
     },
     "execution_count": 19,
     "metadata": {},
     "output_type": "execute_result"
    }
   ],
   "source": [
    "rmse(y_act,y_pred)"
   ]
  },
  {
   "cell_type": "markdown",
   "id": "498d059a",
   "metadata": {},
   "source": [
    "### RMSR SKUs"
   ]
  },
  {
   "cell_type": "code",
   "execution_count": 20,
   "id": "ba481356",
   "metadata": {},
   "outputs": [],
   "source": [
    "def rmse_sku(y_act,y_pred, asc_sort = False):\n",
    "    \"\"\"\n",
    "    y_act : pd df with Encoded_SKU_ID and SALES_DATE\n",
    "    y_pred : pd df with Encoded_SKU_ID and SALES_DATE\n",
    "    \"\"\"\n",
    "    assert all(y_act.dtypes.values == y_pred.dtypes.values), \"Column types do not match\"\n",
    "    df_join = y_act.merge(y_pred,on=[\"Encoded_SKU_ID\",\"SALES_DATE\"])\n",
    "    assert df_join.shape[0]==y_act.shape[0], \"y_act and y_pred shapes do not match\"\n",
    "    rmse_lambda = lambda x: np.sqrt(np.mean((x.actual-x.predicted)**2))\n",
    "    rmse_skus = df_join.groupby(\"Encoded_SKU_ID\").apply(lambda x: (rmse_lambda(x),x[\"actual\"].mean()))\n",
    "    rmse_skus1 = pd.DataFrame(rmse_skus.tolist(), index=rmse_skus.index)\n",
    "    rmse_skus1.columns = [\"rmse_du\",\"mean_du\"]\n",
    "    rmse_skus1[\"pct_rmse\"] = rmse_skus1[\"rmse_du\"]/rmse_skus1[\"mean_du\"]\n",
    "    return rmse_skus1.sort_values(by=[\"rmse_du\"],ascending = asc_sort)"
   ]
  },
  {
   "cell_type": "code",
   "execution_count": 21,
   "id": "5ee86deb",
   "metadata": {},
   "outputs": [
    {
     "data": {
      "text/html": [
       "<div>\n",
       "<style scoped>\n",
       "    .dataframe tbody tr th:only-of-type {\n",
       "        vertical-align: middle;\n",
       "    }\n",
       "\n",
       "    .dataframe tbody tr th {\n",
       "        vertical-align: top;\n",
       "    }\n",
       "\n",
       "    .dataframe thead th {\n",
       "        text-align: right;\n",
       "    }\n",
       "</style>\n",
       "<table border=\"1\" class=\"dataframe\">\n",
       "  <thead>\n",
       "    <tr style=\"text-align: right;\">\n",
       "      <th></th>\n",
       "      <th>rmse_du</th>\n",
       "      <th>mean_du</th>\n",
       "      <th>pct_rmse</th>\n",
       "    </tr>\n",
       "    <tr>\n",
       "      <th>Encoded_SKU_ID</th>\n",
       "      <th></th>\n",
       "      <th></th>\n",
       "      <th></th>\n",
       "    </tr>\n",
       "  </thead>\n",
       "  <tbody>\n",
       "    <tr>\n",
       "      <th>1</th>\n",
       "      <td>0.0</td>\n",
       "      <td>0.857143</td>\n",
       "      <td>0.0</td>\n",
       "    </tr>\n",
       "    <tr>\n",
       "      <th>388</th>\n",
       "      <td>0.0</td>\n",
       "      <td>4.285714</td>\n",
       "      <td>0.0</td>\n",
       "    </tr>\n",
       "    <tr>\n",
       "      <th>381</th>\n",
       "      <td>0.0</td>\n",
       "      <td>17.714286</td>\n",
       "      <td>0.0</td>\n",
       "    </tr>\n",
       "    <tr>\n",
       "      <th>382</th>\n",
       "      <td>0.0</td>\n",
       "      <td>18.571429</td>\n",
       "      <td>0.0</td>\n",
       "    </tr>\n",
       "    <tr>\n",
       "      <th>384</th>\n",
       "      <td>0.0</td>\n",
       "      <td>1.857143</td>\n",
       "      <td>0.0</td>\n",
       "    </tr>\n",
       "    <tr>\n",
       "      <th>...</th>\n",
       "      <td>...</td>\n",
       "      <td>...</td>\n",
       "      <td>...</td>\n",
       "    </tr>\n",
       "    <tr>\n",
       "      <th>185</th>\n",
       "      <td>0.0</td>\n",
       "      <td>11.857143</td>\n",
       "      <td>0.0</td>\n",
       "    </tr>\n",
       "    <tr>\n",
       "      <th>184</th>\n",
       "      <td>0.0</td>\n",
       "      <td>3.571429</td>\n",
       "      <td>0.0</td>\n",
       "    </tr>\n",
       "    <tr>\n",
       "      <th>183</th>\n",
       "      <td>0.0</td>\n",
       "      <td>4.000000</td>\n",
       "      <td>0.0</td>\n",
       "    </tr>\n",
       "    <tr>\n",
       "      <th>182</th>\n",
       "      <td>0.0</td>\n",
       "      <td>3.428571</td>\n",
       "      <td>0.0</td>\n",
       "    </tr>\n",
       "    <tr>\n",
       "      <th>575</th>\n",
       "      <td>0.0</td>\n",
       "      <td>0.714286</td>\n",
       "      <td>0.0</td>\n",
       "    </tr>\n",
       "  </tbody>\n",
       "</table>\n",
       "<p>545 rows × 3 columns</p>\n",
       "</div>"
      ],
      "text/plain": [
       "                rmse_du    mean_du  pct_rmse\n",
       "Encoded_SKU_ID                              \n",
       "1                   0.0   0.857143       0.0\n",
       "388                 0.0   4.285714       0.0\n",
       "381                 0.0  17.714286       0.0\n",
       "382                 0.0  18.571429       0.0\n",
       "384                 0.0   1.857143       0.0\n",
       "...                 ...        ...       ...\n",
       "185                 0.0  11.857143       0.0\n",
       "184                 0.0   3.571429       0.0\n",
       "183                 0.0   4.000000       0.0\n",
       "182                 0.0   3.428571       0.0\n",
       "575                 0.0   0.714286       0.0\n",
       "\n",
       "[545 rows x 3 columns]"
      ]
     },
     "execution_count": 21,
     "metadata": {},
     "output_type": "execute_result"
    }
   ],
   "source": [
    "rmse_sku(y_act,y_act.rename(columns={\"actual\":\"predicted\"}))"
   ]
  },
  {
   "cell_type": "code",
   "execution_count": 22,
   "id": "b377e26a",
   "metadata": {},
   "outputs": [
    {
     "data": {
      "text/html": [
       "<div>\n",
       "<style scoped>\n",
       "    .dataframe tbody tr th:only-of-type {\n",
       "        vertical-align: middle;\n",
       "    }\n",
       "\n",
       "    .dataframe tbody tr th {\n",
       "        vertical-align: top;\n",
       "    }\n",
       "\n",
       "    .dataframe thead th {\n",
       "        text-align: right;\n",
       "    }\n",
       "</style>\n",
       "<table border=\"1\" class=\"dataframe\">\n",
       "  <thead>\n",
       "    <tr style=\"text-align: right;\">\n",
       "      <th></th>\n",
       "      <th>rmse_du</th>\n",
       "      <th>mean_du</th>\n",
       "      <th>pct_rmse</th>\n",
       "    </tr>\n",
       "    <tr>\n",
       "      <th>Encoded_SKU_ID</th>\n",
       "      <th></th>\n",
       "      <th></th>\n",
       "      <th></th>\n",
       "    </tr>\n",
       "  </thead>\n",
       "  <tbody>\n",
       "    <tr>\n",
       "      <th>469</th>\n",
       "      <td>129.112354</td>\n",
       "      <td>450.857143</td>\n",
       "      <td>0.286371</td>\n",
       "    </tr>\n",
       "    <tr>\n",
       "      <th>50</th>\n",
       "      <td>33.316662</td>\n",
       "      <td>42.000000</td>\n",
       "      <td>0.793254</td>\n",
       "    </tr>\n",
       "    <tr>\n",
       "      <th>557</th>\n",
       "      <td>30.460748</td>\n",
       "      <td>70.571429</td>\n",
       "      <td>0.431630</td>\n",
       "    </tr>\n",
       "    <tr>\n",
       "      <th>548</th>\n",
       "      <td>25.082720</td>\n",
       "      <td>16.142857</td>\n",
       "      <td>1.553797</td>\n",
       "    </tr>\n",
       "    <tr>\n",
       "      <th>430</th>\n",
       "      <td>18.551088</td>\n",
       "      <td>133.714286</td>\n",
       "      <td>0.138737</td>\n",
       "    </tr>\n",
       "    <tr>\n",
       "      <th>...</th>\n",
       "      <td>...</td>\n",
       "      <td>...</td>\n",
       "      <td>...</td>\n",
       "    </tr>\n",
       "    <tr>\n",
       "      <th>15</th>\n",
       "      <td>0.377964</td>\n",
       "      <td>0.142857</td>\n",
       "      <td>2.645751</td>\n",
       "    </tr>\n",
       "    <tr>\n",
       "      <th>289</th>\n",
       "      <td>0.377964</td>\n",
       "      <td>0.142857</td>\n",
       "      <td>2.645751</td>\n",
       "    </tr>\n",
       "    <tr>\n",
       "      <th>368</th>\n",
       "      <td>0.377964</td>\n",
       "      <td>0.142857</td>\n",
       "      <td>2.645751</td>\n",
       "    </tr>\n",
       "    <tr>\n",
       "      <th>533</th>\n",
       "      <td>0.377964</td>\n",
       "      <td>0.142857</td>\n",
       "      <td>2.645751</td>\n",
       "    </tr>\n",
       "    <tr>\n",
       "      <th>408</th>\n",
       "      <td>0.377964</td>\n",
       "      <td>0.142857</td>\n",
       "      <td>2.645751</td>\n",
       "    </tr>\n",
       "  </tbody>\n",
       "</table>\n",
       "<p>545 rows × 3 columns</p>\n",
       "</div>"
      ],
      "text/plain": [
       "                   rmse_du     mean_du  pct_rmse\n",
       "Encoded_SKU_ID                                  \n",
       "469             129.112354  450.857143  0.286371\n",
       "50               33.316662   42.000000  0.793254\n",
       "557              30.460748   70.571429  0.431630\n",
       "548              25.082720   16.142857  1.553797\n",
       "430              18.551088  133.714286  0.138737\n",
       "...                    ...         ...       ...\n",
       "15                0.377964    0.142857  2.645751\n",
       "289               0.377964    0.142857  2.645751\n",
       "368               0.377964    0.142857  2.645751\n",
       "533               0.377964    0.142857  2.645751\n",
       "408               0.377964    0.142857  2.645751\n",
       "\n",
       "[545 rows x 3 columns]"
      ]
     },
     "execution_count": 22,
     "metadata": {},
     "output_type": "execute_result"
    }
   ],
   "source": [
    "rmse_skus = rmse_sku(y_act,y_pred)\n",
    "rmse_skus"
   ]
  },
  {
   "cell_type": "code",
   "execution_count": 23,
   "id": "1328dec7",
   "metadata": {},
   "outputs": [
    {
     "data": {
      "text/html": [
       "<div>\n",
       "<style scoped>\n",
       "    .dataframe tbody tr th:only-of-type {\n",
       "        vertical-align: middle;\n",
       "    }\n",
       "\n",
       "    .dataframe tbody tr th {\n",
       "        vertical-align: top;\n",
       "    }\n",
       "\n",
       "    .dataframe thead th {\n",
       "        text-align: right;\n",
       "    }\n",
       "</style>\n",
       "<table border=\"1\" class=\"dataframe\">\n",
       "  <thead>\n",
       "    <tr style=\"text-align: right;\">\n",
       "      <th></th>\n",
       "      <th>rmse_du</th>\n",
       "    </tr>\n",
       "  </thead>\n",
       "  <tbody>\n",
       "    <tr>\n",
       "      <th>0.0</th>\n",
       "      <td>0.377964</td>\n",
       "    </tr>\n",
       "    <tr>\n",
       "      <th>0.1</th>\n",
       "      <td>0.755929</td>\n",
       "    </tr>\n",
       "    <tr>\n",
       "      <th>0.2</th>\n",
       "      <td>0.925820</td>\n",
       "    </tr>\n",
       "    <tr>\n",
       "      <th>0.3</th>\n",
       "      <td>1.133893</td>\n",
       "    </tr>\n",
       "    <tr>\n",
       "      <th>0.4</th>\n",
       "      <td>1.362770</td>\n",
       "    </tr>\n",
       "    <tr>\n",
       "      <th>0.5</th>\n",
       "      <td>1.558387</td>\n",
       "    </tr>\n",
       "    <tr>\n",
       "      <th>0.6</th>\n",
       "      <td>1.812654</td>\n",
       "    </tr>\n",
       "    <tr>\n",
       "      <th>0.7</th>\n",
       "      <td>2.267787</td>\n",
       "    </tr>\n",
       "    <tr>\n",
       "      <th>0.8</th>\n",
       "      <td>2.777460</td>\n",
       "    </tr>\n",
       "    <tr>\n",
       "      <th>0.9</th>\n",
       "      <td>3.809361</td>\n",
       "    </tr>\n",
       "    <tr>\n",
       "      <th>1.0</th>\n",
       "      <td>129.112354</td>\n",
       "    </tr>\n",
       "  </tbody>\n",
       "</table>\n",
       "</div>"
      ],
      "text/plain": [
       "        rmse_du\n",
       "0.0    0.377964\n",
       "0.1    0.755929\n",
       "0.2    0.925820\n",
       "0.3    1.133893\n",
       "0.4    1.362770\n",
       "0.5    1.558387\n",
       "0.6    1.812654\n",
       "0.7    2.267787\n",
       "0.8    2.777460\n",
       "0.9    3.809361\n",
       "1.0  129.112354"
      ]
     },
     "execution_count": 23,
     "metadata": {},
     "output_type": "execute_result"
    }
   ],
   "source": [
    "percentile = lambda x: pd.DataFrame(x.quantile(np.linspace(0.0, 1, 11)))\n",
    "percentile(rmse_skus[\"rmse_du\"])"
   ]
  },
  {
   "cell_type": "code",
   "execution_count": 24,
   "id": "dfdf9b32",
   "metadata": {},
   "outputs": [
    {
     "data": {
      "text/html": [
       "<div>\n",
       "<style scoped>\n",
       "    .dataframe tbody tr th:only-of-type {\n",
       "        vertical-align: middle;\n",
       "    }\n",
       "\n",
       "    .dataframe tbody tr th {\n",
       "        vertical-align: top;\n",
       "    }\n",
       "\n",
       "    .dataframe thead th {\n",
       "        text-align: right;\n",
       "    }\n",
       "</style>\n",
       "<table border=\"1\" class=\"dataframe\">\n",
       "  <thead>\n",
       "    <tr style=\"text-align: right;\">\n",
       "      <th></th>\n",
       "      <th>rmse_du</th>\n",
       "      <th>mean_du</th>\n",
       "      <th>pct_rmse</th>\n",
       "    </tr>\n",
       "    <tr>\n",
       "      <th>Encoded_SKU_ID</th>\n",
       "      <th></th>\n",
       "      <th></th>\n",
       "      <th></th>\n",
       "    </tr>\n",
       "  </thead>\n",
       "  <tbody>\n",
       "    <tr>\n",
       "      <th>469</th>\n",
       "      <td>129.112354</td>\n",
       "      <td>450.857143</td>\n",
       "      <td>0.286371</td>\n",
       "    </tr>\n",
       "    <tr>\n",
       "      <th>50</th>\n",
       "      <td>33.316662</td>\n",
       "      <td>42.000000</td>\n",
       "      <td>0.793254</td>\n",
       "    </tr>\n",
       "    <tr>\n",
       "      <th>557</th>\n",
       "      <td>30.460748</td>\n",
       "      <td>70.571429</td>\n",
       "      <td>0.431630</td>\n",
       "    </tr>\n",
       "    <tr>\n",
       "      <th>548</th>\n",
       "      <td>25.082720</td>\n",
       "      <td>16.142857</td>\n",
       "      <td>1.553797</td>\n",
       "    </tr>\n",
       "    <tr>\n",
       "      <th>430</th>\n",
       "      <td>18.551088</td>\n",
       "      <td>133.714286</td>\n",
       "      <td>0.138737</td>\n",
       "    </tr>\n",
       "    <tr>\n",
       "      <th>74</th>\n",
       "      <td>17.341115</td>\n",
       "      <td>23.857143</td>\n",
       "      <td>0.726873</td>\n",
       "    </tr>\n",
       "    <tr>\n",
       "      <th>381</th>\n",
       "      <td>16.941074</td>\n",
       "      <td>17.714286</td>\n",
       "      <td>0.956351</td>\n",
       "    </tr>\n",
       "    <tr>\n",
       "      <th>502</th>\n",
       "      <td>12.961481</td>\n",
       "      <td>21.000000</td>\n",
       "      <td>0.617213</td>\n",
       "    </tr>\n",
       "    <tr>\n",
       "      <th>515</th>\n",
       "      <td>11.916375</td>\n",
       "      <td>5.285714</td>\n",
       "      <td>2.254449</td>\n",
       "    </tr>\n",
       "    <tr>\n",
       "      <th>185</th>\n",
       "      <td>10.260883</td>\n",
       "      <td>11.857143</td>\n",
       "      <td>0.865376</td>\n",
       "    </tr>\n",
       "  </tbody>\n",
       "</table>\n",
       "</div>"
      ],
      "text/plain": [
       "                   rmse_du     mean_du  pct_rmse\n",
       "Encoded_SKU_ID                                  \n",
       "469             129.112354  450.857143  0.286371\n",
       "50               33.316662   42.000000  0.793254\n",
       "557              30.460748   70.571429  0.431630\n",
       "548              25.082720   16.142857  1.553797\n",
       "430              18.551088  133.714286  0.138737\n",
       "74               17.341115   23.857143  0.726873\n",
       "381              16.941074   17.714286  0.956351\n",
       "502              12.961481   21.000000  0.617213\n",
       "515              11.916375    5.285714  2.254449\n",
       "185              10.260883   11.857143  0.865376"
      ]
     },
     "execution_count": 24,
     "metadata": {},
     "output_type": "execute_result"
    }
   ],
   "source": [
    "rmse_skus.head(10)"
   ]
  },
  {
   "cell_type": "code",
   "execution_count": 25,
   "id": "fcac0622",
   "metadata": {},
   "outputs": [],
   "source": [
    "rmse_skus.to_excel(\"../../results/sku_level_null_rmse.xlsx\")"
   ]
  },
  {
   "cell_type": "markdown",
   "id": "d7cf1f44",
   "metadata": {},
   "source": [
    "### Plot prediction"
   ]
  },
  {
   "cell_type": "code",
   "execution_count": 26,
   "id": "9a96562b",
   "metadata": {},
   "outputs": [],
   "source": [
    "def plot_pred_sku(train,y_act,y_pred, sku_id, start_dt = \"2022-07-01\"):\n",
    "    \"\"\"\n",
    "    y_act : pd df with Encoded_SKU_ID and SALES_DATE\n",
    "    y_pred : pd df with Encoded_SKU_ID and SALES_DATE\n",
    "    return --> plot of actual vs predicted\n",
    "    \"\"\"\n",
    "    assert all(y_act.dtypes.values == y_pred.dtypes.values), \"Column types do not match\"\n",
    "    df_join = y_act.merge(y_pred,on=[\"Encoded_SKU_ID\",\"SALES_DATE\"])\n",
    "    assert df_join.shape[0]==y_act.shape[0], \"y_act and y_pred shapes do not match\"\n",
    "    train_sku = train[train.Encoded_SKU_ID==sku_id][[\"Encoded_SKU_ID\",\"SALES_DATE\",\"DAILY_UNITS\"\\\n",
    "                                                ]].rename(columns={\"DAILY_UNITS\":'actual'})\n",
    "    train_valid_sku = pd.concat([train_sku,y_act[y_act.Encoded_SKU_ID==sku_id]])\n",
    "    y_pred_sku = y_pred[y_pred.Encoded_SKU_ID==sku_id]\n",
    "    df_join = train_valid_sku.merge(y_pred_sku,on=[\"SALES_DATE\"], how =\"outer\")\n",
    "    df_join[df_join.SALES_DATE>=start_dt].plot(x=\"SALES_DATE\",y=[\"actual\",\"predicted\"],color=[\"black\",\"r\"])\n",
    "    plt.axvspan(y_pred_sku[\"SALES_DATE\"].min(), y_pred_sku[\"SALES_DATE\"].max(),\\\n",
    "            facecolor='pink', alpha=0.34, label =\"Prediction week\")\n",
    "    plt.title (f\"Actual/Predicted sales of sku:{sku_id} from {train_valid_sku.SALES_DATE.min():%Y-%m-%d} to {y_pred_sku.SALES_DATE.max():%Y-%m-%d}\")\n",
    "    plt.legend()"
   ]
  },
  {
   "cell_type": "code",
   "execution_count": 27,
   "id": "35e7ce3c",
   "metadata": {},
   "outputs": [
    {
     "data": {
      "image/png": "[encoded data removed]",
      "text/plain": [
       "<Figure size 640x480 with 1 Axes>"
      ]
     },
     "metadata": {},
     "output_type": "display_data"
    }
   ],
   "source": [
    "plot_pred_sku(train,y_act, y_pred, 469)"
   ]
  },
  {
   "cell_type": "code",
   "execution_count": 28,
   "id": "5d85364c",
   "metadata": {},
   "outputs": [
    {
     "data": {
      "image/png": "[encoded data removed]",
      "text/plain": [
       "<Figure size 640x480 with 1 Axes>"
      ]
     },
     "metadata": {},
     "output_type": "display_data"
    }
   ],
   "source": [
    "plot_pred_sku(train,y_act, y_pred, 469, \"2014-05-01\")"
   ]
  },
  {
   "cell_type": "code",
   "execution_count": 29,
   "id": "91e0ccc6",
   "metadata": {},
   "outputs": [
    {
     "data": {
      "image/png": "[encoded data removed]",
      "text/plain": [
       "<Figure size 640x480 with 1 Axes>"
      ]
     },
     "metadata": {},
     "output_type": "display_data"
    }
   ],
   "source": [
    "plot_pred_sku(train,y_act,y_pred,50)"
   ]
  },
  {
   "cell_type": "code",
   "execution_count": 30,
   "id": "f31dbb4a",
   "metadata": {},
   "outputs": [
    {
     "data": {
      "image/png": "[encoded data removed]",
      "text/plain": [
       "<Figure size 640x480 with 1 Axes>"
      ]
     },
     "metadata": {},
     "output_type": "display_data"
    }
   ],
   "source": [
    "plot_pred_sku(train,y_act,y_pred,50, \"2016-03-01\")"
   ]
  }
 ],
 "metadata": {
  "kernelspec": {
   "display_name": "Python 3 (ipykernel)",
   "language": "python",
   "name": "python3"
  },
  "language_info": {
   "codemirror_mode": {
    "name": "ipython",
    "version": 3
   },
   "file_extension": ".py",
   "mimetype": "text/x-python",
   "name": "python",
   "nbconvert_exporter": "python",
   "pygments_lexer": "ipython3",
   "version": "3.9.15"
  }
 },
 "nbformat": 4,
 "nbformat_minor": 5
}
