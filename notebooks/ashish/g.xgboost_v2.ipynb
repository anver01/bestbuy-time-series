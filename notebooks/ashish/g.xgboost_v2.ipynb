{
 "cells": [
  {
   "cell_type": "code",
   "execution_count": 1,
   "id": "dfbf1ae2",
   "metadata": {},
   "outputs": [
    {
     "name": "stdout",
     "output_type": "stream",
     "text": [
      "/Users/ashish1610dhiman/data_projects/bestbuy/notebooks/ashish\r\n"
     ]
    }
   ],
   "source": [
    "!pwd"
   ]
  },
  {
   "cell_type": "code",
   "execution_count": 7,
   "id": "a97ce2f6",
   "metadata": {},
   "outputs": [],
   "source": [
    "import sys\n",
    "import matplotlib\n",
    "import numpy as np\n",
    "import pandas as pd\n",
    "import matplotlib.pyplot as plt\n",
    "import datetime\n",
    "\n",
    "sys.version\n",
    "\n",
    "sys.path.append(\"../../\")\n",
    "\n",
    "from src.ad_hmm import sku_predict\n",
    "from src.ad_stl_model import stl_model\n",
    "from src.utils import *"
   ]
  },
  {
   "cell_type": "code",
   "execution_count": 8,
   "id": "0a2b0f1e",
   "metadata": {},
   "outputs": [
    {
     "name": "stdout",
     "output_type": "stream",
     "text": [
      "The autoreload extension is already loaded. To reload it, use:\n",
      "  %reload_ext autoreload\n"
     ]
    }
   ],
   "source": [
    "%load_ext autoreload \n",
    "%autoreload 2"
   ]
  },
  {
   "cell_type": "markdown",
   "id": "6d4d0118",
   "metadata": {},
   "source": [
    "### Input data"
   ]
  },
  {
   "cell_type": "code",
   "execution_count": 4,
   "id": "c5f6b0bd",
   "metadata": {},
   "outputs": [
    {
     "name": "stdout",
     "output_type": "stream",
     "text": [
      "(846632, 15)\n"
     ]
    }
   ],
   "source": [
    "train_test = pd.read_csv(\"../../data/train_validation_marker.csv\")\n",
    "train_test[\"SALES_DATE\"] = pd.to_datetime(train_test[\"SALES_DATE\"])\n",
    "print (train_test.shape)\n",
    "\n",
    "train_test[\"if_promo\"] = (~train_test[\"PROMO_PRICE\"].isin([\"?\"])).astype(\"int\")\n",
    "train_test[\"if_competitor\"] = (~train_test[\"COMPETITOR_PRICE\"].isin([\"?\"])).astype(\"int\")\n",
    "\n",
    "train_test[\"min_sales_price\"] = pd.to_numeric(np.where(train_test.if_promo>0, train_test.PROMO_PRICE,\\\n",
    "                                                       train_test.RETAIL_PRICE))\n",
    "\n",
    "train_test[\"comp_price_clean\"] = pd.to_numeric(np.where(train_test.if_competitor>0,train_test.COMPETITOR_PRICE, np.nan))\n",
    "train_test[\"price_delta\"] = np.where(train_test.if_competitor>0, train_test.min_sales_price - train_test.comp_price_clean,\\\n",
    "                                   -train_test.min_sales_price)"
   ]
  },
  {
   "cell_type": "markdown",
   "id": "c8a680fa",
   "metadata": {},
   "source": [
    "### Pivot data"
   ]
  },
  {
   "cell_type": "code",
   "execution_count": 10,
   "id": "90088968",
   "metadata": {},
   "outputs": [],
   "source": [
    "train_test_pivot = train_test.pivot(index='SALES_DATE', columns='Encoded_SKU_ID',\\\n",
    "                   values=['DAILY_UNITS',\"if_promo\",\"if_competitor\",\"min_sales_price\",\"price_delta\",\\\n",
    "                          \"validation\",\"validation_clean\"])\n",
    "train_test_pivot.columns = train_test_pivot.columns.swaplevel(0, 1)"
   ]
  },
  {
   "cell_type": "markdown",
   "id": "39a5e355",
   "metadata": {},
   "source": [
    "### Test code for 1 sku"
   ]
  },
  {
   "cell_type": "code",
   "execution_count": 11,
   "id": "6c757b47",
   "metadata": {},
   "outputs": [
    {
     "name": "stderr",
     "output_type": "stream",
     "text": [
      "/var/folders/kb/v0p0ypbd0wx1q2qb1kpxmmcc0000gn/T/ipykernel_23586/4124826544.py:2: PerformanceWarning: indexing past lexsort depth may impact performance.\n",
      "  train_test_sku = train_test_pivot.loc[:,(sku_id,)].copy()\n"
     ]
    }
   ],
   "source": [
    "sku_id = 50\n",
    "train_test_sku = train_test_pivot.loc[:,(sku_id,)].copy()\n",
    "train_test_sku[\"ad_time\"] = list(range(1,train_test_sku.shape[0]+1))"
   ]
  },
  {
   "cell_type": "code",
   "execution_count": 14,
   "id": "3d5905d0",
   "metadata": {},
   "outputs": [],
   "source": [
    "exog_cols = [\"if_promo\",\"if_competitor\",\"min_sales_price\",\"price_delta\"]\n",
    "stl_model1 = stl_model(sku_id = sku_id,\\\n",
    "                      train_test_sku = train_test_sku,\\\n",
    "                      n_lags_y = 30, \\\n",
    "                      n_lags_exog = 14, \\\n",
    "                      pred_cols = exog_cols)"
   ]
  },
  {
   "cell_type": "code",
   "execution_count": 53,
   "id": "66094b89",
   "metadata": {},
   "outputs": [
    {
     "name": "stderr",
     "output_type": "stream",
     "text": [
      "/Users/ashish1610dhiman/data_projects/bestbuy/notebooks/ashish/../../src/ad_stl_model.py:78: SettingWithCopyWarning: \n",
      "A value is trying to be set on a copy of a slice from a DataFrame.\n",
      "Try using .loc[row_indexer,col_indexer] = value instead\n",
      "\n",
      "See the caveats in the documentation: https://pandas.pydata.org/pandas-docs/stable/user_guide/indexing.html#returning-a-view-versus-a-copy\n",
      "  train_sku[\"STL_resid\"] = res.resid\n",
      "/Users/ashish1610dhiman/data_projects/bestbuy/notebooks/ashish/../../src/ad_stl_model.py:79: SettingWithCopyWarning: \n",
      "A value is trying to be set on a copy of a slice from a DataFrame.\n",
      "Try using .loc[row_indexer,col_indexer] = value instead\n",
      "\n",
      "See the caveats in the documentation: https://pandas.pydata.org/pandas-docs/stable/user_guide/indexing.html#returning-a-view-versus-a-copy\n",
      "  train_sku[\"STL_trend\"] = res.trend\n",
      "/Users/ashish1610dhiman/data_projects/bestbuy/notebooks/ashish/../../src/ad_stl_model.py:80: SettingWithCopyWarning: \n",
      "A value is trying to be set on a copy of a slice from a DataFrame.\n",
      "Try using .loc[row_indexer,col_indexer] = value instead\n",
      "\n",
      "See the caveats in the documentation: https://pandas.pydata.org/pandas-docs/stable/user_guide/indexing.html#returning-a-view-versus-a-copy\n",
      "  train_sku[\"STL_seasonal\"] = res.seasonal\n",
      "/Users/ashish1610dhiman/data_projects/bestbuy/notebooks/ashish/../../src/ad_stl_model.py:82: SettingWithCopyWarning: \n",
      "A value is trying to be set on a copy of a slice from a DataFrame.\n",
      "Try using .loc[row_indexer,col_indexer] = value instead\n",
      "\n",
      "See the caveats in the documentation: https://pandas.pydata.org/pandas-docs/stable/user_guide/indexing.html#returning-a-view-versus-a-copy\n",
      "  train_sku[\"MSTL_resid\"] = res_m.resid\n",
      "/Users/ashish1610dhiman/data_projects/bestbuy/notebooks/ashish/../../src/ad_stl_model.py:83: SettingWithCopyWarning: \n",
      "A value is trying to be set on a copy of a slice from a DataFrame.\n",
      "Try using .loc[row_indexer,col_indexer] = value instead\n",
      "\n",
      "See the caveats in the documentation: https://pandas.pydata.org/pandas-docs/stable/user_guide/indexing.html#returning-a-view-versus-a-copy\n",
      "  train_sku[\"MSTL_trend\"] = res_m.trend\n",
      "/Users/ashish1610dhiman/data_projects/bestbuy/notebooks/ashish/../../src/ad_stl_model.py:84: SettingWithCopyWarning: \n",
      "A value is trying to be set on a copy of a slice from a DataFrame.\n",
      "Try using .loc[row_indexer,col_indexer] = value instead\n",
      "\n",
      "See the caveats in the documentation: https://pandas.pydata.org/pandas-docs/stable/user_guide/indexing.html#returning-a-view-versus-a-copy\n",
      "  train_sku[[\"MSTL_seasonal_7\", \"MSTL_seasonal_30\", \"MSTL_seasonal_365\"]] = res_m.seasonal\n",
      "/Users/ashish1610dhiman/data_projects/bestbuy/notebooks/ashish/../../src/ad_stl_model.py:84: SettingWithCopyWarning: \n",
      "A value is trying to be set on a copy of a slice from a DataFrame.\n",
      "Try using .loc[row_indexer,col_indexer] = value instead\n",
      "\n",
      "See the caveats in the documentation: https://pandas.pydata.org/pandas-docs/stable/user_guide/indexing.html#returning-a-view-versus-a-copy\n",
      "  train_sku[[\"MSTL_seasonal_7\", \"MSTL_seasonal_30\", \"MSTL_seasonal_365\"]] = res_m.seasonal\n",
      "/Users/ashish1610dhiman/data_projects/bestbuy/notebooks/ashish/../../src/ad_stl_model.py:84: SettingWithCopyWarning: \n",
      "A value is trying to be set on a copy of a slice from a DataFrame.\n",
      "Try using .loc[row_indexer,col_indexer] = value instead\n",
      "\n",
      "See the caveats in the documentation: https://pandas.pydata.org/pandas-docs/stable/user_guide/indexing.html#returning-a-view-versus-a-copy\n",
      "  train_sku[[\"MSTL_seasonal_7\", \"MSTL_seasonal_30\", \"MSTL_seasonal_365\"]] = res_m.seasonal\n",
      "/Users/ashish1610dhiman/opt/anaconda3/envs/bestbuy/lib/python3.9/site-packages/statsmodels/tsa/base/tsa_model.py:473: ValueWarning: No frequency information was provided, so inferred frequency D will be used.\n",
      "  self._init_dates(dates, freq)\n",
      "/Users/ashish1610dhiman/opt/anaconda3/envs/bestbuy/lib/python3.9/site-packages/statsmodels/tsa/base/tsa_model.py:473: ValueWarning: No frequency information was provided, so inferred frequency D will be used.\n",
      "  self._init_dates(dates, freq)\n",
      "/Users/ashish1610dhiman/opt/anaconda3/envs/bestbuy/lib/python3.9/site-packages/statsmodels/tsa/base/tsa_model.py:473: ValueWarning: No frequency information was provided, so inferred frequency D will be used.\n",
      "  self._init_dates(dates, freq)\n",
      "/Users/ashish1610dhiman/opt/anaconda3/envs/bestbuy/lib/python3.9/site-packages/statsmodels/tsa/deterministic.py:302: UserWarning: Only PeriodIndexes, DatetimeIndexes with a frequency set, RangesIndexes, and Index with a unit increment support extending. The index is set will contain the position relative to the data length.\n",
      "  fcast_index = self._extend_index(index, steps, forecast_index)\n"
     ]
    },
    {
     "name": "stdout",
     "output_type": "stream",
     "text": [
      "(50, 'STL_resid', 'auto_reg'), Train RMSE = 9.209\n",
      "(50, 'STL_resid', 'xgb_340'), Train RMSE = 12.52\n",
      "(50, 'STL_resid', 'xgb_1000'), Train RMSE = 13.28\n",
      "\n",
      "(50, 'STL_trend', 'auto_reg'), Train RMSE = 0.0005146\n"
     ]
    },
    {
     "name": "stderr",
     "output_type": "stream",
     "text": [
      "/Users/ashish1610dhiman/opt/anaconda3/envs/bestbuy/lib/python3.9/site-packages/statsmodels/tsa/base/tsa_model.py:473: ValueWarning: No frequency information was provided, so inferred frequency D will be used.\n",
      "  self._init_dates(dates, freq)\n",
      "/Users/ashish1610dhiman/opt/anaconda3/envs/bestbuy/lib/python3.9/site-packages/statsmodels/tsa/base/tsa_model.py:473: ValueWarning: No frequency information was provided, so inferred frequency D will be used.\n",
      "  self._init_dates(dates, freq)\n",
      "/Users/ashish1610dhiman/opt/anaconda3/envs/bestbuy/lib/python3.9/site-packages/statsmodels/tsa/base/tsa_model.py:473: ValueWarning: No frequency information was provided, so inferred frequency D will be used.\n",
      "  self._init_dates(dates, freq)\n",
      "/Users/ashish1610dhiman/opt/anaconda3/envs/bestbuy/lib/python3.9/site-packages/statsmodels/tsa/deterministic.py:302: UserWarning: Only PeriodIndexes, DatetimeIndexes with a frequency set, RangesIndexes, and Index with a unit increment support extending. The index is set will contain the position relative to the data length.\n",
      "  fcast_index = self._extend_index(index, steps, forecast_index)\n"
     ]
    },
    {
     "name": "stdout",
     "output_type": "stream",
     "text": [
      "(50, 'STL_trend', 'xgb_340'), Train RMSE = 11.32\n",
      "(50, 'STL_trend', 'xgb_1000'), Train RMSE = 11.32\n",
      "\n",
      "(50, 'STL_seasonal', 'auto_reg'), Train RMSE = 11.35\n"
     ]
    },
    {
     "name": "stderr",
     "output_type": "stream",
     "text": [
      "/Users/ashish1610dhiman/opt/anaconda3/envs/bestbuy/lib/python3.9/site-packages/statsmodels/tsa/base/tsa_model.py:473: ValueWarning: No frequency information was provided, so inferred frequency D will be used.\n",
      "  self._init_dates(dates, freq)\n",
      "/Users/ashish1610dhiman/opt/anaconda3/envs/bestbuy/lib/python3.9/site-packages/statsmodels/tsa/base/tsa_model.py:473: ValueWarning: No frequency information was provided, so inferred frequency D will be used.\n",
      "  self._init_dates(dates, freq)\n",
      "/Users/ashish1610dhiman/opt/anaconda3/envs/bestbuy/lib/python3.9/site-packages/statsmodels/tsa/base/tsa_model.py:473: ValueWarning: No frequency information was provided, so inferred frequency D will be used.\n",
      "  self._init_dates(dates, freq)\n",
      "/Users/ashish1610dhiman/opt/anaconda3/envs/bestbuy/lib/python3.9/site-packages/statsmodels/tsa/deterministic.py:302: UserWarning: Only PeriodIndexes, DatetimeIndexes with a frequency set, RangesIndexes, and Index with a unit increment support extending. The index is set will contain the position relative to the data length.\n",
      "  fcast_index = self._extend_index(index, steps, forecast_index)\n"
     ]
    },
    {
     "name": "stdout",
     "output_type": "stream",
     "text": [
      "(50, 'STL_seasonal', 'xgb_340'), Train RMSE = 14.66\n",
      "(50, 'STL_seasonal', 'xgb_1000'), Train RMSE = 14.66\n",
      "\n",
      "(50, 'MSTL_resid', 'auto_reg'), Train RMSE = 6.854\n"
     ]
    },
    {
     "name": "stderr",
     "output_type": "stream",
     "text": [
      "/Users/ashish1610dhiman/opt/anaconda3/envs/bestbuy/lib/python3.9/site-packages/statsmodels/tsa/base/tsa_model.py:473: ValueWarning: No frequency information was provided, so inferred frequency D will be used.\n",
      "  self._init_dates(dates, freq)\n",
      "/Users/ashish1610dhiman/opt/anaconda3/envs/bestbuy/lib/python3.9/site-packages/statsmodels/tsa/base/tsa_model.py:473: ValueWarning: No frequency information was provided, so inferred frequency D will be used.\n",
      "  self._init_dates(dates, freq)\n",
      "/Users/ashish1610dhiman/opt/anaconda3/envs/bestbuy/lib/python3.9/site-packages/statsmodels/tsa/base/tsa_model.py:473: ValueWarning: No frequency information was provided, so inferred frequency D will be used.\n",
      "  self._init_dates(dates, freq)\n",
      "/Users/ashish1610dhiman/opt/anaconda3/envs/bestbuy/lib/python3.9/site-packages/statsmodels/tsa/deterministic.py:302: UserWarning: Only PeriodIndexes, DatetimeIndexes with a frequency set, RangesIndexes, and Index with a unit increment support extending. The index is set will contain the position relative to the data length.\n",
      "  fcast_index = self._extend_index(index, steps, forecast_index)\n"
     ]
    },
    {
     "name": "stdout",
     "output_type": "stream",
     "text": [
      "(50, 'MSTL_resid', 'xgb_340'), Train RMSE = 12.53\n",
      "(50, 'MSTL_resid', 'xgb_1000'), Train RMSE = 12.98\n",
      "\n",
      "(50, 'MSTL_trend', 'auto_reg'), Train RMSE = 0.0004918\n"
     ]
    },
    {
     "name": "stderr",
     "output_type": "stream",
     "text": [
      "/Users/ashish1610dhiman/opt/anaconda3/envs/bestbuy/lib/python3.9/site-packages/statsmodels/tsa/base/tsa_model.py:473: ValueWarning: No frequency information was provided, so inferred frequency D will be used.\n",
      "  self._init_dates(dates, freq)\n",
      "/Users/ashish1610dhiman/opt/anaconda3/envs/bestbuy/lib/python3.9/site-packages/statsmodels/tsa/base/tsa_model.py:473: ValueWarning: No frequency information was provided, so inferred frequency D will be used.\n",
      "  self._init_dates(dates, freq)\n",
      "/Users/ashish1610dhiman/opt/anaconda3/envs/bestbuy/lib/python3.9/site-packages/statsmodels/tsa/base/tsa_model.py:473: ValueWarning: No frequency information was provided, so inferred frequency D will be used.\n",
      "  self._init_dates(dates, freq)\n",
      "/Users/ashish1610dhiman/opt/anaconda3/envs/bestbuy/lib/python3.9/site-packages/statsmodels/tsa/deterministic.py:302: UserWarning: Only PeriodIndexes, DatetimeIndexes with a frequency set, RangesIndexes, and Index with a unit increment support extending. The index is set will contain the position relative to the data length.\n",
      "  fcast_index = self._extend_index(index, steps, forecast_index)\n"
     ]
    },
    {
     "name": "stdout",
     "output_type": "stream",
     "text": [
      "(50, 'MSTL_trend', 'xgb_340'), Train RMSE = 8.974\n",
      "(50, 'MSTL_trend', 'xgb_1000'), Train RMSE = 8.974\n",
      "\n",
      "(50, 'MSTL_seasonal_7', 'auto_reg'), Train RMSE = 0.4167\n"
     ]
    },
    {
     "name": "stderr",
     "output_type": "stream",
     "text": [
      "/Users/ashish1610dhiman/opt/anaconda3/envs/bestbuy/lib/python3.9/site-packages/statsmodels/tsa/base/tsa_model.py:473: ValueWarning: No frequency information was provided, so inferred frequency D will be used.\n",
      "  self._init_dates(dates, freq)\n",
      "/Users/ashish1610dhiman/opt/anaconda3/envs/bestbuy/lib/python3.9/site-packages/statsmodels/tsa/base/tsa_model.py:473: ValueWarning: No frequency information was provided, so inferred frequency D will be used.\n",
      "  self._init_dates(dates, freq)\n",
      "/Users/ashish1610dhiman/opt/anaconda3/envs/bestbuy/lib/python3.9/site-packages/statsmodels/tsa/base/tsa_model.py:473: ValueWarning: No frequency information was provided, so inferred frequency D will be used.\n",
      "  self._init_dates(dates, freq)\n",
      "/Users/ashish1610dhiman/opt/anaconda3/envs/bestbuy/lib/python3.9/site-packages/statsmodels/tsa/deterministic.py:302: UserWarning: Only PeriodIndexes, DatetimeIndexes with a frequency set, RangesIndexes, and Index with a unit increment support extending. The index is set will contain the position relative to the data length.\n",
      "  fcast_index = self._extend_index(index, steps, forecast_index)\n"
     ]
    },
    {
     "name": "stdout",
     "output_type": "stream",
     "text": [
      "(50, 'MSTL_seasonal_7', 'xgb_340'), Train RMSE = 12.09\n",
      "(50, 'MSTL_seasonal_7', 'xgb_1000'), Train RMSE = 11.76\n",
      "\n",
      "(50, 'MSTL_seasonal_30', 'auto_reg'), Train RMSE = 1.034\n"
     ]
    },
    {
     "name": "stderr",
     "output_type": "stream",
     "text": [
      "/Users/ashish1610dhiman/opt/anaconda3/envs/bestbuy/lib/python3.9/site-packages/statsmodels/tsa/base/tsa_model.py:473: ValueWarning: No frequency information was provided, so inferred frequency D will be used.\n",
      "  self._init_dates(dates, freq)\n",
      "/Users/ashish1610dhiman/opt/anaconda3/envs/bestbuy/lib/python3.9/site-packages/statsmodels/tsa/base/tsa_model.py:473: ValueWarning: No frequency information was provided, so inferred frequency D will be used.\n",
      "  self._init_dates(dates, freq)\n",
      "/Users/ashish1610dhiman/opt/anaconda3/envs/bestbuy/lib/python3.9/site-packages/statsmodels/tsa/base/tsa_model.py:473: ValueWarning: No frequency information was provided, so inferred frequency D will be used.\n",
      "  self._init_dates(dates, freq)\n",
      "/Users/ashish1610dhiman/opt/anaconda3/envs/bestbuy/lib/python3.9/site-packages/statsmodels/tsa/deterministic.py:302: UserWarning: Only PeriodIndexes, DatetimeIndexes with a frequency set, RangesIndexes, and Index with a unit increment support extending. The index is set will contain the position relative to the data length.\n",
      "  fcast_index = self._extend_index(index, steps, forecast_index)\n"
     ]
    },
    {
     "name": "stdout",
     "output_type": "stream",
     "text": [
      "(50, 'MSTL_seasonal_30', 'xgb_340'), Train RMSE = 7.873\n",
      "(50, 'MSTL_seasonal_30', 'xgb_1000'), Train RMSE = 7.772\n",
      "\n",
      "(50, 'MSTL_seasonal_365', 'auto_reg'), Train RMSE = 9.043\n"
     ]
    },
    {
     "name": "stderr",
     "output_type": "stream",
     "text": [
      "/Users/ashish1610dhiman/opt/anaconda3/envs/bestbuy/lib/python3.9/site-packages/statsmodels/tsa/base/tsa_model.py:473: ValueWarning: No frequency information was provided, so inferred frequency D will be used.\n",
      "  self._init_dates(dates, freq)\n",
      "/Users/ashish1610dhiman/opt/anaconda3/envs/bestbuy/lib/python3.9/site-packages/statsmodels/tsa/base/tsa_model.py:473: ValueWarning: No frequency information was provided, so inferred frequency D will be used.\n",
      "  self._init_dates(dates, freq)\n",
      "/Users/ashish1610dhiman/opt/anaconda3/envs/bestbuy/lib/python3.9/site-packages/statsmodels/tsa/base/tsa_model.py:473: ValueWarning: No frequency information was provided, so inferred frequency D will be used.\n",
      "  self._init_dates(dates, freq)\n",
      "/Users/ashish1610dhiman/opt/anaconda3/envs/bestbuy/lib/python3.9/site-packages/statsmodels/tsa/deterministic.py:302: UserWarning: Only PeriodIndexes, DatetimeIndexes with a frequency set, RangesIndexes, and Index with a unit increment support extending. The index is set will contain the position relative to the data length.\n",
      "  fcast_index = self._extend_index(index, steps, forecast_index)\n"
     ]
    },
    {
     "name": "stdout",
     "output_type": "stream",
     "text": [
      "(50, 'MSTL_seasonal_365', 'xgb_340'), Train RMSE = 13.1\n",
      "(50, 'MSTL_seasonal_365', 'xgb_1000'), Train RMSE = 13.1\n",
      "\n"
     ]
    }
   ],
   "source": [
    "m_dict, y_dict = stl_model1.fit_models();\n",
    "min_models, y_pred = stl_model1.get_result();"
   ]
  },
  {
   "cell_type": "code",
   "execution_count": 57,
   "id": "40d1bf52",
   "metadata": {},
   "outputs": [
    {
     "data": {
      "text/html": [
       "<div>\n",
       "<style scoped>\n",
       "    .dataframe tbody tr th:only-of-type {\n",
       "        vertical-align: middle;\n",
       "    }\n",
       "\n",
       "    .dataframe tbody tr th {\n",
       "        vertical-align: top;\n",
       "    }\n",
       "\n",
       "    .dataframe thead th {\n",
       "        text-align: right;\n",
       "    }\n",
       "</style>\n",
       "<table border=\"1\" class=\"dataframe\">\n",
       "  <thead>\n",
       "    <tr style=\"text-align: right;\">\n",
       "      <th></th>\n",
       "      <th>component</th>\n",
       "      <th>model_name</th>\n",
       "      <th>model</th>\n",
       "      <th>train_rmse</th>\n",
       "      <th>rnk</th>\n",
       "    </tr>\n",
       "  </thead>\n",
       "  <tbody>\n",
       "    <tr>\n",
       "      <th>0</th>\n",
       "      <td>STL_resid</td>\n",
       "      <td>auto_reg</td>\n",
       "      <td>&lt;statsmodels.tsa.ar_model.AutoRegResultsWrappe...</td>\n",
       "      <td>9.20895</td>\n",
       "      <td>1.0</td>\n",
       "    </tr>\n",
       "    <tr>\n",
       "      <th>3</th>\n",
       "      <td>STL_trend</td>\n",
       "      <td>auto_reg</td>\n",
       "      <td>&lt;statsmodels.tsa.ar_model.AutoRegResultsWrappe...</td>\n",
       "      <td>0.000515</td>\n",
       "      <td>1.0</td>\n",
       "    </tr>\n",
       "    <tr>\n",
       "      <th>6</th>\n",
       "      <td>STL_seasonal</td>\n",
       "      <td>auto_reg</td>\n",
       "      <td>&lt;statsmodels.tsa.ar_model.AutoRegResultsWrappe...</td>\n",
       "      <td>11.35479</td>\n",
       "      <td>1.0</td>\n",
       "    </tr>\n",
       "    <tr>\n",
       "      <th>9</th>\n",
       "      <td>MSTL_resid</td>\n",
       "      <td>auto_reg</td>\n",
       "      <td>&lt;statsmodels.tsa.ar_model.AutoRegResultsWrappe...</td>\n",
       "      <td>6.854014</td>\n",
       "      <td>1.0</td>\n",
       "    </tr>\n",
       "    <tr>\n",
       "      <th>12</th>\n",
       "      <td>MSTL_trend</td>\n",
       "      <td>auto_reg</td>\n",
       "      <td>&lt;statsmodels.tsa.ar_model.AutoRegResultsWrappe...</td>\n",
       "      <td>0.000492</td>\n",
       "      <td>1.0</td>\n",
       "    </tr>\n",
       "    <tr>\n",
       "      <th>15</th>\n",
       "      <td>MSTL_seasonal_7</td>\n",
       "      <td>auto_reg</td>\n",
       "      <td>&lt;statsmodels.tsa.ar_model.AutoRegResultsWrappe...</td>\n",
       "      <td>0.416672</td>\n",
       "      <td>1.0</td>\n",
       "    </tr>\n",
       "    <tr>\n",
       "      <th>18</th>\n",
       "      <td>MSTL_seasonal_30</td>\n",
       "      <td>auto_reg</td>\n",
       "      <td>&lt;statsmodels.tsa.ar_model.AutoRegResultsWrappe...</td>\n",
       "      <td>1.034446</td>\n",
       "      <td>1.0</td>\n",
       "    </tr>\n",
       "    <tr>\n",
       "      <th>21</th>\n",
       "      <td>MSTL_seasonal_365</td>\n",
       "      <td>auto_reg</td>\n",
       "      <td>&lt;statsmodels.tsa.ar_model.AutoRegResultsWrappe...</td>\n",
       "      <td>9.042637</td>\n",
       "      <td>1.0</td>\n",
       "    </tr>\n",
       "  </tbody>\n",
       "</table>\n",
       "</div>"
      ],
      "text/plain": [
       "            component model_name  \\\n",
       "0           STL_resid   auto_reg   \n",
       "3           STL_trend   auto_reg   \n",
       "6        STL_seasonal   auto_reg   \n",
       "9          MSTL_resid   auto_reg   \n",
       "12         MSTL_trend   auto_reg   \n",
       "15    MSTL_seasonal_7   auto_reg   \n",
       "18   MSTL_seasonal_30   auto_reg   \n",
       "21  MSTL_seasonal_365   auto_reg   \n",
       "\n",
       "                                                model train_rmse  rnk  \n",
       "0   <statsmodels.tsa.ar_model.AutoRegResultsWrappe...    9.20895  1.0  \n",
       "3   <statsmodels.tsa.ar_model.AutoRegResultsWrappe...   0.000515  1.0  \n",
       "6   <statsmodels.tsa.ar_model.AutoRegResultsWrappe...   11.35479  1.0  \n",
       "9   <statsmodels.tsa.ar_model.AutoRegResultsWrappe...   6.854014  1.0  \n",
       "12  <statsmodels.tsa.ar_model.AutoRegResultsWrappe...   0.000492  1.0  \n",
       "15  <statsmodels.tsa.ar_model.AutoRegResultsWrappe...   0.416672  1.0  \n",
       "18  <statsmodels.tsa.ar_model.AutoRegResultsWrappe...   1.034446  1.0  \n",
       "21  <statsmodels.tsa.ar_model.AutoRegResultsWrappe...   9.042637  1.0  "
      ]
     },
     "execution_count": 57,
     "metadata": {},
     "output_type": "execute_result"
    }
   ],
   "source": [
    "min_models"
   ]
  },
  {
   "cell_type": "code",
   "execution_count": 56,
   "id": "046b7ad8",
   "metadata": {},
   "outputs": [
    {
     "name": "stdout",
     "output_type": "stream",
     "text": [
      "16.751089295655188 25.065478710017754\n"
     ]
    }
   ],
   "source": [
    "print (np.mean((y_pred[\"actual\"]-y_pred[\"STL_prediction\"])**2)**0.5,\n",
    "np.mean((y_pred[\"actual\"]-y_pred[\"MSTL_prediction\"])**2)**0.5)"
   ]
  },
  {
   "cell_type": "markdown",
   "id": "f235c69b",
   "metadata": {},
   "source": [
    "### Run for all SKUs"
   ]
  },
  {
   "cell_type": "code",
   "execution_count": 31,
   "id": "6f8244a5",
   "metadata": {},
   "outputs": [],
   "source": [
    "from joblib import Parallel, delayed\n",
    "from IPython.utils import io\n",
    "from tqdm import tqdm"
   ]
  },
  {
   "cell_type": "code",
   "execution_count": 49,
   "id": "f6fed46a",
   "metadata": {},
   "outputs": [],
   "source": [
    "def fit_one_sku(train_test_pivot1,sku_id1, n_lags_y1, n_lags_exog1, exog_cols1):\n",
    "    train_test_sku1 = train_test_pivot1.loc[:,(sku_id1,)].copy()\n",
    "    train_test_sku1[\"ad_time\"] = list(range(1,train_test_sku1.shape[0]+1))\n",
    "    stl_model1 = stl_model(sku_id = sku_id1,\\\n",
    "                      train_test_sku = train_test_sku1,\\\n",
    "                      n_lags_y = n_lags_y1, \\\n",
    "                      n_lags_exog = n_lags_exog1, \\\n",
    "                      pred_cols = exog_cols1)\n",
    "    try:\n",
    "        with io.capture_output() as captured:\n",
    "            m_dict, y_dict = stl_model1.fit_models();\n",
    "            min_models, y_pred = stl_model1.get_result();\n",
    "        print (f\"Successful for {sku_id1}\")\n",
    "        return (min_models, y_pred)\n",
    "    except:\n",
    "        print (f\"Error for {sku_id1}\")"
   ]
  },
  {
   "cell_type": "code",
   "execution_count": 50,
   "id": "ce97663b",
   "metadata": {},
   "outputs": [],
   "source": [
    "clean_SKUs = train_test[train_test.validation_clean==True][\"Encoded_SKU_ID\"].unique()"
   ]
  },
  {
   "cell_type": "code",
   "execution_count": 58,
   "id": "0e9ab43e",
   "metadata": {},
   "outputs": [
    {
     "name": "stderr",
     "output_type": "stream",
     "text": [
      "\n",
      "  0%|                                                                                                                                                  | 0/545 [00:00<?, ?it/s]\u001b[A/var/folders/kb/v0p0ypbd0wx1q2qb1kpxmmcc0000gn/T/ipykernel_23586/2183440621.py:2: PerformanceWarning: indexing past lexsort depth may impact performance.\n",
      "/var/folders/kb/v0p0ypbd0wx1q2qb1kpxmmcc0000gn/T/ipykernel_23586/2183440621.py:2: PerformanceWarning: indexing past lexsort depth may impact performance.\n",
      "/var/folders/kb/v0p0ypbd0wx1q2qb1kpxmmcc0000gn/T/ipykernel_23586/2183440621.py:2: PerformanceWarning: indexing past lexsort depth may impact performance.\n",
      "/var/folders/kb/v0p0ypbd0wx1q2qb1kpxmmcc0000gn/T/ipykernel_23586/2183440621.py:2: PerformanceWarning: indexing past lexsort depth may impact performance.\n",
      "/var/folders/kb/v0p0ypbd0wx1q2qb1kpxmmcc0000gn/T/ipykernel_23586/2183440621.py:2: PerformanceWarning: indexing past lexsort depth may impact performance.\n",
      "\n",
      "  2%|██▍                                                                                                                                    | 10/545 [02:27<2:11:18, 14.73s/it]\u001b[A/var/folders/kb/v0p0ypbd0wx1q2qb1kpxmmcc0000gn/T/ipykernel_23586/2183440621.py:2: PerformanceWarning: indexing past lexsort depth may impact performance.\n",
      "/var/folders/kb/v0p0ypbd0wx1q2qb1kpxmmcc0000gn/T/ipykernel_23586/2183440621.py:2: PerformanceWarning: indexing past lexsort depth may impact performance.\n",
      "/var/folders/kb/v0p0ypbd0wx1q2qb1kpxmmcc0000gn/T/ipykernel_23586/2183440621.py:2: PerformanceWarning: indexing past lexsort depth may impact performance.\n",
      "/var/folders/kb/v0p0ypbd0wx1q2qb1kpxmmcc0000gn/T/ipykernel_23586/2183440621.py:2: PerformanceWarning: indexing past lexsort depth may impact performance.\n",
      "/var/folders/kb/v0p0ypbd0wx1q2qb1kpxmmcc0000gn/T/ipykernel_23586/2183440621.py:2: PerformanceWarning: indexing past lexsort depth may impact performance.\n",
      "\n",
      "  3%|███▋                                                                                                                                   | 15/545 [07:11<4:44:45, 32.24s/it]\u001b[A/var/folders/kb/v0p0ypbd0wx1q2qb1kpxmmcc0000gn/T/ipykernel_23586/2183440621.py:2: PerformanceWarning: indexing past lexsort depth may impact performance.\n",
      "/var/folders/kb/v0p0ypbd0wx1q2qb1kpxmmcc0000gn/T/ipykernel_23586/2183440621.py:2: PerformanceWarning: indexing past lexsort depth may impact performance.\n",
      "/var/folders/kb/v0p0ypbd0wx1q2qb1kpxmmcc0000gn/T/ipykernel_23586/2183440621.py:2: PerformanceWarning: indexing past lexsort depth may impact performance.\n",
      "/var/folders/kb/v0p0ypbd0wx1q2qb1kpxmmcc0000gn/T/ipykernel_23586/2183440621.py:2: PerformanceWarning: indexing past lexsort depth may impact performance.\n",
      "/var/folders/kb/v0p0ypbd0wx1q2qb1kpxmmcc0000gn/T/ipykernel_23586/2183440621.py:2: PerformanceWarning: indexing past lexsort depth may impact performance.\n",
      "\n",
      "  4%|████▊                                                                                                                              | 20/545 [1:21:25<51:25:41, 352.65s/it]\u001b[A/var/folders/kb/v0p0ypbd0wx1q2qb1kpxmmcc0000gn/T/ipykernel_23586/2183440621.py:2: PerformanceWarning: indexing past lexsort depth may impact performance.\n",
      "/var/folders/kb/v0p0ypbd0wx1q2qb1kpxmmcc0000gn/T/ipykernel_23586/2183440621.py:2: PerformanceWarning: indexing past lexsort depth may impact performance.\n",
      "/var/folders/kb/v0p0ypbd0wx1q2qb1kpxmmcc0000gn/T/ipykernel_23586/2183440621.py:2: PerformanceWarning: indexing past lexsort depth may impact performance.\n",
      "/var/folders/kb/v0p0ypbd0wx1q2qb1kpxmmcc0000gn/T/ipykernel_23586/2183440621.py:2: PerformanceWarning: indexing past lexsort depth may impact performance.\n",
      "/var/folders/kb/v0p0ypbd0wx1q2qb1kpxmmcc0000gn/T/ipykernel_23586/2183440621.py:2: PerformanceWarning: indexing past lexsort depth may impact performance.\n",
      "\n",
      "  5%|██████                                                                                                                             | 25/545 [1:23:57<34:45:16, 240.61s/it]\u001b[A/var/folders/kb/v0p0ypbd0wx1q2qb1kpxmmcc0000gn/T/ipykernel_23586/2183440621.py:2: PerformanceWarning: indexing past lexsort depth may impact performance.\n",
      "/var/folders/kb/v0p0ypbd0wx1q2qb1kpxmmcc0000gn/T/ipykernel_23586/2183440621.py:2: PerformanceWarning: indexing past lexsort depth may impact performance.\n",
      "/var/folders/kb/v0p0ypbd0wx1q2qb1kpxmmcc0000gn/T/ipykernel_23586/2183440621.py:2: PerformanceWarning: indexing past lexsort depth may impact performance.\n",
      "/var/folders/kb/v0p0ypbd0wx1q2qb1kpxmmcc0000gn/T/ipykernel_23586/2183440621.py:2: PerformanceWarning: indexing past lexsort depth may impact performance.\n",
      "/var/folders/kb/v0p0ypbd0wx1q2qb1kpxmmcc0000gn/T/ipykernel_23586/2183440621.py:2: PerformanceWarning: indexing past lexsort depth may impact performance.\n",
      "\n",
      "  6%|███████▏                                                                                                                           | 30/545 [1:26:37<24:30:46, 171.35s/it]\u001b[A/var/folders/kb/v0p0ypbd0wx1q2qb1kpxmmcc0000gn/T/ipykernel_23586/2183440621.py:2: PerformanceWarning: indexing past lexsort depth may impact performance.\n",
      "/var/folders/kb/v0p0ypbd0wx1q2qb1kpxmmcc0000gn/T/ipykernel_23586/2183440621.py:2: PerformanceWarning: indexing past lexsort depth may impact performance.\n",
      "/var/folders/kb/v0p0ypbd0wx1q2qb1kpxmmcc0000gn/T/ipykernel_23586/2183440621.py:2: PerformanceWarning: indexing past lexsort depth may impact performance.\n",
      "/var/folders/kb/v0p0ypbd0wx1q2qb1kpxmmcc0000gn/T/ipykernel_23586/2183440621.py:2: PerformanceWarning: indexing past lexsort depth may impact performance.\n",
      "/var/folders/kb/v0p0ypbd0wx1q2qb1kpxmmcc0000gn/T/ipykernel_23586/2183440621.py:2: PerformanceWarning: indexing past lexsort depth may impact performance.\n",
      "\n",
      "  6%|████████▍                                                                                                                          | 35/545 [1:27:45<17:04:59, 120.59s/it]\u001b[A/var/folders/kb/v0p0ypbd0wx1q2qb1kpxmmcc0000gn/T/ipykernel_23586/2183440621.py:2: PerformanceWarning: indexing past lexsort depth may impact performance.\n",
      "/var/folders/kb/v0p0ypbd0wx1q2qb1kpxmmcc0000gn/T/ipykernel_23586/2183440621.py:2: PerformanceWarning: indexing past lexsort depth may impact performance.\n",
      "/var/folders/kb/v0p0ypbd0wx1q2qb1kpxmmcc0000gn/T/ipykernel_23586/2183440621.py:2: PerformanceWarning: indexing past lexsort depth may impact performance.\n",
      "/var/folders/kb/v0p0ypbd0wx1q2qb1kpxmmcc0000gn/T/ipykernel_23586/2183440621.py:2: PerformanceWarning: indexing past lexsort depth may impact performance.\n",
      "/var/folders/kb/v0p0ypbd0wx1q2qb1kpxmmcc0000gn/T/ipykernel_23586/2183440621.py:2: PerformanceWarning: indexing past lexsort depth may impact performance.\n",
      "\n",
      "  7%|█████████▋                                                                                                                          | 40/545 [1:29:11<12:21:03, 88.05s/it]\u001b[A/var/folders/kb/v0p0ypbd0wx1q2qb1kpxmmcc0000gn/T/ipykernel_23586/2183440621.py:2: PerformanceWarning: indexing past lexsort depth may impact performance.\n",
      "/var/folders/kb/v0p0ypbd0wx1q2qb1kpxmmcc0000gn/T/ipykernel_23586/2183440621.py:2: PerformanceWarning: indexing past lexsort depth may impact performance.\n",
      "/var/folders/kb/v0p0ypbd0wx1q2qb1kpxmmcc0000gn/T/ipykernel_23586/2183440621.py:2: PerformanceWarning: indexing past lexsort depth may impact performance.\n",
      "/var/folders/kb/v0p0ypbd0wx1q2qb1kpxmmcc0000gn/T/ipykernel_23586/2183440621.py:2: PerformanceWarning: indexing past lexsort depth may impact performance.\n",
      "/var/folders/kb/v0p0ypbd0wx1q2qb1kpxmmcc0000gn/T/ipykernel_23586/2183440621.py:2: PerformanceWarning: indexing past lexsort depth may impact performance.\n",
      "\n",
      "  8%|██████████▉                                                                                                                          | 45/545 [1:31:37<9:41:37, 69.79s/it]\u001b[A/var/folders/kb/v0p0ypbd0wx1q2qb1kpxmmcc0000gn/T/ipykernel_23586/2183440621.py:2: PerformanceWarning: indexing past lexsort depth may impact performance.\n",
      "/var/folders/kb/v0p0ypbd0wx1q2qb1kpxmmcc0000gn/T/ipykernel_23586/2183440621.py:2: PerformanceWarning: indexing past lexsort depth may impact performance.\n",
      "/var/folders/kb/v0p0ypbd0wx1q2qb1kpxmmcc0000gn/T/ipykernel_23586/2183440621.py:2: PerformanceWarning: indexing past lexsort depth may impact performance.\n"
     ]
    },
    {
     "name": "stderr",
     "output_type": "stream",
     "text": [
      "/var/folders/kb/v0p0ypbd0wx1q2qb1kpxmmcc0000gn/T/ipykernel_23586/2183440621.py:2: PerformanceWarning: indexing past lexsort depth may impact performance.\n",
      "/var/folders/kb/v0p0ypbd0wx1q2qb1kpxmmcc0000gn/T/ipykernel_23586/2183440621.py:2: PerformanceWarning: indexing past lexsort depth may impact performance.\n",
      "\n",
      "  9%|████████████▏                                                                                                                        | 50/545 [1:32:59<7:20:33, 53.40s/it]\u001b[A/var/folders/kb/v0p0ypbd0wx1q2qb1kpxmmcc0000gn/T/ipykernel_23586/2183440621.py:2: PerformanceWarning: indexing past lexsort depth may impact performance.\n",
      "/var/folders/kb/v0p0ypbd0wx1q2qb1kpxmmcc0000gn/T/ipykernel_23586/2183440621.py:2: PerformanceWarning: indexing past lexsort depth may impact performance.\n",
      "/var/folders/kb/v0p0ypbd0wx1q2qb1kpxmmcc0000gn/T/ipykernel_23586/2183440621.py:2: PerformanceWarning: indexing past lexsort depth may impact performance.\n",
      "/var/folders/kb/v0p0ypbd0wx1q2qb1kpxmmcc0000gn/T/ipykernel_23586/2183440621.py:2: PerformanceWarning: indexing past lexsort depth may impact performance.\n",
      "/var/folders/kb/v0p0ypbd0wx1q2qb1kpxmmcc0000gn/T/ipykernel_23586/2183440621.py:2: PerformanceWarning: indexing past lexsort depth may impact performance.\n",
      "\n",
      " 10%|█████████████▍                                                                                                                       | 55/545 [1:35:10<6:08:34, 45.13s/it]\u001b[A/var/folders/kb/v0p0ypbd0wx1q2qb1kpxmmcc0000gn/T/ipykernel_23586/2183440621.py:2: PerformanceWarning: indexing past lexsort depth may impact performance.\n",
      "/var/folders/kb/v0p0ypbd0wx1q2qb1kpxmmcc0000gn/T/ipykernel_23586/2183440621.py:2: PerformanceWarning: indexing past lexsort depth may impact performance.\n",
      "/var/folders/kb/v0p0ypbd0wx1q2qb1kpxmmcc0000gn/T/ipykernel_23586/2183440621.py:2: PerformanceWarning: indexing past lexsort depth may impact performance.\n",
      "/var/folders/kb/v0p0ypbd0wx1q2qb1kpxmmcc0000gn/T/ipykernel_23586/2183440621.py:2: PerformanceWarning: indexing past lexsort depth may impact performance.\n",
      "  0%|                                                                                                                                                 | 0/10 [1:53:09<?, ?it/s]/var/folders/kb/v0p0ypbd0wx1q2qb1kpxmmcc0000gn/T/ipykernel_23586/2183440621.py:2: PerformanceWarning: indexing past lexsort depth may impact performance.\n",
      "\n",
      "\n",
      " 11%|██████████████▋                                                                                                                      | 60/545 [1:37:03<5:09:31, 38.29s/it]\u001b[A/var/folders/kb/v0p0ypbd0wx1q2qb1kpxmmcc0000gn/T/ipykernel_23586/2183440621.py:2: PerformanceWarning: indexing past lexsort depth may impact performance.\n",
      "/var/folders/kb/v0p0ypbd0wx1q2qb1kpxmmcc0000gn/T/ipykernel_23586/2183440621.py:2: PerformanceWarning: indexing past lexsort depth may impact performance.\n",
      "/var/folders/kb/v0p0ypbd0wx1q2qb1kpxmmcc0000gn/T/ipykernel_23586/2183440621.py:2: PerformanceWarning: indexing past lexsort depth may impact performance.\n",
      "/var/folders/kb/v0p0ypbd0wx1q2qb1kpxmmcc0000gn/T/ipykernel_23586/2183440621.py:2: PerformanceWarning: indexing past lexsort depth may impact performance.\n",
      "/var/folders/kb/v0p0ypbd0wx1q2qb1kpxmmcc0000gn/T/ipykernel_23586/2183440621.py:2: PerformanceWarning: indexing past lexsort depth may impact performance.\n",
      "\n",
      " 12%|███████████████▊                                                                                                                     | 65/545 [1:39:09<4:34:50, 34.36s/it]\u001b[A/var/folders/kb/v0p0ypbd0wx1q2qb1kpxmmcc0000gn/T/ipykernel_23586/2183440621.py:2: PerformanceWarning: indexing past lexsort depth may impact performance.\n",
      "/var/folders/kb/v0p0ypbd0wx1q2qb1kpxmmcc0000gn/T/ipykernel_23586/2183440621.py:2: PerformanceWarning: indexing past lexsort depth may impact performance.\n",
      "/var/folders/kb/v0p0ypbd0wx1q2qb1kpxmmcc0000gn/T/ipykernel_23586/2183440621.py:2: PerformanceWarning: indexing past lexsort depth may impact performance.\n",
      "/var/folders/kb/v0p0ypbd0wx1q2qb1kpxmmcc0000gn/T/ipykernel_23586/2183440621.py:2: PerformanceWarning: indexing past lexsort depth may impact performance.\n",
      "/var/folders/kb/v0p0ypbd0wx1q2qb1kpxmmcc0000gn/T/ipykernel_23586/2183440621.py:2: PerformanceWarning: indexing past lexsort depth may impact performance.\n",
      "\n",
      " 13%|█████████████████                                                                                                                    | 70/545 [1:40:39<3:52:50, 29.41s/it]\u001b[A/var/folders/kb/v0p0ypbd0wx1q2qb1kpxmmcc0000gn/T/ipykernel_23586/2183440621.py:2: PerformanceWarning: indexing past lexsort depth may impact performance.\n",
      "/var/folders/kb/v0p0ypbd0wx1q2qb1kpxmmcc0000gn/T/ipykernel_23586/2183440621.py:2: PerformanceWarning: indexing past lexsort depth may impact performance.\n",
      "/var/folders/kb/v0p0ypbd0wx1q2qb1kpxmmcc0000gn/T/ipykernel_23586/2183440621.py:2: PerformanceWarning: indexing past lexsort depth may impact performance.\n",
      "/var/folders/kb/v0p0ypbd0wx1q2qb1kpxmmcc0000gn/T/ipykernel_23586/2183440621.py:2: PerformanceWarning: indexing past lexsort depth may impact performance.\n",
      "/var/folders/kb/v0p0ypbd0wx1q2qb1kpxmmcc0000gn/T/ipykernel_23586/2183440621.py:2: PerformanceWarning: indexing past lexsort depth may impact performance.\n",
      "\n",
      " 14%|██████████████████▎                                                                                                                  | 75/545 [1:43:13<3:53:20, 29.79s/it]\u001b[A/var/folders/kb/v0p0ypbd0wx1q2qb1kpxmmcc0000gn/T/ipykernel_23586/2183440621.py:2: PerformanceWarning: indexing past lexsort depth may impact performance.\n",
      "/var/folders/kb/v0p0ypbd0wx1q2qb1kpxmmcc0000gn/T/ipykernel_23586/2183440621.py:2: PerformanceWarning: indexing past lexsort depth may impact performance.\n",
      "/var/folders/kb/v0p0ypbd0wx1q2qb1kpxmmcc0000gn/T/ipykernel_23586/2183440621.py:2: PerformanceWarning: indexing past lexsort depth may impact performance.\n",
      "/var/folders/kb/v0p0ypbd0wx1q2qb1kpxmmcc0000gn/T/ipykernel_23586/2183440621.py:2: PerformanceWarning: indexing past lexsort depth may impact performance.\n",
      "/var/folders/kb/v0p0ypbd0wx1q2qb1kpxmmcc0000gn/T/ipykernel_23586/2183440621.py:2: PerformanceWarning: indexing past lexsort depth may impact performance.\n",
      "\n",
      " 15%|███████████████████▌                                                                                                                 | 80/545 [1:45:06<3:34:25, 27.67s/it]\u001b[A/var/folders/kb/v0p0ypbd0wx1q2qb1kpxmmcc0000gn/T/ipykernel_23586/2183440621.py:2: PerformanceWarning: indexing past lexsort depth may impact performance.\n",
      "/var/folders/kb/v0p0ypbd0wx1q2qb1kpxmmcc0000gn/T/ipykernel_23586/2183440621.py:2: PerformanceWarning: indexing past lexsort depth may impact performance.\n",
      "/var/folders/kb/v0p0ypbd0wx1q2qb1kpxmmcc0000gn/T/ipykernel_23586/2183440621.py:2: PerformanceWarning: indexing past lexsort depth may impact performance.\n",
      "/var/folders/kb/v0p0ypbd0wx1q2qb1kpxmmcc0000gn/T/ipykernel_23586/2183440621.py:2: PerformanceWarning: indexing past lexsort depth may impact performance.\n",
      "/var/folders/kb/v0p0ypbd0wx1q2qb1kpxmmcc0000gn/T/ipykernel_23586/2183440621.py:2: PerformanceWarning: indexing past lexsort depth may impact performance.\n",
      "\n",
      " 16%|████████████████████▋                                                                                                                | 85/545 [1:47:10<3:25:13, 26.77s/it]\u001b[A/var/folders/kb/v0p0ypbd0wx1q2qb1kpxmmcc0000gn/T/ipykernel_23586/2183440621.py:2: PerformanceWarning: indexing past lexsort depth may impact performance.\n",
      "/var/folders/kb/v0p0ypbd0wx1q2qb1kpxmmcc0000gn/T/ipykernel_23586/2183440621.py:2: PerformanceWarning: indexing past lexsort depth may impact performance.\n",
      "/var/folders/kb/v0p0ypbd0wx1q2qb1kpxmmcc0000gn/T/ipykernel_23586/2183440621.py:2: PerformanceWarning: indexing past lexsort depth may impact performance.\n",
      "/var/folders/kb/v0p0ypbd0wx1q2qb1kpxmmcc0000gn/T/ipykernel_23586/2183440621.py:2: PerformanceWarning: indexing past lexsort depth may impact performance.\n",
      "/var/folders/kb/v0p0ypbd0wx1q2qb1kpxmmcc0000gn/T/ipykernel_23586/2183440621.py:2: PerformanceWarning: indexing past lexsort depth may impact performance.\n",
      "\n"
     ]
    },
    {
     "name": "stderr",
     "output_type": "stream",
     "text": [
      " 17%|█████████████████████▉                                                                                                               | 90/545 [1:48:57<3:10:47, 25.16s/it]\u001b[A/var/folders/kb/v0p0ypbd0wx1q2qb1kpxmmcc0000gn/T/ipykernel_23586/2183440621.py:2: PerformanceWarning: indexing past lexsort depth may impact performance.\n",
      "/var/folders/kb/v0p0ypbd0wx1q2qb1kpxmmcc0000gn/T/ipykernel_23586/2183440621.py:2: PerformanceWarning: indexing past lexsort depth may impact performance.\n",
      "/var/folders/kb/v0p0ypbd0wx1q2qb1kpxmmcc0000gn/T/ipykernel_23586/2183440621.py:2: PerformanceWarning: indexing past lexsort depth may impact performance.\n",
      "/var/folders/kb/v0p0ypbd0wx1q2qb1kpxmmcc0000gn/T/ipykernel_23586/2183440621.py:2: PerformanceWarning: indexing past lexsort depth may impact performance.\n",
      "/var/folders/kb/v0p0ypbd0wx1q2qb1kpxmmcc0000gn/T/ipykernel_23586/2183440621.py:2: PerformanceWarning: indexing past lexsort depth may impact performance.\n",
      "\n",
      " 17%|███████████████████████▏                                                                                                             | 95/545 [1:51:06<3:10:10, 25.36s/it]\u001b[A/var/folders/kb/v0p0ypbd0wx1q2qb1kpxmmcc0000gn/T/ipykernel_23586/2183440621.py:2: PerformanceWarning: indexing past lexsort depth may impact performance.\n",
      "/var/folders/kb/v0p0ypbd0wx1q2qb1kpxmmcc0000gn/T/ipykernel_23586/2183440621.py:2: PerformanceWarning: indexing past lexsort depth may impact performance.\n",
      "/var/folders/kb/v0p0ypbd0wx1q2qb1kpxmmcc0000gn/T/ipykernel_23586/2183440621.py:2: PerformanceWarning: indexing past lexsort depth may impact performance.\n",
      "/var/folders/kb/v0p0ypbd0wx1q2qb1kpxmmcc0000gn/T/ipykernel_23586/2183440621.py:2: PerformanceWarning: indexing past lexsort depth may impact performance.\n",
      "/var/folders/kb/v0p0ypbd0wx1q2qb1kpxmmcc0000gn/T/ipykernel_23586/2183440621.py:2: PerformanceWarning: indexing past lexsort depth may impact performance.\n",
      "\n",
      " 18%|████████████████████████▏                                                                                                           | 100/545 [1:52:34<2:50:52, 23.04s/it]\u001b[A/var/folders/kb/v0p0ypbd0wx1q2qb1kpxmmcc0000gn/T/ipykernel_23586/2183440621.py:2: PerformanceWarning: indexing past lexsort depth may impact performance.\n",
      "/var/folders/kb/v0p0ypbd0wx1q2qb1kpxmmcc0000gn/T/ipykernel_23586/2183440621.py:2: PerformanceWarning: indexing past lexsort depth may impact performance.\n",
      "/var/folders/kb/v0p0ypbd0wx1q2qb1kpxmmcc0000gn/T/ipykernel_23586/2183440621.py:2: PerformanceWarning: indexing past lexsort depth may impact performance.\n",
      "/var/folders/kb/v0p0ypbd0wx1q2qb1kpxmmcc0000gn/T/ipykernel_23586/2183440621.py:2: PerformanceWarning: indexing past lexsort depth may impact performance.\n",
      "/var/folders/kb/v0p0ypbd0wx1q2qb1kpxmmcc0000gn/T/ipykernel_23586/2183440621.py:2: PerformanceWarning: indexing past lexsort depth may impact performance.\n",
      "\n",
      " 19%|█████████████████████████▍                                                                                                          | 105/545 [1:54:55<3:00:26, 24.61s/it]\u001b[A/var/folders/kb/v0p0ypbd0wx1q2qb1kpxmmcc0000gn/T/ipykernel_23586/2183440621.py:2: PerformanceWarning: indexing past lexsort depth may impact performance.\n",
      "/var/folders/kb/v0p0ypbd0wx1q2qb1kpxmmcc0000gn/T/ipykernel_23586/2183440621.py:2: PerformanceWarning: indexing past lexsort depth may impact performance.\n",
      "/var/folders/kb/v0p0ypbd0wx1q2qb1kpxmmcc0000gn/T/ipykernel_23586/2183440621.py:2: PerformanceWarning: indexing past lexsort depth may impact performance.\n",
      "/var/folders/kb/v0p0ypbd0wx1q2qb1kpxmmcc0000gn/T/ipykernel_23586/2183440621.py:2: PerformanceWarning: indexing past lexsort depth may impact performance.\n",
      "/var/folders/kb/v0p0ypbd0wx1q2qb1kpxmmcc0000gn/T/ipykernel_23586/2183440621.py:2: PerformanceWarning: indexing past lexsort depth may impact performance.\n",
      "\n",
      " 20%|██████████████████████████▋                                                                                                         | 110/545 [1:56:02<2:34:01, 21.24s/it]\u001b[A/var/folders/kb/v0p0ypbd0wx1q2qb1kpxmmcc0000gn/T/ipykernel_23586/2183440621.py:2: PerformanceWarning: indexing past lexsort depth may impact performance.\n",
      "/var/folders/kb/v0p0ypbd0wx1q2qb1kpxmmcc0000gn/T/ipykernel_23586/2183440621.py:2: PerformanceWarning: indexing past lexsort depth may impact performance.\n",
      "/var/folders/kb/v0p0ypbd0wx1q2qb1kpxmmcc0000gn/T/ipykernel_23586/2183440621.py:2: PerformanceWarning: indexing past lexsort depth may impact performance.\n",
      "/var/folders/kb/v0p0ypbd0wx1q2qb1kpxmmcc0000gn/T/ipykernel_23586/2183440621.py:2: PerformanceWarning: indexing past lexsort depth may impact performance.\n",
      "/var/folders/kb/v0p0ypbd0wx1q2qb1kpxmmcc0000gn/T/ipykernel_23586/2183440621.py:2: PerformanceWarning: indexing past lexsort depth may impact performance.\n",
      "\n",
      " 21%|███████████████████████████▊                                                                                                        | 115/545 [1:58:32<2:50:52, 23.84s/it]\u001b[A/var/folders/kb/v0p0ypbd0wx1q2qb1kpxmmcc0000gn/T/ipykernel_23586/2183440621.py:2: PerformanceWarning: indexing past lexsort depth may impact performance.\n",
      "/var/folders/kb/v0p0ypbd0wx1q2qb1kpxmmcc0000gn/T/ipykernel_23586/2183440621.py:2: PerformanceWarning: indexing past lexsort depth may impact performance.\n",
      "/var/folders/kb/v0p0ypbd0wx1q2qb1kpxmmcc0000gn/T/ipykernel_23586/2183440621.py:2: PerformanceWarning: indexing past lexsort depth may impact performance.\n",
      "/var/folders/kb/v0p0ypbd0wx1q2qb1kpxmmcc0000gn/T/ipykernel_23586/2183440621.py:2: PerformanceWarning: indexing past lexsort depth may impact performance.\n",
      "/var/folders/kb/v0p0ypbd0wx1q2qb1kpxmmcc0000gn/T/ipykernel_23586/2183440621.py:2: PerformanceWarning: indexing past lexsort depth may impact performance.\n",
      "\n",
      " 22%|█████████████████████████████                                                                                                       | 120/545 [2:00:27<2:47:00, 23.58s/it]\u001b[A/var/folders/kb/v0p0ypbd0wx1q2qb1kpxmmcc0000gn/T/ipykernel_23586/2183440621.py:2: PerformanceWarning: indexing past lexsort depth may impact performance.\n",
      "/var/folders/kb/v0p0ypbd0wx1q2qb1kpxmmcc0000gn/T/ipykernel_23586/2183440621.py:2: PerformanceWarning: indexing past lexsort depth may impact performance.\n",
      "/var/folders/kb/v0p0ypbd0wx1q2qb1kpxmmcc0000gn/T/ipykernel_23586/2183440621.py:2: PerformanceWarning: indexing past lexsort depth may impact performance.\n",
      "/var/folders/kb/v0p0ypbd0wx1q2qb1kpxmmcc0000gn/T/ipykernel_23586/2183440621.py:2: PerformanceWarning: indexing past lexsort depth may impact performance.\n",
      "/var/folders/kb/v0p0ypbd0wx1q2qb1kpxmmcc0000gn/T/ipykernel_23586/2183440621.py:2: PerformanceWarning: indexing past lexsort depth may impact performance.\n",
      "\n",
      " 23%|██████████████████████████████▎                                                                                                     | 125/545 [2:02:27<2:45:56, 23.71s/it]\u001b[A/var/folders/kb/v0p0ypbd0wx1q2qb1kpxmmcc0000gn/T/ipykernel_23586/2183440621.py:2: PerformanceWarning: indexing past lexsort depth may impact performance.\n",
      "/var/folders/kb/v0p0ypbd0wx1q2qb1kpxmmcc0000gn/T/ipykernel_23586/2183440621.py:2: PerformanceWarning: indexing past lexsort depth may impact performance.\n",
      "/var/folders/kb/v0p0ypbd0wx1q2qb1kpxmmcc0000gn/T/ipykernel_23586/2183440621.py:2: PerformanceWarning: indexing past lexsort depth may impact performance.\n",
      "/var/folders/kb/v0p0ypbd0wx1q2qb1kpxmmcc0000gn/T/ipykernel_23586/2183440621.py:2: PerformanceWarning: indexing past lexsort depth may impact performance.\n",
      "/var/folders/kb/v0p0ypbd0wx1q2qb1kpxmmcc0000gn/T/ipykernel_23586/2183440621.py:2: PerformanceWarning: indexing past lexsort depth may impact performance.\n",
      "\n",
      " 24%|███████████████████████████████▍                                                                                                    | 130/545 [2:04:25<2:43:44, 23.67s/it]\u001b[A/var/folders/kb/v0p0ypbd0wx1q2qb1kpxmmcc0000gn/T/ipykernel_23586/2183440621.py:2: PerformanceWarning: indexing past lexsort depth may impact performance.\n",
      "/var/folders/kb/v0p0ypbd0wx1q2qb1kpxmmcc0000gn/T/ipykernel_23586/2183440621.py:2: PerformanceWarning: indexing past lexsort depth may impact performance.\n",
      "/var/folders/kb/v0p0ypbd0wx1q2qb1kpxmmcc0000gn/T/ipykernel_23586/2183440621.py:2: PerformanceWarning: indexing past lexsort depth may impact performance.\n"
     ]
    },
    {
     "name": "stderr",
     "output_type": "stream",
     "text": [
      "/var/folders/kb/v0p0ypbd0wx1q2qb1kpxmmcc0000gn/T/ipykernel_23586/2183440621.py:2: PerformanceWarning: indexing past lexsort depth may impact performance.\n",
      "/var/folders/kb/v0p0ypbd0wx1q2qb1kpxmmcc0000gn/T/ipykernel_23586/2183440621.py:2: PerformanceWarning: indexing past lexsort depth may impact performance.\n",
      "\n",
      " 25%|████████████████████████████████▋                                                                                                   | 135/545 [2:06:34<2:46:18, 24.34s/it]\u001b[A/var/folders/kb/v0p0ypbd0wx1q2qb1kpxmmcc0000gn/T/ipykernel_23586/2183440621.py:2: PerformanceWarning: indexing past lexsort depth may impact performance.\n",
      "/var/folders/kb/v0p0ypbd0wx1q2qb1kpxmmcc0000gn/T/ipykernel_23586/2183440621.py:2: PerformanceWarning: indexing past lexsort depth may impact performance.\n",
      "/var/folders/kb/v0p0ypbd0wx1q2qb1kpxmmcc0000gn/T/ipykernel_23586/2183440621.py:2: PerformanceWarning: indexing past lexsort depth may impact performance.\n",
      "/var/folders/kb/v0p0ypbd0wx1q2qb1kpxmmcc0000gn/T/ipykernel_23586/2183440621.py:2: PerformanceWarning: indexing past lexsort depth may impact performance.\n",
      "/var/folders/kb/v0p0ypbd0wx1q2qb1kpxmmcc0000gn/T/ipykernel_23586/2183440621.py:2: PerformanceWarning: indexing past lexsort depth may impact performance.\n",
      "\n",
      " 26%|█████████████████████████████████▉                                                                                                  | 140/545 [2:08:56<2:52:24, 25.54s/it]\u001b[A/var/folders/kb/v0p0ypbd0wx1q2qb1kpxmmcc0000gn/T/ipykernel_23586/2183440621.py:2: PerformanceWarning: indexing past lexsort depth may impact performance.\n",
      "/var/folders/kb/v0p0ypbd0wx1q2qb1kpxmmcc0000gn/T/ipykernel_23586/2183440621.py:2: PerformanceWarning: indexing past lexsort depth may impact performance.\n",
      "/var/folders/kb/v0p0ypbd0wx1q2qb1kpxmmcc0000gn/T/ipykernel_23586/2183440621.py:2: PerformanceWarning: indexing past lexsort depth may impact performance.\n",
      "/var/folders/kb/v0p0ypbd0wx1q2qb1kpxmmcc0000gn/T/ipykernel_23586/2183440621.py:2: PerformanceWarning: indexing past lexsort depth may impact performance.\n",
      "/var/folders/kb/v0p0ypbd0wx1q2qb1kpxmmcc0000gn/T/ipykernel_23586/2183440621.py:2: PerformanceWarning: indexing past lexsort depth may impact performance.\n",
      "\n",
      " 27%|███████████████████████████████████                                                                                                 | 145/545 [2:10:21<2:33:24, 23.01s/it]\u001b[A/var/folders/kb/v0p0ypbd0wx1q2qb1kpxmmcc0000gn/T/ipykernel_23586/2183440621.py:2: PerformanceWarning: indexing past lexsort depth may impact performance.\n",
      "/var/folders/kb/v0p0ypbd0wx1q2qb1kpxmmcc0000gn/T/ipykernel_23586/2183440621.py:2: PerformanceWarning: indexing past lexsort depth may impact performance.\n",
      "/var/folders/kb/v0p0ypbd0wx1q2qb1kpxmmcc0000gn/T/ipykernel_23586/2183440621.py:2: PerformanceWarning: indexing past lexsort depth may impact performance.\n",
      "/var/folders/kb/v0p0ypbd0wx1q2qb1kpxmmcc0000gn/T/ipykernel_23586/2183440621.py:2: PerformanceWarning: indexing past lexsort depth may impact performance.\n",
      "/var/folders/kb/v0p0ypbd0wx1q2qb1kpxmmcc0000gn/T/ipykernel_23586/2183440621.py:2: PerformanceWarning: indexing past lexsort depth may impact performance.\n",
      "\n",
      " 28%|████████████████████████████████████▎                                                                                               | 150/545 [2:12:41<2:41:11, 24.49s/it]\u001b[A/var/folders/kb/v0p0ypbd0wx1q2qb1kpxmmcc0000gn/T/ipykernel_23586/2183440621.py:2: PerformanceWarning: indexing past lexsort depth may impact performance.\n",
      "/var/folders/kb/v0p0ypbd0wx1q2qb1kpxmmcc0000gn/T/ipykernel_23586/2183440621.py:2: PerformanceWarning: indexing past lexsort depth may impact performance.\n",
      "/var/folders/kb/v0p0ypbd0wx1q2qb1kpxmmcc0000gn/T/ipykernel_23586/2183440621.py:2: PerformanceWarning: indexing past lexsort depth may impact performance.\n",
      "/var/folders/kb/v0p0ypbd0wx1q2qb1kpxmmcc0000gn/T/ipykernel_23586/2183440621.py:2: PerformanceWarning: indexing past lexsort depth may impact performance.\n",
      "/var/folders/kb/v0p0ypbd0wx1q2qb1kpxmmcc0000gn/T/ipykernel_23586/2183440621.py:2: PerformanceWarning: indexing past lexsort depth may impact performance.\n",
      "\n",
      " 28%|█████████████████████████████████████▌                                                                                              | 155/545 [2:14:41<2:38:04, 24.32s/it]\u001b[A/var/folders/kb/v0p0ypbd0wx1q2qb1kpxmmcc0000gn/T/ipykernel_23586/2183440621.py:2: PerformanceWarning: indexing past lexsort depth may impact performance.\n",
      "/var/folders/kb/v0p0ypbd0wx1q2qb1kpxmmcc0000gn/T/ipykernel_23586/2183440621.py:2: PerformanceWarning: indexing past lexsort depth may impact performance.\n",
      "/var/folders/kb/v0p0ypbd0wx1q2qb1kpxmmcc0000gn/T/ipykernel_23586/2183440621.py:2: PerformanceWarning: indexing past lexsort depth may impact performance.\n",
      "/var/folders/kb/v0p0ypbd0wx1q2qb1kpxmmcc0000gn/T/ipykernel_23586/2183440621.py:2: PerformanceWarning: indexing past lexsort depth may impact performance.\n",
      "/var/folders/kb/v0p0ypbd0wx1q2qb1kpxmmcc0000gn/T/ipykernel_23586/2183440621.py:2: PerformanceWarning: indexing past lexsort depth may impact performance.\n",
      "\n",
      " 29%|██████████████████████████████████████▊                                                                                             | 160/545 [2:17:23<2:51:41, 26.76s/it]\u001b[A/var/folders/kb/v0p0ypbd0wx1q2qb1kpxmmcc0000gn/T/ipykernel_23586/2183440621.py:2: PerformanceWarning: indexing past lexsort depth may impact performance.\n",
      "/var/folders/kb/v0p0ypbd0wx1q2qb1kpxmmcc0000gn/T/ipykernel_23586/2183440621.py:2: PerformanceWarning: indexing past lexsort depth may impact performance.\n",
      "/var/folders/kb/v0p0ypbd0wx1q2qb1kpxmmcc0000gn/T/ipykernel_23586/2183440621.py:2: PerformanceWarning: indexing past lexsort depth may impact performance.\n",
      "/var/folders/kb/v0p0ypbd0wx1q2qb1kpxmmcc0000gn/T/ipykernel_23586/2183440621.py:2: PerformanceWarning: indexing past lexsort depth may impact performance.\n",
      "/var/folders/kb/v0p0ypbd0wx1q2qb1kpxmmcc0000gn/T/ipykernel_23586/2183440621.py:2: PerformanceWarning: indexing past lexsort depth may impact performance.\n",
      "\n",
      " 30%|███████████████████████████████████████▉                                                                                            | 165/545 [2:19:34<2:48:19, 26.58s/it]\u001b[A/var/folders/kb/v0p0ypbd0wx1q2qb1kpxmmcc0000gn/T/ipykernel_23586/2183440621.py:2: PerformanceWarning: indexing past lexsort depth may impact performance.\n",
      "/var/folders/kb/v0p0ypbd0wx1q2qb1kpxmmcc0000gn/T/ipykernel_23586/2183440621.py:2: PerformanceWarning: indexing past lexsort depth may impact performance.\n",
      "/var/folders/kb/v0p0ypbd0wx1q2qb1kpxmmcc0000gn/T/ipykernel_23586/2183440621.py:2: PerformanceWarning: indexing past lexsort depth may impact performance.\n",
      "/var/folders/kb/v0p0ypbd0wx1q2qb1kpxmmcc0000gn/T/ipykernel_23586/2183440621.py:2: PerformanceWarning: indexing past lexsort depth may impact performance.\n",
      "/var/folders/kb/v0p0ypbd0wx1q2qb1kpxmmcc0000gn/T/ipykernel_23586/2183440621.py:2: PerformanceWarning: indexing past lexsort depth may impact performance.\n",
      "\n",
      " 31%|█████████████████████████████████████████▏                                                                                          | 170/545 [2:20:39<2:20:56, 22.55s/it]\u001b[A/var/folders/kb/v0p0ypbd0wx1q2qb1kpxmmcc0000gn/T/ipykernel_23586/2183440621.py:2: PerformanceWarning: indexing past lexsort depth may impact performance.\n",
      "/var/folders/kb/v0p0ypbd0wx1q2qb1kpxmmcc0000gn/T/ipykernel_23586/2183440621.py:2: PerformanceWarning: indexing past lexsort depth may impact performance.\n",
      "/var/folders/kb/v0p0ypbd0wx1q2qb1kpxmmcc0000gn/T/ipykernel_23586/2183440621.py:2: PerformanceWarning: indexing past lexsort depth may impact performance.\n",
      "/var/folders/kb/v0p0ypbd0wx1q2qb1kpxmmcc0000gn/T/ipykernel_23586/2183440621.py:2: PerformanceWarning: indexing past lexsort depth may impact performance.\n",
      "/var/folders/kb/v0p0ypbd0wx1q2qb1kpxmmcc0000gn/T/ipykernel_23586/2183440621.py:2: PerformanceWarning: indexing past lexsort depth may impact performance.\n",
      "\n",
      " 32%|██████████████████████████████████████████▍                                                                                         | 175/545 [2:22:47<2:24:34, 23.45s/it]\u001b[A/var/folders/kb/v0p0ypbd0wx1q2qb1kpxmmcc0000gn/T/ipykernel_23586/2183440621.py:2: PerformanceWarning: indexing past lexsort depth may impact performance.\n"
     ]
    },
    {
     "name": "stderr",
     "output_type": "stream",
     "text": [
      "/var/folders/kb/v0p0ypbd0wx1q2qb1kpxmmcc0000gn/T/ipykernel_23586/2183440621.py:2: PerformanceWarning: indexing past lexsort depth may impact performance.\n",
      "/var/folders/kb/v0p0ypbd0wx1q2qb1kpxmmcc0000gn/T/ipykernel_23586/2183440621.py:2: PerformanceWarning: indexing past lexsort depth may impact performance.\n",
      "/var/folders/kb/v0p0ypbd0wx1q2qb1kpxmmcc0000gn/T/ipykernel_23586/2183440621.py:2: PerformanceWarning: indexing past lexsort depth may impact performance.\n",
      "/var/folders/kb/v0p0ypbd0wx1q2qb1kpxmmcc0000gn/T/ipykernel_23586/2183440621.py:2: PerformanceWarning: indexing past lexsort depth may impact performance.\n",
      "\n",
      " 33%|███████████████████████████████████████████▌                                                                                        | 180/545 [2:24:34<2:18:41, 22.80s/it]\u001b[A/var/folders/kb/v0p0ypbd0wx1q2qb1kpxmmcc0000gn/T/ipykernel_23586/2183440621.py:2: PerformanceWarning: indexing past lexsort depth may impact performance.\n",
      "/var/folders/kb/v0p0ypbd0wx1q2qb1kpxmmcc0000gn/T/ipykernel_23586/2183440621.py:2: PerformanceWarning: indexing past lexsort depth may impact performance.\n",
      "/var/folders/kb/v0p0ypbd0wx1q2qb1kpxmmcc0000gn/T/ipykernel_23586/2183440621.py:2: PerformanceWarning: indexing past lexsort depth may impact performance.\n",
      "/var/folders/kb/v0p0ypbd0wx1q2qb1kpxmmcc0000gn/T/ipykernel_23586/2183440621.py:2: PerformanceWarning: indexing past lexsort depth may impact performance.\n",
      "/var/folders/kb/v0p0ypbd0wx1q2qb1kpxmmcc0000gn/T/ipykernel_23586/2183440621.py:2: PerformanceWarning: indexing past lexsort depth may impact performance.\n",
      "\n",
      " 34%|████████████████████████████████████████████▊                                                                                       | 185/545 [2:26:55<2:26:47, 24.47s/it]\u001b[A/var/folders/kb/v0p0ypbd0wx1q2qb1kpxmmcc0000gn/T/ipykernel_23586/2183440621.py:2: PerformanceWarning: indexing past lexsort depth may impact performance.\n",
      "/var/folders/kb/v0p0ypbd0wx1q2qb1kpxmmcc0000gn/T/ipykernel_23586/2183440621.py:2: PerformanceWarning: indexing past lexsort depth may impact performance.\n",
      "/var/folders/kb/v0p0ypbd0wx1q2qb1kpxmmcc0000gn/T/ipykernel_23586/2183440621.py:2: PerformanceWarning: indexing past lexsort depth may impact performance.\n",
      "/var/folders/kb/v0p0ypbd0wx1q2qb1kpxmmcc0000gn/T/ipykernel_23586/2183440621.py:2: PerformanceWarning: indexing past lexsort depth may impact performance.\n",
      "/var/folders/kb/v0p0ypbd0wx1q2qb1kpxmmcc0000gn/T/ipykernel_23586/2183440621.py:2: PerformanceWarning: indexing past lexsort depth may impact performance.\n",
      "\n",
      " 35%|██████████████████████████████████████████████                                                                                      | 190/545 [2:28:53<2:23:14, 24.21s/it]\u001b[A/var/folders/kb/v0p0ypbd0wx1q2qb1kpxmmcc0000gn/T/ipykernel_23586/2183440621.py:2: PerformanceWarning: indexing past lexsort depth may impact performance.\n",
      "/var/folders/kb/v0p0ypbd0wx1q2qb1kpxmmcc0000gn/T/ipykernel_23586/2183440621.py:2: PerformanceWarning: indexing past lexsort depth may impact performance.\n",
      "/var/folders/kb/v0p0ypbd0wx1q2qb1kpxmmcc0000gn/T/ipykernel_23586/2183440621.py:2: PerformanceWarning: indexing past lexsort depth may impact performance.\n",
      "/var/folders/kb/v0p0ypbd0wx1q2qb1kpxmmcc0000gn/T/ipykernel_23586/2183440621.py:2: PerformanceWarning: indexing past lexsort depth may impact performance.\n",
      "/var/folders/kb/v0p0ypbd0wx1q2qb1kpxmmcc0000gn/T/ipykernel_23586/2183440621.py:2: PerformanceWarning: indexing past lexsort depth may impact performance.\n",
      "\n",
      " 36%|███████████████████████████████████████████████▏                                                                                    | 195/545 [2:30:58<2:22:27, 24.42s/it]\u001b[A/var/folders/kb/v0p0ypbd0wx1q2qb1kpxmmcc0000gn/T/ipykernel_23586/2183440621.py:2: PerformanceWarning: indexing past lexsort depth may impact performance.\n",
      "/var/folders/kb/v0p0ypbd0wx1q2qb1kpxmmcc0000gn/T/ipykernel_23586/2183440621.py:2: PerformanceWarning: indexing past lexsort depth may impact performance.\n",
      "/var/folders/kb/v0p0ypbd0wx1q2qb1kpxmmcc0000gn/T/ipykernel_23586/2183440621.py:2: PerformanceWarning: indexing past lexsort depth may impact performance.\n",
      "/var/folders/kb/v0p0ypbd0wx1q2qb1kpxmmcc0000gn/T/ipykernel_23586/2183440621.py:2: PerformanceWarning: indexing past lexsort depth may impact performance.\n",
      "/var/folders/kb/v0p0ypbd0wx1q2qb1kpxmmcc0000gn/T/ipykernel_23586/2183440621.py:2: PerformanceWarning: indexing past lexsort depth may impact performance.\n",
      "\n",
      " 37%|████████████████████████████████████████████████▍                                                                                   | 200/545 [2:33:15<2:25:31, 25.31s/it]\u001b[A/var/folders/kb/v0p0ypbd0wx1q2qb1kpxmmcc0000gn/T/ipykernel_23586/2183440621.py:2: PerformanceWarning: indexing past lexsort depth may impact performance.\n",
      "/var/folders/kb/v0p0ypbd0wx1q2qb1kpxmmcc0000gn/T/ipykernel_23586/2183440621.py:2: PerformanceWarning: indexing past lexsort depth may impact performance.\n",
      "/var/folders/kb/v0p0ypbd0wx1q2qb1kpxmmcc0000gn/T/ipykernel_23586/2183440621.py:2: PerformanceWarning: indexing past lexsort depth may impact performance.\n",
      "/var/folders/kb/v0p0ypbd0wx1q2qb1kpxmmcc0000gn/T/ipykernel_23586/2183440621.py:2: PerformanceWarning: indexing past lexsort depth may impact performance.\n",
      "/var/folders/kb/v0p0ypbd0wx1q2qb1kpxmmcc0000gn/T/ipykernel_23586/2183440621.py:2: PerformanceWarning: indexing past lexsort depth may impact performance.\n",
      "\n",
      " 38%|█████████████████████████████████████████████████▋                                                                                  | 205/545 [2:34:31<2:06:21, 22.30s/it]\u001b[A/var/folders/kb/v0p0ypbd0wx1q2qb1kpxmmcc0000gn/T/ipykernel_23586/2183440621.py:2: PerformanceWarning: indexing past lexsort depth may impact performance.\n",
      "/var/folders/kb/v0p0ypbd0wx1q2qb1kpxmmcc0000gn/T/ipykernel_23586/2183440621.py:2: PerformanceWarning: indexing past lexsort depth may impact performance.\n",
      "/var/folders/kb/v0p0ypbd0wx1q2qb1kpxmmcc0000gn/T/ipykernel_23586/2183440621.py:2: PerformanceWarning: indexing past lexsort depth may impact performance.\n",
      "/var/folders/kb/v0p0ypbd0wx1q2qb1kpxmmcc0000gn/T/ipykernel_23586/2183440621.py:2: PerformanceWarning: indexing past lexsort depth may impact performance.\n",
      "/var/folders/kb/v0p0ypbd0wx1q2qb1kpxmmcc0000gn/T/ipykernel_23586/2183440621.py:2: PerformanceWarning: indexing past lexsort depth may impact performance.\n",
      "\n",
      " 39%|██████████████████████████████████████████████████▊                                                                                 | 210/545 [2:36:54<2:15:02, 24.19s/it]\u001b[A/var/folders/kb/v0p0ypbd0wx1q2qb1kpxmmcc0000gn/T/ipykernel_23586/2183440621.py:2: PerformanceWarning: indexing past lexsort depth may impact performance.\n",
      "/var/folders/kb/v0p0ypbd0wx1q2qb1kpxmmcc0000gn/T/ipykernel_23586/2183440621.py:2: PerformanceWarning: indexing past lexsort depth may impact performance.\n",
      "/var/folders/kb/v0p0ypbd0wx1q2qb1kpxmmcc0000gn/T/ipykernel_23586/2183440621.py:2: PerformanceWarning: indexing past lexsort depth may impact performance.\n",
      "/var/folders/kb/v0p0ypbd0wx1q2qb1kpxmmcc0000gn/T/ipykernel_23586/2183440621.py:2: PerformanceWarning: indexing past lexsort depth may impact performance.\n",
      "/var/folders/kb/v0p0ypbd0wx1q2qb1kpxmmcc0000gn/T/ipykernel_23586/2183440621.py:2: PerformanceWarning: indexing past lexsort depth may impact performance.\n",
      "\n",
      " 39%|████████████████████████████████████████████████████                                                                                | 215/545 [2:39:16<2:20:02, 25.46s/it]\u001b[A/var/folders/kb/v0p0ypbd0wx1q2qb1kpxmmcc0000gn/T/ipykernel_23586/2183440621.py:2: PerformanceWarning: indexing past lexsort depth may impact performance.\n",
      "/var/folders/kb/v0p0ypbd0wx1q2qb1kpxmmcc0000gn/T/ipykernel_23586/2183440621.py:2: PerformanceWarning: indexing past lexsort depth may impact performance.\n",
      "/var/folders/kb/v0p0ypbd0wx1q2qb1kpxmmcc0000gn/T/ipykernel_23586/2183440621.py:2: PerformanceWarning: indexing past lexsort depth may impact performance.\n",
      "/var/folders/kb/v0p0ypbd0wx1q2qb1kpxmmcc0000gn/T/ipykernel_23586/2183440621.py:2: PerformanceWarning: indexing past lexsort depth may impact performance.\n",
      "/var/folders/kb/v0p0ypbd0wx1q2qb1kpxmmcc0000gn/T/ipykernel_23586/2183440621.py:2: PerformanceWarning: indexing past lexsort depth may impact performance.\n"
     ]
    },
    {
     "name": "stderr",
     "output_type": "stream",
     "text": [
      "\n",
      " 40%|█████████████████████████████████████████████████████▎                                                                              | 220/545 [2:41:52<2:27:09, 27.17s/it]\u001b[A/var/folders/kb/v0p0ypbd0wx1q2qb1kpxmmcc0000gn/T/ipykernel_23586/2183440621.py:2: PerformanceWarning: indexing past lexsort depth may impact performance.\n",
      "/var/folders/kb/v0p0ypbd0wx1q2qb1kpxmmcc0000gn/T/ipykernel_23586/2183440621.py:2: PerformanceWarning: indexing past lexsort depth may impact performance.\n",
      "/var/folders/kb/v0p0ypbd0wx1q2qb1kpxmmcc0000gn/T/ipykernel_23586/2183440621.py:2: PerformanceWarning: indexing past lexsort depth may impact performance.\n",
      "/var/folders/kb/v0p0ypbd0wx1q2qb1kpxmmcc0000gn/T/ipykernel_23586/2183440621.py:2: PerformanceWarning: indexing past lexsort depth may impact performance.\n",
      "/var/folders/kb/v0p0ypbd0wx1q2qb1kpxmmcc0000gn/T/ipykernel_23586/2183440621.py:2: PerformanceWarning: indexing past lexsort depth may impact performance.\n",
      "\n",
      " 41%|██████████████████████████████████████████████████████▍                                                                             | 225/545 [2:43:46<2:17:53, 25.85s/it]\u001b[A/var/folders/kb/v0p0ypbd0wx1q2qb1kpxmmcc0000gn/T/ipykernel_23586/2183440621.py:2: PerformanceWarning: indexing past lexsort depth may impact performance.\n",
      "/var/folders/kb/v0p0ypbd0wx1q2qb1kpxmmcc0000gn/T/ipykernel_23586/2183440621.py:2: PerformanceWarning: indexing past lexsort depth may impact performance.\n",
      "/var/folders/kb/v0p0ypbd0wx1q2qb1kpxmmcc0000gn/T/ipykernel_23586/2183440621.py:2: PerformanceWarning: indexing past lexsort depth may impact performance.\n",
      "/var/folders/kb/v0p0ypbd0wx1q2qb1kpxmmcc0000gn/T/ipykernel_23586/2183440621.py:2: PerformanceWarning: indexing past lexsort depth may impact performance.\n",
      "/var/folders/kb/v0p0ypbd0wx1q2qb1kpxmmcc0000gn/T/ipykernel_23586/2183440621.py:2: PerformanceWarning: indexing past lexsort depth may impact performance.\n",
      "\n",
      " 42%|███████████████████████████████████████████████████████▋                                                                            | 230/545 [2:45:31<2:08:05, 24.40s/it]\u001b[A/var/folders/kb/v0p0ypbd0wx1q2qb1kpxmmcc0000gn/T/ipykernel_23586/2183440621.py:2: PerformanceWarning: indexing past lexsort depth may impact performance.\n",
      "/var/folders/kb/v0p0ypbd0wx1q2qb1kpxmmcc0000gn/T/ipykernel_23586/2183440621.py:2: PerformanceWarning: indexing past lexsort depth may impact performance.\n",
      "/var/folders/kb/v0p0ypbd0wx1q2qb1kpxmmcc0000gn/T/ipykernel_23586/2183440621.py:2: PerformanceWarning: indexing past lexsort depth may impact performance.\n",
      "/var/folders/kb/v0p0ypbd0wx1q2qb1kpxmmcc0000gn/T/ipykernel_23586/2183440621.py:2: PerformanceWarning: indexing past lexsort depth may impact performance.\n",
      "/var/folders/kb/v0p0ypbd0wx1q2qb1kpxmmcc0000gn/T/ipykernel_23586/2183440621.py:2: PerformanceWarning: indexing past lexsort depth may impact performance.\n",
      "\n",
      " 43%|████████████████████████████████████████████████████████▉                                                                           | 235/545 [2:47:18<2:01:21, 23.49s/it]\u001b[A/var/folders/kb/v0p0ypbd0wx1q2qb1kpxmmcc0000gn/T/ipykernel_23586/2183440621.py:2: PerformanceWarning: indexing past lexsort depth may impact performance.\n",
      "/var/folders/kb/v0p0ypbd0wx1q2qb1kpxmmcc0000gn/T/ipykernel_23586/2183440621.py:2: PerformanceWarning: indexing past lexsort depth may impact performance.\n",
      "/var/folders/kb/v0p0ypbd0wx1q2qb1kpxmmcc0000gn/T/ipykernel_23586/2183440621.py:2: PerformanceWarning: indexing past lexsort depth may impact performance.\n",
      "/var/folders/kb/v0p0ypbd0wx1q2qb1kpxmmcc0000gn/T/ipykernel_23586/2183440621.py:2: PerformanceWarning: indexing past lexsort depth may impact performance.\n",
      "/var/folders/kb/v0p0ypbd0wx1q2qb1kpxmmcc0000gn/T/ipykernel_23586/2183440621.py:2: PerformanceWarning: indexing past lexsort depth may impact performance.\n",
      "\n",
      " 44%|██████████████████████████████████████████████████████████▏                                                                         | 240/545 [2:49:42<2:07:39, 25.11s/it]\u001b[A/var/folders/kb/v0p0ypbd0wx1q2qb1kpxmmcc0000gn/T/ipykernel_23586/2183440621.py:2: PerformanceWarning: indexing past lexsort depth may impact performance.\n",
      "/var/folders/kb/v0p0ypbd0wx1q2qb1kpxmmcc0000gn/T/ipykernel_23586/2183440621.py:2: PerformanceWarning: indexing past lexsort depth may impact performance.\n",
      "/var/folders/kb/v0p0ypbd0wx1q2qb1kpxmmcc0000gn/T/ipykernel_23586/2183440621.py:2: PerformanceWarning: indexing past lexsort depth may impact performance.\n",
      "/var/folders/kb/v0p0ypbd0wx1q2qb1kpxmmcc0000gn/T/ipykernel_23586/2183440621.py:2: PerformanceWarning: indexing past lexsort depth may impact performance.\n",
      "/var/folders/kb/v0p0ypbd0wx1q2qb1kpxmmcc0000gn/T/ipykernel_23586/2183440621.py:2: PerformanceWarning: indexing past lexsort depth may impact performance.\n",
      "\n",
      " 45%|███████████████████████████████████████████████████████████▎                                                                        | 245/545 [2:51:58<2:08:40, 25.73s/it]\u001b[A/var/folders/kb/v0p0ypbd0wx1q2qb1kpxmmcc0000gn/T/ipykernel_23586/2183440621.py:2: PerformanceWarning: indexing past lexsort depth may impact performance.\n",
      "/var/folders/kb/v0p0ypbd0wx1q2qb1kpxmmcc0000gn/T/ipykernel_23586/2183440621.py:2: PerformanceWarning: indexing past lexsort depth may impact performance.\n",
      "/var/folders/kb/v0p0ypbd0wx1q2qb1kpxmmcc0000gn/T/ipykernel_23586/2183440621.py:2: PerformanceWarning: indexing past lexsort depth may impact performance.\n",
      "/var/folders/kb/v0p0ypbd0wx1q2qb1kpxmmcc0000gn/T/ipykernel_23586/2183440621.py:2: PerformanceWarning: indexing past lexsort depth may impact performance.\n",
      "/var/folders/kb/v0p0ypbd0wx1q2qb1kpxmmcc0000gn/T/ipykernel_23586/2183440621.py:2: PerformanceWarning: indexing past lexsort depth may impact performance.\n",
      "\n",
      " 46%|████████████████████████████████████████████████████████████▌                                                                       | 250/545 [2:53:55<2:02:56, 25.00s/it]\u001b[A/var/folders/kb/v0p0ypbd0wx1q2qb1kpxmmcc0000gn/T/ipykernel_23586/2183440621.py:2: PerformanceWarning: indexing past lexsort depth may impact performance.\n",
      "/var/folders/kb/v0p0ypbd0wx1q2qb1kpxmmcc0000gn/T/ipykernel_23586/2183440621.py:2: PerformanceWarning: indexing past lexsort depth may impact performance.\n",
      "/var/folders/kb/v0p0ypbd0wx1q2qb1kpxmmcc0000gn/T/ipykernel_23586/2183440621.py:2: PerformanceWarning: indexing past lexsort depth may impact performance.\n",
      "/var/folders/kb/v0p0ypbd0wx1q2qb1kpxmmcc0000gn/T/ipykernel_23586/2183440621.py:2: PerformanceWarning: indexing past lexsort depth may impact performance.\n",
      "/var/folders/kb/v0p0ypbd0wx1q2qb1kpxmmcc0000gn/T/ipykernel_23586/2183440621.py:2: PerformanceWarning: indexing past lexsort depth may impact performance.\n",
      "\n",
      " 47%|█████████████████████████████████████████████████████████████▊                                                                      | 255/545 [2:56:05<2:02:12, 25.28s/it]\u001b[A/var/folders/kb/v0p0ypbd0wx1q2qb1kpxmmcc0000gn/T/ipykernel_23586/2183440621.py:2: PerformanceWarning: indexing past lexsort depth may impact performance.\n",
      "/var/folders/kb/v0p0ypbd0wx1q2qb1kpxmmcc0000gn/T/ipykernel_23586/2183440621.py:2: PerformanceWarning: indexing past lexsort depth may impact performance.\n",
      "/var/folders/kb/v0p0ypbd0wx1q2qb1kpxmmcc0000gn/T/ipykernel_23586/2183440621.py:2: PerformanceWarning: indexing past lexsort depth may impact performance.\n",
      "/var/folders/kb/v0p0ypbd0wx1q2qb1kpxmmcc0000gn/T/ipykernel_23586/2183440621.py:2: PerformanceWarning: indexing past lexsort depth may impact performance.\n",
      "/var/folders/kb/v0p0ypbd0wx1q2qb1kpxmmcc0000gn/T/ipykernel_23586/2183440621.py:2: PerformanceWarning: indexing past lexsort depth may impact performance.\n",
      "\n",
      " 48%|██████████████████████████████████████████████████████████████▉                                                                     | 260/545 [2:58:21<2:02:55, 25.88s/it]\u001b[A/var/folders/kb/v0p0ypbd0wx1q2qb1kpxmmcc0000gn/T/ipykernel_23586/2183440621.py:2: PerformanceWarning: indexing past lexsort depth may impact performance.\n",
      "/var/folders/kb/v0p0ypbd0wx1q2qb1kpxmmcc0000gn/T/ipykernel_23586/2183440621.py:2: PerformanceWarning: indexing past lexsort depth may impact performance.\n",
      "/var/folders/kb/v0p0ypbd0wx1q2qb1kpxmmcc0000gn/T/ipykernel_23586/2183440621.py:2: PerformanceWarning: indexing past lexsort depth may impact performance.\n"
     ]
    },
    {
     "name": "stderr",
     "output_type": "stream",
     "text": [
      "/var/folders/kb/v0p0ypbd0wx1q2qb1kpxmmcc0000gn/T/ipykernel_23586/2183440621.py:2: PerformanceWarning: indexing past lexsort depth may impact performance.\n",
      "/var/folders/kb/v0p0ypbd0wx1q2qb1kpxmmcc0000gn/T/ipykernel_23586/2183440621.py:2: PerformanceWarning: indexing past lexsort depth may impact performance.\n",
      "\n",
      " 49%|████████████████████████████████████████████████████████████████▏                                                                   | 265/545 [2:59:59<1:52:07, 24.03s/it]\u001b[A/var/folders/kb/v0p0ypbd0wx1q2qb1kpxmmcc0000gn/T/ipykernel_23586/2183440621.py:2: PerformanceWarning: indexing past lexsort depth may impact performance.\n",
      "/var/folders/kb/v0p0ypbd0wx1q2qb1kpxmmcc0000gn/T/ipykernel_23586/2183440621.py:2: PerformanceWarning: indexing past lexsort depth may impact performance.\n",
      "/var/folders/kb/v0p0ypbd0wx1q2qb1kpxmmcc0000gn/T/ipykernel_23586/2183440621.py:2: PerformanceWarning: indexing past lexsort depth may impact performance.\n",
      "/var/folders/kb/v0p0ypbd0wx1q2qb1kpxmmcc0000gn/T/ipykernel_23586/2183440621.py:2: PerformanceWarning: indexing past lexsort depth may impact performance.\n",
      "/var/folders/kb/v0p0ypbd0wx1q2qb1kpxmmcc0000gn/T/ipykernel_23586/2183440621.py:2: PerformanceWarning: indexing past lexsort depth may impact performance.\n",
      "\n",
      " 50%|█████████████████████████████████████████████████████████████████▍                                                                  | 270/545 [3:01:47<1:46:41, 23.28s/it]\u001b[A/var/folders/kb/v0p0ypbd0wx1q2qb1kpxmmcc0000gn/T/ipykernel_23586/2183440621.py:2: PerformanceWarning: indexing past lexsort depth may impact performance.\n",
      "/var/folders/kb/v0p0ypbd0wx1q2qb1kpxmmcc0000gn/T/ipykernel_23586/2183440621.py:2: PerformanceWarning: indexing past lexsort depth may impact performance.\n",
      "/var/folders/kb/v0p0ypbd0wx1q2qb1kpxmmcc0000gn/T/ipykernel_23586/2183440621.py:2: PerformanceWarning: indexing past lexsort depth may impact performance.\n",
      "/var/folders/kb/v0p0ypbd0wx1q2qb1kpxmmcc0000gn/T/ipykernel_23586/2183440621.py:2: PerformanceWarning: indexing past lexsort depth may impact performance.\n",
      "/var/folders/kb/v0p0ypbd0wx1q2qb1kpxmmcc0000gn/T/ipykernel_23586/2183440621.py:2: PerformanceWarning: indexing past lexsort depth may impact performance.\n",
      "\n",
      " 50%|██████████████████████████████████████████████████████████████████▌                                                                 | 275/545 [3:03:32<1:41:36, 22.58s/it]\u001b[A/var/folders/kb/v0p0ypbd0wx1q2qb1kpxmmcc0000gn/T/ipykernel_23586/2183440621.py:2: PerformanceWarning: indexing past lexsort depth may impact performance.\n",
      "/var/folders/kb/v0p0ypbd0wx1q2qb1kpxmmcc0000gn/T/ipykernel_23586/2183440621.py:2: PerformanceWarning: indexing past lexsort depth may impact performance.\n",
      "/var/folders/kb/v0p0ypbd0wx1q2qb1kpxmmcc0000gn/T/ipykernel_23586/2183440621.py:2: PerformanceWarning: indexing past lexsort depth may impact performance.\n",
      "/var/folders/kb/v0p0ypbd0wx1q2qb1kpxmmcc0000gn/T/ipykernel_23586/2183440621.py:2: PerformanceWarning: indexing past lexsort depth may impact performance.\n",
      "/var/folders/kb/v0p0ypbd0wx1q2qb1kpxmmcc0000gn/T/ipykernel_23586/2183440621.py:2: PerformanceWarning: indexing past lexsort depth may impact performance.\n",
      "\n",
      " 51%|███████████████████████████████████████████████████████████████████▊                                                                | 280/545 [3:05:43<1:44:37, 23.69s/it]\u001b[A/var/folders/kb/v0p0ypbd0wx1q2qb1kpxmmcc0000gn/T/ipykernel_23586/2183440621.py:2: PerformanceWarning: indexing past lexsort depth may impact performance.\n",
      "/var/folders/kb/v0p0ypbd0wx1q2qb1kpxmmcc0000gn/T/ipykernel_23586/2183440621.py:2: PerformanceWarning: indexing past lexsort depth may impact performance.\n",
      "/var/folders/kb/v0p0ypbd0wx1q2qb1kpxmmcc0000gn/T/ipykernel_23586/2183440621.py:2: PerformanceWarning: indexing past lexsort depth may impact performance.\n",
      "/var/folders/kb/v0p0ypbd0wx1q2qb1kpxmmcc0000gn/T/ipykernel_23586/2183440621.py:2: PerformanceWarning: indexing past lexsort depth may impact performance.\n",
      "/var/folders/kb/v0p0ypbd0wx1q2qb1kpxmmcc0000gn/T/ipykernel_23586/2183440621.py:2: PerformanceWarning: indexing past lexsort depth may impact performance.\n",
      "\n",
      " 52%|█████████████████████████████████████████████████████████████████████                                                               | 285/545 [3:08:21<1:52:46, 26.03s/it]\u001b[A/var/folders/kb/v0p0ypbd0wx1q2qb1kpxmmcc0000gn/T/ipykernel_23586/2183440621.py:2: PerformanceWarning: indexing past lexsort depth may impact performance.\n",
      "/var/folders/kb/v0p0ypbd0wx1q2qb1kpxmmcc0000gn/T/ipykernel_23586/2183440621.py:2: PerformanceWarning: indexing past lexsort depth may impact performance.\n",
      "/var/folders/kb/v0p0ypbd0wx1q2qb1kpxmmcc0000gn/T/ipykernel_23586/2183440621.py:2: PerformanceWarning: indexing past lexsort depth may impact performance.\n",
      "/var/folders/kb/v0p0ypbd0wx1q2qb1kpxmmcc0000gn/T/ipykernel_23586/2183440621.py:2: PerformanceWarning: indexing past lexsort depth may impact performance.\n",
      "/var/folders/kb/v0p0ypbd0wx1q2qb1kpxmmcc0000gn/T/ipykernel_23586/2183440621.py:2: PerformanceWarning: indexing past lexsort depth may impact performance.\n",
      "\n",
      " 53%|██████████████████████████████████████████████████████████████████████▏                                                             | 290/545 [3:10:22<1:48:30, 25.53s/it]\u001b[A/var/folders/kb/v0p0ypbd0wx1q2qb1kpxmmcc0000gn/T/ipykernel_23586/2183440621.py:2: PerformanceWarning: indexing past lexsort depth may impact performance.\n",
      "/var/folders/kb/v0p0ypbd0wx1q2qb1kpxmmcc0000gn/T/ipykernel_23586/2183440621.py:2: PerformanceWarning: indexing past lexsort depth may impact performance.\n",
      "/var/folders/kb/v0p0ypbd0wx1q2qb1kpxmmcc0000gn/T/ipykernel_23586/2183440621.py:2: PerformanceWarning: indexing past lexsort depth may impact performance.\n",
      "/var/folders/kb/v0p0ypbd0wx1q2qb1kpxmmcc0000gn/T/ipykernel_23586/2183440621.py:2: PerformanceWarning: indexing past lexsort depth may impact performance.\n",
      "/var/folders/kb/v0p0ypbd0wx1q2qb1kpxmmcc0000gn/T/ipykernel_23586/2183440621.py:2: PerformanceWarning: indexing past lexsort depth may impact performance.\n",
      "\n",
      " 54%|███████████████████████████████████████████████████████████████████████▍                                                            | 295/545 [3:12:09<1:41:05, 24.26s/it]\u001b[A/var/folders/kb/v0p0ypbd0wx1q2qb1kpxmmcc0000gn/T/ipykernel_23586/2183440621.py:2: PerformanceWarning: indexing past lexsort depth may impact performance.\n",
      "/var/folders/kb/v0p0ypbd0wx1q2qb1kpxmmcc0000gn/T/ipykernel_23586/2183440621.py:2: PerformanceWarning: indexing past lexsort depth may impact performance.\n",
      "/var/folders/kb/v0p0ypbd0wx1q2qb1kpxmmcc0000gn/T/ipykernel_23586/2183440621.py:2: PerformanceWarning: indexing past lexsort depth may impact performance.\n",
      "/var/folders/kb/v0p0ypbd0wx1q2qb1kpxmmcc0000gn/T/ipykernel_23586/2183440621.py:2: PerformanceWarning: indexing past lexsort depth may impact performance.\n",
      "/var/folders/kb/v0p0ypbd0wx1q2qb1kpxmmcc0000gn/T/ipykernel_23586/2183440621.py:2: PerformanceWarning: indexing past lexsort depth may impact performance.\n",
      "\n",
      " 55%|████████████████████████████████████████████████████████████████████████▋                                                           | 300/545 [3:14:56<1:50:13, 26.99s/it]\u001b[A/var/folders/kb/v0p0ypbd0wx1q2qb1kpxmmcc0000gn/T/ipykernel_23586/2183440621.py:2: PerformanceWarning: indexing past lexsort depth may impact performance.\n",
      "/var/folders/kb/v0p0ypbd0wx1q2qb1kpxmmcc0000gn/T/ipykernel_23586/2183440621.py:2: PerformanceWarning: indexing past lexsort depth may impact performance.\n",
      "/var/folders/kb/v0p0ypbd0wx1q2qb1kpxmmcc0000gn/T/ipykernel_23586/2183440621.py:2: PerformanceWarning: indexing past lexsort depth may impact performance.\n",
      "/var/folders/kb/v0p0ypbd0wx1q2qb1kpxmmcc0000gn/T/ipykernel_23586/2183440621.py:2: PerformanceWarning: indexing past lexsort depth may impact performance.\n",
      "/var/folders/kb/v0p0ypbd0wx1q2qb1kpxmmcc0000gn/T/ipykernel_23586/2183440621.py:2: PerformanceWarning: indexing past lexsort depth may impact performance.\n",
      "\n",
      " 56%|█████████████████████████████████████████████████████████████████████████▊                                                          | 305/545 [3:16:43<1:41:20, 25.33s/it]\u001b[A/var/folders/kb/v0p0ypbd0wx1q2qb1kpxmmcc0000gn/T/ipykernel_23586/2183440621.py:2: PerformanceWarning: indexing past lexsort depth may impact performance.\n"
     ]
    },
    {
     "name": "stderr",
     "output_type": "stream",
     "text": [
      "/var/folders/kb/v0p0ypbd0wx1q2qb1kpxmmcc0000gn/T/ipykernel_23586/2183440621.py:2: PerformanceWarning: indexing past lexsort depth may impact performance.\n",
      "/var/folders/kb/v0p0ypbd0wx1q2qb1kpxmmcc0000gn/T/ipykernel_23586/2183440621.py:2: PerformanceWarning: indexing past lexsort depth may impact performance.\n",
      "/var/folders/kb/v0p0ypbd0wx1q2qb1kpxmmcc0000gn/T/ipykernel_23586/2183440621.py:2: PerformanceWarning: indexing past lexsort depth may impact performance.\n",
      "/var/folders/kb/v0p0ypbd0wx1q2qb1kpxmmcc0000gn/T/ipykernel_23586/2183440621.py:2: PerformanceWarning: indexing past lexsort depth may impact performance.\n",
      "\n",
      " 57%|███████████████████████████████████████████████████████████████████████████                                                         | 310/545 [3:18:41<1:37:10, 24.81s/it]\u001b[A/var/folders/kb/v0p0ypbd0wx1q2qb1kpxmmcc0000gn/T/ipykernel_23586/2183440621.py:2: PerformanceWarning: indexing past lexsort depth may impact performance.\n",
      "/var/folders/kb/v0p0ypbd0wx1q2qb1kpxmmcc0000gn/T/ipykernel_23586/2183440621.py:2: PerformanceWarning: indexing past lexsort depth may impact performance.\n",
      "/var/folders/kb/v0p0ypbd0wx1q2qb1kpxmmcc0000gn/T/ipykernel_23586/2183440621.py:2: PerformanceWarning: indexing past lexsort depth may impact performance.\n",
      "/var/folders/kb/v0p0ypbd0wx1q2qb1kpxmmcc0000gn/T/ipykernel_23586/2183440621.py:2: PerformanceWarning: indexing past lexsort depth may impact performance.\n",
      "/var/folders/kb/v0p0ypbd0wx1q2qb1kpxmmcc0000gn/T/ipykernel_23586/2183440621.py:2: PerformanceWarning: indexing past lexsort depth may impact performance.\n",
      "\n",
      " 58%|████████████████████████████████████████████████████████████████████████████▎                                                       | 315/545 [3:20:56<1:37:43, 25.49s/it]\u001b[A/var/folders/kb/v0p0ypbd0wx1q2qb1kpxmmcc0000gn/T/ipykernel_23586/2183440621.py:2: PerformanceWarning: indexing past lexsort depth may impact performance.\n",
      "/var/folders/kb/v0p0ypbd0wx1q2qb1kpxmmcc0000gn/T/ipykernel_23586/2183440621.py:2: PerformanceWarning: indexing past lexsort depth may impact performance.\n",
      "/var/folders/kb/v0p0ypbd0wx1q2qb1kpxmmcc0000gn/T/ipykernel_23586/2183440621.py:2: PerformanceWarning: indexing past lexsort depth may impact performance.\n",
      "/var/folders/kb/v0p0ypbd0wx1q2qb1kpxmmcc0000gn/T/ipykernel_23586/2183440621.py:2: PerformanceWarning: indexing past lexsort depth may impact performance.\n",
      "/var/folders/kb/v0p0ypbd0wx1q2qb1kpxmmcc0000gn/T/ipykernel_23586/2183440621.py:2: PerformanceWarning: indexing past lexsort depth may impact performance.\n",
      "\n",
      " 59%|█████████████████████████████████████████████████████████████████████████████▌                                                      | 320/545 [3:22:58<1:34:17, 25.15s/it]\u001b[A/var/folders/kb/v0p0ypbd0wx1q2qb1kpxmmcc0000gn/T/ipykernel_23586/2183440621.py:2: PerformanceWarning: indexing past lexsort depth may impact performance.\n",
      "/var/folders/kb/v0p0ypbd0wx1q2qb1kpxmmcc0000gn/T/ipykernel_23586/2183440621.py:2: PerformanceWarning: indexing past lexsort depth may impact performance.\n",
      "/var/folders/kb/v0p0ypbd0wx1q2qb1kpxmmcc0000gn/T/ipykernel_23586/2183440621.py:2: PerformanceWarning: indexing past lexsort depth may impact performance.\n",
      "/var/folders/kb/v0p0ypbd0wx1q2qb1kpxmmcc0000gn/T/ipykernel_23586/2183440621.py:2: PerformanceWarning: indexing past lexsort depth may impact performance.\n",
      "/var/folders/kb/v0p0ypbd0wx1q2qb1kpxmmcc0000gn/T/ipykernel_23586/2183440621.py:2: PerformanceWarning: indexing past lexsort depth may impact performance.\n",
      "\n",
      " 60%|██████████████████████████████████████████████████████████████████████████████▋                                                     | 325/545 [3:25:11<1:33:43, 25.56s/it]\u001b[A/var/folders/kb/v0p0ypbd0wx1q2qb1kpxmmcc0000gn/T/ipykernel_23586/2183440621.py:2: PerformanceWarning: indexing past lexsort depth may impact performance.\n",
      "/var/folders/kb/v0p0ypbd0wx1q2qb1kpxmmcc0000gn/T/ipykernel_23586/2183440621.py:2: PerformanceWarning: indexing past lexsort depth may impact performance.\n",
      "/var/folders/kb/v0p0ypbd0wx1q2qb1kpxmmcc0000gn/T/ipykernel_23586/2183440621.py:2: PerformanceWarning: indexing past lexsort depth may impact performance.\n",
      "/var/folders/kb/v0p0ypbd0wx1q2qb1kpxmmcc0000gn/T/ipykernel_23586/2183440621.py:2: PerformanceWarning: indexing past lexsort depth may impact performance.\n",
      "/var/folders/kb/v0p0ypbd0wx1q2qb1kpxmmcc0000gn/T/ipykernel_23586/2183440621.py:2: PerformanceWarning: indexing past lexsort depth may impact performance.\n",
      "\n",
      " 61%|███████████████████████████████████████████████████████████████████████████████▉                                                    | 330/545 [3:27:39<1:35:58, 26.78s/it]\u001b[A/var/folders/kb/v0p0ypbd0wx1q2qb1kpxmmcc0000gn/T/ipykernel_23586/2183440621.py:2: PerformanceWarning: indexing past lexsort depth may impact performance.\n",
      "/var/folders/kb/v0p0ypbd0wx1q2qb1kpxmmcc0000gn/T/ipykernel_23586/2183440621.py:2: PerformanceWarning: indexing past lexsort depth may impact performance.\n",
      "/var/folders/kb/v0p0ypbd0wx1q2qb1kpxmmcc0000gn/T/ipykernel_23586/2183440621.py:2: PerformanceWarning: indexing past lexsort depth may impact performance.\n",
      "/var/folders/kb/v0p0ypbd0wx1q2qb1kpxmmcc0000gn/T/ipykernel_23586/2183440621.py:2: PerformanceWarning: indexing past lexsort depth may impact performance.\n",
      "/var/folders/kb/v0p0ypbd0wx1q2qb1kpxmmcc0000gn/T/ipykernel_23586/2183440621.py:2: PerformanceWarning: indexing past lexsort depth may impact performance.\n",
      "\n",
      " 61%|█████████████████████████████████████████████████████████████████████████████████▏                                                  | 335/545 [3:28:59<1:22:23, 23.54s/it]\u001b[A/var/folders/kb/v0p0ypbd0wx1q2qb1kpxmmcc0000gn/T/ipykernel_23586/2183440621.py:2: PerformanceWarning: indexing past lexsort depth may impact performance.\n",
      "/var/folders/kb/v0p0ypbd0wx1q2qb1kpxmmcc0000gn/T/ipykernel_23586/2183440621.py:2: PerformanceWarning: indexing past lexsort depth may impact performance.\n",
      "/var/folders/kb/v0p0ypbd0wx1q2qb1kpxmmcc0000gn/T/ipykernel_23586/2183440621.py:2: PerformanceWarning: indexing past lexsort depth may impact performance.\n",
      "/var/folders/kb/v0p0ypbd0wx1q2qb1kpxmmcc0000gn/T/ipykernel_23586/2183440621.py:2: PerformanceWarning: indexing past lexsort depth may impact performance.\n",
      "/var/folders/kb/v0p0ypbd0wx1q2qb1kpxmmcc0000gn/T/ipykernel_23586/2183440621.py:2: PerformanceWarning: indexing past lexsort depth may impact performance.\n",
      "\n",
      " 62%|██████████████████████████████████████████████████████████████████████████████████▎                                                 | 340/545 [3:31:29<1:27:05, 25.49s/it]\u001b[A/var/folders/kb/v0p0ypbd0wx1q2qb1kpxmmcc0000gn/T/ipykernel_23586/2183440621.py:2: PerformanceWarning: indexing past lexsort depth may impact performance.\n",
      "/var/folders/kb/v0p0ypbd0wx1q2qb1kpxmmcc0000gn/T/ipykernel_23586/2183440621.py:2: PerformanceWarning: indexing past lexsort depth may impact performance.\n",
      "/var/folders/kb/v0p0ypbd0wx1q2qb1kpxmmcc0000gn/T/ipykernel_23586/2183440621.py:2: PerformanceWarning: indexing past lexsort depth may impact performance.\n",
      "/var/folders/kb/v0p0ypbd0wx1q2qb1kpxmmcc0000gn/T/ipykernel_23586/2183440621.py:2: PerformanceWarning: indexing past lexsort depth may impact performance.\n",
      "/var/folders/kb/v0p0ypbd0wx1q2qb1kpxmmcc0000gn/T/ipykernel_23586/2183440621.py:2: PerformanceWarning: indexing past lexsort depth may impact performance.\n",
      "\n",
      " 63%|███████████████████████████████████████████████████████████████████████████████████▌                                                | 345/545 [3:33:28<1:23:18, 24.99s/it]\u001b[A/var/folders/kb/v0p0ypbd0wx1q2qb1kpxmmcc0000gn/T/ipykernel_23586/2183440621.py:2: PerformanceWarning: indexing past lexsort depth may impact performance.\n",
      "/var/folders/kb/v0p0ypbd0wx1q2qb1kpxmmcc0000gn/T/ipykernel_23586/2183440621.py:2: PerformanceWarning: indexing past lexsort depth may impact performance.\n",
      "/var/folders/kb/v0p0ypbd0wx1q2qb1kpxmmcc0000gn/T/ipykernel_23586/2183440621.py:2: PerformanceWarning: indexing past lexsort depth may impact performance.\n",
      "/var/folders/kb/v0p0ypbd0wx1q2qb1kpxmmcc0000gn/T/ipykernel_23586/2183440621.py:2: PerformanceWarning: indexing past lexsort depth may impact performance.\n",
      "/var/folders/kb/v0p0ypbd0wx1q2qb1kpxmmcc0000gn/T/ipykernel_23586/2183440621.py:2: PerformanceWarning: indexing past lexsort depth may impact performance.\n"
     ]
    },
    {
     "name": "stderr",
     "output_type": "stream",
     "text": [
      "\n",
      " 64%|████████████████████████████████████████████████████████████████████████████████████▊                                               | 350/545 [3:35:46<1:23:39, 25.74s/it]\u001b[A/var/folders/kb/v0p0ypbd0wx1q2qb1kpxmmcc0000gn/T/ipykernel_23586/2183440621.py:2: PerformanceWarning: indexing past lexsort depth may impact performance.\n",
      "/var/folders/kb/v0p0ypbd0wx1q2qb1kpxmmcc0000gn/T/ipykernel_23586/2183440621.py:2: PerformanceWarning: indexing past lexsort depth may impact performance.\n",
      "/var/folders/kb/v0p0ypbd0wx1q2qb1kpxmmcc0000gn/T/ipykernel_23586/2183440621.py:2: PerformanceWarning: indexing past lexsort depth may impact performance.\n",
      "/var/folders/kb/v0p0ypbd0wx1q2qb1kpxmmcc0000gn/T/ipykernel_23586/2183440621.py:2: PerformanceWarning: indexing past lexsort depth may impact performance.\n",
      "/var/folders/kb/v0p0ypbd0wx1q2qb1kpxmmcc0000gn/T/ipykernel_23586/2183440621.py:2: PerformanceWarning: indexing past lexsort depth may impact performance.\n",
      "\n",
      " 65%|█████████████████████████████████████████████████████████████████████████████████████▉                                              | 355/545 [3:38:04<1:23:19, 26.31s/it]\u001b[A/var/folders/kb/v0p0ypbd0wx1q2qb1kpxmmcc0000gn/T/ipykernel_23586/2183440621.py:2: PerformanceWarning: indexing past lexsort depth may impact performance.\n",
      "/var/folders/kb/v0p0ypbd0wx1q2qb1kpxmmcc0000gn/T/ipykernel_23586/2183440621.py:2: PerformanceWarning: indexing past lexsort depth may impact performance.\n",
      "/var/folders/kb/v0p0ypbd0wx1q2qb1kpxmmcc0000gn/T/ipykernel_23586/2183440621.py:2: PerformanceWarning: indexing past lexsort depth may impact performance.\n",
      "/var/folders/kb/v0p0ypbd0wx1q2qb1kpxmmcc0000gn/T/ipykernel_23586/2183440621.py:2: PerformanceWarning: indexing past lexsort depth may impact performance.\n",
      "/var/folders/kb/v0p0ypbd0wx1q2qb1kpxmmcc0000gn/T/ipykernel_23586/2183440621.py:2: PerformanceWarning: indexing past lexsort depth may impact performance.\n",
      "\n",
      " 66%|███████████████████████████████████████████████████████████████████████████████████████▏                                            | 360/545 [3:39:30<1:12:40, 23.57s/it]\u001b[A/var/folders/kb/v0p0ypbd0wx1q2qb1kpxmmcc0000gn/T/ipykernel_23586/2183440621.py:2: PerformanceWarning: indexing past lexsort depth may impact performance.\n",
      "/var/folders/kb/v0p0ypbd0wx1q2qb1kpxmmcc0000gn/T/ipykernel_23586/2183440621.py:2: PerformanceWarning: indexing past lexsort depth may impact performance.\n",
      "/var/folders/kb/v0p0ypbd0wx1q2qb1kpxmmcc0000gn/T/ipykernel_23586/2183440621.py:2: PerformanceWarning: indexing past lexsort depth may impact performance.\n",
      "/var/folders/kb/v0p0ypbd0wx1q2qb1kpxmmcc0000gn/T/ipykernel_23586/2183440621.py:2: PerformanceWarning: indexing past lexsort depth may impact performance.\n",
      "/var/folders/kb/v0p0ypbd0wx1q2qb1kpxmmcc0000gn/T/ipykernel_23586/2183440621.py:2: PerformanceWarning: indexing past lexsort depth may impact performance.\n",
      "\n",
      " 67%|████████████████████████████████████████████████████████████████████████████████████████▍                                           | 365/545 [3:40:43<1:02:40, 20.89s/it]\u001b[A/var/folders/kb/v0p0ypbd0wx1q2qb1kpxmmcc0000gn/T/ipykernel_23586/2183440621.py:2: PerformanceWarning: indexing past lexsort depth may impact performance.\n",
      "/var/folders/kb/v0p0ypbd0wx1q2qb1kpxmmcc0000gn/T/ipykernel_23586/2183440621.py:2: PerformanceWarning: indexing past lexsort depth may impact performance.\n",
      "/var/folders/kb/v0p0ypbd0wx1q2qb1kpxmmcc0000gn/T/ipykernel_23586/2183440621.py:2: PerformanceWarning: indexing past lexsort depth may impact performance.\n",
      "/var/folders/kb/v0p0ypbd0wx1q2qb1kpxmmcc0000gn/T/ipykernel_23586/2183440621.py:2: PerformanceWarning: indexing past lexsort depth may impact performance.\n",
      "/var/folders/kb/v0p0ypbd0wx1q2qb1kpxmmcc0000gn/T/ipykernel_23586/2183440621.py:2: PerformanceWarning: indexing past lexsort depth may impact performance.\n",
      "\n",
      " 68%|█████████████████████████████████████████████████████████████████████████████████████████▌                                          | 370/545 [3:42:42<1:03:29, 21.77s/it]\u001b[A/var/folders/kb/v0p0ypbd0wx1q2qb1kpxmmcc0000gn/T/ipykernel_23586/2183440621.py:2: PerformanceWarning: indexing past lexsort depth may impact performance.\n",
      "/var/folders/kb/v0p0ypbd0wx1q2qb1kpxmmcc0000gn/T/ipykernel_23586/2183440621.py:2: PerformanceWarning: indexing past lexsort depth may impact performance.\n",
      "/var/folders/kb/v0p0ypbd0wx1q2qb1kpxmmcc0000gn/T/ipykernel_23586/2183440621.py:2: PerformanceWarning: indexing past lexsort depth may impact performance.\n",
      "/var/folders/kb/v0p0ypbd0wx1q2qb1kpxmmcc0000gn/T/ipykernel_23586/2183440621.py:2: PerformanceWarning: indexing past lexsort depth may impact performance.\n",
      "/var/folders/kb/v0p0ypbd0wx1q2qb1kpxmmcc0000gn/T/ipykernel_23586/2183440621.py:2: PerformanceWarning: indexing past lexsort depth may impact performance.\n",
      "\n",
      " 69%|████████████████████████████████████████████████████████████████████████████████████████████▏                                         | 375/545 [3:43:39<52:53, 18.67s/it]\u001b[A/var/folders/kb/v0p0ypbd0wx1q2qb1kpxmmcc0000gn/T/ipykernel_23586/2183440621.py:2: PerformanceWarning: indexing past lexsort depth may impact performance.\n",
      "/var/folders/kb/v0p0ypbd0wx1q2qb1kpxmmcc0000gn/T/ipykernel_23586/2183440621.py:2: PerformanceWarning: indexing past lexsort depth may impact performance.\n",
      "/var/folders/kb/v0p0ypbd0wx1q2qb1kpxmmcc0000gn/T/ipykernel_23586/2183440621.py:2: PerformanceWarning: indexing past lexsort depth may impact performance.\n",
      "/var/folders/kb/v0p0ypbd0wx1q2qb1kpxmmcc0000gn/T/ipykernel_23586/2183440621.py:2: PerformanceWarning: indexing past lexsort depth may impact performance.\n",
      "/var/folders/kb/v0p0ypbd0wx1q2qb1kpxmmcc0000gn/T/ipykernel_23586/2183440621.py:2: PerformanceWarning: indexing past lexsort depth may impact performance.\n",
      "\n",
      " 70%|█████████████████████████████████████████████████████████████████████████████████████████████▍                                        | 380/545 [3:45:43<56:23, 20.51s/it]\u001b[A/var/folders/kb/v0p0ypbd0wx1q2qb1kpxmmcc0000gn/T/ipykernel_23586/2183440621.py:2: PerformanceWarning: indexing past lexsort depth may impact performance.\n",
      "/var/folders/kb/v0p0ypbd0wx1q2qb1kpxmmcc0000gn/T/ipykernel_23586/2183440621.py:2: PerformanceWarning: indexing past lexsort depth may impact performance.\n",
      "/var/folders/kb/v0p0ypbd0wx1q2qb1kpxmmcc0000gn/T/ipykernel_23586/2183440621.py:2: PerformanceWarning: indexing past lexsort depth may impact performance.\n",
      "/var/folders/kb/v0p0ypbd0wx1q2qb1kpxmmcc0000gn/T/ipykernel_23586/2183440621.py:2: PerformanceWarning: indexing past lexsort depth may impact performance.\n",
      "/var/folders/kb/v0p0ypbd0wx1q2qb1kpxmmcc0000gn/T/ipykernel_23586/2183440621.py:2: PerformanceWarning: indexing past lexsort depth may impact performance.\n",
      "\n",
      " 71%|██████████████████████████████████████████████████████████████████████████████████████████████▋                                       | 385/545 [3:47:26<54:39, 20.50s/it]\u001b[A/var/folders/kb/v0p0ypbd0wx1q2qb1kpxmmcc0000gn/T/ipykernel_23586/2183440621.py:2: PerformanceWarning: indexing past lexsort depth may impact performance.\n",
      "/var/folders/kb/v0p0ypbd0wx1q2qb1kpxmmcc0000gn/T/ipykernel_23586/2183440621.py:2: PerformanceWarning: indexing past lexsort depth may impact performance.\n",
      "/var/folders/kb/v0p0ypbd0wx1q2qb1kpxmmcc0000gn/T/ipykernel_23586/2183440621.py:2: PerformanceWarning: indexing past lexsort depth may impact performance.\n",
      "/var/folders/kb/v0p0ypbd0wx1q2qb1kpxmmcc0000gn/T/ipykernel_23586/2183440621.py:2: PerformanceWarning: indexing past lexsort depth may impact performance.\n",
      "/var/folders/kb/v0p0ypbd0wx1q2qb1kpxmmcc0000gn/T/ipykernel_23586/2183440621.py:2: PerformanceWarning: indexing past lexsort depth may impact performance.\n",
      "\n",
      " 72%|█████████████████████████████████████████████████████████████████████████████████████████████▋                                     | 390/545 [4:19:25<5:34:37, 129.53s/it]\u001b[A/var/folders/kb/v0p0ypbd0wx1q2qb1kpxmmcc0000gn/T/ipykernel_23586/2183440621.py:2: PerformanceWarning: indexing past lexsort depth may impact performance.\n",
      "/var/folders/kb/v0p0ypbd0wx1q2qb1kpxmmcc0000gn/T/ipykernel_23586/2183440621.py:2: PerformanceWarning: indexing past lexsort depth may impact performance.\n",
      "/var/folders/kb/v0p0ypbd0wx1q2qb1kpxmmcc0000gn/T/ipykernel_23586/2183440621.py:2: PerformanceWarning: indexing past lexsort depth may impact performance.\n"
     ]
    },
    {
     "name": "stderr",
     "output_type": "stream",
     "text": [
      "/var/folders/kb/v0p0ypbd0wx1q2qb1kpxmmcc0000gn/T/ipykernel_23586/2183440621.py:2: PerformanceWarning: indexing past lexsort depth may impact performance.\n",
      "/var/folders/kb/v0p0ypbd0wx1q2qb1kpxmmcc0000gn/T/ipykernel_23586/2183440621.py:2: PerformanceWarning: indexing past lexsort depth may impact performance.\n",
      "\n",
      " 72%|███████████████████████████████████████████████████████████████████████████████████████████████▋                                    | 395/545 [4:21:06<4:01:44, 96.70s/it]\u001b[A/var/folders/kb/v0p0ypbd0wx1q2qb1kpxmmcc0000gn/T/ipykernel_23586/2183440621.py:2: PerformanceWarning: indexing past lexsort depth may impact performance.\n",
      "/var/folders/kb/v0p0ypbd0wx1q2qb1kpxmmcc0000gn/T/ipykernel_23586/2183440621.py:2: PerformanceWarning: indexing past lexsort depth may impact performance.\n",
      "/var/folders/kb/v0p0ypbd0wx1q2qb1kpxmmcc0000gn/T/ipykernel_23586/2183440621.py:2: PerformanceWarning: indexing past lexsort depth may impact performance.\n",
      "/var/folders/kb/v0p0ypbd0wx1q2qb1kpxmmcc0000gn/T/ipykernel_23586/2183440621.py:2: PerformanceWarning: indexing past lexsort depth may impact performance.\n",
      "/var/folders/kb/v0p0ypbd0wx1q2qb1kpxmmcc0000gn/T/ipykernel_23586/2183440621.py:2: PerformanceWarning: indexing past lexsort depth may impact performance.\n",
      "\n",
      " 73%|████████████████████████████████████████████████████████████████████████████████████████████████▉                                   | 400/545 [4:23:02<3:00:24, 74.65s/it]\u001b[A/var/folders/kb/v0p0ypbd0wx1q2qb1kpxmmcc0000gn/T/ipykernel_23586/2183440621.py:2: PerformanceWarning: indexing past lexsort depth may impact performance.\n",
      "/var/folders/kb/v0p0ypbd0wx1q2qb1kpxmmcc0000gn/T/ipykernel_23586/2183440621.py:2: PerformanceWarning: indexing past lexsort depth may impact performance.\n",
      "/var/folders/kb/v0p0ypbd0wx1q2qb1kpxmmcc0000gn/T/ipykernel_23586/2183440621.py:2: PerformanceWarning: indexing past lexsort depth may impact performance.\n",
      "/var/folders/kb/v0p0ypbd0wx1q2qb1kpxmmcc0000gn/T/ipykernel_23586/2183440621.py:2: PerformanceWarning: indexing past lexsort depth may impact performance.\n",
      "/var/folders/kb/v0p0ypbd0wx1q2qb1kpxmmcc0000gn/T/ipykernel_23586/2183440621.py:2: PerformanceWarning: indexing past lexsort depth may impact performance.\n",
      "\n",
      " 74%|██████████████████████████████████████████████████████████████████████████████████████████████████                                  | 405/545 [4:25:20<2:21:16, 60.55s/it]\u001b[A/var/folders/kb/v0p0ypbd0wx1q2qb1kpxmmcc0000gn/T/ipykernel_23586/2183440621.py:2: PerformanceWarning: indexing past lexsort depth may impact performance.\n",
      "/var/folders/kb/v0p0ypbd0wx1q2qb1kpxmmcc0000gn/T/ipykernel_23586/2183440621.py:2: PerformanceWarning: indexing past lexsort depth may impact performance.\n",
      "/var/folders/kb/v0p0ypbd0wx1q2qb1kpxmmcc0000gn/T/ipykernel_23586/2183440621.py:2: PerformanceWarning: indexing past lexsort depth may impact performance.\n",
      "/var/folders/kb/v0p0ypbd0wx1q2qb1kpxmmcc0000gn/T/ipykernel_23586/2183440621.py:2: PerformanceWarning: indexing past lexsort depth may impact performance.\n",
      "/var/folders/kb/v0p0ypbd0wx1q2qb1kpxmmcc0000gn/T/ipykernel_23586/2183440621.py:2: PerformanceWarning: indexing past lexsort depth may impact performance.\n",
      "\n",
      " 75%|███████████████████████████████████████████████████████████████████████████████████████████████████▎                                | 410/545 [4:27:52<1:55:55, 51.52s/it]\u001b[A/var/folders/kb/v0p0ypbd0wx1q2qb1kpxmmcc0000gn/T/ipykernel_23586/2183440621.py:2: PerformanceWarning: indexing past lexsort depth may impact performance.\n",
      "/var/folders/kb/v0p0ypbd0wx1q2qb1kpxmmcc0000gn/T/ipykernel_23586/2183440621.py:2: PerformanceWarning: indexing past lexsort depth may impact performance.\n",
      "/var/folders/kb/v0p0ypbd0wx1q2qb1kpxmmcc0000gn/T/ipykernel_23586/2183440621.py:2: PerformanceWarning: indexing past lexsort depth may impact performance.\n",
      "/var/folders/kb/v0p0ypbd0wx1q2qb1kpxmmcc0000gn/T/ipykernel_23586/2183440621.py:2: PerformanceWarning: indexing past lexsort depth may impact performance.\n",
      "/var/folders/kb/v0p0ypbd0wx1q2qb1kpxmmcc0000gn/T/ipykernel_23586/2183440621.py:2: PerformanceWarning: indexing past lexsort depth may impact performance.\n",
      "\n",
      " 76%|████████████████████████████████████████████████████████████████████████████████████████████████████▌                               | 415/545 [4:28:47<1:25:18, 39.37s/it]\u001b[A/var/folders/kb/v0p0ypbd0wx1q2qb1kpxmmcc0000gn/T/ipykernel_23586/2183440621.py:2: PerformanceWarning: indexing past lexsort depth may impact performance.\n",
      "/var/folders/kb/v0p0ypbd0wx1q2qb1kpxmmcc0000gn/T/ipykernel_23586/2183440621.py:2: PerformanceWarning: indexing past lexsort depth may impact performance.\n",
      "/var/folders/kb/v0p0ypbd0wx1q2qb1kpxmmcc0000gn/T/ipykernel_23586/2183440621.py:2: PerformanceWarning: indexing past lexsort depth may impact performance.\n",
      "/var/folders/kb/v0p0ypbd0wx1q2qb1kpxmmcc0000gn/T/ipykernel_23586/2183440621.py:2: PerformanceWarning: indexing past lexsort depth may impact performance.\n",
      "/var/folders/kb/v0p0ypbd0wx1q2qb1kpxmmcc0000gn/T/ipykernel_23586/2183440621.py:2: PerformanceWarning: indexing past lexsort depth may impact performance.\n",
      "\n",
      " 77%|█████████████████████████████████████████████████████████████████████████████████████████████████████▋                              | 420/545 [4:29:59<1:06:20, 31.84s/it]\u001b[A/var/folders/kb/v0p0ypbd0wx1q2qb1kpxmmcc0000gn/T/ipykernel_23586/2183440621.py:2: PerformanceWarning: indexing past lexsort depth may impact performance.\n",
      "/var/folders/kb/v0p0ypbd0wx1q2qb1kpxmmcc0000gn/T/ipykernel_23586/2183440621.py:2: PerformanceWarning: indexing past lexsort depth may impact performance.\n",
      "/var/folders/kb/v0p0ypbd0wx1q2qb1kpxmmcc0000gn/T/ipykernel_23586/2183440621.py:2: PerformanceWarning: indexing past lexsort depth may impact performance.\n",
      "/var/folders/kb/v0p0ypbd0wx1q2qb1kpxmmcc0000gn/T/ipykernel_23586/2183440621.py:2: PerformanceWarning: indexing past lexsort depth may impact performance.\n",
      "/var/folders/kb/v0p0ypbd0wx1q2qb1kpxmmcc0000gn/T/ipykernel_23586/2183440621.py:2: PerformanceWarning: indexing past lexsort depth may impact performance.\n",
      "\n",
      " 78%|████████████████████████████████████████████████████████████████████████████████████████████████████████▍                             | 425/545 [4:31:52<58:12, 29.10s/it]\u001b[A/var/folders/kb/v0p0ypbd0wx1q2qb1kpxmmcc0000gn/T/ipykernel_23586/2183440621.py:2: PerformanceWarning: indexing past lexsort depth may impact performance.\n",
      "/var/folders/kb/v0p0ypbd0wx1q2qb1kpxmmcc0000gn/T/ipykernel_23586/2183440621.py:2: PerformanceWarning: indexing past lexsort depth may impact performance.\n",
      "/var/folders/kb/v0p0ypbd0wx1q2qb1kpxmmcc0000gn/T/ipykernel_23586/2183440621.py:2: PerformanceWarning: indexing past lexsort depth may impact performance.\n",
      "/var/folders/kb/v0p0ypbd0wx1q2qb1kpxmmcc0000gn/T/ipykernel_23586/2183440621.py:2: PerformanceWarning: indexing past lexsort depth may impact performance.\n",
      "/var/folders/kb/v0p0ypbd0wx1q2qb1kpxmmcc0000gn/T/ipykernel_23586/2183440621.py:2: PerformanceWarning: indexing past lexsort depth may impact performance.\n",
      "\n",
      " 79%|█████████████████████████████████████████████████████████████████████████████████████████████████████████▋                            | 430/545 [4:32:34<43:50, 22.88s/it]\u001b[A/var/folders/kb/v0p0ypbd0wx1q2qb1kpxmmcc0000gn/T/ipykernel_23586/2183440621.py:2: PerformanceWarning: indexing past lexsort depth may impact performance.\n",
      "/var/folders/kb/v0p0ypbd0wx1q2qb1kpxmmcc0000gn/T/ipykernel_23586/2183440621.py:2: PerformanceWarning: indexing past lexsort depth may impact performance.\n",
      "/var/folders/kb/v0p0ypbd0wx1q2qb1kpxmmcc0000gn/T/ipykernel_23586/2183440621.py:2: PerformanceWarning: indexing past lexsort depth may impact performance.\n",
      "/var/folders/kb/v0p0ypbd0wx1q2qb1kpxmmcc0000gn/T/ipykernel_23586/2183440621.py:2: PerformanceWarning: indexing past lexsort depth may impact performance.\n",
      "/var/folders/kb/v0p0ypbd0wx1q2qb1kpxmmcc0000gn/T/ipykernel_23586/2183440621.py:2: PerformanceWarning: indexing past lexsort depth may impact performance.\n",
      "\n",
      " 80%|██████████████████████████████████████████████████████████████████████████████████████████████████████████▉                           | 435/545 [4:34:49<44:09, 24.08s/it]\u001b[A/var/folders/kb/v0p0ypbd0wx1q2qb1kpxmmcc0000gn/T/ipykernel_23586/2183440621.py:2: PerformanceWarning: indexing past lexsort depth may impact performance.\n"
     ]
    },
    {
     "name": "stderr",
     "output_type": "stream",
     "text": [
      "/var/folders/kb/v0p0ypbd0wx1q2qb1kpxmmcc0000gn/T/ipykernel_23586/2183440621.py:2: PerformanceWarning: indexing past lexsort depth may impact performance.\n",
      "/var/folders/kb/v0p0ypbd0wx1q2qb1kpxmmcc0000gn/T/ipykernel_23586/2183440621.py:2: PerformanceWarning: indexing past lexsort depth may impact performance.\n",
      "/var/folders/kb/v0p0ypbd0wx1q2qb1kpxmmcc0000gn/T/ipykernel_23586/2183440621.py:2: PerformanceWarning: indexing past lexsort depth may impact performance.\n",
      "/var/folders/kb/v0p0ypbd0wx1q2qb1kpxmmcc0000gn/T/ipykernel_23586/2183440621.py:2: PerformanceWarning: indexing past lexsort depth may impact performance.\n",
      "\n",
      " 81%|████████████████████████████████████████████████████████████████████████████████████████████████████████████▏                         | 440/545 [4:36:16<38:41, 22.11s/it]\u001b[A/var/folders/kb/v0p0ypbd0wx1q2qb1kpxmmcc0000gn/T/ipykernel_23586/2183440621.py:2: PerformanceWarning: indexing past lexsort depth may impact performance.\n",
      "/var/folders/kb/v0p0ypbd0wx1q2qb1kpxmmcc0000gn/T/ipykernel_23586/2183440621.py:2: PerformanceWarning: indexing past lexsort depth may impact performance.\n",
      "/var/folders/kb/v0p0ypbd0wx1q2qb1kpxmmcc0000gn/T/ipykernel_23586/2183440621.py:2: PerformanceWarning: indexing past lexsort depth may impact performance.\n",
      "/var/folders/kb/v0p0ypbd0wx1q2qb1kpxmmcc0000gn/T/ipykernel_23586/2183440621.py:2: PerformanceWarning: indexing past lexsort depth may impact performance.\n",
      "/var/folders/kb/v0p0ypbd0wx1q2qb1kpxmmcc0000gn/T/ipykernel_23586/2183440621.py:2: PerformanceWarning: indexing past lexsort depth may impact performance.\n",
      "\n",
      " 82%|█████████████████████████████████████████████████████████████████████████████████████████████████████████████▍                        | 445/545 [4:38:23<38:26, 23.06s/it]\u001b[A/var/folders/kb/v0p0ypbd0wx1q2qb1kpxmmcc0000gn/T/ipykernel_23586/2183440621.py:2: PerformanceWarning: indexing past lexsort depth may impact performance.\n",
      "/var/folders/kb/v0p0ypbd0wx1q2qb1kpxmmcc0000gn/T/ipykernel_23586/2183440621.py:2: PerformanceWarning: indexing past lexsort depth may impact performance.\n",
      "/var/folders/kb/v0p0ypbd0wx1q2qb1kpxmmcc0000gn/T/ipykernel_23586/2183440621.py:2: PerformanceWarning: indexing past lexsort depth may impact performance.\n",
      "/var/folders/kb/v0p0ypbd0wx1q2qb1kpxmmcc0000gn/T/ipykernel_23586/2183440621.py:2: PerformanceWarning: indexing past lexsort depth may impact performance.\n",
      "/var/folders/kb/v0p0ypbd0wx1q2qb1kpxmmcc0000gn/T/ipykernel_23586/2183440621.py:2: PerformanceWarning: indexing past lexsort depth may impact performance.\n",
      "\n",
      " 83%|██████████████████████████████████████████████████████████████████████████████████████████████████████████████▋                       | 450/545 [4:39:32<32:10, 20.32s/it]\u001b[A/var/folders/kb/v0p0ypbd0wx1q2qb1kpxmmcc0000gn/T/ipykernel_23586/2183440621.py:2: PerformanceWarning: indexing past lexsort depth may impact performance.\n",
      "/var/folders/kb/v0p0ypbd0wx1q2qb1kpxmmcc0000gn/T/ipykernel_23586/2183440621.py:2: PerformanceWarning: indexing past lexsort depth may impact performance.\n",
      "/var/folders/kb/v0p0ypbd0wx1q2qb1kpxmmcc0000gn/T/ipykernel_23586/2183440621.py:2: PerformanceWarning: indexing past lexsort depth may impact performance.\n",
      "/var/folders/kb/v0p0ypbd0wx1q2qb1kpxmmcc0000gn/T/ipykernel_23586/2183440621.py:2: PerformanceWarning: indexing past lexsort depth may impact performance.\n",
      "/var/folders/kb/v0p0ypbd0wx1q2qb1kpxmmcc0000gn/T/ipykernel_23586/2183440621.py:2: PerformanceWarning: indexing past lexsort depth may impact performance.\n",
      "\n",
      " 83%|███████████████████████████████████████████████████████████████████████████████████████████████████████████████▊                      | 455/545 [4:41:44<33:14, 22.17s/it]\u001b[A/var/folders/kb/v0p0ypbd0wx1q2qb1kpxmmcc0000gn/T/ipykernel_23586/2183440621.py:2: PerformanceWarning: indexing past lexsort depth may impact performance.\n",
      "/var/folders/kb/v0p0ypbd0wx1q2qb1kpxmmcc0000gn/T/ipykernel_23586/2183440621.py:2: PerformanceWarning: indexing past lexsort depth may impact performance.\n",
      "/var/folders/kb/v0p0ypbd0wx1q2qb1kpxmmcc0000gn/T/ipykernel_23586/2183440621.py:2: PerformanceWarning: indexing past lexsort depth may impact performance.\n",
      "/var/folders/kb/v0p0ypbd0wx1q2qb1kpxmmcc0000gn/T/ipykernel_23586/2183440621.py:2: PerformanceWarning: indexing past lexsort depth may impact performance.\n",
      "/var/folders/kb/v0p0ypbd0wx1q2qb1kpxmmcc0000gn/T/ipykernel_23586/2183440621.py:2: PerformanceWarning: indexing past lexsort depth may impact performance.\n",
      "\n",
      " 84%|█████████████████████████████████████████████████████████████████████████████████████████████████████████████████                     | 460/545 [4:43:06<28:57, 20.44s/it]\u001b[A/var/folders/kb/v0p0ypbd0wx1q2qb1kpxmmcc0000gn/T/ipykernel_23586/2183440621.py:2: PerformanceWarning: indexing past lexsort depth may impact performance.\n",
      "/var/folders/kb/v0p0ypbd0wx1q2qb1kpxmmcc0000gn/T/ipykernel_23586/2183440621.py:2: PerformanceWarning: indexing past lexsort depth may impact performance.\n",
      "/var/folders/kb/v0p0ypbd0wx1q2qb1kpxmmcc0000gn/T/ipykernel_23586/2183440621.py:2: PerformanceWarning: indexing past lexsort depth may impact performance.\n",
      "/var/folders/kb/v0p0ypbd0wx1q2qb1kpxmmcc0000gn/T/ipykernel_23586/2183440621.py:2: PerformanceWarning: indexing past lexsort depth may impact performance.\n",
      "/var/folders/kb/v0p0ypbd0wx1q2qb1kpxmmcc0000gn/T/ipykernel_23586/2183440621.py:2: PerformanceWarning: indexing past lexsort depth may impact performance.\n",
      "\n",
      " 85%|██████████████████████████████████████████████████████████████████████████████████████████████████████████████████▎                   | 465/545 [4:44:44<26:51, 20.15s/it]\u001b[A/var/folders/kb/v0p0ypbd0wx1q2qb1kpxmmcc0000gn/T/ipykernel_23586/2183440621.py:2: PerformanceWarning: indexing past lexsort depth may impact performance.\n",
      "/var/folders/kb/v0p0ypbd0wx1q2qb1kpxmmcc0000gn/T/ipykernel_23586/2183440621.py:2: PerformanceWarning: indexing past lexsort depth may impact performance.\n",
      "/var/folders/kb/v0p0ypbd0wx1q2qb1kpxmmcc0000gn/T/ipykernel_23586/2183440621.py:2: PerformanceWarning: indexing past lexsort depth may impact performance.\n",
      "/var/folders/kb/v0p0ypbd0wx1q2qb1kpxmmcc0000gn/T/ipykernel_23586/2183440621.py:2: PerformanceWarning: indexing past lexsort depth may impact performance.\n",
      "/var/folders/kb/v0p0ypbd0wx1q2qb1kpxmmcc0000gn/T/ipykernel_23586/2183440621.py:2: PerformanceWarning: indexing past lexsort depth may impact performance.\n",
      "\n",
      " 86%|███████████████████████████████████████████████████████████████████████████████████████████████████████████████████▌                  | 470/545 [4:46:19<24:45, 19.80s/it]\u001b[A/var/folders/kb/v0p0ypbd0wx1q2qb1kpxmmcc0000gn/T/ipykernel_23586/2183440621.py:2: PerformanceWarning: indexing past lexsort depth may impact performance.\n",
      "/var/folders/kb/v0p0ypbd0wx1q2qb1kpxmmcc0000gn/T/ipykernel_23586/2183440621.py:2: PerformanceWarning: indexing past lexsort depth may impact performance.\n",
      "/var/folders/kb/v0p0ypbd0wx1q2qb1kpxmmcc0000gn/T/ipykernel_23586/2183440621.py:2: PerformanceWarning: indexing past lexsort depth may impact performance.\n",
      "/var/folders/kb/v0p0ypbd0wx1q2qb1kpxmmcc0000gn/T/ipykernel_23586/2183440621.py:2: PerformanceWarning: indexing past lexsort depth may impact performance.\n",
      "/var/folders/kb/v0p0ypbd0wx1q2qb1kpxmmcc0000gn/T/ipykernel_23586/2183440621.py:2: PerformanceWarning: indexing past lexsort depth may impact performance.\n",
      "\n",
      " 87%|████████████████████████████████████████████████████████████████████████████████████████████████████████████████████▊                 | 475/545 [4:46:44<17:57, 15.39s/it]\u001b[A/var/folders/kb/v0p0ypbd0wx1q2qb1kpxmmcc0000gn/T/ipykernel_23586/2183440621.py:2: PerformanceWarning: indexing past lexsort depth may impact performance.\n",
      "/var/folders/kb/v0p0ypbd0wx1q2qb1kpxmmcc0000gn/T/ipykernel_23586/2183440621.py:2: PerformanceWarning: indexing past lexsort depth may impact performance.\n",
      "/var/folders/kb/v0p0ypbd0wx1q2qb1kpxmmcc0000gn/T/ipykernel_23586/2183440621.py:2: PerformanceWarning: indexing past lexsort depth may impact performance.\n",
      "/var/folders/kb/v0p0ypbd0wx1q2qb1kpxmmcc0000gn/T/ipykernel_23586/2183440621.py:2: PerformanceWarning: indexing past lexsort depth may impact performance.\n",
      "/var/folders/kb/v0p0ypbd0wx1q2qb1kpxmmcc0000gn/T/ipykernel_23586/2183440621.py:2: PerformanceWarning: indexing past lexsort depth may impact performance.\n"
     ]
    },
    {
     "name": "stderr",
     "output_type": "stream",
     "text": [
      "\n",
      " 88%|██████████████████████████████████████████████████████████████████████████████████████████████████████████████████████                | 480/545 [4:47:49<15:52, 14.66s/it]\u001b[A/var/folders/kb/v0p0ypbd0wx1q2qb1kpxmmcc0000gn/T/ipykernel_23586/2183440621.py:2: PerformanceWarning: indexing past lexsort depth may impact performance.\n",
      "/var/folders/kb/v0p0ypbd0wx1q2qb1kpxmmcc0000gn/T/ipykernel_23586/2183440621.py:2: PerformanceWarning: indexing past lexsort depth may impact performance.\n",
      "/var/folders/kb/v0p0ypbd0wx1q2qb1kpxmmcc0000gn/T/ipykernel_23586/2183440621.py:2: PerformanceWarning: indexing past lexsort depth may impact performance.\n",
      "/var/folders/kb/v0p0ypbd0wx1q2qb1kpxmmcc0000gn/T/ipykernel_23586/2183440621.py:2: PerformanceWarning: indexing past lexsort depth may impact performance.\n",
      "/var/folders/kb/v0p0ypbd0wx1q2qb1kpxmmcc0000gn/T/ipykernel_23586/2183440621.py:2: PerformanceWarning: indexing past lexsort depth may impact performance.\n",
      "\n",
      " 89%|███████████████████████████████████████████████████████████████████████████████████████████████████████████████████████▏              | 485/545 [4:49:37<16:42, 16.71s/it]\u001b[A/var/folders/kb/v0p0ypbd0wx1q2qb1kpxmmcc0000gn/T/ipykernel_23586/2183440621.py:2: PerformanceWarning: indexing past lexsort depth may impact performance.\n",
      "/var/folders/kb/v0p0ypbd0wx1q2qb1kpxmmcc0000gn/T/ipykernel_23586/2183440621.py:2: PerformanceWarning: indexing past lexsort depth may impact performance.\n",
      "/var/folders/kb/v0p0ypbd0wx1q2qb1kpxmmcc0000gn/T/ipykernel_23586/2183440621.py:2: PerformanceWarning: indexing past lexsort depth may impact performance.\n",
      "/var/folders/kb/v0p0ypbd0wx1q2qb1kpxmmcc0000gn/T/ipykernel_23586/2183440621.py:2: PerformanceWarning: indexing past lexsort depth may impact performance.\n",
      "/var/folders/kb/v0p0ypbd0wx1q2qb1kpxmmcc0000gn/T/ipykernel_23586/2183440621.py:2: PerformanceWarning: indexing past lexsort depth may impact performance.\n",
      "\n",
      " 90%|████████████████████████████████████████████████████████████████████████████████████████████████████████████████████████▍             | 490/545 [4:50:25<13:22, 14.59s/it]\u001b[A/var/folders/kb/v0p0ypbd0wx1q2qb1kpxmmcc0000gn/T/ipykernel_23586/2183440621.py:2: PerformanceWarning: indexing past lexsort depth may impact performance.\n",
      "/var/folders/kb/v0p0ypbd0wx1q2qb1kpxmmcc0000gn/T/ipykernel_23586/2183440621.py:2: PerformanceWarning: indexing past lexsort depth may impact performance.\n",
      "/var/folders/kb/v0p0ypbd0wx1q2qb1kpxmmcc0000gn/T/ipykernel_23586/2183440621.py:2: PerformanceWarning: indexing past lexsort depth may impact performance.\n",
      "/var/folders/kb/v0p0ypbd0wx1q2qb1kpxmmcc0000gn/T/ipykernel_23586/2183440621.py:2: PerformanceWarning: indexing past lexsort depth may impact performance.\n",
      "/var/folders/kb/v0p0ypbd0wx1q2qb1kpxmmcc0000gn/T/ipykernel_23586/2183440621.py:2: PerformanceWarning: indexing past lexsort depth may impact performance.\n",
      "\n",
      " 91%|█████████████████████████████████████████████████████████████████████████████████████████████████████████████████████████▋            | 495/545 [4:51:41<12:19, 14.78s/it]\u001b[A/var/folders/kb/v0p0ypbd0wx1q2qb1kpxmmcc0000gn/T/ipykernel_23586/2183440621.py:2: PerformanceWarning: indexing past lexsort depth may impact performance.\n",
      "/var/folders/kb/v0p0ypbd0wx1q2qb1kpxmmcc0000gn/T/ipykernel_23586/2183440621.py:2: PerformanceWarning: indexing past lexsort depth may impact performance.\n",
      "/var/folders/kb/v0p0ypbd0wx1q2qb1kpxmmcc0000gn/T/ipykernel_23586/2183440621.py:2: PerformanceWarning: indexing past lexsort depth may impact performance.\n",
      "/var/folders/kb/v0p0ypbd0wx1q2qb1kpxmmcc0000gn/T/ipykernel_23586/2183440621.py:2: PerformanceWarning: indexing past lexsort depth may impact performance.\n",
      "/var/folders/kb/v0p0ypbd0wx1q2qb1kpxmmcc0000gn/T/ipykernel_23586/2183440621.py:2: PerformanceWarning: indexing past lexsort depth may impact performance.\n",
      "\n",
      " 92%|██████████████████████████████████████████████████████████████████████████████████████████████████████████████████████████▉           | 500/545 [4:53:08<11:40, 15.56s/it]\u001b[A/var/folders/kb/v0p0ypbd0wx1q2qb1kpxmmcc0000gn/T/ipykernel_23586/2183440621.py:2: PerformanceWarning: indexing past lexsort depth may impact performance.\n",
      "/var/folders/kb/v0p0ypbd0wx1q2qb1kpxmmcc0000gn/T/ipykernel_23586/2183440621.py:2: PerformanceWarning: indexing past lexsort depth may impact performance.\n",
      "/var/folders/kb/v0p0ypbd0wx1q2qb1kpxmmcc0000gn/T/ipykernel_23586/2183440621.py:2: PerformanceWarning: indexing past lexsort depth may impact performance.\n",
      "/var/folders/kb/v0p0ypbd0wx1q2qb1kpxmmcc0000gn/T/ipykernel_23586/2183440621.py:2: PerformanceWarning: indexing past lexsort depth may impact performance.\n",
      "/var/folders/kb/v0p0ypbd0wx1q2qb1kpxmmcc0000gn/T/ipykernel_23586/2183440621.py:2: PerformanceWarning: indexing past lexsort depth may impact performance.\n",
      "\n",
      " 93%|████████████████████████████████████████████████████████████████████████████████████████████████████████████████████████████▏         | 505/545 [4:54:24<10:19, 15.49s/it]\u001b[A/var/folders/kb/v0p0ypbd0wx1q2qb1kpxmmcc0000gn/T/ipykernel_23586/2183440621.py:2: PerformanceWarning: indexing past lexsort depth may impact performance.\n",
      "/var/folders/kb/v0p0ypbd0wx1q2qb1kpxmmcc0000gn/T/ipykernel_23586/2183440621.py:2: PerformanceWarning: indexing past lexsort depth may impact performance.\n",
      "/var/folders/kb/v0p0ypbd0wx1q2qb1kpxmmcc0000gn/T/ipykernel_23586/2183440621.py:2: PerformanceWarning: indexing past lexsort depth may impact performance.\n",
      "/var/folders/kb/v0p0ypbd0wx1q2qb1kpxmmcc0000gn/T/ipykernel_23586/2183440621.py:2: PerformanceWarning: indexing past lexsort depth may impact performance.\n",
      "/var/folders/kb/v0p0ypbd0wx1q2qb1kpxmmcc0000gn/T/ipykernel_23586/2183440621.py:2: PerformanceWarning: indexing past lexsort depth may impact performance.\n",
      "\n",
      " 94%|█████████████████████████████████████████████████████████████████████████████████████████████████████████████████████████████▍        | 510/545 [4:56:29<10:40, 18.31s/it]\u001b[A/var/folders/kb/v0p0ypbd0wx1q2qb1kpxmmcc0000gn/T/ipykernel_23586/2183440621.py:2: PerformanceWarning: indexing past lexsort depth may impact performance.\n",
      "/var/folders/kb/v0p0ypbd0wx1q2qb1kpxmmcc0000gn/T/ipykernel_23586/2183440621.py:2: PerformanceWarning: indexing past lexsort depth may impact performance.\n",
      "/var/folders/kb/v0p0ypbd0wx1q2qb1kpxmmcc0000gn/T/ipykernel_23586/2183440621.py:2: PerformanceWarning: indexing past lexsort depth may impact performance.\n",
      "/var/folders/kb/v0p0ypbd0wx1q2qb1kpxmmcc0000gn/T/ipykernel_23586/2183440621.py:2: PerformanceWarning: indexing past lexsort depth may impact performance.\n",
      "/var/folders/kb/v0p0ypbd0wx1q2qb1kpxmmcc0000gn/T/ipykernel_23586/2183440621.py:2: PerformanceWarning: indexing past lexsort depth may impact performance.\n",
      "\n",
      " 94%|██████████████████████████████████████████████████████████████████████████████████████████████████████████████████████████████▌       | 515/545 [4:57:28<08:11, 16.39s/it]\u001b[A/var/folders/kb/v0p0ypbd0wx1q2qb1kpxmmcc0000gn/T/ipykernel_23586/2183440621.py:2: PerformanceWarning: indexing past lexsort depth may impact performance.\n",
      "/var/folders/kb/v0p0ypbd0wx1q2qb1kpxmmcc0000gn/T/ipykernel_23586/2183440621.py:2: PerformanceWarning: indexing past lexsort depth may impact performance.\n",
      "/var/folders/kb/v0p0ypbd0wx1q2qb1kpxmmcc0000gn/T/ipykernel_23586/2183440621.py:2: PerformanceWarning: indexing past lexsort depth may impact performance.\n",
      "/var/folders/kb/v0p0ypbd0wx1q2qb1kpxmmcc0000gn/T/ipykernel_23586/2183440621.py:2: PerformanceWarning: indexing past lexsort depth may impact performance.\n",
      "/var/folders/kb/v0p0ypbd0wx1q2qb1kpxmmcc0000gn/T/ipykernel_23586/2183440621.py:2: PerformanceWarning: indexing past lexsort depth may impact performance.\n",
      "\n",
      " 95%|███████████████████████████████████████████████████████████████████████████████████████████████████████████████████████████████▊      | 520/545 [4:58:20<06:03, 14.54s/it]\u001b[A/var/folders/kb/v0p0ypbd0wx1q2qb1kpxmmcc0000gn/T/ipykernel_23586/2183440621.py:2: PerformanceWarning: indexing past lexsort depth may impact performance.\n",
      "/var/folders/kb/v0p0ypbd0wx1q2qb1kpxmmcc0000gn/T/ipykernel_23586/2183440621.py:2: PerformanceWarning: indexing past lexsort depth may impact performance.\n",
      "/var/folders/kb/v0p0ypbd0wx1q2qb1kpxmmcc0000gn/T/ipykernel_23586/2183440621.py:2: PerformanceWarning: indexing past lexsort depth may impact performance.\n"
     ]
    },
    {
     "name": "stderr",
     "output_type": "stream",
     "text": [
      "/var/folders/kb/v0p0ypbd0wx1q2qb1kpxmmcc0000gn/T/ipykernel_23586/2183440621.py:2: PerformanceWarning: indexing past lexsort depth may impact performance.\n",
      "/var/folders/kb/v0p0ypbd0wx1q2qb1kpxmmcc0000gn/T/ipykernel_23586/2183440621.py:2: PerformanceWarning: indexing past lexsort depth may impact performance.\n",
      "\n",
      " 96%|█████████████████████████████████████████████████████████████████████████████████████████████████████████████████████████████████     | 525/545 [5:00:02<05:25, 16.30s/it]\u001b[A/var/folders/kb/v0p0ypbd0wx1q2qb1kpxmmcc0000gn/T/ipykernel_23586/2183440621.py:2: PerformanceWarning: indexing past lexsort depth may impact performance.\n",
      "/var/folders/kb/v0p0ypbd0wx1q2qb1kpxmmcc0000gn/T/ipykernel_23586/2183440621.py:2: PerformanceWarning: indexing past lexsort depth may impact performance.\n",
      "/var/folders/kb/v0p0ypbd0wx1q2qb1kpxmmcc0000gn/T/ipykernel_23586/2183440621.py:2: PerformanceWarning: indexing past lexsort depth may impact performance.\n",
      "/var/folders/kb/v0p0ypbd0wx1q2qb1kpxmmcc0000gn/T/ipykernel_23586/2183440621.py:2: PerformanceWarning: indexing past lexsort depth may impact performance.\n",
      "/var/folders/kb/v0p0ypbd0wx1q2qb1kpxmmcc0000gn/T/ipykernel_23586/2183440621.py:2: PerformanceWarning: indexing past lexsort depth may impact performance.\n",
      "\n",
      " 97%|██████████████████████████████████████████████████████████████████████████████████████████████████████████████████████████████████▎   | 530/545 [5:01:03<03:46, 15.08s/it]\u001b[A/var/folders/kb/v0p0ypbd0wx1q2qb1kpxmmcc0000gn/T/ipykernel_23586/2183440621.py:2: PerformanceWarning: indexing past lexsort depth may impact performance.\n",
      "/var/folders/kb/v0p0ypbd0wx1q2qb1kpxmmcc0000gn/T/ipykernel_23586/2183440621.py:2: PerformanceWarning: indexing past lexsort depth may impact performance.\n",
      "/var/folders/kb/v0p0ypbd0wx1q2qb1kpxmmcc0000gn/T/ipykernel_23586/2183440621.py:2: PerformanceWarning: indexing past lexsort depth may impact performance.\n",
      "/var/folders/kb/v0p0ypbd0wx1q2qb1kpxmmcc0000gn/T/ipykernel_23586/2183440621.py:2: PerformanceWarning: indexing past lexsort depth may impact performance.\n",
      "/var/folders/kb/v0p0ypbd0wx1q2qb1kpxmmcc0000gn/T/ipykernel_23586/2183440621.py:2: PerformanceWarning: indexing past lexsort depth may impact performance.\n",
      "\n",
      " 98%|███████████████████████████████████████████████████████████████████████████████████████████████████████████████████████████████████▌  | 535/545 [5:02:16<02:29, 14.95s/it]\u001b[A/var/folders/kb/v0p0ypbd0wx1q2qb1kpxmmcc0000gn/T/ipykernel_23586/2183440621.py:2: PerformanceWarning: indexing past lexsort depth may impact performance.\n",
      "/var/folders/kb/v0p0ypbd0wx1q2qb1kpxmmcc0000gn/T/ipykernel_23586/2183440621.py:2: PerformanceWarning: indexing past lexsort depth may impact performance.\n",
      "/var/folders/kb/v0p0ypbd0wx1q2qb1kpxmmcc0000gn/T/ipykernel_23586/2183440621.py:2: PerformanceWarning: indexing past lexsort depth may impact performance.\n",
      "/var/folders/kb/v0p0ypbd0wx1q2qb1kpxmmcc0000gn/T/ipykernel_23586/2183440621.py:2: PerformanceWarning: indexing past lexsort depth may impact performance.\n",
      "/var/folders/kb/v0p0ypbd0wx1q2qb1kpxmmcc0000gn/T/ipykernel_23586/2183440621.py:2: PerformanceWarning: indexing past lexsort depth may impact performance.\n",
      "\n",
      " 99%|████████████████████████████████████████████████████████████████████████████████████████████████████████████████████████████████████▊ | 540/545 [5:03:39<01:17, 15.44s/it]\u001b[A/var/folders/kb/v0p0ypbd0wx1q2qb1kpxmmcc0000gn/T/ipykernel_23586/2183440621.py:2: PerformanceWarning: indexing past lexsort depth may impact performance.\n",
      "/var/folders/kb/v0p0ypbd0wx1q2qb1kpxmmcc0000gn/T/ipykernel_23586/2183440621.py:2: PerformanceWarning: indexing past lexsort depth may impact performance.\n",
      "/var/folders/kb/v0p0ypbd0wx1q2qb1kpxmmcc0000gn/T/ipykernel_23586/2183440621.py:2: PerformanceWarning: indexing past lexsort depth may impact performance.\n",
      "/var/folders/kb/v0p0ypbd0wx1q2qb1kpxmmcc0000gn/T/ipykernel_23586/2183440621.py:2: PerformanceWarning: indexing past lexsort depth may impact performance.\n",
      "/var/folders/kb/v0p0ypbd0wx1q2qb1kpxmmcc0000gn/T/ipykernel_23586/2183440621.py:2: PerformanceWarning: indexing past lexsort depth may impact performance.\n",
      "\n",
      "100%|██████████████████████████████████████████████████████████████████████████████████████████████████████████████████████████████████████| 545/545 [5:04:24<00:00, 33.51s/it]\u001b[A\n",
      "/var/folders/kb/v0p0ypbd0wx1q2qb1kpxmmcc0000gn/T/ipykernel_23586/2183440621.py:2: PerformanceWarning: indexing past lexsort depth may impact performance.\n",
      "/var/folders/kb/v0p0ypbd0wx1q2qb1kpxmmcc0000gn/T/ipykernel_23586/2183440621.py:2: PerformanceWarning: indexing past lexsort depth may impact performance.\n",
      "/var/folders/kb/v0p0ypbd0wx1q2qb1kpxmmcc0000gn/T/ipykernel_23586/2183440621.py:2: PerformanceWarning: indexing past lexsort depth may impact performance.\n",
      "/var/folders/kb/v0p0ypbd0wx1q2qb1kpxmmcc0000gn/T/ipykernel_23586/2183440621.py:2: PerformanceWarning: indexing past lexsort depth may impact performance.\n",
      "/var/folders/kb/v0p0ypbd0wx1q2qb1kpxmmcc0000gn/T/ipykernel_23586/2183440621.py:2: PerformanceWarning: indexing past lexsort depth may impact performance.\n"
     ]
    }
   ],
   "source": [
    "all_preds = Parallel(n_jobs=5)(delayed(fit_one_sku)(train_test_pivot1 = train_test_pivot,\\\n",
    "                                                    sku_id1 = sku_id_i,\\\n",
    "                                                    n_lags_y1 = 30,\\\n",
    "                                                    n_lags_exog1 = 14,\\\n",
    "                                                    exog_cols1 = exog_cols) \\\n",
    "                               for sku_id_i in tqdm(clean_SKUs))"
   ]
  },
  {
   "cell_type": "code",
   "execution_count": 59,
   "id": "ff494f7e",
   "metadata": {},
   "outputs": [
    {
     "data": {
      "text/plain": [
       "545"
      ]
     },
     "execution_count": 59,
     "metadata": {},
     "output_type": "execute_result"
    }
   ],
   "source": [
    "len(all_preds)"
   ]
  },
  {
   "cell_type": "code",
   "execution_count": 61,
   "id": "96dccf98",
   "metadata": {},
   "outputs": [],
   "source": [
    "import pickle\n",
    "with open('../../data/stl_results_v1.pkl', 'wb') as f:\n",
    "    pickle.dump(all_preds, f)"
   ]
  },
  {
   "cell_type": "markdown",
   "id": "61ad3e68",
   "metadata": {},
   "source": [
    "### RMSE"
   ]
  },
  {
   "cell_type": "code",
   "execution_count": 77,
   "id": "e052b966",
   "metadata": {},
   "outputs": [],
   "source": [
    "y_pred_df = pd.DataFrame()\n",
    "for i in range(len(all_preds)):\n",
    "    if all_preds[i]!= None:\n",
    "        y_pred_df = pd.concat([y_pred_df,all_preds[i][1]])"
   ]
  },
  {
   "cell_type": "code",
   "execution_count": 80,
   "id": "532f6d35",
   "metadata": {},
   "outputs": [
    {
     "data": {
      "text/plain": [
       "503"
      ]
     },
     "execution_count": 80,
     "metadata": {},
     "output_type": "execute_result"
    }
   ],
   "source": [
    "y_pred_df[\"Encoded_SKU_ID\"].nunique()"
   ]
  },
  {
   "cell_type": "code",
   "execution_count": 213,
   "id": "a2b54e37",
   "metadata": {},
   "outputs": [
    {
     "data": {
      "text/html": [
       "<div>\n",
       "<style scoped>\n",
       "    .dataframe tbody tr th:only-of-type {\n",
       "        vertical-align: middle;\n",
       "    }\n",
       "\n",
       "    .dataframe tbody tr th {\n",
       "        vertical-align: top;\n",
       "    }\n",
       "\n",
       "    .dataframe thead th {\n",
       "        text-align: right;\n",
       "    }\n",
       "</style>\n",
       "<table border=\"1\" class=\"dataframe\">\n",
       "  <thead>\n",
       "    <tr style=\"text-align: right;\">\n",
       "      <th></th>\n",
       "      <th>Encoded_SKU_ID</th>\n",
       "      <th>SALES_DATE</th>\n",
       "      <th>actual</th>\n",
       "    </tr>\n",
       "  </thead>\n",
       "  <tbody>\n",
       "    <tr>\n",
       "      <th>100</th>\n",
       "      <td>96</td>\n",
       "      <td>2022-07-27</td>\n",
       "      <td>2</td>\n",
       "    </tr>\n",
       "    <tr>\n",
       "      <th>218</th>\n",
       "      <td>187</td>\n",
       "      <td>2022-07-29</td>\n",
       "      <td>0</td>\n",
       "    </tr>\n",
       "    <tr>\n",
       "      <th>420</th>\n",
       "      <td>297</td>\n",
       "      <td>2022-07-29</td>\n",
       "      <td>6</td>\n",
       "    </tr>\n",
       "    <tr>\n",
       "      <th>652</th>\n",
       "      <td>372</td>\n",
       "      <td>2022-07-27</td>\n",
       "      <td>1</td>\n",
       "    </tr>\n",
       "    <tr>\n",
       "      <th>831</th>\n",
       "      <td>412</td>\n",
       "      <td>2022-07-26</td>\n",
       "      <td>4</td>\n",
       "    </tr>\n",
       "  </tbody>\n",
       "</table>\n",
       "</div>"
      ],
      "text/plain": [
       "     Encoded_SKU_ID SALES_DATE  actual\n",
       "100              96 2022-07-27       2\n",
       "218             187 2022-07-29       0\n",
       "420             297 2022-07-29       6\n",
       "652             372 2022-07-27       1\n",
       "831             412 2022-07-26       4"
      ]
     },
     "execution_count": 213,
     "metadata": {},
     "output_type": "execute_result"
    }
   ],
   "source": [
    "validation = train_test[(train_test.validation==True) & (train_test.validation_clean==True)]\n",
    "y_act = validation[[\"Encoded_SKU_ID\",\"SALES_DATE\",\"DAILY_UNITS\"]].rename(columns = {\"DAILY_UNITS\":\"actual\"})\n",
    "y_act.head()"
   ]
  },
  {
   "cell_type": "code",
   "execution_count": 214,
   "id": "838ca5fc",
   "metadata": {},
   "outputs": [],
   "source": [
    "y_pred_null = pd.read_csv(\"../../data/null_prediction_validation_result_v0.csv\").drop(columns = \"Unnamed: 0\")\n",
    "y_pred_null[\"SALES_DATE\"] = pd.to_datetime(y_pred_null[\"SALES_DATE\"])"
   ]
  },
  {
   "cell_type": "code",
   "execution_count": 216,
   "id": "6e1c82a0",
   "metadata": {},
   "outputs": [],
   "source": [
    "y_pred_stl = y_pred_df.reset_index()[[\"SALES_DATE\",\"STL_prediction\",\"Encoded_SKU_ID\"\\\n",
    "                        ]].rename(columns={\"STL_prediction\":\"predicted\"})\n",
    "\n",
    "y_pred_mstl = y_pred_df.reset_index()[[\"SALES_DATE\",\"MSTL_prediction\",\"Encoded_SKU_ID\"\\\n",
    "                        ]].rename(columns={\"MSTL_prediction\":\"predicted\"})\n",
    "\n",
    "# y_act = y_pred_df.reset_index()[[\"SALES_DATE\",\"actual\",\"Encoded_SKU_ID\"\\\n",
    "#                         ]]\n",
    "y_act[\"actual\"] = pd.to_numeric(y_act[\"actual\"])"
   ]
  },
  {
   "cell_type": "code",
   "execution_count": 217,
   "id": "067470f0",
   "metadata": {},
   "outputs": [
    {
     "data": {
      "text/plain": [
       "(3815, 3521)"
      ]
     },
     "execution_count": 217,
     "metadata": {},
     "output_type": "execute_result"
    }
   ],
   "source": [
    "y_pred_null_subset = y_pred_null.loc[y_pred_null.Encoded_SKU_ID.isin(y_pred_stl.Encoded_SKU_ID.unique())]\n",
    "len(y_pred_null),len(y_pred_null_subset)"
   ]
  },
  {
   "cell_type": "code",
   "execution_count": 218,
   "id": "0e66fbb1",
   "metadata": {},
   "outputs": [
    {
     "data": {
      "text/plain": [
       "(6.59603916258372, 6.609787652757184)"
      ]
     },
     "execution_count": 218,
     "metadata": {},
     "output_type": "execute_result"
    }
   ],
   "source": [
    "rmse(y_act,y_pred_null),rmse(y_act,y_pred_null_subset)"
   ]
  },
  {
   "cell_type": "code",
   "execution_count": 219,
   "id": "270a11ee",
   "metadata": {},
   "outputs": [
    {
     "data": {
      "text/plain": [
       "14.416066109391119"
      ]
     },
     "execution_count": 219,
     "metadata": {},
     "output_type": "execute_result"
    }
   ],
   "source": [
    "rmse(y_act,y_pred_stl)"
   ]
  },
  {
   "cell_type": "code",
   "execution_count": 220,
   "id": "e21be90e",
   "metadata": {},
   "outputs": [
    {
     "data": {
      "text/plain": [
       "13.913722800537084"
      ]
     },
     "execution_count": 220,
     "metadata": {},
     "output_type": "execute_result"
    }
   ],
   "source": [
    "rmse(y_act,y_pred_mstl)"
   ]
  },
  {
   "cell_type": "code",
   "execution_count": 221,
   "id": "fa5107f0",
   "metadata": {},
   "outputs": [],
   "source": [
    "rmse_sku_stl = rmse_sku(y_act,y_pred_stl)\n",
    "rmse_sku_mstl = rmse_sku(y_act,y_pred_mstl)\n",
    "rmse_sku_null = rmse_sku(y_act,y_pred_null)"
   ]
  },
  {
   "cell_type": "code",
   "execution_count": 222,
   "id": "8b139c53",
   "metadata": {},
   "outputs": [],
   "source": [
    "VERSION = \"v2\"\n",
    "hmm_output = pd.read_csv(f\"../../data/hmm_result_{VERSION}.csv\",index_col=0)"
   ]
  },
  {
   "cell_type": "code",
   "execution_count": 223,
   "id": "33b9e328",
   "metadata": {},
   "outputs": [
    {
     "data": {
      "text/plain": [
       "Encoded_SKU_ID             int64\n",
       "SALES_DATE        datetime64[ns]\n",
       "actual                     int64\n",
       "dtype: object"
      ]
     },
     "execution_count": 223,
     "metadata": {},
     "output_type": "execute_result"
    }
   ],
   "source": [
    "y_act.dtypes"
   ]
  },
  {
   "cell_type": "code",
   "execution_count": 224,
   "id": "e60098dd",
   "metadata": {},
   "outputs": [],
   "source": [
    "rmse_sku_hmm_dates = pd.DataFrame()\n",
    "for i,col in enumerate(hmm_output.columns):\n",
    "    if \"pred\" in col:\n",
    "        y_pred_hmm = hmm_output.reset_index(names = \"SALES_DATE\")[[\"Encoded_SKU_ID\",\"SALES_DATE\",col\\\n",
    "                                                                  ]].rename(columns={col:\"predicted\"})\n",
    "        y_pred_hmm[\"SALES_DATE\"] = pd.to_datetime(y_pred_hmm[\"SALES_DATE\"])\n",
    "        rmse_sku_hmm_i = rmse_sku(y_act,y_pred_hmm)\n",
    "        if i ==0:\n",
    "            rmse_sku_hmm_dates = rmse_sku_hmm_i\n",
    "        else:\n",
    "            rmse_sku_hmm_dates = rmse_sku_hmm_dates.merge(rmse_sku_hmm_i, left_index = True, right_index = True,\\\n",
    "                                suffixes = (\"\",f\"_{col.split('_')[-1]}\"))"
   ]
  },
  {
   "cell_type": "code",
   "execution_count": 225,
   "id": "24a7710a",
   "metadata": {},
   "outputs": [],
   "source": [
    "other_rmse = rmse_sku_stl.merge(rmse_sku_mstl,on=[\"Encoded_SKU_ID\"],how=\"outer\", suffixes = (\"_stl\",\"_mstl\")\\\n",
    "                  ).merge(rmse_sku_null,on=[\"Encoded_SKU_ID\"],how=\"outer\", suffixes = (\"\",\"_null\"))"
   ]
  },
  {
   "cell_type": "code",
   "execution_count": 226,
   "id": "551366e2",
   "metadata": {},
   "outputs": [
    {
     "data": {
      "text/plain": [
       "545"
      ]
     },
     "execution_count": 226,
     "metadata": {},
     "output_type": "execute_result"
    }
   ],
   "source": [
    "y_act.Encoded_SKU_ID.nunique()"
   ]
  },
  {
   "cell_type": "code",
   "execution_count": 227,
   "id": "a2f086b7",
   "metadata": {},
   "outputs": [],
   "source": [
    "rmse_sku_join = rmse_sku_hmm_dates.merge(other_rmse,left_index=True,right_on=[\"Encoded_SKU_ID\"],how=\"outer\",\\\n",
    "                                        suffixes = (\"_15\",\"_null\"),)"
   ]
  },
  {
   "cell_type": "markdown",
   "id": "ce09f8f7",
   "metadata": {},
   "source": [
    "### Pick Best"
   ]
  },
  {
   "cell_type": "code",
   "execution_count": 228,
   "id": "bac56c19",
   "metadata": {},
   "outputs": [
    {
     "data": {
      "text/plain": [
       "['rmse_du_15',\n",
       " 'rmse_du_30',\n",
       " 'rmse_du_45',\n",
       " 'rmse_du_60',\n",
       " 'rmse_du_90',\n",
       " 'rmse_du_max',\n",
       " 'rmse_du_stl',\n",
       " 'rmse_du_mstl',\n",
       " 'rmse_du_null']"
      ]
     },
     "execution_count": 228,
     "metadata": {},
     "output_type": "execute_result"
    }
   ],
   "source": [
    "rmse_cols = [col for col in rmse_sku_join.columns if \"rmse_du\" in col]\n",
    "rmse_cols"
   ]
  },
  {
   "cell_type": "code",
   "execution_count": 229,
   "id": "66f9fbdb",
   "metadata": {},
   "outputs": [],
   "source": [
    "rmse_sku_join[\"min_rmse\"] = rmse_sku_join[rmse_cols].min(axis=1,skipna=True)\n",
    "\n",
    "rmse_sku_join[\"argmin_period\"] = np.argmin(rmse_sku_join[rmse_cols].values,axis=1)\n",
    "\n",
    "rmse_sku_join[\"min_period\"] = rmse_sku_join[\"argmin_period\"].apply(lambda x: rmse_cols[x])"
   ]
  },
  {
   "cell_type": "code",
   "execution_count": 230,
   "id": "fb2bc83e",
   "metadata": {},
   "outputs": [
    {
     "data": {
      "text/plain": [
       "0"
      ]
     },
     "execution_count": 230,
     "metadata": {},
     "output_type": "execute_result"
    }
   ],
   "source": [
    "rmse_sku_join[\"min_rmse\"].isna().sum()"
   ]
  },
  {
   "cell_type": "code",
   "execution_count": 231,
   "id": "9c5bf1f8",
   "metadata": {},
   "outputs": [],
   "source": [
    "hmm_output1 = hmm_output.reset_index(names=\"SALES_DATE\")\n",
    "hmm_output1[\"SALES_DATE\"] = pd.to_datetime(hmm_output1[\"SALES_DATE\"])"
   ]
  },
  {
   "cell_type": "code",
   "execution_count": 232,
   "id": "6c777630",
   "metadata": {},
   "outputs": [],
   "source": [
    "all_outputs = hmm_output1.merge(y_pred_df.reset_index(),on=[\"Encoded_SKU_ID\",\"SALES_DATE\"],how=\"outer\"\\\n",
    "                                            ).merge(y_pred_null,on=[\"Encoded_SKU_ID\",\"SALES_DATE\"],how=\"outer\",\\\n",
    "                                                   suffixes = (\"_15\",\"_null\"))"
   ]
  },
  {
   "cell_type": "code",
   "execution_count": 233,
   "id": "9caba183",
   "metadata": {},
   "outputs": [
    {
     "data": {
      "text/html": [
       "<div>\n",
       "<style scoped>\n",
       "    .dataframe tbody tr th:only-of-type {\n",
       "        vertical-align: middle;\n",
       "    }\n",
       "\n",
       "    .dataframe tbody tr th {\n",
       "        vertical-align: top;\n",
       "    }\n",
       "\n",
       "    .dataframe thead th {\n",
       "        text-align: right;\n",
       "    }\n",
       "</style>\n",
       "<table border=\"1\" class=\"dataframe\">\n",
       "  <thead>\n",
       "    <tr style=\"text-align: right;\">\n",
       "      <th></th>\n",
       "      <th>SALES_DATE</th>\n",
       "      <th>predicted_15</th>\n",
       "      <th>predicted_30</th>\n",
       "      <th>predicted_45</th>\n",
       "      <th>predicted_60</th>\n",
       "      <th>predicted_90</th>\n",
       "      <th>predicted_max</th>\n",
       "      <th>Encoded_SKU_ID</th>\n",
       "      <th>STL_prediction</th>\n",
       "      <th>MSTL_prediction</th>\n",
       "      <th>actual</th>\n",
       "      <th>predicted_null</th>\n",
       "    </tr>\n",
       "  </thead>\n",
       "  <tbody>\n",
       "    <tr>\n",
       "      <th>0</th>\n",
       "      <td>2022-07-25</td>\n",
       "      <td>1.0</td>\n",
       "      <td>1.0</td>\n",
       "      <td>1.0</td>\n",
       "      <td>0.00</td>\n",
       "      <td>2.00</td>\n",
       "      <td>3.00</td>\n",
       "      <td>1</td>\n",
       "      <td>1.708770</td>\n",
       "      <td>2.087032</td>\n",
       "      <td>0</td>\n",
       "      <td>1</td>\n",
       "    </tr>\n",
       "    <tr>\n",
       "      <th>1</th>\n",
       "      <td>2022-07-26</td>\n",
       "      <td>1.0</td>\n",
       "      <td>1.0</td>\n",
       "      <td>2.0</td>\n",
       "      <td>3.00</td>\n",
       "      <td>0.45</td>\n",
       "      <td>2.00</td>\n",
       "      <td>1</td>\n",
       "      <td>1.642804</td>\n",
       "      <td>0.778320</td>\n",
       "      <td>0</td>\n",
       "      <td>1</td>\n",
       "    </tr>\n",
       "    <tr>\n",
       "      <th>2</th>\n",
       "      <td>2022-07-27</td>\n",
       "      <td>2.0</td>\n",
       "      <td>0.0</td>\n",
       "      <td>3.0</td>\n",
       "      <td>2.00</td>\n",
       "      <td>2.55</td>\n",
       "      <td>1.00</td>\n",
       "      <td>1</td>\n",
       "      <td>1.464536</td>\n",
       "      <td>1.561164</td>\n",
       "      <td>0</td>\n",
       "      <td>1</td>\n",
       "    </tr>\n",
       "    <tr>\n",
       "      <th>3</th>\n",
       "      <td>2022-07-28</td>\n",
       "      <td>0.0</td>\n",
       "      <td>1.0</td>\n",
       "      <td>0.0</td>\n",
       "      <td>0.45</td>\n",
       "      <td>0.45</td>\n",
       "      <td>2.45</td>\n",
       "      <td>1</td>\n",
       "      <td>1.454188</td>\n",
       "      <td>2.314384</td>\n",
       "      <td>2</td>\n",
       "      <td>1</td>\n",
       "    </tr>\n",
       "    <tr>\n",
       "      <th>4</th>\n",
       "      <td>2022-07-29</td>\n",
       "      <td>3.0</td>\n",
       "      <td>2.0</td>\n",
       "      <td>1.0</td>\n",
       "      <td>2.00</td>\n",
       "      <td>2.55</td>\n",
       "      <td>2.00</td>\n",
       "      <td>1</td>\n",
       "      <td>1.738205</td>\n",
       "      <td>1.581958</td>\n",
       "      <td>2</td>\n",
       "      <td>1</td>\n",
       "    </tr>\n",
       "    <tr>\n",
       "      <th>...</th>\n",
       "      <td>...</td>\n",
       "      <td>...</td>\n",
       "      <td>...</td>\n",
       "      <td>...</td>\n",
       "      <td>...</td>\n",
       "      <td>...</td>\n",
       "      <td>...</td>\n",
       "      <td>...</td>\n",
       "      <td>...</td>\n",
       "      <td>...</td>\n",
       "      <td>...</td>\n",
       "      <td>...</td>\n",
       "    </tr>\n",
       "    <tr>\n",
       "      <th>3810</th>\n",
       "      <td>2022-07-27</td>\n",
       "      <td>NaN</td>\n",
       "      <td>NaN</td>\n",
       "      <td>NaN</td>\n",
       "      <td>NaN</td>\n",
       "      <td>NaN</td>\n",
       "      <td>NaN</td>\n",
       "      <td>566</td>\n",
       "      <td>NaN</td>\n",
       "      <td>NaN</td>\n",
       "      <td>NaN</td>\n",
       "      <td>5</td>\n",
       "    </tr>\n",
       "    <tr>\n",
       "      <th>3811</th>\n",
       "      <td>2022-07-28</td>\n",
       "      <td>NaN</td>\n",
       "      <td>NaN</td>\n",
       "      <td>NaN</td>\n",
       "      <td>NaN</td>\n",
       "      <td>NaN</td>\n",
       "      <td>NaN</td>\n",
       "      <td>566</td>\n",
       "      <td>NaN</td>\n",
       "      <td>NaN</td>\n",
       "      <td>NaN</td>\n",
       "      <td>5</td>\n",
       "    </tr>\n",
       "    <tr>\n",
       "      <th>3812</th>\n",
       "      <td>2022-07-29</td>\n",
       "      <td>NaN</td>\n",
       "      <td>NaN</td>\n",
       "      <td>NaN</td>\n",
       "      <td>NaN</td>\n",
       "      <td>NaN</td>\n",
       "      <td>NaN</td>\n",
       "      <td>566</td>\n",
       "      <td>NaN</td>\n",
       "      <td>NaN</td>\n",
       "      <td>NaN</td>\n",
       "      <td>5</td>\n",
       "    </tr>\n",
       "    <tr>\n",
       "      <th>3813</th>\n",
       "      <td>2022-07-30</td>\n",
       "      <td>NaN</td>\n",
       "      <td>NaN</td>\n",
       "      <td>NaN</td>\n",
       "      <td>NaN</td>\n",
       "      <td>NaN</td>\n",
       "      <td>NaN</td>\n",
       "      <td>566</td>\n",
       "      <td>NaN</td>\n",
       "      <td>NaN</td>\n",
       "      <td>NaN</td>\n",
       "      <td>5</td>\n",
       "    </tr>\n",
       "    <tr>\n",
       "      <th>3814</th>\n",
       "      <td>2022-07-31</td>\n",
       "      <td>NaN</td>\n",
       "      <td>NaN</td>\n",
       "      <td>NaN</td>\n",
       "      <td>NaN</td>\n",
       "      <td>NaN</td>\n",
       "      <td>NaN</td>\n",
       "      <td>566</td>\n",
       "      <td>NaN</td>\n",
       "      <td>NaN</td>\n",
       "      <td>NaN</td>\n",
       "      <td>5</td>\n",
       "    </tr>\n",
       "  </tbody>\n",
       "</table>\n",
       "<p>3815 rows × 12 columns</p>\n",
       "</div>"
      ],
      "text/plain": [
       "     SALES_DATE  predicted_15  predicted_30  predicted_45  predicted_60  \\\n",
       "0    2022-07-25           1.0           1.0           1.0          0.00   \n",
       "1    2022-07-26           1.0           1.0           2.0          3.00   \n",
       "2    2022-07-27           2.0           0.0           3.0          2.00   \n",
       "3    2022-07-28           0.0           1.0           0.0          0.45   \n",
       "4    2022-07-29           3.0           2.0           1.0          2.00   \n",
       "...         ...           ...           ...           ...           ...   \n",
       "3810 2022-07-27           NaN           NaN           NaN           NaN   \n",
       "3811 2022-07-28           NaN           NaN           NaN           NaN   \n",
       "3812 2022-07-29           NaN           NaN           NaN           NaN   \n",
       "3813 2022-07-30           NaN           NaN           NaN           NaN   \n",
       "3814 2022-07-31           NaN           NaN           NaN           NaN   \n",
       "\n",
       "      predicted_90  predicted_max  Encoded_SKU_ID  STL_prediction  \\\n",
       "0             2.00           3.00               1        1.708770   \n",
       "1             0.45           2.00               1        1.642804   \n",
       "2             2.55           1.00               1        1.464536   \n",
       "3             0.45           2.45               1        1.454188   \n",
       "4             2.55           2.00               1        1.738205   \n",
       "...            ...            ...             ...             ...   \n",
       "3810           NaN            NaN             566             NaN   \n",
       "3811           NaN            NaN             566             NaN   \n",
       "3812           NaN            NaN             566             NaN   \n",
       "3813           NaN            NaN             566             NaN   \n",
       "3814           NaN            NaN             566             NaN   \n",
       "\n",
       "      MSTL_prediction actual  predicted_null  \n",
       "0            2.087032      0               1  \n",
       "1            0.778320      0               1  \n",
       "2            1.561164      0               1  \n",
       "3            2.314384      2               1  \n",
       "4            1.581958      2               1  \n",
       "...               ...    ...             ...  \n",
       "3810              NaN    NaN               5  \n",
       "3811              NaN    NaN               5  \n",
       "3812              NaN    NaN               5  \n",
       "3813              NaN    NaN               5  \n",
       "3814              NaN    NaN               5  \n",
       "\n",
       "[3815 rows x 12 columns]"
      ]
     },
     "execution_count": 233,
     "metadata": {},
     "output_type": "execute_result"
    }
   ],
   "source": [
    "all_outputs"
   ]
  },
  {
   "cell_type": "code",
   "execution_count": 234,
   "id": "b61014f4",
   "metadata": {},
   "outputs": [],
   "source": [
    "period_col_map= {\n",
    "    \"rmse_du_15\":\"predicted_15\", \"rmse_du_30\":\"predicted_30\", \"rmse_du_45\":\"predicted_45\",\\\n",
    "    \"rmse_du_60\":\"predicted_60\", \"rmse_du_90\":\"predicted_90\", \"rmse_du_max\":\"predicted_max\",\\\n",
    "    \"rmse_du_stl\":\"STL_prediction\",\"rmse_du_mstl\":\"MSTL_prediction\",\"rmse_du_null\":\"predicted_null\"\n",
    "}"
   ]
  },
  {
   "cell_type": "code",
   "execution_count": 235,
   "id": "27187068",
   "metadata": {},
   "outputs": [],
   "source": [
    "y_pred_best = pd.DataFrame()\n",
    "cnt = 0\n",
    "for sku_id,best_period in zip(rmse_sku_join.index,rmse_sku_join[\"min_period\"]):\n",
    "    best_col = period_col_map[best_period]\n",
    "    mask_sku = all_outputs.Encoded_SKU_ID==sku_id\n",
    "    y_pred_best_sku = all_outputs.loc[mask_sku][[\"Encoded_SKU_ID\",\"SALES_DATE\",best_col\\\n",
    "                                                                  ]].rename(columns={best_col:\"predicted\"})\n",
    "    y_pred_best = pd.concat([y_pred_best,y_pred_best_sku])"
   ]
  },
  {
   "cell_type": "code",
   "execution_count": 236,
   "id": "664d66a7",
   "metadata": {},
   "outputs": [
    {
     "data": {
      "text/plain": [
       "(545, 545, 545)"
      ]
     },
     "execution_count": 236,
     "metadata": {},
     "output_type": "execute_result"
    }
   ],
   "source": [
    "y_act.Encoded_SKU_ID.nunique(),y_pred_null.Encoded_SKU_ID.nunique(),rmse_sku_join.index.nunique()"
   ]
  },
  {
   "cell_type": "code",
   "execution_count": 237,
   "id": "9f2d99c1",
   "metadata": {},
   "outputs": [
    {
     "data": {
      "text/plain": [
       "(6.59603916258372, 1.052294878152332)"
      ]
     },
     "execution_count": 237,
     "metadata": {},
     "output_type": "execute_result"
    }
   ],
   "source": [
    "a,b = rmse(y_act,y_pred_null),rmse(y_act,y_pred_best)\n",
    "a,b"
   ]
  },
  {
   "cell_type": "code",
   "execution_count": 238,
   "id": "f785e37e",
   "metadata": {},
   "outputs": [
    {
     "data": {
      "text/plain": [
       "0.8404656412409565"
      ]
     },
     "execution_count": 238,
     "metadata": {},
     "output_type": "execute_result"
    }
   ],
   "source": [
    "(a-b)/a"
   ]
  },
  {
   "cell_type": "code",
   "execution_count": 239,
   "id": "cdaa02f6",
   "metadata": {},
   "outputs": [
    {
     "data": {
      "text/plain": [
       "rmse_du_15      225\n",
       "rmse_du_stl      98\n",
       "rmse_du_max      44\n",
       "rmse_du_null     38\n",
       "rmse_du_30       38\n",
       "rmse_du_60       31\n",
       "rmse_du_90       29\n",
       "rmse_du_45       23\n",
       "rmse_du_mstl     19\n",
       "Name: min_period, dtype: int64"
      ]
     },
     "execution_count": 239,
     "metadata": {},
     "output_type": "execute_result"
    }
   ],
   "source": [
    "rmse_sku_join[\"min_period\"].value_counts()"
   ]
  }
 ],
 "metadata": {
  "kernelspec": {
   "display_name": "Python 3 (ipykernel)",
   "language": "python",
   "name": "python3"
  },
  "language_info": {
   "codemirror_mode": {
    "name": "ipython",
    "version": 3
   },
   "file_extension": ".py",
   "mimetype": "text/x-python",
   "name": "python",
   "nbconvert_exporter": "python",
   "pygments_lexer": "ipython3",
   "version": "3.9.15"
  }
 },
 "nbformat": 4,
 "nbformat_minor": 5
}
