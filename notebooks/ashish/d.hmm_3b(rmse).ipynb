{
 "cells": [
  {
   "cell_type": "code",
   "execution_count": 1,
   "id": "11a6abe9",
   "metadata": {},
   "outputs": [
    {
     "name": "stdout",
     "output_type": "stream",
     "text": [
      "/Users/ashish1610dhiman/data_projects/bestbuy/notebooks/ashish\r\n"
     ]
    }
   ],
   "source": [
    "!pwd"
   ]
  },
  {
   "cell_type": "code",
   "execution_count": 2,
   "id": "9db252e5",
   "metadata": {},
   "outputs": [],
   "source": [
    "import sys\n",
    "import matplotlib\n",
    "import numpy as np\n",
    "import pandas as pd\n",
    "import matplotlib.pyplot as plt\n",
    "import datetime\n",
    "\n",
    "sys.version\n",
    "\n",
    "sys.path.append(\"../../\")\n",
    "\n",
    "from src.ad_hmm import sku_predict\n",
    "from src.utils import *"
   ]
  },
  {
   "cell_type": "code",
   "execution_count": 3,
   "id": "34cd2d33",
   "metadata": {},
   "outputs": [],
   "source": [
    "%load_ext autoreload \n",
    "%autoreload 2"
   ]
  },
  {
   "cell_type": "markdown",
   "id": "954d9e88",
   "metadata": {},
   "source": [
    "### RMSE analysis for HMM"
   ]
  },
  {
   "cell_type": "code",
   "execution_count": 4,
   "id": "40047718",
   "metadata": {},
   "outputs": [
    {
     "name": "stdout",
     "output_type": "stream",
     "text": [
      "(846632, 15)\n"
     ]
    }
   ],
   "source": [
    "train_test = pd.read_csv(\"../../data/train_validation_marker.csv\")\n",
    "train_test[\"SALES_DATE\"] = pd.to_datetime(train_test[\"SALES_DATE\"])\n",
    "print (train_test.shape)"
   ]
  },
  {
   "cell_type": "code",
   "execution_count": 5,
   "id": "58e5f2ce",
   "metadata": {},
   "outputs": [
    {
     "data": {
      "text/plain": [
       "((797490, 15), (3815, 15))"
      ]
     },
     "execution_count": 5,
     "metadata": {},
     "output_type": "execute_result"
    }
   ],
   "source": [
    "#clean train/test\n",
    "train = train_test[(train_test.validation==False) & (train_test.validation_clean==True)]\n",
    "validation = train_test[(train_test.validation==True) & (train_test.validation_clean==True)]\n",
    "train.shape,validation.shape"
   ]
  },
  {
   "cell_type": "markdown",
   "id": "6b804a9a",
   "metadata": {},
   "source": [
    "### y_actual"
   ]
  },
  {
   "cell_type": "code",
   "execution_count": 6,
   "id": "9fa28b0f",
   "metadata": {},
   "outputs": [
    {
     "data": {
      "text/html": [
       "<div>\n",
       "<style scoped>\n",
       "    .dataframe tbody tr th:only-of-type {\n",
       "        vertical-align: middle;\n",
       "    }\n",
       "\n",
       "    .dataframe tbody tr th {\n",
       "        vertical-align: top;\n",
       "    }\n",
       "\n",
       "    .dataframe thead th {\n",
       "        text-align: right;\n",
       "    }\n",
       "</style>\n",
       "<table border=\"1\" class=\"dataframe\">\n",
       "  <thead>\n",
       "    <tr style=\"text-align: right;\">\n",
       "      <th></th>\n",
       "      <th>Encoded_SKU_ID</th>\n",
       "      <th>SALES_DATE</th>\n",
       "      <th>actual</th>\n",
       "    </tr>\n",
       "  </thead>\n",
       "  <tbody>\n",
       "    <tr>\n",
       "      <th>100</th>\n",
       "      <td>96</td>\n",
       "      <td>2022-07-27</td>\n",
       "      <td>2</td>\n",
       "    </tr>\n",
       "    <tr>\n",
       "      <th>218</th>\n",
       "      <td>187</td>\n",
       "      <td>2022-07-29</td>\n",
       "      <td>0</td>\n",
       "    </tr>\n",
       "    <tr>\n",
       "      <th>420</th>\n",
       "      <td>297</td>\n",
       "      <td>2022-07-29</td>\n",
       "      <td>6</td>\n",
       "    </tr>\n",
       "    <tr>\n",
       "      <th>652</th>\n",
       "      <td>372</td>\n",
       "      <td>2022-07-27</td>\n",
       "      <td>1</td>\n",
       "    </tr>\n",
       "    <tr>\n",
       "      <th>831</th>\n",
       "      <td>412</td>\n",
       "      <td>2022-07-26</td>\n",
       "      <td>4</td>\n",
       "    </tr>\n",
       "  </tbody>\n",
       "</table>\n",
       "</div>"
      ],
      "text/plain": [
       "     Encoded_SKU_ID SALES_DATE  actual\n",
       "100              96 2022-07-27       2\n",
       "218             187 2022-07-29       0\n",
       "420             297 2022-07-29       6\n",
       "652             372 2022-07-27       1\n",
       "831             412 2022-07-26       4"
      ]
     },
     "execution_count": 6,
     "metadata": {},
     "output_type": "execute_result"
    }
   ],
   "source": [
    "y_act = validation[[\"Encoded_SKU_ID\",\"SALES_DATE\",\"DAILY_UNITS\"]].rename(columns = {\"DAILY_UNITS\":\"actual\"})\n",
    "y_act.head()"
   ]
  },
  {
   "cell_type": "markdown",
   "id": "4313f092",
   "metadata": {},
   "source": [
    "### y_pred null"
   ]
  },
  {
   "cell_type": "code",
   "execution_count": 11,
   "id": "eb8a43e4",
   "metadata": {},
   "outputs": [
    {
     "data": {
      "text/html": [
       "<div>\n",
       "<style scoped>\n",
       "    .dataframe tbody tr th:only-of-type {\n",
       "        vertical-align: middle;\n",
       "    }\n",
       "\n",
       "    .dataframe tbody tr th {\n",
       "        vertical-align: top;\n",
       "    }\n",
       "\n",
       "    .dataframe thead th {\n",
       "        text-align: right;\n",
       "    }\n",
       "</style>\n",
       "<table border=\"1\" class=\"dataframe\">\n",
       "  <thead>\n",
       "    <tr style=\"text-align: right;\">\n",
       "      <th></th>\n",
       "      <th>Encoded_SKU_ID</th>\n",
       "      <th>SALES_DATE</th>\n",
       "      <th>predicted</th>\n",
       "    </tr>\n",
       "  </thead>\n",
       "  <tbody>\n",
       "    <tr>\n",
       "      <th>0</th>\n",
       "      <td>1</td>\n",
       "      <td>2022-07-25</td>\n",
       "      <td>1</td>\n",
       "    </tr>\n",
       "    <tr>\n",
       "      <th>1</th>\n",
       "      <td>1</td>\n",
       "      <td>2022-07-26</td>\n",
       "      <td>1</td>\n",
       "    </tr>\n",
       "    <tr>\n",
       "      <th>2</th>\n",
       "      <td>1</td>\n",
       "      <td>2022-07-27</td>\n",
       "      <td>1</td>\n",
       "    </tr>\n",
       "    <tr>\n",
       "      <th>3</th>\n",
       "      <td>1</td>\n",
       "      <td>2022-07-28</td>\n",
       "      <td>1</td>\n",
       "    </tr>\n",
       "    <tr>\n",
       "      <th>4</th>\n",
       "      <td>1</td>\n",
       "      <td>2022-07-29</td>\n",
       "      <td>1</td>\n",
       "    </tr>\n",
       "  </tbody>\n",
       "</table>\n",
       "</div>"
      ],
      "text/plain": [
       "   Encoded_SKU_ID SALES_DATE  predicted\n",
       "0               1 2022-07-25          1\n",
       "1               1 2022-07-26          1\n",
       "2               1 2022-07-27          1\n",
       "3               1 2022-07-28          1\n",
       "4               1 2022-07-29          1"
      ]
     },
     "execution_count": 11,
     "metadata": {},
     "output_type": "execute_result"
    }
   ],
   "source": [
    "y_pred_null = pd.read_csv(\"../../data/null_prediction_validation_result_v0.csv\").drop(columns = \"Unnamed: 0\")\n",
    "y_pred_null[\"SALES_DATE\"] = pd.to_datetime(y_pred_null[\"SALES_DATE\"])\n",
    "y_pred_null.head()"
   ]
  },
  {
   "cell_type": "code",
   "execution_count": 14,
   "id": "5a037c21",
   "metadata": {},
   "outputs": [
    {
     "data": {
      "text/plain": [
       "6.59603916258372"
      ]
     },
     "execution_count": 14,
     "metadata": {},
     "output_type": "execute_result"
    }
   ],
   "source": [
    "rmse(y_act,y_pred_null)"
   ]
  },
  {
   "cell_type": "markdown",
   "id": "4d27f304",
   "metadata": {},
   "source": [
    "### y_pred HMM"
   ]
  },
  {
   "cell_type": "code",
   "execution_count": 26,
   "id": "d31855c9",
   "metadata": {},
   "outputs": [
    {
     "data": {
      "text/html": [
       "<div>\n",
       "<style scoped>\n",
       "    .dataframe tbody tr th:only-of-type {\n",
       "        vertical-align: middle;\n",
       "    }\n",
       "\n",
       "    .dataframe tbody tr th {\n",
       "        vertical-align: top;\n",
       "    }\n",
       "\n",
       "    .dataframe thead th {\n",
       "        text-align: right;\n",
       "    }\n",
       "</style>\n",
       "<table border=\"1\" class=\"dataframe\">\n",
       "  <thead>\n",
       "    <tr style=\"text-align: right;\">\n",
       "      <th></th>\n",
       "      <th>predicted</th>\n",
       "      <th>predicted_30</th>\n",
       "      <th>predicted_45</th>\n",
       "      <th>predicted_60</th>\n",
       "      <th>predicted_max</th>\n",
       "      <th>Encoded_SKU_ID</th>\n",
       "    </tr>\n",
       "  </thead>\n",
       "  <tbody>\n",
       "    <tr>\n",
       "      <th>2022-07-25</th>\n",
       "      <td>1.0</td>\n",
       "      <td>0.0</td>\n",
       "      <td>0.5</td>\n",
       "      <td>1.0</td>\n",
       "      <td>1.0</td>\n",
       "      <td>7</td>\n",
       "    </tr>\n",
       "    <tr>\n",
       "      <th>2022-07-26</th>\n",
       "      <td>1.0</td>\n",
       "      <td>0.5</td>\n",
       "      <td>1.0</td>\n",
       "      <td>1.5</td>\n",
       "      <td>0.5</td>\n",
       "      <td>7</td>\n",
       "    </tr>\n",
       "    <tr>\n",
       "      <th>2022-07-27</th>\n",
       "      <td>1.0</td>\n",
       "      <td>0.5</td>\n",
       "      <td>0.5</td>\n",
       "      <td>1.5</td>\n",
       "      <td>0.5</td>\n",
       "      <td>7</td>\n",
       "    </tr>\n",
       "    <tr>\n",
       "      <th>2022-07-28</th>\n",
       "      <td>0.0</td>\n",
       "      <td>0.5</td>\n",
       "      <td>2.0</td>\n",
       "      <td>1.5</td>\n",
       "      <td>1.0</td>\n",
       "      <td>7</td>\n",
       "    </tr>\n",
       "    <tr>\n",
       "      <th>2022-07-29</th>\n",
       "      <td>2.0</td>\n",
       "      <td>0.5</td>\n",
       "      <td>0.0</td>\n",
       "      <td>0.5</td>\n",
       "      <td>1.0</td>\n",
       "      <td>7</td>\n",
       "    </tr>\n",
       "  </tbody>\n",
       "</table>\n",
       "</div>"
      ],
      "text/plain": [
       "            predicted  predicted_30  predicted_45  predicted_60  \\\n",
       "2022-07-25        1.0           0.0           0.5           1.0   \n",
       "2022-07-26        1.0           0.5           1.0           1.5   \n",
       "2022-07-27        1.0           0.5           0.5           1.5   \n",
       "2022-07-28        0.0           0.5           2.0           1.5   \n",
       "2022-07-29        2.0           0.5           0.0           0.5   \n",
       "\n",
       "            predicted_max  Encoded_SKU_ID  \n",
       "2022-07-25            1.0               7  \n",
       "2022-07-26            0.5               7  \n",
       "2022-07-27            0.5               7  \n",
       "2022-07-28            1.0               7  \n",
       "2022-07-29            1.0               7  "
      ]
     },
     "execution_count": 26,
     "metadata": {},
     "output_type": "execute_result"
    }
   ],
   "source": [
    "hmm_output = pd.read_csv(\"../../data/hmm_result_v0.csv\",index_col=0)\n",
    "hmm_output.head()"
   ]
  },
  {
   "cell_type": "code",
   "execution_count": 27,
   "id": "874eedf7",
   "metadata": {},
   "outputs": [],
   "source": [
    "hmm_output.index = pd.to_datetime(hmm_output.index)"
   ]
  },
  {
   "cell_type": "code",
   "execution_count": 25,
   "id": "c2e635a8",
   "metadata": {},
   "outputs": [
    {
     "data": {
      "text/plain": [
       "Encoded_SKU_ID      int64\n",
       "SALES_DATE         object\n",
       "predicted         float64\n",
       "dtype: object"
      ]
     },
     "execution_count": 25,
     "metadata": {},
     "output_type": "execute_result"
    }
   ],
   "source": [
    "y_pred_hmm.dtypes"
   ]
  },
  {
   "cell_type": "code",
   "execution_count": 29,
   "id": "ce81cc23",
   "metadata": {},
   "outputs": [],
   "source": [
    "SKUs_hmm = hmm_output[\"Encoded_SKU_ID\"].unique()\n",
    "y_pred_null_subset = y_pred_null[y_pred_null.Encoded_SKU_ID.isin(SKUs_hmm)]"
   ]
  },
  {
   "cell_type": "code",
   "execution_count": 30,
   "id": "6bf51575",
   "metadata": {},
   "outputs": [
    {
     "data": {
      "text/plain": [
       "1.2758050679584916"
      ]
     },
     "execution_count": 30,
     "metadata": {},
     "output_type": "execute_result"
    }
   ],
   "source": [
    "rmse(y_act,y_pred_null_subset)"
   ]
  },
  {
   "cell_type": "code",
   "execution_count": 31,
   "id": "3e78e565",
   "metadata": {},
   "outputs": [
    {
     "name": "stdout",
     "output_type": "stream",
     "text": [
      "For predicted, rmse(hmm) = 1.3527\n",
      "For predicted_30, rmse(hmm) = 1.3724\n",
      "For predicted_45, rmse(hmm) = 1.2986\n",
      "For predicted_60, rmse(hmm) = 1.3315\n",
      "For predicted_max, rmse(hmm) = 1.2358\n"
     ]
    }
   ],
   "source": [
    "for col in hmm_output.columns:\n",
    "    if \"pred\" in col:\n",
    "        y_pred_hmm = hmm_output.reset_index(names = \"SALES_DATE\")[[\"Encoded_SKU_ID\",\"SALES_DATE\",col\\\n",
    "                                                                  ]].rename(columns={col:\"predicted\"})\n",
    "        print (f\"For {col}, rmse(hmm) = {rmse(y_act,y_pred_hmm):.4f}\")"
   ]
  },
  {
   "cell_type": "code",
   "execution_count": 32,
   "id": "47921928",
   "metadata": {},
   "outputs": [
    {
     "data": {
      "text/plain": [
       "3.1356724442634945"
      ]
     },
     "execution_count": 32,
     "metadata": {},
     "output_type": "execute_result"
    }
   ],
   "source": [
    "(1.2758050679584916 - 1.2358)*100/1.2758050679584916"
   ]
  },
  {
   "cell_type": "markdown",
   "id": "b868bc4a",
   "metadata": {},
   "source": [
    "### RMSE SKU level"
   ]
  },
  {
   "cell_type": "code",
   "execution_count": 35,
   "id": "93725609",
   "metadata": {},
   "outputs": [],
   "source": [
    "rmse_sku_null = rmse_sku(y_act,y_pred_null)\n",
    "rmse_sku_hmm = rmse_sku(y_act,y_pred_hmm)"
   ]
  },
  {
   "cell_type": "code",
   "execution_count": 131,
   "id": "8da1f0d8",
   "metadata": {},
   "outputs": [],
   "source": [
    "rmse_sku_hmm.to_excel(\"../../results/sku_level_hmm_rmse.xlsx\")"
   ]
  },
  {
   "cell_type": "code",
   "execution_count": 39,
   "id": "afd8a3cd",
   "metadata": {},
   "outputs": [],
   "source": [
    "rmse_joined = rmse_sku_null.merge(rmse_sku_hmm, left_index = True, right_index = True,\\\n",
    "                                suffixes = (\"_null\",\"_hmm\"))"
   ]
  },
  {
   "cell_type": "code",
   "execution_count": 40,
   "id": "a6237959",
   "metadata": {},
   "outputs": [
    {
     "data": {
      "text/html": [
       "<div>\n",
       "<style scoped>\n",
       "    .dataframe tbody tr th:only-of-type {\n",
       "        vertical-align: middle;\n",
       "    }\n",
       "\n",
       "    .dataframe tbody tr th {\n",
       "        vertical-align: top;\n",
       "    }\n",
       "\n",
       "    .dataframe thead th {\n",
       "        text-align: right;\n",
       "    }\n",
       "</style>\n",
       "<table border=\"1\" class=\"dataframe\">\n",
       "  <thead>\n",
       "    <tr style=\"text-align: right;\">\n",
       "      <th></th>\n",
       "      <th>rmse_du_null</th>\n",
       "      <th>mean_du_null</th>\n",
       "      <th>pct_rmse_null</th>\n",
       "      <th>rmse_du_hmm</th>\n",
       "      <th>mean_du_hmm</th>\n",
       "      <th>pct_rmse_hmm</th>\n",
       "    </tr>\n",
       "    <tr>\n",
       "      <th>Encoded_SKU_ID</th>\n",
       "      <th></th>\n",
       "      <th></th>\n",
       "      <th></th>\n",
       "      <th></th>\n",
       "      <th></th>\n",
       "      <th></th>\n",
       "    </tr>\n",
       "  </thead>\n",
       "  <tbody>\n",
       "    <tr>\n",
       "      <th>306</th>\n",
       "      <td>4.105745</td>\n",
       "      <td>1.000000</td>\n",
       "      <td>4.105745</td>\n",
       "      <td>2.052873</td>\n",
       "      <td>1.000000</td>\n",
       "      <td>2.052873</td>\n",
       "    </tr>\n",
       "    <tr>\n",
       "      <th>380</th>\n",
       "      <td>3.316625</td>\n",
       "      <td>0.714286</td>\n",
       "      <td>4.643275</td>\n",
       "      <td>0.866025</td>\n",
       "      <td>0.714286</td>\n",
       "      <td>1.212436</td>\n",
       "    </tr>\n",
       "    <tr>\n",
       "      <th>73</th>\n",
       "      <td>3.139609</td>\n",
       "      <td>1.571429</td>\n",
       "      <td>1.997933</td>\n",
       "      <td>3.070598</td>\n",
       "      <td>1.571429</td>\n",
       "      <td>1.954017</td>\n",
       "    </tr>\n",
       "    <tr>\n",
       "      <th>526</th>\n",
       "      <td>2.777460</td>\n",
       "      <td>3.000000</td>\n",
       "      <td>0.925820</td>\n",
       "      <td>3.223795</td>\n",
       "      <td>3.000000</td>\n",
       "      <td>1.074598</td>\n",
       "    </tr>\n",
       "    <tr>\n",
       "      <th>57</th>\n",
       "      <td>2.751623</td>\n",
       "      <td>0.285714</td>\n",
       "      <td>9.630680</td>\n",
       "      <td>0.422577</td>\n",
       "      <td>0.285714</td>\n",
       "      <td>1.479020</td>\n",
       "    </tr>\n",
       "  </tbody>\n",
       "</table>\n",
       "</div>"
      ],
      "text/plain": [
       "                rmse_du_null  mean_du_null  pct_rmse_null  rmse_du_hmm  \\\n",
       "Encoded_SKU_ID                                                           \n",
       "306                 4.105745      1.000000       4.105745     2.052873   \n",
       "380                 3.316625      0.714286       4.643275     0.866025   \n",
       "73                  3.139609      1.571429       1.997933     3.070598   \n",
       "526                 2.777460      3.000000       0.925820     3.223795   \n",
       "57                  2.751623      0.285714       9.630680     0.422577   \n",
       "\n",
       "                mean_du_hmm  pct_rmse_hmm  \n",
       "Encoded_SKU_ID                             \n",
       "306                1.000000      2.052873  \n",
       "380                0.714286      1.212436  \n",
       "73                 1.571429      1.954017  \n",
       "526                3.000000      1.074598  \n",
       "57                 0.285714      1.479020  "
      ]
     },
     "execution_count": 40,
     "metadata": {},
     "output_type": "execute_result"
    }
   ],
   "source": [
    "rmse_joined.head()"
   ]
  },
  {
   "cell_type": "code",
   "execution_count": 43,
   "id": "88f02428",
   "metadata": {},
   "outputs": [
    {
     "data": {
      "text/plain": [
       "0"
      ]
     },
     "execution_count": 43,
     "metadata": {},
     "output_type": "execute_result"
    }
   ],
   "source": [
    "((rmse_joined[\"mean_du_null\"] == rmse_joined[\"mean_du_hmm\"])==False).sum()"
   ]
  },
  {
   "cell_type": "code",
   "execution_count": 44,
   "id": "63bbd8d1",
   "metadata": {},
   "outputs": [
    {
     "data": {
      "text/plain": [
       "0.44375"
      ]
     },
     "execution_count": 44,
     "metadata": {},
     "output_type": "execute_result"
    }
   ],
   "source": [
    "(rmse_joined[\"rmse_du_hmm\"] < rmse_joined[\"rmse_du_null\"]).mean()"
   ]
  },
  {
   "cell_type": "code",
   "execution_count": 45,
   "id": "a459774c",
   "metadata": {},
   "outputs": [
    {
     "data": {
      "text/plain": [
       "0.53125"
      ]
     },
     "execution_count": 45,
     "metadata": {},
     "output_type": "execute_result"
    }
   ],
   "source": [
    "(rmse_joined[\"rmse_du_hmm\"] <= rmse_joined[\"rmse_du_null\"]).mean()"
   ]
  },
  {
   "cell_type": "code",
   "execution_count": 46,
   "id": "5d81c3b7",
   "metadata": {},
   "outputs": [
    {
     "data": {
      "text/html": [
       "<div>\n",
       "<style scoped>\n",
       "    .dataframe tbody tr th:only-of-type {\n",
       "        vertical-align: middle;\n",
       "    }\n",
       "\n",
       "    .dataframe tbody tr th {\n",
       "        vertical-align: top;\n",
       "    }\n",
       "\n",
       "    .dataframe thead th {\n",
       "        text-align: right;\n",
       "    }\n",
       "</style>\n",
       "<table border=\"1\" class=\"dataframe\">\n",
       "  <thead>\n",
       "    <tr style=\"text-align: right;\">\n",
       "      <th></th>\n",
       "      <th>rmse_du_null</th>\n",
       "      <th>mean_du_null</th>\n",
       "      <th>pct_rmse_null</th>\n",
       "      <th>rmse_du_hmm</th>\n",
       "      <th>mean_du_hmm</th>\n",
       "      <th>pct_rmse_hmm</th>\n",
       "      <th>delta_rmse</th>\n",
       "    </tr>\n",
       "    <tr>\n",
       "      <th>Encoded_SKU_ID</th>\n",
       "      <th></th>\n",
       "      <th></th>\n",
       "      <th></th>\n",
       "      <th></th>\n",
       "      <th></th>\n",
       "      <th></th>\n",
       "      <th></th>\n",
       "    </tr>\n",
       "  </thead>\n",
       "  <tbody>\n",
       "    <tr>\n",
       "      <th>380</th>\n",
       "      <td>3.316625</td>\n",
       "      <td>0.714286</td>\n",
       "      <td>4.643275</td>\n",
       "      <td>0.866025</td>\n",
       "      <td>0.714286</td>\n",
       "      <td>1.212436</td>\n",
       "      <td>2.450599</td>\n",
       "    </tr>\n",
       "    <tr>\n",
       "      <th>57</th>\n",
       "      <td>2.751623</td>\n",
       "      <td>0.285714</td>\n",
       "      <td>9.630680</td>\n",
       "      <td>0.422577</td>\n",
       "      <td>0.285714</td>\n",
       "      <td>1.479020</td>\n",
       "      <td>2.329046</td>\n",
       "    </tr>\n",
       "    <tr>\n",
       "      <th>306</th>\n",
       "      <td>4.105745</td>\n",
       "      <td>1.000000</td>\n",
       "      <td>4.105745</td>\n",
       "      <td>2.052873</td>\n",
       "      <td>1.000000</td>\n",
       "      <td>2.052873</td>\n",
       "      <td>2.052873</td>\n",
       "    </tr>\n",
       "    <tr>\n",
       "      <th>245</th>\n",
       "      <td>2.329929</td>\n",
       "      <td>0.714286</td>\n",
       "      <td>3.261901</td>\n",
       "      <td>0.534522</td>\n",
       "      <td>0.714286</td>\n",
       "      <td>0.748331</td>\n",
       "      <td>1.795407</td>\n",
       "    </tr>\n",
       "    <tr>\n",
       "      <th>397</th>\n",
       "      <td>2.390457</td>\n",
       "      <td>0.714286</td>\n",
       "      <td>3.346640</td>\n",
       "      <td>1.000000</td>\n",
       "      <td>0.714286</td>\n",
       "      <td>1.400000</td>\n",
       "      <td>1.390457</td>\n",
       "    </tr>\n",
       "    <tr>\n",
       "      <th>...</th>\n",
       "      <td>...</td>\n",
       "      <td>...</td>\n",
       "      <td>...</td>\n",
       "      <td>...</td>\n",
       "      <td>...</td>\n",
       "      <td>...</td>\n",
       "      <td>...</td>\n",
       "    </tr>\n",
       "    <tr>\n",
       "      <th>519</th>\n",
       "      <td>0.654654</td>\n",
       "      <td>0.428571</td>\n",
       "      <td>1.527525</td>\n",
       "      <td>2.000000</td>\n",
       "      <td>0.428571</td>\n",
       "      <td>4.666667</td>\n",
       "      <td>-1.345346</td>\n",
       "    </tr>\n",
       "    <tr>\n",
       "      <th>27</th>\n",
       "      <td>0.534522</td>\n",
       "      <td>0.285714</td>\n",
       "      <td>1.870829</td>\n",
       "      <td>1.927248</td>\n",
       "      <td>0.285714</td>\n",
       "      <td>6.745369</td>\n",
       "      <td>-1.392726</td>\n",
       "    </tr>\n",
       "    <tr>\n",
       "      <th>465</th>\n",
       "      <td>1.511858</td>\n",
       "      <td>2.857143</td>\n",
       "      <td>0.529150</td>\n",
       "      <td>3.023716</td>\n",
       "      <td>2.857143</td>\n",
       "      <td>1.058301</td>\n",
       "      <td>-1.511858</td>\n",
       "    </tr>\n",
       "    <tr>\n",
       "      <th>30</th>\n",
       "      <td>0.845154</td>\n",
       "      <td>1.142857</td>\n",
       "      <td>0.739510</td>\n",
       "      <td>2.679286</td>\n",
       "      <td>1.142857</td>\n",
       "      <td>2.344375</td>\n",
       "      <td>-1.834131</td>\n",
       "    </tr>\n",
       "    <tr>\n",
       "      <th>447</th>\n",
       "      <td>1.463850</td>\n",
       "      <td>2.000000</td>\n",
       "      <td>0.731925</td>\n",
       "      <td>3.712912</td>\n",
       "      <td>2.000000</td>\n",
       "      <td>1.856456</td>\n",
       "      <td>-2.249062</td>\n",
       "    </tr>\n",
       "  </tbody>\n",
       "</table>\n",
       "<p>160 rows × 7 columns</p>\n",
       "</div>"
      ],
      "text/plain": [
       "                rmse_du_null  mean_du_null  pct_rmse_null  rmse_du_hmm  \\\n",
       "Encoded_SKU_ID                                                           \n",
       "380                 3.316625      0.714286       4.643275     0.866025   \n",
       "57                  2.751623      0.285714       9.630680     0.422577   \n",
       "306                 4.105745      1.000000       4.105745     2.052873   \n",
       "245                 2.329929      0.714286       3.261901     0.534522   \n",
       "397                 2.390457      0.714286       3.346640     1.000000   \n",
       "...                      ...           ...            ...          ...   \n",
       "519                 0.654654      0.428571       1.527525     2.000000   \n",
       "27                  0.534522      0.285714       1.870829     1.927248   \n",
       "465                 1.511858      2.857143       0.529150     3.023716   \n",
       "30                  0.845154      1.142857       0.739510     2.679286   \n",
       "447                 1.463850      2.000000       0.731925     3.712912   \n",
       "\n",
       "                mean_du_hmm  pct_rmse_hmm  delta_rmse  \n",
       "Encoded_SKU_ID                                         \n",
       "380                0.714286      1.212436    2.450599  \n",
       "57                 0.285714      1.479020    2.329046  \n",
       "306                1.000000      2.052873    2.052873  \n",
       "245                0.714286      0.748331    1.795407  \n",
       "397                0.714286      1.400000    1.390457  \n",
       "...                     ...           ...         ...  \n",
       "519                0.428571      4.666667   -1.345346  \n",
       "27                 0.285714      6.745369   -1.392726  \n",
       "465                2.857143      1.058301   -1.511858  \n",
       "30                 1.142857      2.344375   -1.834131  \n",
       "447                2.000000      1.856456   -2.249062  \n",
       "\n",
       "[160 rows x 7 columns]"
      ]
     },
     "execution_count": 46,
     "metadata": {},
     "output_type": "execute_result"
    }
   ],
   "source": [
    "rmse_joined[\"delta_rmse\"] = rmse_joined[\"rmse_du_null\"] - rmse_joined[\"rmse_du_hmm\"]\n",
    "rmse_joined.sort_values(by=\"delta_rmse\", ascending = False)"
   ]
  },
  {
   "cell_type": "code",
   "execution_count": 48,
   "id": "3f18b6b1",
   "metadata": {},
   "outputs": [
    {
     "data": {
      "text/plain": [
       "0.7686116700201207"
      ]
     },
     "execution_count": 48,
     "metadata": {},
     "output_type": "execute_result"
    }
   ],
   "source": [
    "rmse_joined.loc[rmse_joined[\"delta_rmse\"]>0.0][\"mean_du_null\"].mean()"
   ]
  },
  {
   "cell_type": "code",
   "execution_count": 49,
   "id": "ca3a4eb8",
   "metadata": {},
   "outputs": [
    {
     "data": {
      "text/plain": [
       "0.5"
      ]
     },
     "execution_count": 49,
     "metadata": {},
     "output_type": "execute_result"
    }
   ],
   "source": [
    "rmse_joined.loc[rmse_joined[\"delta_rmse\"]==0.0][\"mean_du_null\"].mean()"
   ]
  },
  {
   "cell_type": "code",
   "execution_count": 50,
   "id": "82e43574",
   "metadata": {},
   "outputs": [
    {
     "data": {
      "text/plain": [
       "0.8400000000000001"
      ]
     },
     "execution_count": 50,
     "metadata": {},
     "output_type": "execute_result"
    }
   ],
   "source": [
    "rmse_joined.loc[rmse_joined[\"delta_rmse\"]<0.0][\"mean_du_null\"].mean()"
   ]
  },
  {
   "cell_type": "code",
   "execution_count": 51,
   "id": "0db50ed8",
   "metadata": {},
   "outputs": [
    {
     "data": {
      "text/html": [
       "<div>\n",
       "<style scoped>\n",
       "    .dataframe tbody tr th:only-of-type {\n",
       "        vertical-align: middle;\n",
       "    }\n",
       "\n",
       "    .dataframe tbody tr th {\n",
       "        vertical-align: top;\n",
       "    }\n",
       "\n",
       "    .dataframe thead th {\n",
       "        text-align: right;\n",
       "    }\n",
       "</style>\n",
       "<table border=\"1\" class=\"dataframe\">\n",
       "  <thead>\n",
       "    <tr style=\"text-align: right;\">\n",
       "      <th></th>\n",
       "      <th>rmse_du_null</th>\n",
       "      <th>mean_du_null</th>\n",
       "      <th>pct_rmse_null</th>\n",
       "      <th>rmse_du_hmm</th>\n",
       "      <th>mean_du_hmm</th>\n",
       "      <th>pct_rmse_hmm</th>\n",
       "      <th>delta_rmse</th>\n",
       "    </tr>\n",
       "    <tr>\n",
       "      <th>Encoded_SKU_ID</th>\n",
       "      <th></th>\n",
       "      <th></th>\n",
       "      <th></th>\n",
       "      <th></th>\n",
       "      <th></th>\n",
       "      <th></th>\n",
       "      <th></th>\n",
       "    </tr>\n",
       "  </thead>\n",
       "  <tbody>\n",
       "    <tr>\n",
       "      <th>447</th>\n",
       "      <td>1.463850</td>\n",
       "      <td>2.000000</td>\n",
       "      <td>0.731925</td>\n",
       "      <td>3.712912</td>\n",
       "      <td>2.000000</td>\n",
       "      <td>1.856456</td>\n",
       "      <td>-2.249062</td>\n",
       "    </tr>\n",
       "    <tr>\n",
       "      <th>30</th>\n",
       "      <td>0.845154</td>\n",
       "      <td>1.142857</td>\n",
       "      <td>0.739510</td>\n",
       "      <td>2.679286</td>\n",
       "      <td>1.142857</td>\n",
       "      <td>2.344375</td>\n",
       "      <td>-1.834131</td>\n",
       "    </tr>\n",
       "    <tr>\n",
       "      <th>465</th>\n",
       "      <td>1.511858</td>\n",
       "      <td>2.857143</td>\n",
       "      <td>0.529150</td>\n",
       "      <td>3.023716</td>\n",
       "      <td>2.857143</td>\n",
       "      <td>1.058301</td>\n",
       "      <td>-1.511858</td>\n",
       "    </tr>\n",
       "    <tr>\n",
       "      <th>27</th>\n",
       "      <td>0.534522</td>\n",
       "      <td>0.285714</td>\n",
       "      <td>1.870829</td>\n",
       "      <td>1.927248</td>\n",
       "      <td>0.285714</td>\n",
       "      <td>6.745369</td>\n",
       "      <td>-1.392726</td>\n",
       "    </tr>\n",
       "    <tr>\n",
       "      <th>519</th>\n",
       "      <td>0.654654</td>\n",
       "      <td>0.428571</td>\n",
       "      <td>1.527525</td>\n",
       "      <td>2.000000</td>\n",
       "      <td>0.428571</td>\n",
       "      <td>4.666667</td>\n",
       "      <td>-1.345346</td>\n",
       "    </tr>\n",
       "    <tr>\n",
       "      <th>...</th>\n",
       "      <td>...</td>\n",
       "      <td>...</td>\n",
       "      <td>...</td>\n",
       "      <td>...</td>\n",
       "      <td>...</td>\n",
       "      <td>...</td>\n",
       "      <td>...</td>\n",
       "    </tr>\n",
       "    <tr>\n",
       "      <th>397</th>\n",
       "      <td>2.390457</td>\n",
       "      <td>0.714286</td>\n",
       "      <td>3.346640</td>\n",
       "      <td>1.000000</td>\n",
       "      <td>0.714286</td>\n",
       "      <td>1.400000</td>\n",
       "      <td>1.390457</td>\n",
       "    </tr>\n",
       "    <tr>\n",
       "      <th>245</th>\n",
       "      <td>2.329929</td>\n",
       "      <td>0.714286</td>\n",
       "      <td>3.261901</td>\n",
       "      <td>0.534522</td>\n",
       "      <td>0.714286</td>\n",
       "      <td>0.748331</td>\n",
       "      <td>1.795407</td>\n",
       "    </tr>\n",
       "    <tr>\n",
       "      <th>306</th>\n",
       "      <td>4.105745</td>\n",
       "      <td>1.000000</td>\n",
       "      <td>4.105745</td>\n",
       "      <td>2.052873</td>\n",
       "      <td>1.000000</td>\n",
       "      <td>2.052873</td>\n",
       "      <td>2.052873</td>\n",
       "    </tr>\n",
       "    <tr>\n",
       "      <th>57</th>\n",
       "      <td>2.751623</td>\n",
       "      <td>0.285714</td>\n",
       "      <td>9.630680</td>\n",
       "      <td>0.422577</td>\n",
       "      <td>0.285714</td>\n",
       "      <td>1.479020</td>\n",
       "      <td>2.329046</td>\n",
       "    </tr>\n",
       "    <tr>\n",
       "      <th>380</th>\n",
       "      <td>3.316625</td>\n",
       "      <td>0.714286</td>\n",
       "      <td>4.643275</td>\n",
       "      <td>0.866025</td>\n",
       "      <td>0.714286</td>\n",
       "      <td>1.212436</td>\n",
       "      <td>2.450599</td>\n",
       "    </tr>\n",
       "  </tbody>\n",
       "</table>\n",
       "<p>160 rows × 7 columns</p>\n",
       "</div>"
      ],
      "text/plain": [
       "                rmse_du_null  mean_du_null  pct_rmse_null  rmse_du_hmm  \\\n",
       "Encoded_SKU_ID                                                           \n",
       "447                 1.463850      2.000000       0.731925     3.712912   \n",
       "30                  0.845154      1.142857       0.739510     2.679286   \n",
       "465                 1.511858      2.857143       0.529150     3.023716   \n",
       "27                  0.534522      0.285714       1.870829     1.927248   \n",
       "519                 0.654654      0.428571       1.527525     2.000000   \n",
       "...                      ...           ...            ...          ...   \n",
       "397                 2.390457      0.714286       3.346640     1.000000   \n",
       "245                 2.329929      0.714286       3.261901     0.534522   \n",
       "306                 4.105745      1.000000       4.105745     2.052873   \n",
       "57                  2.751623      0.285714       9.630680     0.422577   \n",
       "380                 3.316625      0.714286       4.643275     0.866025   \n",
       "\n",
       "                mean_du_hmm  pct_rmse_hmm  delta_rmse  \n",
       "Encoded_SKU_ID                                         \n",
       "447                2.000000      1.856456   -2.249062  \n",
       "30                 1.142857      2.344375   -1.834131  \n",
       "465                2.857143      1.058301   -1.511858  \n",
       "27                 0.285714      6.745369   -1.392726  \n",
       "519                0.428571      4.666667   -1.345346  \n",
       "...                     ...           ...         ...  \n",
       "397                0.714286      1.400000    1.390457  \n",
       "245                0.714286      0.748331    1.795407  \n",
       "306                1.000000      2.052873    2.052873  \n",
       "57                 0.285714      1.479020    2.329046  \n",
       "380                0.714286      1.212436    2.450599  \n",
       "\n",
       "[160 rows x 7 columns]"
      ]
     },
     "execution_count": 51,
     "metadata": {},
     "output_type": "execute_result"
    }
   ],
   "source": [
    "rmse_joined.sort_values(by=\"delta_rmse\", ascending = True)"
   ]
  },
  {
   "cell_type": "markdown",
   "id": "a5c52c72",
   "metadata": {},
   "source": [
    "### Plot some preds"
   ]
  },
  {
   "cell_type": "code",
   "execution_count": 82,
   "id": "8d08312c",
   "metadata": {},
   "outputs": [
    {
     "data": {
      "image/png": "[encoded data removed]",
      "text/plain": [
       "<Figure size 1200x600 with 2 Axes>"
      ]
     },
     "metadata": {},
     "output_type": "display_data"
    }
   ],
   "source": [
    "sku_id = 447\n",
    "fig, ax = plt.subplots(1,2, figsize=(12,6))\n",
    "plot_pred_sku(train,y_act, y_pred_null, sku_id, ax1 = ax[0])\n",
    "plot_pred_sku(train,y_act, y_pred_hmm, sku_id, ax1 = ax[1])"
   ]
  },
  {
   "cell_type": "code",
   "execution_count": 83,
   "id": "58bcffe3",
   "metadata": {},
   "outputs": [
    {
     "data": {
      "image/png": "[encoded data removed]",
      "text/plain": [
       "<Figure size 1200x600 with 2 Axes>"
      ]
     },
     "metadata": {},
     "output_type": "display_data"
    }
   ],
   "source": [
    "sku_id = 30\n",
    "fig, ax = plt.subplots(1,2, figsize=(12,6))\n",
    "plot_pred_sku(train,y_act, y_pred_null, sku_id, ax1 = ax[0])\n",
    "plot_pred_sku(train,y_act, y_pred_hmm, sku_id, ax1 = ax[1])"
   ]
  },
  {
   "cell_type": "code",
   "execution_count": 84,
   "id": "8f432c55",
   "metadata": {},
   "outputs": [
    {
     "data": {
      "image/png": "[encoded data removed]",
      "text/plain": [
       "<Figure size 1200x600 with 2 Axes>"
      ]
     },
     "metadata": {},
     "output_type": "display_data"
    }
   ],
   "source": [
    "sku_id = 380\n",
    "fig, ax = plt.subplots(1,2, figsize=(12,6))\n",
    "plot_pred_sku(train,y_act, y_pred_null, sku_id, ax1 = ax[0])\n",
    "plot_pred_sku(train,y_act, y_pred_hmm, sku_id, ax1 = ax[1])"
   ]
  },
  {
   "cell_type": "code",
   "execution_count": 85,
   "id": "fe19d23e",
   "metadata": {},
   "outputs": [
    {
     "data": {
      "image/png": "[encoded data removed]",
      "text/plain": [
       "<Figure size 1200x600 with 2 Axes>"
      ]
     },
     "metadata": {},
     "output_type": "display_data"
    }
   ],
   "source": [
    "sku_id = 57\n",
    "fig, ax = plt.subplots(1,2, figsize=(12,6))\n",
    "plot_pred_sku(train,y_act, y_pred_null, sku_id, ax1 = ax[0])\n",
    "plot_pred_sku(train,y_act, y_pred_hmm, sku_id, ax1 = ax[1])"
   ]
  },
  {
   "cell_type": "markdown",
   "id": "75696fc4",
   "metadata": {},
   "source": [
    "### Pick best prediction column for each SKU"
   ]
  },
  {
   "cell_type": "code",
   "execution_count": 89,
   "id": "a0569eb4",
   "metadata": {},
   "outputs": [],
   "source": [
    "rmse_sku_hmm_dates = pd.DataFrame()\n",
    "for i,col in enumerate(hmm_output.columns):\n",
    "    if \"pred\" in col:\n",
    "        y_pred_hmm = hmm_output.reset_index(names = \"SALES_DATE\")[[\"Encoded_SKU_ID\",\"SALES_DATE\",col\\\n",
    "                                                                  ]].rename(columns={col:\"predicted\"})\n",
    "        rmse_sku_hmm_i = rmse_sku(y_act,y_pred_hmm)\n",
    "        if i ==0:\n",
    "            rmse_sku_hmm_dates = rmse_sku_hmm_i\n",
    "        else:\n",
    "            rmse_sku_hmm_dates = rmse_sku_hmm_dates.merge(rmse_sku_hmm, left_index = True, right_index = True,\\\n",
    "                                suffixes = (\"\",f\"_{col.split('_')[-1]}\"))"
   ]
  },
  {
   "cell_type": "code",
   "execution_count": 132,
   "id": "cf94a4de",
   "metadata": {},
   "outputs": [
    {
     "data": {
      "text/html": [
       "<div>\n",
       "<style scoped>\n",
       "    .dataframe tbody tr th:only-of-type {\n",
       "        vertical-align: middle;\n",
       "    }\n",
       "\n",
       "    .dataframe tbody tr th {\n",
       "        vertical-align: top;\n",
       "    }\n",
       "\n",
       "    .dataframe thead th {\n",
       "        text-align: right;\n",
       "    }\n",
       "</style>\n",
       "<table border=\"1\" class=\"dataframe\">\n",
       "  <thead>\n",
       "    <tr style=\"text-align: right;\">\n",
       "      <th></th>\n",
       "      <th>rmse_du</th>\n",
       "      <th>rmse_du_30</th>\n",
       "      <th>rmse_du_45</th>\n",
       "      <th>rmse_du_60</th>\n",
       "      <th>rmse_du_max</th>\n",
       "    </tr>\n",
       "    <tr>\n",
       "      <th>Encoded_SKU_ID</th>\n",
       "      <th></th>\n",
       "      <th></th>\n",
       "      <th></th>\n",
       "      <th></th>\n",
       "      <th></th>\n",
       "    </tr>\n",
       "  </thead>\n",
       "  <tbody>\n",
       "    <tr>\n",
       "      <th>447</th>\n",
       "      <td>5.147815</td>\n",
       "      <td>3.712912</td>\n",
       "      <td>3.712912</td>\n",
       "      <td>3.712912</td>\n",
       "      <td>3.712912</td>\n",
       "    </tr>\n",
       "    <tr>\n",
       "      <th>73</th>\n",
       "      <td>3.070598</td>\n",
       "      <td>3.070598</td>\n",
       "      <td>3.070598</td>\n",
       "      <td>3.070598</td>\n",
       "      <td>3.070598</td>\n",
       "    </tr>\n",
       "    <tr>\n",
       "      <th>53</th>\n",
       "      <td>2.853569</td>\n",
       "      <td>2.070197</td>\n",
       "      <td>2.070197</td>\n",
       "      <td>2.070197</td>\n",
       "      <td>2.070197</td>\n",
       "    </tr>\n",
       "    <tr>\n",
       "      <th>465</th>\n",
       "      <td>2.738613</td>\n",
       "      <td>3.023716</td>\n",
       "      <td>3.023716</td>\n",
       "      <td>3.023716</td>\n",
       "      <td>3.023716</td>\n",
       "    </tr>\n",
       "    <tr>\n",
       "      <th>543</th>\n",
       "      <td>2.535463</td>\n",
       "      <td>1.133893</td>\n",
       "      <td>1.133893</td>\n",
       "      <td>1.133893</td>\n",
       "      <td>1.133893</td>\n",
       "    </tr>\n",
       "    <tr>\n",
       "      <th>...</th>\n",
       "      <td>...</td>\n",
       "      <td>...</td>\n",
       "      <td>...</td>\n",
       "      <td>...</td>\n",
       "      <td>...</td>\n",
       "    </tr>\n",
       "    <tr>\n",
       "      <th>51</th>\n",
       "      <td>0.422577</td>\n",
       "      <td>0.866025</td>\n",
       "      <td>0.866025</td>\n",
       "      <td>0.866025</td>\n",
       "      <td>0.866025</td>\n",
       "    </tr>\n",
       "    <tr>\n",
       "      <th>389</th>\n",
       "      <td>0.422577</td>\n",
       "      <td>0.500000</td>\n",
       "      <td>0.500000</td>\n",
       "      <td>0.500000</td>\n",
       "      <td>0.500000</td>\n",
       "    </tr>\n",
       "    <tr>\n",
       "      <th>308</th>\n",
       "      <td>0.377964</td>\n",
       "      <td>0.654654</td>\n",
       "      <td>0.654654</td>\n",
       "      <td>0.654654</td>\n",
       "      <td>0.654654</td>\n",
       "    </tr>\n",
       "    <tr>\n",
       "      <th>368</th>\n",
       "      <td>0.377964</td>\n",
       "      <td>0.731925</td>\n",
       "      <td>0.731925</td>\n",
       "      <td>0.731925</td>\n",
       "      <td>0.731925</td>\n",
       "    </tr>\n",
       "    <tr>\n",
       "      <th>289</th>\n",
       "      <td>0.377964</td>\n",
       "      <td>0.963624</td>\n",
       "      <td>0.963624</td>\n",
       "      <td>0.963624</td>\n",
       "      <td>0.963624</td>\n",
       "    </tr>\n",
       "  </tbody>\n",
       "</table>\n",
       "<p>160 rows × 5 columns</p>\n",
       "</div>"
      ],
      "text/plain": [
       "                 rmse_du  rmse_du_30  rmse_du_45  rmse_du_60  rmse_du_max\n",
       "Encoded_SKU_ID                                                           \n",
       "447             5.147815    3.712912    3.712912    3.712912     3.712912\n",
       "73              3.070598    3.070598    3.070598    3.070598     3.070598\n",
       "53              2.853569    2.070197    2.070197    2.070197     2.070197\n",
       "465             2.738613    3.023716    3.023716    3.023716     3.023716\n",
       "543             2.535463    1.133893    1.133893    1.133893     1.133893\n",
       "...                  ...         ...         ...         ...          ...\n",
       "51              0.422577    0.866025    0.866025    0.866025     0.866025\n",
       "389             0.422577    0.500000    0.500000    0.500000     0.500000\n",
       "308             0.377964    0.654654    0.654654    0.654654     0.654654\n",
       "368             0.377964    0.731925    0.731925    0.731925     0.731925\n",
       "289             0.377964    0.963624    0.963624    0.963624     0.963624\n",
       "\n",
       "[160 rows x 5 columns]"
      ]
     },
     "execution_count": 132,
     "metadata": {},
     "output_type": "execute_result"
    }
   ],
   "source": [
    "rmse_sku_hmm_dates[[col for col in rmse_sku_hmm_dates.columns if \"rmse_du\" in col\\\n",
    "                                                    ]]"
   ]
  },
  {
   "cell_type": "code",
   "execution_count": 106,
   "id": "af149e75",
   "metadata": {},
   "outputs": [],
   "source": [
    "rmse_sku_hmm_dates[\"min_rmse\"] = rmse_sku_hmm_dates[[col for col in rmse_sku_hmm_dates.columns if \"rmse_du\" in col\\\n",
    "                                                    ]].min()\n",
    "\n",
    "rmse_sku_hmm_dates[\"argmin_period\"] = np.argmin(rmse_sku_hmm_dates[[col for col in rmse_sku_hmm_dates.columns if \"rmse_du\" in col\\\n",
    "                                                    ]].values,axis=1)"
   ]
  },
  {
   "cell_type": "code",
   "execution_count": 107,
   "id": "ee61fd28",
   "metadata": {},
   "outputs": [
    {
     "data": {
      "text/plain": [
       "array(['rmse_du', 'rmse_du_30', 'rmse_du_45', 'rmse_du_60', 'rmse_du_max'],\n",
       "      dtype='<U11')"
      ]
     },
     "execution_count": 107,
     "metadata": {},
     "output_type": "execute_result"
    }
   ],
   "source": [
    "col_list = np.array([col for col in rmse_sku_hmm_dates.columns if \"rmse_du\" in col])\n",
    "col_list"
   ]
  },
  {
   "cell_type": "code",
   "execution_count": 108,
   "id": "fcc658f4",
   "metadata": {},
   "outputs": [],
   "source": [
    "rmse_sku_hmm_dates[\"min_period\"] = rmse_sku_hmm_dates[\"argmin_period\"].apply(lambda x: col_list[x])"
   ]
  },
  {
   "cell_type": "markdown",
   "id": "02ea3658",
   "metadata": {},
   "source": [
    "#### Get prediction basis best rmse"
   ]
  },
  {
   "cell_type": "code",
   "execution_count": 111,
   "id": "f892de4c",
   "metadata": {},
   "outputs": [
    {
     "data": {
      "text/html": [
       "<div>\n",
       "<style scoped>\n",
       "    .dataframe tbody tr th:only-of-type {\n",
       "        vertical-align: middle;\n",
       "    }\n",
       "\n",
       "    .dataframe tbody tr th {\n",
       "        vertical-align: top;\n",
       "    }\n",
       "\n",
       "    .dataframe thead th {\n",
       "        text-align: right;\n",
       "    }\n",
       "</style>\n",
       "<table border=\"1\" class=\"dataframe\">\n",
       "  <thead>\n",
       "    <tr style=\"text-align: right;\">\n",
       "      <th></th>\n",
       "      <th>rmse_du</th>\n",
       "      <th>mean_du</th>\n",
       "      <th>pct_rmse</th>\n",
       "      <th>rmse_du_30</th>\n",
       "      <th>mean_du_30</th>\n",
       "      <th>pct_rmse_30</th>\n",
       "      <th>rmse_du_45</th>\n",
       "      <th>mean_du_45</th>\n",
       "      <th>pct_rmse_45</th>\n",
       "      <th>rmse_du_60</th>\n",
       "      <th>mean_du_60</th>\n",
       "      <th>pct_rmse_60</th>\n",
       "      <th>rmse_du_max</th>\n",
       "      <th>mean_du_max</th>\n",
       "      <th>pct_rmse_max</th>\n",
       "      <th>min_rmse</th>\n",
       "      <th>argmin_period</th>\n",
       "      <th>min_period</th>\n",
       "    </tr>\n",
       "    <tr>\n",
       "      <th>Encoded_SKU_ID</th>\n",
       "      <th></th>\n",
       "      <th></th>\n",
       "      <th></th>\n",
       "      <th></th>\n",
       "      <th></th>\n",
       "      <th></th>\n",
       "      <th></th>\n",
       "      <th></th>\n",
       "      <th></th>\n",
       "      <th></th>\n",
       "      <th></th>\n",
       "      <th></th>\n",
       "      <th></th>\n",
       "      <th></th>\n",
       "      <th></th>\n",
       "      <th></th>\n",
       "      <th></th>\n",
       "      <th></th>\n",
       "    </tr>\n",
       "  </thead>\n",
       "  <tbody>\n",
       "    <tr>\n",
       "      <th>447</th>\n",
       "      <td>5.147815</td>\n",
       "      <td>2.000000</td>\n",
       "      <td>2.573908</td>\n",
       "      <td>3.712912</td>\n",
       "      <td>2.000000</td>\n",
       "      <td>1.856456</td>\n",
       "      <td>3.712912</td>\n",
       "      <td>2.000000</td>\n",
       "      <td>1.856456</td>\n",
       "      <td>3.712912</td>\n",
       "      <td>2.000000</td>\n",
       "      <td>1.856456</td>\n",
       "      <td>3.712912</td>\n",
       "      <td>2.000000</td>\n",
       "      <td>1.856456</td>\n",
       "      <td>NaN</td>\n",
       "      <td>1</td>\n",
       "      <td>rmse_du_30</td>\n",
       "    </tr>\n",
       "    <tr>\n",
       "      <th>73</th>\n",
       "      <td>3.070598</td>\n",
       "      <td>1.571429</td>\n",
       "      <td>1.954017</td>\n",
       "      <td>3.070598</td>\n",
       "      <td>1.571429</td>\n",
       "      <td>1.954017</td>\n",
       "      <td>3.070598</td>\n",
       "      <td>1.571429</td>\n",
       "      <td>1.954017</td>\n",
       "      <td>3.070598</td>\n",
       "      <td>1.571429</td>\n",
       "      <td>1.954017</td>\n",
       "      <td>3.070598</td>\n",
       "      <td>1.571429</td>\n",
       "      <td>1.954017</td>\n",
       "      <td>NaN</td>\n",
       "      <td>0</td>\n",
       "      <td>rmse_du</td>\n",
       "    </tr>\n",
       "    <tr>\n",
       "      <th>53</th>\n",
       "      <td>2.853569</td>\n",
       "      <td>2.285714</td>\n",
       "      <td>1.248437</td>\n",
       "      <td>2.070197</td>\n",
       "      <td>2.285714</td>\n",
       "      <td>0.905711</td>\n",
       "      <td>2.070197</td>\n",
       "      <td>2.285714</td>\n",
       "      <td>0.905711</td>\n",
       "      <td>2.070197</td>\n",
       "      <td>2.285714</td>\n",
       "      <td>0.905711</td>\n",
       "      <td>2.070197</td>\n",
       "      <td>2.285714</td>\n",
       "      <td>0.905711</td>\n",
       "      <td>NaN</td>\n",
       "      <td>1</td>\n",
       "      <td>rmse_du_30</td>\n",
       "    </tr>\n",
       "    <tr>\n",
       "      <th>465</th>\n",
       "      <td>2.738613</td>\n",
       "      <td>2.857143</td>\n",
       "      <td>0.958514</td>\n",
       "      <td>3.023716</td>\n",
       "      <td>2.857143</td>\n",
       "      <td>1.058301</td>\n",
       "      <td>3.023716</td>\n",
       "      <td>2.857143</td>\n",
       "      <td>1.058301</td>\n",
       "      <td>3.023716</td>\n",
       "      <td>2.857143</td>\n",
       "      <td>1.058301</td>\n",
       "      <td>3.023716</td>\n",
       "      <td>2.857143</td>\n",
       "      <td>1.058301</td>\n",
       "      <td>NaN</td>\n",
       "      <td>0</td>\n",
       "      <td>rmse_du</td>\n",
       "    </tr>\n",
       "    <tr>\n",
       "      <th>543</th>\n",
       "      <td>2.535463</td>\n",
       "      <td>0.571429</td>\n",
       "      <td>4.437060</td>\n",
       "      <td>1.133893</td>\n",
       "      <td>0.571429</td>\n",
       "      <td>1.984313</td>\n",
       "      <td>1.133893</td>\n",
       "      <td>0.571429</td>\n",
       "      <td>1.984313</td>\n",
       "      <td>1.133893</td>\n",
       "      <td>0.571429</td>\n",
       "      <td>1.984313</td>\n",
       "      <td>1.133893</td>\n",
       "      <td>0.571429</td>\n",
       "      <td>1.984313</td>\n",
       "      <td>NaN</td>\n",
       "      <td>1</td>\n",
       "      <td>rmse_du_30</td>\n",
       "    </tr>\n",
       "  </tbody>\n",
       "</table>\n",
       "</div>"
      ],
      "text/plain": [
       "                 rmse_du   mean_du  pct_rmse  rmse_du_30  mean_du_30  \\\n",
       "Encoded_SKU_ID                                                         \n",
       "447             5.147815  2.000000  2.573908    3.712912    2.000000   \n",
       "73              3.070598  1.571429  1.954017    3.070598    1.571429   \n",
       "53              2.853569  2.285714  1.248437    2.070197    2.285714   \n",
       "465             2.738613  2.857143  0.958514    3.023716    2.857143   \n",
       "543             2.535463  0.571429  4.437060    1.133893    0.571429   \n",
       "\n",
       "                pct_rmse_30  rmse_du_45  mean_du_45  pct_rmse_45  rmse_du_60  \\\n",
       "Encoded_SKU_ID                                                                 \n",
       "447                1.856456    3.712912    2.000000     1.856456    3.712912   \n",
       "73                 1.954017    3.070598    1.571429     1.954017    3.070598   \n",
       "53                 0.905711    2.070197    2.285714     0.905711    2.070197   \n",
       "465                1.058301    3.023716    2.857143     1.058301    3.023716   \n",
       "543                1.984313    1.133893    0.571429     1.984313    1.133893   \n",
       "\n",
       "                mean_du_60  pct_rmse_60  rmse_du_max  mean_du_max  \\\n",
       "Encoded_SKU_ID                                                      \n",
       "447               2.000000     1.856456     3.712912     2.000000   \n",
       "73                1.571429     1.954017     3.070598     1.571429   \n",
       "53                2.285714     0.905711     2.070197     2.285714   \n",
       "465               2.857143     1.058301     3.023716     2.857143   \n",
       "543               0.571429     1.984313     1.133893     0.571429   \n",
       "\n",
       "                pct_rmse_max  min_rmse  argmin_period  min_period  \n",
       "Encoded_SKU_ID                                                     \n",
       "447                 1.856456       NaN              1  rmse_du_30  \n",
       "73                  1.954017       NaN              0     rmse_du  \n",
       "53                  0.905711       NaN              1  rmse_du_30  \n",
       "465                 1.058301       NaN              0     rmse_du  \n",
       "543                 1.984313       NaN              1  rmse_du_30  "
      ]
     },
     "execution_count": 111,
     "metadata": {},
     "output_type": "execute_result"
    }
   ],
   "source": [
    "rmse_sku_hmm_dates.head()"
   ]
  },
  {
   "cell_type": "code",
   "execution_count": 110,
   "id": "b472be2c",
   "metadata": {},
   "outputs": [],
   "source": [
    "period_col_map= {\n",
    "    \"rmse_du\":\"predicted\", \"rmse_du_30\":\"predicted_30\", \"rmse_du_45\":\"predicted_45\",\\\n",
    "    \"rmse_du_60\":\"predicted_60\", \"rmse_du_max\":\"predicted_max\"\n",
    "}"
   ]
  },
  {
   "cell_type": "code",
   "execution_count": 124,
   "id": "cf1f3ccd",
   "metadata": {},
   "outputs": [
    {
     "data": {
      "text/html": [
       "<div>\n",
       "<style scoped>\n",
       "    .dataframe tbody tr th:only-of-type {\n",
       "        vertical-align: middle;\n",
       "    }\n",
       "\n",
       "    .dataframe tbody tr th {\n",
       "        vertical-align: top;\n",
       "    }\n",
       "\n",
       "    .dataframe thead th {\n",
       "        text-align: right;\n",
       "    }\n",
       "</style>\n",
       "<table border=\"1\" class=\"dataframe\">\n",
       "  <thead>\n",
       "    <tr style=\"text-align: right;\">\n",
       "      <th></th>\n",
       "      <th>Encoded_SKU_ID</th>\n",
       "      <th>SALES_DATE</th>\n",
       "      <th>predicted</th>\n",
       "    </tr>\n",
       "  </thead>\n",
       "  <tbody>\n",
       "    <tr>\n",
       "      <th>0</th>\n",
       "      <td>73</td>\n",
       "      <td>2022-07-25</td>\n",
       "      <td>1.0</td>\n",
       "    </tr>\n",
       "    <tr>\n",
       "      <th>1</th>\n",
       "      <td>73</td>\n",
       "      <td>2022-07-26</td>\n",
       "      <td>1.0</td>\n",
       "    </tr>\n",
       "    <tr>\n",
       "      <th>2</th>\n",
       "      <td>73</td>\n",
       "      <td>2022-07-27</td>\n",
       "      <td>0.0</td>\n",
       "    </tr>\n",
       "    <tr>\n",
       "      <th>3</th>\n",
       "      <td>73</td>\n",
       "      <td>2022-07-28</td>\n",
       "      <td>1.0</td>\n",
       "    </tr>\n",
       "    <tr>\n",
       "      <th>4</th>\n",
       "      <td>73</td>\n",
       "      <td>2022-07-29</td>\n",
       "      <td>0.0</td>\n",
       "    </tr>\n",
       "    <tr>\n",
       "      <th>5</th>\n",
       "      <td>73</td>\n",
       "      <td>2022-07-30</td>\n",
       "      <td>0.0</td>\n",
       "    </tr>\n",
       "    <tr>\n",
       "      <th>6</th>\n",
       "      <td>73</td>\n",
       "      <td>2022-07-31</td>\n",
       "      <td>0.0</td>\n",
       "    </tr>\n",
       "  </tbody>\n",
       "</table>\n",
       "</div>"
      ],
      "text/plain": [
       "   Encoded_SKU_ID SALES_DATE  predicted\n",
       "0              73 2022-07-25        1.0\n",
       "1              73 2022-07-26        1.0\n",
       "2              73 2022-07-27        0.0\n",
       "3              73 2022-07-28        1.0\n",
       "4              73 2022-07-29        0.0\n",
       "5              73 2022-07-30        0.0\n",
       "6              73 2022-07-31        0.0"
      ]
     },
     "execution_count": 124,
     "metadata": {},
     "output_type": "execute_result"
    }
   ],
   "source": [
    "hmm_output.loc[mask_sku].reset_index(names = \"SALES_DATE\")[[\"Encoded_SKU_ID\",\"SALES_DATE\",best_col\\\n",
    "                                                                  ]]"
   ]
  },
  {
   "cell_type": "code",
   "execution_count": 125,
   "id": "0b827ab6",
   "metadata": {},
   "outputs": [],
   "source": [
    "y_pred_hmm_best = pd.DataFrame()\n",
    "cnt = 0\n",
    "for sku_id,best_period in zip(rmse_sku_hmm_dates.index,rmse_sku_hmm_dates[\"min_period\"]):\n",
    "    best_col = period_col_map[best_period]\n",
    "    mask_sku = hmm_output.Encoded_SKU_ID==sku_id\n",
    "    y_pred_hmm_sku = hmm_output.loc[mask_sku].reset_index(names = \"SALES_DATE\")[[\"Encoded_SKU_ID\",\"SALES_DATE\",best_col\\\n",
    "                                                                  ]].rename(columns={best_col:\"predicted\"})\n",
    "    y_pred_hmm_best = pd.concat([y_pred_hmm_best,y_pred_hmm_sku])"
   ]
  },
  {
   "cell_type": "code",
   "execution_count": 126,
   "id": "cad825c2",
   "metadata": {},
   "outputs": [
    {
     "data": {
      "text/plain": [
       "((1120, 3), (1120, 3))"
      ]
     },
     "execution_count": 126,
     "metadata": {},
     "output_type": "execute_result"
    }
   ],
   "source": [
    "y_pred_hmm_best.shape,y_pred_hmm.shape"
   ]
  },
  {
   "cell_type": "code",
   "execution_count": 129,
   "id": "5a8642d0",
   "metadata": {},
   "outputs": [],
   "source": [
    "y_pred_hmm_max = hmm_output.reset_index(names = \"SALES_DATE\")[[\"Encoded_SKU_ID\",\"SALES_DATE\",\"predicted_max\"\\\n",
    "                                                                  ]].rename(columns={\"predicted_max\":\"predicted\"})"
   ]
  },
  {
   "cell_type": "code",
   "execution_count": 130,
   "id": "6e760618",
   "metadata": {},
   "outputs": [
    {
     "data": {
      "text/plain": [
       "(1.2758050679584916, 1.2358123412788622, 1.254545307500462)"
      ]
     },
     "execution_count": 130,
     "metadata": {},
     "output_type": "execute_result"
    }
   ],
   "source": [
    "rmse(y_act,y_pred_null_subset),rmse(y_act,y_pred_hmm_max),rmse(y_act,y_pred_hmm_best)"
   ]
  },
  {
   "cell_type": "code",
   "execution_count": null,
   "id": "a13544bd",
   "metadata": {},
   "outputs": [],
   "source": []
  },
  {
   "cell_type": "code",
   "execution_count": null,
   "id": "a67a00ec",
   "metadata": {},
   "outputs": [],
   "source": []
  },
  {
   "cell_type": "code",
   "execution_count": null,
   "id": "2624ac89",
   "metadata": {},
   "outputs": [],
   "source": []
  },
  {
   "cell_type": "code",
   "execution_count": null,
   "id": "5e49dbe0",
   "metadata": {},
   "outputs": [],
   "source": []
  },
  {
   "cell_type": "code",
   "execution_count": null,
   "id": "74bcad36",
   "metadata": {},
   "outputs": [],
   "source": []
  }
 ],
 "metadata": {
  "kernelspec": {
   "display_name": "Python 3 (ipykernel)",
   "language": "python",
   "name": "python3"
  },
  "language_info": {
   "codemirror_mode": {
    "name": "ipython",
    "version": 3
   },
   "file_extension": ".py",
   "mimetype": "text/x-python",
   "name": "python",
   "nbconvert_exporter": "python",
   "pygments_lexer": "ipython3",
   "version": "3.9.15"
  }
 },
 "nbformat": 4,
 "nbformat_minor": 5
}
