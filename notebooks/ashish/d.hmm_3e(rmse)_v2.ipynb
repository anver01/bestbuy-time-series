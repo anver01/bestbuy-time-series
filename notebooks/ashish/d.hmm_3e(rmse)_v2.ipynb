{
 "cells": [
  {
   "cell_type": "code",
   "execution_count": 1,
   "id": "11a6abe9",
   "metadata": {},
   "outputs": [
    {
     "name": "stdout",
     "output_type": "stream",
     "text": [
      "/Users/ashish1610dhiman/data_projects/bestbuy/notebooks/ashish\r\n"
     ]
    }
   ],
   "source": [
    "!pwd"
   ]
  },
  {
   "cell_type": "code",
   "execution_count": 2,
   "id": "9db252e5",
   "metadata": {},
   "outputs": [],
   "source": [
    "import sys\n",
    "import matplotlib\n",
    "import numpy as np\n",
    "import pandas as pd\n",
    "import matplotlib.pyplot as plt\n",
    "import datetime\n",
    "\n",
    "sys.version\n",
    "\n",
    "sys.path.append(\"../../\")\n",
    "\n",
    "from src.ad_hmm import sku_predict\n",
    "from src.utils import *"
   ]
  },
  {
   "cell_type": "code",
   "execution_count": 3,
   "id": "34cd2d33",
   "metadata": {},
   "outputs": [],
   "source": [
    "%load_ext autoreload \n",
    "%autoreload 2"
   ]
  },
  {
   "cell_type": "code",
   "execution_count": 4,
   "id": "e9396914",
   "metadata": {},
   "outputs": [],
   "source": [
    "VERSION = \"v2\""
   ]
  },
  {
   "cell_type": "markdown",
   "id": "954d9e88",
   "metadata": {},
   "source": [
    "### RMSE analysis for HMM"
   ]
  },
  {
   "cell_type": "code",
   "execution_count": 5,
   "id": "40047718",
   "metadata": {},
   "outputs": [
    {
     "name": "stdout",
     "output_type": "stream",
     "text": [
      "(846632, 15)\n"
     ]
    }
   ],
   "source": [
    "train_test = pd.read_csv(\"../../data/train_validation_marker.csv\")\n",
    "train_test[\"SALES_DATE\"] = pd.to_datetime(train_test[\"SALES_DATE\"])\n",
    "print (train_test.shape)"
   ]
  },
  {
   "cell_type": "code",
   "execution_count": 6,
   "id": "58e5f2ce",
   "metadata": {},
   "outputs": [
    {
     "data": {
      "text/plain": [
       "((797490, 15), (3815, 15))"
      ]
     },
     "execution_count": 6,
     "metadata": {},
     "output_type": "execute_result"
    }
   ],
   "source": [
    "#clean train/test\n",
    "train = train_test[(train_test.validation==False) & (train_test.validation_clean==True)]\n",
    "validation = train_test[(train_test.validation==True) & (train_test.validation_clean==True)]\n",
    "train.shape,validation.shape"
   ]
  },
  {
   "cell_type": "markdown",
   "id": "6b804a9a",
   "metadata": {},
   "source": [
    "### y_actual"
   ]
  },
  {
   "cell_type": "code",
   "execution_count": 7,
   "id": "9fa28b0f",
   "metadata": {},
   "outputs": [
    {
     "data": {
      "text/html": [
       "<div>\n",
       "<style scoped>\n",
       "    .dataframe tbody tr th:only-of-type {\n",
       "        vertical-align: middle;\n",
       "    }\n",
       "\n",
       "    .dataframe tbody tr th {\n",
       "        vertical-align: top;\n",
       "    }\n",
       "\n",
       "    .dataframe thead th {\n",
       "        text-align: right;\n",
       "    }\n",
       "</style>\n",
       "<table border=\"1\" class=\"dataframe\">\n",
       "  <thead>\n",
       "    <tr style=\"text-align: right;\">\n",
       "      <th></th>\n",
       "      <th>Encoded_SKU_ID</th>\n",
       "      <th>SALES_DATE</th>\n",
       "      <th>actual</th>\n",
       "    </tr>\n",
       "  </thead>\n",
       "  <tbody>\n",
       "    <tr>\n",
       "      <th>100</th>\n",
       "      <td>96</td>\n",
       "      <td>2022-07-27</td>\n",
       "      <td>2</td>\n",
       "    </tr>\n",
       "    <tr>\n",
       "      <th>218</th>\n",
       "      <td>187</td>\n",
       "      <td>2022-07-29</td>\n",
       "      <td>0</td>\n",
       "    </tr>\n",
       "    <tr>\n",
       "      <th>420</th>\n",
       "      <td>297</td>\n",
       "      <td>2022-07-29</td>\n",
       "      <td>6</td>\n",
       "    </tr>\n",
       "    <tr>\n",
       "      <th>652</th>\n",
       "      <td>372</td>\n",
       "      <td>2022-07-27</td>\n",
       "      <td>1</td>\n",
       "    </tr>\n",
       "    <tr>\n",
       "      <th>831</th>\n",
       "      <td>412</td>\n",
       "      <td>2022-07-26</td>\n",
       "      <td>4</td>\n",
       "    </tr>\n",
       "  </tbody>\n",
       "</table>\n",
       "</div>"
      ],
      "text/plain": [
       "     Encoded_SKU_ID SALES_DATE  actual\n",
       "100              96 2022-07-27       2\n",
       "218             187 2022-07-29       0\n",
       "420             297 2022-07-29       6\n",
       "652             372 2022-07-27       1\n",
       "831             412 2022-07-26       4"
      ]
     },
     "execution_count": 7,
     "metadata": {},
     "output_type": "execute_result"
    }
   ],
   "source": [
    "y_act = validation[[\"Encoded_SKU_ID\",\"SALES_DATE\",\"DAILY_UNITS\"]].rename(columns = {\"DAILY_UNITS\":\"actual\"})\n",
    "y_act.head()"
   ]
  },
  {
   "cell_type": "markdown",
   "id": "4313f092",
   "metadata": {},
   "source": [
    "### y_pred null"
   ]
  },
  {
   "cell_type": "code",
   "execution_count": 8,
   "id": "eb8a43e4",
   "metadata": {},
   "outputs": [
    {
     "data": {
      "text/html": [
       "<div>\n",
       "<style scoped>\n",
       "    .dataframe tbody tr th:only-of-type {\n",
       "        vertical-align: middle;\n",
       "    }\n",
       "\n",
       "    .dataframe tbody tr th {\n",
       "        vertical-align: top;\n",
       "    }\n",
       "\n",
       "    .dataframe thead th {\n",
       "        text-align: right;\n",
       "    }\n",
       "</style>\n",
       "<table border=\"1\" class=\"dataframe\">\n",
       "  <thead>\n",
       "    <tr style=\"text-align: right;\">\n",
       "      <th></th>\n",
       "      <th>Encoded_SKU_ID</th>\n",
       "      <th>SALES_DATE</th>\n",
       "      <th>predicted</th>\n",
       "    </tr>\n",
       "  </thead>\n",
       "  <tbody>\n",
       "    <tr>\n",
       "      <th>0</th>\n",
       "      <td>1</td>\n",
       "      <td>2022-07-25</td>\n",
       "      <td>1</td>\n",
       "    </tr>\n",
       "    <tr>\n",
       "      <th>1</th>\n",
       "      <td>1</td>\n",
       "      <td>2022-07-26</td>\n",
       "      <td>1</td>\n",
       "    </tr>\n",
       "    <tr>\n",
       "      <th>2</th>\n",
       "      <td>1</td>\n",
       "      <td>2022-07-27</td>\n",
       "      <td>1</td>\n",
       "    </tr>\n",
       "    <tr>\n",
       "      <th>3</th>\n",
       "      <td>1</td>\n",
       "      <td>2022-07-28</td>\n",
       "      <td>1</td>\n",
       "    </tr>\n",
       "    <tr>\n",
       "      <th>4</th>\n",
       "      <td>1</td>\n",
       "      <td>2022-07-29</td>\n",
       "      <td>1</td>\n",
       "    </tr>\n",
       "  </tbody>\n",
       "</table>\n",
       "</div>"
      ],
      "text/plain": [
       "   Encoded_SKU_ID SALES_DATE  predicted\n",
       "0               1 2022-07-25          1\n",
       "1               1 2022-07-26          1\n",
       "2               1 2022-07-27          1\n",
       "3               1 2022-07-28          1\n",
       "4               1 2022-07-29          1"
      ]
     },
     "execution_count": 8,
     "metadata": {},
     "output_type": "execute_result"
    }
   ],
   "source": [
    "y_pred_null = pd.read_csv(\"../../data/null_prediction_validation_result_v0.csv\").drop(columns = \"Unnamed: 0\")\n",
    "y_pred_null[\"SALES_DATE\"] = pd.to_datetime(y_pred_null[\"SALES_DATE\"])\n",
    "y_pred_null.head()"
   ]
  },
  {
   "cell_type": "markdown",
   "id": "4d27f304",
   "metadata": {},
   "source": [
    "### y_pred HMM"
   ]
  },
  {
   "cell_type": "code",
   "execution_count": 9,
   "id": "d31855c9",
   "metadata": {},
   "outputs": [
    {
     "data": {
      "text/html": [
       "<div>\n",
       "<style scoped>\n",
       "    .dataframe tbody tr th:only-of-type {\n",
       "        vertical-align: middle;\n",
       "    }\n",
       "\n",
       "    .dataframe tbody tr th {\n",
       "        vertical-align: top;\n",
       "    }\n",
       "\n",
       "    .dataframe thead th {\n",
       "        text-align: right;\n",
       "    }\n",
       "</style>\n",
       "<table border=\"1\" class=\"dataframe\">\n",
       "  <thead>\n",
       "    <tr style=\"text-align: right;\">\n",
       "      <th></th>\n",
       "      <th>predicted</th>\n",
       "      <th>predicted_30</th>\n",
       "      <th>predicted_45</th>\n",
       "      <th>predicted_60</th>\n",
       "      <th>predicted_90</th>\n",
       "      <th>predicted_max</th>\n",
       "      <th>Encoded_SKU_ID</th>\n",
       "    </tr>\n",
       "  </thead>\n",
       "  <tbody>\n",
       "    <tr>\n",
       "      <th>2022-07-25</th>\n",
       "      <td>1.0</td>\n",
       "      <td>1.0</td>\n",
       "      <td>1.0</td>\n",
       "      <td>0.00</td>\n",
       "      <td>2.00</td>\n",
       "      <td>3.00</td>\n",
       "      <td>1</td>\n",
       "    </tr>\n",
       "    <tr>\n",
       "      <th>2022-07-26</th>\n",
       "      <td>1.0</td>\n",
       "      <td>1.0</td>\n",
       "      <td>2.0</td>\n",
       "      <td>3.00</td>\n",
       "      <td>0.45</td>\n",
       "      <td>2.00</td>\n",
       "      <td>1</td>\n",
       "    </tr>\n",
       "    <tr>\n",
       "      <th>2022-07-27</th>\n",
       "      <td>2.0</td>\n",
       "      <td>0.0</td>\n",
       "      <td>3.0</td>\n",
       "      <td>2.00</td>\n",
       "      <td>2.55</td>\n",
       "      <td>1.00</td>\n",
       "      <td>1</td>\n",
       "    </tr>\n",
       "    <tr>\n",
       "      <th>2022-07-28</th>\n",
       "      <td>0.0</td>\n",
       "      <td>1.0</td>\n",
       "      <td>0.0</td>\n",
       "      <td>0.45</td>\n",
       "      <td>0.45</td>\n",
       "      <td>2.45</td>\n",
       "      <td>1</td>\n",
       "    </tr>\n",
       "    <tr>\n",
       "      <th>2022-07-29</th>\n",
       "      <td>3.0</td>\n",
       "      <td>2.0</td>\n",
       "      <td>1.0</td>\n",
       "      <td>2.00</td>\n",
       "      <td>2.55</td>\n",
       "      <td>2.00</td>\n",
       "      <td>1</td>\n",
       "    </tr>\n",
       "  </tbody>\n",
       "</table>\n",
       "</div>"
      ],
      "text/plain": [
       "            predicted  predicted_30  predicted_45  predicted_60  predicted_90  \\\n",
       "2022-07-25        1.0           1.0           1.0          0.00          2.00   \n",
       "2022-07-26        1.0           1.0           2.0          3.00          0.45   \n",
       "2022-07-27        2.0           0.0           3.0          2.00          2.55   \n",
       "2022-07-28        0.0           1.0           0.0          0.45          0.45   \n",
       "2022-07-29        3.0           2.0           1.0          2.00          2.55   \n",
       "\n",
       "            predicted_max  Encoded_SKU_ID  \n",
       "2022-07-25           3.00               1  \n",
       "2022-07-26           2.00               1  \n",
       "2022-07-27           1.00               1  \n",
       "2022-07-28           2.45               1  \n",
       "2022-07-29           2.00               1  "
      ]
     },
     "execution_count": 9,
     "metadata": {},
     "output_type": "execute_result"
    }
   ],
   "source": [
    "hmm_output = pd.read_csv(f\"../../data/hmm_result_{VERSION}.csv\",index_col=0)\n",
    "hmm_output.head()"
   ]
  },
  {
   "cell_type": "code",
   "execution_count": 10,
   "id": "9dc2ec5b",
   "metadata": {},
   "outputs": [],
   "source": [
    "hmm_output.index = pd.to_datetime(hmm_output.index)"
   ]
  },
  {
   "cell_type": "code",
   "execution_count": 11,
   "id": "5fd7e014",
   "metadata": {},
   "outputs": [],
   "source": [
    "SKUs_hmm = hmm_output[\"Encoded_SKU_ID\"].unique()\n",
    "y_pred_null_subset = y_pred_null[y_pred_null.Encoded_SKU_ID.isin(SKUs_hmm)]"
   ]
  },
  {
   "cell_type": "code",
   "execution_count": 12,
   "id": "2e842b12",
   "metadata": {},
   "outputs": [
    {
     "data": {
      "text/plain": [
       "352"
      ]
     },
     "execution_count": 12,
     "metadata": {},
     "output_type": "execute_result"
    }
   ],
   "source": [
    "len(SKUs_hmm)"
   ]
  },
  {
   "cell_type": "code",
   "execution_count": 13,
   "id": "b6417ba9",
   "metadata": {},
   "outputs": [
    {
     "data": {
      "text/plain": [
       "1.5694165099864923"
      ]
     },
     "execution_count": 13,
     "metadata": {},
     "output_type": "execute_result"
    }
   ],
   "source": [
    "rmse(y_act,y_pred_null_subset)"
   ]
  },
  {
   "cell_type": "code",
   "execution_count": 14,
   "id": "3e78e565",
   "metadata": {},
   "outputs": [
    {
     "name": "stdout",
     "output_type": "stream",
     "text": [
      "For predicted, rmse(hmm) = 1.6755\n",
      "For predicted_30, rmse(hmm) = 1.7331\n",
      "For predicted_45, rmse(hmm) = 1.8148\n",
      "For predicted_60, rmse(hmm) = 1.7129\n",
      "For predicted_90, rmse(hmm) = 1.8105\n",
      "For predicted_max, rmse(hmm) = 1.8123\n"
     ]
    }
   ],
   "source": [
    "for col in hmm_output.columns:\n",
    "    if \"pred\" in col:\n",
    "        y_pred_hmm = hmm_output.reset_index(names = \"SALES_DATE\")[[\"Encoded_SKU_ID\",\"SALES_DATE\",col\\\n",
    "                                                                  ]].rename(columns={col:\"predicted\"})\n",
    "        print (f\"For {col}, rmse(hmm) = {rmse(y_act,y_pred_hmm):.4f}\")"
   ]
  },
  {
   "cell_type": "markdown",
   "id": "cc1c1d10",
   "metadata": {},
   "source": [
    "### Pick Best predicted date"
   ]
  },
  {
   "cell_type": "code",
   "execution_count": 15,
   "id": "fa926c73",
   "metadata": {},
   "outputs": [],
   "source": [
    "rmse_sku_hmm_dates = pd.DataFrame()\n",
    "for i,col in enumerate(hmm_output.columns):\n",
    "    if \"pred\" in col:\n",
    "        y_pred_hmm = hmm_output.reset_index(names = \"SALES_DATE\")[[\"Encoded_SKU_ID\",\"SALES_DATE\",col\\\n",
    "                                                                  ]].rename(columns={col:\"predicted\"})\n",
    "        rmse_sku_hmm_i = rmse_sku(y_act,y_pred_hmm)\n",
    "        if i ==0:\n",
    "            rmse_sku_hmm_dates = rmse_sku_hmm_i\n",
    "        else:\n",
    "            rmse_sku_hmm_dates = rmse_sku_hmm_dates.merge(rmse_sku_hmm_i, left_index = True, right_index = True,\\\n",
    "                                suffixes = (\"\",f\"_{col.split('_')[-1]}\"))"
   ]
  },
  {
   "cell_type": "code",
   "execution_count": 16,
   "id": "d1ff35d8",
   "metadata": {},
   "outputs": [
    {
     "data": {
      "text/plain": [
       "['rmse_du',\n",
       " 'rmse_du_30',\n",
       " 'rmse_du_45',\n",
       " 'rmse_du_60',\n",
       " 'rmse_du_90',\n",
       " 'rmse_du_max']"
      ]
     },
     "execution_count": 16,
     "metadata": {},
     "output_type": "execute_result"
    }
   ],
   "source": [
    "rmse_cols = [col for col in rmse_sku_hmm_dates.columns if \"rmse_du\" in col]\n",
    "rmse_cols"
   ]
  },
  {
   "cell_type": "code",
   "execution_count": 17,
   "id": "a6d2042e",
   "metadata": {},
   "outputs": [],
   "source": [
    "rmse_sku_hmm_dates[\"min_rmse\"] = rmse_sku_hmm_dates[rmse_cols].min()\n",
    "\n",
    "rmse_sku_hmm_dates[\"argmin_period\"] = np.argmin(rmse_sku_hmm_dates[rmse_cols].values,axis=1)\n",
    "\n",
    "rmse_sku_hmm_dates[\"min_period\"] = rmse_sku_hmm_dates[\"argmin_period\"].apply(lambda x: rmse_cols[x])"
   ]
  },
  {
   "cell_type": "code",
   "execution_count": 18,
   "id": "f2d16c04",
   "metadata": {},
   "outputs": [],
   "source": [
    "period_col_map= {\n",
    "    \"rmse_du\":\"predicted\", \"rmse_du_30\":\"predicted_30\", \"rmse_du_45\":\"predicted_45\",\\\n",
    "    \"rmse_du_60\":\"predicted_60\", \"rmse_du_90\":\"predicted_90\", \"rmse_du_max\":\"predicted_max\"\n",
    "}"
   ]
  },
  {
   "cell_type": "code",
   "execution_count": 19,
   "id": "cc9a8286",
   "metadata": {},
   "outputs": [],
   "source": [
    "y_pred_hmm_best = pd.DataFrame()\n",
    "cnt = 0\n",
    "for sku_id,best_period in zip(rmse_sku_hmm_dates.index,rmse_sku_hmm_dates[\"min_period\"]):\n",
    "    best_col = period_col_map[best_period]\n",
    "    mask_sku = hmm_output.Encoded_SKU_ID==sku_id\n",
    "    y_pred_hmm_sku = hmm_output.loc[mask_sku].reset_index(names = \"SALES_DATE\")[[\"Encoded_SKU_ID\",\"SALES_DATE\",best_col\\\n",
    "                                                                  ]].rename(columns={best_col:\"predicted\"})\n",
    "    y_pred_hmm_best = pd.concat([y_pred_hmm_best,y_pred_hmm_sku])"
   ]
  },
  {
   "cell_type": "code",
   "execution_count": 20,
   "id": "b4e5b035",
   "metadata": {},
   "outputs": [
    {
     "data": {
      "text/plain": [
       "(1.5694165099864923, 1.1607474395864474)"
      ]
     },
     "execution_count": 20,
     "metadata": {},
     "output_type": "execute_result"
    }
   ],
   "source": [
    "rmse(y_act,y_pred_null_subset),\\\n",
    "rmse(y_act,y_pred_hmm_best)"
   ]
  },
  {
   "cell_type": "code",
   "execution_count": 22,
   "id": "149ed1ac",
   "metadata": {},
   "outputs": [
    {
     "data": {
      "text/plain": [
       "0.35207406578096434"
      ]
     },
     "execution_count": 22,
     "metadata": {},
     "output_type": "execute_result"
    }
   ],
   "source": [
    "(1.5694165099864923-1.1607474395864474)/1.1607474395864474"
   ]
  }
 ],
 "metadata": {
  "kernelspec": {
   "display_name": "Python 3 (ipykernel)",
   "language": "python",
   "name": "python3"
  },
  "language_info": {
   "codemirror_mode": {
    "name": "ipython",
    "version": 3
   },
   "file_extension": ".py",
   "mimetype": "text/x-python",
   "name": "python",
   "nbconvert_exporter": "python",
   "pygments_lexer": "ipython3",
   "version": "3.9.15"
  }
 },
 "nbformat": 4,
 "nbformat_minor": 5
}
