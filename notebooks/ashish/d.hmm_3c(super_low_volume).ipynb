{
 "cells": [
  {
   "cell_type": "code",
   "execution_count": 1,
   "id": "41fdb0ce",
   "metadata": {},
   "outputs": [
    {
     "name": "stdout",
     "output_type": "stream",
     "text": [
      "/Users/ashish1610dhiman/data_projects/bestbuy/notebooks/ashish\r\n"
     ]
    }
   ],
   "source": [
    "!pwd"
   ]
  },
  {
   "cell_type": "code",
   "execution_count": 2,
   "id": "27e17cd8",
   "metadata": {},
   "outputs": [
    {
     "data": {
      "text/plain": [
       "'3.9.15 | packaged by conda-forge | (main, Nov 22 2022, 08:55:37) \\n[Clang 14.0.6 ]'"
      ]
     },
     "execution_count": 2,
     "metadata": {},
     "output_type": "execute_result"
    }
   ],
   "source": [
    "import sys\n",
    "import matplotlib\n",
    "import numpy as np\n",
    "import pandas as pd\n",
    "import matplotlib.pyplot as plt\n",
    "import datetime\n",
    "\n",
    "sys.version"
   ]
  },
  {
   "cell_type": "code",
   "execution_count": 3,
   "id": "3135a465",
   "metadata": {},
   "outputs": [],
   "source": [
    "%load_ext autoreload \n",
    "%autoreload 2"
   ]
  },
  {
   "cell_type": "code",
   "execution_count": 4,
   "id": "99621541",
   "metadata": {},
   "outputs": [],
   "source": [
    "UNIQUE_CNT = 10\n",
    "VERSION = \"v1\""
   ]
  },
  {
   "cell_type": "markdown",
   "id": "e2521410",
   "metadata": {},
   "source": [
    "### Read data"
   ]
  },
  {
   "cell_type": "code",
   "execution_count": 5,
   "id": "22525ca5",
   "metadata": {},
   "outputs": [
    {
     "name": "stdout",
     "output_type": "stream",
     "text": [
      "(846632, 15)\n"
     ]
    }
   ],
   "source": [
    "train_test = pd.read_csv(\"../../data/train_validation_marker.csv\")\n",
    "train_test[\"SALES_DATE\"] = pd.to_datetime(train_test[\"SALES_DATE\"])\n",
    "print (train_test.shape)"
   ]
  },
  {
   "cell_type": "markdown",
   "id": "ce447710",
   "metadata": {},
   "source": [
    "#### Find SKUs with very low volume"
   ]
  },
  {
   "cell_type": "code",
   "execution_count": 6,
   "id": "7b375736",
   "metadata": {},
   "outputs": [
    {
     "data": {
      "text/plain": [
       "((797490, 15), (3815, 15))"
      ]
     },
     "execution_count": 6,
     "metadata": {},
     "output_type": "execute_result"
    }
   ],
   "source": [
    "#clean train/test\n",
    "train = train_test[(train_test.validation==False) & (train_test.validation_clean==True)]\n",
    "validation = train_test[(train_test.validation==True) & (train_test.validation_clean==True)]\n",
    "train.shape,validation.shape"
   ]
  },
  {
   "cell_type": "code",
   "execution_count": 7,
   "id": "af15157c",
   "metadata": {},
   "outputs": [],
   "source": [
    "sku_vals = train[train.SALES_DATE>=\"2022-03-01\"].groupby(\"Encoded_SKU_ID\")[\"DAILY_UNITS\"].nunique()"
   ]
  },
  {
   "cell_type": "code",
   "execution_count": 8,
   "id": "c7ed09a4",
   "metadata": {},
   "outputs": [
    {
     "data": {
      "text/plain": [
       "364"
      ]
     },
     "execution_count": 8,
     "metadata": {},
     "output_type": "execute_result"
    }
   ],
   "source": [
    "(sku_vals<=UNIQUE_CNT).sum()"
   ]
  },
  {
   "cell_type": "code",
   "execution_count": 9,
   "id": "dc4a18ab",
   "metadata": {},
   "outputs": [
    {
     "data": {
      "text/plain": [
       "545"
      ]
     },
     "execution_count": 9,
     "metadata": {},
     "output_type": "execute_result"
    }
   ],
   "source": [
    "sku_vals.count()"
   ]
  },
  {
   "cell_type": "markdown",
   "id": "b64e9076",
   "metadata": {},
   "source": [
    "### Fit HMM on these"
   ]
  },
  {
   "cell_type": "code",
   "execution_count": 10,
   "id": "1c3adad9",
   "metadata": {},
   "outputs": [],
   "source": [
    "sku_in_scope = sku_vals[(sku_vals<=UNIQUE_CNT)]"
   ]
  },
  {
   "cell_type": "code",
   "execution_count": 11,
   "id": "7a1a0b5a",
   "metadata": {},
   "outputs": [],
   "source": [
    "import sys\n",
    "sys.path.append(\"../../\")\n",
    "\n",
    "from src.ad_hmm import sku_predict"
   ]
  },
  {
   "cell_type": "code",
   "execution_count": 12,
   "id": "bdf96132",
   "metadata": {},
   "outputs": [],
   "source": [
    "pd.options.mode.chained_assignment = None"
   ]
  },
  {
   "cell_type": "code",
   "execution_count": 13,
   "id": "7b155160",
   "metadata": {},
   "outputs": [],
   "source": [
    "from tqdm.notebook import tqdm"
   ]
  },
  {
   "cell_type": "code",
   "execution_count": 14,
   "id": "128e0cac",
   "metadata": {},
   "outputs": [
    {
     "data": {
      "text/plain": [
       "Int64Index([1], dtype='int64', name='Encoded_SKU_ID')"
      ]
     },
     "execution_count": 14,
     "metadata": {},
     "output_type": "execute_result"
    }
   ],
   "source": [
    "sku_in_scope.index[:1]"
   ]
  },
  {
   "cell_type": "code",
   "execution_count": 15,
   "id": "830153ef",
   "metadata": {},
   "outputs": [],
   "source": [
    "from IPython.utils import io"
   ]
  },
  {
   "cell_type": "code",
   "execution_count": null,
   "id": "12b2af16",
   "metadata": {},
   "outputs": [
    {
     "data": {
      "application/vnd.jupyter.widget-view+json": {
       "model_id": "58305793f34f477699b0310c4e094792",
       "version_major": 2,
       "version_minor": 0
      },
      "text/plain": [
       "  0%|          | 0/364 [00:00<?, ?it/s]"
      ]
     },
     "metadata": {},
     "output_type": "display_data"
    },
    {
     "name": "stdout",
     "output_type": "stream",
     "text": [
      "Error for 60\n",
      "Error for 69\n",
      "Error for 198\n",
      "Error for 199\n",
      "Error for 202\n",
      "Error for 203\n",
      "Error for 213\n",
      "Error for 214\n",
      "Error for 215\n",
      "Error for 216\n",
      "Error for 219\n",
      "Error for 221\n",
      "Error for 222\n",
      "Error for 223\n",
      "Error for 224\n",
      "Error for 225\n",
      "Error for 226\n",
      "Error for 227\n",
      "Error for 228\n",
      "Error for 229\n",
      "Error for 230\n",
      "Error for 234\n",
      "Error for 239\n",
      "Error for 243\n",
      "Error for 245\n",
      "Error for 246\n",
      "Error for 247\n",
      "Error for 248\n",
      "Error for 249\n",
      "Error for 251\n",
      "Error for 254\n",
      "Error for 256\n",
      "Error for 258\n",
      "Error for 259\n",
      "Error for 260\n",
      "Error for 261\n",
      "Error for 262\n",
      "Error for 264\n",
      "Error for 266\n",
      "Error for 268\n",
      "Error for 272\n",
      "Error for 275\n",
      "Error for 276\n",
      "Error for 277\n",
      "Error for 280\n",
      "Error for 281\n",
      "Error for 282\n",
      "Error for 283\n",
      "Error for 284\n",
      "Error for 288\n",
      "Error for 289\n",
      "Error for 291\n",
      "Error for 292\n",
      "Error for 293\n",
      "Error for 294\n",
      "Error for 295\n",
      "Error for 296\n",
      "Error for 297\n",
      "Error for 298\n",
      "Error for 300\n",
      "Error for 302\n",
      "Error for 304\n",
      "Error for 305\n",
      "Error for 306\n",
      "Error for 308\n",
      "Error for 309\n",
      "Error for 310\n",
      "Error for 311\n",
      "Error for 313\n",
      "Error for 314\n",
      "Error for 316\n",
      "Error for 317\n",
      "Error for 318\n",
      "Error for 320\n",
      "Error for 322\n",
      "Error for 323\n",
      "Error for 327\n",
      "Error for 328\n",
      "Error for 329\n",
      "Error for 331\n",
      "Error for 333\n",
      "Error for 334\n",
      "Error for 336\n",
      "Error for 337\n",
      "Error for 340\n",
      "Error for 343\n",
      "Error for 344\n",
      "Error for 345\n",
      "Error for 346\n",
      "Error for 348\n",
      "Error for 349\n",
      "Error for 352\n",
      "Error for 354\n",
      "Error for 360\n",
      "Error for 361\n",
      "Error for 362\n",
      "Error for 363\n",
      "Error for 365\n",
      "Error for 366\n",
      "Error for 368\n",
      "Error for 369\n"
     ]
    }
   ],
   "source": [
    "all_preds = []\n",
    "for sku_id in tqdm(sku_in_scope.index):\n",
    "    n_comps = sku_in_scope[sku_id]\n",
    "    sku_pred_model = sku_predict(train_test,sku_id)\n",
    "    try:\n",
    "#         sku_pred_15 = sku_pred_model.predict(valid1, 15)\n",
    "#         sku_pred_30 = sku_pred_model.predict(valid1, 30)\n",
    "#         sku_pred_45 = sku_pred_model.predict(valid1, 45)\n",
    "#         sku_pred_60 = sku_pred_model.predict(valid1, 60)\n",
    "        with io.capture_output() as captured:\n",
    "            feats_sku = sku_pred_model.get_features(n_lags=2)\n",
    "            train1,valid1 = sku_pred_model.split_train_test(\"2022-07-25\")\n",
    "            sku_pred_model.fit_hmm(train1,\"2022-03-01\", n_components1 = n_comps)\n",
    "            sku_pred_90 = sku_pred_model.predict(valid1, 90)\n",
    "            sku_pred_max = sku_pred_model.predict(valid1, sku_pred_model.X.shape[0])\n",
    "        merge0 = sku_pred_90[[\"predicted\"]].merge(sku_pred_max[[\"predicted\"]],left_index = True,\\\n",
    "                              right_index = True, suffixes=(\"\",\"_max\"))\n",
    "#         merge1 = merge0.merge(sku_pred_45[[\"predicted\"]],left_index = True,\\\n",
    "#                               right_index = True, suffixes=(\"\",\"_45\"))\n",
    "#         merge2 = merge1.merge(sku_pred_60[[\"predicted\"]],left_index = True,\\\n",
    "#                               right_index = True, suffixes=(\"\",\"_60\"))\n",
    "#         merge3 = merge2.merge(sku_pred_90[[\"predicted\"]],left_index = True,\\\n",
    "#                               right_index = True, suffixes=(\"\",\"_90\"))\n",
    "#         merge4 = merge2.merge(sku_pred_max[[\"predicted\"]],left_index = True,\\\n",
    "#                               right_index = True, suffixes=(\"\",\"_max\"))\n",
    "        merge0[\"Encoded_SKU_ID\"] =[sku_id]*merge0.shape[0]\n",
    "        all_preds.append(merge0)\n",
    "    except:\n",
    "        print (f\"Error for {sku_id}\")"
   ]
  },
  {
   "cell_type": "code",
   "execution_count": null,
   "id": "6132e0a3",
   "metadata": {},
   "outputs": [],
   "source": [
    "hmm_result = pd.concat(all_preds)\n",
    "hmm_result.to_csv(f\"../../data/hmm_result_{VERSION}.csv\")"
   ]
  },
  {
   "cell_type": "code",
   "execution_count": null,
   "id": "9d9e962c",
   "metadata": {},
   "outputs": [],
   "source": []
  }
 ],
 "metadata": {
  "kernelspec": {
   "display_name": "Python 3 (ipykernel)",
   "language": "python",
   "name": "python3"
  },
  "language_info": {
   "codemirror_mode": {
    "name": "ipython",
    "version": 3
   },
   "file_extension": ".py",
   "mimetype": "text/x-python",
   "name": "python",
   "nbconvert_exporter": "python",
   "pygments_lexer": "ipython3",
   "version": "3.9.15"
  }
 },
 "nbformat": 4,
 "nbformat_minor": 5
}
