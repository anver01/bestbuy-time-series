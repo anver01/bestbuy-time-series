{
 "cells": [
  {
   "cell_type": "code",
   "execution_count": 1,
   "id": "8f4d7e92",
   "metadata": {},
   "outputs": [
    {
     "name": "stdout",
     "output_type": "stream",
     "text": [
      "/Users/ashish1610dhiman/data_projects/bestbuy/notebooks/ashish\r\n"
     ]
    }
   ],
   "source": [
    "!pwd"
   ]
  },
  {
   "cell_type": "code",
   "execution_count": 2,
   "id": "1ecb4b8a",
   "metadata": {},
   "outputs": [],
   "source": [
    "import sys\n",
    "import matplotlib\n",
    "import numpy as np\n",
    "import pandas as pd\n",
    "import matplotlib.pyplot as plt\n",
    "import datetime\n",
    "\n",
    "sys.version\n",
    "\n",
    "sys.path.append(\"../../\")\n",
    "\n",
    "from src.ad_hmm import sku_predict\n",
    "from src.utils import *"
   ]
  },
  {
   "cell_type": "code",
   "execution_count": 3,
   "id": "b61cc456",
   "metadata": {},
   "outputs": [],
   "source": [
    "%load_ext autoreload \n",
    "%autoreload 2"
   ]
  },
  {
   "cell_type": "markdown",
   "id": "554be88c",
   "metadata": {},
   "source": [
    "### Read data"
   ]
  },
  {
   "cell_type": "code",
   "execution_count": 4,
   "id": "e0d9412e",
   "metadata": {},
   "outputs": [
    {
     "name": "stdout",
     "output_type": "stream",
     "text": [
      "(846632, 15)\n"
     ]
    }
   ],
   "source": [
    "train_test = pd.read_csv(\"../../data/train_validation_marker.csv\")\n",
    "train_test[\"SALES_DATE\"] = pd.to_datetime(train_test[\"SALES_DATE\"])\n",
    "print (train_test.shape)"
   ]
  },
  {
   "cell_type": "code",
   "execution_count": 5,
   "id": "57ba732b",
   "metadata": {},
   "outputs": [],
   "source": [
    "# #clean train/test\n",
    "# train = train_test[(train_test.validation==False) & (train_test.validation_clean==True)]\n",
    "# validation = train_test[(train_test.validation==True) & (train_test.validation_clean==True)]\n",
    "# train.shape,validation.shape"
   ]
  },
  {
   "cell_type": "code",
   "execution_count": 6,
   "id": "077443f1",
   "metadata": {},
   "outputs": [],
   "source": [
    "train_test[\"if_promo\"] = (~train_test[\"PROMO_PRICE\"].isin([\"?\"])).astype(\"int\")\n",
    "train_test[\"if_competitor\"] = (~train_test[\"COMPETITOR_PRICE\"].isin([\"?\"])).astype(\"int\")\n",
    "\n",
    "train_test[\"min_sales_price\"] = pd.to_numeric(np.where(train_test.if_promo>0, train_test.PROMO_PRICE,\\\n",
    "                                                       train_test.RETAIL_PRICE))"
   ]
  },
  {
   "cell_type": "code",
   "execution_count": 7,
   "id": "241785b1",
   "metadata": {},
   "outputs": [],
   "source": [
    "train_test[\"comp_price_clean\"] = pd.to_numeric(np.where(train_test.if_competitor>0,train_test.COMPETITOR_PRICE, np.nan))\n",
    "train_test[\"price_delta\"] = np.where(train_test.if_competitor>0, train_test.min_sales_price - train_test.comp_price_clean,\\\n",
    "                                   -train_test.min_sales_price)"
   ]
  },
  {
   "cell_type": "markdown",
   "id": "aeceaea9",
   "metadata": {},
   "source": [
    "### Transform data"
   ]
  },
  {
   "cell_type": "code",
   "execution_count": 8,
   "id": "cf068fcb",
   "metadata": {},
   "outputs": [],
   "source": [
    "train_test_pivot = train_test.pivot(index='SALES_DATE', columns='Encoded_SKU_ID',\\\n",
    "                   values=['DAILY_UNITS',\"if_promo\",\"if_competitor\",\"min_sales_price\",\"price_delta\",\\\n",
    "                          \"validation\",\"validation_clean\"])"
   ]
  },
  {
   "cell_type": "code",
   "execution_count": 9,
   "id": "c540143b",
   "metadata": {},
   "outputs": [
    {
     "data": {
      "text/plain": [
       "MultiIndex([(  1,      'DAILY_UNITS'),\n",
       "            (  2,      'DAILY_UNITS'),\n",
       "            (  3,      'DAILY_UNITS'),\n",
       "            (  4,      'DAILY_UNITS'),\n",
       "            (  5,      'DAILY_UNITS'),\n",
       "            (  6,      'DAILY_UNITS'),\n",
       "            (  7,      'DAILY_UNITS'),\n",
       "            (  8,      'DAILY_UNITS'),\n",
       "            (  9,      'DAILY_UNITS'),\n",
       "            ( 10,      'DAILY_UNITS'),\n",
       "            ...\n",
       "            (566, 'validation_clean'),\n",
       "            (567, 'validation_clean'),\n",
       "            (568, 'validation_clean'),\n",
       "            (569, 'validation_clean'),\n",
       "            (570, 'validation_clean'),\n",
       "            (571, 'validation_clean'),\n",
       "            (572, 'validation_clean'),\n",
       "            (573, 'validation_clean'),\n",
       "            (574, 'validation_clean'),\n",
       "            (575, 'validation_clean')],\n",
       "           names=['Encoded_SKU_ID', None], length=4025)"
      ]
     },
     "execution_count": 9,
     "metadata": {},
     "output_type": "execute_result"
    }
   ],
   "source": [
    "train_test_pivot.columns = train_test_pivot.columns.swaplevel(0, 1)\n",
    "train_test_pivot.columns"
   ]
  },
  {
   "cell_type": "code",
   "execution_count": 10,
   "id": "63cc7169",
   "metadata": {},
   "outputs": [
    {
     "name": "stderr",
     "output_type": "stream",
     "text": [
      "/var/folders/kb/v0p0ypbd0wx1q2qb1kpxmmcc0000gn/T/ipykernel_6110/151662614.py:2: PerformanceWarning: indexing past lexsort depth may impact performance.\n",
      "  train_test_sku = train_test_pivot.loc[:,(sku_id,)]\n"
     ]
    }
   ],
   "source": [
    "sku_id = 89\n",
    "train_test_sku = train_test_pivot.loc[:,(sku_id,)]"
   ]
  },
  {
   "cell_type": "code",
   "execution_count": 11,
   "id": "60e9534c",
   "metadata": {},
   "outputs": [
    {
     "data": {
      "text/html": [
       "<div>\n",
       "<style scoped>\n",
       "    .dataframe tbody tr th:only-of-type {\n",
       "        vertical-align: middle;\n",
       "    }\n",
       "\n",
       "    .dataframe tbody tr th {\n",
       "        vertical-align: top;\n",
       "    }\n",
       "\n",
       "    .dataframe thead th {\n",
       "        text-align: right;\n",
       "    }\n",
       "</style>\n",
       "<table border=\"1\" class=\"dataframe\">\n",
       "  <thead>\n",
       "    <tr style=\"text-align: right;\">\n",
       "      <th></th>\n",
       "      <th>DAILY_UNITS</th>\n",
       "      <th>if_promo</th>\n",
       "      <th>if_competitor</th>\n",
       "      <th>min_sales_price</th>\n",
       "      <th>price_delta</th>\n",
       "      <th>validation</th>\n",
       "      <th>validation_clean</th>\n",
       "    </tr>\n",
       "    <tr>\n",
       "      <th>SALES_DATE</th>\n",
       "      <th></th>\n",
       "      <th></th>\n",
       "      <th></th>\n",
       "      <th></th>\n",
       "      <th></th>\n",
       "      <th></th>\n",
       "      <th></th>\n",
       "    </tr>\n",
       "  </thead>\n",
       "  <tbody>\n",
       "    <tr>\n",
       "      <th>2017-05-28</th>\n",
       "      <td>NaN</td>\n",
       "      <td>NaN</td>\n",
       "      <td>NaN</td>\n",
       "      <td>NaN</td>\n",
       "      <td>NaN</td>\n",
       "      <td>NaN</td>\n",
       "      <td>NaN</td>\n",
       "    </tr>\n",
       "    <tr>\n",
       "      <th>2017-05-29</th>\n",
       "      <td>NaN</td>\n",
       "      <td>NaN</td>\n",
       "      <td>NaN</td>\n",
       "      <td>NaN</td>\n",
       "      <td>NaN</td>\n",
       "      <td>NaN</td>\n",
       "      <td>NaN</td>\n",
       "    </tr>\n",
       "    <tr>\n",
       "      <th>2017-05-30</th>\n",
       "      <td>NaN</td>\n",
       "      <td>NaN</td>\n",
       "      <td>NaN</td>\n",
       "      <td>NaN</td>\n",
       "      <td>NaN</td>\n",
       "      <td>NaN</td>\n",
       "      <td>NaN</td>\n",
       "    </tr>\n",
       "    <tr>\n",
       "      <th>2017-05-31</th>\n",
       "      <td>NaN</td>\n",
       "      <td>NaN</td>\n",
       "      <td>NaN</td>\n",
       "      <td>NaN</td>\n",
       "      <td>NaN</td>\n",
       "      <td>NaN</td>\n",
       "      <td>NaN</td>\n",
       "    </tr>\n",
       "    <tr>\n",
       "      <th>2017-06-01</th>\n",
       "      <td>NaN</td>\n",
       "      <td>NaN</td>\n",
       "      <td>NaN</td>\n",
       "      <td>NaN</td>\n",
       "      <td>NaN</td>\n",
       "      <td>NaN</td>\n",
       "      <td>NaN</td>\n",
       "    </tr>\n",
       "    <tr>\n",
       "      <th>...</th>\n",
       "      <td>...</td>\n",
       "      <td>...</td>\n",
       "      <td>...</td>\n",
       "      <td>...</td>\n",
       "      <td>...</td>\n",
       "      <td>...</td>\n",
       "      <td>...</td>\n",
       "    </tr>\n",
       "    <tr>\n",
       "      <th>2022-07-27</th>\n",
       "      <td>3</td>\n",
       "      <td>1</td>\n",
       "      <td>1</td>\n",
       "      <td>879.99</td>\n",
       "      <td>30.99</td>\n",
       "      <td>True</td>\n",
       "      <td>True</td>\n",
       "    </tr>\n",
       "    <tr>\n",
       "      <th>2022-07-28</th>\n",
       "      <td>0</td>\n",
       "      <td>0</td>\n",
       "      <td>1</td>\n",
       "      <td>944.99</td>\n",
       "      <td>95.99</td>\n",
       "      <td>True</td>\n",
       "      <td>True</td>\n",
       "    </tr>\n",
       "    <tr>\n",
       "      <th>2022-07-29</th>\n",
       "      <td>0</td>\n",
       "      <td>0</td>\n",
       "      <td>0</td>\n",
       "      <td>944.99</td>\n",
       "      <td>-944.99</td>\n",
       "      <td>True</td>\n",
       "      <td>True</td>\n",
       "    </tr>\n",
       "    <tr>\n",
       "      <th>2022-07-30</th>\n",
       "      <td>0</td>\n",
       "      <td>0</td>\n",
       "      <td>0</td>\n",
       "      <td>944.99</td>\n",
       "      <td>-944.99</td>\n",
       "      <td>True</td>\n",
       "      <td>True</td>\n",
       "    </tr>\n",
       "    <tr>\n",
       "      <th>2022-07-31</th>\n",
       "      <td>1</td>\n",
       "      <td>1</td>\n",
       "      <td>0</td>\n",
       "      <td>829.99</td>\n",
       "      <td>-829.99</td>\n",
       "      <td>True</td>\n",
       "      <td>True</td>\n",
       "    </tr>\n",
       "  </tbody>\n",
       "</table>\n",
       "<p>1891 rows × 7 columns</p>\n",
       "</div>"
      ],
      "text/plain": [
       "           DAILY_UNITS if_promo if_competitor min_sales_price price_delta  \\\n",
       "SALES_DATE                                                                  \n",
       "2017-05-28         NaN      NaN           NaN             NaN         NaN   \n",
       "2017-05-29         NaN      NaN           NaN             NaN         NaN   \n",
       "2017-05-30         NaN      NaN           NaN             NaN         NaN   \n",
       "2017-05-31         NaN      NaN           NaN             NaN         NaN   \n",
       "2017-06-01         NaN      NaN           NaN             NaN         NaN   \n",
       "...                ...      ...           ...             ...         ...   \n",
       "2022-07-27           3        1             1          879.99       30.99   \n",
       "2022-07-28           0        0             1          944.99       95.99   \n",
       "2022-07-29           0        0             0          944.99     -944.99   \n",
       "2022-07-30           0        0             0          944.99     -944.99   \n",
       "2022-07-31           1        1             0          829.99     -829.99   \n",
       "\n",
       "           validation validation_clean  \n",
       "SALES_DATE                              \n",
       "2017-05-28        NaN              NaN  \n",
       "2017-05-29        NaN              NaN  \n",
       "2017-05-30        NaN              NaN  \n",
       "2017-05-31        NaN              NaN  \n",
       "2017-06-01        NaN              NaN  \n",
       "...               ...              ...  \n",
       "2022-07-27       True             True  \n",
       "2022-07-28       True             True  \n",
       "2022-07-29       True             True  \n",
       "2022-07-30       True             True  \n",
       "2022-07-31       True             True  \n",
       "\n",
       "[1891 rows x 7 columns]"
      ]
     },
     "execution_count": 11,
     "metadata": {},
     "output_type": "execute_result"
    }
   ],
   "source": [
    "train_test_sku"
   ]
  },
  {
   "cell_type": "markdown",
   "id": "968967cd",
   "metadata": {},
   "source": [
    "### Create lag features"
   ]
  },
  {
   "cell_type": "code",
   "execution_count": 12,
   "id": "6447317a",
   "metadata": {},
   "outputs": [
    {
     "name": "stderr",
     "output_type": "stream",
     "text": [
      "/var/folders/kb/v0p0ypbd0wx1q2qb1kpxmmcc0000gn/T/ipykernel_6110/4043466546.py:4: SettingWithCopyWarning: \n",
      "A value is trying to be set on a copy of a slice from a DataFrame.\n",
      "Try using .loc[row_indexer,col_indexer] = value instead\n",
      "\n",
      "See the caveats in the documentation: https://pandas.pydata.org/pandas-docs/stable/user_guide/indexing.html#returning-a-view-versus-a-copy\n",
      "  train_test_sku[du_lag] = train_test_sku[\"DAILY_UNITS\"].shift(lag)\n",
      "/var/folders/kb/v0p0ypbd0wx1q2qb1kpxmmcc0000gn/T/ipykernel_6110/4043466546.py:4: SettingWithCopyWarning: \n",
      "A value is trying to be set on a copy of a slice from a DataFrame.\n",
      "Try using .loc[row_indexer,col_indexer] = value instead\n",
      "\n",
      "See the caveats in the documentation: https://pandas.pydata.org/pandas-docs/stable/user_guide/indexing.html#returning-a-view-versus-a-copy\n",
      "  train_test_sku[du_lag] = train_test_sku[\"DAILY_UNITS\"].shift(lag)\n",
      "/var/folders/kb/v0p0ypbd0wx1q2qb1kpxmmcc0000gn/T/ipykernel_6110/4043466546.py:4: SettingWithCopyWarning: \n",
      "A value is trying to be set on a copy of a slice from a DataFrame.\n",
      "Try using .loc[row_indexer,col_indexer] = value instead\n",
      "\n",
      "See the caveats in the documentation: https://pandas.pydata.org/pandas-docs/stable/user_guide/indexing.html#returning-a-view-versus-a-copy\n",
      "  train_test_sku[du_lag] = train_test_sku[\"DAILY_UNITS\"].shift(lag)\n",
      "/var/folders/kb/v0p0ypbd0wx1q2qb1kpxmmcc0000gn/T/ipykernel_6110/4043466546.py:4: SettingWithCopyWarning: \n",
      "A value is trying to be set on a copy of a slice from a DataFrame.\n",
      "Try using .loc[row_indexer,col_indexer] = value instead\n",
      "\n",
      "See the caveats in the documentation: https://pandas.pydata.org/pandas-docs/stable/user_guide/indexing.html#returning-a-view-versus-a-copy\n",
      "  train_test_sku[du_lag] = train_test_sku[\"DAILY_UNITS\"].shift(lag)\n",
      "/var/folders/kb/v0p0ypbd0wx1q2qb1kpxmmcc0000gn/T/ipykernel_6110/4043466546.py:4: SettingWithCopyWarning: \n",
      "A value is trying to be set on a copy of a slice from a DataFrame.\n",
      "Try using .loc[row_indexer,col_indexer] = value instead\n",
      "\n",
      "See the caveats in the documentation: https://pandas.pydata.org/pandas-docs/stable/user_guide/indexing.html#returning-a-view-versus-a-copy\n",
      "  train_test_sku[du_lag] = train_test_sku[\"DAILY_UNITS\"].shift(lag)\n",
      "/var/folders/kb/v0p0ypbd0wx1q2qb1kpxmmcc0000gn/T/ipykernel_6110/4043466546.py:4: SettingWithCopyWarning: \n",
      "A value is trying to be set on a copy of a slice from a DataFrame.\n",
      "Try using .loc[row_indexer,col_indexer] = value instead\n",
      "\n",
      "See the caveats in the documentation: https://pandas.pydata.org/pandas-docs/stable/user_guide/indexing.html#returning-a-view-versus-a-copy\n",
      "  train_test_sku[du_lag] = train_test_sku[\"DAILY_UNITS\"].shift(lag)\n",
      "/var/folders/kb/v0p0ypbd0wx1q2qb1kpxmmcc0000gn/T/ipykernel_6110/4043466546.py:4: SettingWithCopyWarning: \n",
      "A value is trying to be set on a copy of a slice from a DataFrame.\n",
      "Try using .loc[row_indexer,col_indexer] = value instead\n",
      "\n",
      "See the caveats in the documentation: https://pandas.pydata.org/pandas-docs/stable/user_guide/indexing.html#returning-a-view-versus-a-copy\n",
      "  train_test_sku[du_lag] = train_test_sku[\"DAILY_UNITS\"].shift(lag)\n",
      "/var/folders/kb/v0p0ypbd0wx1q2qb1kpxmmcc0000gn/T/ipykernel_6110/4043466546.py:4: SettingWithCopyWarning: \n",
      "A value is trying to be set on a copy of a slice from a DataFrame.\n",
      "Try using .loc[row_indexer,col_indexer] = value instead\n",
      "\n",
      "See the caveats in the documentation: https://pandas.pydata.org/pandas-docs/stable/user_guide/indexing.html#returning-a-view-versus-a-copy\n",
      "  train_test_sku[du_lag] = train_test_sku[\"DAILY_UNITS\"].shift(lag)\n",
      "/var/folders/kb/v0p0ypbd0wx1q2qb1kpxmmcc0000gn/T/ipykernel_6110/4043466546.py:4: SettingWithCopyWarning: \n",
      "A value is trying to be set on a copy of a slice from a DataFrame.\n",
      "Try using .loc[row_indexer,col_indexer] = value instead\n",
      "\n",
      "See the caveats in the documentation: https://pandas.pydata.org/pandas-docs/stable/user_guide/indexing.html#returning-a-view-versus-a-copy\n",
      "  train_test_sku[du_lag] = train_test_sku[\"DAILY_UNITS\"].shift(lag)\n",
      "/var/folders/kb/v0p0ypbd0wx1q2qb1kpxmmcc0000gn/T/ipykernel_6110/4043466546.py:4: SettingWithCopyWarning: \n",
      "A value is trying to be set on a copy of a slice from a DataFrame.\n",
      "Try using .loc[row_indexer,col_indexer] = value instead\n",
      "\n",
      "See the caveats in the documentation: https://pandas.pydata.org/pandas-docs/stable/user_guide/indexing.html#returning-a-view-versus-a-copy\n",
      "  train_test_sku[du_lag] = train_test_sku[\"DAILY_UNITS\"].shift(lag)\n"
     ]
    }
   ],
   "source": [
    "n_lags = 10\n",
    "for lag in range(1,n_lags+1):\n",
    "    du_lag = f\"DAILY_UNITS_lag{lag}\"\n",
    "    train_test_sku[du_lag] = train_test_sku[\"DAILY_UNITS\"].shift(lag)\n",
    "#     train_test_sku[f\"change_lag{lag}\"] = (train_test_sku[\"DAILY_UNITS\"] - train_test_sku[du_lag])"
   ]
  },
  {
   "cell_type": "code",
   "execution_count": 13,
   "id": "e8632d7c",
   "metadata": {},
   "outputs": [
    {
     "data": {
      "text/plain": [
       "((680, 17), (7, 17))"
      ]
     },
     "execution_count": 13,
     "metadata": {},
     "output_type": "execute_result"
    }
   ],
   "source": [
    "train_sku = train_test_sku[(train_test_sku.validation==False) & (train_test_sku.validation_clean==True)]\n",
    "validation_sku = train_test_sku[(train_test_sku.validation==True) & (train_test_sku.validation_clean==True)]\n",
    "train_sku.shape,validation_sku.shape"
   ]
  },
  {
   "cell_type": "code",
   "execution_count": 14,
   "id": "120be0a4",
   "metadata": {},
   "outputs": [
    {
     "data": {
      "text/plain": [
       "<AxesSubplot: xlabel='SALES_DATE'>"
      ]
     },
     "execution_count": 14,
     "metadata": {},
     "output_type": "execute_result"
    },
    {
     "data": {
      "image/png": "[encoded data removed]",
      "text/plain": [
       "<Figure size 640x480 with 1 Axes>"
      ]
     },
     "metadata": {},
     "output_type": "display_data"
    }
   ],
   "source": [
    "train_sku[\"DAILY_UNITS\"].plot()"
   ]
  },
  {
   "cell_type": "markdown",
   "id": "8632bfee",
   "metadata": {},
   "source": [
    "### STL Decompostion"
   ]
  },
  {
   "cell_type": "code",
   "execution_count": 15,
   "id": "1a658e47",
   "metadata": {},
   "outputs": [
    {
     "data": {
      "image/png": "[encoded data removed]",
      "text/plain": [
       "<Figure size 640x480 with 4 Axes>"
      ]
     },
     "metadata": {},
     "output_type": "display_data"
    }
   ],
   "source": [
    "from statsmodels.tsa.seasonal import STL\n",
    "res = STL(train_sku[\"DAILY_UNITS\"]).fit()\n",
    "res.plot()\n",
    "plt.show()"
   ]
  },
  {
   "cell_type": "code",
   "execution_count": 16,
   "id": "03c80750",
   "metadata": {},
   "outputs": [
    {
     "data": {
      "text/plain": [
       "SALES_DATE\n",
       "2020-09-13    0.0\n",
       "2020-09-14    0.0\n",
       "2020-09-15    0.0\n",
       "2020-09-16    0.0\n",
       "2020-09-17    0.0\n",
       "             ... \n",
       "2022-07-20    1.0\n",
       "2022-07-21    2.0\n",
       "2022-07-22    1.0\n",
       "2022-07-23    2.0\n",
       "2022-07-24    1.0\n",
       "Length: 680, dtype: float64"
      ]
     },
     "execution_count": 16,
     "metadata": {},
     "output_type": "execute_result"
    }
   ],
   "source": [
    "res.trend + res.seasonal + res.resid"
   ]
  },
  {
   "cell_type": "code",
   "execution_count": 17,
   "id": "2aae5e96",
   "metadata": {},
   "outputs": [
    {
     "data": {
      "text/plain": [
       "0.001241939800399376"
      ]
     },
     "execution_count": 17,
     "metadata": {},
     "output_type": "execute_result"
    }
   ],
   "source": [
    "res.resid.mean()"
   ]
  },
  {
   "cell_type": "code",
   "execution_count": 18,
   "id": "b9109d2e",
   "metadata": {},
   "outputs": [
    {
     "data": {
      "text/plain": [
       "1.0"
      ]
     },
     "execution_count": 18,
     "metadata": {},
     "output_type": "execute_result"
    }
   ],
   "source": [
    "(train_sku.index == res.resid.index).mean()"
   ]
  },
  {
   "cell_type": "code",
   "execution_count": 19,
   "id": "da2e7fcd",
   "metadata": {},
   "outputs": [
    {
     "name": "stderr",
     "output_type": "stream",
     "text": [
      "/var/folders/kb/v0p0ypbd0wx1q2qb1kpxmmcc0000gn/T/ipykernel_6110/3573235626.py:1: SettingWithCopyWarning: \n",
      "A value is trying to be set on a copy of a slice from a DataFrame.\n",
      "Try using .loc[row_indexer,col_indexer] = value instead\n",
      "\n",
      "See the caveats in the documentation: https://pandas.pydata.org/pandas-docs/stable/user_guide/indexing.html#returning-a-view-versus-a-copy\n",
      "  train_sku[\"STL_resid\"] = res.resid\n",
      "/var/folders/kb/v0p0ypbd0wx1q2qb1kpxmmcc0000gn/T/ipykernel_6110/3573235626.py:2: SettingWithCopyWarning: \n",
      "A value is trying to be set on a copy of a slice from a DataFrame.\n",
      "Try using .loc[row_indexer,col_indexer] = value instead\n",
      "\n",
      "See the caveats in the documentation: https://pandas.pydata.org/pandas-docs/stable/user_guide/indexing.html#returning-a-view-versus-a-copy\n",
      "  train_sku[\"STL_trend\"] = res.trend\n",
      "/var/folders/kb/v0p0ypbd0wx1q2qb1kpxmmcc0000gn/T/ipykernel_6110/3573235626.py:3: SettingWithCopyWarning: \n",
      "A value is trying to be set on a copy of a slice from a DataFrame.\n",
      "Try using .loc[row_indexer,col_indexer] = value instead\n",
      "\n",
      "See the caveats in the documentation: https://pandas.pydata.org/pandas-docs/stable/user_guide/indexing.html#returning-a-view-versus-a-copy\n",
      "  train_sku[\"STL_seasonal\"] = res.seasonal\n"
     ]
    }
   ],
   "source": [
    "train_sku[\"STL_resid\"] = res.resid\n",
    "train_sku[\"STL_trend\"] = res.trend\n",
    "train_sku[\"STL_seasonal\"] = res.seasonal"
   ]
  },
  {
   "cell_type": "markdown",
   "id": "feac3deb",
   "metadata": {},
   "source": [
    "### XGBoost over STL residual"
   ]
  },
  {
   "cell_type": "code",
   "execution_count": 20,
   "id": "d6fd9ddd",
   "metadata": {},
   "outputs": [],
   "source": [
    "# check xgboost version\n",
    "from xgboost import XGBRegressor"
   ]
  },
  {
   "cell_type": "code",
   "execution_count": 33,
   "id": "092ab3c9",
   "metadata": {},
   "outputs": [],
   "source": [
    "# create an xgboost regression model\n",
    "model1 = XGBRegressor(n_estimators=500, max_depth=7,\\\n",
    "                     eta=0.1, subsample=0.7, colsample_bytree=0.8)\n",
    "# create an xgboost regression model\n",
    "model2 = XGBRegressor(n_estimators=500, max_depth=7,\\\n",
    "                     eta=0.1, subsample=0.7, colsample_bytree=0.8)\n",
    "# create an xgboost regression model\n",
    "model3 = XGBRegressor(n_estimators=500, max_depth=7,\\\n",
    "                     eta=0.1, subsample=0.7, colsample_bytree=0.8)"
   ]
  },
  {
   "cell_type": "code",
   "execution_count": 34,
   "id": "e5e12003",
   "metadata": {},
   "outputs": [
    {
     "data": {
      "text/plain": [
       "Index(['DAILY_UNITS', 'if_promo', 'if_competitor', 'min_sales_price',\n",
       "       'price_delta', 'validation', 'validation_clean', 'DAILY_UNITS_lag1',\n",
       "       'DAILY_UNITS_lag2', 'DAILY_UNITS_lag3', 'DAILY_UNITS_lag4',\n",
       "       'DAILY_UNITS_lag5', 'DAILY_UNITS_lag6', 'DAILY_UNITS_lag7',\n",
       "       'DAILY_UNITS_lag8', 'DAILY_UNITS_lag9', 'DAILY_UNITS_lag10',\n",
       "       'STL_resid', 'STL_trend', 'STL_seasonal'],\n",
       "      dtype='object')"
      ]
     },
     "execution_count": 34,
     "metadata": {},
     "output_type": "execute_result"
    }
   ],
   "source": [
    "train_sku.columns"
   ]
  },
  {
   "cell_type": "code",
   "execution_count": 35,
   "id": "02f6a01d",
   "metadata": {},
   "outputs": [
    {
     "data": {
      "text/plain": [
       "DAILY_UNITS           object\n",
       "if_promo              object\n",
       "if_competitor         object\n",
       "min_sales_price       object\n",
       "price_delta           object\n",
       "validation            object\n",
       "validation_clean      object\n",
       "DAILY_UNITS_lag1      object\n",
       "DAILY_UNITS_lag2      object\n",
       "DAILY_UNITS_lag3      object\n",
       "DAILY_UNITS_lag4      object\n",
       "DAILY_UNITS_lag5      object\n",
       "DAILY_UNITS_lag6      object\n",
       "DAILY_UNITS_lag7      object\n",
       "DAILY_UNITS_lag8      object\n",
       "DAILY_UNITS_lag9      object\n",
       "DAILY_UNITS_lag10     object\n",
       "STL_resid            float64\n",
       "STL_trend            float64\n",
       "STL_seasonal         float64\n",
       "dtype: object"
      ]
     },
     "execution_count": 35,
     "metadata": {},
     "output_type": "execute_result"
    }
   ],
   "source": [
    "train_sku.dtypes"
   ]
  },
  {
   "cell_type": "code",
   "execution_count": 36,
   "id": "73a56397",
   "metadata": {},
   "outputs": [
    {
     "data": {
      "text/plain": [
       "['if_promo',\n",
       " 'if_competitor',\n",
       " 'min_sales_price',\n",
       " 'price_delta',\n",
       " 'DAILY_UNITS_lag1',\n",
       " 'DAILY_UNITS_lag2',\n",
       " 'DAILY_UNITS_lag3',\n",
       " 'DAILY_UNITS_lag4',\n",
       " 'DAILY_UNITS_lag5',\n",
       " 'DAILY_UNITS_lag6',\n",
       " 'DAILY_UNITS_lag7',\n",
       " 'DAILY_UNITS_lag8',\n",
       " 'DAILY_UNITS_lag9',\n",
       " 'DAILY_UNITS_lag10']"
      ]
     },
     "execution_count": 36,
     "metadata": {},
     "output_type": "execute_result"
    }
   ],
   "source": [
    "pred_cols = ['if_promo', 'if_competitor', 'min_sales_price',\n",
    "       'price_delta'] + [col for col in train_sku.columns if \"lag\" in col]\n",
    "pred_cols"
   ]
  },
  {
   "cell_type": "code",
   "execution_count": 37,
   "id": "ac3d1dd4",
   "metadata": {},
   "outputs": [],
   "source": [
    "X = train_sku[pred_cols].astype(np.float64)\n",
    "y_trend = train_sku['STL_trend'].astype(np.float64)\n",
    "y_resid = train_sku['STL_resid'].astype(np.float64)\n",
    "y_seasonal = train_sku['STL_seasonal'].astype(np.float64)"
   ]
  },
  {
   "cell_type": "code",
   "execution_count": 38,
   "id": "7379b87f",
   "metadata": {},
   "outputs": [
    {
     "data": {
      "text/html": [
       "<style>#sk-container-id-2 {color: black;background-color: white;}#sk-container-id-2 pre{padding: 0;}#sk-container-id-2 div.sk-toggleable {background-color: white;}#sk-container-id-2 label.sk-toggleable__label {cursor: pointer;display: block;width: 100%;margin-bottom: 0;padding: 0.3em;box-sizing: border-box;text-align: center;}#sk-container-id-2 label.sk-toggleable__label-arrow:before {content: \"▸\";float: left;margin-right: 0.25em;color: #696969;}#sk-container-id-2 label.sk-toggleable__label-arrow:hover:before {color: black;}#sk-container-id-2 div.sk-estimator:hover label.sk-toggleable__label-arrow:before {color: black;}#sk-container-id-2 div.sk-toggleable__content {max-height: 0;max-width: 0;overflow: hidden;text-align: left;background-color: #f0f8ff;}#sk-container-id-2 div.sk-toggleable__content pre {margin: 0.2em;color: black;border-radius: 0.25em;background-color: #f0f8ff;}#sk-container-id-2 input.sk-toggleable__control:checked~div.sk-toggleable__content {max-height: 200px;max-width: 100%;overflow: auto;}#sk-container-id-2 input.sk-toggleable__control:checked~label.sk-toggleable__label-arrow:before {content: \"▾\";}#sk-container-id-2 div.sk-estimator input.sk-toggleable__control:checked~label.sk-toggleable__label {background-color: #d4ebff;}#sk-container-id-2 div.sk-label input.sk-toggleable__control:checked~label.sk-toggleable__label {background-color: #d4ebff;}#sk-container-id-2 input.sk-hidden--visually {border: 0;clip: rect(1px 1px 1px 1px);clip: rect(1px, 1px, 1px, 1px);height: 1px;margin: -1px;overflow: hidden;padding: 0;position: absolute;width: 1px;}#sk-container-id-2 div.sk-estimator {font-family: monospace;background-color: #f0f8ff;border: 1px dotted black;border-radius: 0.25em;box-sizing: border-box;margin-bottom: 0.5em;}#sk-container-id-2 div.sk-estimator:hover {background-color: #d4ebff;}#sk-container-id-2 div.sk-parallel-item::after {content: \"\";width: 100%;border-bottom: 1px solid gray;flex-grow: 1;}#sk-container-id-2 div.sk-label:hover label.sk-toggleable__label {background-color: #d4ebff;}#sk-container-id-2 div.sk-serial::before {content: \"\";position: absolute;border-left: 1px solid gray;box-sizing: border-box;top: 0;bottom: 0;left: 50%;z-index: 0;}#sk-container-id-2 div.sk-serial {display: flex;flex-direction: column;align-items: center;background-color: white;padding-right: 0.2em;padding-left: 0.2em;position: relative;}#sk-container-id-2 div.sk-item {position: relative;z-index: 1;}#sk-container-id-2 div.sk-parallel {display: flex;align-items: stretch;justify-content: center;background-color: white;position: relative;}#sk-container-id-2 div.sk-item::before, #sk-container-id-2 div.sk-parallel-item::before {content: \"\";position: absolute;border-left: 1px solid gray;box-sizing: border-box;top: 0;bottom: 0;left: 50%;z-index: -1;}#sk-container-id-2 div.sk-parallel-item {display: flex;flex-direction: column;z-index: 1;position: relative;background-color: white;}#sk-container-id-2 div.sk-parallel-item:first-child::after {align-self: flex-end;width: 50%;}#sk-container-id-2 div.sk-parallel-item:last-child::after {align-self: flex-start;width: 50%;}#sk-container-id-2 div.sk-parallel-item:only-child::after {width: 0;}#sk-container-id-2 div.sk-dashed-wrapped {border: 1px dashed gray;margin: 0 0.4em 0.5em 0.4em;box-sizing: border-box;padding-bottom: 0.4em;background-color: white;}#sk-container-id-2 div.sk-label label {font-family: monospace;font-weight: bold;display: inline-block;line-height: 1.2em;}#sk-container-id-2 div.sk-label-container {text-align: center;}#sk-container-id-2 div.sk-container {/* jupyter's `normalize.less` sets `[hidden] { display: none; }` but bootstrap.min.css set `[hidden] { display: none !important; }` so we also need the `!important` here to be able to override the default hidden behavior on the sphinx rendered scikit-learn.org. See: https://github.com/scikit-learn/scikit-learn/issues/21755 */display: inline-block !important;position: relative;}#sk-container-id-2 div.sk-text-repr-fallback {display: none;}</style><div id=\"sk-container-id-2\" class=\"sk-top-container\"><div class=\"sk-text-repr-fallback\"><pre>XGBRegressor(base_score=0.5, booster=&#x27;gbtree&#x27;, callbacks=None,\n",
       "             colsample_bylevel=1, colsample_bynode=1, colsample_bytree=0.8,\n",
       "             early_stopping_rounds=None, enable_categorical=False, eta=0.1,\n",
       "             eval_metric=None, feature_types=None, gamma=0, gpu_id=-1,\n",
       "             grow_policy=&#x27;depthwise&#x27;, importance_type=None,\n",
       "             interaction_constraints=&#x27;&#x27;, learning_rate=0.100000001, max_bin=256,\n",
       "             max_cat_threshold=64, max_cat_to_onehot=4, max_delta_step=0,\n",
       "             max_depth=7, max_leaves=0, min_child_weight=1, missing=nan,\n",
       "             monotone_constraints=&#x27;()&#x27;, n_estimators=500, n_jobs=0,\n",
       "             num_parallel_tree=1, predictor=&#x27;auto&#x27;, ...)</pre><b>In a Jupyter environment, please rerun this cell to show the HTML representation or trust the notebook. <br />On GitHub, the HTML representation is unable to render, please try loading this page with nbviewer.org.</b></div><div class=\"sk-container\" hidden><div class=\"sk-item\"><div class=\"sk-estimator sk-toggleable\"><input class=\"sk-toggleable__control sk-hidden--visually\" id=\"sk-estimator-id-2\" type=\"checkbox\" checked><label for=\"sk-estimator-id-2\" class=\"sk-toggleable__label sk-toggleable__label-arrow\">XGBRegressor</label><div class=\"sk-toggleable__content\"><pre>XGBRegressor(base_score=0.5, booster=&#x27;gbtree&#x27;, callbacks=None,\n",
       "             colsample_bylevel=1, colsample_bynode=1, colsample_bytree=0.8,\n",
       "             early_stopping_rounds=None, enable_categorical=False, eta=0.1,\n",
       "             eval_metric=None, feature_types=None, gamma=0, gpu_id=-1,\n",
       "             grow_policy=&#x27;depthwise&#x27;, importance_type=None,\n",
       "             interaction_constraints=&#x27;&#x27;, learning_rate=0.100000001, max_bin=256,\n",
       "             max_cat_threshold=64, max_cat_to_onehot=4, max_delta_step=0,\n",
       "             max_depth=7, max_leaves=0, min_child_weight=1, missing=nan,\n",
       "             monotone_constraints=&#x27;()&#x27;, n_estimators=500, n_jobs=0,\n",
       "             num_parallel_tree=1, predictor=&#x27;auto&#x27;, ...)</pre></div></div></div></div></div>"
      ],
      "text/plain": [
       "XGBRegressor(base_score=0.5, booster='gbtree', callbacks=None,\n",
       "             colsample_bylevel=1, colsample_bynode=1, colsample_bytree=0.8,\n",
       "             early_stopping_rounds=None, enable_categorical=False, eta=0.1,\n",
       "             eval_metric=None, feature_types=None, gamma=0, gpu_id=-1,\n",
       "             grow_policy='depthwise', importance_type=None,\n",
       "             interaction_constraints='', learning_rate=0.100000001, max_bin=256,\n",
       "             max_cat_threshold=64, max_cat_to_onehot=4, max_delta_step=0,\n",
       "             max_depth=7, max_leaves=0, min_child_weight=1, missing=nan,\n",
       "             monotone_constraints='()', n_estimators=500, n_jobs=0,\n",
       "             num_parallel_tree=1, predictor='auto', ...)"
      ]
     },
     "execution_count": 38,
     "metadata": {},
     "output_type": "execute_result"
    }
   ],
   "source": [
    "model1.fit(X,y_trend)\n",
    "model2.fit(X,y_resid)\n",
    "model3.fit(X,y_seasonal)"
   ]
  },
  {
   "cell_type": "code",
   "execution_count": 39,
   "id": "56a031f3",
   "metadata": {},
   "outputs": [],
   "source": [
    "X_test = validation_sku[pred_cols].astype(np.float64)"
   ]
  },
  {
   "cell_type": "code",
   "execution_count": 40,
   "id": "ee76ed16",
   "metadata": {},
   "outputs": [],
   "source": [
    "y_trend_pred = model1.predict(X_test)\n",
    "y_resid_pred = model2.predict(X_test)\n",
    "y_seasonal_pred = model3.predict(X_test)"
   ]
  },
  {
   "cell_type": "code",
   "execution_count": 41,
   "id": "60be92e6",
   "metadata": {},
   "outputs": [
    {
     "data": {
      "text/plain": [
       "array([ 0.18760526,  1.3306385 ,  1.1979482 ,  0.31358045, -0.40824723,\n",
       "        0.9615911 ,  1.4005773 ], dtype=float32)"
      ]
     },
     "execution_count": 41,
     "metadata": {},
     "output_type": "execute_result"
    }
   ],
   "source": [
    "y_pred = y_trend_pred+y_resid_pred+y_seasonal_pred\n",
    "y_pred"
   ]
  },
  {
   "cell_type": "code",
   "execution_count": 42,
   "id": "124f89ad",
   "metadata": {},
   "outputs": [
    {
     "data": {
      "text/html": [
       "<div>\n",
       "<style scoped>\n",
       "    .dataframe tbody tr th:only-of-type {\n",
       "        vertical-align: middle;\n",
       "    }\n",
       "\n",
       "    .dataframe tbody tr th {\n",
       "        vertical-align: top;\n",
       "    }\n",
       "\n",
       "    .dataframe thead th {\n",
       "        text-align: right;\n",
       "    }\n",
       "</style>\n",
       "<table border=\"1\" class=\"dataframe\">\n",
       "  <thead>\n",
       "    <tr style=\"text-align: right;\">\n",
       "      <th></th>\n",
       "      <th>DAILY_UNITS</th>\n",
       "      <th>if_promo</th>\n",
       "      <th>if_competitor</th>\n",
       "      <th>min_sales_price</th>\n",
       "      <th>price_delta</th>\n",
       "      <th>validation</th>\n",
       "      <th>validation_clean</th>\n",
       "      <th>DAILY_UNITS_lag1</th>\n",
       "      <th>DAILY_UNITS_lag2</th>\n",
       "      <th>DAILY_UNITS_lag3</th>\n",
       "      <th>DAILY_UNITS_lag4</th>\n",
       "      <th>DAILY_UNITS_lag5</th>\n",
       "      <th>DAILY_UNITS_lag6</th>\n",
       "      <th>DAILY_UNITS_lag7</th>\n",
       "      <th>DAILY_UNITS_lag8</th>\n",
       "      <th>DAILY_UNITS_lag9</th>\n",
       "      <th>DAILY_UNITS_lag10</th>\n",
       "    </tr>\n",
       "    <tr>\n",
       "      <th>SALES_DATE</th>\n",
       "      <th></th>\n",
       "      <th></th>\n",
       "      <th></th>\n",
       "      <th></th>\n",
       "      <th></th>\n",
       "      <th></th>\n",
       "      <th></th>\n",
       "      <th></th>\n",
       "      <th></th>\n",
       "      <th></th>\n",
       "      <th></th>\n",
       "      <th></th>\n",
       "      <th></th>\n",
       "      <th></th>\n",
       "      <th></th>\n",
       "      <th></th>\n",
       "      <th></th>\n",
       "    </tr>\n",
       "  </thead>\n",
       "  <tbody>\n",
       "    <tr>\n",
       "      <th>2022-07-25</th>\n",
       "      <td>0</td>\n",
       "      <td>0</td>\n",
       "      <td>1</td>\n",
       "      <td>944.99</td>\n",
       "      <td>95.99</td>\n",
       "      <td>True</td>\n",
       "      <td>True</td>\n",
       "      <td>1</td>\n",
       "      <td>2</td>\n",
       "      <td>1</td>\n",
       "      <td>2</td>\n",
       "      <td>1</td>\n",
       "      <td>0</td>\n",
       "      <td>1</td>\n",
       "      <td>0</td>\n",
       "      <td>0</td>\n",
       "      <td>1</td>\n",
       "    </tr>\n",
       "    <tr>\n",
       "      <th>2022-07-26</th>\n",
       "      <td>1</td>\n",
       "      <td>1</td>\n",
       "      <td>1</td>\n",
       "      <td>879.99</td>\n",
       "      <td>31.99</td>\n",
       "      <td>True</td>\n",
       "      <td>True</td>\n",
       "      <td>0</td>\n",
       "      <td>1</td>\n",
       "      <td>2</td>\n",
       "      <td>1</td>\n",
       "      <td>2</td>\n",
       "      <td>1</td>\n",
       "      <td>0</td>\n",
       "      <td>1</td>\n",
       "      <td>0</td>\n",
       "      <td>0</td>\n",
       "    </tr>\n",
       "    <tr>\n",
       "      <th>2022-07-27</th>\n",
       "      <td>3</td>\n",
       "      <td>1</td>\n",
       "      <td>1</td>\n",
       "      <td>879.99</td>\n",
       "      <td>30.99</td>\n",
       "      <td>True</td>\n",
       "      <td>True</td>\n",
       "      <td>1</td>\n",
       "      <td>0</td>\n",
       "      <td>1</td>\n",
       "      <td>2</td>\n",
       "      <td>1</td>\n",
       "      <td>2</td>\n",
       "      <td>1</td>\n",
       "      <td>0</td>\n",
       "      <td>1</td>\n",
       "      <td>0</td>\n",
       "    </tr>\n",
       "    <tr>\n",
       "      <th>2022-07-28</th>\n",
       "      <td>0</td>\n",
       "      <td>0</td>\n",
       "      <td>1</td>\n",
       "      <td>944.99</td>\n",
       "      <td>95.99</td>\n",
       "      <td>True</td>\n",
       "      <td>True</td>\n",
       "      <td>3</td>\n",
       "      <td>1</td>\n",
       "      <td>0</td>\n",
       "      <td>1</td>\n",
       "      <td>2</td>\n",
       "      <td>1</td>\n",
       "      <td>2</td>\n",
       "      <td>1</td>\n",
       "      <td>0</td>\n",
       "      <td>1</td>\n",
       "    </tr>\n",
       "    <tr>\n",
       "      <th>2022-07-29</th>\n",
       "      <td>0</td>\n",
       "      <td>0</td>\n",
       "      <td>0</td>\n",
       "      <td>944.99</td>\n",
       "      <td>-944.99</td>\n",
       "      <td>True</td>\n",
       "      <td>True</td>\n",
       "      <td>0</td>\n",
       "      <td>3</td>\n",
       "      <td>1</td>\n",
       "      <td>0</td>\n",
       "      <td>1</td>\n",
       "      <td>2</td>\n",
       "      <td>1</td>\n",
       "      <td>2</td>\n",
       "      <td>1</td>\n",
       "      <td>0</td>\n",
       "    </tr>\n",
       "    <tr>\n",
       "      <th>2022-07-30</th>\n",
       "      <td>0</td>\n",
       "      <td>0</td>\n",
       "      <td>0</td>\n",
       "      <td>944.99</td>\n",
       "      <td>-944.99</td>\n",
       "      <td>True</td>\n",
       "      <td>True</td>\n",
       "      <td>0</td>\n",
       "      <td>0</td>\n",
       "      <td>3</td>\n",
       "      <td>1</td>\n",
       "      <td>0</td>\n",
       "      <td>1</td>\n",
       "      <td>2</td>\n",
       "      <td>1</td>\n",
       "      <td>2</td>\n",
       "      <td>1</td>\n",
       "    </tr>\n",
       "    <tr>\n",
       "      <th>2022-07-31</th>\n",
       "      <td>1</td>\n",
       "      <td>1</td>\n",
       "      <td>0</td>\n",
       "      <td>829.99</td>\n",
       "      <td>-829.99</td>\n",
       "      <td>True</td>\n",
       "      <td>True</td>\n",
       "      <td>0</td>\n",
       "      <td>0</td>\n",
       "      <td>0</td>\n",
       "      <td>3</td>\n",
       "      <td>1</td>\n",
       "      <td>0</td>\n",
       "      <td>1</td>\n",
       "      <td>2</td>\n",
       "      <td>1</td>\n",
       "      <td>2</td>\n",
       "    </tr>\n",
       "  </tbody>\n",
       "</table>\n",
       "</div>"
      ],
      "text/plain": [
       "           DAILY_UNITS if_promo if_competitor min_sales_price price_delta  \\\n",
       "SALES_DATE                                                                  \n",
       "2022-07-25           0        0             1          944.99       95.99   \n",
       "2022-07-26           1        1             1          879.99       31.99   \n",
       "2022-07-27           3        1             1          879.99       30.99   \n",
       "2022-07-28           0        0             1          944.99       95.99   \n",
       "2022-07-29           0        0             0          944.99     -944.99   \n",
       "2022-07-30           0        0             0          944.99     -944.99   \n",
       "2022-07-31           1        1             0          829.99     -829.99   \n",
       "\n",
       "           validation validation_clean DAILY_UNITS_lag1 DAILY_UNITS_lag2  \\\n",
       "SALES_DATE                                                                 \n",
       "2022-07-25       True             True                1                2   \n",
       "2022-07-26       True             True                0                1   \n",
       "2022-07-27       True             True                1                0   \n",
       "2022-07-28       True             True                3                1   \n",
       "2022-07-29       True             True                0                3   \n",
       "2022-07-30       True             True                0                0   \n",
       "2022-07-31       True             True                0                0   \n",
       "\n",
       "           DAILY_UNITS_lag3 DAILY_UNITS_lag4 DAILY_UNITS_lag5  \\\n",
       "SALES_DATE                                                      \n",
       "2022-07-25                1                2                1   \n",
       "2022-07-26                2                1                2   \n",
       "2022-07-27                1                2                1   \n",
       "2022-07-28                0                1                2   \n",
       "2022-07-29                1                0                1   \n",
       "2022-07-30                3                1                0   \n",
       "2022-07-31                0                3                1   \n",
       "\n",
       "           DAILY_UNITS_lag6 DAILY_UNITS_lag7 DAILY_UNITS_lag8  \\\n",
       "SALES_DATE                                                      \n",
       "2022-07-25                0                1                0   \n",
       "2022-07-26                1                0                1   \n",
       "2022-07-27                2                1                0   \n",
       "2022-07-28                1                2                1   \n",
       "2022-07-29                2                1                2   \n",
       "2022-07-30                1                2                1   \n",
       "2022-07-31                0                1                2   \n",
       "\n",
       "           DAILY_UNITS_lag9 DAILY_UNITS_lag10  \n",
       "SALES_DATE                                     \n",
       "2022-07-25                0                 1  \n",
       "2022-07-26                0                 0  \n",
       "2022-07-27                1                 0  \n",
       "2022-07-28                0                 1  \n",
       "2022-07-29                1                 0  \n",
       "2022-07-30                2                 1  \n",
       "2022-07-31                1                 2  "
      ]
     },
     "execution_count": 42,
     "metadata": {},
     "output_type": "execute_result"
    }
   ],
   "source": [
    "validation_sku"
   ]
  },
  {
   "cell_type": "code",
   "execution_count": 43,
   "id": "54118bc2",
   "metadata": {},
   "outputs": [
    {
     "data": {
      "text/plain": [
       "0.8230627792908871"
      ]
     },
     "execution_count": 43,
     "metadata": {},
     "output_type": "execute_result"
    }
   ],
   "source": [
    "np.mean((validation_sku[\"DAILY_UNITS\"]-y_pred)**2)**0.5"
   ]
  },
  {
   "cell_type": "code",
   "execution_count": 2,
   "id": "d827b882",
   "metadata": {},
   "outputs": [
    {
     "ename": "NameError",
     "evalue": "name 'validation_sku' is not defined",
     "output_type": "error",
     "traceback": [
      "\u001b[0;31m---------------------------------------------------------------------------\u001b[0m",
      "\u001b[0;31mNameError\u001b[0m                                 Traceback (most recent call last)",
      "Cell \u001b[0;32mIn[2], line 1\u001b[0m\n\u001b[0;32m----> 1\u001b[0m \u001b[43mvalidation_sku\u001b[49m[\u001b[38;5;124m\"\u001b[39m\u001b[38;5;124mDAILY_UNITS\u001b[39m\u001b[38;5;124m\"\u001b[39m]\u001b[38;5;241m.\u001b[39mplot()\n",
      "\u001b[0;31mNameError\u001b[0m: name 'validation_sku' is not defined"
     ]
    }
   ],
   "source": [
    "validation_sku[\"DAILY_UNITS\"].plot()"
   ]
  }
 ],
 "metadata": {
  "kernelspec": {
   "display_name": "Python 3 (ipykernel)",
   "language": "python",
   "name": "python3"
  },
  "language_info": {
   "codemirror_mode": {
    "name": "ipython",
    "version": 3
   },
   "file_extension": ".py",
   "mimetype": "text/x-python",
   "name": "python",
   "nbconvert_exporter": "python",
   "pygments_lexer": "ipython3",
   "version": "3.9.15"
  }
 },
 "nbformat": 4,
 "nbformat_minor": 5
}
