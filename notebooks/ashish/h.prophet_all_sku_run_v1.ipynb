{
 "cells": [
  {
   "cell_type": "code",
   "execution_count": 1,
   "id": "dfbf1ae2",
   "metadata": {},
   "outputs": [
    {
     "name": "stdout",
     "output_type": "stream",
     "text": [
      "/Users/ashish1610dhiman/data_projects/bestbuy/notebooks/ashish\r\n"
     ]
    }
   ],
   "source": [
    "!pwd"
   ]
  },
  {
   "cell_type": "code",
   "execution_count": 2,
   "id": "a97ce2f6",
   "metadata": {},
   "outputs": [
    {
     "name": "stderr",
     "output_type": "stream",
     "text": [
      "Importing plotly failed. Interactive plots will not work.\n"
     ]
    }
   ],
   "source": [
    "import sys\n",
    "import matplotlib\n",
    "import numpy as np\n",
    "import pandas as pd\n",
    "import matplotlib.pyplot as plt\n",
    "import datetime\n",
    "\n",
    "sys.version\n",
    "\n",
    "sys.path.append(\"../../\")\n",
    "\n",
    "from src.ad_hmm import sku_predict\n",
    "from src.ad_stl_model import stl_model\n",
    "from src.ad_stl_prophet import stl_model\n",
    "from src.utils import *"
   ]
  },
  {
   "cell_type": "code",
   "execution_count": 3,
   "id": "0a2b0f1e",
   "metadata": {},
   "outputs": [],
   "source": [
    "%load_ext autoreload \n",
    "%autoreload 2"
   ]
  },
  {
   "cell_type": "markdown",
   "id": "6d4d0118",
   "metadata": {},
   "source": [
    "### Input data"
   ]
  },
  {
   "cell_type": "code",
   "execution_count": 4,
   "id": "c5f6b0bd",
   "metadata": {},
   "outputs": [
    {
     "name": "stdout",
     "output_type": "stream",
     "text": [
      "(846632, 15)\n"
     ]
    }
   ],
   "source": [
    "train_test = pd.read_csv(\"../../data/train_validation_marker.csv\")\n",
    "train_test[\"SALES_DATE\"] = pd.to_datetime(train_test[\"SALES_DATE\"])\n",
    "print (train_test.shape)\n",
    "\n",
    "train_test[\"if_promo\"] = (~train_test[\"PROMO_PRICE\"].isin([\"?\"])).astype(\"int\")\n",
    "train_test[\"if_competitor\"] = (~train_test[\"COMPETITOR_PRICE\"].isin([\"?\"])).astype(\"int\")\n",
    "\n",
    "train_test[\"min_sales_price\"] = pd.to_numeric(np.where(train_test.if_promo>0, train_test.PROMO_PRICE,\\\n",
    "                                                       train_test.RETAIL_PRICE))\n",
    "\n",
    "train_test[\"comp_price_clean\"] = pd.to_numeric(np.where(train_test.if_competitor>0,train_test.COMPETITOR_PRICE, np.nan))\n",
    "train_test[\"price_delta\"] = np.where(train_test.if_competitor>0, train_test.min_sales_price - train_test.comp_price_clean,\\\n",
    "                                   -train_test.min_sales_price)"
   ]
  },
  {
   "cell_type": "markdown",
   "id": "c8a680fa",
   "metadata": {},
   "source": [
    "### Pivot data"
   ]
  },
  {
   "cell_type": "code",
   "execution_count": 5,
   "id": "90088968",
   "metadata": {},
   "outputs": [],
   "source": [
    "train_test_pivot = train_test.pivot(index='SALES_DATE', columns='Encoded_SKU_ID',\\\n",
    "                   values=['DAILY_UNITS',\"if_promo\",\"if_competitor\",\"min_sales_price\",\"price_delta\",\\\n",
    "                          \"validation\",\"validation_clean\",\"RETAIL_PRICE\"])\n",
    "train_test_pivot.columns = train_test_pivot.columns.swaplevel(0, 1)"
   ]
  },
  {
   "cell_type": "markdown",
   "id": "39a5e355",
   "metadata": {},
   "source": [
    "### Test code for 1 sku"
   ]
  },
  {
   "cell_type": "code",
   "execution_count": 6,
   "id": "6c757b47",
   "metadata": {},
   "outputs": [
    {
     "name": "stderr",
     "output_type": "stream",
     "text": [
      "/var/folders/kb/v0p0ypbd0wx1q2qb1kpxmmcc0000gn/T/ipykernel_36812/4124826544.py:2: PerformanceWarning: indexing past lexsort depth may impact performance.\n",
      "  train_test_sku = train_test_pivot.loc[:,(sku_id,)].copy()\n"
     ]
    }
   ],
   "source": [
    "sku_id = 50\n",
    "train_test_sku = train_test_pivot.loc[:,(sku_id,)].copy()\n",
    "train_test_sku[\"ad_time\"] = list(range(1,train_test_sku.shape[0]+1))"
   ]
  },
  {
   "cell_type": "code",
   "execution_count": 7,
   "id": "3d5905d0",
   "metadata": {},
   "outputs": [],
   "source": [
    "exog_cols = [\"if_promo\",\"if_competitor\",\"min_sales_price\",\"price_delta\",\"RETAIL_PRICE\"]\n",
    "stl_model1 = stl_model(sku_id = sku_id,\\\n",
    "                      train_test_sku = train_test_sku,\\\n",
    "                      n_lags_y = 30, \\\n",
    "                      n_lags_exog = 14, \\\n",
    "                      pred_cols = exog_cols)"
   ]
  },
  {
   "cell_type": "code",
   "execution_count": 12,
   "id": "282a2944",
   "metadata": {},
   "outputs": [],
   "source": [
    "import warnings\n",
    "warnings.filterwarnings('ignore')"
   ]
  },
  {
   "cell_type": "code",
   "execution_count": 16,
   "id": "66094b89",
   "metadata": {},
   "outputs": [
    {
     "name": "stderr",
     "output_type": "stream",
     "text": [
      "22:58:35 - cmdstanpy - INFO - Chain [1] start processing\n",
      "22:58:35 - cmdstanpy - INFO - Chain [1] done processing\n"
     ]
    },
    {
     "name": "stdout",
     "output_type": "stream",
     "text": [
      "(50, 'none', 'prophet'), Train RMSE = 13.5\n",
      "\n",
      "(50, 'STL_resid', 'auto_reg'), Train RMSE = 9.189\n",
      "(50, 'STL_resid', 'xgb_340'), Train RMSE = 11.06\n",
      "(50, 'STL_resid', 'xgb_1000'), Train RMSE = 10.37\n",
      "\n",
      "(50, 'STL_trend', 'auto_reg'), Train RMSE = 0.0005141\n",
      "(50, 'STL_trend', 'xgb_340'), Train RMSE = 1.13\n",
      "(50, 'STL_trend', 'xgb_1000'), Train RMSE = 1.13\n",
      "\n",
      "(50, 'STL_seasonal', 'auto_reg'), Train RMSE = 9.646\n",
      "(50, 'STL_seasonal', 'xgb_340'), Train RMSE = 7.19\n",
      "(50, 'STL_seasonal', 'xgb_1000'), Train RMSE = 7.8\n",
      "\n",
      "(50, 'MSTL_resid', 'auto_reg'), Train RMSE = 6.781\n",
      "(50, 'MSTL_resid', 'xgb_340'), Train RMSE = 12.55\n",
      "(50, 'MSTL_resid', 'xgb_1000'), Train RMSE = 12.4\n",
      "\n",
      "(50, 'MSTL_trend', 'auto_reg'), Train RMSE = 0.0004901\n",
      "(50, 'MSTL_trend', 'xgb_340'), Train RMSE = 3.413\n",
      "(50, 'MSTL_trend', 'xgb_1000'), Train RMSE = 3.413\n",
      "\n",
      "(50, 'MSTL_seasonal_7', 'auto_reg'), Train RMSE = 0.4017\n",
      "(50, 'MSTL_seasonal_7', 'xgb_340'), Train RMSE = 6.306\n",
      "(50, 'MSTL_seasonal_7', 'xgb_1000'), Train RMSE = 6.023\n",
      "\n",
      "(50, 'MSTL_seasonal_30', 'auto_reg'), Train RMSE = 1.029\n",
      "(50, 'MSTL_seasonal_30', 'xgb_340'), Train RMSE = 6.093\n",
      "(50, 'MSTL_seasonal_30', 'xgb_1000'), Train RMSE = 6.434\n",
      "\n",
      "(50, 'MSTL_seasonal_365', 'auto_reg'), Train RMSE = 7.757\n",
      "(50, 'MSTL_seasonal_365', 'xgb_340'), Train RMSE = 7.176\n",
      "(50, 'MSTL_seasonal_365', 'xgb_1000'), Train RMSE = 7.477\n",
      "\n"
     ]
    }
   ],
   "source": [
    "m_dict, y_dict = stl_model1.fit_models();"
   ]
  },
  {
   "cell_type": "code",
   "execution_count": 18,
   "id": "465c3520",
   "metadata": {},
   "outputs": [],
   "source": [
    "min_models, y_pred = stl_model1.get_result();"
   ]
  },
  {
   "cell_type": "code",
   "execution_count": 19,
   "id": "40d1bf52",
   "metadata": {},
   "outputs": [
    {
     "data": {
      "text/html": [
       "<div>\n",
       "<style scoped>\n",
       "    .dataframe tbody tr th:only-of-type {\n",
       "        vertical-align: middle;\n",
       "    }\n",
       "\n",
       "    .dataframe tbody tr th {\n",
       "        vertical-align: top;\n",
       "    }\n",
       "\n",
       "    .dataframe thead th {\n",
       "        text-align: right;\n",
       "    }\n",
       "</style>\n",
       "<table border=\"1\" class=\"dataframe\">\n",
       "  <thead>\n",
       "    <tr style=\"text-align: right;\">\n",
       "      <th></th>\n",
       "      <th>component</th>\n",
       "      <th>model_name</th>\n",
       "      <th>model</th>\n",
       "      <th>train_rmse</th>\n",
       "      <th>rnk</th>\n",
       "    </tr>\n",
       "  </thead>\n",
       "  <tbody>\n",
       "    <tr>\n",
       "      <th>0</th>\n",
       "      <td>none</td>\n",
       "      <td>prophet</td>\n",
       "      <td>&lt;prophet.forecaster.Prophet object at 0x168722...</td>\n",
       "      <td>13.501301</td>\n",
       "      <td>1.0</td>\n",
       "    </tr>\n",
       "    <tr>\n",
       "      <th>1</th>\n",
       "      <td>STL_resid</td>\n",
       "      <td>auto_reg</td>\n",
       "      <td>&lt;statsmodels.tsa.ar_model.AutoRegResultsWrappe...</td>\n",
       "      <td>9.189268</td>\n",
       "      <td>1.0</td>\n",
       "    </tr>\n",
       "    <tr>\n",
       "      <th>4</th>\n",
       "      <td>STL_trend</td>\n",
       "      <td>auto_reg</td>\n",
       "      <td>&lt;statsmodels.tsa.ar_model.AutoRegResultsWrappe...</td>\n",
       "      <td>0.000514</td>\n",
       "      <td>1.0</td>\n",
       "    </tr>\n",
       "    <tr>\n",
       "      <th>8</th>\n",
       "      <td>STL_seasonal</td>\n",
       "      <td>xgb_340</td>\n",
       "      <td>ForecastingCascade(estimator=XGBRegressor(base...</td>\n",
       "      <td>7.189561</td>\n",
       "      <td>1.0</td>\n",
       "    </tr>\n",
       "    <tr>\n",
       "      <th>10</th>\n",
       "      <td>MSTL_resid</td>\n",
       "      <td>auto_reg</td>\n",
       "      <td>&lt;statsmodels.tsa.ar_model.AutoRegResultsWrappe...</td>\n",
       "      <td>6.780919</td>\n",
       "      <td>1.0</td>\n",
       "    </tr>\n",
       "    <tr>\n",
       "      <th>13</th>\n",
       "      <td>MSTL_trend</td>\n",
       "      <td>auto_reg</td>\n",
       "      <td>&lt;statsmodels.tsa.ar_model.AutoRegResultsWrappe...</td>\n",
       "      <td>0.00049</td>\n",
       "      <td>1.0</td>\n",
       "    </tr>\n",
       "    <tr>\n",
       "      <th>16</th>\n",
       "      <td>MSTL_seasonal_7</td>\n",
       "      <td>auto_reg</td>\n",
       "      <td>&lt;statsmodels.tsa.ar_model.AutoRegResultsWrappe...</td>\n",
       "      <td>0.401686</td>\n",
       "      <td>1.0</td>\n",
       "    </tr>\n",
       "    <tr>\n",
       "      <th>19</th>\n",
       "      <td>MSTL_seasonal_30</td>\n",
       "      <td>auto_reg</td>\n",
       "      <td>&lt;statsmodels.tsa.ar_model.AutoRegResultsWrappe...</td>\n",
       "      <td>1.029333</td>\n",
       "      <td>1.0</td>\n",
       "    </tr>\n",
       "    <tr>\n",
       "      <th>23</th>\n",
       "      <td>MSTL_seasonal_365</td>\n",
       "      <td>xgb_340</td>\n",
       "      <td>ForecastingCascade(estimator=XGBRegressor(base...</td>\n",
       "      <td>7.176495</td>\n",
       "      <td>1.0</td>\n",
       "    </tr>\n",
       "  </tbody>\n",
       "</table>\n",
       "</div>"
      ],
      "text/plain": [
       "            component model_name  \\\n",
       "0                none    prophet   \n",
       "1           STL_resid   auto_reg   \n",
       "4           STL_trend   auto_reg   \n",
       "8        STL_seasonal    xgb_340   \n",
       "10         MSTL_resid   auto_reg   \n",
       "13         MSTL_trend   auto_reg   \n",
       "16    MSTL_seasonal_7   auto_reg   \n",
       "19   MSTL_seasonal_30   auto_reg   \n",
       "23  MSTL_seasonal_365    xgb_340   \n",
       "\n",
       "                                                model train_rmse  rnk  \n",
       "0   <prophet.forecaster.Prophet object at 0x168722...  13.501301  1.0  \n",
       "1   <statsmodels.tsa.ar_model.AutoRegResultsWrappe...   9.189268  1.0  \n",
       "4   <statsmodels.tsa.ar_model.AutoRegResultsWrappe...   0.000514  1.0  \n",
       "8   ForecastingCascade(estimator=XGBRegressor(base...   7.189561  1.0  \n",
       "10  <statsmodels.tsa.ar_model.AutoRegResultsWrappe...   6.780919  1.0  \n",
       "13  <statsmodels.tsa.ar_model.AutoRegResultsWrappe...    0.00049  1.0  \n",
       "16  <statsmodels.tsa.ar_model.AutoRegResultsWrappe...   0.401686  1.0  \n",
       "19  <statsmodels.tsa.ar_model.AutoRegResultsWrappe...   1.029333  1.0  \n",
       "23  ForecastingCascade(estimator=XGBRegressor(base...   7.176495  1.0  "
      ]
     },
     "execution_count": 19,
     "metadata": {},
     "output_type": "execute_result"
    }
   ],
   "source": [
    "min_models"
   ]
  },
  {
   "cell_type": "code",
   "execution_count": 20,
   "id": "046b7ad8",
   "metadata": {},
   "outputs": [
    {
     "name": "stdout",
     "output_type": "stream",
     "text": [
      "12.756134433902387 22.941797893647582 10.56564263929332\n"
     ]
    }
   ],
   "source": [
    "print (np.mean((y_pred[\"actual\"]-y_pred[\"STL_prediction\"])**2)**0.5,\n",
    "np.mean((y_pred[\"actual\"]-y_pred[\"MSTL_prediction\"])**2)**0.5,\n",
    "      np.mean((y_pred[\"actual\"]-y_pred[\"prophet_prediction\"])**2)**0.5)"
   ]
  },
  {
   "cell_type": "markdown",
   "id": "f235c69b",
   "metadata": {},
   "source": [
    "### Run for all SKUs"
   ]
  },
  {
   "cell_type": "code",
   "execution_count": 21,
   "id": "6f8244a5",
   "metadata": {},
   "outputs": [],
   "source": [
    "from joblib import Parallel, delayed\n",
    "from IPython.utils import io\n",
    "from tqdm import tqdm"
   ]
  },
  {
   "cell_type": "code",
   "execution_count": 22,
   "id": "f6fed46a",
   "metadata": {},
   "outputs": [],
   "source": [
    "def fit_one_sku(train_test_pivot1,sku_id1, n_lags_y1, n_lags_exog1, exog_cols1):\n",
    "    train_test_sku1 = train_test_pivot1.loc[:,(sku_id1,)].copy()\n",
    "    train_test_sku1[\"ad_time\"] = list(range(1,train_test_sku1.shape[0]+1))\n",
    "    stl_model1 = stl_model(sku_id = sku_id1,\\\n",
    "                      train_test_sku = train_test_sku1,\\\n",
    "                      n_lags_y = n_lags_y1, \\\n",
    "                      n_lags_exog = n_lags_exog1, \\\n",
    "                      pred_cols = exog_cols1)\n",
    "    try:\n",
    "        with io.capture_output() as captured:\n",
    "            m_dict, y_dict = stl_model1.fit_models();\n",
    "            min_models, y_pred = stl_model1.get_result();\n",
    "        print (f\"Successful for {sku_id1}\")\n",
    "        return (min_models, y_pred)\n",
    "    except:\n",
    "        print (f\"Error for {sku_id1}\")"
   ]
  },
  {
   "cell_type": "code",
   "execution_count": 23,
   "id": "ce97663b",
   "metadata": {},
   "outputs": [],
   "source": [
    "clean_SKUs = train_test[train_test.validation_clean==True][\"Encoded_SKU_ID\"].unique()"
   ]
  },
  {
   "cell_type": "code",
   "execution_count": 38,
   "id": "0e9ab43e",
   "metadata": {},
   "outputs": [
    {
     "name": "stderr",
     "output_type": "stream",
     "text": [
      "  1%|█                                                                                                                                         | 4/545 [00:01<02:18,  3.90it/s]Importing plotly failed. Interactive plots will not work.\n",
      "Importing plotly failed. Interactive plots will not work.\n",
      "/var/folders/kb/v0p0ypbd0wx1q2qb1kpxmmcc0000gn/T/ipykernel_36812/2183440621.py:2: PerformanceWarning: indexing past lexsort depth may impact performance.\n",
      "/var/folders/kb/v0p0ypbd0wx1q2qb1kpxmmcc0000gn/T/ipykernel_36812/2183440621.py:2: PerformanceWarning: indexing past lexsort depth may impact performance.\n",
      "Importing plotly failed. Interactive plots will not work.\n",
      "/var/folders/kb/v0p0ypbd0wx1q2qb1kpxmmcc0000gn/T/ipykernel_36812/2183440621.py:2: PerformanceWarning: indexing past lexsort depth may impact performance.\n",
      "Importing plotly failed. Interactive plots will not work.\n",
      "/var/folders/kb/v0p0ypbd0wx1q2qb1kpxmmcc0000gn/T/ipykernel_36812/2183440621.py:2: PerformanceWarning: indexing past lexsort depth may impact performance.\n",
      "  1%|█▉                                                                                                                                      | 8/545 [04:46<6:16:09, 42.03s/it]/var/folders/kb/v0p0ypbd0wx1q2qb1kpxmmcc0000gn/T/ipykernel_36812/2183440621.py:2: PerformanceWarning: indexing past lexsort depth may impact performance.\n",
      "/var/folders/kb/v0p0ypbd0wx1q2qb1kpxmmcc0000gn/T/ipykernel_36812/2183440621.py:2: PerformanceWarning: indexing past lexsort depth may impact performance.\n",
      "/var/folders/kb/v0p0ypbd0wx1q2qb1kpxmmcc0000gn/T/ipykernel_36812/2183440621.py:2: PerformanceWarning: indexing past lexsort depth may impact performance.\n",
      "/var/folders/kb/v0p0ypbd0wx1q2qb1kpxmmcc0000gn/T/ipykernel_36812/2183440621.py:2: PerformanceWarning: indexing past lexsort depth may impact performance.\n",
      "  2%|██▉                                                                                                                                    | 12/545 [07:34<6:13:30, 42.05s/it]/var/folders/kb/v0p0ypbd0wx1q2qb1kpxmmcc0000gn/T/ipykernel_36812/2183440621.py:2: PerformanceWarning: indexing past lexsort depth may impact performance.\n",
      "/var/folders/kb/v0p0ypbd0wx1q2qb1kpxmmcc0000gn/T/ipykernel_36812/2183440621.py:2: PerformanceWarning: indexing past lexsort depth may impact performance.\n",
      "/var/folders/kb/v0p0ypbd0wx1q2qb1kpxmmcc0000gn/T/ipykernel_36812/2183440621.py:2: PerformanceWarning: indexing past lexsort depth may impact performance.\n",
      "/var/folders/kb/v0p0ypbd0wx1q2qb1kpxmmcc0000gn/T/ipykernel_36812/2183440621.py:2: PerformanceWarning: indexing past lexsort depth may impact performance.\n",
      "  3%|███▉                                                                                                                                   | 16/545 [11:41<7:19:01, 49.80s/it]/var/folders/kb/v0p0ypbd0wx1q2qb1kpxmmcc0000gn/T/ipykernel_36812/2183440621.py:2: PerformanceWarning: indexing past lexsort depth may impact performance.\n",
      "/var/folders/kb/v0p0ypbd0wx1q2qb1kpxmmcc0000gn/T/ipykernel_36812/2183440621.py:2: PerformanceWarning: indexing past lexsort depth may impact performance.\n",
      "/var/folders/kb/v0p0ypbd0wx1q2qb1kpxmmcc0000gn/T/ipykernel_36812/2183440621.py:2: PerformanceWarning: indexing past lexsort depth may impact performance.\n",
      "/var/folders/kb/v0p0ypbd0wx1q2qb1kpxmmcc0000gn/T/ipykernel_36812/2183440621.py:2: PerformanceWarning: indexing past lexsort depth may impact performance.\n",
      "  4%|████▉                                                                                                                                  | 20/545 [16:34<8:30:14, 58.31s/it]/var/folders/kb/v0p0ypbd0wx1q2qb1kpxmmcc0000gn/T/ipykernel_36812/2183440621.py:2: PerformanceWarning: indexing past lexsort depth may impact performance.\n",
      "/var/folders/kb/v0p0ypbd0wx1q2qb1kpxmmcc0000gn/T/ipykernel_36812/2183440621.py:2: PerformanceWarning: indexing past lexsort depth may impact performance.\n",
      "/var/folders/kb/v0p0ypbd0wx1q2qb1kpxmmcc0000gn/T/ipykernel_36812/2183440621.py:2: PerformanceWarning: indexing past lexsort depth may impact performance.\n",
      "/var/folders/kb/v0p0ypbd0wx1q2qb1kpxmmcc0000gn/T/ipykernel_36812/2183440621.py:2: PerformanceWarning: indexing past lexsort depth may impact performance.\n",
      "  4%|█████▉                                                                                                                                 | 24/545 [21:04<8:53:28, 61.44s/it]/var/folders/kb/v0p0ypbd0wx1q2qb1kpxmmcc0000gn/T/ipykernel_36812/2183440621.py:2: PerformanceWarning: indexing past lexsort depth may impact performance.\n",
      "/var/folders/kb/v0p0ypbd0wx1q2qb1kpxmmcc0000gn/T/ipykernel_36812/2183440621.py:2: PerformanceWarning: indexing past lexsort depth may impact performance.\n",
      "/var/folders/kb/v0p0ypbd0wx1q2qb1kpxmmcc0000gn/T/ipykernel_36812/2183440621.py:2: PerformanceWarning: indexing past lexsort depth may impact performance.\n",
      "/var/folders/kb/v0p0ypbd0wx1q2qb1kpxmmcc0000gn/T/ipykernel_36812/2183440621.py:2: PerformanceWarning: indexing past lexsort depth may impact performance.\n",
      "  5%|██████▉                                                                                                                                | 28/545 [25:48<9:16:05, 64.54s/it]/var/folders/kb/v0p0ypbd0wx1q2qb1kpxmmcc0000gn/T/ipykernel_36812/2183440621.py:2: PerformanceWarning: indexing past lexsort depth may impact performance.\n",
      "/var/folders/kb/v0p0ypbd0wx1q2qb1kpxmmcc0000gn/T/ipykernel_36812/2183440621.py:2: PerformanceWarning: indexing past lexsort depth may impact performance.\n",
      "/var/folders/kb/v0p0ypbd0wx1q2qb1kpxmmcc0000gn/T/ipykernel_36812/2183440621.py:2: PerformanceWarning: indexing past lexsort depth may impact performance.\n",
      "/var/folders/kb/v0p0ypbd0wx1q2qb1kpxmmcc0000gn/T/ipykernel_36812/2183440621.py:2: PerformanceWarning: indexing past lexsort depth may impact performance.\n",
      "  6%|███████▊                                                                                                                             | 32/545 [40:28<16:14:53, 114.02s/it]/var/folders/kb/v0p0ypbd0wx1q2qb1kpxmmcc0000gn/T/ipykernel_36812/2183440621.py:2: PerformanceWarning: indexing past lexsort depth may impact performance.\n",
      "/var/folders/kb/v0p0ypbd0wx1q2qb1kpxmmcc0000gn/T/ipykernel_36812/2183440621.py:2: PerformanceWarning: indexing past lexsort depth may impact performance.\n",
      "/var/folders/kb/v0p0ypbd0wx1q2qb1kpxmmcc0000gn/T/ipykernel_36812/2183440621.py:2: PerformanceWarning: indexing past lexsort depth may impact performance.\n",
      "/var/folders/kb/v0p0ypbd0wx1q2qb1kpxmmcc0000gn/T/ipykernel_36812/2183440621.py:2: PerformanceWarning: indexing past lexsort depth may impact performance.\n",
      "  7%|████████▊                                                                                                                             | 36/545 [44:18<13:37:12, 96.33s/it]/var/folders/kb/v0p0ypbd0wx1q2qb1kpxmmcc0000gn/T/ipykernel_36812/2183440621.py:2: PerformanceWarning: indexing past lexsort depth may impact performance.\n",
      "/var/folders/kb/v0p0ypbd0wx1q2qb1kpxmmcc0000gn/T/ipykernel_36812/2183440621.py:2: PerformanceWarning: indexing past lexsort depth may impact performance.\n",
      "/var/folders/kb/v0p0ypbd0wx1q2qb1kpxmmcc0000gn/T/ipykernel_36812/2183440621.py:2: PerformanceWarning: indexing past lexsort depth may impact performance.\n",
      "/var/folders/kb/v0p0ypbd0wx1q2qb1kpxmmcc0000gn/T/ipykernel_36812/2183440621.py:2: PerformanceWarning: indexing past lexsort depth may impact performance.\n",
      "  7%|█████████▊                                                                                                                            | 40/545 [46:08<10:32:06, 75.10s/it]/var/folders/kb/v0p0ypbd0wx1q2qb1kpxmmcc0000gn/T/ipykernel_36812/2183440621.py:2: PerformanceWarning: indexing past lexsort depth may impact performance.\n",
      "/var/folders/kb/v0p0ypbd0wx1q2qb1kpxmmcc0000gn/T/ipykernel_36812/2183440621.py:2: PerformanceWarning: indexing past lexsort depth may impact performance.\n",
      "/var/folders/kb/v0p0ypbd0wx1q2qb1kpxmmcc0000gn/T/ipykernel_36812/2183440621.py:2: PerformanceWarning: indexing past lexsort depth may impact performance.\n",
      "/var/folders/kb/v0p0ypbd0wx1q2qb1kpxmmcc0000gn/T/ipykernel_36812/2183440621.py:2: PerformanceWarning: indexing past lexsort depth may impact performance.\n"
     ]
    },
    {
     "name": "stderr",
     "output_type": "stream",
     "text": [
      "  8%|██████████▋                                                                                                                          | 44/545 [58:00<14:50:08, 106.60s/it]/var/folders/kb/v0p0ypbd0wx1q2qb1kpxmmcc0000gn/T/ipykernel_36812/2183440621.py:2: PerformanceWarning: indexing past lexsort depth may impact performance.\n",
      "/var/folders/kb/v0p0ypbd0wx1q2qb1kpxmmcc0000gn/T/ipykernel_36812/2183440621.py:2: PerformanceWarning: indexing past lexsort depth may impact performance.\n",
      "/var/folders/kb/v0p0ypbd0wx1q2qb1kpxmmcc0000gn/T/ipykernel_36812/2183440621.py:2: PerformanceWarning: indexing past lexsort depth may impact performance.\n",
      "/var/folders/kb/v0p0ypbd0wx1q2qb1kpxmmcc0000gn/T/ipykernel_36812/2183440621.py:2: PerformanceWarning: indexing past lexsort depth may impact performance.\n",
      "  9%|███████████▋                                                                                                                        | 48/545 [1:02:13<12:54:05, 93.45s/it]/var/folders/kb/v0p0ypbd0wx1q2qb1kpxmmcc0000gn/T/ipykernel_36812/2183440621.py:2: PerformanceWarning: indexing past lexsort depth may impact performance.\n",
      "/var/folders/kb/v0p0ypbd0wx1q2qb1kpxmmcc0000gn/T/ipykernel_36812/2183440621.py:2: PerformanceWarning: indexing past lexsort depth may impact performance.\n",
      "/var/folders/kb/v0p0ypbd0wx1q2qb1kpxmmcc0000gn/T/ipykernel_36812/2183440621.py:2: PerformanceWarning: indexing past lexsort depth may impact performance.\n",
      "/var/folders/kb/v0p0ypbd0wx1q2qb1kpxmmcc0000gn/T/ipykernel_36812/2183440621.py:2: PerformanceWarning: indexing past lexsort depth may impact performance.\n",
      " 10%|████████████▌                                                                                                                       | 52/545 [1:05:08<10:43:37, 78.33s/it]/var/folders/kb/v0p0ypbd0wx1q2qb1kpxmmcc0000gn/T/ipykernel_36812/2183440621.py:2: PerformanceWarning: indexing past lexsort depth may impact performance.\n",
      "/var/folders/kb/v0p0ypbd0wx1q2qb1kpxmmcc0000gn/T/ipykernel_36812/2183440621.py:2: PerformanceWarning: indexing past lexsort depth may impact performance.\n",
      "/var/folders/kb/v0p0ypbd0wx1q2qb1kpxmmcc0000gn/T/ipykernel_36812/2183440621.py:2: PerformanceWarning: indexing past lexsort depth may impact performance.\n",
      "/var/folders/kb/v0p0ypbd0wx1q2qb1kpxmmcc0000gn/T/ipykernel_36812/2183440621.py:2: PerformanceWarning: indexing past lexsort depth may impact performance.\n",
      " 10%|█████████████▋                                                                                                                       | 56/545 [1:08:52<9:43:45, 71.63s/it]/var/folders/kb/v0p0ypbd0wx1q2qb1kpxmmcc0000gn/T/ipykernel_36812/2183440621.py:2: PerformanceWarning: indexing past lexsort depth may impact performance.\n",
      "/var/folders/kb/v0p0ypbd0wx1q2qb1kpxmmcc0000gn/T/ipykernel_36812/2183440621.py:2: PerformanceWarning: indexing past lexsort depth may impact performance.\n",
      "/var/folders/kb/v0p0ypbd0wx1q2qb1kpxmmcc0000gn/T/ipykernel_36812/2183440621.py:2: PerformanceWarning: indexing past lexsort depth may impact performance.\n",
      "/var/folders/kb/v0p0ypbd0wx1q2qb1kpxmmcc0000gn/T/ipykernel_36812/2183440621.py:2: PerformanceWarning: indexing past lexsort depth may impact performance.\n",
      " 11%|██████████████▋                                                                                                                      | 60/545 [1:12:07<8:43:19, 64.74s/it]/var/folders/kb/v0p0ypbd0wx1q2qb1kpxmmcc0000gn/T/ipykernel_36812/2183440621.py:2: PerformanceWarning: indexing past lexsort depth may impact performance.\n",
      "/var/folders/kb/v0p0ypbd0wx1q2qb1kpxmmcc0000gn/T/ipykernel_36812/2183440621.py:2: PerformanceWarning: indexing past lexsort depth may impact performance.\n",
      "/var/folders/kb/v0p0ypbd0wx1q2qb1kpxmmcc0000gn/T/ipykernel_36812/2183440621.py:2: PerformanceWarning: indexing past lexsort depth may impact performance.\n",
      "/var/folders/kb/v0p0ypbd0wx1q2qb1kpxmmcc0000gn/T/ipykernel_36812/2183440621.py:2: PerformanceWarning: indexing past lexsort depth may impact performance.\n",
      " 12%|███████████████▌                                                                                                                     | 64/545 [1:15:44<8:13:21, 61.54s/it]/var/folders/kb/v0p0ypbd0wx1q2qb1kpxmmcc0000gn/T/ipykernel_36812/2183440621.py:2: PerformanceWarning: indexing past lexsort depth may impact performance.\n",
      "/var/folders/kb/v0p0ypbd0wx1q2qb1kpxmmcc0000gn/T/ipykernel_36812/2183440621.py:2: PerformanceWarning: indexing past lexsort depth may impact performance.\n",
      "/var/folders/kb/v0p0ypbd0wx1q2qb1kpxmmcc0000gn/T/ipykernel_36812/2183440621.py:2: PerformanceWarning: indexing past lexsort depth may impact performance.\n",
      "/var/folders/kb/v0p0ypbd0wx1q2qb1kpxmmcc0000gn/T/ipykernel_36812/2183440621.py:2: PerformanceWarning: indexing past lexsort depth may impact performance.\n",
      " 12%|████████████████▌                                                                                                                    | 68/545 [1:19:36<8:01:02, 60.51s/it]/var/folders/kb/v0p0ypbd0wx1q2qb1kpxmmcc0000gn/T/ipykernel_36812/2183440621.py:2: PerformanceWarning: indexing past lexsort depth may impact performance.\n",
      "/var/folders/kb/v0p0ypbd0wx1q2qb1kpxmmcc0000gn/T/ipykernel_36812/2183440621.py:2: PerformanceWarning: indexing past lexsort depth may impact performance.\n",
      "/var/folders/kb/v0p0ypbd0wx1q2qb1kpxmmcc0000gn/T/ipykernel_36812/2183440621.py:2: PerformanceWarning: indexing past lexsort depth may impact performance.\n",
      "/var/folders/kb/v0p0ypbd0wx1q2qb1kpxmmcc0000gn/T/ipykernel_36812/2183440621.py:2: PerformanceWarning: indexing past lexsort depth may impact performance.\n",
      " 13%|█████████████████▌                                                                                                                   | 72/545 [1:23:45<8:01:08, 61.03s/it]/var/folders/kb/v0p0ypbd0wx1q2qb1kpxmmcc0000gn/T/ipykernel_36812/2183440621.py:2: PerformanceWarning: indexing past lexsort depth may impact performance.\n",
      "/var/folders/kb/v0p0ypbd0wx1q2qb1kpxmmcc0000gn/T/ipykernel_36812/2183440621.py:2: PerformanceWarning: indexing past lexsort depth may impact performance.\n",
      "/var/folders/kb/v0p0ypbd0wx1q2qb1kpxmmcc0000gn/T/ipykernel_36812/2183440621.py:2: PerformanceWarning: indexing past lexsort depth may impact performance.\n",
      "/var/folders/kb/v0p0ypbd0wx1q2qb1kpxmmcc0000gn/T/ipykernel_36812/2183440621.py:2: PerformanceWarning: indexing past lexsort depth may impact performance.\n",
      " 14%|██████████████████▌                                                                                                                  | 76/545 [1:28:46<8:30:29, 65.31s/it]/var/folders/kb/v0p0ypbd0wx1q2qb1kpxmmcc0000gn/T/ipykernel_36812/2183440621.py:2: PerformanceWarning: indexing past lexsort depth may impact performance.\n",
      "/var/folders/kb/v0p0ypbd0wx1q2qb1kpxmmcc0000gn/T/ipykernel_36812/2183440621.py:2: PerformanceWarning: indexing past lexsort depth may impact performance.\n",
      "/var/folders/kb/v0p0ypbd0wx1q2qb1kpxmmcc0000gn/T/ipykernel_36812/2183440621.py:2: PerformanceWarning: indexing past lexsort depth may impact performance.\n",
      "/var/folders/kb/v0p0ypbd0wx1q2qb1kpxmmcc0000gn/T/ipykernel_36812/2183440621.py:2: PerformanceWarning: indexing past lexsort depth may impact performance.\n",
      " 15%|███████████████████▌                                                                                                                 | 80/545 [1:33:36<8:42:37, 67.43s/it]/var/folders/kb/v0p0ypbd0wx1q2qb1kpxmmcc0000gn/T/ipykernel_36812/2183440621.py:2: PerformanceWarning: indexing past lexsort depth may impact performance.\n",
      "/var/folders/kb/v0p0ypbd0wx1q2qb1kpxmmcc0000gn/T/ipykernel_36812/2183440621.py:2: PerformanceWarning: indexing past lexsort depth may impact performance.\n",
      "/var/folders/kb/v0p0ypbd0wx1q2qb1kpxmmcc0000gn/T/ipykernel_36812/2183440621.py:2: PerformanceWarning: indexing past lexsort depth may impact performance.\n",
      "/var/folders/kb/v0p0ypbd0wx1q2qb1kpxmmcc0000gn/T/ipykernel_36812/2183440621.py:2: PerformanceWarning: indexing past lexsort depth may impact performance.\n",
      " 15%|████████████████████▍                                                                                                                | 84/545 [1:37:51<8:29:39, 66.33s/it]/var/folders/kb/v0p0ypbd0wx1q2qb1kpxmmcc0000gn/T/ipykernel_36812/2183440621.py:2: PerformanceWarning: indexing past lexsort depth may impact performance.\n"
     ]
    },
    {
     "name": "stderr",
     "output_type": "stream",
     "text": [
      "/var/folders/kb/v0p0ypbd0wx1q2qb1kpxmmcc0000gn/T/ipykernel_36812/2183440621.py:2: PerformanceWarning: indexing past lexsort depth may impact performance.\n",
      "/var/folders/kb/v0p0ypbd0wx1q2qb1kpxmmcc0000gn/T/ipykernel_36812/2183440621.py:2: PerformanceWarning: indexing past lexsort depth may impact performance.\n",
      "/var/folders/kb/v0p0ypbd0wx1q2qb1kpxmmcc0000gn/T/ipykernel_36812/2183440621.py:2: PerformanceWarning: indexing past lexsort depth may impact performance.\n",
      " 16%|█████████████████████▍                                                                                                               | 88/545 [1:40:58<7:40:45, 60.49s/it]/var/folders/kb/v0p0ypbd0wx1q2qb1kpxmmcc0000gn/T/ipykernel_36812/2183440621.py:2: PerformanceWarning: indexing past lexsort depth may impact performance.\n",
      "/var/folders/kb/v0p0ypbd0wx1q2qb1kpxmmcc0000gn/T/ipykernel_36812/2183440621.py:2: PerformanceWarning: indexing past lexsort depth may impact performance.\n",
      "/var/folders/kb/v0p0ypbd0wx1q2qb1kpxmmcc0000gn/T/ipykernel_36812/2183440621.py:2: PerformanceWarning: indexing past lexsort depth may impact performance.\n",
      "/var/folders/kb/v0p0ypbd0wx1q2qb1kpxmmcc0000gn/T/ipykernel_36812/2183440621.py:2: PerformanceWarning: indexing past lexsort depth may impact performance.\n",
      " 17%|██████████████████████▍                                                                                                              | 92/545 [1:45:10<7:42:25, 61.25s/it]/var/folders/kb/v0p0ypbd0wx1q2qb1kpxmmcc0000gn/T/ipykernel_36812/2183440621.py:2: PerformanceWarning: indexing past lexsort depth may impact performance.\n",
      "/var/folders/kb/v0p0ypbd0wx1q2qb1kpxmmcc0000gn/T/ipykernel_36812/2183440621.py:2: PerformanceWarning: indexing past lexsort depth may impact performance.\n",
      "/var/folders/kb/v0p0ypbd0wx1q2qb1kpxmmcc0000gn/T/ipykernel_36812/2183440621.py:2: PerformanceWarning: indexing past lexsort depth may impact performance.\n",
      "/var/folders/kb/v0p0ypbd0wx1q2qb1kpxmmcc0000gn/T/ipykernel_36812/2183440621.py:2: PerformanceWarning: indexing past lexsort depth may impact performance.\n",
      " 18%|███████████████████████▍                                                                                                             | 96/545 [1:49:39<7:51:52, 63.06s/it]/var/folders/kb/v0p0ypbd0wx1q2qb1kpxmmcc0000gn/T/ipykernel_36812/2183440621.py:2: PerformanceWarning: indexing past lexsort depth may impact performance.\n",
      "/var/folders/kb/v0p0ypbd0wx1q2qb1kpxmmcc0000gn/T/ipykernel_36812/2183440621.py:2: PerformanceWarning: indexing past lexsort depth may impact performance.\n",
      "/var/folders/kb/v0p0ypbd0wx1q2qb1kpxmmcc0000gn/T/ipykernel_36812/2183440621.py:2: PerformanceWarning: indexing past lexsort depth may impact performance.\n",
      "/var/folders/kb/v0p0ypbd0wx1q2qb1kpxmmcc0000gn/T/ipykernel_36812/2183440621.py:2: PerformanceWarning: indexing past lexsort depth may impact performance.\n",
      " 18%|████████████████████████▏                                                                                                           | 100/545 [1:52:01<6:46:10, 54.76s/it]/var/folders/kb/v0p0ypbd0wx1q2qb1kpxmmcc0000gn/T/ipykernel_36812/2183440621.py:2: PerformanceWarning: indexing past lexsort depth may impact performance.\n",
      "/var/folders/kb/v0p0ypbd0wx1q2qb1kpxmmcc0000gn/T/ipykernel_36812/2183440621.py:2: PerformanceWarning: indexing past lexsort depth may impact performance.\n",
      "/var/folders/kb/v0p0ypbd0wx1q2qb1kpxmmcc0000gn/T/ipykernel_36812/2183440621.py:2: PerformanceWarning: indexing past lexsort depth may impact performance.\n",
      "/var/folders/kb/v0p0ypbd0wx1q2qb1kpxmmcc0000gn/T/ipykernel_36812/2183440621.py:2: PerformanceWarning: indexing past lexsort depth may impact performance.\n",
      " 19%|█████████████████████████▏                                                                                                          | 104/545 [1:56:44<7:17:38, 59.54s/it]/var/folders/kb/v0p0ypbd0wx1q2qb1kpxmmcc0000gn/T/ipykernel_36812/2183440621.py:2: PerformanceWarning: indexing past lexsort depth may impact performance.\n",
      "/var/folders/kb/v0p0ypbd0wx1q2qb1kpxmmcc0000gn/T/ipykernel_36812/2183440621.py:2: PerformanceWarning: indexing past lexsort depth may impact performance.\n",
      "/var/folders/kb/v0p0ypbd0wx1q2qb1kpxmmcc0000gn/T/ipykernel_36812/2183440621.py:2: PerformanceWarning: indexing past lexsort depth may impact performance.\n",
      "/var/folders/kb/v0p0ypbd0wx1q2qb1kpxmmcc0000gn/T/ipykernel_36812/2183440621.py:2: PerformanceWarning: indexing past lexsort depth may impact performance.\n",
      " 20%|██████████████████████████▏                                                                                                         | 108/545 [1:59:07<6:21:48, 52.42s/it]/var/folders/kb/v0p0ypbd0wx1q2qb1kpxmmcc0000gn/T/ipykernel_36812/2183440621.py:2: PerformanceWarning: indexing past lexsort depth may impact performance.\n",
      "/var/folders/kb/v0p0ypbd0wx1q2qb1kpxmmcc0000gn/T/ipykernel_36812/2183440621.py:2: PerformanceWarning: indexing past lexsort depth may impact performance.\n",
      "/var/folders/kb/v0p0ypbd0wx1q2qb1kpxmmcc0000gn/T/ipykernel_36812/2183440621.py:2: PerformanceWarning: indexing past lexsort depth may impact performance.\n",
      "/var/folders/kb/v0p0ypbd0wx1q2qb1kpxmmcc0000gn/T/ipykernel_36812/2183440621.py:2: PerformanceWarning: indexing past lexsort depth may impact performance.\n",
      " 21%|███████████████████████████▏                                                                                                        | 112/545 [2:03:58<7:02:17, 58.52s/it]/var/folders/kb/v0p0ypbd0wx1q2qb1kpxmmcc0000gn/T/ipykernel_36812/2183440621.py:2: PerformanceWarning: indexing past lexsort depth may impact performance.\n",
      "/var/folders/kb/v0p0ypbd0wx1q2qb1kpxmmcc0000gn/T/ipykernel_36812/2183440621.py:2: PerformanceWarning: indexing past lexsort depth may impact performance.\n",
      "/var/folders/kb/v0p0ypbd0wx1q2qb1kpxmmcc0000gn/T/ipykernel_36812/2183440621.py:2: PerformanceWarning: indexing past lexsort depth may impact performance.\n",
      "/var/folders/kb/v0p0ypbd0wx1q2qb1kpxmmcc0000gn/T/ipykernel_36812/2183440621.py:2: PerformanceWarning: indexing past lexsort depth may impact performance.\n",
      " 21%|████████████████████████████                                                                                                        | 116/545 [2:08:27<7:16:59, 61.12s/it]/var/folders/kb/v0p0ypbd0wx1q2qb1kpxmmcc0000gn/T/ipykernel_36812/2183440621.py:2: PerformanceWarning: indexing past lexsort depth may impact performance.\n",
      "/var/folders/kb/v0p0ypbd0wx1q2qb1kpxmmcc0000gn/T/ipykernel_36812/2183440621.py:2: PerformanceWarning: indexing past lexsort depth may impact performance.\n",
      "/var/folders/kb/v0p0ypbd0wx1q2qb1kpxmmcc0000gn/T/ipykernel_36812/2183440621.py:2: PerformanceWarning: indexing past lexsort depth may impact performance.\n",
      "/var/folders/kb/v0p0ypbd0wx1q2qb1kpxmmcc0000gn/T/ipykernel_36812/2183440621.py:2: PerformanceWarning: indexing past lexsort depth may impact performance.\n",
      " 22%|█████████████████████████████                                                                                                       | 120/545 [2:12:42<7:18:51, 61.96s/it]/var/folders/kb/v0p0ypbd0wx1q2qb1kpxmmcc0000gn/T/ipykernel_36812/2183440621.py:2: PerformanceWarning: indexing past lexsort depth may impact performance.\n",
      "/var/folders/kb/v0p0ypbd0wx1q2qb1kpxmmcc0000gn/T/ipykernel_36812/2183440621.py:2: PerformanceWarning: indexing past lexsort depth may impact performance.\n",
      "/var/folders/kb/v0p0ypbd0wx1q2qb1kpxmmcc0000gn/T/ipykernel_36812/2183440621.py:2: PerformanceWarning: indexing past lexsort depth may impact performance.\n",
      "/var/folders/kb/v0p0ypbd0wx1q2qb1kpxmmcc0000gn/T/ipykernel_36812/2183440621.py:2: PerformanceWarning: indexing past lexsort depth may impact performance.\n",
      " 23%|██████████████████████████████                                                                                                      | 124/545 [2:16:38<7:08:05, 61.01s/it]/var/folders/kb/v0p0ypbd0wx1q2qb1kpxmmcc0000gn/T/ipykernel_36812/2183440621.py:2: PerformanceWarning: indexing past lexsort depth may impact performance.\n",
      "/var/folders/kb/v0p0ypbd0wx1q2qb1kpxmmcc0000gn/T/ipykernel_36812/2183440621.py:2: PerformanceWarning: indexing past lexsort depth may impact performance.\n",
      "/var/folders/kb/v0p0ypbd0wx1q2qb1kpxmmcc0000gn/T/ipykernel_36812/2183440621.py:2: PerformanceWarning: indexing past lexsort depth may impact performance.\n"
     ]
    },
    {
     "name": "stderr",
     "output_type": "stream",
     "text": [
      "/var/folders/kb/v0p0ypbd0wx1q2qb1kpxmmcc0000gn/T/ipykernel_36812/2183440621.py:2: PerformanceWarning: indexing past lexsort depth may impact performance.\n",
      " 23%|███████████████████████████████                                                                                                     | 128/545 [2:20:33<6:59:14, 60.32s/it]/var/folders/kb/v0p0ypbd0wx1q2qb1kpxmmcc0000gn/T/ipykernel_36812/2183440621.py:2: PerformanceWarning: indexing past lexsort depth may impact performance.\n",
      "/var/folders/kb/v0p0ypbd0wx1q2qb1kpxmmcc0000gn/T/ipykernel_36812/2183440621.py:2: PerformanceWarning: indexing past lexsort depth may impact performance.\n",
      "/var/folders/kb/v0p0ypbd0wx1q2qb1kpxmmcc0000gn/T/ipykernel_36812/2183440621.py:2: PerformanceWarning: indexing past lexsort depth may impact performance.\n",
      "/var/folders/kb/v0p0ypbd0wx1q2qb1kpxmmcc0000gn/T/ipykernel_36812/2183440621.py:2: PerformanceWarning: indexing past lexsort depth may impact performance.\n",
      " 24%|███████████████████████████████▉                                                                                                    | 132/545 [2:25:17<7:17:22, 63.54s/it]/var/folders/kb/v0p0ypbd0wx1q2qb1kpxmmcc0000gn/T/ipykernel_36812/2183440621.py:2: PerformanceWarning: indexing past lexsort depth may impact performance.\n",
      "/var/folders/kb/v0p0ypbd0wx1q2qb1kpxmmcc0000gn/T/ipykernel_36812/2183440621.py:2: PerformanceWarning: indexing past lexsort depth may impact performance.\n",
      "/var/folders/kb/v0p0ypbd0wx1q2qb1kpxmmcc0000gn/T/ipykernel_36812/2183440621.py:2: PerformanceWarning: indexing past lexsort depth may impact performance.\n",
      "/var/folders/kb/v0p0ypbd0wx1q2qb1kpxmmcc0000gn/T/ipykernel_36812/2183440621.py:2: PerformanceWarning: indexing past lexsort depth may impact performance.\n",
      " 25%|████████████████████████████████▉                                                                                                   | 136/545 [2:30:05<7:30:20, 66.06s/it]/var/folders/kb/v0p0ypbd0wx1q2qb1kpxmmcc0000gn/T/ipykernel_36812/2183440621.py:2: PerformanceWarning: indexing past lexsort depth may impact performance.\n",
      "/var/folders/kb/v0p0ypbd0wx1q2qb1kpxmmcc0000gn/T/ipykernel_36812/2183440621.py:2: PerformanceWarning: indexing past lexsort depth may impact performance.\n",
      "/var/folders/kb/v0p0ypbd0wx1q2qb1kpxmmcc0000gn/T/ipykernel_36812/2183440621.py:2: PerformanceWarning: indexing past lexsort depth may impact performance.\n",
      "/var/folders/kb/v0p0ypbd0wx1q2qb1kpxmmcc0000gn/T/ipykernel_36812/2183440621.py:2: PerformanceWarning: indexing past lexsort depth may impact performance.\n",
      " 26%|█████████████████████████████████▉                                                                                                  | 140/545 [2:33:56<7:09:24, 63.62s/it]/var/folders/kb/v0p0ypbd0wx1q2qb1kpxmmcc0000gn/T/ipykernel_36812/2183440621.py:2: PerformanceWarning: indexing past lexsort depth may impact performance.\n",
      "/var/folders/kb/v0p0ypbd0wx1q2qb1kpxmmcc0000gn/T/ipykernel_36812/2183440621.py:2: PerformanceWarning: indexing past lexsort depth may impact performance.\n",
      "/var/folders/kb/v0p0ypbd0wx1q2qb1kpxmmcc0000gn/T/ipykernel_36812/2183440621.py:2: PerformanceWarning: indexing past lexsort depth may impact performance.\n",
      "/var/folders/kb/v0p0ypbd0wx1q2qb1kpxmmcc0000gn/T/ipykernel_36812/2183440621.py:2: PerformanceWarning: indexing past lexsort depth may impact performance.\n",
      " 26%|██████████████████████████████████▉                                                                                                 | 144/545 [2:36:47<6:23:09, 57.33s/it]/var/folders/kb/v0p0ypbd0wx1q2qb1kpxmmcc0000gn/T/ipykernel_36812/2183440621.py:2: PerformanceWarning: indexing past lexsort depth may impact performance.\n",
      "/var/folders/kb/v0p0ypbd0wx1q2qb1kpxmmcc0000gn/T/ipykernel_36812/2183440621.py:2: PerformanceWarning: indexing past lexsort depth may impact performance.\n",
      "/var/folders/kb/v0p0ypbd0wx1q2qb1kpxmmcc0000gn/T/ipykernel_36812/2183440621.py:2: PerformanceWarning: indexing past lexsort depth may impact performance.\n",
      "/var/folders/kb/v0p0ypbd0wx1q2qb1kpxmmcc0000gn/T/ipykernel_36812/2183440621.py:2: PerformanceWarning: indexing past lexsort depth may impact performance.\n",
      " 27%|███████████████████████████████████▊                                                                                                | 148/545 [2:42:06<7:03:53, 64.06s/it]/var/folders/kb/v0p0ypbd0wx1q2qb1kpxmmcc0000gn/T/ipykernel_36812/2183440621.py:2: PerformanceWarning: indexing past lexsort depth may impact performance.\n",
      "/var/folders/kb/v0p0ypbd0wx1q2qb1kpxmmcc0000gn/T/ipykernel_36812/2183440621.py:2: PerformanceWarning: indexing past lexsort depth may impact performance.\n",
      "/var/folders/kb/v0p0ypbd0wx1q2qb1kpxmmcc0000gn/T/ipykernel_36812/2183440621.py:2: PerformanceWarning: indexing past lexsort depth may impact performance.\n",
      "/var/folders/kb/v0p0ypbd0wx1q2qb1kpxmmcc0000gn/T/ipykernel_36812/2183440621.py:2: PerformanceWarning: indexing past lexsort depth may impact performance.\n",
      " 28%|████████████████████████████████████▊                                                                                               | 152/545 [2:46:38<7:07:09, 65.22s/it]/var/folders/kb/v0p0ypbd0wx1q2qb1kpxmmcc0000gn/T/ipykernel_36812/2183440621.py:2: PerformanceWarning: indexing past lexsort depth may impact performance.\n",
      "/var/folders/kb/v0p0ypbd0wx1q2qb1kpxmmcc0000gn/T/ipykernel_36812/2183440621.py:2: PerformanceWarning: indexing past lexsort depth may impact performance.\n",
      "/var/folders/kb/v0p0ypbd0wx1q2qb1kpxmmcc0000gn/T/ipykernel_36812/2183440621.py:2: PerformanceWarning: indexing past lexsort depth may impact performance.\n",
      "/var/folders/kb/v0p0ypbd0wx1q2qb1kpxmmcc0000gn/T/ipykernel_36812/2183440621.py:2: PerformanceWarning: indexing past lexsort depth may impact performance.\n",
      " 29%|█████████████████████████████████████▊                                                                                              | 156/545 [2:50:26<6:46:47, 62.75s/it]/var/folders/kb/v0p0ypbd0wx1q2qb1kpxmmcc0000gn/T/ipykernel_36812/2183440621.py:2: PerformanceWarning: indexing past lexsort depth may impact performance.\n",
      "/var/folders/kb/v0p0ypbd0wx1q2qb1kpxmmcc0000gn/T/ipykernel_36812/2183440621.py:2: PerformanceWarning: indexing past lexsort depth may impact performance.\n",
      "/var/folders/kb/v0p0ypbd0wx1q2qb1kpxmmcc0000gn/T/ipykernel_36812/2183440621.py:2: PerformanceWarning: indexing past lexsort depth may impact performance.\n",
      "/var/folders/kb/v0p0ypbd0wx1q2qb1kpxmmcc0000gn/T/ipykernel_36812/2183440621.py:2: PerformanceWarning: indexing past lexsort depth may impact performance.\n",
      " 29%|██████████████████████████████████████▊                                                                                             | 160/545 [2:55:47<7:16:29, 68.03s/it]/var/folders/kb/v0p0ypbd0wx1q2qb1kpxmmcc0000gn/T/ipykernel_36812/2183440621.py:2: PerformanceWarning: indexing past lexsort depth may impact performance.\n",
      "/var/folders/kb/v0p0ypbd0wx1q2qb1kpxmmcc0000gn/T/ipykernel_36812/2183440621.py:2: PerformanceWarning: indexing past lexsort depth may impact performance.\n",
      "/var/folders/kb/v0p0ypbd0wx1q2qb1kpxmmcc0000gn/T/ipykernel_36812/2183440621.py:2: PerformanceWarning: indexing past lexsort depth may impact performance.\n",
      "/var/folders/kb/v0p0ypbd0wx1q2qb1kpxmmcc0000gn/T/ipykernel_36812/2183440621.py:2: PerformanceWarning: indexing past lexsort depth may impact performance.\n",
      " 30%|███████████████████████████████████████▋                                                                                            | 164/545 [3:00:05<7:05:22, 66.99s/it]/var/folders/kb/v0p0ypbd0wx1q2qb1kpxmmcc0000gn/T/ipykernel_36812/2183440621.py:2: PerformanceWarning: indexing past lexsort depth may impact performance.\n",
      "/var/folders/kb/v0p0ypbd0wx1q2qb1kpxmmcc0000gn/T/ipykernel_36812/2183440621.py:2: PerformanceWarning: indexing past lexsort depth may impact performance.\n",
      "/var/folders/kb/v0p0ypbd0wx1q2qb1kpxmmcc0000gn/T/ipykernel_36812/2183440621.py:2: PerformanceWarning: indexing past lexsort depth may impact performance.\n",
      "/var/folders/kb/v0p0ypbd0wx1q2qb1kpxmmcc0000gn/T/ipykernel_36812/2183440621.py:2: PerformanceWarning: indexing past lexsort depth may impact performance.\n"
     ]
    },
    {
     "name": "stderr",
     "output_type": "stream",
     "text": [
      " 31%|████████████████████████████████████████▋                                                                                           | 168/545 [3:04:01<6:45:48, 64.59s/it]/var/folders/kb/v0p0ypbd0wx1q2qb1kpxmmcc0000gn/T/ipykernel_36812/2183440621.py:2: PerformanceWarning: indexing past lexsort depth may impact performance.\n",
      "/var/folders/kb/v0p0ypbd0wx1q2qb1kpxmmcc0000gn/T/ipykernel_36812/2183440621.py:2: PerformanceWarning: indexing past lexsort depth may impact performance.\n",
      "/var/folders/kb/v0p0ypbd0wx1q2qb1kpxmmcc0000gn/T/ipykernel_36812/2183440621.py:2: PerformanceWarning: indexing past lexsort depth may impact performance.\n",
      "/var/folders/kb/v0p0ypbd0wx1q2qb1kpxmmcc0000gn/T/ipykernel_36812/2183440621.py:2: PerformanceWarning: indexing past lexsort depth may impact performance.\n",
      " 32%|█████████████████████████████████████████▋                                                                                          | 172/545 [3:07:53<6:28:58, 62.57s/it]/var/folders/kb/v0p0ypbd0wx1q2qb1kpxmmcc0000gn/T/ipykernel_36812/2183440621.py:2: PerformanceWarning: indexing past lexsort depth may impact performance.\n",
      "/var/folders/kb/v0p0ypbd0wx1q2qb1kpxmmcc0000gn/T/ipykernel_36812/2183440621.py:2: PerformanceWarning: indexing past lexsort depth may impact performance.\n",
      "/var/folders/kb/v0p0ypbd0wx1q2qb1kpxmmcc0000gn/T/ipykernel_36812/2183440621.py:2: PerformanceWarning: indexing past lexsort depth may impact performance.\n",
      "/var/folders/kb/v0p0ypbd0wx1q2qb1kpxmmcc0000gn/T/ipykernel_36812/2183440621.py:2: PerformanceWarning: indexing past lexsort depth may impact performance.\n",
      " 32%|██████████████████████████████████████████▋                                                                                         | 176/545 [3:12:03<6:24:53, 62.58s/it]/var/folders/kb/v0p0ypbd0wx1q2qb1kpxmmcc0000gn/T/ipykernel_36812/2183440621.py:2: PerformanceWarning: indexing past lexsort depth may impact performance.\n",
      "/var/folders/kb/v0p0ypbd0wx1q2qb1kpxmmcc0000gn/T/ipykernel_36812/2183440621.py:2: PerformanceWarning: indexing past lexsort depth may impact performance.\n",
      "/var/folders/kb/v0p0ypbd0wx1q2qb1kpxmmcc0000gn/T/ipykernel_36812/2183440621.py:2: PerformanceWarning: indexing past lexsort depth may impact performance.\n",
      "/var/folders/kb/v0p0ypbd0wx1q2qb1kpxmmcc0000gn/T/ipykernel_36812/2183440621.py:2: PerformanceWarning: indexing past lexsort depth may impact performance.\n",
      " 33%|███████████████████████████████████████████▌                                                                                        | 180/545 [3:15:48<6:09:19, 60.71s/it]/var/folders/kb/v0p0ypbd0wx1q2qb1kpxmmcc0000gn/T/ipykernel_36812/2183440621.py:2: PerformanceWarning: indexing past lexsort depth may impact performance.\n",
      "/var/folders/kb/v0p0ypbd0wx1q2qb1kpxmmcc0000gn/T/ipykernel_36812/2183440621.py:2: PerformanceWarning: indexing past lexsort depth may impact performance.\n",
      "/var/folders/kb/v0p0ypbd0wx1q2qb1kpxmmcc0000gn/T/ipykernel_36812/2183440621.py:2: PerformanceWarning: indexing past lexsort depth may impact performance.\n",
      "/var/folders/kb/v0p0ypbd0wx1q2qb1kpxmmcc0000gn/T/ipykernel_36812/2183440621.py:2: PerformanceWarning: indexing past lexsort depth may impact performance.\n",
      " 34%|████████████████████████████████████████████▌                                                                                       | 184/545 [3:20:52<6:32:38, 65.26s/it]/var/folders/kb/v0p0ypbd0wx1q2qb1kpxmmcc0000gn/T/ipykernel_36812/2183440621.py:2: PerformanceWarning: indexing past lexsort depth may impact performance.\n",
      "/var/folders/kb/v0p0ypbd0wx1q2qb1kpxmmcc0000gn/T/ipykernel_36812/2183440621.py:2: PerformanceWarning: indexing past lexsort depth may impact performance.\n",
      "/var/folders/kb/v0p0ypbd0wx1q2qb1kpxmmcc0000gn/T/ipykernel_36812/2183440621.py:2: PerformanceWarning: indexing past lexsort depth may impact performance.\n",
      "/var/folders/kb/v0p0ypbd0wx1q2qb1kpxmmcc0000gn/T/ipykernel_36812/2183440621.py:2: PerformanceWarning: indexing past lexsort depth may impact performance.\n",
      " 34%|█████████████████████████████████████████████▌                                                                                      | 188/545 [3:25:05<6:24:34, 64.64s/it]/var/folders/kb/v0p0ypbd0wx1q2qb1kpxmmcc0000gn/T/ipykernel_36812/2183440621.py:2: PerformanceWarning: indexing past lexsort depth may impact performance.\n",
      "/var/folders/kb/v0p0ypbd0wx1q2qb1kpxmmcc0000gn/T/ipykernel_36812/2183440621.py:2: PerformanceWarning: indexing past lexsort depth may impact performance.\n",
      "/var/folders/kb/v0p0ypbd0wx1q2qb1kpxmmcc0000gn/T/ipykernel_36812/2183440621.py:2: PerformanceWarning: indexing past lexsort depth may impact performance.\n",
      "/var/folders/kb/v0p0ypbd0wx1q2qb1kpxmmcc0000gn/T/ipykernel_36812/2183440621.py:2: PerformanceWarning: indexing past lexsort depth may impact performance.\n",
      " 35%|██████████████████████████████████████████████▌                                                                                     | 192/545 [3:29:10<6:14:36, 63.67s/it]/var/folders/kb/v0p0ypbd0wx1q2qb1kpxmmcc0000gn/T/ipykernel_36812/2183440621.py:2: PerformanceWarning: indexing past lexsort depth may impact performance.\n",
      "/var/folders/kb/v0p0ypbd0wx1q2qb1kpxmmcc0000gn/T/ipykernel_36812/2183440621.py:2: PerformanceWarning: indexing past lexsort depth may impact performance.\n",
      "/var/folders/kb/v0p0ypbd0wx1q2qb1kpxmmcc0000gn/T/ipykernel_36812/2183440621.py:2: PerformanceWarning: indexing past lexsort depth may impact performance.\n",
      "/var/folders/kb/v0p0ypbd0wx1q2qb1kpxmmcc0000gn/T/ipykernel_36812/2183440621.py:2: PerformanceWarning: indexing past lexsort depth may impact performance.\n",
      " 36%|███████████████████████████████████████████████▍                                                                                    | 196/545 [3:34:06<6:28:16, 66.75s/it]/var/folders/kb/v0p0ypbd0wx1q2qb1kpxmmcc0000gn/T/ipykernel_36812/2183440621.py:2: PerformanceWarning: indexing past lexsort depth may impact performance.\n",
      "/var/folders/kb/v0p0ypbd0wx1q2qb1kpxmmcc0000gn/T/ipykernel_36812/2183440621.py:2: PerformanceWarning: indexing past lexsort depth may impact performance.\n",
      "/var/folders/kb/v0p0ypbd0wx1q2qb1kpxmmcc0000gn/T/ipykernel_36812/2183440621.py:2: PerformanceWarning: indexing past lexsort depth may impact performance.\n",
      "/var/folders/kb/v0p0ypbd0wx1q2qb1kpxmmcc0000gn/T/ipykernel_36812/2183440621.py:2: PerformanceWarning: indexing past lexsort depth may impact performance.\n",
      " 37%|████████████████████████████████████████████████▍                                                                                   | 200/545 [3:35:41<5:09:43, 53.87s/it]/var/folders/kb/v0p0ypbd0wx1q2qb1kpxmmcc0000gn/T/ipykernel_36812/2183440621.py:2: PerformanceWarning: indexing past lexsort depth may impact performance.\n",
      "/var/folders/kb/v0p0ypbd0wx1q2qb1kpxmmcc0000gn/T/ipykernel_36812/2183440621.py:2: PerformanceWarning: indexing past lexsort depth may impact performance.\n",
      "/var/folders/kb/v0p0ypbd0wx1q2qb1kpxmmcc0000gn/T/ipykernel_36812/2183440621.py:2: PerformanceWarning: indexing past lexsort depth may impact performance.\n",
      "/var/folders/kb/v0p0ypbd0wx1q2qb1kpxmmcc0000gn/T/ipykernel_36812/2183440621.py:2: PerformanceWarning: indexing past lexsort depth may impact performance.\n",
      " 37%|█████████████████████████████████████████████████▍                                                                                  | 204/545 [3:39:09<5:02:59, 53.31s/it]/var/folders/kb/v0p0ypbd0wx1q2qb1kpxmmcc0000gn/T/ipykernel_36812/2183440621.py:2: PerformanceWarning: indexing past lexsort depth may impact performance.\n",
      "/var/folders/kb/v0p0ypbd0wx1q2qb1kpxmmcc0000gn/T/ipykernel_36812/2183440621.py:2: PerformanceWarning: indexing past lexsort depth may impact performance.\n",
      "/var/folders/kb/v0p0ypbd0wx1q2qb1kpxmmcc0000gn/T/ipykernel_36812/2183440621.py:2: PerformanceWarning: indexing past lexsort depth may impact performance.\n",
      "/var/folders/kb/v0p0ypbd0wx1q2qb1kpxmmcc0000gn/T/ipykernel_36812/2183440621.py:2: PerformanceWarning: indexing past lexsort depth may impact performance.\n",
      " 38%|██████████████████████████████████████████████████▍                                                                                 | 208/545 [3:43:37<5:22:25, 57.40s/it]/var/folders/kb/v0p0ypbd0wx1q2qb1kpxmmcc0000gn/T/ipykernel_36812/2183440621.py:2: PerformanceWarning: indexing past lexsort depth may impact performance.\n"
     ]
    },
    {
     "name": "stderr",
     "output_type": "stream",
     "text": [
      "/var/folders/kb/v0p0ypbd0wx1q2qb1kpxmmcc0000gn/T/ipykernel_36812/2183440621.py:2: PerformanceWarning: indexing past lexsort depth may impact performance.\n",
      "/var/folders/kb/v0p0ypbd0wx1q2qb1kpxmmcc0000gn/T/ipykernel_36812/2183440621.py:2: PerformanceWarning: indexing past lexsort depth may impact performance.\n",
      "/var/folders/kb/v0p0ypbd0wx1q2qb1kpxmmcc0000gn/T/ipykernel_36812/2183440621.py:2: PerformanceWarning: indexing past lexsort depth may impact performance.\n",
      " 39%|███████████████████████████████████████████████████▎                                                                                | 212/545 [3:47:51<5:28:40, 59.22s/it]/var/folders/kb/v0p0ypbd0wx1q2qb1kpxmmcc0000gn/T/ipykernel_36812/2183440621.py:2: PerformanceWarning: indexing past lexsort depth may impact performance.\n",
      "/var/folders/kb/v0p0ypbd0wx1q2qb1kpxmmcc0000gn/T/ipykernel_36812/2183440621.py:2: PerformanceWarning: indexing past lexsort depth may impact performance.\n",
      "/var/folders/kb/v0p0ypbd0wx1q2qb1kpxmmcc0000gn/T/ipykernel_36812/2183440621.py:2: PerformanceWarning: indexing past lexsort depth may impact performance.\n",
      "/var/folders/kb/v0p0ypbd0wx1q2qb1kpxmmcc0000gn/T/ipykernel_36812/2183440621.py:2: PerformanceWarning: indexing past lexsort depth may impact performance.\n",
      " 40%|████████████████████████████████████████████████████▎                                                                               | 216/545 [3:52:48<5:49:29, 63.74s/it]/var/folders/kb/v0p0ypbd0wx1q2qb1kpxmmcc0000gn/T/ipykernel_36812/2183440621.py:2: PerformanceWarning: indexing past lexsort depth may impact performance.\n",
      "/var/folders/kb/v0p0ypbd0wx1q2qb1kpxmmcc0000gn/T/ipykernel_36812/2183440621.py:2: PerformanceWarning: indexing past lexsort depth may impact performance.\n",
      "/var/folders/kb/v0p0ypbd0wx1q2qb1kpxmmcc0000gn/T/ipykernel_36812/2183440621.py:2: PerformanceWarning: indexing past lexsort depth may impact performance.\n",
      "/var/folders/kb/v0p0ypbd0wx1q2qb1kpxmmcc0000gn/T/ipykernel_36812/2183440621.py:2: PerformanceWarning: indexing past lexsort depth may impact performance.\n",
      " 40%|█████████████████████████████████████████████████████▎                                                                              | 220/545 [3:58:04<6:10:04, 68.32s/it]/var/folders/kb/v0p0ypbd0wx1q2qb1kpxmmcc0000gn/T/ipykernel_36812/2183440621.py:2: PerformanceWarning: indexing past lexsort depth may impact performance.\n",
      "/var/folders/kb/v0p0ypbd0wx1q2qb1kpxmmcc0000gn/T/ipykernel_36812/2183440621.py:2: PerformanceWarning: indexing past lexsort depth may impact performance.\n",
      "/var/folders/kb/v0p0ypbd0wx1q2qb1kpxmmcc0000gn/T/ipykernel_36812/2183440621.py:2: PerformanceWarning: indexing past lexsort depth may impact performance.\n",
      "/var/folders/kb/v0p0ypbd0wx1q2qb1kpxmmcc0000gn/T/ipykernel_36812/2183440621.py:2: PerformanceWarning: indexing past lexsort depth may impact performance.\n",
      " 41%|██████████████████████████████████████████████████████▎                                                                             | 224/545 [4:02:52<6:11:27, 69.43s/it]/var/folders/kb/v0p0ypbd0wx1q2qb1kpxmmcc0000gn/T/ipykernel_36812/2183440621.py:2: PerformanceWarning: indexing past lexsort depth may impact performance.\n",
      "/var/folders/kb/v0p0ypbd0wx1q2qb1kpxmmcc0000gn/T/ipykernel_36812/2183440621.py:2: PerformanceWarning: indexing past lexsort depth may impact performance.\n",
      "/var/folders/kb/v0p0ypbd0wx1q2qb1kpxmmcc0000gn/T/ipykernel_36812/2183440621.py:2: PerformanceWarning: indexing past lexsort depth may impact performance.\n",
      "/var/folders/kb/v0p0ypbd0wx1q2qb1kpxmmcc0000gn/T/ipykernel_36812/2183440621.py:2: PerformanceWarning: indexing past lexsort depth may impact performance.\n",
      " 42%|███████████████████████████████████████████████████████▏                                                                            | 228/545 [4:06:32<5:43:48, 65.07s/it]/var/folders/kb/v0p0ypbd0wx1q2qb1kpxmmcc0000gn/T/ipykernel_36812/2183440621.py:2: PerformanceWarning: indexing past lexsort depth may impact performance.\n",
      "/var/folders/kb/v0p0ypbd0wx1q2qb1kpxmmcc0000gn/T/ipykernel_36812/2183440621.py:2: PerformanceWarning: indexing past lexsort depth may impact performance.\n",
      "/var/folders/kb/v0p0ypbd0wx1q2qb1kpxmmcc0000gn/T/ipykernel_36812/2183440621.py:2: PerformanceWarning: indexing past lexsort depth may impact performance.\n",
      "/var/folders/kb/v0p0ypbd0wx1q2qb1kpxmmcc0000gn/T/ipykernel_36812/2183440621.py:2: PerformanceWarning: indexing past lexsort depth may impact performance.\n",
      " 43%|████████████████████████████████████████████████████████▏                                                                           | 232/545 [4:09:06<4:57:51, 57.10s/it]/var/folders/kb/v0p0ypbd0wx1q2qb1kpxmmcc0000gn/T/ipykernel_36812/2183440621.py:2: PerformanceWarning: indexing past lexsort depth may impact performance.\n",
      "/var/folders/kb/v0p0ypbd0wx1q2qb1kpxmmcc0000gn/T/ipykernel_36812/2183440621.py:2: PerformanceWarning: indexing past lexsort depth may impact performance.\n",
      "/var/folders/kb/v0p0ypbd0wx1q2qb1kpxmmcc0000gn/T/ipykernel_36812/2183440621.py:2: PerformanceWarning: indexing past lexsort depth may impact performance.\n",
      "/var/folders/kb/v0p0ypbd0wx1q2qb1kpxmmcc0000gn/T/ipykernel_36812/2183440621.py:2: PerformanceWarning: indexing past lexsort depth may impact performance.\n",
      " 43%|█████████████████████████████████████████████████████████▏                                                                          | 236/545 [4:13:51<5:16:00, 61.36s/it]/var/folders/kb/v0p0ypbd0wx1q2qb1kpxmmcc0000gn/T/ipykernel_36812/2183440621.py:2: PerformanceWarning: indexing past lexsort depth may impact performance.\n",
      "/var/folders/kb/v0p0ypbd0wx1q2qb1kpxmmcc0000gn/T/ipykernel_36812/2183440621.py:2: PerformanceWarning: indexing past lexsort depth may impact performance.\n",
      "/var/folders/kb/v0p0ypbd0wx1q2qb1kpxmmcc0000gn/T/ipykernel_36812/2183440621.py:2: PerformanceWarning: indexing past lexsort depth may impact performance.\n",
      "/var/folders/kb/v0p0ypbd0wx1q2qb1kpxmmcc0000gn/T/ipykernel_36812/2183440621.py:2: PerformanceWarning: indexing past lexsort depth may impact performance.\n",
      " 44%|██████████████████████████████████████████████████████████▏                                                                         | 240/545 [4:19:30<5:47:40, 68.39s/it]/var/folders/kb/v0p0ypbd0wx1q2qb1kpxmmcc0000gn/T/ipykernel_36812/2183440621.py:2: PerformanceWarning: indexing past lexsort depth may impact performance.\n",
      "/var/folders/kb/v0p0ypbd0wx1q2qb1kpxmmcc0000gn/T/ipykernel_36812/2183440621.py:2: PerformanceWarning: indexing past lexsort depth may impact performance.\n",
      "/var/folders/kb/v0p0ypbd0wx1q2qb1kpxmmcc0000gn/T/ipykernel_36812/2183440621.py:2: PerformanceWarning: indexing past lexsort depth may impact performance.\n",
      "/var/folders/kb/v0p0ypbd0wx1q2qb1kpxmmcc0000gn/T/ipykernel_36812/2183440621.py:2: PerformanceWarning: indexing past lexsort depth may impact performance.\n",
      " 45%|███████████████████████████████████████████████████████████                                                                         | 244/545 [4:24:58<6:03:21, 72.43s/it]/var/folders/kb/v0p0ypbd0wx1q2qb1kpxmmcc0000gn/T/ipykernel_36812/2183440621.py:2: PerformanceWarning: indexing past lexsort depth may impact performance.\n",
      "/var/folders/kb/v0p0ypbd0wx1q2qb1kpxmmcc0000gn/T/ipykernel_36812/2183440621.py:2: PerformanceWarning: indexing past lexsort depth may impact performance.\n",
      "/var/folders/kb/v0p0ypbd0wx1q2qb1kpxmmcc0000gn/T/ipykernel_36812/2183440621.py:2: PerformanceWarning: indexing past lexsort depth may impact performance.\n",
      "/var/folders/kb/v0p0ypbd0wx1q2qb1kpxmmcc0000gn/T/ipykernel_36812/2183440621.py:2: PerformanceWarning: indexing past lexsort depth may impact performance.\n",
      " 46%|████████████████████████████████████████████████████████████                                                                        | 248/545 [4:27:36<5:09:46, 62.58s/it]/var/folders/kb/v0p0ypbd0wx1q2qb1kpxmmcc0000gn/T/ipykernel_36812/2183440621.py:2: PerformanceWarning: indexing past lexsort depth may impact performance.\n",
      "/var/folders/kb/v0p0ypbd0wx1q2qb1kpxmmcc0000gn/T/ipykernel_36812/2183440621.py:2: PerformanceWarning: indexing past lexsort depth may impact performance.\n",
      "/var/folders/kb/v0p0ypbd0wx1q2qb1kpxmmcc0000gn/T/ipykernel_36812/2183440621.py:2: PerformanceWarning: indexing past lexsort depth may impact performance.\n"
     ]
    },
    {
     "name": "stderr",
     "output_type": "stream",
     "text": [
      "/var/folders/kb/v0p0ypbd0wx1q2qb1kpxmmcc0000gn/T/ipykernel_36812/2183440621.py:2: PerformanceWarning: indexing past lexsort depth may impact performance.\n",
      " 46%|█████████████████████████████████████████████████████████████                                                                       | 252/545 [4:32:18<5:17:08, 64.94s/it]/var/folders/kb/v0p0ypbd0wx1q2qb1kpxmmcc0000gn/T/ipykernel_36812/2183440621.py:2: PerformanceWarning: indexing past lexsort depth may impact performance.\n",
      "/var/folders/kb/v0p0ypbd0wx1q2qb1kpxmmcc0000gn/T/ipykernel_36812/2183440621.py:2: PerformanceWarning: indexing past lexsort depth may impact performance.\n",
      "/var/folders/kb/v0p0ypbd0wx1q2qb1kpxmmcc0000gn/T/ipykernel_36812/2183440621.py:2: PerformanceWarning: indexing past lexsort depth may impact performance.\n",
      "/var/folders/kb/v0p0ypbd0wx1q2qb1kpxmmcc0000gn/T/ipykernel_36812/2183440621.py:2: PerformanceWarning: indexing past lexsort depth may impact performance.\n",
      " 47%|██████████████████████████████████████████████████████████████                                                                      | 256/545 [4:35:56<4:57:47, 61.83s/it]/var/folders/kb/v0p0ypbd0wx1q2qb1kpxmmcc0000gn/T/ipykernel_36812/2183440621.py:2: PerformanceWarning: indexing past lexsort depth may impact performance.\n",
      "/var/folders/kb/v0p0ypbd0wx1q2qb1kpxmmcc0000gn/T/ipykernel_36812/2183440621.py:2: PerformanceWarning: indexing past lexsort depth may impact performance.\n",
      "/var/folders/kb/v0p0ypbd0wx1q2qb1kpxmmcc0000gn/T/ipykernel_36812/2183440621.py:2: PerformanceWarning: indexing past lexsort depth may impact performance.\n",
      "/var/folders/kb/v0p0ypbd0wx1q2qb1kpxmmcc0000gn/T/ipykernel_36812/2183440621.py:2: PerformanceWarning: indexing past lexsort depth may impact performance.\n",
      " 48%|██████████████████████████████████████████████████████████████▉                                                                     | 260/545 [4:40:35<5:04:53, 64.19s/it]/var/folders/kb/v0p0ypbd0wx1q2qb1kpxmmcc0000gn/T/ipykernel_36812/2183440621.py:2: PerformanceWarning: indexing past lexsort depth may impact performance.\n",
      "/var/folders/kb/v0p0ypbd0wx1q2qb1kpxmmcc0000gn/T/ipykernel_36812/2183440621.py:2: PerformanceWarning: indexing past lexsort depth may impact performance.\n",
      "/var/folders/kb/v0p0ypbd0wx1q2qb1kpxmmcc0000gn/T/ipykernel_36812/2183440621.py:2: PerformanceWarning: indexing past lexsort depth may impact performance.\n",
      "/var/folders/kb/v0p0ypbd0wx1q2qb1kpxmmcc0000gn/T/ipykernel_36812/2183440621.py:2: PerformanceWarning: indexing past lexsort depth may impact performance.\n",
      " 48%|███████████████████████████████████████████████████████████████▉                                                                    | 264/545 [4:45:11<5:07:24, 65.64s/it]/var/folders/kb/v0p0ypbd0wx1q2qb1kpxmmcc0000gn/T/ipykernel_36812/2183440621.py:2: PerformanceWarning: indexing past lexsort depth may impact performance.\n",
      "/var/folders/kb/v0p0ypbd0wx1q2qb1kpxmmcc0000gn/T/ipykernel_36812/2183440621.py:2: PerformanceWarning: indexing past lexsort depth may impact performance.\n",
      "/var/folders/kb/v0p0ypbd0wx1q2qb1kpxmmcc0000gn/T/ipykernel_36812/2183440621.py:2: PerformanceWarning: indexing past lexsort depth may impact performance.\n",
      "/var/folders/kb/v0p0ypbd0wx1q2qb1kpxmmcc0000gn/T/ipykernel_36812/2183440621.py:2: PerformanceWarning: indexing past lexsort depth may impact performance.\n",
      " 49%|████████████████████████████████████████████████████████████████▉                                                                   | 268/545 [4:48:33<4:42:10, 61.12s/it]/var/folders/kb/v0p0ypbd0wx1q2qb1kpxmmcc0000gn/T/ipykernel_36812/2183440621.py:2: PerformanceWarning: indexing past lexsort depth may impact performance.\n",
      "/var/folders/kb/v0p0ypbd0wx1q2qb1kpxmmcc0000gn/T/ipykernel_36812/2183440621.py:2: PerformanceWarning: indexing past lexsort depth may impact performance.\n",
      "/var/folders/kb/v0p0ypbd0wx1q2qb1kpxmmcc0000gn/T/ipykernel_36812/2183440621.py:2: PerformanceWarning: indexing past lexsort depth may impact performance.\n",
      "/var/folders/kb/v0p0ypbd0wx1q2qb1kpxmmcc0000gn/T/ipykernel_36812/2183440621.py:2: PerformanceWarning: indexing past lexsort depth may impact performance.\n",
      " 50%|█████████████████████████████████████████████████████████████████▉                                                                  | 272/545 [4:52:02<4:25:48, 58.42s/it]/var/folders/kb/v0p0ypbd0wx1q2qb1kpxmmcc0000gn/T/ipykernel_36812/2183440621.py:2: PerformanceWarning: indexing past lexsort depth may impact performance.\n",
      "/var/folders/kb/v0p0ypbd0wx1q2qb1kpxmmcc0000gn/T/ipykernel_36812/2183440621.py:2: PerformanceWarning: indexing past lexsort depth may impact performance.\n",
      "/var/folders/kb/v0p0ypbd0wx1q2qb1kpxmmcc0000gn/T/ipykernel_36812/2183440621.py:2: PerformanceWarning: indexing past lexsort depth may impact performance.\n",
      "/var/folders/kb/v0p0ypbd0wx1q2qb1kpxmmcc0000gn/T/ipykernel_36812/2183440621.py:2: PerformanceWarning: indexing past lexsort depth may impact performance.\n",
      " 51%|██████████████████████████████████████████████████████████████████▊                                                                 | 276/545 [4:56:01<4:23:45, 58.83s/it]/var/folders/kb/v0p0ypbd0wx1q2qb1kpxmmcc0000gn/T/ipykernel_36812/2183440621.py:2: PerformanceWarning: indexing past lexsort depth may impact performance.\n",
      "/var/folders/kb/v0p0ypbd0wx1q2qb1kpxmmcc0000gn/T/ipykernel_36812/2183440621.py:2: PerformanceWarning: indexing past lexsort depth may impact performance.\n",
      "/var/folders/kb/v0p0ypbd0wx1q2qb1kpxmmcc0000gn/T/ipykernel_36812/2183440621.py:2: PerformanceWarning: indexing past lexsort depth may impact performance.\n",
      "/var/folders/kb/v0p0ypbd0wx1q2qb1kpxmmcc0000gn/T/ipykernel_36812/2183440621.py:2: PerformanceWarning: indexing past lexsort depth may impact performance.\n",
      " 51%|███████████████████████████████████████████████████████████████████▊                                                                | 280/545 [4:59:26<4:09:46, 56.55s/it]/var/folders/kb/v0p0ypbd0wx1q2qb1kpxmmcc0000gn/T/ipykernel_36812/2183440621.py:2: PerformanceWarning: indexing past lexsort depth may impact performance.\n",
      "/var/folders/kb/v0p0ypbd0wx1q2qb1kpxmmcc0000gn/T/ipykernel_36812/2183440621.py:2: PerformanceWarning: indexing past lexsort depth may impact performance.\n",
      "/var/folders/kb/v0p0ypbd0wx1q2qb1kpxmmcc0000gn/T/ipykernel_36812/2183440621.py:2: PerformanceWarning: indexing past lexsort depth may impact performance.\n",
      "/var/folders/kb/v0p0ypbd0wx1q2qb1kpxmmcc0000gn/T/ipykernel_36812/2183440621.py:2: PerformanceWarning: indexing past lexsort depth may impact performance.\n",
      " 52%|████████████████████████████████████████████████████████████████████▊                                                               | 284/545 [5:04:10<4:24:58, 60.91s/it]/var/folders/kb/v0p0ypbd0wx1q2qb1kpxmmcc0000gn/T/ipykernel_36812/2183440621.py:2: PerformanceWarning: indexing past lexsort depth may impact performance.\n",
      "/var/folders/kb/v0p0ypbd0wx1q2qb1kpxmmcc0000gn/T/ipykernel_36812/2183440621.py:2: PerformanceWarning: indexing past lexsort depth may impact performance.\n",
      "/var/folders/kb/v0p0ypbd0wx1q2qb1kpxmmcc0000gn/T/ipykernel_36812/2183440621.py:2: PerformanceWarning: indexing past lexsort depth may impact performance.\n",
      "/var/folders/kb/v0p0ypbd0wx1q2qb1kpxmmcc0000gn/T/ipykernel_36812/2183440621.py:2: PerformanceWarning: indexing past lexsort depth may impact performance.\n",
      " 53%|█████████████████████████████████████████████████████████████████████▊                                                              | 288/545 [5:08:50<4:32:36, 63.64s/it]/var/folders/kb/v0p0ypbd0wx1q2qb1kpxmmcc0000gn/T/ipykernel_36812/2183440621.py:2: PerformanceWarning: indexing past lexsort depth may impact performance.\n",
      "/var/folders/kb/v0p0ypbd0wx1q2qb1kpxmmcc0000gn/T/ipykernel_36812/2183440621.py:2: PerformanceWarning: indexing past lexsort depth may impact performance.\n",
      "/var/folders/kb/v0p0ypbd0wx1q2qb1kpxmmcc0000gn/T/ipykernel_36812/2183440621.py:2: PerformanceWarning: indexing past lexsort depth may impact performance.\n",
      "/var/folders/kb/v0p0ypbd0wx1q2qb1kpxmmcc0000gn/T/ipykernel_36812/2183440621.py:2: PerformanceWarning: indexing past lexsort depth may impact performance.\n"
     ]
    },
    {
     "name": "stderr",
     "output_type": "stream",
     "text": [
      " 54%|██████████████████████████████████████████████████████████████████████▋                                                             | 292/545 [5:12:26<4:16:14, 60.77s/it]/var/folders/kb/v0p0ypbd0wx1q2qb1kpxmmcc0000gn/T/ipykernel_36812/2183440621.py:2: PerformanceWarning: indexing past lexsort depth may impact performance.\n",
      "/var/folders/kb/v0p0ypbd0wx1q2qb1kpxmmcc0000gn/T/ipykernel_36812/2183440621.py:2: PerformanceWarning: indexing past lexsort depth may impact performance.\n",
      "/var/folders/kb/v0p0ypbd0wx1q2qb1kpxmmcc0000gn/T/ipykernel_36812/2183440621.py:2: PerformanceWarning: indexing past lexsort depth may impact performance.\n",
      "/var/folders/kb/v0p0ypbd0wx1q2qb1kpxmmcc0000gn/T/ipykernel_36812/2183440621.py:2: PerformanceWarning: indexing past lexsort depth may impact performance.\n",
      " 54%|███████████████████████████████████████████████████████████████████████▋                                                            | 296/545 [5:17:19<4:27:29, 64.46s/it]/var/folders/kb/v0p0ypbd0wx1q2qb1kpxmmcc0000gn/T/ipykernel_36812/2183440621.py:2: PerformanceWarning: indexing past lexsort depth may impact performance.\n",
      "/var/folders/kb/v0p0ypbd0wx1q2qb1kpxmmcc0000gn/T/ipykernel_36812/2183440621.py:2: PerformanceWarning: indexing past lexsort depth may impact performance.\n",
      "/var/folders/kb/v0p0ypbd0wx1q2qb1kpxmmcc0000gn/T/ipykernel_36812/2183440621.py:2: PerformanceWarning: indexing past lexsort depth may impact performance.\n",
      "/var/folders/kb/v0p0ypbd0wx1q2qb1kpxmmcc0000gn/T/ipykernel_36812/2183440621.py:2: PerformanceWarning: indexing past lexsort depth may impact performance.\n",
      " 55%|████████████████████████████████████████████████████████████████████████▋                                                           | 300/545 [5:22:19<4:36:09, 67.63s/it]/var/folders/kb/v0p0ypbd0wx1q2qb1kpxmmcc0000gn/T/ipykernel_36812/2183440621.py:2: PerformanceWarning: indexing past lexsort depth may impact performance.\n",
      "/var/folders/kb/v0p0ypbd0wx1q2qb1kpxmmcc0000gn/T/ipykernel_36812/2183440621.py:2: PerformanceWarning: indexing past lexsort depth may impact performance.\n",
      "/var/folders/kb/v0p0ypbd0wx1q2qb1kpxmmcc0000gn/T/ipykernel_36812/2183440621.py:2: PerformanceWarning: indexing past lexsort depth may impact performance.\n",
      "/var/folders/kb/v0p0ypbd0wx1q2qb1kpxmmcc0000gn/T/ipykernel_36812/2183440621.py:2: PerformanceWarning: indexing past lexsort depth may impact performance.\n",
      " 56%|█████████████████████████████████████████████████████████████████████████▋                                                          | 304/545 [5:25:19<4:04:32, 60.88s/it]/var/folders/kb/v0p0ypbd0wx1q2qb1kpxmmcc0000gn/T/ipykernel_36812/2183440621.py:2: PerformanceWarning: indexing past lexsort depth may impact performance.\n",
      "/var/folders/kb/v0p0ypbd0wx1q2qb1kpxmmcc0000gn/T/ipykernel_36812/2183440621.py:2: PerformanceWarning: indexing past lexsort depth may impact performance.\n",
      "/var/folders/kb/v0p0ypbd0wx1q2qb1kpxmmcc0000gn/T/ipykernel_36812/2183440621.py:2: PerformanceWarning: indexing past lexsort depth may impact performance.\n",
      "/var/folders/kb/v0p0ypbd0wx1q2qb1kpxmmcc0000gn/T/ipykernel_36812/2183440621.py:2: PerformanceWarning: indexing past lexsort depth may impact performance.\n",
      " 57%|██████████████████████████████████████████████████████████████████████████▌                                                         | 308/545 [5:28:45<3:49:19, 58.06s/it]/var/folders/kb/v0p0ypbd0wx1q2qb1kpxmmcc0000gn/T/ipykernel_36812/2183440621.py:2: PerformanceWarning: indexing past lexsort depth may impact performance.\n",
      "/var/folders/kb/v0p0ypbd0wx1q2qb1kpxmmcc0000gn/T/ipykernel_36812/2183440621.py:2: PerformanceWarning: indexing past lexsort depth may impact performance.\n",
      "/var/folders/kb/v0p0ypbd0wx1q2qb1kpxmmcc0000gn/T/ipykernel_36812/2183440621.py:2: PerformanceWarning: indexing past lexsort depth may impact performance.\n",
      "/var/folders/kb/v0p0ypbd0wx1q2qb1kpxmmcc0000gn/T/ipykernel_36812/2183440621.py:2: PerformanceWarning: indexing past lexsort depth may impact performance.\n",
      " 57%|███████████████████████████████████████████████████████████████████████████▌                                                        | 312/545 [5:33:20<3:57:56, 61.27s/it]/var/folders/kb/v0p0ypbd0wx1q2qb1kpxmmcc0000gn/T/ipykernel_36812/2183440621.py:2: PerformanceWarning: indexing past lexsort depth may impact performance.\n",
      "/var/folders/kb/v0p0ypbd0wx1q2qb1kpxmmcc0000gn/T/ipykernel_36812/2183440621.py:2: PerformanceWarning: indexing past lexsort depth may impact performance.\n",
      "/var/folders/kb/v0p0ypbd0wx1q2qb1kpxmmcc0000gn/T/ipykernel_36812/2183440621.py:2: PerformanceWarning: indexing past lexsort depth may impact performance.\n",
      "/var/folders/kb/v0p0ypbd0wx1q2qb1kpxmmcc0000gn/T/ipykernel_36812/2183440621.py:2: PerformanceWarning: indexing past lexsort depth may impact performance.\n",
      " 58%|████████████████████████████████████████████████████████████████████████████▌                                                       | 316/545 [5:38:06<4:05:31, 64.33s/it]/var/folders/kb/v0p0ypbd0wx1q2qb1kpxmmcc0000gn/T/ipykernel_36812/2183440621.py:2: PerformanceWarning: indexing past lexsort depth may impact performance.\n",
      "/var/folders/kb/v0p0ypbd0wx1q2qb1kpxmmcc0000gn/T/ipykernel_36812/2183440621.py:2: PerformanceWarning: indexing past lexsort depth may impact performance.\n",
      "/var/folders/kb/v0p0ypbd0wx1q2qb1kpxmmcc0000gn/T/ipykernel_36812/2183440621.py:2: PerformanceWarning: indexing past lexsort depth may impact performance.\n",
      "/var/folders/kb/v0p0ypbd0wx1q2qb1kpxmmcc0000gn/T/ipykernel_36812/2183440621.py:2: PerformanceWarning: indexing past lexsort depth may impact performance.\n",
      " 59%|█████████████████████████████████████████████████████████████████████████████▌                                                      | 320/545 [5:40:40<3:32:08, 56.57s/it]/var/folders/kb/v0p0ypbd0wx1q2qb1kpxmmcc0000gn/T/ipykernel_36812/2183440621.py:2: PerformanceWarning: indexing past lexsort depth may impact performance.\n",
      "/var/folders/kb/v0p0ypbd0wx1q2qb1kpxmmcc0000gn/T/ipykernel_36812/2183440621.py:2: PerformanceWarning: indexing past lexsort depth may impact performance.\n",
      "/var/folders/kb/v0p0ypbd0wx1q2qb1kpxmmcc0000gn/T/ipykernel_36812/2183440621.py:2: PerformanceWarning: indexing past lexsort depth may impact performance.\n",
      "/var/folders/kb/v0p0ypbd0wx1q2qb1kpxmmcc0000gn/T/ipykernel_36812/2183440621.py:2: PerformanceWarning: indexing past lexsort depth may impact performance.\n",
      " 59%|██████████████████████████████████████████████████████████████████████████████▍                                                     | 324/545 [5:44:57<3:36:42, 58.83s/it]/var/folders/kb/v0p0ypbd0wx1q2qb1kpxmmcc0000gn/T/ipykernel_36812/2183440621.py:2: PerformanceWarning: indexing past lexsort depth may impact performance.\n",
      "/var/folders/kb/v0p0ypbd0wx1q2qb1kpxmmcc0000gn/T/ipykernel_36812/2183440621.py:2: PerformanceWarning: indexing past lexsort depth may impact performance.\n",
      "/var/folders/kb/v0p0ypbd0wx1q2qb1kpxmmcc0000gn/T/ipykernel_36812/2183440621.py:2: PerformanceWarning: indexing past lexsort depth may impact performance.\n",
      "/var/folders/kb/v0p0ypbd0wx1q2qb1kpxmmcc0000gn/T/ipykernel_36812/2183440621.py:2: PerformanceWarning: indexing past lexsort depth may impact performance.\n",
      " 60%|███████████████████████████████████████████████████████████████████████████████▍                                                    | 328/545 [5:49:23<3:41:07, 61.14s/it]/var/folders/kb/v0p0ypbd0wx1q2qb1kpxmmcc0000gn/T/ipykernel_36812/2183440621.py:2: PerformanceWarning: indexing past lexsort depth may impact performance.\n",
      "/var/folders/kb/v0p0ypbd0wx1q2qb1kpxmmcc0000gn/T/ipykernel_36812/2183440621.py:2: PerformanceWarning: indexing past lexsort depth may impact performance.\n",
      "/var/folders/kb/v0p0ypbd0wx1q2qb1kpxmmcc0000gn/T/ipykernel_36812/2183440621.py:2: PerformanceWarning: indexing past lexsort depth may impact performance.\n",
      "/var/folders/kb/v0p0ypbd0wx1q2qb1kpxmmcc0000gn/T/ipykernel_36812/2183440621.py:2: PerformanceWarning: indexing past lexsort depth may impact performance.\n",
      " 61%|████████████████████████████████████████████████████████████████████████████████▍                                                   | 332/545 [5:53:45<3:41:42, 62.45s/it]/var/folders/kb/v0p0ypbd0wx1q2qb1kpxmmcc0000gn/T/ipykernel_36812/2183440621.py:2: PerformanceWarning: indexing past lexsort depth may impact performance.\n"
     ]
    },
    {
     "name": "stderr",
     "output_type": "stream",
     "text": [
      "/var/folders/kb/v0p0ypbd0wx1q2qb1kpxmmcc0000gn/T/ipykernel_36812/2183440621.py:2: PerformanceWarning: indexing past lexsort depth may impact performance.\n",
      "/var/folders/kb/v0p0ypbd0wx1q2qb1kpxmmcc0000gn/T/ipykernel_36812/2183440621.py:2: PerformanceWarning: indexing past lexsort depth may impact performance.\n",
      "/var/folders/kb/v0p0ypbd0wx1q2qb1kpxmmcc0000gn/T/ipykernel_36812/2183440621.py:2: PerformanceWarning: indexing past lexsort depth may impact performance.\n",
      " 62%|█████████████████████████████████████████████████████████████████████████████████▍                                                  | 336/545 [5:56:17<3:12:08, 55.16s/it]/var/folders/kb/v0p0ypbd0wx1q2qb1kpxmmcc0000gn/T/ipykernel_36812/2183440621.py:2: PerformanceWarning: indexing past lexsort depth may impact performance.\n",
      "/var/folders/kb/v0p0ypbd0wx1q2qb1kpxmmcc0000gn/T/ipykernel_36812/2183440621.py:2: PerformanceWarning: indexing past lexsort depth may impact performance.\n",
      "/var/folders/kb/v0p0ypbd0wx1q2qb1kpxmmcc0000gn/T/ipykernel_36812/2183440621.py:2: PerformanceWarning: indexing past lexsort depth may impact performance.\n",
      "/var/folders/kb/v0p0ypbd0wx1q2qb1kpxmmcc0000gn/T/ipykernel_36812/2183440621.py:2: PerformanceWarning: indexing past lexsort depth may impact performance.\n",
      " 62%|██████████████████████████████████████████████████████████████████████████████████▎                                                 | 340/545 [6:00:43<3:19:56, 58.52s/it]/var/folders/kb/v0p0ypbd0wx1q2qb1kpxmmcc0000gn/T/ipykernel_36812/2183440621.py:2: PerformanceWarning: indexing past lexsort depth may impact performance.\n",
      "/var/folders/kb/v0p0ypbd0wx1q2qb1kpxmmcc0000gn/T/ipykernel_36812/2183440621.py:2: PerformanceWarning: indexing past lexsort depth may impact performance.\n",
      "/var/folders/kb/v0p0ypbd0wx1q2qb1kpxmmcc0000gn/T/ipykernel_36812/2183440621.py:2: PerformanceWarning: indexing past lexsort depth may impact performance.\n",
      "/var/folders/kb/v0p0ypbd0wx1q2qb1kpxmmcc0000gn/T/ipykernel_36812/2183440621.py:2: PerformanceWarning: indexing past lexsort depth may impact performance.\n",
      " 63%|███████████████████████████████████████████████████████████████████████████████████▎                                                | 344/545 [6:05:00<3:21:56, 60.28s/it]/var/folders/kb/v0p0ypbd0wx1q2qb1kpxmmcc0000gn/T/ipykernel_36812/2183440621.py:2: PerformanceWarning: indexing past lexsort depth may impact performance.\n",
      "/var/folders/kb/v0p0ypbd0wx1q2qb1kpxmmcc0000gn/T/ipykernel_36812/2183440621.py:2: PerformanceWarning: indexing past lexsort depth may impact performance.\n",
      "/var/folders/kb/v0p0ypbd0wx1q2qb1kpxmmcc0000gn/T/ipykernel_36812/2183440621.py:2: PerformanceWarning: indexing past lexsort depth may impact performance.\n",
      "/var/folders/kb/v0p0ypbd0wx1q2qb1kpxmmcc0000gn/T/ipykernel_36812/2183440621.py:2: PerformanceWarning: indexing past lexsort depth may impact performance.\n",
      " 64%|████████████████████████████████████████████████████████████████████████████████████▎                                               | 348/545 [6:10:01<3:32:34, 64.74s/it]/var/folders/kb/v0p0ypbd0wx1q2qb1kpxmmcc0000gn/T/ipykernel_36812/2183440621.py:2: PerformanceWarning: indexing past lexsort depth may impact performance.\n",
      "/var/folders/kb/v0p0ypbd0wx1q2qb1kpxmmcc0000gn/T/ipykernel_36812/2183440621.py:2: PerformanceWarning: indexing past lexsort depth may impact performance.\n",
      "/var/folders/kb/v0p0ypbd0wx1q2qb1kpxmmcc0000gn/T/ipykernel_36812/2183440621.py:2: PerformanceWarning: indexing past lexsort depth may impact performance.\n",
      "/var/folders/kb/v0p0ypbd0wx1q2qb1kpxmmcc0000gn/T/ipykernel_36812/2183440621.py:2: PerformanceWarning: indexing past lexsort depth may impact performance.\n",
      " 65%|█████████████████████████████████████████████████████████████████████████████████████▎                                              | 352/545 [6:14:32<3:31:16, 65.68s/it]/var/folders/kb/v0p0ypbd0wx1q2qb1kpxmmcc0000gn/T/ipykernel_36812/2183440621.py:2: PerformanceWarning: indexing past lexsort depth may impact performance.\n",
      "/var/folders/kb/v0p0ypbd0wx1q2qb1kpxmmcc0000gn/T/ipykernel_36812/2183440621.py:2: PerformanceWarning: indexing past lexsort depth may impact performance.\n",
      "/var/folders/kb/v0p0ypbd0wx1q2qb1kpxmmcc0000gn/T/ipykernel_36812/2183440621.py:2: PerformanceWarning: indexing past lexsort depth may impact performance.\n",
      "/var/folders/kb/v0p0ypbd0wx1q2qb1kpxmmcc0000gn/T/ipykernel_36812/2183440621.py:2: PerformanceWarning: indexing past lexsort depth may impact performance.\n",
      " 65%|██████████████████████████████████████████████████████████████████████████████████████▏                                             | 356/545 [6:18:10<3:16:13, 62.29s/it]/var/folders/kb/v0p0ypbd0wx1q2qb1kpxmmcc0000gn/T/ipykernel_36812/2183440621.py:2: PerformanceWarning: indexing past lexsort depth may impact performance.\n",
      "/var/folders/kb/v0p0ypbd0wx1q2qb1kpxmmcc0000gn/T/ipykernel_36812/2183440621.py:2: PerformanceWarning: indexing past lexsort depth may impact performance.\n",
      "/var/folders/kb/v0p0ypbd0wx1q2qb1kpxmmcc0000gn/T/ipykernel_36812/2183440621.py:2: PerformanceWarning: indexing past lexsort depth may impact performance.\n",
      "/var/folders/kb/v0p0ypbd0wx1q2qb1kpxmmcc0000gn/T/ipykernel_36812/2183440621.py:2: PerformanceWarning: indexing past lexsort depth may impact performance.\n",
      " 66%|███████████████████████████████████████████████████████████████████████████████████████▏                                            | 360/545 [6:20:51<2:51:46, 55.71s/it]/var/folders/kb/v0p0ypbd0wx1q2qb1kpxmmcc0000gn/T/ipykernel_36812/2183440621.py:2: PerformanceWarning: indexing past lexsort depth may impact performance.\n",
      "/var/folders/kb/v0p0ypbd0wx1q2qb1kpxmmcc0000gn/T/ipykernel_36812/2183440621.py:2: PerformanceWarning: indexing past lexsort depth may impact performance.\n",
      "/var/folders/kb/v0p0ypbd0wx1q2qb1kpxmmcc0000gn/T/ipykernel_36812/2183440621.py:2: PerformanceWarning: indexing past lexsort depth may impact performance.\n",
      "/var/folders/kb/v0p0ypbd0wx1q2qb1kpxmmcc0000gn/T/ipykernel_36812/2183440621.py:2: PerformanceWarning: indexing past lexsort depth may impact performance.\n",
      " 67%|████████████████████████████████████████████████████████████████████████████████████████▏                                           | 364/545 [6:23:27<2:32:56, 50.70s/it]/var/folders/kb/v0p0ypbd0wx1q2qb1kpxmmcc0000gn/T/ipykernel_36812/2183440621.py:2: PerformanceWarning: indexing past lexsort depth may impact performance.\n",
      "/var/folders/kb/v0p0ypbd0wx1q2qb1kpxmmcc0000gn/T/ipykernel_36812/2183440621.py:2: PerformanceWarning: indexing past lexsort depth may impact performance.\n",
      "/var/folders/kb/v0p0ypbd0wx1q2qb1kpxmmcc0000gn/T/ipykernel_36812/2183440621.py:2: PerformanceWarning: indexing past lexsort depth may impact performance.\n",
      "/var/folders/kb/v0p0ypbd0wx1q2qb1kpxmmcc0000gn/T/ipykernel_36812/2183440621.py:2: PerformanceWarning: indexing past lexsort depth may impact performance.\n",
      " 68%|█████████████████████████████████████████████████████████████████████████████████████████▏                                          | 368/545 [6:27:57<2:44:18, 55.70s/it]/var/folders/kb/v0p0ypbd0wx1q2qb1kpxmmcc0000gn/T/ipykernel_36812/2183440621.py:2: PerformanceWarning: indexing past lexsort depth may impact performance.\n",
      "/var/folders/kb/v0p0ypbd0wx1q2qb1kpxmmcc0000gn/T/ipykernel_36812/2183440621.py:2: PerformanceWarning: indexing past lexsort depth may impact performance.\n",
      "/var/folders/kb/v0p0ypbd0wx1q2qb1kpxmmcc0000gn/T/ipykernel_36812/2183440621.py:2: PerformanceWarning: indexing past lexsort depth may impact performance.\n",
      "/var/folders/kb/v0p0ypbd0wx1q2qb1kpxmmcc0000gn/T/ipykernel_36812/2183440621.py:2: PerformanceWarning: indexing past lexsort depth may impact performance.\n",
      " 68%|██████████████████████████████████████████████████████████████████████████████████████████                                          | 372/545 [6:31:03<2:32:36, 52.93s/it]/var/folders/kb/v0p0ypbd0wx1q2qb1kpxmmcc0000gn/T/ipykernel_36812/2183440621.py:2: PerformanceWarning: indexing past lexsort depth may impact performance.\n",
      "/var/folders/kb/v0p0ypbd0wx1q2qb1kpxmmcc0000gn/T/ipykernel_36812/2183440621.py:2: PerformanceWarning: indexing past lexsort depth may impact performance.\n",
      "/var/folders/kb/v0p0ypbd0wx1q2qb1kpxmmcc0000gn/T/ipykernel_36812/2183440621.py:2: PerformanceWarning: indexing past lexsort depth may impact performance.\n"
     ]
    },
    {
     "name": "stderr",
     "output_type": "stream",
     "text": [
      "/var/folders/kb/v0p0ypbd0wx1q2qb1kpxmmcc0000gn/T/ipykernel_36812/2183440621.py:2: PerformanceWarning: indexing past lexsort depth may impact performance.\n",
      " 69%|███████████████████████████████████████████████████████████████████████████████████████████                                         | 376/545 [6:33:14<2:12:03, 46.89s/it]/var/folders/kb/v0p0ypbd0wx1q2qb1kpxmmcc0000gn/T/ipykernel_36812/2183440621.py:2: PerformanceWarning: indexing past lexsort depth may impact performance.\n",
      "/var/folders/kb/v0p0ypbd0wx1q2qb1kpxmmcc0000gn/T/ipykernel_36812/2183440621.py:2: PerformanceWarning: indexing past lexsort depth may impact performance.\n",
      "/var/folders/kb/v0p0ypbd0wx1q2qb1kpxmmcc0000gn/T/ipykernel_36812/2183440621.py:2: PerformanceWarning: indexing past lexsort depth may impact performance.\n",
      "/var/folders/kb/v0p0ypbd0wx1q2qb1kpxmmcc0000gn/T/ipykernel_36812/2183440621.py:2: PerformanceWarning: indexing past lexsort depth may impact performance.\n",
      " 70%|████████████████████████████████████████████████████████████████████████████████████████████                                        | 380/545 [6:39:25<2:46:48, 60.66s/it]/var/folders/kb/v0p0ypbd0wx1q2qb1kpxmmcc0000gn/T/ipykernel_36812/2183440621.py:2: PerformanceWarning: indexing past lexsort depth may impact performance.\n",
      "/var/folders/kb/v0p0ypbd0wx1q2qb1kpxmmcc0000gn/T/ipykernel_36812/2183440621.py:2: PerformanceWarning: indexing past lexsort depth may impact performance.\n",
      "/var/folders/kb/v0p0ypbd0wx1q2qb1kpxmmcc0000gn/T/ipykernel_36812/2183440621.py:2: PerformanceWarning: indexing past lexsort depth may impact performance.\n",
      "/var/folders/kb/v0p0ypbd0wx1q2qb1kpxmmcc0000gn/T/ipykernel_36812/2183440621.py:2: PerformanceWarning: indexing past lexsort depth may impact performance.\n",
      " 70%|█████████████████████████████████████████████████████████████████████████████████████████████                                       | 384/545 [6:42:21<2:29:24, 55.68s/it]/var/folders/kb/v0p0ypbd0wx1q2qb1kpxmmcc0000gn/T/ipykernel_36812/2183440621.py:2: PerformanceWarning: indexing past lexsort depth may impact performance.\n",
      "/var/folders/kb/v0p0ypbd0wx1q2qb1kpxmmcc0000gn/T/ipykernel_36812/2183440621.py:2: PerformanceWarning: indexing past lexsort depth may impact performance.\n",
      "/var/folders/kb/v0p0ypbd0wx1q2qb1kpxmmcc0000gn/T/ipykernel_36812/2183440621.py:2: PerformanceWarning: indexing past lexsort depth may impact performance.\n",
      "/var/folders/kb/v0p0ypbd0wx1q2qb1kpxmmcc0000gn/T/ipykernel_36812/2183440621.py:2: PerformanceWarning: indexing past lexsort depth may impact performance.\n",
      " 71%|█████████████████████████████████████████████████████████████████████████████████████████████▉                                      | 388/545 [6:45:44<2:21:45, 54.18s/it]/var/folders/kb/v0p0ypbd0wx1q2qb1kpxmmcc0000gn/T/ipykernel_36812/2183440621.py:2: PerformanceWarning: indexing past lexsort depth may impact performance.\n",
      "/var/folders/kb/v0p0ypbd0wx1q2qb1kpxmmcc0000gn/T/ipykernel_36812/2183440621.py:2: PerformanceWarning: indexing past lexsort depth may impact performance.\n",
      "/var/folders/kb/v0p0ypbd0wx1q2qb1kpxmmcc0000gn/T/ipykernel_36812/2183440621.py:2: PerformanceWarning: indexing past lexsort depth may impact performance.\n",
      "/var/folders/kb/v0p0ypbd0wx1q2qb1kpxmmcc0000gn/T/ipykernel_36812/2183440621.py:2: PerformanceWarning: indexing past lexsort depth may impact performance.\n",
      " 72%|██████████████████████████████████████████████████████████████████████████████████████████████▉                                     | 392/545 [6:49:37<2:21:11, 55.37s/it]/var/folders/kb/v0p0ypbd0wx1q2qb1kpxmmcc0000gn/T/ipykernel_36812/2183440621.py:2: PerformanceWarning: indexing past lexsort depth may impact performance.\n",
      "/var/folders/kb/v0p0ypbd0wx1q2qb1kpxmmcc0000gn/T/ipykernel_36812/2183440621.py:2: PerformanceWarning: indexing past lexsort depth may impact performance.\n",
      "/var/folders/kb/v0p0ypbd0wx1q2qb1kpxmmcc0000gn/T/ipykernel_36812/2183440621.py:2: PerformanceWarning: indexing past lexsort depth may impact performance.\n",
      "/var/folders/kb/v0p0ypbd0wx1q2qb1kpxmmcc0000gn/T/ipykernel_36812/2183440621.py:2: PerformanceWarning: indexing past lexsort depth may impact performance.\n",
      " 73%|███████████████████████████████████████████████████████████████████████████████████████████████▉                                    | 396/545 [6:53:13<2:16:37, 55.01s/it]/var/folders/kb/v0p0ypbd0wx1q2qb1kpxmmcc0000gn/T/ipykernel_36812/2183440621.py:2: PerformanceWarning: indexing past lexsort depth may impact performance.\n",
      "/var/folders/kb/v0p0ypbd0wx1q2qb1kpxmmcc0000gn/T/ipykernel_36812/2183440621.py:2: PerformanceWarning: indexing past lexsort depth may impact performance.\n",
      "/var/folders/kb/v0p0ypbd0wx1q2qb1kpxmmcc0000gn/T/ipykernel_36812/2183440621.py:2: PerformanceWarning: indexing past lexsort depth may impact performance.\n",
      "/var/folders/kb/v0p0ypbd0wx1q2qb1kpxmmcc0000gn/T/ipykernel_36812/2183440621.py:2: PerformanceWarning: indexing past lexsort depth may impact performance.\n",
      " 73%|████████████████████████████████████████████████████████████████████████████████████████████████▉                                   | 400/545 [6:57:59<2:24:49, 59.93s/it]/var/folders/kb/v0p0ypbd0wx1q2qb1kpxmmcc0000gn/T/ipykernel_36812/2183440621.py:2: PerformanceWarning: indexing past lexsort depth may impact performance.\n",
      "/var/folders/kb/v0p0ypbd0wx1q2qb1kpxmmcc0000gn/T/ipykernel_36812/2183440621.py:2: PerformanceWarning: indexing past lexsort depth may impact performance.\n",
      "/var/folders/kb/v0p0ypbd0wx1q2qb1kpxmmcc0000gn/T/ipykernel_36812/2183440621.py:2: PerformanceWarning: indexing past lexsort depth may impact performance.\n",
      "/var/folders/kb/v0p0ypbd0wx1q2qb1kpxmmcc0000gn/T/ipykernel_36812/2183440621.py:2: PerformanceWarning: indexing past lexsort depth may impact performance.\n",
      " 74%|█████████████████████████████████████████████████████████████████████████████████████████████████▊                                  | 404/545 [7:01:37<2:17:02, 58.32s/it]/var/folders/kb/v0p0ypbd0wx1q2qb1kpxmmcc0000gn/T/ipykernel_36812/2183440621.py:2: PerformanceWarning: indexing past lexsort depth may impact performance.\n",
      "/var/folders/kb/v0p0ypbd0wx1q2qb1kpxmmcc0000gn/T/ipykernel_36812/2183440621.py:2: PerformanceWarning: indexing past lexsort depth may impact performance.\n",
      "/var/folders/kb/v0p0ypbd0wx1q2qb1kpxmmcc0000gn/T/ipykernel_36812/2183440621.py:2: PerformanceWarning: indexing past lexsort depth may impact performance.\n",
      "/var/folders/kb/v0p0ypbd0wx1q2qb1kpxmmcc0000gn/T/ipykernel_36812/2183440621.py:2: PerformanceWarning: indexing past lexsort depth may impact performance.\n",
      " 75%|██████████████████████████████████████████████████████████████████████████████████████████████████▊                                 | 408/545 [7:05:55<2:17:21, 60.16s/it]/var/folders/kb/v0p0ypbd0wx1q2qb1kpxmmcc0000gn/T/ipykernel_36812/2183440621.py:2: PerformanceWarning: indexing past lexsort depth may impact performance.\n",
      "/var/folders/kb/v0p0ypbd0wx1q2qb1kpxmmcc0000gn/T/ipykernel_36812/2183440621.py:2: PerformanceWarning: indexing past lexsort depth may impact performance.\n",
      "/var/folders/kb/v0p0ypbd0wx1q2qb1kpxmmcc0000gn/T/ipykernel_36812/2183440621.py:2: PerformanceWarning: indexing past lexsort depth may impact performance.\n",
      "/var/folders/kb/v0p0ypbd0wx1q2qb1kpxmmcc0000gn/T/ipykernel_36812/2183440621.py:2: PerformanceWarning: indexing past lexsort depth may impact performance.\n",
      " 76%|███████████████████████████████████████████████████████████████████████████████████████████████████▊                                | 412/545 [7:07:10<1:45:51, 47.75s/it]/var/folders/kb/v0p0ypbd0wx1q2qb1kpxmmcc0000gn/T/ipykernel_36812/2183440621.py:2: PerformanceWarning: indexing past lexsort depth may impact performance.\n",
      "/var/folders/kb/v0p0ypbd0wx1q2qb1kpxmmcc0000gn/T/ipykernel_36812/2183440621.py:2: PerformanceWarning: indexing past lexsort depth may impact performance.\n",
      "/var/folders/kb/v0p0ypbd0wx1q2qb1kpxmmcc0000gn/T/ipykernel_36812/2183440621.py:2: PerformanceWarning: indexing past lexsort depth may impact performance.\n",
      "/var/folders/kb/v0p0ypbd0wx1q2qb1kpxmmcc0000gn/T/ipykernel_36812/2183440621.py:2: PerformanceWarning: indexing past lexsort depth may impact performance.\n"
     ]
    },
    {
     "name": "stderr",
     "output_type": "stream",
     "text": [
      " 76%|████████████████████████████████████████████████████████████████████████████████████████████████████▊                               | 416/545 [7:08:47<1:27:33, 40.73s/it]/var/folders/kb/v0p0ypbd0wx1q2qb1kpxmmcc0000gn/T/ipykernel_36812/2183440621.py:2: PerformanceWarning: indexing past lexsort depth may impact performance.\n",
      "/var/folders/kb/v0p0ypbd0wx1q2qb1kpxmmcc0000gn/T/ipykernel_36812/2183440621.py:2: PerformanceWarning: indexing past lexsort depth may impact performance.\n",
      "/var/folders/kb/v0p0ypbd0wx1q2qb1kpxmmcc0000gn/T/ipykernel_36812/2183440621.py:2: PerformanceWarning: indexing past lexsort depth may impact performance.\n",
      "/var/folders/kb/v0p0ypbd0wx1q2qb1kpxmmcc0000gn/T/ipykernel_36812/2183440621.py:2: PerformanceWarning: indexing past lexsort depth may impact performance.\n",
      " 77%|█████████████████████████████████████████████████████████████████████████████████████████████████████▋                              | 420/545 [7:11:59<1:29:18, 42.86s/it]/var/folders/kb/v0p0ypbd0wx1q2qb1kpxmmcc0000gn/T/ipykernel_36812/2183440621.py:2: PerformanceWarning: indexing past lexsort depth may impact performance.\n",
      "/var/folders/kb/v0p0ypbd0wx1q2qb1kpxmmcc0000gn/T/ipykernel_36812/2183440621.py:2: PerformanceWarning: indexing past lexsort depth may impact performance.\n",
      "/var/folders/kb/v0p0ypbd0wx1q2qb1kpxmmcc0000gn/T/ipykernel_36812/2183440621.py:2: PerformanceWarning: indexing past lexsort depth may impact performance.\n",
      "/var/folders/kb/v0p0ypbd0wx1q2qb1kpxmmcc0000gn/T/ipykernel_36812/2183440621.py:2: PerformanceWarning: indexing past lexsort depth may impact performance.\n",
      " 78%|██████████████████████████████████████████████████████████████████████████████████████████████████████▋                             | 424/545 [7:15:22<1:31:17, 45.27s/it]/var/folders/kb/v0p0ypbd0wx1q2qb1kpxmmcc0000gn/T/ipykernel_36812/2183440621.py:2: PerformanceWarning: indexing past lexsort depth may impact performance.\n",
      "/var/folders/kb/v0p0ypbd0wx1q2qb1kpxmmcc0000gn/T/ipykernel_36812/2183440621.py:2: PerformanceWarning: indexing past lexsort depth may impact performance.\n",
      "/var/folders/kb/v0p0ypbd0wx1q2qb1kpxmmcc0000gn/T/ipykernel_36812/2183440621.py:2: PerformanceWarning: indexing past lexsort depth may impact performance.\n",
      "/var/folders/kb/v0p0ypbd0wx1q2qb1kpxmmcc0000gn/T/ipykernel_36812/2183440621.py:2: PerformanceWarning: indexing past lexsort depth may impact performance.\n",
      " 79%|███████████████████████████████████████████████████████████████████████████████████████████████████████▋                            | 428/545 [7:17:56<1:24:17, 43.23s/it]/var/folders/kb/v0p0ypbd0wx1q2qb1kpxmmcc0000gn/T/ipykernel_36812/2183440621.py:2: PerformanceWarning: indexing past lexsort depth may impact performance.\n",
      "/var/folders/kb/v0p0ypbd0wx1q2qb1kpxmmcc0000gn/T/ipykernel_36812/2183440621.py:2: PerformanceWarning: indexing past lexsort depth may impact performance.\n",
      "/var/folders/kb/v0p0ypbd0wx1q2qb1kpxmmcc0000gn/T/ipykernel_36812/2183440621.py:2: PerformanceWarning: indexing past lexsort depth may impact performance.\n",
      "/var/folders/kb/v0p0ypbd0wx1q2qb1kpxmmcc0000gn/T/ipykernel_36812/2183440621.py:2: PerformanceWarning: indexing past lexsort depth may impact performance.\n",
      " 79%|████████████████████████████████████████████████████████████████████████████████████████████████████████▋                           | 432/545 [7:21:01<1:23:07, 44.14s/it]/var/folders/kb/v0p0ypbd0wx1q2qb1kpxmmcc0000gn/T/ipykernel_36812/2183440621.py:2: PerformanceWarning: indexing past lexsort depth may impact performance.\n",
      "/var/folders/kb/v0p0ypbd0wx1q2qb1kpxmmcc0000gn/T/ipykernel_36812/2183440621.py:2: PerformanceWarning: indexing past lexsort depth may impact performance.\n",
      "/var/folders/kb/v0p0ypbd0wx1q2qb1kpxmmcc0000gn/T/ipykernel_36812/2183440621.py:2: PerformanceWarning: indexing past lexsort depth may impact performance.\n",
      "/var/folders/kb/v0p0ypbd0wx1q2qb1kpxmmcc0000gn/T/ipykernel_36812/2183440621.py:2: PerformanceWarning: indexing past lexsort depth may impact performance.\n",
      " 80%|█████████████████████████████████████████████████████████████████████████████████████████████████████████▌                          | 436/545 [7:24:01<1:20:39, 44.40s/it]/var/folders/kb/v0p0ypbd0wx1q2qb1kpxmmcc0000gn/T/ipykernel_36812/2183440621.py:2: PerformanceWarning: indexing past lexsort depth may impact performance.\n",
      "/var/folders/kb/v0p0ypbd0wx1q2qb1kpxmmcc0000gn/T/ipykernel_36812/2183440621.py:2: PerformanceWarning: indexing past lexsort depth may impact performance.\n",
      "/var/folders/kb/v0p0ypbd0wx1q2qb1kpxmmcc0000gn/T/ipykernel_36812/2183440621.py:2: PerformanceWarning: indexing past lexsort depth may impact performance.\n",
      "/var/folders/kb/v0p0ypbd0wx1q2qb1kpxmmcc0000gn/T/ipykernel_36812/2183440621.py:2: PerformanceWarning: indexing past lexsort depth may impact performance.\n",
      " 81%|██████████████████████████████████████████████████████████████████████████████████████████████████████████▌                         | 440/545 [7:28:28<1:29:23, 51.08s/it]/var/folders/kb/v0p0ypbd0wx1q2qb1kpxmmcc0000gn/T/ipykernel_36812/2183440621.py:2: PerformanceWarning: indexing past lexsort depth may impact performance.\n",
      "/var/folders/kb/v0p0ypbd0wx1q2qb1kpxmmcc0000gn/T/ipykernel_36812/2183440621.py:2: PerformanceWarning: indexing past lexsort depth may impact performance.\n",
      "/var/folders/kb/v0p0ypbd0wx1q2qb1kpxmmcc0000gn/T/ipykernel_36812/2183440621.py:2: PerformanceWarning: indexing past lexsort depth may impact performance.\n",
      "/var/folders/kb/v0p0ypbd0wx1q2qb1kpxmmcc0000gn/T/ipykernel_36812/2183440621.py:2: PerformanceWarning: indexing past lexsort depth may impact performance.\n",
      " 81%|███████████████████████████████████████████████████████████████████████████████████████████████████████████▌                        | 444/545 [7:31:16<1:21:27, 48.39s/it]/var/folders/kb/v0p0ypbd0wx1q2qb1kpxmmcc0000gn/T/ipykernel_36812/2183440621.py:2: PerformanceWarning: indexing past lexsort depth may impact performance.\n",
      "/var/folders/kb/v0p0ypbd0wx1q2qb1kpxmmcc0000gn/T/ipykernel_36812/2183440621.py:2: PerformanceWarning: indexing past lexsort depth may impact performance.\n",
      "/var/folders/kb/v0p0ypbd0wx1q2qb1kpxmmcc0000gn/T/ipykernel_36812/2183440621.py:2: PerformanceWarning: indexing past lexsort depth may impact performance.\n",
      "/var/folders/kb/v0p0ypbd0wx1q2qb1kpxmmcc0000gn/T/ipykernel_36812/2183440621.py:2: PerformanceWarning: indexing past lexsort depth may impact performance.\n",
      " 82%|████████████████████████████████████████████████████████████████████████████████████████████████████████████▌                       | 448/545 [7:34:40<1:19:26, 49.14s/it]/var/folders/kb/v0p0ypbd0wx1q2qb1kpxmmcc0000gn/T/ipykernel_36812/2183440621.py:2: PerformanceWarning: indexing past lexsort depth may impact performance.\n",
      "/var/folders/kb/v0p0ypbd0wx1q2qb1kpxmmcc0000gn/T/ipykernel_36812/2183440621.py:2: PerformanceWarning: indexing past lexsort depth may impact performance.\n",
      "/var/folders/kb/v0p0ypbd0wx1q2qb1kpxmmcc0000gn/T/ipykernel_36812/2183440621.py:2: PerformanceWarning: indexing past lexsort depth may impact performance.\n",
      "/var/folders/kb/v0p0ypbd0wx1q2qb1kpxmmcc0000gn/T/ipykernel_36812/2183440621.py:2: PerformanceWarning: indexing past lexsort depth may impact performance.\n",
      " 83%|█████████████████████████████████████████████████████████████████████████████████████████████████████████████▍                      | 452/545 [7:36:51<1:08:32, 44.22s/it]/var/folders/kb/v0p0ypbd0wx1q2qb1kpxmmcc0000gn/T/ipykernel_36812/2183440621.py:2: PerformanceWarning: indexing past lexsort depth may impact performance.\n",
      "/var/folders/kb/v0p0ypbd0wx1q2qb1kpxmmcc0000gn/T/ipykernel_36812/2183440621.py:2: PerformanceWarning: indexing past lexsort depth may impact performance.\n",
      "/var/folders/kb/v0p0ypbd0wx1q2qb1kpxmmcc0000gn/T/ipykernel_36812/2183440621.py:2: PerformanceWarning: indexing past lexsort depth may impact performance.\n",
      "/var/folders/kb/v0p0ypbd0wx1q2qb1kpxmmcc0000gn/T/ipykernel_36812/2183440621.py:2: PerformanceWarning: indexing past lexsort depth may impact performance.\n",
      " 84%|██████████████████████████████████████████████████████████████████████████████████████████████████████████████▍                     | 456/545 [7:40:08<1:07:52, 45.76s/it]/var/folders/kb/v0p0ypbd0wx1q2qb1kpxmmcc0000gn/T/ipykernel_36812/2183440621.py:2: PerformanceWarning: indexing past lexsort depth may impact performance.\n"
     ]
    },
    {
     "name": "stderr",
     "output_type": "stream",
     "text": [
      "/var/folders/kb/v0p0ypbd0wx1q2qb1kpxmmcc0000gn/T/ipykernel_36812/2183440621.py:2: PerformanceWarning: indexing past lexsort depth may impact performance.\n",
      "/var/folders/kb/v0p0ypbd0wx1q2qb1kpxmmcc0000gn/T/ipykernel_36812/2183440621.py:2: PerformanceWarning: indexing past lexsort depth may impact performance.\n",
      "/var/folders/kb/v0p0ypbd0wx1q2qb1kpxmmcc0000gn/T/ipykernel_36812/2183440621.py:2: PerformanceWarning: indexing past lexsort depth may impact performance.\n",
      " 84%|█████████████████████████████████████████████████████████████████████████████████████████████████████████████████                     | 460/545 [7:42:04<57:41, 40.73s/it]/var/folders/kb/v0p0ypbd0wx1q2qb1kpxmmcc0000gn/T/ipykernel_36812/2183440621.py:2: PerformanceWarning: indexing past lexsort depth may impact performance.\n",
      "/var/folders/kb/v0p0ypbd0wx1q2qb1kpxmmcc0000gn/T/ipykernel_36812/2183440621.py:2: PerformanceWarning: indexing past lexsort depth may impact performance.\n",
      "/var/folders/kb/v0p0ypbd0wx1q2qb1kpxmmcc0000gn/T/ipykernel_36812/2183440621.py:2: PerformanceWarning: indexing past lexsort depth may impact performance.\n",
      "/var/folders/kb/v0p0ypbd0wx1q2qb1kpxmmcc0000gn/T/ipykernel_36812/2183440621.py:2: PerformanceWarning: indexing past lexsort depth may impact performance.\n",
      " 85%|████████████████████████████████████████████████████████████████████████████████████████████████████████████████▍                   | 464/545 [7:46:16<1:04:00, 47.41s/it]/var/folders/kb/v0p0ypbd0wx1q2qb1kpxmmcc0000gn/T/ipykernel_36812/2183440621.py:2: PerformanceWarning: indexing past lexsort depth may impact performance.\n",
      "/var/folders/kb/v0p0ypbd0wx1q2qb1kpxmmcc0000gn/T/ipykernel_36812/2183440621.py:2: PerformanceWarning: indexing past lexsort depth may impact performance.\n",
      "/var/folders/kb/v0p0ypbd0wx1q2qb1kpxmmcc0000gn/T/ipykernel_36812/2183440621.py:2: PerformanceWarning: indexing past lexsort depth may impact performance.\n",
      "/var/folders/kb/v0p0ypbd0wx1q2qb1kpxmmcc0000gn/T/ipykernel_36812/2183440621.py:2: PerformanceWarning: indexing past lexsort depth may impact performance.\n",
      " 86%|███████████████████████████████████████████████████████████████████████████████████████████████████████████████████                   | 468/545 [7:49:16<59:52, 46.66s/it]/var/folders/kb/v0p0ypbd0wx1q2qb1kpxmmcc0000gn/T/ipykernel_36812/2183440621.py:2: PerformanceWarning: indexing past lexsort depth may impact performance.\n",
      "/var/folders/kb/v0p0ypbd0wx1q2qb1kpxmmcc0000gn/T/ipykernel_36812/2183440621.py:2: PerformanceWarning: indexing past lexsort depth may impact performance.\n",
      "/var/folders/kb/v0p0ypbd0wx1q2qb1kpxmmcc0000gn/T/ipykernel_36812/2183440621.py:2: PerformanceWarning: indexing past lexsort depth may impact performance.\n",
      "/var/folders/kb/v0p0ypbd0wx1q2qb1kpxmmcc0000gn/T/ipykernel_36812/2183440621.py:2: PerformanceWarning: indexing past lexsort depth may impact performance.\n",
      " 87%|████████████████████████████████████████████████████████████████████████████████████████████████████████████████████                  | 472/545 [7:51:17<50:48, 41.76s/it]/var/folders/kb/v0p0ypbd0wx1q2qb1kpxmmcc0000gn/T/ipykernel_36812/2183440621.py:2: PerformanceWarning: indexing past lexsort depth may impact performance.\n",
      "/var/folders/kb/v0p0ypbd0wx1q2qb1kpxmmcc0000gn/T/ipykernel_36812/2183440621.py:2: PerformanceWarning: indexing past lexsort depth may impact performance.\n",
      "/var/folders/kb/v0p0ypbd0wx1q2qb1kpxmmcc0000gn/T/ipykernel_36812/2183440621.py:2: PerformanceWarning: indexing past lexsort depth may impact performance.\n",
      "/var/folders/kb/v0p0ypbd0wx1q2qb1kpxmmcc0000gn/T/ipykernel_36812/2183440621.py:2: PerformanceWarning: indexing past lexsort depth may impact performance.\n",
      " 87%|█████████████████████████████████████████████████████████████████████████████████████████████████████████████████████                 | 476/545 [7:51:55<36:50, 32.04s/it]/var/folders/kb/v0p0ypbd0wx1q2qb1kpxmmcc0000gn/T/ipykernel_36812/2183440621.py:2: PerformanceWarning: indexing past lexsort depth may impact performance.\n",
      "/var/folders/kb/v0p0ypbd0wx1q2qb1kpxmmcc0000gn/T/ipykernel_36812/2183440621.py:2: PerformanceWarning: indexing past lexsort depth may impact performance.\n",
      "/var/folders/kb/v0p0ypbd0wx1q2qb1kpxmmcc0000gn/T/ipykernel_36812/2183440621.py:2: PerformanceWarning: indexing past lexsort depth may impact performance.\n",
      "/var/folders/kb/v0p0ypbd0wx1q2qb1kpxmmcc0000gn/T/ipykernel_36812/2183440621.py:2: PerformanceWarning: indexing past lexsort depth may impact performance.\n",
      " 88%|██████████████████████████████████████████████████████████████████████████████████████████████████████████████████████                | 480/545 [7:54:11<35:22, 32.65s/it]/var/folders/kb/v0p0ypbd0wx1q2qb1kpxmmcc0000gn/T/ipykernel_36812/2183440621.py:2: PerformanceWarning: indexing past lexsort depth may impact performance.\n",
      "/var/folders/kb/v0p0ypbd0wx1q2qb1kpxmmcc0000gn/T/ipykernel_36812/2183440621.py:2: PerformanceWarning: indexing past lexsort depth may impact performance.\n",
      "/var/folders/kb/v0p0ypbd0wx1q2qb1kpxmmcc0000gn/T/ipykernel_36812/2183440621.py:2: PerformanceWarning: indexing past lexsort depth may impact performance.\n",
      "/var/folders/kb/v0p0ypbd0wx1q2qb1kpxmmcc0000gn/T/ipykernel_36812/2183440621.py:2: PerformanceWarning: indexing past lexsort depth may impact performance.\n",
      " 89%|███████████████████████████████████████████████████████████████████████████████████████████████████████████████████████               | 484/545 [7:57:40<39:08, 38.50s/it]/var/folders/kb/v0p0ypbd0wx1q2qb1kpxmmcc0000gn/T/ipykernel_36812/2183440621.py:2: PerformanceWarning: indexing past lexsort depth may impact performance.\n",
      "/var/folders/kb/v0p0ypbd0wx1q2qb1kpxmmcc0000gn/T/ipykernel_36812/2183440621.py:2: PerformanceWarning: indexing past lexsort depth may impact performance.\n",
      "/var/folders/kb/v0p0ypbd0wx1q2qb1kpxmmcc0000gn/T/ipykernel_36812/2183440621.py:2: PerformanceWarning: indexing past lexsort depth may impact performance.\n",
      "/var/folders/kb/v0p0ypbd0wx1q2qb1kpxmmcc0000gn/T/ipykernel_36812/2183440621.py:2: PerformanceWarning: indexing past lexsort depth may impact performance.\n",
      " 90%|█████████████████████████████████████████████████████████████████████████████████████████████████████████████████████▎             | 488/545 [8:50:03<4:09:33, 262.69s/it]/var/folders/kb/v0p0ypbd0wx1q2qb1kpxmmcc0000gn/T/ipykernel_36812/2183440621.py:2: PerformanceWarning: indexing past lexsort depth may impact performance.\n",
      "/var/folders/kb/v0p0ypbd0wx1q2qb1kpxmmcc0000gn/T/ipykernel_36812/2183440621.py:2: PerformanceWarning: indexing past lexsort depth may impact performance.\n",
      "/var/folders/kb/v0p0ypbd0wx1q2qb1kpxmmcc0000gn/T/ipykernel_36812/2183440621.py:2: PerformanceWarning: indexing past lexsort depth may impact performance.\n",
      "/var/folders/kb/v0p0ypbd0wx1q2qb1kpxmmcc0000gn/T/ipykernel_36812/2183440621.py:2: PerformanceWarning: indexing past lexsort depth may impact performance.\n",
      " 90%|██████████████████████████████████████████████████████████████████████████████████████████████████████████████████████▎            | 492/545 [9:23:12<4:54:10, 333.04s/it]/var/folders/kb/v0p0ypbd0wx1q2qb1kpxmmcc0000gn/T/ipykernel_36812/2183440621.py:2: PerformanceWarning: indexing past lexsort depth may impact performance.\n",
      "/var/folders/kb/v0p0ypbd0wx1q2qb1kpxmmcc0000gn/T/ipykernel_36812/2183440621.py:2: PerformanceWarning: indexing past lexsort depth may impact performance.\n",
      "/var/folders/kb/v0p0ypbd0wx1q2qb1kpxmmcc0000gn/T/ipykernel_36812/2183440621.py:2: PerformanceWarning: indexing past lexsort depth may impact performance.\n",
      "/var/folders/kb/v0p0ypbd0wx1q2qb1kpxmmcc0000gn/T/ipykernel_36812/2183440621.py:2: PerformanceWarning: indexing past lexsort depth may impact performance.\n",
      " 91%|███████████████████████████████████████████████████████████████████████████████████████████████████████████████████████▏           | 496/545 [9:44:47<4:29:44, 330.29s/it]/var/folders/kb/v0p0ypbd0wx1q2qb1kpxmmcc0000gn/T/ipykernel_36812/2183440621.py:2: PerformanceWarning: indexing past lexsort depth may impact performance.\n",
      "/var/folders/kb/v0p0ypbd0wx1q2qb1kpxmmcc0000gn/T/ipykernel_36812/2183440621.py:2: PerformanceWarning: indexing past lexsort depth may impact performance.\n",
      "/var/folders/kb/v0p0ypbd0wx1q2qb1kpxmmcc0000gn/T/ipykernel_36812/2183440621.py:2: PerformanceWarning: indexing past lexsort depth may impact performance.\n"
     ]
    },
    {
     "name": "stderr",
     "output_type": "stream",
     "text": [
      "/var/folders/kb/v0p0ypbd0wx1q2qb1kpxmmcc0000gn/T/ipykernel_36812/2183440621.py:2: PerformanceWarning: indexing past lexsort depth may impact performance.\n",
      " 92%|████████████████████████████████████████████████████████████████████████████████████████████████████████████████████████▏          | 500/545 [9:47:42<3:03:15, 244.35s/it]/var/folders/kb/v0p0ypbd0wx1q2qb1kpxmmcc0000gn/T/ipykernel_36812/2183440621.py:2: PerformanceWarning: indexing past lexsort depth may impact performance.\n",
      "/var/folders/kb/v0p0ypbd0wx1q2qb1kpxmmcc0000gn/T/ipykernel_36812/2183440621.py:2: PerformanceWarning: indexing past lexsort depth may impact performance.\n",
      "/var/folders/kb/v0p0ypbd0wx1q2qb1kpxmmcc0000gn/T/ipykernel_36812/2183440621.py:2: PerformanceWarning: indexing past lexsort depth may impact performance.\n",
      "/var/folders/kb/v0p0ypbd0wx1q2qb1kpxmmcc0000gn/T/ipykernel_36812/2183440621.py:2: PerformanceWarning: indexing past lexsort depth may impact performance.\n",
      " 92%|█████████████████████████████████████████████████████████████████████████████████████████████████████████████████████████▏         | 504/545 [9:50:14<2:04:38, 182.41s/it]/var/folders/kb/v0p0ypbd0wx1q2qb1kpxmmcc0000gn/T/ipykernel_36812/2183440621.py:2: PerformanceWarning: indexing past lexsort depth may impact performance.\n",
      "/var/folders/kb/v0p0ypbd0wx1q2qb1kpxmmcc0000gn/T/ipykernel_36812/2183440621.py:2: PerformanceWarning: indexing past lexsort depth may impact performance.\n",
      "/var/folders/kb/v0p0ypbd0wx1q2qb1kpxmmcc0000gn/T/ipykernel_36812/2183440621.py:2: PerformanceWarning: indexing past lexsort depth may impact performance.\n",
      "/var/folders/kb/v0p0ypbd0wx1q2qb1kpxmmcc0000gn/T/ipykernel_36812/2183440621.py:2: PerformanceWarning: indexing past lexsort depth may impact performance.\n",
      " 93%|██████████████████████████████████████████████████████████████████████████████████████████████████████████████████████████         | 508/545 [9:53:36<1:28:05, 142.86s/it]/var/folders/kb/v0p0ypbd0wx1q2qb1kpxmmcc0000gn/T/ipykernel_36812/2183440621.py:2: PerformanceWarning: indexing past lexsort depth may impact performance.\n",
      "/var/folders/kb/v0p0ypbd0wx1q2qb1kpxmmcc0000gn/T/ipykernel_36812/2183440621.py:2: PerformanceWarning: indexing past lexsort depth may impact performance.\n",
      "/var/folders/kb/v0p0ypbd0wx1q2qb1kpxmmcc0000gn/T/ipykernel_36812/2183440621.py:2: PerformanceWarning: indexing past lexsort depth may impact performance.\n",
      "/var/folders/kb/v0p0ypbd0wx1q2qb1kpxmmcc0000gn/T/ipykernel_36812/2183440621.py:2: PerformanceWarning: indexing past lexsort depth may impact performance.\n",
      " 94%|███████████████████████████████████████████████████████████████████████████████████████████████████████████████████████████        | 512/545 [9:56:28<1:02:04, 112.87s/it]/var/folders/kb/v0p0ypbd0wx1q2qb1kpxmmcc0000gn/T/ipykernel_36812/2183440621.py:2: PerformanceWarning: indexing past lexsort depth may impact performance.\n",
      "/var/folders/kb/v0p0ypbd0wx1q2qb1kpxmmcc0000gn/T/ipykernel_36812/2183440621.py:2: PerformanceWarning: indexing past lexsort depth may impact performance.\n",
      "/var/folders/kb/v0p0ypbd0wx1q2qb1kpxmmcc0000gn/T/ipykernel_36812/2183440621.py:2: PerformanceWarning: indexing past lexsort depth may impact performance.\n",
      "/var/folders/kb/v0p0ypbd0wx1q2qb1kpxmmcc0000gn/T/ipykernel_36812/2183440621.py:2: PerformanceWarning: indexing past lexsort depth may impact performance.\n",
      " 95%|██████████████████████████████████████████████████████████████████████████████████████████████████████████████████████████████▊       | 516/545 [9:58:55<43:30, 90.02s/it]/var/folders/kb/v0p0ypbd0wx1q2qb1kpxmmcc0000gn/T/ipykernel_36812/2183440621.py:2: PerformanceWarning: indexing past lexsort depth may impact performance.\n",
      "/var/folders/kb/v0p0ypbd0wx1q2qb1kpxmmcc0000gn/T/ipykernel_36812/2183440621.py:2: PerformanceWarning: indexing past lexsort depth may impact performance.\n",
      "/var/folders/kb/v0p0ypbd0wx1q2qb1kpxmmcc0000gn/T/ipykernel_36812/2183440621.py:2: PerformanceWarning: indexing past lexsort depth may impact performance.\n",
      "/var/folders/kb/v0p0ypbd0wx1q2qb1kpxmmcc0000gn/T/ipykernel_36812/2183440621.py:2: PerformanceWarning: indexing past lexsort depth may impact performance.\n",
      " 95%|██████████████████████████████████████████████████████████████████████████████████████████████████████████████████████████████▉      | 520/545 [10:00:03<28:22, 68.12s/it]/var/folders/kb/v0p0ypbd0wx1q2qb1kpxmmcc0000gn/T/ipykernel_36812/2183440621.py:2: PerformanceWarning: indexing past lexsort depth may impact performance.\n",
      "/var/folders/kb/v0p0ypbd0wx1q2qb1kpxmmcc0000gn/T/ipykernel_36812/2183440621.py:2: PerformanceWarning: indexing past lexsort depth may impact performance.\n",
      "/var/folders/kb/v0p0ypbd0wx1q2qb1kpxmmcc0000gn/T/ipykernel_36812/2183440621.py:2: PerformanceWarning: indexing past lexsort depth may impact performance.\n",
      "/var/folders/kb/v0p0ypbd0wx1q2qb1kpxmmcc0000gn/T/ipykernel_36812/2183440621.py:2: PerformanceWarning: indexing past lexsort depth may impact performance.\n",
      " 96%|███████████████████████████████████████████████████████████████████████████████████████████████████████████████████████████████▉     | 524/545 [10:03:59<22:53, 65.41s/it]/var/folders/kb/v0p0ypbd0wx1q2qb1kpxmmcc0000gn/T/ipykernel_36812/2183440621.py:2: PerformanceWarning: indexing past lexsort depth may impact performance.\n",
      "/var/folders/kb/v0p0ypbd0wx1q2qb1kpxmmcc0000gn/T/ipykernel_36812/2183440621.py:2: PerformanceWarning: indexing past lexsort depth may impact performance.\n",
      "/var/folders/kb/v0p0ypbd0wx1q2qb1kpxmmcc0000gn/T/ipykernel_36812/2183440621.py:2: PerformanceWarning: indexing past lexsort depth may impact performance.\n",
      "/var/folders/kb/v0p0ypbd0wx1q2qb1kpxmmcc0000gn/T/ipykernel_36812/2183440621.py:2: PerformanceWarning: indexing past lexsort depth may impact performance.\n",
      " 97%|████████████████████████████████████████████████████████████████████████████████████████████████████████████████████████████████▊    | 528/545 [10:06:36<16:19, 57.60s/it]/var/folders/kb/v0p0ypbd0wx1q2qb1kpxmmcc0000gn/T/ipykernel_36812/2183440621.py:2: PerformanceWarning: indexing past lexsort depth may impact performance.\n",
      "/var/folders/kb/v0p0ypbd0wx1q2qb1kpxmmcc0000gn/T/ipykernel_36812/2183440621.py:2: PerformanceWarning: indexing past lexsort depth may impact performance.\n",
      "/var/folders/kb/v0p0ypbd0wx1q2qb1kpxmmcc0000gn/T/ipykernel_36812/2183440621.py:2: PerformanceWarning: indexing past lexsort depth may impact performance.\n",
      "/var/folders/kb/v0p0ypbd0wx1q2qb1kpxmmcc0000gn/T/ipykernel_36812/2183440621.py:2: PerformanceWarning: indexing past lexsort depth may impact performance.\n",
      " 98%|█████████████████████████████████████████████████████████████████████████████████████████████████████████████████████████████████▊   | 532/545 [10:09:15<11:18, 52.20s/it]/var/folders/kb/v0p0ypbd0wx1q2qb1kpxmmcc0000gn/T/ipykernel_36812/2183440621.py:2: PerformanceWarning: indexing past lexsort depth may impact performance.\n",
      "/var/folders/kb/v0p0ypbd0wx1q2qb1kpxmmcc0000gn/T/ipykernel_36812/2183440621.py:2: PerformanceWarning: indexing past lexsort depth may impact performance.\n",
      "/var/folders/kb/v0p0ypbd0wx1q2qb1kpxmmcc0000gn/T/ipykernel_36812/2183440621.py:2: PerformanceWarning: indexing past lexsort depth may impact performance.\n",
      "/var/folders/kb/v0p0ypbd0wx1q2qb1kpxmmcc0000gn/T/ipykernel_36812/2183440621.py:2: PerformanceWarning: indexing past lexsort depth may impact performance.\n",
      " 98%|██████████████████████████████████████████████████████████████████████████████████████████████████████████████████████████████████▊  | 536/545 [10:11:38<07:05, 47.29s/it]/var/folders/kb/v0p0ypbd0wx1q2qb1kpxmmcc0000gn/T/ipykernel_36812/2183440621.py:2: PerformanceWarning: indexing past lexsort depth may impact performance.\n",
      "/var/folders/kb/v0p0ypbd0wx1q2qb1kpxmmcc0000gn/T/ipykernel_36812/2183440621.py:2: PerformanceWarning: indexing past lexsort depth may impact performance.\n",
      "/var/folders/kb/v0p0ypbd0wx1q2qb1kpxmmcc0000gn/T/ipykernel_36812/2183440621.py:2: PerformanceWarning: indexing past lexsort depth may impact performance.\n",
      "/var/folders/kb/v0p0ypbd0wx1q2qb1kpxmmcc0000gn/T/ipykernel_36812/2183440621.py:2: PerformanceWarning: indexing past lexsort depth may impact performance.\n"
     ]
    },
    {
     "name": "stderr",
     "output_type": "stream",
     "text": [
      " 99%|███████████████████████████████████████████████████████████████████████████████████████████████████████████████████████████████████▊ | 540/545 [10:14:25<03:48, 45.63s/it]/var/folders/kb/v0p0ypbd0wx1q2qb1kpxmmcc0000gn/T/ipykernel_36812/2183440621.py:2: PerformanceWarning: indexing past lexsort depth may impact performance.\n",
      "/var/folders/kb/v0p0ypbd0wx1q2qb1kpxmmcc0000gn/T/ipykernel_36812/2183440621.py:2: PerformanceWarning: indexing past lexsort depth may impact performance.\n",
      "/var/folders/kb/v0p0ypbd0wx1q2qb1kpxmmcc0000gn/T/ipykernel_36812/2183440621.py:2: PerformanceWarning: indexing past lexsort depth may impact performance.\n",
      "/var/folders/kb/v0p0ypbd0wx1q2qb1kpxmmcc0000gn/T/ipykernel_36812/2183440621.py:2: PerformanceWarning: indexing past lexsort depth may impact performance.\n",
      "100%|█████████████████████████████████████████████████████████████████████████████████████████████████████████████████████████████████████| 545/545 [10:15:23<00:00, 67.75s/it]\n",
      "/var/folders/kb/v0p0ypbd0wx1q2qb1kpxmmcc0000gn/T/ipykernel_36812/2183440621.py:2: PerformanceWarning: indexing past lexsort depth may impact performance.\n",
      "/var/folders/kb/v0p0ypbd0wx1q2qb1kpxmmcc0000gn/T/ipykernel_36812/2183440621.py:2: PerformanceWarning: indexing past lexsort depth may impact performance.\n",
      "/var/folders/kb/v0p0ypbd0wx1q2qb1kpxmmcc0000gn/T/ipykernel_36812/2183440621.py:2: PerformanceWarning: indexing past lexsort depth may impact performance.\n",
      "/var/folders/kb/v0p0ypbd0wx1q2qb1kpxmmcc0000gn/T/ipykernel_36812/2183440621.py:2: PerformanceWarning: indexing past lexsort depth may impact performance.\n",
      "/var/folders/kb/v0p0ypbd0wx1q2qb1kpxmmcc0000gn/T/ipykernel_36812/2183440621.py:2: PerformanceWarning: indexing past lexsort depth may impact performance.\n"
     ]
    }
   ],
   "source": [
    "all_preds = Parallel(n_jobs=4)(delayed(fit_one_sku)(train_test_pivot1 = train_test_pivot,\\\n",
    "                                                    sku_id1 = sku_id_i,\\\n",
    "                                                    n_lags_y1 = 30,\\\n",
    "                                                    n_lags_exog1 = 14,\\\n",
    "                                                    exog_cols1 = exog_cols) \\\n",
    "                               for sku_id_i in tqdm(clean_SKUs))"
   ]
  },
  {
   "cell_type": "code",
   "execution_count": 39,
   "id": "ff494f7e",
   "metadata": {},
   "outputs": [
    {
     "data": {
      "text/plain": [
       "545"
      ]
     },
     "execution_count": 39,
     "metadata": {},
     "output_type": "execute_result"
    }
   ],
   "source": [
    "len(all_preds)"
   ]
  },
  {
   "cell_type": "code",
   "execution_count": 37,
   "id": "c1ed28ff",
   "metadata": {},
   "outputs": [
    {
     "data": {
      "text/plain": [
       "[(1.2843884237969407, 1.1327497861715485, 1.1286186895140702),\n",
       " (2.400849032058559, 2.6401230498190036, 3.871131689349082),\n",
       " (1.209259026232583, 1.9956175952808217, 1.432526021492592),\n",
       " (1.2388502748636492, 1.3069716617419507, 1.5352251743749514)]"
      ]
     },
     "execution_count": 37,
     "metadata": {},
     "output_type": "execute_result"
    }
   ],
   "source": [
    "# check = pd.Series(y_pred_df.groupby(\"Encoded_SKU_ID\").apply(lambda x: (np.mean((x[\"STL_prediction\"]-x[\"actual\"])**2)**0.5,\\\n",
    "#                                          np.mean((x[\"MSTL_prediction\"]-x[\"actual\"])**2)**0.5,\n",
    "#                                                     np.mean((x[\"prophet_prediction\"]-x[\"actual\"])**2)**0.5)\\\n",
    "#                                          ))\n",
    "# check.to_list()"
   ]
  },
  {
   "cell_type": "code",
   "execution_count": 40,
   "id": "96dccf98",
   "metadata": {},
   "outputs": [],
   "source": [
    "import pickle\n",
    "with open('../../data/stl_prophet_results_v1.pkl', 'wb') as f:\n",
    "    pickle.dump(all_preds, f)"
   ]
  },
  {
   "cell_type": "code",
   "execution_count": 41,
   "id": "33ae4e3c",
   "metadata": {},
   "outputs": [],
   "source": [
    "y_pred_df = pd.DataFrame()\n",
    "for i in range(len(all_preds)):\n",
    "    if all_preds[i]!= None:\n",
    "        y_pred_df = pd.concat([y_pred_df,all_preds[i][1]])"
   ]
  },
  {
   "cell_type": "code",
   "execution_count": 42,
   "id": "798fadaf",
   "metadata": {},
   "outputs": [
    {
     "data": {
      "text/html": [
       "<div>\n",
       "<style scoped>\n",
       "    .dataframe tbody tr th:only-of-type {\n",
       "        vertical-align: middle;\n",
       "    }\n",
       "\n",
       "    .dataframe tbody tr th {\n",
       "        vertical-align: top;\n",
       "    }\n",
       "\n",
       "    .dataframe thead th {\n",
       "        text-align: right;\n",
       "    }\n",
       "</style>\n",
       "<table border=\"1\" class=\"dataframe\">\n",
       "  <thead>\n",
       "    <tr style=\"text-align: right;\">\n",
       "      <th></th>\n",
       "      <th>STL_prediction</th>\n",
       "      <th>MSTL_prediction</th>\n",
       "      <th>prophet_prediction</th>\n",
       "      <th>Encoded_SKU_ID</th>\n",
       "      <th>actual</th>\n",
       "    </tr>\n",
       "    <tr>\n",
       "      <th>SALES_DATE</th>\n",
       "      <th></th>\n",
       "      <th></th>\n",
       "      <th></th>\n",
       "      <th></th>\n",
       "      <th></th>\n",
       "    </tr>\n",
       "  </thead>\n",
       "  <tbody>\n",
       "    <tr>\n",
       "      <th>2022-07-25</th>\n",
       "      <td>1.139742</td>\n",
       "      <td>1.562445</td>\n",
       "      <td>1.662813</td>\n",
       "      <td>1</td>\n",
       "      <td>0</td>\n",
       "    </tr>\n",
       "    <tr>\n",
       "      <th>2022-07-26</th>\n",
       "      <td>2.706996</td>\n",
       "      <td>1.328076</td>\n",
       "      <td>1.256640</td>\n",
       "      <td>1</td>\n",
       "      <td>0</td>\n",
       "    </tr>\n",
       "    <tr>\n",
       "      <th>2022-07-27</th>\n",
       "      <td>1.287372</td>\n",
       "      <td>1.550463</td>\n",
       "      <td>1.314178</td>\n",
       "      <td>1</td>\n",
       "      <td>0</td>\n",
       "    </tr>\n",
       "    <tr>\n",
       "      <th>2022-07-28</th>\n",
       "      <td>1.401008</td>\n",
       "      <td>2.986880</td>\n",
       "      <td>1.533027</td>\n",
       "      <td>1</td>\n",
       "      <td>2</td>\n",
       "    </tr>\n",
       "    <tr>\n",
       "      <th>2022-07-29</th>\n",
       "      <td>2.200458</td>\n",
       "      <td>2.243526</td>\n",
       "      <td>2.250344</td>\n",
       "      <td>1</td>\n",
       "      <td>2</td>\n",
       "    </tr>\n",
       "  </tbody>\n",
       "</table>\n",
       "</div>"
      ],
      "text/plain": [
       "            STL_prediction  MSTL_prediction  prophet_prediction  \\\n",
       "SALES_DATE                                                        \n",
       "2022-07-25        1.139742         1.562445            1.662813   \n",
       "2022-07-26        2.706996         1.328076            1.256640   \n",
       "2022-07-27        1.287372         1.550463            1.314178   \n",
       "2022-07-28        1.401008         2.986880            1.533027   \n",
       "2022-07-29        2.200458         2.243526            2.250344   \n",
       "\n",
       "            Encoded_SKU_ID actual  \n",
       "SALES_DATE                         \n",
       "2022-07-25               1      0  \n",
       "2022-07-26               1      0  \n",
       "2022-07-27               1      0  \n",
       "2022-07-28               1      2  \n",
       "2022-07-29               1      2  "
      ]
     },
     "execution_count": 42,
     "metadata": {},
     "output_type": "execute_result"
    }
   ],
   "source": [
    "y_pred_df.head()"
   ]
  },
  {
   "cell_type": "markdown",
   "id": "61ad3e68",
   "metadata": {},
   "source": [
    "### RMSE"
   ]
  },
  {
   "cell_type": "markdown",
   "id": "f4eaca18",
   "metadata": {},
   "source": [
    "y_pred_df[\"Encoded_SKU_ID\"].nunique()"
   ]
  },
  {
   "cell_type": "markdown",
   "id": "29a17dcd",
   "metadata": {},
   "source": [
    "validation = train_test[(train_test.validation==True) & (train_test.validation_clean==True)]\n",
    "y_act = validation[[\"Encoded_SKU_ID\",\"SALES_DATE\",\"DAILY_UNITS\"]].rename(columns = {\"DAILY_UNITS\":\"actual\"})\n",
    "y_act.head()"
   ]
  },
  {
   "cell_type": "markdown",
   "id": "3b4bed43",
   "metadata": {},
   "source": [
    "y_pred_null = pd.read_csv(\"../../data/null_prediction_validation_result_v0.csv\").drop(columns = \"Unnamed: 0\")\n",
    "y_pred_null[\"SALES_DATE\"] = pd.to_datetime(y_pred_null[\"SALES_DATE\"])"
   ]
  },
  {
   "cell_type": "markdown",
   "id": "b6cb2c9f",
   "metadata": {},
   "source": [
    "y_pred_stl = y_pred_df.reset_index()[[\"SALES_DATE\",\"STL_prediction\",\"Encoded_SKU_ID\"\\\n",
    "                        ]].rename(columns={\"STL_prediction\":\"predicted\"})\n",
    "\n",
    "y_pred_mstl = y_pred_df.reset_index()[[\"SALES_DATE\",\"MSTL_prediction\",\"Encoded_SKU_ID\"\\\n",
    "                        ]].rename(columns={\"MSTL_prediction\":\"predicted\"})\n",
    "\n",
    "# y_act = y_pred_df.reset_index()[[\"SALES_DATE\",\"actual\",\"Encoded_SKU_ID\"\\\n",
    "#                         ]]\n",
    "y_act[\"actual\"] = pd.to_numeric(y_act[\"actual\"])"
   ]
  },
  {
   "cell_type": "markdown",
   "id": "53d023f9",
   "metadata": {},
   "source": [
    "y_pred_null_subset = y_pred_null.loc[y_pred_null.Encoded_SKU_ID.isin(y_pred_stl.Encoded_SKU_ID.unique())]\n",
    "len(y_pred_null),len(y_pred_null_subset)"
   ]
  },
  {
   "cell_type": "markdown",
   "id": "a5a2822b",
   "metadata": {},
   "source": [
    "rmse(y_act,y_pred_null),rmse(y_act,y_pred_null_subset)"
   ]
  },
  {
   "cell_type": "markdown",
   "id": "b14eef8f",
   "metadata": {},
   "source": [
    "rmse(y_act,y_pred_stl)"
   ]
  },
  {
   "cell_type": "markdown",
   "id": "c961481a",
   "metadata": {},
   "source": [
    "rmse(y_act,y_pred_mstl)"
   ]
  },
  {
   "cell_type": "markdown",
   "id": "1af88eb1",
   "metadata": {},
   "source": [
    "rmse_sku_stl = rmse_sku(y_act,y_pred_stl)\n",
    "rmse_sku_mstl = rmse_sku(y_act,y_pred_mstl)\n",
    "rmse_sku_null = rmse_sku(y_act,y_pred_null)"
   ]
  },
  {
   "cell_type": "markdown",
   "id": "61c1fd83",
   "metadata": {},
   "source": [
    "VERSION = \"v2\"\n",
    "hmm_output = pd.read_csv(f\"../../data/hmm_result_{VERSION}.csv\",index_col=0)"
   ]
  },
  {
   "cell_type": "markdown",
   "id": "178ac1d7",
   "metadata": {},
   "source": [
    "y_act.dtypes"
   ]
  },
  {
   "cell_type": "markdown",
   "id": "73c77f61",
   "metadata": {},
   "source": [
    "rmse_sku_hmm_dates = pd.DataFrame()\n",
    "for i,col in enumerate(hmm_output.columns):\n",
    "    if \"pred\" in col:\n",
    "        y_pred_hmm = hmm_output.reset_index(names = \"SALES_DATE\")[[\"Encoded_SKU_ID\",\"SALES_DATE\",col\\\n",
    "                                                                  ]].rename(columns={col:\"predicted\"})\n",
    "        y_pred_hmm[\"SALES_DATE\"] = pd.to_datetime(y_pred_hmm[\"SALES_DATE\"])\n",
    "        rmse_sku_hmm_i = rmse_sku(y_act,y_pred_hmm)\n",
    "        if i ==0:\n",
    "            rmse_sku_hmm_dates = rmse_sku_hmm_i\n",
    "        else:\n",
    "            rmse_sku_hmm_dates = rmse_sku_hmm_dates.merge(rmse_sku_hmm_i, left_index = True, right_index = True,\\\n",
    "                                suffixes = (\"\",f\"_{col.split('_')[-1]}\"))"
   ]
  },
  {
   "cell_type": "markdown",
   "id": "0820323a",
   "metadata": {},
   "source": [
    "other_rmse = rmse_sku_stl.merge(rmse_sku_mstl,on=[\"Encoded_SKU_ID\"],how=\"outer\", suffixes = (\"_stl\",\"_mstl\")\\\n",
    "                  ).merge(rmse_sku_null,on=[\"Encoded_SKU_ID\"],how=\"outer\", suffixes = (\"\",\"_null\"))"
   ]
  },
  {
   "cell_type": "markdown",
   "id": "8152a0fd",
   "metadata": {},
   "source": [
    "y_act.Encoded_SKU_ID.nunique()"
   ]
  },
  {
   "cell_type": "markdown",
   "id": "22ad91f4",
   "metadata": {},
   "source": [
    "rmse_sku_join = rmse_sku_hmm_dates.merge(other_rmse,left_index=True,right_on=[\"Encoded_SKU_ID\"],how=\"outer\",\\\n",
    "                                        suffixes = (\"_15\",\"_null\"),)"
   ]
  },
  {
   "cell_type": "markdown",
   "id": "ce09f8f7",
   "metadata": {},
   "source": [
    "### Pick Best"
   ]
  },
  {
   "cell_type": "markdown",
   "id": "6c6ca781",
   "metadata": {},
   "source": [
    "rmse_cols = [col for col in rmse_sku_join.columns if \"rmse_du\" in col]\n",
    "rmse_cols"
   ]
  },
  {
   "cell_type": "markdown",
   "id": "abb367dc",
   "metadata": {},
   "source": [
    "rmse_sku_join[\"min_rmse\"] = rmse_sku_join[rmse_cols].min(axis=1,skipna=True)\n",
    "\n",
    "rmse_sku_join[\"argmin_period\"] = np.argmin(rmse_sku_join[rmse_cols].values,axis=1)\n",
    "\n",
    "rmse_sku_join[\"min_period\"] = rmse_sku_join[\"argmin_period\"].apply(lambda x: rmse_cols[x])"
   ]
  },
  {
   "cell_type": "markdown",
   "id": "e7408ea3",
   "metadata": {},
   "source": [
    "rmse_sku_join[\"min_rmse\"].isna().sum()"
   ]
  },
  {
   "cell_type": "markdown",
   "id": "5f84a907",
   "metadata": {},
   "source": [
    "hmm_output1 = hmm_output.reset_index(names=\"SALES_DATE\")\n",
    "hmm_output1[\"SALES_DATE\"] = pd.to_datetime(hmm_output1[\"SALES_DATE\"])"
   ]
  },
  {
   "cell_type": "markdown",
   "id": "040d4769",
   "metadata": {},
   "source": [
    "all_outputs = hmm_output1.merge(y_pred_df.reset_index(),on=[\"Encoded_SKU_ID\",\"SALES_DATE\"],how=\"outer\"\\\n",
    "                                            ).merge(y_pred_null,on=[\"Encoded_SKU_ID\",\"SALES_DATE\"],how=\"outer\",\\\n",
    "                                                   suffixes = (\"_15\",\"_null\"))"
   ]
  },
  {
   "cell_type": "markdown",
   "id": "04696c0d",
   "metadata": {},
   "source": [
    "all_outputs"
   ]
  },
  {
   "cell_type": "markdown",
   "id": "46d6752d",
   "metadata": {},
   "source": [
    "period_col_map= {\n",
    "    \"rmse_du_15\":\"predicted_15\", \"rmse_du_30\":\"predicted_30\", \"rmse_du_45\":\"predicted_45\",\\\n",
    "    \"rmse_du_60\":\"predicted_60\", \"rmse_du_90\":\"predicted_90\", \"rmse_du_max\":\"predicted_max\",\\\n",
    "    \"rmse_du_stl\":\"STL_prediction\",\"rmse_du_mstl\":\"MSTL_prediction\",\"rmse_du_null\":\"predicted_null\"\n",
    "}"
   ]
  },
  {
   "cell_type": "markdown",
   "id": "5ea02abb",
   "metadata": {},
   "source": [
    "y_pred_best = pd.DataFrame()\n",
    "cnt = 0\n",
    "for sku_id,best_period in zip(rmse_sku_join.index,rmse_sku_join[\"min_period\"]):\n",
    "    best_col = period_col_map[best_period]\n",
    "    mask_sku = all_outputs.Encoded_SKU_ID==sku_id\n",
    "    y_pred_best_sku = all_outputs.loc[mask_sku][[\"Encoded_SKU_ID\",\"SALES_DATE\",best_col\\\n",
    "                                                                  ]].rename(columns={best_col:\"predicted\"})\n",
    "    y_pred_best = pd.concat([y_pred_best,y_pred_best_sku])"
   ]
  },
  {
   "cell_type": "markdown",
   "id": "e0dd5099",
   "metadata": {},
   "source": [
    "y_act.Encoded_SKU_ID.nunique(),y_pred_null.Encoded_SKU_ID.nunique(),rmse_sku_join.index.nunique()"
   ]
  },
  {
   "cell_type": "markdown",
   "id": "461e6180",
   "metadata": {},
   "source": [
    "a,b = rmse(y_act,y_pred_null),rmse(y_act,y_pred_best)\n",
    "a,b"
   ]
  },
  {
   "cell_type": "markdown",
   "id": "b97dc9bd",
   "metadata": {},
   "source": [
    "(a-b)/a"
   ]
  },
  {
   "cell_type": "markdown",
   "id": "fbd63e2d",
   "metadata": {},
   "source": [
    "rmse_sku_join[\"min_period\"].value_counts()"
   ]
  }
 ],
 "metadata": {
  "kernelspec": {
   "display_name": "Python 3 (ipykernel)",
   "language": "python",
   "name": "python3"
  },
  "language_info": {
   "codemirror_mode": {
    "name": "ipython",
    "version": 3
   },
   "file_extension": ".py",
   "mimetype": "text/x-python",
   "name": "python",
   "nbconvert_exporter": "python",
   "pygments_lexer": "ipython3",
   "version": "3.9.15"
  }
 },
 "nbformat": 4,
 "nbformat_minor": 5
}
