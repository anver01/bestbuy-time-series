{
 "cells": [
  {
   "cell_type": "code",
   "execution_count": 1,
   "id": "9d20c5cb",
   "metadata": {},
   "outputs": [
    {
     "name": "stdout",
     "output_type": "stream",
     "text": [
      "/Users/ashish1610dhiman/data_projects/bestbuy/notebooks/ashish\r\n"
     ]
    }
   ],
   "source": [
    "!pwd"
   ]
  },
  {
   "cell_type": "code",
   "execution_count": 2,
   "id": "13899245",
   "metadata": {},
   "outputs": [],
   "source": [
    "import sys\n",
    "import matplotlib\n",
    "import numpy as np\n",
    "import pandas as pd\n",
    "import matplotlib.pyplot as plt\n",
    "import datetime\n",
    "\n",
    "sys.version\n",
    "\n",
    "sys.path.append(\"../../\")\n",
    "\n",
    "from src.ad_hmm import sku_predict\n",
    "from src.utils import *"
   ]
  },
  {
   "cell_type": "code",
   "execution_count": 3,
   "id": "faba04ae",
   "metadata": {},
   "outputs": [],
   "source": [
    "%load_ext autoreload \n",
    "%autoreload 2"
   ]
  },
  {
   "cell_type": "markdown",
   "id": "27321c60",
   "metadata": {},
   "source": [
    "### Input Data"
   ]
  },
  {
   "cell_type": "code",
   "execution_count": 4,
   "id": "4ddd1b73",
   "metadata": {},
   "outputs": [
    {
     "name": "stdout",
     "output_type": "stream",
     "text": [
      "(846632, 15)\n"
     ]
    }
   ],
   "source": [
    "train_test = pd.read_csv(\"../../data/train_validation_marker.csv\")\n",
    "train_test[\"SALES_DATE\"] = pd.to_datetime(train_test[\"SALES_DATE\"])\n",
    "print (train_test.shape)\n",
    "\n",
    "train_test[\"if_promo\"] = (~train_test[\"PROMO_PRICE\"].isin([\"?\"])).astype(\"int\")\n",
    "train_test[\"if_competitor\"] = (~train_test[\"COMPETITOR_PRICE\"].isin([\"?\"])).astype(\"int\")\n",
    "\n",
    "train_test[\"min_sales_price\"] = pd.to_numeric(np.where(train_test.if_promo>0, train_test.PROMO_PRICE,\\\n",
    "                                                       train_test.RETAIL_PRICE))\n",
    "\n",
    "train_test[\"comp_price_clean\"] = pd.to_numeric(np.where(train_test.if_competitor>0,train_test.COMPETITOR_PRICE, np.nan))\n",
    "train_test[\"price_delta\"] = np.where(train_test.if_competitor>0, train_test.min_sales_price - train_test.comp_price_clean,\\\n",
    "                                   -train_test.min_sales_price)"
   ]
  },
  {
   "cell_type": "code",
   "execution_count": 5,
   "id": "146c4322",
   "metadata": {},
   "outputs": [],
   "source": [
    "train_test_pivot = train_test.pivot(index='SALES_DATE', columns='Encoded_SKU_ID',\\\n",
    "                   values=['DAILY_UNITS',\"if_promo\",\"if_competitor\",\"min_sales_price\",\"price_delta\",\\\n",
    "                          \"validation\",\"validation_clean\",\"RETAIL_PRICE\"])\n",
    "train_test_pivot.columns = train_test_pivot.columns.swaplevel(0, 1)"
   ]
  },
  {
   "cell_type": "markdown",
   "id": "c696130f",
   "metadata": {},
   "source": [
    "### Test for one SKU"
   ]
  },
  {
   "cell_type": "code",
   "execution_count": 6,
   "id": "d8252f27",
   "metadata": {},
   "outputs": [
    {
     "name": "stderr",
     "output_type": "stream",
     "text": [
      "/var/folders/kb/v0p0ypbd0wx1q2qb1kpxmmcc0000gn/T/ipykernel_36436/4124826544.py:2: PerformanceWarning: indexing past lexsort depth may impact performance.\n",
      "  train_test_sku = train_test_pivot.loc[:,(sku_id,)].copy()\n"
     ]
    }
   ],
   "source": [
    "sku_id = 50\n",
    "train_test_sku = train_test_pivot.loc[:,(sku_id,)].copy()\n",
    "train_test_sku[\"ad_time\"] = list(range(1,train_test_sku.shape[0]+1))"
   ]
  },
  {
   "cell_type": "code",
   "execution_count": 7,
   "id": "f78e2cc4",
   "metadata": {},
   "outputs": [
    {
     "data": {
      "text/plain": [
       "((1520, 9), (7, 9))"
      ]
     },
     "execution_count": 7,
     "metadata": {},
     "output_type": "execute_result"
    }
   ],
   "source": [
    "train_sku = train_test_sku[(train_test_sku.validation==False) & (train_test_sku.validation_clean==True)]\n",
    "validation_sku = train_test_sku[(train_test_sku.validation==True) & (train_test_sku.validation_clean==True)]\n",
    "train_sku.shape,validation_sku.shape"
   ]
  },
  {
   "cell_type": "code",
   "execution_count": 8,
   "id": "c72675f9",
   "metadata": {},
   "outputs": [],
   "source": [
    "from statsmodels.tsa.seasonal import STL,MSTL\n",
    "res = STL(train_sku[\"DAILY_UNITS\"], period = 365).fit()\n",
    "res_m = MSTL(train_sku[\"DAILY_UNITS\"], periods=(7, 30, 365)).fit()"
   ]
  },
  {
   "cell_type": "code",
   "execution_count": 9,
   "id": "a667e18c",
   "metadata": {},
   "outputs": [
    {
     "name": "stderr",
     "output_type": "stream",
     "text": [
      "/var/folders/kb/v0p0ypbd0wx1q2qb1kpxmmcc0000gn/T/ipykernel_36436/1610264522.py:1: SettingWithCopyWarning: \n",
      "A value is trying to be set on a copy of a slice from a DataFrame.\n",
      "Try using .loc[row_indexer,col_indexer] = value instead\n",
      "\n",
      "See the caveats in the documentation: https://pandas.pydata.org/pandas-docs/stable/user_guide/indexing.html#returning-a-view-versus-a-copy\n",
      "  train_sku[\"STL_resid\"] = res.resid\n",
      "/var/folders/kb/v0p0ypbd0wx1q2qb1kpxmmcc0000gn/T/ipykernel_36436/1610264522.py:2: SettingWithCopyWarning: \n",
      "A value is trying to be set on a copy of a slice from a DataFrame.\n",
      "Try using .loc[row_indexer,col_indexer] = value instead\n",
      "\n",
      "See the caveats in the documentation: https://pandas.pydata.org/pandas-docs/stable/user_guide/indexing.html#returning-a-view-versus-a-copy\n",
      "  train_sku[\"STL_trend\"] = res.trend\n",
      "/var/folders/kb/v0p0ypbd0wx1q2qb1kpxmmcc0000gn/T/ipykernel_36436/1610264522.py:3: SettingWithCopyWarning: \n",
      "A value is trying to be set on a copy of a slice from a DataFrame.\n",
      "Try using .loc[row_indexer,col_indexer] = value instead\n",
      "\n",
      "See the caveats in the documentation: https://pandas.pydata.org/pandas-docs/stable/user_guide/indexing.html#returning-a-view-versus-a-copy\n",
      "  train_sku[\"STL_seasonal\"] = res.seasonal\n",
      "/var/folders/kb/v0p0ypbd0wx1q2qb1kpxmmcc0000gn/T/ipykernel_36436/1610264522.py:5: SettingWithCopyWarning: \n",
      "A value is trying to be set on a copy of a slice from a DataFrame.\n",
      "Try using .loc[row_indexer,col_indexer] = value instead\n",
      "\n",
      "See the caveats in the documentation: https://pandas.pydata.org/pandas-docs/stable/user_guide/indexing.html#returning-a-view-versus-a-copy\n",
      "  train_sku[\"MSTL_resid\"] = res_m.resid\n",
      "/var/folders/kb/v0p0ypbd0wx1q2qb1kpxmmcc0000gn/T/ipykernel_36436/1610264522.py:6: SettingWithCopyWarning: \n",
      "A value is trying to be set on a copy of a slice from a DataFrame.\n",
      "Try using .loc[row_indexer,col_indexer] = value instead\n",
      "\n",
      "See the caveats in the documentation: https://pandas.pydata.org/pandas-docs/stable/user_guide/indexing.html#returning-a-view-versus-a-copy\n",
      "  train_sku[\"MSTL_trend\"] = res_m.trend\n",
      "/var/folders/kb/v0p0ypbd0wx1q2qb1kpxmmcc0000gn/T/ipykernel_36436/1610264522.py:7: SettingWithCopyWarning: \n",
      "A value is trying to be set on a copy of a slice from a DataFrame.\n",
      "Try using .loc[row_indexer,col_indexer] = value instead\n",
      "\n",
      "See the caveats in the documentation: https://pandas.pydata.org/pandas-docs/stable/user_guide/indexing.html#returning-a-view-versus-a-copy\n",
      "  train_sku[[\"MSTL_seasonal_7\",\"MSTL_seasonal_30\",\"MSTL_seasonal_365\"]] = res_m.seasonal\n",
      "/var/folders/kb/v0p0ypbd0wx1q2qb1kpxmmcc0000gn/T/ipykernel_36436/1610264522.py:7: SettingWithCopyWarning: \n",
      "A value is trying to be set on a copy of a slice from a DataFrame.\n",
      "Try using .loc[row_indexer,col_indexer] = value instead\n",
      "\n",
      "See the caveats in the documentation: https://pandas.pydata.org/pandas-docs/stable/user_guide/indexing.html#returning-a-view-versus-a-copy\n",
      "  train_sku[[\"MSTL_seasonal_7\",\"MSTL_seasonal_30\",\"MSTL_seasonal_365\"]] = res_m.seasonal\n",
      "/var/folders/kb/v0p0ypbd0wx1q2qb1kpxmmcc0000gn/T/ipykernel_36436/1610264522.py:7: SettingWithCopyWarning: \n",
      "A value is trying to be set on a copy of a slice from a DataFrame.\n",
      "Try using .loc[row_indexer,col_indexer] = value instead\n",
      "\n",
      "See the caveats in the documentation: https://pandas.pydata.org/pandas-docs/stable/user_guide/indexing.html#returning-a-view-versus-a-copy\n",
      "  train_sku[[\"MSTL_seasonal_7\",\"MSTL_seasonal_30\",\"MSTL_seasonal_365\"]] = res_m.seasonal\n"
     ]
    }
   ],
   "source": [
    "train_sku[\"STL_resid\"] = res.resid\n",
    "train_sku[\"STL_trend\"] = res.trend\n",
    "train_sku[\"STL_seasonal\"] = res.seasonal\n",
    "\n",
    "train_sku[\"MSTL_resid\"] = res_m.resid\n",
    "train_sku[\"MSTL_trend\"] = res_m.trend\n",
    "train_sku[[\"MSTL_seasonal_7\",\"MSTL_seasonal_30\",\"MSTL_seasonal_365\"]] = res_m.seasonal"
   ]
  },
  {
   "cell_type": "markdown",
   "id": "1afe563a",
   "metadata": {},
   "source": [
    "### try Prophet"
   ]
  },
  {
   "cell_type": "code",
   "execution_count": 10,
   "id": "b3c17264",
   "metadata": {},
   "outputs": [
    {
     "name": "stderr",
     "output_type": "stream",
     "text": [
      "Importing plotly failed. Interactive plots will not work.\n"
     ]
    }
   ],
   "source": [
    "from prophet import Prophet"
   ]
  },
  {
   "cell_type": "code",
   "execution_count": 11,
   "id": "c9e5ebec",
   "metadata": {},
   "outputs": [],
   "source": [
    "pred_cols = ['if_promo', 'if_competitor', 'min_sales_price',\n",
    "       'price_delta',\"ad_time\",\"RETAIL_PRICE\"]"
   ]
  },
  {
   "cell_type": "code",
   "execution_count": 12,
   "id": "c0c1dae7",
   "metadata": {},
   "outputs": [],
   "source": [
    "model = Prophet()\n",
    "model.add_country_holidays(country_name='US')\n",
    "for col in pred_cols:\n",
    "    model.add_regressor(col)"
   ]
  },
  {
   "cell_type": "code",
   "execution_count": 13,
   "id": "715795fc",
   "metadata": {},
   "outputs": [],
   "source": [
    "X_train1 = train_sku[pred_cols+[\"DAILY_UNITS\"]].astype(np.float64)\n",
    "X_test1 = validation_sku[pred_cols].astype(np.float64)"
   ]
  },
  {
   "cell_type": "code",
   "execution_count": 14,
   "id": "73d20a5d",
   "metadata": {},
   "outputs": [
    {
     "data": {
      "text/html": [
       "<div>\n",
       "<style scoped>\n",
       "    .dataframe tbody tr th:only-of-type {\n",
       "        vertical-align: middle;\n",
       "    }\n",
       "\n",
       "    .dataframe tbody tr th {\n",
       "        vertical-align: top;\n",
       "    }\n",
       "\n",
       "    .dataframe thead th {\n",
       "        text-align: right;\n",
       "    }\n",
       "</style>\n",
       "<table border=\"1\" class=\"dataframe\">\n",
       "  <thead>\n",
       "    <tr style=\"text-align: right;\">\n",
       "      <th></th>\n",
       "      <th>ds</th>\n",
       "      <th>if_promo</th>\n",
       "      <th>if_competitor</th>\n",
       "      <th>min_sales_price</th>\n",
       "      <th>price_delta</th>\n",
       "      <th>ad_time</th>\n",
       "      <th>RETAIL_PRICE</th>\n",
       "      <th>y</th>\n",
       "    </tr>\n",
       "  </thead>\n",
       "  <tbody>\n",
       "    <tr>\n",
       "      <th>0</th>\n",
       "      <td>2018-05-27</td>\n",
       "      <td>0.0</td>\n",
       "      <td>0.0</td>\n",
       "      <td>99.99</td>\n",
       "      <td>-99.99</td>\n",
       "      <td>365.0</td>\n",
       "      <td>99.99</td>\n",
       "      <td>1.0</td>\n",
       "    </tr>\n",
       "    <tr>\n",
       "      <th>1</th>\n",
       "      <td>2018-05-28</td>\n",
       "      <td>0.0</td>\n",
       "      <td>0.0</td>\n",
       "      <td>99.99</td>\n",
       "      <td>-99.99</td>\n",
       "      <td>366.0</td>\n",
       "      <td>99.99</td>\n",
       "      <td>1.0</td>\n",
       "    </tr>\n",
       "    <tr>\n",
       "      <th>2</th>\n",
       "      <td>2018-05-29</td>\n",
       "      <td>0.0</td>\n",
       "      <td>0.0</td>\n",
       "      <td>99.99</td>\n",
       "      <td>-99.99</td>\n",
       "      <td>367.0</td>\n",
       "      <td>99.99</td>\n",
       "      <td>0.0</td>\n",
       "    </tr>\n",
       "    <tr>\n",
       "      <th>3</th>\n",
       "      <td>2018-05-30</td>\n",
       "      <td>0.0</td>\n",
       "      <td>0.0</td>\n",
       "      <td>99.99</td>\n",
       "      <td>-99.99</td>\n",
       "      <td>368.0</td>\n",
       "      <td>99.99</td>\n",
       "      <td>0.0</td>\n",
       "    </tr>\n",
       "    <tr>\n",
       "      <th>4</th>\n",
       "      <td>2018-05-31</td>\n",
       "      <td>0.0</td>\n",
       "      <td>0.0</td>\n",
       "      <td>99.99</td>\n",
       "      <td>-99.99</td>\n",
       "      <td>369.0</td>\n",
       "      <td>99.99</td>\n",
       "      <td>10.0</td>\n",
       "    </tr>\n",
       "    <tr>\n",
       "      <th>...</th>\n",
       "      <td>...</td>\n",
       "      <td>...</td>\n",
       "      <td>...</td>\n",
       "      <td>...</td>\n",
       "      <td>...</td>\n",
       "      <td>...</td>\n",
       "      <td>...</td>\n",
       "      <td>...</td>\n",
       "    </tr>\n",
       "    <tr>\n",
       "      <th>1515</th>\n",
       "      <td>2022-07-20</td>\n",
       "      <td>1.0</td>\n",
       "      <td>0.0</td>\n",
       "      <td>79.99</td>\n",
       "      <td>-79.99</td>\n",
       "      <td>1880.0</td>\n",
       "      <td>104.99</td>\n",
       "      <td>70.0</td>\n",
       "    </tr>\n",
       "    <tr>\n",
       "      <th>1516</th>\n",
       "      <td>2022-07-21</td>\n",
       "      <td>1.0</td>\n",
       "      <td>0.0</td>\n",
       "      <td>79.99</td>\n",
       "      <td>-79.99</td>\n",
       "      <td>1881.0</td>\n",
       "      <td>104.99</td>\n",
       "      <td>62.0</td>\n",
       "    </tr>\n",
       "    <tr>\n",
       "      <th>1517</th>\n",
       "      <td>2022-07-22</td>\n",
       "      <td>1.0</td>\n",
       "      <td>0.0</td>\n",
       "      <td>79.99</td>\n",
       "      <td>-79.99</td>\n",
       "      <td>1882.0</td>\n",
       "      <td>104.99</td>\n",
       "      <td>84.0</td>\n",
       "    </tr>\n",
       "    <tr>\n",
       "      <th>1518</th>\n",
       "      <td>2022-07-23</td>\n",
       "      <td>1.0</td>\n",
       "      <td>0.0</td>\n",
       "      <td>79.99</td>\n",
       "      <td>-79.99</td>\n",
       "      <td>1883.0</td>\n",
       "      <td>104.99</td>\n",
       "      <td>75.0</td>\n",
       "    </tr>\n",
       "    <tr>\n",
       "      <th>1519</th>\n",
       "      <td>2022-07-24</td>\n",
       "      <td>1.0</td>\n",
       "      <td>0.0</td>\n",
       "      <td>79.99</td>\n",
       "      <td>-79.99</td>\n",
       "      <td>1884.0</td>\n",
       "      <td>104.99</td>\n",
       "      <td>74.0</td>\n",
       "    </tr>\n",
       "  </tbody>\n",
       "</table>\n",
       "<p>1520 rows × 8 columns</p>\n",
       "</div>"
      ],
      "text/plain": [
       "             ds  if_promo  if_competitor  min_sales_price  price_delta  \\\n",
       "0    2018-05-27       0.0            0.0            99.99       -99.99   \n",
       "1    2018-05-28       0.0            0.0            99.99       -99.99   \n",
       "2    2018-05-29       0.0            0.0            99.99       -99.99   \n",
       "3    2018-05-30       0.0            0.0            99.99       -99.99   \n",
       "4    2018-05-31       0.0            0.0            99.99       -99.99   \n",
       "...         ...       ...            ...              ...          ...   \n",
       "1515 2022-07-20       1.0            0.0            79.99       -79.99   \n",
       "1516 2022-07-21       1.0            0.0            79.99       -79.99   \n",
       "1517 2022-07-22       1.0            0.0            79.99       -79.99   \n",
       "1518 2022-07-23       1.0            0.0            79.99       -79.99   \n",
       "1519 2022-07-24       1.0            0.0            79.99       -79.99   \n",
       "\n",
       "      ad_time  RETAIL_PRICE     y  \n",
       "0       365.0         99.99   1.0  \n",
       "1       366.0         99.99   1.0  \n",
       "2       367.0         99.99   0.0  \n",
       "3       368.0         99.99   0.0  \n",
       "4       369.0         99.99  10.0  \n",
       "...       ...           ...   ...  \n",
       "1515   1880.0        104.99  70.0  \n",
       "1516   1881.0        104.99  62.0  \n",
       "1517   1882.0        104.99  84.0  \n",
       "1518   1883.0        104.99  75.0  \n",
       "1519   1884.0        104.99  74.0  \n",
       "\n",
       "[1520 rows x 8 columns]"
      ]
     },
     "execution_count": 14,
     "metadata": {},
     "output_type": "execute_result"
    }
   ],
   "source": [
    "X_train_prophet = X_train1.reset_index().rename(columns={\"SALES_DATE\":\"ds\",\\\n",
    "                                                       \"DAILY_UNITS\":\"y\"})\n",
    "X_test_prophet = X_test1.reset_index().rename(columns={\"SALES_DATE\":\"ds\"})\n",
    "X_train_prophet"
   ]
  },
  {
   "cell_type": "code",
   "execution_count": 15,
   "id": "41837664",
   "metadata": {},
   "outputs": [
    {
     "name": "stderr",
     "output_type": "stream",
     "text": [
      "21:54:37 - cmdstanpy - INFO - Chain [1] start processing\n",
      "21:54:37 - cmdstanpy - INFO - Chain [1] done processing\n"
     ]
    },
    {
     "data": {
      "text/plain": [
       "<prophet.forecaster.Prophet at 0x1649715e0>"
      ]
     },
     "execution_count": 15,
     "metadata": {},
     "output_type": "execute_result"
    }
   ],
   "source": [
    "model.fit(X_train_prophet)"
   ]
  },
  {
   "cell_type": "code",
   "execution_count": 16,
   "id": "a5325ce9",
   "metadata": {},
   "outputs": [],
   "source": [
    "test_pred = model.predict(X_test_prophet)"
   ]
  },
  {
   "cell_type": "code",
   "execution_count": 17,
   "id": "312bee73",
   "metadata": {},
   "outputs": [
    {
     "data": {
      "text/plain": [
       "Index(['ds', 'trend', 'yhat_lower', 'yhat_upper', 'trend_lower', 'trend_upper',\n",
       "       'Christmas Day', 'Christmas Day_lower', 'Christmas Day_upper',\n",
       "       'Christmas Day (Observed)', 'Christmas Day (Observed)_lower',\n",
       "       'Christmas Day (Observed)_upper', 'Columbus Day', 'Columbus Day_lower',\n",
       "       'Columbus Day_upper', 'Independence Day', 'Independence Day_lower',\n",
       "       'Independence Day_upper', 'Independence Day (Observed)',\n",
       "       'Independence Day (Observed)_lower',\n",
       "       'Independence Day (Observed)_upper',\n",
       "       'Juneteenth National Independence Day',\n",
       "       'Juneteenth National Independence Day_lower',\n",
       "       'Juneteenth National Independence Day_upper',\n",
       "       'Juneteenth National Independence Day (Observed)',\n",
       "       'Juneteenth National Independence Day (Observed)_lower',\n",
       "       'Juneteenth National Independence Day (Observed)_upper', 'Labor Day',\n",
       "       'Labor Day_lower', 'Labor Day_upper', 'Martin Luther King Jr. Day',\n",
       "       'Martin Luther King Jr. Day_lower', 'Martin Luther King Jr. Day_upper',\n",
       "       'Memorial Day', 'Memorial Day_lower', 'Memorial Day_upper',\n",
       "       'New Year's Day', 'New Year's Day_lower', 'New Year's Day_upper',\n",
       "       'New Year's Day (Observed)', 'New Year's Day (Observed)_lower',\n",
       "       'New Year's Day (Observed)_upper', 'RETAIL_PRICE', 'RETAIL_PRICE_lower',\n",
       "       'RETAIL_PRICE_upper', 'Thanksgiving', 'Thanksgiving_lower',\n",
       "       'Thanksgiving_upper', 'Veterans Day', 'Veterans Day_lower',\n",
       "       'Veterans Day_upper', 'Veterans Day (Observed)',\n",
       "       'Veterans Day (Observed)_lower', 'Veterans Day (Observed)_upper',\n",
       "       'Washington's Birthday', 'Washington's Birthday_lower',\n",
       "       'Washington's Birthday_upper', 'ad_time', 'ad_time_lower',\n",
       "       'ad_time_upper', 'additive_terms', 'additive_terms_lower',\n",
       "       'additive_terms_upper', 'extra_regressors_additive',\n",
       "       'extra_regressors_additive_lower', 'extra_regressors_additive_upper',\n",
       "       'holidays', 'holidays_lower', 'holidays_upper', 'if_competitor',\n",
       "       'if_competitor_lower', 'if_competitor_upper', 'if_promo',\n",
       "       'if_promo_lower', 'if_promo_upper', 'min_sales_price',\n",
       "       'min_sales_price_lower', 'min_sales_price_upper', 'price_delta',\n",
       "       'price_delta_lower', 'price_delta_upper', 'weekly', 'weekly_lower',\n",
       "       'weekly_upper', 'yearly', 'yearly_lower', 'yearly_upper',\n",
       "       'multiplicative_terms', 'multiplicative_terms_lower',\n",
       "       'multiplicative_terms_upper', 'yhat'],\n",
       "      dtype='object')"
      ]
     },
     "execution_count": 17,
     "metadata": {},
     "output_type": "execute_result"
    }
   ],
   "source": [
    "test_pred.columns"
   ]
  },
  {
   "cell_type": "code",
   "execution_count": 18,
   "id": "c98df0ed",
   "metadata": {},
   "outputs": [
    {
     "data": {
      "text/plain": [
       "0    28.278024\n",
       "1    29.129796\n",
       "2    30.470059\n",
       "3    32.552071\n",
       "4    40.340107\n",
       "5    46.906114\n",
       "6    30.437583\n",
       "Name: yhat, dtype: float64"
      ]
     },
     "execution_count": 18,
     "metadata": {},
     "output_type": "execute_result"
    }
   ],
   "source": [
    "test_pred[\"yhat\"]"
   ]
  },
  {
   "cell_type": "code",
   "execution_count": 19,
   "id": "e5ad415c",
   "metadata": {},
   "outputs": [
    {
     "data": {
      "text/plain": [
       "SALES_DATE\n",
       "2022-07-25    25\n",
       "2022-07-26    33\n",
       "2022-07-27    44\n",
       "2022-07-28    49\n",
       "2022-07-29    43\n",
       "2022-07-30    55\n",
       "2022-07-31    45\n",
       "Name: DAILY_UNITS, dtype: object"
      ]
     },
     "execution_count": 19,
     "metadata": {},
     "output_type": "execute_result"
    }
   ],
   "source": [
    "validation_sku[\"DAILY_UNITS\"]"
   ]
  },
  {
   "cell_type": "code",
   "execution_count": 20,
   "id": "21b5dfed",
   "metadata": {},
   "outputs": [],
   "source": [
    "train_pred = model.predict(X_train_prophet)"
   ]
  },
  {
   "cell_type": "code",
   "execution_count": 28,
   "id": "7c96e568",
   "metadata": {},
   "outputs": [
    {
     "data": {
      "text/plain": [
       "Index(['ds', 'trend', 'yhat_lower', 'yhat_upper', 'trend_lower', 'trend_upper',\n",
       "       'Christmas Day', 'Christmas Day_lower', 'Christmas Day_upper',\n",
       "       'Christmas Day (Observed)', 'Christmas Day (Observed)_lower',\n",
       "       'Christmas Day (Observed)_upper', 'Columbus Day', 'Columbus Day_lower',\n",
       "       'Columbus Day_upper', 'Independence Day', 'Independence Day_lower',\n",
       "       'Independence Day_upper', 'Independence Day (Observed)',\n",
       "       'Independence Day (Observed)_lower',\n",
       "       'Independence Day (Observed)_upper',\n",
       "       'Juneteenth National Independence Day',\n",
       "       'Juneteenth National Independence Day_lower',\n",
       "       'Juneteenth National Independence Day_upper',\n",
       "       'Juneteenth National Independence Day (Observed)',\n",
       "       'Juneteenth National Independence Day (Observed)_lower',\n",
       "       'Juneteenth National Independence Day (Observed)_upper', 'Labor Day',\n",
       "       'Labor Day_lower', 'Labor Day_upper', 'Martin Luther King Jr. Day',\n",
       "       'Martin Luther King Jr. Day_lower', 'Martin Luther King Jr. Day_upper',\n",
       "       'Memorial Day', 'Memorial Day_lower', 'Memorial Day_upper',\n",
       "       'New Year's Day', 'New Year's Day_lower', 'New Year's Day_upper',\n",
       "       'New Year's Day (Observed)', 'New Year's Day (Observed)_lower',\n",
       "       'New Year's Day (Observed)_upper', 'RETAIL_PRICE', 'RETAIL_PRICE_lower',\n",
       "       'RETAIL_PRICE_upper', 'Thanksgiving', 'Thanksgiving_lower',\n",
       "       'Thanksgiving_upper', 'Veterans Day', 'Veterans Day_lower',\n",
       "       'Veterans Day_upper', 'Veterans Day (Observed)',\n",
       "       'Veterans Day (Observed)_lower', 'Veterans Day (Observed)_upper',\n",
       "       'Washington's Birthday', 'Washington's Birthday_lower',\n",
       "       'Washington's Birthday_upper', 'ad_time', 'ad_time_lower',\n",
       "       'ad_time_upper', 'additive_terms', 'additive_terms_lower',\n",
       "       'additive_terms_upper', 'extra_regressors_additive',\n",
       "       'extra_regressors_additive_lower', 'extra_regressors_additive_upper',\n",
       "       'holidays', 'holidays_lower', 'holidays_upper', 'if_competitor',\n",
       "       'if_competitor_lower', 'if_competitor_upper', 'if_promo',\n",
       "       'if_promo_lower', 'if_promo_upper', 'min_sales_price',\n",
       "       'min_sales_price_lower', 'min_sales_price_upper', 'price_delta',\n",
       "       'price_delta_lower', 'price_delta_upper', 'weekly', 'weekly_lower',\n",
       "       'weekly_upper', 'yearly', 'yearly_lower', 'yearly_upper',\n",
       "       'multiplicative_terms', 'multiplicative_terms_lower',\n",
       "       'multiplicative_terms_upper', 'yhat'],\n",
       "      dtype='object')"
      ]
     },
     "execution_count": 28,
     "metadata": {},
     "output_type": "execute_result"
    }
   ],
   "source": [
    "train_pred.columns"
   ]
  },
  {
   "cell_type": "markdown",
   "id": "27f1be75",
   "metadata": {},
   "source": [
    "### Feature eng with prophet"
   ]
  },
  {
   "cell_type": "code",
   "execution_count": 38,
   "id": "8eb7af61",
   "metadata": {},
   "outputs": [],
   "source": [
    "holiday_cols = [c for c in train_pred.columns if \"Day\" in c and \"_\" not in c]\n",
    "prophet_feats_train = train_pred[[\"trend\",\"holidays\",\"weekly\",\"yearly\"] + holiday_cols]\n",
    "prophet_feats_train.index = X_train1.index"
   ]
  },
  {
   "cell_type": "code",
   "execution_count": 39,
   "id": "02904b70",
   "metadata": {},
   "outputs": [],
   "source": [
    "X_train = train_sku[pred_cols].astype(np.float64)"
   ]
  },
  {
   "cell_type": "code",
   "execution_count": 42,
   "id": "2fdb91a8",
   "metadata": {},
   "outputs": [
    {
     "data": {
      "text/html": [
       "<div>\n",
       "<style scoped>\n",
       "    .dataframe tbody tr th:only-of-type {\n",
       "        vertical-align: middle;\n",
       "    }\n",
       "\n",
       "    .dataframe tbody tr th {\n",
       "        vertical-align: top;\n",
       "    }\n",
       "\n",
       "    .dataframe thead th {\n",
       "        text-align: right;\n",
       "    }\n",
       "</style>\n",
       "<table border=\"1\" class=\"dataframe\">\n",
       "  <thead>\n",
       "    <tr style=\"text-align: right;\">\n",
       "      <th></th>\n",
       "      <th>if_promo</th>\n",
       "      <th>if_competitor</th>\n",
       "      <th>min_sales_price</th>\n",
       "      <th>price_delta</th>\n",
       "      <th>ad_time</th>\n",
       "      <th>RETAIL_PRICE</th>\n",
       "      <th>trend</th>\n",
       "      <th>holidays</th>\n",
       "      <th>weekly</th>\n",
       "      <th>yearly</th>\n",
       "      <th>...</th>\n",
       "      <th>Independence Day (Observed)</th>\n",
       "      <th>Juneteenth National Independence Day</th>\n",
       "      <th>Juneteenth National Independence Day (Observed)</th>\n",
       "      <th>Labor Day</th>\n",
       "      <th>Martin Luther King Jr. Day</th>\n",
       "      <th>Memorial Day</th>\n",
       "      <th>New Year's Day</th>\n",
       "      <th>New Year's Day (Observed)</th>\n",
       "      <th>Veterans Day</th>\n",
       "      <th>Veterans Day (Observed)</th>\n",
       "    </tr>\n",
       "    <tr>\n",
       "      <th>SALES_DATE</th>\n",
       "      <th></th>\n",
       "      <th></th>\n",
       "      <th></th>\n",
       "      <th></th>\n",
       "      <th></th>\n",
       "      <th></th>\n",
       "      <th></th>\n",
       "      <th></th>\n",
       "      <th></th>\n",
       "      <th></th>\n",
       "      <th></th>\n",
       "      <th></th>\n",
       "      <th></th>\n",
       "      <th></th>\n",
       "      <th></th>\n",
       "      <th></th>\n",
       "      <th></th>\n",
       "      <th></th>\n",
       "      <th></th>\n",
       "      <th></th>\n",
       "      <th></th>\n",
       "    </tr>\n",
       "  </thead>\n",
       "  <tbody>\n",
       "    <tr>\n",
       "      <th>2018-05-27</th>\n",
       "      <td>0.0</td>\n",
       "      <td>0.0</td>\n",
       "      <td>99.99</td>\n",
       "      <td>-99.99</td>\n",
       "      <td>365.0</td>\n",
       "      <td>99.99</td>\n",
       "      <td>30.791424</td>\n",
       "      <td>0.000000</td>\n",
       "      <td>-3.812675</td>\n",
       "      <td>-0.206047</td>\n",
       "      <td>...</td>\n",
       "      <td>0.0</td>\n",
       "      <td>0.0</td>\n",
       "      <td>0.0</td>\n",
       "      <td>0.0</td>\n",
       "      <td>0.0</td>\n",
       "      <td>0.000000</td>\n",
       "      <td>0.0</td>\n",
       "      <td>0.0</td>\n",
       "      <td>0.0</td>\n",
       "      <td>0.0</td>\n",
       "    </tr>\n",
       "    <tr>\n",
       "      <th>2018-05-28</th>\n",
       "      <td>0.0</td>\n",
       "      <td>0.0</td>\n",
       "      <td>99.99</td>\n",
       "      <td>-99.99</td>\n",
       "      <td>366.0</td>\n",
       "      <td>99.99</td>\n",
       "      <td>30.848895</td>\n",
       "      <td>6.321197</td>\n",
       "      <td>-5.498044</td>\n",
       "      <td>-0.139633</td>\n",
       "      <td>...</td>\n",
       "      <td>0.0</td>\n",
       "      <td>0.0</td>\n",
       "      <td>0.0</td>\n",
       "      <td>0.0</td>\n",
       "      <td>0.0</td>\n",
       "      <td>6.321197</td>\n",
       "      <td>0.0</td>\n",
       "      <td>0.0</td>\n",
       "      <td>0.0</td>\n",
       "      <td>0.0</td>\n",
       "    </tr>\n",
       "    <tr>\n",
       "      <th>2018-05-29</th>\n",
       "      <td>0.0</td>\n",
       "      <td>0.0</td>\n",
       "      <td>99.99</td>\n",
       "      <td>-99.99</td>\n",
       "      <td>367.0</td>\n",
       "      <td>99.99</td>\n",
       "      <td>30.906367</td>\n",
       "      <td>0.000000</td>\n",
       "      <td>-4.731260</td>\n",
       "      <td>-0.074781</td>\n",
       "      <td>...</td>\n",
       "      <td>0.0</td>\n",
       "      <td>0.0</td>\n",
       "      <td>0.0</td>\n",
       "      <td>0.0</td>\n",
       "      <td>0.0</td>\n",
       "      <td>0.000000</td>\n",
       "      <td>0.0</td>\n",
       "      <td>0.0</td>\n",
       "      <td>0.0</td>\n",
       "      <td>0.0</td>\n",
       "    </tr>\n",
       "    <tr>\n",
       "      <th>2018-05-30</th>\n",
       "      <td>0.0</td>\n",
       "      <td>0.0</td>\n",
       "      <td>99.99</td>\n",
       "      <td>-99.99</td>\n",
       "      <td>368.0</td>\n",
       "      <td>99.99</td>\n",
       "      <td>30.963838</td>\n",
       "      <td>0.000000</td>\n",
       "      <td>-3.471682</td>\n",
       "      <td>-0.006780</td>\n",
       "      <td>...</td>\n",
       "      <td>0.0</td>\n",
       "      <td>0.0</td>\n",
       "      <td>0.0</td>\n",
       "      <td>0.0</td>\n",
       "      <td>0.0</td>\n",
       "      <td>0.000000</td>\n",
       "      <td>0.0</td>\n",
       "      <td>0.0</td>\n",
       "      <td>0.0</td>\n",
       "      <td>0.0</td>\n",
       "    </tr>\n",
       "    <tr>\n",
       "      <th>2018-05-31</th>\n",
       "      <td>0.0</td>\n",
       "      <td>0.0</td>\n",
       "      <td>99.99</td>\n",
       "      <td>-99.99</td>\n",
       "      <td>369.0</td>\n",
       "      <td>99.99</td>\n",
       "      <td>31.021310</td>\n",
       "      <td>0.000000</td>\n",
       "      <td>-1.467007</td>\n",
       "      <td>0.068657</td>\n",
       "      <td>...</td>\n",
       "      <td>0.0</td>\n",
       "      <td>0.0</td>\n",
       "      <td>0.0</td>\n",
       "      <td>0.0</td>\n",
       "      <td>0.0</td>\n",
       "      <td>0.000000</td>\n",
       "      <td>0.0</td>\n",
       "      <td>0.0</td>\n",
       "      <td>0.0</td>\n",
       "      <td>0.0</td>\n",
       "    </tr>\n",
       "    <tr>\n",
       "      <th>...</th>\n",
       "      <td>...</td>\n",
       "      <td>...</td>\n",
       "      <td>...</td>\n",
       "      <td>...</td>\n",
       "      <td>...</td>\n",
       "      <td>...</td>\n",
       "      <td>...</td>\n",
       "      <td>...</td>\n",
       "      <td>...</td>\n",
       "      <td>...</td>\n",
       "      <td>...</td>\n",
       "      <td>...</td>\n",
       "      <td>...</td>\n",
       "      <td>...</td>\n",
       "      <td>...</td>\n",
       "      <td>...</td>\n",
       "      <td>...</td>\n",
       "      <td>...</td>\n",
       "      <td>...</td>\n",
       "      <td>...</td>\n",
       "      <td>...</td>\n",
       "    </tr>\n",
       "    <tr>\n",
       "      <th>2022-07-20</th>\n",
       "      <td>1.0</td>\n",
       "      <td>0.0</td>\n",
       "      <td>79.99</td>\n",
       "      <td>-79.99</td>\n",
       "      <td>1880.0</td>\n",
       "      <td>104.99</td>\n",
       "      <td>61.987862</td>\n",
       "      <td>0.000000</td>\n",
       "      <td>-3.471682</td>\n",
       "      <td>-1.306463</td>\n",
       "      <td>...</td>\n",
       "      <td>0.0</td>\n",
       "      <td>0.0</td>\n",
       "      <td>0.0</td>\n",
       "      <td>0.0</td>\n",
       "      <td>0.0</td>\n",
       "      <td>0.000000</td>\n",
       "      <td>0.0</td>\n",
       "      <td>0.0</td>\n",
       "      <td>0.0</td>\n",
       "      <td>0.0</td>\n",
       "    </tr>\n",
       "    <tr>\n",
       "      <th>2022-07-21</th>\n",
       "      <td>1.0</td>\n",
       "      <td>0.0</td>\n",
       "      <td>79.99</td>\n",
       "      <td>-79.99</td>\n",
       "      <td>1881.0</td>\n",
       "      <td>104.99</td>\n",
       "      <td>61.970304</td>\n",
       "      <td>0.000000</td>\n",
       "      <td>-1.467007</td>\n",
       "      <td>-1.189945</td>\n",
       "      <td>...</td>\n",
       "      <td>0.0</td>\n",
       "      <td>0.0</td>\n",
       "      <td>0.0</td>\n",
       "      <td>0.0</td>\n",
       "      <td>0.0</td>\n",
       "      <td>0.000000</td>\n",
       "      <td>0.0</td>\n",
       "      <td>0.0</td>\n",
       "      <td>0.0</td>\n",
       "      <td>0.0</td>\n",
       "    </tr>\n",
       "    <tr>\n",
       "      <th>2022-07-22</th>\n",
       "      <td>1.0</td>\n",
       "      <td>0.0</td>\n",
       "      <td>79.99</td>\n",
       "      <td>-79.99</td>\n",
       "      <td>1882.0</td>\n",
       "      <td>104.99</td>\n",
       "      <td>61.952746</td>\n",
       "      <td>0.000000</td>\n",
       "      <td>6.245405</td>\n",
       "      <td>-1.071637</td>\n",
       "      <td>...</td>\n",
       "      <td>0.0</td>\n",
       "      <td>0.0</td>\n",
       "      <td>0.0</td>\n",
       "      <td>0.0</td>\n",
       "      <td>0.0</td>\n",
       "      <td>0.000000</td>\n",
       "      <td>0.0</td>\n",
       "      <td>0.0</td>\n",
       "      <td>0.0</td>\n",
       "      <td>0.0</td>\n",
       "    </tr>\n",
       "    <tr>\n",
       "      <th>2022-07-23</th>\n",
       "      <td>1.0</td>\n",
       "      <td>0.0</td>\n",
       "      <td>79.99</td>\n",
       "      <td>-79.99</td>\n",
       "      <td>1883.0</td>\n",
       "      <td>104.99</td>\n",
       "      <td>61.935189</td>\n",
       "      <td>0.000000</td>\n",
       "      <td>12.735263</td>\n",
       "      <td>-0.954118</td>\n",
       "      <td>...</td>\n",
       "      <td>0.0</td>\n",
       "      <td>0.0</td>\n",
       "      <td>0.0</td>\n",
       "      <td>0.0</td>\n",
       "      <td>0.0</td>\n",
       "      <td>0.000000</td>\n",
       "      <td>0.0</td>\n",
       "      <td>0.0</td>\n",
       "      <td>0.0</td>\n",
       "      <td>0.0</td>\n",
       "    </tr>\n",
       "    <tr>\n",
       "      <th>2022-07-24</th>\n",
       "      <td>1.0</td>\n",
       "      <td>0.0</td>\n",
       "      <td>79.99</td>\n",
       "      <td>-79.99</td>\n",
       "      <td>1884.0</td>\n",
       "      <td>104.99</td>\n",
       "      <td>61.917631</td>\n",
       "      <td>0.000000</td>\n",
       "      <td>-3.812675</td>\n",
       "      <td>-0.839344</td>\n",
       "      <td>...</td>\n",
       "      <td>0.0</td>\n",
       "      <td>0.0</td>\n",
       "      <td>0.0</td>\n",
       "      <td>0.0</td>\n",
       "      <td>0.0</td>\n",
       "      <td>0.000000</td>\n",
       "      <td>0.0</td>\n",
       "      <td>0.0</td>\n",
       "      <td>0.0</td>\n",
       "      <td>0.0</td>\n",
       "    </tr>\n",
       "  </tbody>\n",
       "</table>\n",
       "<p>1520 rows × 24 columns</p>\n",
       "</div>"
      ],
      "text/plain": [
       "            if_promo  if_competitor  min_sales_price  price_delta  ad_time  \\\n",
       "SALES_DATE                                                                   \n",
       "2018-05-27       0.0            0.0            99.99       -99.99    365.0   \n",
       "2018-05-28       0.0            0.0            99.99       -99.99    366.0   \n",
       "2018-05-29       0.0            0.0            99.99       -99.99    367.0   \n",
       "2018-05-30       0.0            0.0            99.99       -99.99    368.0   \n",
       "2018-05-31       0.0            0.0            99.99       -99.99    369.0   \n",
       "...              ...            ...              ...          ...      ...   \n",
       "2022-07-20       1.0            0.0            79.99       -79.99   1880.0   \n",
       "2022-07-21       1.0            0.0            79.99       -79.99   1881.0   \n",
       "2022-07-22       1.0            0.0            79.99       -79.99   1882.0   \n",
       "2022-07-23       1.0            0.0            79.99       -79.99   1883.0   \n",
       "2022-07-24       1.0            0.0            79.99       -79.99   1884.0   \n",
       "\n",
       "            RETAIL_PRICE      trend  holidays     weekly    yearly  ...  \\\n",
       "SALES_DATE                                                          ...   \n",
       "2018-05-27         99.99  30.791424  0.000000  -3.812675 -0.206047  ...   \n",
       "2018-05-28         99.99  30.848895  6.321197  -5.498044 -0.139633  ...   \n",
       "2018-05-29         99.99  30.906367  0.000000  -4.731260 -0.074781  ...   \n",
       "2018-05-30         99.99  30.963838  0.000000  -3.471682 -0.006780  ...   \n",
       "2018-05-31         99.99  31.021310  0.000000  -1.467007  0.068657  ...   \n",
       "...                  ...        ...       ...        ...       ...  ...   \n",
       "2022-07-20        104.99  61.987862  0.000000  -3.471682 -1.306463  ...   \n",
       "2022-07-21        104.99  61.970304  0.000000  -1.467007 -1.189945  ...   \n",
       "2022-07-22        104.99  61.952746  0.000000   6.245405 -1.071637  ...   \n",
       "2022-07-23        104.99  61.935189  0.000000  12.735263 -0.954118  ...   \n",
       "2022-07-24        104.99  61.917631  0.000000  -3.812675 -0.839344  ...   \n",
       "\n",
       "            Independence Day (Observed)  Juneteenth National Independence Day  \\\n",
       "SALES_DATE                                                                      \n",
       "2018-05-27                          0.0                                   0.0   \n",
       "2018-05-28                          0.0                                   0.0   \n",
       "2018-05-29                          0.0                                   0.0   \n",
       "2018-05-30                          0.0                                   0.0   \n",
       "2018-05-31                          0.0                                   0.0   \n",
       "...                                 ...                                   ...   \n",
       "2022-07-20                          0.0                                   0.0   \n",
       "2022-07-21                          0.0                                   0.0   \n",
       "2022-07-22                          0.0                                   0.0   \n",
       "2022-07-23                          0.0                                   0.0   \n",
       "2022-07-24                          0.0                                   0.0   \n",
       "\n",
       "            Juneteenth National Independence Day (Observed)  Labor Day  \\\n",
       "SALES_DATE                                                               \n",
       "2018-05-27                                              0.0        0.0   \n",
       "2018-05-28                                              0.0        0.0   \n",
       "2018-05-29                                              0.0        0.0   \n",
       "2018-05-30                                              0.0        0.0   \n",
       "2018-05-31                                              0.0        0.0   \n",
       "...                                                     ...        ...   \n",
       "2022-07-20                                              0.0        0.0   \n",
       "2022-07-21                                              0.0        0.0   \n",
       "2022-07-22                                              0.0        0.0   \n",
       "2022-07-23                                              0.0        0.0   \n",
       "2022-07-24                                              0.0        0.0   \n",
       "\n",
       "            Martin Luther King Jr. Day  Memorial Day  New Year's Day  \\\n",
       "SALES_DATE                                                             \n",
       "2018-05-27                         0.0      0.000000             0.0   \n",
       "2018-05-28                         0.0      6.321197             0.0   \n",
       "2018-05-29                         0.0      0.000000             0.0   \n",
       "2018-05-30                         0.0      0.000000             0.0   \n",
       "2018-05-31                         0.0      0.000000             0.0   \n",
       "...                                ...           ...             ...   \n",
       "2022-07-20                         0.0      0.000000             0.0   \n",
       "2022-07-21                         0.0      0.000000             0.0   \n",
       "2022-07-22                         0.0      0.000000             0.0   \n",
       "2022-07-23                         0.0      0.000000             0.0   \n",
       "2022-07-24                         0.0      0.000000             0.0   \n",
       "\n",
       "            New Year's Day (Observed)  Veterans Day  Veterans Day (Observed)  \n",
       "SALES_DATE                                                                    \n",
       "2018-05-27                        0.0           0.0                      0.0  \n",
       "2018-05-28                        0.0           0.0                      0.0  \n",
       "2018-05-29                        0.0           0.0                      0.0  \n",
       "2018-05-30                        0.0           0.0                      0.0  \n",
       "2018-05-31                        0.0           0.0                      0.0  \n",
       "...                               ...           ...                      ...  \n",
       "2022-07-20                        0.0           0.0                      0.0  \n",
       "2022-07-21                        0.0           0.0                      0.0  \n",
       "2022-07-22                        0.0           0.0                      0.0  \n",
       "2022-07-23                        0.0           0.0                      0.0  \n",
       "2022-07-24                        0.0           0.0                      0.0  \n",
       "\n",
       "[1520 rows x 24 columns]"
      ]
     },
     "execution_count": 42,
     "metadata": {},
     "output_type": "execute_result"
    }
   ],
   "source": [
    "X_train.merge(prophet_feats_train,left_index=True,right_index=True,how=\"left\"\\\n",
    "                                )"
   ]
  },
  {
   "cell_type": "code",
   "execution_count": 21,
   "id": "08656145",
   "metadata": {},
   "outputs": [
    {
     "data": {
      "text/plain": [
       "Index(['ds', 'trend', 'yhat_lower', 'yhat_upper', 'trend_lower', 'trend_upper',\n",
       "       'Christmas Day', 'Christmas Day_lower', 'Christmas Day_upper',\n",
       "       'Christmas Day (Observed)', 'Christmas Day (Observed)_lower',\n",
       "       'Christmas Day (Observed)_upper', 'Columbus Day', 'Columbus Day_lower',\n",
       "       'Columbus Day_upper', 'Independence Day', 'Independence Day_lower',\n",
       "       'Independence Day_upper', 'Independence Day (Observed)',\n",
       "       'Independence Day (Observed)_lower',\n",
       "       'Independence Day (Observed)_upper',\n",
       "       'Juneteenth National Independence Day',\n",
       "       'Juneteenth National Independence Day_lower',\n",
       "       'Juneteenth National Independence Day_upper',\n",
       "       'Juneteenth National Independence Day (Observed)',\n",
       "       'Juneteenth National Independence Day (Observed)_lower',\n",
       "       'Juneteenth National Independence Day (Observed)_upper', 'Labor Day',\n",
       "       'Labor Day_lower', 'Labor Day_upper', 'Martin Luther King Jr. Day',\n",
       "       'Martin Luther King Jr. Day_lower', 'Martin Luther King Jr. Day_upper',\n",
       "       'Memorial Day', 'Memorial Day_lower', 'Memorial Day_upper',\n",
       "       'New Year's Day', 'New Year's Day_lower', 'New Year's Day_upper',\n",
       "       'New Year's Day (Observed)', 'New Year's Day (Observed)_lower',\n",
       "       'New Year's Day (Observed)_upper', 'RETAIL_PRICE', 'RETAIL_PRICE_lower',\n",
       "       'RETAIL_PRICE_upper', 'Thanksgiving', 'Thanksgiving_lower',\n",
       "       'Thanksgiving_upper', 'Veterans Day', 'Veterans Day_lower',\n",
       "       'Veterans Day_upper', 'Veterans Day (Observed)',\n",
       "       'Veterans Day (Observed)_lower', 'Veterans Day (Observed)_upper',\n",
       "       'Washington's Birthday', 'Washington's Birthday_lower',\n",
       "       'Washington's Birthday_upper', 'ad_time', 'ad_time_lower',\n",
       "       'ad_time_upper', 'additive_terms', 'additive_terms_lower',\n",
       "       'additive_terms_upper', 'extra_regressors_additive',\n",
       "       'extra_regressors_additive_lower', 'extra_regressors_additive_upper',\n",
       "       'holidays', 'holidays_lower', 'holidays_upper', 'if_competitor',\n",
       "       'if_competitor_lower', 'if_competitor_upper', 'if_promo',\n",
       "       'if_promo_lower', 'if_promo_upper', 'min_sales_price',\n",
       "       'min_sales_price_lower', 'min_sales_price_upper', 'price_delta',\n",
       "       'price_delta_lower', 'price_delta_upper', 'weekly', 'weekly_lower',\n",
       "       'weekly_upper', 'yearly', 'yearly_lower', 'yearly_upper',\n",
       "       'multiplicative_terms', 'multiplicative_terms_lower',\n",
       "       'multiplicative_terms_upper', 'yhat'],\n",
       "      dtype='object')"
      ]
     },
     "execution_count": 21,
     "metadata": {},
     "output_type": "execute_result"
    }
   ],
   "source": [
    "train_pred.columns"
   ]
  },
  {
   "cell_type": "code",
   "execution_count": 45,
   "id": "949e3ab5",
   "metadata": {},
   "outputs": [
    {
     "data": {
      "text/plain": [
       "[1, 7, 7]"
      ]
     },
     "execution_count": 45,
     "metadata": {},
     "output_type": "execute_result"
    }
   ],
   "source": [
    "x = [1,2,3]\n",
    "[y if y<2 else 7 for y in x]"
   ]
  },
  {
   "cell_type": "code",
   "execution_count": 46,
   "id": "b49fc8ab",
   "metadata": {},
   "outputs": [
    {
     "data": {
      "text/plain": [
       "0.3439"
      ]
     },
     "execution_count": 46,
     "metadata": {},
     "output_type": "execute_result"
    }
   ],
   "source": [
    "1-(0.9)**4"
   ]
  },
  {
   "cell_type": "code",
   "execution_count": 47,
   "id": "48242e67",
   "metadata": {},
   "outputs": [
    {
     "data": {
      "text/plain": [
       "0.33447098976109213"
      ]
     },
     "execution_count": 47,
     "metadata": {},
     "output_type": "execute_result"
    }
   ],
   "source": [
    "(980)/(980+1950)"
   ]
  },
  {
   "cell_type": "code",
   "execution_count": 49,
   "id": "a7d8b801",
   "metadata": {},
   "outputs": [
    {
     "data": {
      "text/plain": [
       "0.0"
      ]
     },
     "execution_count": 49,
     "metadata": {},
     "output_type": "execute_result"
    }
   ],
   "source": [
    "a = np.ndarray([2,18,27,16,5,15,18])\n",
    "(a-np.mean(a)).sum()"
   ]
  },
  {
   "cell_type": "code",
   "execution_count": null,
   "id": "d56f63e3",
   "metadata": {},
   "outputs": [],
   "source": [
    "(b-np.mean(b))"
   ]
  },
  {
   "cell_type": "code",
   "execution_count": null,
   "id": "e0593eaa",
   "metadata": {},
   "outputs": [],
   "source": []
  },
  {
   "cell_type": "code",
   "execution_count": null,
   "id": "62fcde64",
   "metadata": {},
   "outputs": [],
   "source": []
  },
  {
   "cell_type": "code",
   "execution_count": null,
   "id": "47ba48a2",
   "metadata": {},
   "outputs": [],
   "source": []
  },
  {
   "cell_type": "code",
   "execution_count": null,
   "id": "fec9658c",
   "metadata": {},
   "outputs": [],
   "source": []
  },
  {
   "cell_type": "code",
   "execution_count": null,
   "id": "fc1f813f",
   "metadata": {},
   "outputs": [],
   "source": []
  },
  {
   "cell_type": "code",
   "execution_count": null,
   "id": "9e56b572",
   "metadata": {},
   "outputs": [],
   "source": []
  }
 ],
 "metadata": {
  "kernelspec": {
   "display_name": "Python 3 (ipykernel)",
   "language": "python",
   "name": "python3"
  },
  "language_info": {
   "codemirror_mode": {
    "name": "ipython",
    "version": 3
   },
   "file_extension": ".py",
   "mimetype": "text/x-python",
   "name": "python",
   "nbconvert_exporter": "python",
   "pygments_lexer": "ipython3",
   "version": "3.9.15"
  }
 },
 "nbformat": 4,
 "nbformat_minor": 5
}
