{
 "cells": [
  {
   "cell_type": "code",
   "execution_count": 1,
   "id": "cb61e66b",
   "metadata": {},
   "outputs": [
    {
     "name": "stdout",
     "output_type": "stream",
     "text": [
      "/Users/ashish1610dhiman/data_projects/bestbuy/notebooks/ashish\r\n"
     ]
    }
   ],
   "source": [
    "!pwd"
   ]
  },
  {
   "cell_type": "code",
   "execution_count": 2,
   "id": "e4454619",
   "metadata": {},
   "outputs": [],
   "source": [
    "import sys\n",
    "import matplotlib\n",
    "import numpy as np\n",
    "import pandas as pd\n",
    "import matplotlib.pyplot as plt\n",
    "import datetime\n",
    "\n",
    "sys.version\n",
    "\n",
    "sys.path.append(\"../../\")\n",
    "\n",
    "from src.ad_hmm import sku_predict\n",
    "from src.utils import *"
   ]
  },
  {
   "cell_type": "code",
   "execution_count": 3,
   "id": "d63d4e99",
   "metadata": {},
   "outputs": [],
   "source": [
    "%load_ext autoreload \n",
    "%autoreload 2"
   ]
  },
  {
   "cell_type": "markdown",
   "id": "04e69958",
   "metadata": {},
   "source": [
    "### Create 1/2 sku dataset to import in matlab and forecast"
   ]
  },
  {
   "cell_type": "code",
   "execution_count": 4,
   "id": "c1896d03",
   "metadata": {},
   "outputs": [
    {
     "name": "stdout",
     "output_type": "stream",
     "text": [
      "(846632, 15)\n"
     ]
    }
   ],
   "source": [
    "train_test = pd.read_csv(\"../../data/train_validation_marker.csv\")\n",
    "train_test[\"SALES_DATE\"] = pd.to_datetime(train_test[\"SALES_DATE\"])\n",
    "print (train_test.shape)"
   ]
  },
  {
   "cell_type": "code",
   "execution_count": 6,
   "id": "fd4c95a1",
   "metadata": {},
   "outputs": [
    {
     "data": {
      "text/plain": [
       "((797490, 15), (3815, 15))"
      ]
     },
     "execution_count": 6,
     "metadata": {},
     "output_type": "execute_result"
    }
   ],
   "source": [
    "#clean train/test\n",
    "train = train_test[(train_test.validation==False) & (train_test.validation_clean==True)]\n",
    "validation = train_test[(train_test.validation==True) & (train_test.validation_clean==True)]\n",
    "train.shape,validation.shape"
   ]
  },
  {
   "cell_type": "code",
   "execution_count": 7,
   "id": "186289ba",
   "metadata": {},
   "outputs": [
    {
     "data": {
      "text/plain": [
       "Index(['Encoded_SKU_ID', 'SALES_DATE', 'SUBCLASS_NAME', 'CLASS_NAME',\n",
       "       'ML_NAME', 'CATEGORY_NAME', 'RETAIL_PRICE', 'PROMO_PRICE',\n",
       "       'COMPETITOR_PRICE', 'Inventory', 'DAILY_UNITS', 'max_SALES_DATE',\n",
       "       'delta_days', 'validation', 'validation_clean'],\n",
       "      dtype='object')"
      ]
     },
     "execution_count": 7,
     "metadata": {},
     "output_type": "execute_result"
    }
   ],
   "source": [
    "sku_id = 479\n",
    "train_sku = train.loc[train.Encoded_SKU_ID == sku_id]\n",
    "train_sku.columns"
   ]
  },
  {
   "cell_type": "code",
   "execution_count": 34,
   "id": "7c2abffe",
   "metadata": {},
   "outputs": [
    {
     "name": "stderr",
     "output_type": "stream",
     "text": [
      "/var/folders/kb/v0p0ypbd0wx1q2qb1kpxmmcc0000gn/T/ipykernel_60533/3526041755.py:1: SettingWithCopyWarning: \n",
      "A value is trying to be set on a copy of a slice from a DataFrame.\n",
      "Try using .loc[row_indexer,col_indexer] = value instead\n",
      "\n",
      "See the caveats in the documentation: https://pandas.pydata.org/pandas-docs/stable/user_guide/indexing.html#returning-a-view-versus-a-copy\n",
      "  train_sku[\"if_promo\"] = (~train_sku[\"PROMO_PRICE\"].isin([\"?\"])).astype(\"int\")\n",
      "/var/folders/kb/v0p0ypbd0wx1q2qb1kpxmmcc0000gn/T/ipykernel_60533/3526041755.py:2: SettingWithCopyWarning: \n",
      "A value is trying to be set on a copy of a slice from a DataFrame.\n",
      "Try using .loc[row_indexer,col_indexer] = value instead\n",
      "\n",
      "See the caveats in the documentation: https://pandas.pydata.org/pandas-docs/stable/user_guide/indexing.html#returning-a-view-versus-a-copy\n",
      "  train_sku[\"if_competitor\"] = (~train_sku[\"COMPETITOR_PRICE\"].isin([\"?\"])).astype(\"int\")\n",
      "/var/folders/kb/v0p0ypbd0wx1q2qb1kpxmmcc0000gn/T/ipykernel_60533/3526041755.py:4: SettingWithCopyWarning: \n",
      "A value is trying to be set on a copy of a slice from a DataFrame.\n",
      "Try using .loc[row_indexer,col_indexer] = value instead\n",
      "\n",
      "See the caveats in the documentation: https://pandas.pydata.org/pandas-docs/stable/user_guide/indexing.html#returning-a-view-versus-a-copy\n",
      "  train_sku[\"min_sales_price\"] = pd.to_numeric(np.where(train_sku.if_promo>0, train_sku.PROMO_PRICE, train_sku.RETAIL_PRICE))\n"
     ]
    }
   ],
   "source": [
    "train_sku[\"if_promo\"] = (~train_sku[\"PROMO_PRICE\"].isin([\"?\"])).astype(\"int\")\n",
    "train_sku[\"if_competitor\"] = (~train_sku[\"COMPETITOR_PRICE\"].isin([\"?\"])).astype(\"int\")\n",
    "\n",
    "train_sku[\"min_sales_price\"] = pd.to_numeric(np.where(train_sku.if_promo>0, train_sku.PROMO_PRICE, train_sku.RETAIL_PRICE))"
   ]
  },
  {
   "cell_type": "code",
   "execution_count": 35,
   "id": "948057ab",
   "metadata": {},
   "outputs": [
    {
     "data": {
      "text/html": [
       "<div>\n",
       "<style scoped>\n",
       "    .dataframe tbody tr th:only-of-type {\n",
       "        vertical-align: middle;\n",
       "    }\n",
       "\n",
       "    .dataframe tbody tr th {\n",
       "        vertical-align: top;\n",
       "    }\n",
       "\n",
       "    .dataframe thead th {\n",
       "        text-align: right;\n",
       "    }\n",
       "</style>\n",
       "<table border=\"1\" class=\"dataframe\">\n",
       "  <thead>\n",
       "    <tr style=\"text-align: right;\">\n",
       "      <th></th>\n",
       "      <th>Encoded_SKU_ID</th>\n",
       "      <th>SALES_DATE</th>\n",
       "      <th>SUBCLASS_NAME</th>\n",
       "      <th>CLASS_NAME</th>\n",
       "      <th>ML_NAME</th>\n",
       "      <th>CATEGORY_NAME</th>\n",
       "      <th>RETAIL_PRICE</th>\n",
       "      <th>PROMO_PRICE</th>\n",
       "      <th>COMPETITOR_PRICE</th>\n",
       "      <th>Inventory</th>\n",
       "      <th>DAILY_UNITS</th>\n",
       "      <th>max_SALES_DATE</th>\n",
       "      <th>delta_days</th>\n",
       "      <th>validation</th>\n",
       "      <th>validation_clean</th>\n",
       "      <th>if_promo</th>\n",
       "      <th>if_competitor</th>\n",
       "      <th>min_sales_price</th>\n",
       "      <th>comp_price_clean</th>\n",
       "    </tr>\n",
       "  </thead>\n",
       "  <tbody>\n",
       "    <tr>\n",
       "      <th>1275</th>\n",
       "      <td>479</td>\n",
       "      <td>2020-02-03</td>\n",
       "      <td>DISHWASHER</td>\n",
       "      <td>DISHWASHERS</td>\n",
       "      <td>ML - Kitchen</td>\n",
       "      <td>VP - Major Appliances</td>\n",
       "      <td>944.99</td>\n",
       "      <td>?</td>\n",
       "      <td>939</td>\n",
       "      <td>Fully-Stocked</td>\n",
       "      <td>1</td>\n",
       "      <td>2022-07-31</td>\n",
       "      <td>909</td>\n",
       "      <td>False</td>\n",
       "      <td>True</td>\n",
       "      <td>0</td>\n",
       "      <td>1</td>\n",
       "      <td>944.99</td>\n",
       "      <td>939.0</td>\n",
       "    </tr>\n",
       "    <tr>\n",
       "      <th>2883</th>\n",
       "      <td>479</td>\n",
       "      <td>2019-11-10</td>\n",
       "      <td>DISHWASHER</td>\n",
       "      <td>DISHWASHERS</td>\n",
       "      <td>ML - Kitchen</td>\n",
       "      <td>VP - Major Appliances</td>\n",
       "      <td>944.99</td>\n",
       "      <td>649.99</td>\n",
       "      <td>?</td>\n",
       "      <td>Constrained</td>\n",
       "      <td>50</td>\n",
       "      <td>2022-07-31</td>\n",
       "      <td>994</td>\n",
       "      <td>False</td>\n",
       "      <td>True</td>\n",
       "      <td>1</td>\n",
       "      <td>0</td>\n",
       "      <td>649.99</td>\n",
       "      <td>NaN</td>\n",
       "    </tr>\n",
       "    <tr>\n",
       "      <th>4322</th>\n",
       "      <td>479</td>\n",
       "      <td>2020-03-04</td>\n",
       "      <td>DISHWASHER</td>\n",
       "      <td>DISHWASHERS</td>\n",
       "      <td>ML - Kitchen</td>\n",
       "      <td>VP - Major Appliances</td>\n",
       "      <td>944.99</td>\n",
       "      <td>?</td>\n",
       "      <td>939</td>\n",
       "      <td>Fully-Stocked</td>\n",
       "      <td>3</td>\n",
       "      <td>2022-07-31</td>\n",
       "      <td>879</td>\n",
       "      <td>False</td>\n",
       "      <td>True</td>\n",
       "      <td>0</td>\n",
       "      <td>1</td>\n",
       "      <td>944.99</td>\n",
       "      <td>939.0</td>\n",
       "    </tr>\n",
       "    <tr>\n",
       "      <th>5403</th>\n",
       "      <td>479</td>\n",
       "      <td>2020-09-18</td>\n",
       "      <td>DISHWASHER</td>\n",
       "      <td>DISHWASHERS</td>\n",
       "      <td>ML - Kitchen</td>\n",
       "      <td>VP - Major Appliances</td>\n",
       "      <td>944.99</td>\n",
       "      <td>?</td>\n",
       "      <td>943</td>\n",
       "      <td>Fully-Stocked</td>\n",
       "      <td>9</td>\n",
       "      <td>2022-07-31</td>\n",
       "      <td>681</td>\n",
       "      <td>False</td>\n",
       "      <td>True</td>\n",
       "      <td>0</td>\n",
       "      <td>1</td>\n",
       "      <td>944.99</td>\n",
       "      <td>943.0</td>\n",
       "    </tr>\n",
       "    <tr>\n",
       "      <th>6930</th>\n",
       "      <td>479</td>\n",
       "      <td>2021-01-12</td>\n",
       "      <td>DISHWASHER</td>\n",
       "      <td>DISHWASHERS</td>\n",
       "      <td>ML - Kitchen</td>\n",
       "      <td>VP - Major Appliances</td>\n",
       "      <td>944.99</td>\n",
       "      <td>749.99</td>\n",
       "      <td>748</td>\n",
       "      <td>Moderate</td>\n",
       "      <td>16</td>\n",
       "      <td>2022-07-31</td>\n",
       "      <td>565</td>\n",
       "      <td>False</td>\n",
       "      <td>True</td>\n",
       "      <td>1</td>\n",
       "      <td>1</td>\n",
       "      <td>749.99</td>\n",
       "      <td>748.0</td>\n",
       "    </tr>\n",
       "  </tbody>\n",
       "</table>\n",
       "</div>"
      ],
      "text/plain": [
       "      Encoded_SKU_ID SALES_DATE SUBCLASS_NAME   CLASS_NAME       ML_NAME  \\\n",
       "1275             479 2020-02-03    DISHWASHER  DISHWASHERS  ML - Kitchen   \n",
       "2883             479 2019-11-10    DISHWASHER  DISHWASHERS  ML - Kitchen   \n",
       "4322             479 2020-03-04    DISHWASHER  DISHWASHERS  ML - Kitchen   \n",
       "5403             479 2020-09-18    DISHWASHER  DISHWASHERS  ML - Kitchen   \n",
       "6930             479 2021-01-12    DISHWASHER  DISHWASHERS  ML - Kitchen   \n",
       "\n",
       "              CATEGORY_NAME  RETAIL_PRICE PROMO_PRICE COMPETITOR_PRICE  \\\n",
       "1275  VP - Major Appliances        944.99           ?              939   \n",
       "2883  VP - Major Appliances        944.99      649.99                ?   \n",
       "4322  VP - Major Appliances        944.99           ?              939   \n",
       "5403  VP - Major Appliances        944.99           ?              943   \n",
       "6930  VP - Major Appliances        944.99      749.99              748   \n",
       "\n",
       "          Inventory  DAILY_UNITS max_SALES_DATE  delta_days  validation  \\\n",
       "1275  Fully-Stocked            1     2022-07-31         909       False   \n",
       "2883    Constrained           50     2022-07-31         994       False   \n",
       "4322  Fully-Stocked            3     2022-07-31         879       False   \n",
       "5403  Fully-Stocked            9     2022-07-31         681       False   \n",
       "6930       Moderate           16     2022-07-31         565       False   \n",
       "\n",
       "      validation_clean  if_promo  if_competitor  min_sales_price  \\\n",
       "1275              True         0              1           944.99   \n",
       "2883              True         1              0           649.99   \n",
       "4322              True         0              1           944.99   \n",
       "5403              True         0              1           944.99   \n",
       "6930              True         1              1           749.99   \n",
       "\n",
       "      comp_price_clean  \n",
       "1275             939.0  \n",
       "2883               NaN  \n",
       "4322             939.0  \n",
       "5403             943.0  \n",
       "6930             748.0  "
      ]
     },
     "execution_count": 35,
     "metadata": {},
     "output_type": "execute_result"
    }
   ],
   "source": [
    "train_sku.head()"
   ]
  },
  {
   "cell_type": "code",
   "execution_count": 36,
   "id": "7ad1022c",
   "metadata": {},
   "outputs": [
    {
     "name": "stderr",
     "output_type": "stream",
     "text": [
      "/var/folders/kb/v0p0ypbd0wx1q2qb1kpxmmcc0000gn/T/ipykernel_60533/1354638414.py:1: SettingWithCopyWarning: \n",
      "A value is trying to be set on a copy of a slice from a DataFrame.\n",
      "Try using .loc[row_indexer,col_indexer] = value instead\n",
      "\n",
      "See the caveats in the documentation: https://pandas.pydata.org/pandas-docs/stable/user_guide/indexing.html#returning-a-view-versus-a-copy\n",
      "  train_sku[\"comp_price_clean\"] = pd.to_numeric(np.where(train_sku.if_competitor>0,train_sku.COMPETITOR_PRICE, np.nan))\n"
     ]
    }
   ],
   "source": [
    "train_sku[\"comp_price_clean\"] = pd.to_numeric(np.where(train_sku.if_competitor>0,train_sku.COMPETITOR_PRICE, np.nan))"
   ]
  },
  {
   "cell_type": "code",
   "execution_count": 37,
   "id": "46b71400",
   "metadata": {},
   "outputs": [
    {
     "name": "stderr",
     "output_type": "stream",
     "text": [
      "/var/folders/kb/v0p0ypbd0wx1q2qb1kpxmmcc0000gn/T/ipykernel_60533/4294698538.py:1: SettingWithCopyWarning: \n",
      "A value is trying to be set on a copy of a slice from a DataFrame.\n",
      "Try using .loc[row_indexer,col_indexer] = value instead\n",
      "\n",
      "See the caveats in the documentation: https://pandas.pydata.org/pandas-docs/stable/user_guide/indexing.html#returning-a-view-versus-a-copy\n",
      "  train_sku[\"price_delta\"] = np.where(train_sku.if_competitor>0, train_sku.min_sales_price - train_sku.comp_price_clean,\\\n"
     ]
    }
   ],
   "source": [
    "train_sku[\"price_delta\"] = np.where(train_sku.if_competitor>0, train_sku.min_sales_price - train_sku.comp_price_clean,\\\n",
    "                                   -train_sku.min_sales_price)"
   ]
  },
  {
   "cell_type": "code",
   "execution_count": 49,
   "id": "fb621389",
   "metadata": {},
   "outputs": [
    {
     "name": "stderr",
     "output_type": "stream",
     "text": [
      "/var/folders/kb/v0p0ypbd0wx1q2qb1kpxmmcc0000gn/T/ipykernel_60533/4033675466.py:1: SettingWithCopyWarning: \n",
      "A value is trying to be set on a copy of a slice from a DataFrame.\n",
      "Try using .loc[row_indexer,col_indexer] = value instead\n",
      "\n",
      "See the caveats in the documentation: https://pandas.pydata.org/pandas-docs/stable/user_guide/indexing.html#returning-a-view-versus-a-copy\n",
      "  train_sku[[\"year\",\"month\",\"date\"]] = pd.DataFrame(train_sku[\"SALES_DATE\"].astype(\"str\").apply(lambda x: x.split(\"-\")).tolist(),\\\n",
      "/var/folders/kb/v0p0ypbd0wx1q2qb1kpxmmcc0000gn/T/ipykernel_60533/4033675466.py:1: SettingWithCopyWarning: \n",
      "A value is trying to be set on a copy of a slice from a DataFrame.\n",
      "Try using .loc[row_indexer,col_indexer] = value instead\n",
      "\n",
      "See the caveats in the documentation: https://pandas.pydata.org/pandas-docs/stable/user_guide/indexing.html#returning-a-view-versus-a-copy\n",
      "  train_sku[[\"year\",\"month\",\"date\"]] = pd.DataFrame(train_sku[\"SALES_DATE\"].astype(\"str\").apply(lambda x: x.split(\"-\")).tolist(),\\\n",
      "/var/folders/kb/v0p0ypbd0wx1q2qb1kpxmmcc0000gn/T/ipykernel_60533/4033675466.py:1: SettingWithCopyWarning: \n",
      "A value is trying to be set on a copy of a slice from a DataFrame.\n",
      "Try using .loc[row_indexer,col_indexer] = value instead\n",
      "\n",
      "See the caveats in the documentation: https://pandas.pydata.org/pandas-docs/stable/user_guide/indexing.html#returning-a-view-versus-a-copy\n",
      "  train_sku[[\"year\",\"month\",\"date\"]] = pd.DataFrame(train_sku[\"SALES_DATE\"].astype(\"str\").apply(lambda x: x.split(\"-\")).tolist(),\\\n"
     ]
    }
   ],
   "source": [
    "train_sku[[\"year\",\"month\",\"date\"]] = pd.DataFrame(train_sku[\"SALES_DATE\"].astype(\"str\").apply(lambda x: x.split(\"-\")).tolist(),\\\n",
    "            index = train_sku.index)"
   ]
  },
  {
   "cell_type": "code",
   "execution_count": 53,
   "id": "02f94f42",
   "metadata": {},
   "outputs": [],
   "source": [
    "train_sku[[\"year\",\"month\",\"date\",\"if_promo\",\"if_competitor\",\"min_sales_price\",\"price_delta\",\"DAILY_UNITS\"\\\n",
    "          ]].to_csv(f\"../../data/markov_regression_train_{sku_id}.csv\",index=False)"
   ]
  },
  {
   "cell_type": "code",
   "execution_count": 52,
   "id": "d4c0bcb4",
   "metadata": {},
   "outputs": [
    {
     "data": {
      "text/html": [
       "<div>\n",
       "<style scoped>\n",
       "    .dataframe tbody tr th:only-of-type {\n",
       "        vertical-align: middle;\n",
       "    }\n",
       "\n",
       "    .dataframe tbody tr th {\n",
       "        vertical-align: top;\n",
       "    }\n",
       "\n",
       "    .dataframe thead th {\n",
       "        text-align: right;\n",
       "    }\n",
       "</style>\n",
       "<table border=\"1\" class=\"dataframe\">\n",
       "  <thead>\n",
       "    <tr style=\"text-align: right;\">\n",
       "      <th></th>\n",
       "      <th>year</th>\n",
       "      <th>month</th>\n",
       "      <th>date</th>\n",
       "      <th>if_promo</th>\n",
       "      <th>if_competitor</th>\n",
       "      <th>min_sales_price</th>\n",
       "      <th>price_delta</th>\n",
       "      <th>DAILY_UNITS</th>\n",
       "    </tr>\n",
       "  </thead>\n",
       "  <tbody>\n",
       "    <tr>\n",
       "      <th>1275</th>\n",
       "      <td>2020</td>\n",
       "      <td>02</td>\n",
       "      <td>03</td>\n",
       "      <td>0</td>\n",
       "      <td>1</td>\n",
       "      <td>944.99</td>\n",
       "      <td>5.99</td>\n",
       "      <td>1</td>\n",
       "    </tr>\n",
       "    <tr>\n",
       "      <th>2883</th>\n",
       "      <td>2019</td>\n",
       "      <td>11</td>\n",
       "      <td>10</td>\n",
       "      <td>1</td>\n",
       "      <td>0</td>\n",
       "      <td>649.99</td>\n",
       "      <td>-649.99</td>\n",
       "      <td>50</td>\n",
       "    </tr>\n",
       "    <tr>\n",
       "      <th>4322</th>\n",
       "      <td>2020</td>\n",
       "      <td>03</td>\n",
       "      <td>04</td>\n",
       "      <td>0</td>\n",
       "      <td>1</td>\n",
       "      <td>944.99</td>\n",
       "      <td>5.99</td>\n",
       "      <td>3</td>\n",
       "    </tr>\n",
       "    <tr>\n",
       "      <th>5403</th>\n",
       "      <td>2020</td>\n",
       "      <td>09</td>\n",
       "      <td>18</td>\n",
       "      <td>0</td>\n",
       "      <td>1</td>\n",
       "      <td>944.99</td>\n",
       "      <td>1.99</td>\n",
       "      <td>9</td>\n",
       "    </tr>\n",
       "    <tr>\n",
       "      <th>6930</th>\n",
       "      <td>2021</td>\n",
       "      <td>01</td>\n",
       "      <td>12</td>\n",
       "      <td>1</td>\n",
       "      <td>1</td>\n",
       "      <td>749.99</td>\n",
       "      <td>1.99</td>\n",
       "      <td>16</td>\n",
       "    </tr>\n",
       "  </tbody>\n",
       "</table>\n",
       "</div>"
      ],
      "text/plain": [
       "      year month date  if_promo  if_competitor  min_sales_price  price_delta  \\\n",
       "1275  2020    02   03         0              1           944.99         5.99   \n",
       "2883  2019    11   10         1              0           649.99      -649.99   \n",
       "4322  2020    03   04         0              1           944.99         5.99   \n",
       "5403  2020    09   18         0              1           944.99         1.99   \n",
       "6930  2021    01   12         1              1           749.99         1.99   \n",
       "\n",
       "      DAILY_UNITS  \n",
       "1275            1  \n",
       "2883           50  \n",
       "4322            3  \n",
       "5403            9  \n",
       "6930           16  "
      ]
     },
     "execution_count": 52,
     "metadata": {},
     "output_type": "execute_result"
    }
   ],
   "source": [
    "train_sku[[\"year\",\"month\",\"date\",\"if_promo\",\"if_competitor\",\"min_sales_price\",\"price_delta\",\"DAILY_UNITS\"\\\n",
    "          ]].head()"
   ]
  },
  {
   "cell_type": "code",
   "execution_count": 40,
   "id": "19642899",
   "metadata": {},
   "outputs": [
    {
     "data": {
      "text/plain": [
       "(1065, 20)"
      ]
     },
     "execution_count": 40,
     "metadata": {},
     "output_type": "execute_result"
    }
   ],
   "source": [
    "train_sku.shape"
   ]
  }
 ],
 "metadata": {
  "kernelspec": {
   "display_name": "Python 3 (ipykernel)",
   "language": "python",
   "name": "python3"
  },
  "language_info": {
   "codemirror_mode": {
    "name": "ipython",
    "version": 3
   },
   "file_extension": ".py",
   "mimetype": "text/x-python",
   "name": "python",
   "nbconvert_exporter": "python",
   "pygments_lexer": "ipython3",
   "version": "3.9.15"
  }
 },
 "nbformat": 4,
 "nbformat_minor": 5
}
